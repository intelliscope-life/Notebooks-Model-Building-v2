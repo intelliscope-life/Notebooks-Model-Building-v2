{
 "cells": [
  {
   "cell_type": "code",
   "execution_count": 25,
   "metadata": {},
   "outputs": [],
   "source": [
    "data_dir='/home/ubuntu/intelliscope/ecg_data/'# fill # data_dir/ecg_other_train, ecg_other_val, ... ecg_other_train_imb, ..should be there\n",
    "model_dir='/home/ubuntu/intelliscope/notebooks/physionet2017/ecg/models/'"
   ]
  },
  {
   "cell_type": "code",
   "execution_count": 26,
   "metadata": {},
   "outputs": [],
   "source": [
    "PARAMS = {\n",
    "          'epochs' : 15,\n",
    "         'validation_split':0.15,\n",
    "         'batch_size' : 32,\n",
    "            'model': 'complex',\n",
    "          'data_balanced':False,\n",
    "            'num_epochs':15,\n",
    "            'opt':'adam',\n",
    "            'tags': ['instance_norm added', 'dropout added'],\n",
    "         }"
   ]
  },
  {
   "cell_type": "code",
   "execution_count": 27,
   "metadata": {},
   "outputs": [],
   "source": [
    "import os\n",
    "from tensorflow import keras\n",
    "from keras.models import Sequential\n",
    "from keras.layers import Conv2D, MaxPooling2D\n",
    "from keras.layers import Activation, Dropout, Flatten, Dense, Lambda\n",
    "from keras import backend as K\n",
    "import tensorflow_addons as tfa\n",
    "\n",
    "\n",
    "from PIL import ImageFile\n",
    "ImageFile.LOAD_TRUNCATED_IMAGES = True\n",
    "import tensorflow as tf"
   ]
  },
  {
   "cell_type": "code",
   "execution_count": 28,
   "metadata": {},
   "outputs": [],
   "source": [
    "\n",
    "\n",
    "#k1,k2=100,100\n",
    "k1,k2=272, 462\n",
    "\n",
    "model = tf.keras.models.Sequential([\n",
    "    tf.keras.layers.Conv2D(4, kernel_size=(7,7), padding='same', activation='relu', input_shape=(272,462, 3)),\n",
    "    tf.keras.layers.MaxPool2D(pool_size=(3,3)),\n",
    "    tfa.layers.InstanceNormalization(axis=3, center=True, scale=True,beta_initializer=\"random_uniform\",gamma_initializer=\"random_uniform\"),\n",
    "    tf.keras.layers.Dropout(0.2),\n",
    "    tf.keras.layers.Conv2D(16, kernel_size=(7,7), activation='relu'),\n",
    "    tf.keras.layers.MaxPool2D(pool_size=(3,3)),\n",
    "    tfa.layers.InstanceNormalization(axis=3, center=True, scale=True,beta_initializer=\"random_uniform\",gamma_initializer=\"random_uniform\"),\n",
    "    tf.keras.layers.Dropout(0.2),\n",
    "    tf.keras.layers.Conv2D(32, kernel_size=(7,7), activation='relu'),\n",
    "    tf.keras.layers.MaxPool2D(pool_size=(3,3)),\n",
    "    tfa.layers.InstanceNormalization(axis=3, center=True, scale=True,beta_initializer=\"random_uniform\",gamma_initializer=\"random_uniform\"),\n",
    "    tf.keras.layers.Dropout(0.2),\n",
    "    tf.keras.layers.Conv2D(64, kernel_size=(3,3), activation='relu'),\n",
    "    tfa.layers.InstanceNormalization(axis=3, center=True, scale=True,beta_initializer=\"random_uniform\",gamma_initializer=\"random_uniform\"),\n",
    "    tf.keras.layers.Flatten(),\n",
    "    tf.keras.layers.Dense(84, activation='relu'),\n",
    "    tf.keras.layers.Dropout(0.2),\n",
    "    tf.keras.layers.Dense(20, activation='relu'),\n",
    "    tf.keras.layers.Dense(2, activation='softmax')\n",
    "])\n",
    "\n",
    "model.compile(loss=keras.losses.CategoricalCrossentropy(),\n",
    "              optimizer=PARAMS['opt'],\n",
    "              metrics=[keras.metrics.CategoricalAccuracy(), keras.metrics.Recall(),keras.metrics.Precision()])"
   ]
  },
  {
   "cell_type": "code",
   "execution_count": 29,
   "metadata": {},
   "outputs": [
    {
     "name": "stdout",
     "output_type": "stream",
     "text": [
      "Found 4078 images belonging to 2 classes.\n",
      "Found 873 images belonging to 2 classes.\n",
      "WARNING:tensorflow:sample_weight modes were coerced from\n",
      "  ...\n",
      "    to  \n",
      "  ['...']\n",
      "WARNING:tensorflow:sample_weight modes were coerced from\n",
      "  ...\n",
      "    to  \n",
      "  ['...']\n",
      "Train for 128 steps, validate for 28 steps\n",
      "Epoch 1/15\n",
      "128/128 [==============================] - 370s 3s/step - loss: 0.3794 - categorical_accuracy: 0.8720 - recall_4: 0.8720 - precision_4: 0.8720 - val_loss: 0.4371 - val_categorical_accuracy: 0.8545 - val_recall_4: 0.8545 - val_precision_4: 0.8545\n",
      "Epoch 2/15\n",
      "128/128 [==============================] - 364s 3s/step - loss: 0.3428 - categorical_accuracy: 0.8769 - recall_4: 0.8769 - precision_4: 0.8769 - val_loss: 0.3513 - val_categorical_accuracy: 0.8545 - val_recall_4: 0.8545 - val_precision_4: 0.8545\n",
      "Epoch 3/15\n",
      "128/128 [==============================] - 373s 3s/step - loss: 0.3285 - categorical_accuracy: 0.8796 - recall_4: 0.8796 - precision_4: 0.8796 - val_loss: 0.3209 - val_categorical_accuracy: 0.8786 - val_recall_4: 0.8786 - val_precision_4: 0.8786\n",
      "Epoch 4/15\n",
      "128/128 [==============================] - 364s 3s/step - loss: 0.3039 - categorical_accuracy: 0.8897 - recall_4: 0.8897 - precision_4: 0.8897 - val_loss: 0.3390 - val_categorical_accuracy: 0.8855 - val_recall_4: 0.8855 - val_precision_4: 0.8855\n",
      "Epoch 5/15\n",
      "128/128 [==============================] - 363s 3s/step - loss: 0.2787 - categorical_accuracy: 0.8995 - recall_4: 0.8995 - precision_4: 0.8995 - val_loss: 0.2915 - val_categorical_accuracy: 0.8969 - val_recall_4: 0.8969 - val_precision_4: 0.8969\n",
      "Epoch 6/15\n",
      "128/128 [==============================] - 376s 3s/step - loss: 0.2672 - categorical_accuracy: 0.9083 - recall_4: 0.9083 - precision_4: 0.9083 - val_loss: 0.3003 - val_categorical_accuracy: 0.9015 - val_recall_4: 0.9015 - val_precision_4: 0.9015\n",
      "Epoch 7/15\n",
      "128/128 [==============================] - 362s 3s/step - loss: 0.2525 - categorical_accuracy: 0.9068 - recall_4: 0.9068 - precision_4: 0.9068 - val_loss: 0.2540 - val_categorical_accuracy: 0.9141 - val_recall_4: 0.9141 - val_precision_4: 0.9141\n",
      "Epoch 8/15\n",
      "128/128 [==============================] - 373s 3s/step - loss: 0.2411 - categorical_accuracy: 0.9149 - recall_4: 0.9149 - precision_4: 0.9149 - val_loss: 0.2448 - val_categorical_accuracy: 0.9210 - val_recall_4: 0.9210 - val_precision_4: 0.9210\n",
      "Epoch 9/15\n",
      "128/128 [==============================] - 366s 3s/step - loss: 0.2282 - categorical_accuracy: 0.9181 - recall_4: 0.9181 - precision_4: 0.9181 - val_loss: 0.2465 - val_categorical_accuracy: 0.9129 - val_recall_4: 0.9129 - val_precision_4: 0.9129\n",
      "Epoch 10/15\n",
      "128/128 [==============================] - 366s 3s/step - loss: 0.2153 - categorical_accuracy: 0.9240 - recall_4: 0.9240 - precision_4: 0.9240 - val_loss: 0.2637 - val_categorical_accuracy: 0.9061 - val_recall_4: 0.9061 - val_precision_4: 0.9061\n",
      "Epoch 11/15\n",
      "128/128 [==============================] - 374s 3s/step - loss: 0.2032 - categorical_accuracy: 0.9264 - recall_4: 0.9264 - precision_4: 0.9264 - val_loss: 0.2635 - val_categorical_accuracy: 0.9118 - val_recall_4: 0.9118 - val_precision_4: 0.9118\n",
      "Epoch 12/15\n",
      "128/128 [==============================] - 364s 3s/step - loss: 0.2008 - categorical_accuracy: 0.9242 - recall_4: 0.9242 - precision_4: 0.9242 - val_loss: 0.2415 - val_categorical_accuracy: 0.9118 - val_recall_4: 0.9118 - val_precision_4: 0.9118\n",
      "Epoch 13/15\n",
      "128/128 [==============================] - 363s 3s/step - loss: 0.1866 - categorical_accuracy: 0.9326 - recall_4: 0.9326 - precision_4: 0.9326 - val_loss: 0.2183 - val_categorical_accuracy: 0.9255 - val_recall_4: 0.9255 - val_precision_4: 0.9255\n",
      "Epoch 14/15\n",
      "128/128 [==============================] - 375s 3s/step - loss: 0.1830 - categorical_accuracy: 0.9372 - recall_4: 0.9372 - precision_4: 0.9372 - val_loss: 0.2184 - val_categorical_accuracy: 0.9198 - val_recall_4: 0.9198 - val_precision_4: 0.9198\n",
      "Epoch 15/15\n",
      "128/128 [==============================] - 364s 3s/step - loss: 0.1915 - categorical_accuracy: 0.9382 - recall_4: 0.9382 - precision_4: 0.9382 - val_loss: 0.2247 - val_categorical_accuracy: 0.9244 - val_recall_4: 0.9244 - val_precision_4: 0.9244\n"
     ]
    }
   ],
   "source": [
    "from keras.preprocessing.image import ImageDataGenerator, array_to_img, img_to_array, load_img\n",
    "\n",
    "batch_size=PARAMS['batch_size']\n",
    "\n",
    "train_datagen = ImageDataGenerator(\n",
    "        rescale=1./255,\n",
    "        shear_range=0.2,\n",
    "        zoom_range=0.2,\n",
    "        horizontal_flip=True)\n",
    "\n",
    "val_datagen = ImageDataGenerator(rescale=1./255)\n",
    "train_generator = train_datagen.flow_from_directory(\n",
    "        data_dir+'ecg_other_train_imb/',  # this is the target directory\n",
    "        target_size=(k1, k2),  # all images will be resized to 150x150\n",
    "        batch_size=batch_size,\n",
    "        class_mode='categorical')  # since we use binary_crossentropy loss, we need binary labels\n",
    "\n",
    "validation_generator = val_datagen.flow_from_directory(\n",
    "        data_dir+'ecg_other_val_imb/',\n",
    "        target_size=(k1, k2),\n",
    "        batch_size=batch_size,\n",
    "        class_mode='categorical')\n",
    "\n",
    "history=model.fit_generator(\n",
    "        train_generator,\n",
    "        #steps_per_epoch=2000 // batch_size,\n",
    "        epochs=PARAMS['num_epochs'],\n",
    "        validation_data=validation_generator,\n",
    "        #validation_steps=800 // batch_size\n",
    ")\n",
    "\n"
   ]
  },
  {
   "cell_type": "code",
   "execution_count": 30,
   "metadata": {},
   "outputs": [
    {
     "name": "stderr",
     "output_type": "stream",
     "text": [
      "WARNING: There is a new version of neptune-client 0.4.125 (installed: 0.4.124).\n",
      "NVMLError: NVML Shared Library Not Found - GPU usage metrics may not be reported.\n"
     ]
    },
    {
     "name": "stdout",
     "output_type": "stream",
     "text": [
      "https://ui.neptune.ai/icassp/ECG/e/ECG-25\n"
     ]
    }
   ],
   "source": [
    "\n",
    "#!pip install neptune-client\n",
    "import os\n",
    "import neptune\n",
    "NEPTUNE_API_TOKEN=\"eyJhcGlfYWRkcmVzcyI6Imh0dHBzOi8vdWkubmVwdHVuZS5haSIsImFwaV91cmwiOiJodHRwczovL3VpLm5lcHR1bmUuYWkiLCJhcGlfa2V5IjoiNjBlODllY2ItMDcyZC00OGNmLThjZWYtZjM2MjE4Y2M5ZDM0In0=\"\n",
    "os.environ['NEPTUNE_PROJECT']=\"icassp/ECG\"\n",
    "#os.environ['NEPTUNE_NOTEBOOK_ID']=\"4897a223-8a9f-4f00-8cec-22eda690858d\"\n",
    "os.environ['NEPTUNE_NOTEBOOK_PATH']='ECG-complex (imbalanced).ipynb'\n",
    "\n",
    "neptune.init('icassp/ECG',NEPTUNE_API_TOKEN)\n",
    "exp = neptune.create_experiment(description='ECG-complex (imbalanced)',params=PARAMS,upload_source_files=['ECG-complex (imbalanced).ipynb'],tags=PARAMS['tags'],upload_stdout=True)\n",
    "\n",
    "model.save(f'{model_dir}{str(exp)}.h5')\n",
    "neptune.log_artifact(f'{model_dir}{str(exp)}.h5')"
   ]
  },
  {
   "cell_type": "code",
   "execution_count": 31,
   "metadata": {},
   "outputs": [],
   "source": [
    "no=4\n",
    "for i in range(len(history.history['loss'])):\n",
    "    neptune.log_metric('loss',history.history['loss'][i])\n",
    "    neptune.log_metric('val loss',history.history['val_loss'][i])\n",
    "    neptune.log_metric('acc',history.history['categorical_accuracy'][i])\n",
    "    neptune.log_metric('val_acc',history.history['val_categorical_accuracy'][i])\n",
    "    neptune.log_metric('precision',history.history['precision_%d'%no][i])\n",
    "    neptune.log_metric('val_precision',history.history['val_precision_%d'%no][i])\n",
    "    neptune.log_metric('recall',history.history['recall_%d'%no][i])\n",
    "    neptune.log_metric('val_recall',history.history['val_recall_%d'%no][i])"
   ]
  },
  {
   "cell_type": "code",
   "execution_count": null,
   "metadata": {},
   "outputs": [],
   "source": [
    "for i in range(len(history.history['loss'])):\n",
    "    neptune.log_metric('loss',history.history['loss'][i])\n",
    "    neptune.log_metric('val loss',history.history['val_loss'][i])\n",
    "    neptune.log_metric('acc',history.history['categorical_accuracy'][i])\n",
    "    neptune.log_metric('val_acc',history.history['val_categorical_accuracy'][i])\n",
    "    neptune.log_metric('precision',history.history['precision'][i])\n",
    "    neptune.log_metric('val_precision',history.history['val_precision'][i])\n",
    "    neptune.log_metric('recall',history.history['recall'][i])\n",
    "    neptune.log_metric('val_recall',history.history['val_recall'][i])"
   ]
  },
  {
   "cell_type": "code",
   "execution_count": 32,
   "metadata": {},
   "outputs": [
    {
     "name": "stdout",
     "output_type": "stream",
     "text": [
      "Found 874 images belonging to 2 classes.\n"
     ]
    }
   ],
   "source": [
    "test_datagen = ImageDataGenerator(rescale=1./255)\n",
    "test_generator = test_datagen.flow_from_directory(\n",
    "        data_dir+'ecg_other_test_imb/',  # this is the target directory\n",
    "        target_size=(k1, k2),  # all images will be resized to 150x150\n",
    "        batch_size=len(os.listdir(data_dir+'ecg_other_test_imb/1'))+len(os.listdir(data_dir+'ecg_other_test_imb/0')),\n",
    "        class_mode='categorical')\n",
    "\n",
    "X,y = test_generator.next()\n",
    "prediction = model.predict(X)\n",
    "\n",
    "import numpy as np\n",
    "\n",
    "y_test=np.argmax(y,axis=1)\n",
    "y_pred=prediction\n",
    "from neptunecontrib.monitoring.metrics import *\n",
    "\n",
    "threshold = 0.5\n",
    "\n",
    "log_confusion_matrix(y_test, y_pred[:, 1] > threshold)\n",
    "log_classification_report(y_test, y_pred[:, 1] > threshold)\n",
    "log_class_metrics(y_test, y_pred[:, 1] > threshold)\n",
    "log_class_metrics_by_threshold(y_test, y_pred[:, 1])\n",
    "log_roc_auc(y_test, y_pred)\n",
    "log_precision_recall_auc(y_test, y_pred)\n",
    "log_brier_loss(y_test, y_pred[:, 1])\n",
    "log_log_loss(y_test, y_pred)\n",
    "log_ks_statistic(y_test, y_pred)\n",
    "log_cumulative_gain(y_test, y_pred)\n",
    "log_lift_curve(y_test, y_pred)\n",
    "log_prediction_distribution(y_test, y_pred[:, 1])\n"
   ]
  },
  {
   "cell_type": "code",
   "execution_count": 33,
   "metadata": {},
   "outputs": [],
   "source": [
    "neptune.stop()"
   ]
  },
  {
   "cell_type": "code",
   "execution_count": null,
   "metadata": {},
   "outputs": [],
   "source": []
  }
 ],
 "metadata": {
  "kernelspec": {
   "display_name": "Python 3",
   "language": "python",
   "name": "python3"
  },
  "language_info": {
   "codemirror_mode": {
    "name": "ipython",
    "version": 3
   },
   "file_extension": ".py",
   "mimetype": "text/x-python",
   "name": "python",
   "nbconvert_exporter": "python",
   "pygments_lexer": "ipython3",
   "version": "3.6.9"
  }
 },
 "nbformat": 4,
 "nbformat_minor": 4
}
