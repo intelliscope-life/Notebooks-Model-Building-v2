{
 "cells": [
  {
   "cell_type": "code",
   "execution_count": 11,
   "metadata": {},
   "outputs": [],
   "source": [
    "import sys\n",
    "sys.path.append('/home/ubuntu/intelliscope/modules')"
   ]
  },
  {
   "cell_type": "code",
   "execution_count": 2,
   "metadata": {},
   "outputs": [],
   "source": [
    "import tensorflow as tf\n",
    "\n",
    "PARAMS = {\n",
    "    'tags':['CASS', 'dropout', 'aug', 'batchnorm', 'dilatedconv'],\n",
    "    \n",
    "    'notebook_name':'ECG4_6_ecg_combination.ipynb',\n",
    "    'name':'ECG4_6_combination',\n",
    "    \n",
    "    'augmentation':True,\n",
    "    \n",
    "    ############################\n",
    "    'description':'base model- advanced',\n",
    "    'dropout':0.3,\n",
    "\n",
    "    'data_dir':'/home/ubuntu/intelliscope/for_dataloaders/waveletcomb1/dataNotA/ecg/balanced', ####\n",
    "    'modelsave_dir':'/home/ubuntu/intelliscope/models',\n",
    "    'modelload_dir':'', \n",
    "    'num_epochs': 10,\n",
    "    \n",
    "    'validation_split':0.1,\n",
    "    'test_split': 0.2,\n",
    "    'batch_size':32,\n",
    "    'data_balanced':True,\n",
    "    'wavelet':'comb1',\n",
    "    'dataset':'physionet2017', ###\n",
    "    'pcg/ecg': 'ecg', ###\n",
    "    'model':'base',\n",
    "    'opt':tf.keras.optimizers.Adam(learning_rate=0.001, beta_1=0.9, beta_2=0.999, epsilon=1e-07),\n",
    "    'pretrained': False,\n",
    "    \n",
    "\n",
    "}\n",
    "\n",
    "\n",
    "data_dir=PARAMS['data_dir']\n",
    "modelsave_dir=PARAMS['modelsave_dir']\n",
    "modelload_dir=PARAMS['modelload_dir']"
   ]
  },
  {
   "cell_type": "code",
   "execution_count": 3,
   "metadata": {},
   "outputs": [],
   "source": [
    "import os\n",
    "from tensorflow import keras\n",
    "from tensorflow.keras.models import Sequential, load_model\n",
    "from tensorflow.keras.layers import Conv2D, MaxPooling2D\n",
    "from tensorflow.keras.layers import Activation, Dropout, Flatten, Dense, Lambda,BatchNormalization\n",
    "from tensorflow.keras import backend as K\n",
    "from tensorflow_addons.layers import InstanceNormalization\n",
    "\n",
    "from tensorflow.keras.layers import Activation, Dropout, Flatten, Dense, Lambda\n",
    "from tensorflow.keras.preprocessing.image import ImageDataGenerator, array_to_img, img_to_array, load_img\n",
    "\n",
    "\n",
    "from PIL import ImageFile\n",
    "ImageFile.LOAD_TRUNCATED_IMAGES = True"
   ]
  },
  {
   "cell_type": "code",
   "execution_count": 4,
   "metadata": {},
   "outputs": [],
   "source": [
    "model = tf.keras.models.Sequential([\n",
    "    tf.keras.layers.Conv2D(4, kernel_size=(7,7), padding='same', activation='relu', input_shape=(272,462, 3)),\n",
    "    tf.keras.layers.MaxPool2D(pool_size=(3,3)),\n",
    "    tf.keras.layers.Dropout(PARAMS['dropout']),\n",
    "    tf.keras.layers.Conv2D(16, kernel_size=(7,7), activation='relu'),\n",
    "    tf.keras.layers.BatchNormalization(),\n",
    "    tf.keras.layers.MaxPool2D(pool_size=(3,3)),\n",
    "    tf.keras.layers.Dropout(PARAMS['dropout']),\n",
    "    tf.keras.layers.Conv2D(32, kernel_size=(7,7), activation='relu',dilation_rate=(1,1) ),\n",
    "    tf.keras.layers.BatchNormalization(),\n",
    "    tf.keras.layers.MaxPool2D(pool_size=(3,3)),\n",
    "    tf.keras.layers.Dropout(PARAMS['dropout']),\n",
    "    tf.keras.layers.Conv2D(64, kernel_size=(3,3), activation='relu'),\n",
    "    tf.keras.layers.Flatten(),\n",
    "    tf.keras.layers.Dense(84, activation='relu'),\n",
    "    tf.keras.layers.Dropout(PARAMS['dropout']),\n",
    "    tf.keras.layers.Dense(20, activation='relu'),\n",
    "    tf.keras.layers.Dense(2, activation='softmax')\n",
    "])  \n"
   ]
  },
  {
   "cell_type": "code",
   "execution_count": 5,
   "metadata": {},
   "outputs": [],
   "source": [
    "\n",
    "\n",
    "\n",
    "model.compile(optimizer=PARAMS['opt'], \n",
    "              loss=keras.losses.CategoricalCrossentropy(),\n",
    "              metrics=[keras.metrics.CategoricalAccuracy()])\n"
   ]
  },
  {
   "cell_type": "code",
   "execution_count": 6,
   "metadata": {},
   "outputs": [
    {
     "data": {
      "text/plain": [
       "\"\\nrescale(data_dir+'/train/0')\\nrescale(data_dir+'/train/1')\\nrescale(data_dir+'/val/0')\\nrescale(data_dir+'/val/1')\\nrescale(data_dir+'/test/0')\\nrescale(data_dir+'/test/1')\\ncheck_rescale(data_dir+'/train/0')\\ncheck_rescale(data_dir+'/train/1')\\ncheck_rescale(data_dir+'/val/0')\\ncheck_rescale(data_dir+'/val/1')\\ncheck_rescale(data_dir+'/test/0')\\ncheck_rescale(data_dir+'/test/1')\\n\""
      ]
     },
     "execution_count": 6,
     "metadata": {},
     "output_type": "execute_result"
    }
   ],
   "source": [
    "from intelliscope import rescale, check_rescale\n",
    "\n",
    "'''\n",
    "rescale(data_dir+'/train/0')\n",
    "rescale(data_dir+'/train/1')\n",
    "rescale(data_dir+'/val/0')\n",
    "rescale(data_dir+'/val/1')\n",
    "rescale(data_dir+'/test/0')\n",
    "rescale(data_dir+'/test/1')\n",
    "check_rescale(data_dir+'/train/0')\n",
    "check_rescale(data_dir+'/train/1')\n",
    "check_rescale(data_dir+'/val/0')\n",
    "check_rescale(data_dir+'/val/1')\n",
    "check_rescale(data_dir+'/test/0')\n",
    "check_rescale(data_dir+'/test/1')\n",
    "'''\n"
   ]
  },
  {
   "cell_type": "code",
   "execution_count": null,
   "metadata": {},
   "outputs": [
    {
     "name": "stdout",
     "output_type": "stream",
     "text": [
      "augmentation applied ...\n",
      "Found 4812 images belonging to 2 classes.\n",
      "Found 688 images belonging to 2 classes.\n",
      "WARNING:tensorflow:From <ipython-input-7-ed769443ce51>:37: Model.fit_generator (from tensorflow.python.keras.engine.training) is deprecated and will be removed in a future version.\n",
      "Instructions for updating:\n",
      "Please use Model.fit, which supports generators.\n",
      "WARNING:tensorflow:sample_weight modes were coerced from\n",
      "  ...\n",
      "    to  \n",
      "  ['...']\n",
      "WARNING:tensorflow:sample_weight modes were coerced from\n",
      "  ...\n",
      "    to  \n",
      "  ['...']\n",
      "Train for 151 steps, validate for 22 steps\n",
      "Epoch 1/10\n",
      "151/151 [==============================] - 227s 2s/step - loss: 0.7218 - categorical_accuracy: 0.5139 - val_loss: 0.7246 - val_categorical_accuracy: 0.5000\n",
      "Epoch 2/10\n",
      "151/151 [==============================] - 223s 1s/step - loss: 0.6901 - categorical_accuracy: 0.5357 - val_loss: 0.7809 - val_categorical_accuracy: 0.5000\n",
      "Epoch 3/10\n",
      "151/151 [==============================] - 224s 1s/step - loss: 0.6862 - categorical_accuracy: 0.5449 - val_loss: 0.7315 - val_categorical_accuracy: 0.5015\n",
      "Epoch 4/10\n",
      "  5/151 [..............................] - ETA: 3:43 - loss: 0.6942 - categorical_accuracy: 0.5188"
     ]
    }
   ],
   "source": [
    "batch_size=PARAMS['batch_size']\n",
    "\n",
    "import numpy as np\n",
    "\n",
    "if PARAMS['augmentation']==True:\n",
    "    print('augmentation applied ...')\n",
    "    train_datagen = ImageDataGenerator(\n",
    "            rescale=1./255,\n",
    "            shear_range=0.2,\n",
    "            zoom_range=0.2,\n",
    "            horizontal_flip=True)\n",
    "else:\n",
    "    train_datagen = ImageDataGenerator(rescale=1./255)\n",
    "    \n",
    "val_datagen = ImageDataGenerator(rescale=1./255)\n",
    "\n",
    "train_generator = train_datagen.flow_from_directory(\n",
    "    data_dir+'/train',\n",
    "    target_size=(272, 462),  \n",
    "    batch_size=PARAMS['batch_size'],\n",
    "    class_mode='categorical',\n",
    "    shuffle=True,\n",
    "    seed=10)\n",
    "\n",
    "val_generator = val_datagen.flow_from_directory(\n",
    "    data_dir+'/val',\n",
    "    target_size=(272, 462),  \n",
    "    batch_size=PARAMS['batch_size'],\n",
    "    class_mode='categorical',\n",
    "    shuffle=True,\n",
    "    seed=10)\n",
    "\n",
    "\n",
    "history=model.fit_generator(\n",
    "        train_generator,\n",
    "        epochs=PARAMS['num_epochs'],\n",
    "        validation_data=val_generator)"
   ]
  },
  {
   "cell_type": "code",
   "execution_count": null,
   "metadata": {},
   "outputs": [],
   "source": [
    "#!pip install neptune-client\n",
    "import os\n",
    "import neptune\n",
    "NEPTUNE_API_TOKEN='eyJhcGlfYWRkcmVzcyI6Imh0dHBzOi8vdWkubmVwdHVuZS5haSIsImFwaV91cmwiOiJodHRwczovL3VpLm5lcHR1bmUuYWkiLCJhcGlfa2V5IjoiMzc1YTM5OGMtYTY3Ny00ZmM4LTg5ZGQtOGI2YTQ1YmZiMDkzIn0='\n",
    "os.environ['NEPTUNE_PROJECT']=\"intelliscope/ECG\"\n",
    "\n",
    "neptune.init('intelliscope/ECG',NEPTUNE_API_TOKEN)\n",
    "exp = neptune.create_experiment(name=PARAMS['name'],description=PARAMS['description'],params=PARAMS,upload_source_files=PARAMS['notebook_name'],tags=PARAMS['tags'],upload_stdout=True)\n",
    "\n",
    "model.summary(print_fn=lambda x: neptune.log_text('model_summary', x))\n",
    "model.save(f'{modelsave_dir}/{str(exp)}.h5')\n",
    "neptune.log_artifact(f'{modelsave_dir}/{str(exp)}.h5')\n",
    "\n",
    "for i in range(len(history.history['loss'])):\n",
    "    neptune.log_metric('loss',history.history['loss'][i])\n",
    "    neptune.log_metric('val loss',history.history['val_loss'][i])\n",
    "    neptune.log_metric('categorical_acc',history.history['categorical_accuracy'][i])\n",
    "    neptune.log_metric('val_categorical_acc',history.history['val_categorical_accuracy'][i])"
   ]
  },
  {
   "cell_type": "markdown",
   "metadata": {},
   "source": [
    "# Test and Log results on test data"
   ]
  },
  {
   "cell_type": "code",
   "execution_count": null,
   "metadata": {},
   "outputs": [],
   "source": [
    "import numpy as np\n",
    "from neptunecontrib.monitoring.metrics import *\n",
    "\n",
    "test_datagen = ImageDataGenerator(rescale=1./255)\n",
    "test_generator = test_datagen.flow_from_directory(\n",
    "        data_dir+'/test',  # this is the target directory\n",
    "        target_size=(272, 462),  # all images will be resized to 150x150\n",
    "        batch_size=len(os.listdir(data_dir+'/test/1'))+len(os.listdir(data_dir+'/test/0')),\n",
    "        class_mode='categorical', seed=7)\n",
    "\n",
    "X,y = test_generator.next()\n",
    "prediction = model.predict(X)\n",
    "\n",
    "\n",
    "y_test=np.argmax(y,axis=1)\n",
    "y_pred=prediction\n",
    "\n",
    "threshold = 0.5\n",
    "\n",
    "log_confusion_matrix(y_test, y_pred[:, 1] > threshold)\n",
    "log_classification_report(y_test, y_pred[:, 1] > threshold)\n",
    "log_class_metrics(y_test, y_pred[:, 1] > threshold)\n",
    "log_class_metrics_by_threshold(y_test, y_pred[:, 1])\n",
    "log_brier_loss(y_test, y_pred[:, 1])\n",
    "log_prediction_distribution(y_test, y_pred[:, 1])\n",
    "\n",
    "log_log_loss(y_test, y_pred)\n",
    "log_roc_auc(y_test, y_pred)\n",
    "log_precision_recall_auc(y_test, y_pred)\n",
    "log_ks_statistic(y_test, y_pred)\n",
    "log_cumulative_gain(y_test, y_pred)\n",
    "log_lift_curve(y_test, y_pred)"
   ]
  },
  {
   "cell_type": "code",
   "execution_count": null,
   "metadata": {},
   "outputs": [],
   "source": [
    "neptune.stop()"
   ]
  },
  {
   "cell_type": "code",
   "execution_count": null,
   "metadata": {},
   "outputs": [],
   "source": []
  },
  {
   "cell_type": "code",
   "execution_count": null,
   "metadata": {},
   "outputs": [],
   "source": []
  }
 ],
 "metadata": {
  "kernelspec": {
   "display_name": "Python 3",
   "language": "python",
   "name": "python3"
  },
  "language_info": {
   "codemirror_mode": {
    "name": "ipython",
    "version": 3
   },
   "file_extension": ".py",
   "mimetype": "text/x-python",
   "name": "python",
   "nbconvert_exporter": "python",
   "pygments_lexer": "ipython3",
   "version": "3.6.9"
  }
 },
 "nbformat": 4,
 "nbformat_minor": 4
}
