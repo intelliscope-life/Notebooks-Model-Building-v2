{
 "cells": [
  {
   "cell_type": "code",
   "execution_count": 20,
   "metadata": {},
   "outputs": [],
   "source": [
    "data_dir='/home/ubuntu/intelliscope/ecg_data/'# fill # data_dir/ecg_other_train, ecg_other_val, ... ecg_other_train_imb, ..should be there\n",
    "model_dir='/home/ubuntu/intelliscope/notebooks/physionet2017/ecg/models/'"
   ]
  },
  {
   "cell_type": "code",
   "execution_count": 21,
   "metadata": {},
   "outputs": [],
   "source": [
    "PARAMS = {\n",
    "          'epochs' : 15,\n",
    "         'validation_split':0.15,\n",
    "         'batch_size' : 32,\n",
    "            'model': 'simple',\n",
    "          'data_balanced':False,\n",
    "            'num_epochs':15,\n",
    "            'opt':'adam',\n",
    "            'tags': ['instance_norm added', 'dropout added'],\n",
    "         }"
   ]
  },
  {
   "cell_type": "code",
   "execution_count": 22,
   "metadata": {},
   "outputs": [],
   "source": [
    "import os\n",
    "from tensorflow import keras\n",
    "from tensorflow.keras.models import Sequential\n",
    "from tensorflow.keras.layers import Conv2D, MaxPooling2D\n",
    "from tensorflow.keras.layers import Activation, Dropout, Flatten, Dense, Lambda,BatchNormalization\n",
    "from tensorflow.keras import backend as K\n",
    "from tensorflow_addons.layers import InstanceNormalization\n",
    "\n",
    "from tensorflow.keras.layers import Activation, Dropout, Flatten, Dense, Lambda\n",
    "\n",
    "\n",
    "from PIL import ImageFile\n",
    "ImageFile.LOAD_TRUNCATED_IMAGES = True\n",
    "import tensorflow as tf"
   ]
  },
  {
   "cell_type": "code",
   "execution_count": 23,
   "metadata": {},
   "outputs": [
    {
     "name": "stdout",
     "output_type": "stream",
     "text": [
      "Model: \"sequential_7\"\n",
      "_________________________________________________________________\n",
      "Layer (type)                 Output Shape              Param #   \n",
      "=================================================================\n",
      "lambda_7 (Lambda)            (None, 38, 64, 3)         0         \n",
      "_________________________________________________________________\n",
      "conv2d_21 (Conv2D)           (None, 34, 60, 16)        1216      \n",
      "_________________________________________________________________\n",
      "instance_normalization_9 (In (None, 34, 60, 16)        32        \n",
      "_________________________________________________________________\n",
      "dropout_19 (Dropout)         (None, 34, 60, 16)        0         \n",
      "_________________________________________________________________\n",
      "conv2d_22 (Conv2D)           (None, 30, 56, 32)        12832     \n",
      "_________________________________________________________________\n",
      "max_pooling2d_14 (MaxPooling (None, 15, 28, 32)        0         \n",
      "_________________________________________________________________\n",
      "instance_normalization_10 (I (None, 15, 28, 32)        64        \n",
      "_________________________________________________________________\n",
      "dropout_20 (Dropout)         (None, 15, 28, 32)        0         \n",
      "_________________________________________________________________\n",
      "conv2d_23 (Conv2D)           (None, 13, 26, 64)        18496     \n",
      "_________________________________________________________________\n",
      "max_pooling2d_15 (MaxPooling (None, 6, 13, 64)         0         \n",
      "_________________________________________________________________\n",
      "instance_normalization_11 (I (None, 6, 13, 64)         128       \n",
      "_________________________________________________________________\n",
      "dropout_21 (Dropout)         (None, 6, 13, 64)         0         \n",
      "_________________________________________________________________\n",
      "flatten_7 (Flatten)          (None, 4992)              0         \n",
      "_________________________________________________________________\n",
      "dense_21 (Dense)             (None, 3840)              19173120  \n",
      "_________________________________________________________________\n",
      "batch_normalization_3 (Batch (None, 3840)              15360     \n",
      "_________________________________________________________________\n",
      "dropout_22 (Dropout)         (None, 3840)              0         \n",
      "_________________________________________________________________\n",
      "dense_22 (Dense)             (None, 64)                245824    \n",
      "_________________________________________________________________\n",
      "dropout_23 (Dropout)         (None, 64)                0         \n",
      "_________________________________________________________________\n",
      "dense_23 (Dense)             (None, 2)                 130       \n",
      "=================================================================\n",
      "Total params: 19,467,202\n",
      "Trainable params: 19,459,522\n",
      "Non-trainable params: 7,680\n",
      "_________________________________________________________________\n"
     ]
    }
   ],
   "source": [
    "\n",
    "\n",
    "#k1,k2=100,100\n",
    "k1,k2=272, 462\n",
    "\n",
    "model_simple1=Sequential([\n",
    "    #tf.keras.layers.experimental.preprocessing.Resizing(k1, k2, interpolation=\"bilinear\")\n",
    "    Lambda(lambda image: tf.image.resize( image, (64, 64), method = tf.image.ResizeMethod.BICUBIC, preserve_aspect_ratio = True),input_shape=(k1, k2,3)),\n",
    "    Conv2D(16, (5, 5),activation='relu'),\n",
    "    Conv2D(32, (5, 5),activation='relu'),\n",
    "    MaxPooling2D(pool_size=(2, 2)),\n",
    "    Conv2D(64, (3, 3),activation='relu'),\n",
    "    MaxPooling2D(pool_size=(2, 2)),\n",
    "    Flatten(),\n",
    "    Dense(3840, activation='relu'),\n",
    "    Dense(64,activation='relu'),\n",
    "    Dropout(0.5),\n",
    "    Dense(2,activation='softmax')])\n",
    "\n",
    "model_simple2=Sequential([\n",
    "    #tf.keras.layers.experimental.preprocessing.Resizing(k1, k2, interpolation=\"bilinear\")\n",
    "    Lambda(lambda image: tf.image.resize( image, (64, 64), method = tf.image.ResizeMethod.BICUBIC, preserve_aspect_ratio = True),input_shape=(k1, k2,3)),\n",
    "    Conv2D(16, (5, 5),activation='relu'),\n",
    "    InstanceNormalization(axis=3, center=True, scale=True,beta_initializer=\"random_uniform\",gamma_initializer=\"random_uniform\"),\n",
    "    Dropout(0.2),\n",
    "    Conv2D(32, (5, 5),activation='relu'),\n",
    "    MaxPooling2D(pool_size=(2, 2)),\n",
    "    InstanceNormalization(axis=3, center=True, scale=True,beta_initializer=\"random_uniform\",gamma_initializer=\"random_uniform\"),\n",
    "    Dropout(0.2),\n",
    "    Conv2D(64, (3, 3),activation='relu'),\n",
    "    MaxPooling2D(pool_size=(2, 2)),\n",
    "    InstanceNormalization(axis=3, center=True, scale=True,beta_initializer=\"random_uniform\",gamma_initializer=\"random_uniform\"),\n",
    "    Dropout(0.2),\n",
    "    Flatten(),\n",
    "    Dense(3840, activation='relu'),\n",
    "    BatchNormalization(),\n",
    "    Dropout(0.2),\n",
    "    Dense(64,activation='relu'),\n",
    "    Dropout(0.5),\n",
    "    Dense(2,activation='softmax')])\n",
    "\n",
    "\n",
    "model=model_simple2\n",
    "model.compile(loss=keras.losses.CategoricalCrossentropy(),\n",
    "              optimizer=PARAMS['opt'],\n",
    "              metrics=[keras.metrics.CategoricalAccuracy(), keras.metrics.Recall(),keras.metrics.Precision()])\n",
    "\n",
    "PARAMS['model']=model.summary()"
   ]
  },
  {
   "cell_type": "code",
   "execution_count": 24,
   "metadata": {},
   "outputs": [
    {
     "name": "stdout",
     "output_type": "stream",
     "text": [
      "Found 4078 images belonging to 2 classes.\n",
      "Found 873 images belonging to 2 classes.\n",
      "WARNING:tensorflow:sample_weight modes were coerced from\n",
      "  ...\n",
      "    to  \n",
      "  ['...']\n",
      "WARNING:tensorflow:sample_weight modes were coerced from\n",
      "  ...\n",
      "    to  \n",
      "  ['...']\n",
      "Train for 128 steps, validate for 28 steps\n",
      "Epoch 1/15\n",
      "128/128 [==============================] - 186s 1s/step - loss: 0.4887 - categorical_accuracy: 0.8396 - recall_3: 0.8396 - precision_3: 0.8396 - val_loss: 0.5122 - val_categorical_accuracy: 0.8545 - val_recall_3: 0.8545 - val_precision_3: 0.8545\n",
      "Epoch 2/15\n",
      "128/128 [==============================] - 182s 1s/step - loss: 0.4008 - categorical_accuracy: 0.8762 - recall_3: 0.8762 - precision_3: 0.8762 - val_loss: 0.4155 - val_categorical_accuracy: 0.8545 - val_recall_3: 0.8545 - val_precision_3: 0.8545\n",
      "Epoch 3/15\n",
      "128/128 [==============================] - 161s 1s/step - loss: 0.3840 - categorical_accuracy: 0.8764 - recall_3: 0.8764 - precision_3: 0.8764 - val_loss: 0.4179 - val_categorical_accuracy: 0.8545 - val_recall_3: 0.8545 - val_precision_3: 0.8545\n",
      "Epoch 4/15\n",
      "128/128 [==============================] - 157s 1s/step - loss: 0.3703 - categorical_accuracy: 0.8769 - recall_3: 0.8769 - precision_3: 0.8769 - val_loss: 0.4075 - val_categorical_accuracy: 0.8545 - val_recall_3: 0.8545 - val_precision_3: 0.8545\n",
      "Epoch 5/15\n",
      "128/128 [==============================] - 157s 1s/step - loss: 0.3605 - categorical_accuracy: 0.8767 - recall_3: 0.8767 - precision_3: 0.8767 - val_loss: 0.3909 - val_categorical_accuracy: 0.8545 - val_recall_3: 0.8545 - val_precision_3: 0.8545\n",
      "Epoch 6/15\n",
      "128/128 [==============================] - 157s 1s/step - loss: 0.3713 - categorical_accuracy: 0.8784 - recall_3: 0.8784 - precision_3: 0.8784 - val_loss: 0.3915 - val_categorical_accuracy: 0.8557 - val_recall_3: 0.8557 - val_precision_3: 0.8557\n",
      "Epoch 7/15\n",
      "128/128 [==============================] - 165s 1s/step - loss: 0.3608 - categorical_accuracy: 0.8791 - recall_3: 0.8791 - precision_3: 0.8791 - val_loss: 0.5948 - val_categorical_accuracy: 0.8545 - val_recall_3: 0.8545 - val_precision_3: 0.8545\n",
      "Epoch 8/15\n",
      "128/128 [==============================] - 159s 1s/step - loss: 0.3454 - categorical_accuracy: 0.8803 - recall_3: 0.8803 - precision_3: 0.8803 - val_loss: 0.3755 - val_categorical_accuracy: 0.8568 - val_recall_3: 0.8568 - val_precision_3: 0.8568\n",
      "Epoch 9/15\n",
      "128/128 [==============================] - 158s 1s/step - loss: 0.3343 - categorical_accuracy: 0.8801 - recall_3: 0.8801 - precision_3: 0.8801 - val_loss: 0.3779 - val_categorical_accuracy: 0.8568 - val_recall_3: 0.8568 - val_precision_3: 0.8568\n",
      "Epoch 10/15\n",
      "128/128 [==============================] - 157s 1s/step - loss: 0.3299 - categorical_accuracy: 0.8808 - recall_3: 0.8808 - precision_3: 0.8808 - val_loss: 0.3751 - val_categorical_accuracy: 0.8637 - val_recall_3: 0.8637 - val_precision_3: 0.8637\n",
      "Epoch 11/15\n",
      "128/128 [==============================] - 158s 1s/step - loss: 0.3294 - categorical_accuracy: 0.8821 - recall_3: 0.8821 - precision_3: 0.8821 - val_loss: 0.3514 - val_categorical_accuracy: 0.8843 - val_recall_3: 0.8843 - val_precision_3: 0.8843\n",
      "Epoch 12/15\n",
      "128/128 [==============================] - 165s 1s/step - loss: 0.3248 - categorical_accuracy: 0.8811 - recall_3: 0.8811 - precision_3: 0.8811 - val_loss: 0.3683 - val_categorical_accuracy: 0.8614 - val_recall_3: 0.8614 - val_precision_3: 0.8614\n",
      "Epoch 13/15\n",
      "128/128 [==============================] - 158s 1s/step - loss: 0.3234 - categorical_accuracy: 0.8835 - recall_3: 0.8835 - precision_3: 0.8835 - val_loss: 0.3943 - val_categorical_accuracy: 0.8580 - val_recall_3: 0.8580 - val_precision_3: 0.8580\n",
      "Epoch 14/15\n",
      "128/128 [==============================] - 158s 1s/step - loss: 0.3337 - categorical_accuracy: 0.8769 - recall_3: 0.8769 - precision_3: 0.8769 - val_loss: 0.3633 - val_categorical_accuracy: 0.8545 - val_recall_3: 0.8545 - val_precision_3: 0.8545\n",
      "Epoch 15/15\n",
      "128/128 [==============================] - 158s 1s/step - loss: 0.3204 - categorical_accuracy: 0.8769 - recall_3: 0.8769 - precision_3: 0.8769 - val_loss: 0.4593 - val_categorical_accuracy: 0.8545 - val_recall_3: 0.8545 - val_precision_3: 0.8545\n"
     ]
    }
   ],
   "source": [
    "from keras.preprocessing.image import ImageDataGenerator, array_to_img, img_to_array, load_img\n",
    "\n",
    "batch_size=PARAMS['batch_size']\n",
    "\n",
    "train_datagen = ImageDataGenerator(\n",
    "        rescale=1./255,\n",
    "        shear_range=0.2,\n",
    "        zoom_range=0.2,\n",
    "        horizontal_flip=True)\n",
    "\n",
    "val_datagen = ImageDataGenerator(rescale=1./255)\n",
    "train_generator = train_datagen.flow_from_directory(\n",
    "        data_dir+'ecg_other_train_imb/',  # this is the target directory\n",
    "        target_size=(k1, k2),  # all images will be resized to 150x150\n",
    "        batch_size=batch_size,\n",
    "        class_mode='categorical')  # since we use binary_crossentropy loss, we need binary labels\n",
    "\n",
    "validation_generator = val_datagen.flow_from_directory(\n",
    "        data_dir+'ecg_other_val_imb/',\n",
    "        target_size=(k1, k2),\n",
    "        batch_size=batch_size,\n",
    "        class_mode='categorical')\n",
    "\n",
    "history=model.fit_generator(\n",
    "        train_generator,\n",
    "        #steps_per_epoch=2000 // batch_size,\n",
    "        epochs=PARAMS['num_epochs'],\n",
    "        validation_data=validation_generator,\n",
    "        #validation_steps=800 // batch_size\n",
    ")\n",
    "\n"
   ]
  },
  {
   "cell_type": "code",
   "execution_count": 25,
   "metadata": {},
   "outputs": [
    {
     "name": "stderr",
     "output_type": "stream",
     "text": [
      "WARNING: There is a new version of neptune-client 0.4.125 (installed: 0.4.124).\n",
      "NVMLError: NVML Shared Library Not Found - GPU usage metrics may not be reported.\n"
     ]
    },
    {
     "name": "stdout",
     "output_type": "stream",
     "text": [
      "https://ui.neptune.ai/icassp/ECG/e/ECG-27\n"
     ]
    }
   ],
   "source": [
    "\n",
    "#!pip install neptune-client\n",
    "import os\n",
    "import neptune\n",
    "NEPTUNE_API_TOKEN=\"eyJhcGlfYWRkcmVzcyI6Imh0dHBzOi8vdWkubmVwdHVuZS5haSIsImFwaV91cmwiOiJodHRwczovL3VpLm5lcHR1bmUuYWkiLCJhcGlfa2V5IjoiNjBlODllY2ItMDcyZC00OGNmLThjZWYtZjM2MjE4Y2M5ZDM0In0=\"\n",
    "os.environ['NEPTUNE_PROJECT']=\"icassp/ECG\"\n",
    "#os.environ['NEPTUNE_NOTEBOOK_ID']=\"4897a223-8a9f-4f00-8cec-22eda690858d\"\n",
    "os.environ['NEPTUNE_NOTEBOOK_PATH']='ECG-simple (imbalanced).ipynb'\n",
    "\n",
    "neptune.init('icassp/ECG',NEPTUNE_API_TOKEN)\n",
    "exp = neptune.create_experiment(description='ECG-simple (imbalanced)',params=PARAMS,upload_source_files=['ECG-simple (imbalanced).ipynb'],tags=PARAMS['tags'],upload_stdout=True)\n",
    "\n",
    "model.save(f'{model_dir}{str(exp)}.h5')\n",
    "neptune.log_artifact(f'{model_dir}{str(exp)}.h5')"
   ]
  },
  {
   "cell_type": "code",
   "execution_count": 26,
   "metadata": {},
   "outputs": [],
   "source": [
    "no=3\n",
    "for i in range(len(history.history['loss'])):\n",
    "    neptune.log_metric('loss',history.history['loss'][i])\n",
    "    neptune.log_metric('val loss',history.history['val_loss'][i])\n",
    "    neptune.log_metric('acc',history.history['categorical_accuracy'][i])\n",
    "    neptune.log_metric('val_acc',history.history['val_categorical_accuracy'][i])\n",
    "    neptune.log_metric('precision',history.history['precision_%d'%no][i])\n",
    "    neptune.log_metric('val_precision',history.history['val_precision_%d'%no][i])\n",
    "    neptune.log_metric('recall',history.history['recall_%d'%no][i])\n",
    "    neptune.log_metric('val_recall',history.history['val_recall_%d'%no][i])"
   ]
  },
  {
   "cell_type": "code",
   "execution_count": null,
   "metadata": {},
   "outputs": [],
   "source": [
    "for i in range(len(history.history['loss'])):\n",
    "    neptune.log_metric('loss',history.history['loss'][i])\n",
    "    neptune.log_metric('val loss',history.history['val_loss'][i])\n",
    "    neptune.log_metric('acc',history.history['categorical_accuracy'][i])\n",
    "    neptune.log_metric('val_acc',history.history['val_categorical_accuracy'][i])\n",
    "    neptune.log_metric('precision',history.history['precision'][i])\n",
    "    neptune.log_metric('val_precision',history.history['val_precision'][i])\n",
    "    neptune.log_metric('recall',history.history['recall'][i])\n",
    "    neptune.log_metric('val_recall',history.history['val_recall'][i])"
   ]
  },
  {
   "cell_type": "code",
   "execution_count": 27,
   "metadata": {},
   "outputs": [
    {
     "name": "stdout",
     "output_type": "stream",
     "text": [
      "Found 874 images belonging to 2 classes.\n"
     ]
    },
    {
     "name": "stderr",
     "output_type": "stream",
     "text": [
      "Invalid metric value: nan for channel positive_predictive_value. Metrics with nan or +/-inf values will not be sent to server\n",
      "Invalid metric value: nan for channel false_discovery_rate. Metrics with nan or +/-inf values will not be sent to server\n"
     ]
    }
   ],
   "source": [
    "test_datagen = ImageDataGenerator(rescale=1./255)\n",
    "test_generator = test_datagen.flow_from_directory(\n",
    "        data_dir+'ecg_other_test_imb/',  # this is the target directory\n",
    "        target_size=(k1, k2),  # all images will be resized to 150x150\n",
    "        batch_size=len(os.listdir(data_dir+'ecg_other_test_imb/1'))+len(os.listdir(data_dir+'ecg_other_test_imb/0')),\n",
    "        class_mode='categorical')\n",
    "\n",
    "X,y = test_generator.next()\n",
    "prediction = model.predict(X)\n",
    "\n",
    "import numpy as np\n",
    "\n",
    "y_test=np.argmax(y,axis=1)\n",
    "y_pred=prediction\n",
    "from neptunecontrib.monitoring.metrics import *\n",
    "\n",
    "threshold = 0.5\n",
    "\n",
    "log_confusion_matrix(y_test, y_pred[:, 1] > threshold)\n",
    "log_classification_report(y_test, y_pred[:, 1] > threshold)\n",
    "log_class_metrics(y_test, y_pred[:, 1] > threshold)\n",
    "log_class_metrics_by_threshold(y_test, y_pred[:, 1])\n",
    "log_roc_auc(y_test, y_pred)\n",
    "log_precision_recall_auc(y_test, y_pred)\n",
    "log_brier_loss(y_test, y_pred[:, 1])\n",
    "log_log_loss(y_test, y_pred)\n",
    "log_ks_statistic(y_test, y_pred)\n",
    "log_cumulative_gain(y_test, y_pred)\n",
    "log_lift_curve(y_test, y_pred)\n",
    "log_prediction_distribution(y_test, y_pred[:, 1])\n"
   ]
  },
  {
   "cell_type": "code",
   "execution_count": 28,
   "metadata": {},
   "outputs": [],
   "source": [
    "neptune.stop()"
   ]
  },
  {
   "cell_type": "code",
   "execution_count": null,
   "metadata": {},
   "outputs": [],
   "source": []
  }
 ],
 "metadata": {
  "kernelspec": {
   "display_name": "Python 3",
   "language": "python",
   "name": "python3"
  },
  "language_info": {
   "codemirror_mode": {
    "name": "ipython",
    "version": 3
   },
   "file_extension": ".py",
   "mimetype": "text/x-python",
   "name": "python",
   "nbconvert_exporter": "python",
   "pygments_lexer": "ipython3",
   "version": "3.6.9"
  }
 },
 "nbformat": 4,
 "nbformat_minor": 4
}
