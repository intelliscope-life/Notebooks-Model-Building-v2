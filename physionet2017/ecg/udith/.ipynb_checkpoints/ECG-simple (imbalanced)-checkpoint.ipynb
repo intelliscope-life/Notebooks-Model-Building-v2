{
 "cells": [
  {
   "cell_type": "code",
   "execution_count": 1,
   "metadata": {},
   "outputs": [],
   "source": [
    "data_dir='/home/ubuntu/intelliscope/ecg_data/'# fill # data_dir/ecg_other_train, ecg_other_val, ... ecg_other_train_imb, ..should be there\n",
    "model_dir='/home/ubuntu/intelliscope/notebooks/physionet2017/ecg/models/'"
   ]
  },
  {
   "cell_type": "code",
   "execution_count": 2,
   "metadata": {},
   "outputs": [],
   "source": [
    "PARAMS = {\n",
    "          'epochs' : 15,\n",
    "         'validation_split':0.15,\n",
    "         'batch_size' : 32,\n",
    "            'model': 'simple',\n",
    "          'data_balanced':False,\n",
    "            'num_epochs':15,\n",
    "            'opt':'adam',\n",
    "            'tags': ['instance_norm added', 'dropout added'],\n",
    "         }"
   ]
  },
  {
   "cell_type": "code",
   "execution_count": 4,
   "metadata": {},
   "outputs": [],
   "source": [
    "import os\n",
    "from tensorflow import keras\n",
    "from tensorflow.keras.models import Sequential\n",
    "from tensorflow.keras.layers import Conv2D, MaxPooling2D\n",
    "from tensorflow.keras.layers import Activation, Dropout, Flatten, Dense, Lambda,BatchNormalization\n",
    "from tensorflow.keras import backend as K\n",
    "from tensorflow_addons.layers import InstanceNormalization\n",
    "\n",
    "from tensorflow.keras.layers import Activation, Dropout, Flatten, Dense, Lambda\n",
    "\n",
    "\n",
    "from PIL import ImageFile\n",
    "ImageFile.LOAD_TRUNCATED_IMAGES = True\n",
    "import tensorflow as tf"
   ]
  },
  {
   "cell_type": "code",
   "execution_count": 5,
   "metadata": {},
   "outputs": [
    {
     "name": "stdout",
     "output_type": "stream",
     "text": [
      "Model: \"sequential_1\"\n",
      "_________________________________________________________________\n",
      "Layer (type)                 Output Shape              Param #   \n",
      "=================================================================\n",
      "lambda_1 (Lambda)            (None, 38, 64, 3)         0         \n",
      "_________________________________________________________________\n",
      "conv2d_3 (Conv2D)            (None, 34, 60, 16)        1216      \n",
      "_________________________________________________________________\n",
      "instance_normalization (Inst (None, 34, 60, 16)        32        \n",
      "_________________________________________________________________\n",
      "dropout_1 (Dropout)          (None, 34, 60, 16)        0         \n",
      "_________________________________________________________________\n",
      "conv2d_4 (Conv2D)            (None, 30, 56, 32)        12832     \n",
      "_________________________________________________________________\n",
      "max_pooling2d_2 (MaxPooling2 (None, 15, 28, 32)        0         \n",
      "_________________________________________________________________\n",
      "instance_normalization_1 (In (None, 15, 28, 32)        64        \n",
      "_________________________________________________________________\n",
      "dropout_2 (Dropout)          (None, 15, 28, 32)        0         \n",
      "_________________________________________________________________\n",
      "conv2d_5 (Conv2D)            (None, 13, 26, 64)        18496     \n",
      "_________________________________________________________________\n",
      "max_pooling2d_3 (MaxPooling2 (None, 6, 13, 64)         0         \n",
      "_________________________________________________________________\n",
      "instance_normalization_2 (In (None, 6, 13, 64)         128       \n",
      "_________________________________________________________________\n",
      "dropout_3 (Dropout)          (None, 6, 13, 64)         0         \n",
      "_________________________________________________________________\n",
      "flatten_1 (Flatten)          (None, 4992)              0         \n",
      "_________________________________________________________________\n",
      "dense_3 (Dense)              (None, 3840)              19173120  \n",
      "_________________________________________________________________\n",
      "batch_normalization (BatchNo (None, 3840)              15360     \n",
      "_________________________________________________________________\n",
      "dropout_4 (Dropout)          (None, 3840)              0         \n",
      "_________________________________________________________________\n",
      "dense_4 (Dense)              (None, 64)                245824    \n",
      "_________________________________________________________________\n",
      "dropout_5 (Dropout)          (None, 64)                0         \n",
      "_________________________________________________________________\n",
      "dense_5 (Dense)              (None, 2)                 130       \n",
      "=================================================================\n",
      "Total params: 19,467,202\n",
      "Trainable params: 19,459,522\n",
      "Non-trainable params: 7,680\n",
      "_________________________________________________________________\n"
     ]
    }
   ],
   "source": [
    "\n",
    "\n",
    "#k1,k2=100,100\n",
    "k1,k2=272, 462\n",
    "\n",
    "model_simple1=Sequential([\n",
    "    #tf.keras.layers.experimental.preprocessing.Resizing(k1, k2, interpolation=\"bilinear\")\n",
    "    Lambda(lambda image: tf.image.resize( image, (64, 64), method = tf.image.ResizeMethod.BICUBIC, preserve_aspect_ratio = True),input_shape=(k1, k2,3)),\n",
    "    Conv2D(16, (5, 5),activation='relu'),\n",
    "    Conv2D(32, (5, 5),activation='relu'),\n",
    "    MaxPooling2D(pool_size=(2, 2)),\n",
    "    Conv2D(64, (3, 3),activation='relu'),\n",
    "    MaxPooling2D(pool_size=(2, 2)),\n",
    "    Flatten(),\n",
    "    Dense(3840, activation='relu'),\n",
    "    Dense(64,activation='relu'),\n",
    "    Dropout(0.5),\n",
    "    Dense(2,activation='softmax')])\n",
    "\n",
    "model_simple2=Sequential([\n",
    "    #tf.keras.layers.experimental.preprocessing.Resizing(k1, k2, interpolation=\"bilinear\")\n",
    "    Lambda(lambda image: tf.image.resize( image, (64, 64), method = tf.image.ResizeMethod.BICUBIC, preserve_aspect_ratio = True),input_shape=(k1, k2,3)),\n",
    "    Conv2D(16, (5, 5),activation='relu'),\n",
    "    InstanceNormalization(axis=3, center=True, scale=True,beta_initializer=\"random_uniform\",gamma_initializer=\"random_uniform\"),\n",
    "    Dropout(0.2),\n",
    "    Conv2D(32, (5, 5),activation='relu'),\n",
    "    MaxPooling2D(pool_size=(2, 2)),\n",
    "    InstanceNormalization(axis=3, center=True, scale=True,beta_initializer=\"random_uniform\",gamma_initializer=\"random_uniform\"),\n",
    "    Dropout(0.2),\n",
    "    Conv2D(64, (3, 3),activation='relu'),\n",
    "    MaxPooling2D(pool_size=(2, 2)),\n",
    "    InstanceNormalization(axis=3, center=True, scale=True,beta_initializer=\"random_uniform\",gamma_initializer=\"random_uniform\"),\n",
    "    Dropout(0.2),\n",
    "    Flatten(),\n",
    "    Dense(3840, activation='relu'),\n",
    "    BatchNormalization(),\n",
    "    Dropout(0.2),\n",
    "    Dense(64,activation='relu'),\n",
    "    Dropout(0.5),\n",
    "    Dense(2,activation='softmax')])\n",
    "\n",
    "\n",
    "model=model_simple2\n",
    "model.compile(loss=keras.losses.CategoricalCrossentropy(),\n",
    "              optimizer=PARAMS['opt'],\n",
    "              metrics=[keras.metrics.CategoricalAccuracy(), keras.metrics.Recall(),keras.metrics.Precision()])\n",
    "\n",
    "PARAMS['model']=model.summary()"
   ]
  },
  {
   "cell_type": "code",
   "execution_count": 12,
   "metadata": {},
   "outputs": [
    {
     "name": "stdout",
     "output_type": "stream",
     "text": [
      "Found 4078 images belonging to 2 classes.\n",
      "Found 873 images belonging to 2 classes.\n",
      "Epoch 1/15\n",
      "128/128 [==============================] - 139s 1s/step - loss: 0.4603 - categorical_accuracy: 0.8383 - recall_1: 0.8383 - precision_1: 0.8383 - val_loss: 0.3560 - val_categorical_accuracy: 0.8658 - val_recall_1: 0.8658 - val_precision_1: 0.8658\n",
      "Epoch 2/15\n",
      "128/128 [==============================] - 135s 1s/step - loss: 0.3730 - categorical_accuracy: 0.8677 - recall_1: 0.8677 - precision_1: 0.8677 - val_loss: 0.1944 - val_categorical_accuracy: 0.8703 - val_recall_1: 0.8703 - val_precision_1: 0.8703\n",
      "Epoch 3/15\n",
      "128/128 [==============================] - 128s 996ms/step - loss: 0.3506 - categorical_accuracy: 0.8710 - recall_1: 0.8710 - precision_1: 0.8710 - val_loss: 0.2597 - val_categorical_accuracy: 0.8711 - val_recall_1: 0.8711 - val_precision_1: 0.8711\n",
      "Epoch 4/15\n",
      "128/128 [==============================] - 121s 942ms/step - loss: 0.3350 - categorical_accuracy: 0.8725 - recall_1: 0.8725 - precision_1: 0.8725 - val_loss: 0.3375 - val_categorical_accuracy: 0.8746 - val_recall_1: 0.8746 - val_precision_1: 0.8746\n",
      "Epoch 5/15\n",
      "128/128 [==============================] - 121s 943ms/step - loss: 0.3106 - categorical_accuracy: 0.8760 - recall_1: 0.8760 - precision_1: 0.8760 - val_loss: 0.5535 - val_categorical_accuracy: 0.8780 - val_recall_1: 0.8780 - val_precision_1: 0.8780\n",
      "Epoch 6/15\n",
      "128/128 [==============================] - 121s 944ms/step - loss: 0.3093 - categorical_accuracy: 0.8793 - recall_1: 0.8793 - precision_1: 0.8793 - val_loss: 0.1903 - val_categorical_accuracy: 0.8804 - val_recall_1: 0.8804 - val_precision_1: 0.8804\n",
      "Epoch 7/15\n",
      "128/128 [==============================] - 121s 947ms/step - loss: 0.3009 - categorical_accuracy: 0.8815 - recall_1: 0.8815 - precision_1: 0.8815 - val_loss: 0.1543 - val_categorical_accuracy: 0.8826 - val_recall_1: 0.8826 - val_precision_1: 0.8826\n",
      "Epoch 8/15\n",
      "128/128 [==============================] - 121s 947ms/step - loss: 0.2876 - categorical_accuracy: 0.8833 - recall_1: 0.8833 - precision_1: 0.8833 - val_loss: 0.5301 - val_categorical_accuracy: 0.8842 - val_recall_1: 0.8842 - val_precision_1: 0.8842\n",
      "Epoch 9/15\n",
      "128/128 [==============================] - 121s 942ms/step - loss: 0.2934 - categorical_accuracy: 0.8850 - recall_1: 0.8850 - precision_1: 0.8850 - val_loss: 0.2455 - val_categorical_accuracy: 0.8860 - val_recall_1: 0.8860 - val_precision_1: 0.8860\n",
      "Epoch 10/15\n",
      "128/128 [==============================] - 120s 941ms/step - loss: 0.2890 - categorical_accuracy: 0.8868 - recall_1: 0.8868 - precision_1: 0.8868 - val_loss: 0.3775 - val_categorical_accuracy: 0.8877 - val_recall_1: 0.8877 - val_precision_1: 0.8877\n",
      "Epoch 11/15\n",
      "128/128 [==============================] - 121s 942ms/step - loss: 0.2843 - categorical_accuracy: 0.8887 - recall_1: 0.8887 - precision_1: 0.8887 - val_loss: 0.0663 - val_categorical_accuracy: 0.8892 - val_recall_1: 0.8892 - val_precision_1: 0.8892\n",
      "Epoch 12/15\n",
      "128/128 [==============================] - 121s 944ms/step - loss: 0.2982 - categorical_accuracy: 0.8899 - recall_1: 0.8899 - precision_1: 0.8899 - val_loss: 0.2679 - val_categorical_accuracy: 0.8903 - val_recall_1: 0.8903 - val_precision_1: 0.8903\n",
      "Epoch 13/15\n",
      "128/128 [==============================] - 121s 942ms/step - loss: 0.2795 - categorical_accuracy: 0.8906 - recall_1: 0.8906 - precision_1: 0.8906 - val_loss: 0.0569 - val_categorical_accuracy: 0.8910 - val_recall_1: 0.8910 - val_precision_1: 0.8910\n",
      "Epoch 14/15\n",
      "128/128 [==============================] - 121s 945ms/step - loss: 0.2808 - categorical_accuracy: 0.8916 - recall_1: 0.8916 - precision_1: 0.8916 - val_loss: 0.4152 - val_categorical_accuracy: 0.8919 - val_recall_1: 0.8919 - val_precision_1: 0.8919\n",
      "Epoch 15/15\n",
      "128/128 [==============================] - 121s 948ms/step - loss: 0.2869 - categorical_accuracy: 0.8923 - recall_1: 0.8923 - precision_1: 0.8923 - val_loss: 0.6878 - val_categorical_accuracy: 0.8927 - val_recall_1: 0.8927 - val_precision_1: 0.8927\n"
     ]
    }
   ],
   "source": [
    "from keras.preprocessing.image import ImageDataGenerator, array_to_img, img_to_array, load_img\n",
    "\n",
    "batch_size=PARAMS['batch_size']\n",
    "\n",
    "train_datagen = ImageDataGenerator(\n",
    "        rescale=1./255,\n",
    "        shear_range=0.2,\n",
    "        zoom_range=0.2,\n",
    "        horizontal_flip=True)\n",
    "\n",
    "val_datagen = ImageDataGenerator(rescale=1./255)\n",
    "train_generator = train_datagen.flow_from_directory(\n",
    "        data_dir+'ecg_other_train_imb/',  # this is the target directory\n",
    "        target_size=(k1, k2),  # all images will be resized to 150x150\n",
    "        batch_size=batch_size,\n",
    "        class_mode='categorical')  # since we use binary_crossentropy loss, we need binary labels\n",
    "\n",
    "validation_generator = val_datagen.flow_from_directory(\n",
    "        data_dir+'ecg_other_val_imb/',\n",
    "        target_size=(k1, k2),\n",
    "        batch_size=batch_size,\n",
    "        class_mode='categorical')\n",
    "\n",
    "history=model.fit_generator(\n",
    "        train_generator,\n",
    "        #steps_per_epoch=2000 // batch_size,\n",
    "        epochs=PARAMS['num_epochs'],\n",
    "        validation_data=validation_generator,\n",
    "        #validation_steps=800 // batch_size\n",
    ")\n",
    "\n"
   ]
  },
  {
   "cell_type": "code",
   "execution_count": 13,
   "metadata": {},
   "outputs": [
    {
     "name": "stderr",
     "output_type": "stream",
     "text": [
      "NVMLError: NVML Shared Library Not Found - GPU usage metrics may not be reported.\n"
     ]
    },
    {
     "name": "stdout",
     "output_type": "stream",
     "text": [
      "https://ui.neptune.ai/icassp/ECG/e/ECG-22\n"
     ]
    }
   ],
   "source": [
    "\n",
    "#!pip install neptune-client\n",
    "import os\n",
    "import neptune\n",
    "NEPTUNE_API_TOKEN=\"eyJhcGlfYWRkcmVzcyI6Imh0dHBzOi8vdWkubmVwdHVuZS5haSIsImFwaV91cmwiOiJodHRwczovL3VpLm5lcHR1bmUuYWkiLCJhcGlfa2V5IjoiNjBlODllY2ItMDcyZC00OGNmLThjZWYtZjM2MjE4Y2M5ZDM0In0=\"\n",
    "os.environ['NEPTUNE_PROJECT']=\"icassp/ECG\"\n",
    "#os.environ['NEPTUNE_NOTEBOOK_ID']=\"4897a223-8a9f-4f00-8cec-22eda690858d\"\n",
    "os.environ['NEPTUNE_NOTEBOOK_PATH']='ECG-simple (imbalanced).ipynb'\n",
    "\n",
    "neptune.init('icassp/ECG',NEPTUNE_API_TOKEN)\n",
    "exp = neptune.create_experiment(description='ECG-simple (imbalanced)',params=PARAMS,upload_source_files=['ECG-simple (imbalanced).ipynb'],tags=PARAMS['tags'],upload_stdout=True)\n",
    "\n",
    "model.save(f'{model_dir}{str(exp)}.h5')\n",
    "neptune.log_artifact(f'{model_dir}{str(exp)}.h5')"
   ]
  },
  {
   "cell_type": "code",
   "execution_count": 14,
   "metadata": {},
   "outputs": [],
   "source": [
    "no=1\n",
    "for i in range(len(history.history['loss'])):\n",
    "    neptune.log_metric('loss',history.history['loss'][i])\n",
    "    neptune.log_metric('val loss',history.history['val_loss'][i])\n",
    "    neptune.log_metric('acc',history.history['categorical_accuracy'][i])\n",
    "    neptune.log_metric('val_acc',history.history['val_categorical_accuracy'][i])\n",
    "    neptune.log_metric('precision',history.history['precision_%d'%no][i])\n",
    "    neptune.log_metric('val_precision',history.history['val_precision_%d'%no][i])\n",
    "    neptune.log_metric('recall',history.history['recall_%d'%no][i])\n",
    "    neptune.log_metric('val_recall',history.history['val_recall_%d'%no][i])"
   ]
  },
  {
   "cell_type": "code",
   "execution_count": null,
   "metadata": {},
   "outputs": [],
   "source": [
    "for i in range(len(history.history['loss'])):\n",
    "    neptune.log_metric('loss',history.history['loss'][i])\n",
    "    neptune.log_metric('val loss',history.history['val_loss'][i])\n",
    "    neptune.log_metric('acc',history.history['categorical_accuracy'][i])\n",
    "    neptune.log_metric('val_acc',history.history['val_categorical_accuracy'][i])\n",
    "    neptune.log_metric('precision',history.history['precision'][i])\n",
    "    neptune.log_metric('val_precision',history.history['val_precision'][i])\n",
    "    neptune.log_metric('recall',history.history['recall'][i])\n",
    "    neptune.log_metric('val_recall',history.history['val_recall'][i])"
   ]
  },
  {
   "cell_type": "code",
   "execution_count": 15,
   "metadata": {},
   "outputs": [
    {
     "name": "stdout",
     "output_type": "stream",
     "text": [
      "Found 874 images belonging to 2 classes.\n"
     ]
    }
   ],
   "source": [
    "test_datagen = ImageDataGenerator(rescale=1./255)\n",
    "test_generator = test_datagen.flow_from_directory(\n",
    "        data_dir+'ecg_other_test_imb/',  # this is the target directory\n",
    "        target_size=(k1, k2),  # all images will be resized to 150x150\n",
    "        batch_size=len(os.listdir(data_dir+'ecg_other_test_imb/1'))+len(os.listdir(data_dir+'ecg_other_test_imb/0')),\n",
    "        class_mode='categorical')\n",
    "\n",
    "X,y = test_generator.next()\n",
    "prediction = model.predict(X)\n",
    "\n",
    "import numpy as np\n",
    "\n",
    "y_test=np.argmax(y,axis=1)\n",
    "y_pred=prediction\n",
    "from neptunecontrib.monitoring.metrics import *\n",
    "\n",
    "threshold = 0.5\n",
    "\n",
    "log_confusion_matrix(y_test, y_pred[:, 1] > threshold)\n",
    "log_classification_report(y_test, y_pred[:, 1] > threshold)\n",
    "log_class_metrics(y_test, y_pred[:, 1] > threshold)\n",
    "log_class_metrics_by_threshold(y_test, y_pred[:, 1])\n",
    "log_roc_auc(y_test, y_pred)\n",
    "log_precision_recall_auc(y_test, y_pred)\n",
    "log_brier_loss(y_test, y_pred[:, 1])\n",
    "log_log_loss(y_test, y_pred)\n",
    "log_ks_statistic(y_test, y_pred)\n",
    "log_cumulative_gain(y_test, y_pred)\n",
    "log_lift_curve(y_test, y_pred)\n",
    "log_prediction_distribution(y_test, y_pred[:, 1])\n",
    "neptune.stop()"
   ]
  },
  {
   "cell_type": "code",
   "execution_count": null,
   "metadata": {},
   "outputs": [],
   "source": []
  }
 ],
 "metadata": {
  "kernelspec": {
   "display_name": "Python 3",
   "language": "python",
   "name": "python3"
  },
  "language_info": {
   "codemirror_mode": {
    "name": "ipython",
    "version": 3
   },
   "file_extension": ".py",
   "mimetype": "text/x-python",
   "name": "python",
   "nbconvert_exporter": "python",
   "pygments_lexer": "ipython3",
   "version": "3.6.9"
  }
 },
 "nbformat": 4,
 "nbformat_minor": 4
}
