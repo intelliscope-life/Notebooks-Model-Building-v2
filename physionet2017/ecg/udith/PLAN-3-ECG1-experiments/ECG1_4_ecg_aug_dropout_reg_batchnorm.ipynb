{
 "cells": [
  {
   "cell_type": "code",
   "execution_count": 1,
   "metadata": {},
   "outputs": [],
   "source": [
    "import sys\n",
    "sys.path.append('/home/ubuntu/intelliscope/modules')"
   ]
  },
  {
   "cell_type": "code",
   "execution_count": 2,
   "metadata": {},
   "outputs": [],
   "source": [
    "import tensorflow as tf\n",
    "\n",
    "PARAMS = {\n",
    "\n",
    "    #'notebook_name':'ECG1_1_ecg_aug.ipynb',\n",
    "    #'notebook_name':'ECG1_2_ecg_aug_dropout.ipynb',\n",
    "    #'notebook_name':'ECG1_3_ecg_aug_dropout_reg.ipynb',\n",
    "    'notebook_name':'ECG1_4_ecg_aug_dropout_reg_batchnorm.ipynb',\n",
    "    #'notebook_name':'ECG1_5_ecg_aug_dropout_reg_batchnorm_dilatedconv.ipynb',\n",
    "    \n",
    "    #'name':'ECG1_1_ecg_aug',\n",
    "    #'name':'ECG1_2_ecg_aug_dropout',\n",
    "    #'name':'ECG1_3_ecg_aug_dropout_reg',\n",
    "    'name':'ECG1_4_ecg_aug_dropout_reg_batchnorm',\n",
    "    #'name':'ECG1_5_ecg_aug_dropout_reg_batchnorm_dilatedconv',\n",
    "    \n",
    "    \n",
    "    'augmentation':True,\n",
    "    \n",
    "    #'dropout':None,'batchnorm':False, 'regularization':False, 'dilated_conv':False, \n",
    "    #'dropout':0.2,'batchnorm':False, 'regularization':False, 'dilated_conv':False, \n",
    "    #'dropout':0.2,'batchnorm':False, 'regularization':True, 'dilated_conv':False, \n",
    "    'dropout':0.2,'batchnorm':True, 'regularization':True, 'dilated_conv':False, \n",
    "    #'dropout':0.2,'batchnorm':True, 'regularization':True, 'dilated_conv':True, \n",
    "    \n",
    "    ############################\n",
    "    'description':'base model- advanced',\n",
    "\n",
    "\n",
    "    'data_dir':'/home/ubuntu/intelliscope/for_dataloaders/waveletcomb1/dataA/ecg/balanced', ####\n",
    "    'modelsave_dir':'/home/ubuntu/intelliscope/models',\n",
    "    'modelload_dir':'', \n",
    "    'num_epochs': 10,\n",
    "    \n",
    "    'validation_split':0.1,\n",
    "    'test_split': 0.2,\n",
    "    'batch_size':32,\n",
    "    'data_balanced':True,\n",
    "    'wavelet':'comb1',\n",
    "    'dataset':'physionet2016-a', ###\n",
    "    'pcg/ecg': 'ecg', ###\n",
    "    'model':'base',\n",
    "    'opt':tf.keras.optimizers.Adam(learning_rate=0.001, beta_1=0.9, beta_2=0.999, epsilon=1e-07),\n",
    "    'tags':['CASS'],\n",
    "    'pretrained': False,\n",
    "    \n",
    "\n",
    "}\n",
    "\n",
    "\n",
    "data_dir=PARAMS['data_dir']\n",
    "modelsave_dir=PARAMS['modelsave_dir']\n",
    "modelload_dir=PARAMS['modelload_dir']"
   ]
  },
  {
   "cell_type": "code",
   "execution_count": 3,
   "metadata": {},
   "outputs": [],
   "source": [
    "import os\n",
    "from tensorflow import keras\n",
    "from tensorflow.keras.models import Sequential, load_model\n",
    "from tensorflow.keras.layers import Conv2D, MaxPooling2D\n",
    "from tensorflow.keras.layers import Activation, Dropout, Flatten, Dense, Lambda,BatchNormalization\n",
    "from tensorflow.keras import backend as K\n",
    "from tensorflow_addons.layers import InstanceNormalization\n",
    "\n",
    "from tensorflow.keras.layers import Activation, Dropout, Flatten, Dense, Lambda\n",
    "from tensorflow.keras.preprocessing.image import ImageDataGenerator, array_to_img, img_to_array, load_img\n",
    "\n",
    "\n",
    "from PIL import ImageFile\n",
    "ImageFile.LOAD_TRUNCATED_IMAGES = True"
   ]
  },
  {
   "cell_type": "code",
   "execution_count": 4,
   "metadata": {},
   "outputs": [
    {
     "name": "stdout",
     "output_type": "stream",
     "text": [
      "loading model\n"
     ]
    }
   ],
   "source": [
    "if PARAMS['pretrained']==True:\n",
    "    model=load_model(modelload_dir)\n",
    "else:\n",
    "    model = tf.keras.models.Sequential([\n",
    "        tf.keras.layers.Conv2D(4, kernel_size=(7,7), padding='same', activation='relu', input_shape=(272,462, 3)),\n",
    "        tf.keras.layers.MaxPool2D(pool_size=(3,3)),\n",
    "        tf.keras.layers.Conv2D(16, kernel_size=(7,7), activation='relu'),\n",
    "        tf.keras.layers.MaxPool2D(pool_size=(3,3)),\n",
    "        tf.keras.layers.Conv2D(32, kernel_size=(7,7), activation='relu'),\n",
    "        tf.keras.layers.MaxPool2D(pool_size=(3,3)),\n",
    "        tf.keras.layers.Conv2D(64, kernel_size=(3,3), activation='relu'),\n",
    "        tf.keras.layers.Flatten(),\n",
    "        tf.keras.layers.Dense(84, activation='relu'),\n",
    "        tf.keras.layers.Dense(20, activation='relu'),\n",
    "        tf.keras.layers.Dense(2, activation='softmax')\n",
    "    ])\n",
    "    if PARAMS['dropout']!=None:\n",
    "        model = tf.keras.models.Sequential([\n",
    "            tf.keras.layers.Conv2D(4, kernel_size=(7,7), padding='same', activation='relu', input_shape=(272,462, 3)),\n",
    "            tf.keras.layers.MaxPool2D(pool_size=(3,3)),\n",
    "            tf.keras.layers.Dropout(PARAMS['dropout']),\n",
    "            tf.keras.layers.Conv2D(16, kernel_size=(7,7), activation='relu'),\n",
    "            tf.keras.layers.MaxPool2D(pool_size=(3,3)),\n",
    "            tf.keras.layers.Dropout(PARAMS['dropout']),\n",
    "            tf.keras.layers.Conv2D(32, kernel_size=(7,7), activation='relu'),\n",
    "            tf.keras.layers.MaxPool2D(pool_size=(3,3)),\n",
    "            tf.keras.layers.Dropout(PARAMS['dropout']),\n",
    "            tf.keras.layers.Conv2D(64, kernel_size=(3,3), activation='relu'),\n",
    "            tf.keras.layers.Flatten(),\n",
    "            tf.keras.layers.Dense(84, activation='relu'),\n",
    "            tf.keras.layers.Dropout(PARAMS['dropout']),\n",
    "            tf.keras.layers.Dense(20, activation='relu'),\n",
    "            tf.keras.layers.Dense(2, activation='softmax')\n",
    "        ])\n",
    "    if PARAMS['dropout']!=None and PARAMS['regularization']==True:\n",
    "        print('loading model')\n",
    "        model = tf.keras.models.Sequential([\n",
    "            tf.keras.layers.Conv2D(4, kernel_size=(7,7), padding='same', activation='relu', input_shape=(272,462, 3)),\n",
    "            tf.keras.layers.MaxPool2D(pool_size=(3,3)),\n",
    "            tf.keras.layers.Dropout(PARAMS['dropout']),\n",
    "            tf.keras.layers.Conv2D(16, kernel_size=(7,7), activation='relu',kernel_regularizer=tf.keras.regularizers.l1(0.001),activity_regularizer=tf.keras.regularizers.l2(0.001)),\n",
    "            tf.keras.layers.MaxPool2D(pool_size=(3,3)),\n",
    "            tf.keras.layers.Dropout(PARAMS['dropout']),\n",
    "            tf.keras.layers.Conv2D(32, kernel_size=(7,7), activation='relu'),\n",
    "            tf.keras.layers.MaxPool2D(pool_size=(3,3)),\n",
    "            tf.keras.layers.Dropout(PARAMS['dropout']),\n",
    "            tf.keras.layers.Conv2D(64, kernel_size=(3,3), activation='relu'),\n",
    "            tf.keras.layers.Flatten(),\n",
    "            tf.keras.layers.Dense(84, activation='relu'),\n",
    "            tf.keras.layers.Dropout(PARAMS['dropout']),\n",
    "            tf.keras.layers.Dense(20, activation='relu'),\n",
    "            tf.keras.layers.Dense(2, activation='softmax')\n",
    "        ])\n",
    "            \n",
    "        \n",
    "    if PARAMS['dropout']!=None and PARAMS['regularization']==True and PARAMS['batchnorm']==True:\n",
    "        model = tf.keras.models.Sequential([\n",
    "            tf.keras.layers.Conv2D(4, kernel_size=(7,7), padding='same', activation='relu', input_shape=(272,462, 3)),\n",
    "            tf.keras.layers.MaxPool2D(pool_size=(3,3)),\n",
    "            tf.keras.layers.BatchNormalization(axis=-1, momentum=0.99, epsilon=0.001, center=True, scale=True, beta_initializer='zeros', gamma_initializer='ones', moving_mean_initializer='zeros', moving_variance_initializer='ones', beta_regularizer=None, gamma_regularizer=None, beta_constraint=None, gamma_constraint=None),\n",
    "            tf.keras.layers.Dropout(PARAMS['dropout']),\n",
    "            tf.keras.layers.Conv2D(16, kernel_size=(7,7), activation='relu',kernel_regularizer=tf.keras.regularizers.l1(0.01),activity_regularizer=tf.keras.regularizers.l2(0.01)),\n",
    "            tf.keras.layers.MaxPool2D(pool_size=(3,3)),\n",
    "            tf.keras.layers.BatchNormalization(axis=-1, momentum=0.99, epsilon=0.001, center=True, scale=True, beta_initializer='zeros', gamma_initializer='ones', moving_mean_initializer='zeros', moving_variance_initializer='ones', beta_regularizer=None, gamma_regularizer=None, beta_constraint=None, gamma_constraint=None),\n",
    "            tf.keras.layers.Dropout(PARAMS['dropout']),\n",
    "            tf.keras.layers.Conv2D(32, kernel_size=(7,7), activation='relu'),\n",
    "            tf.keras.layers.MaxPool2D(pool_size=(3,3)),\n",
    "            tf.keras.layers.BatchNormalization(axis=-1, momentum=0.99, epsilon=0.001, center=True, scale=True, beta_initializer='zeros', gamma_initializer='ones', moving_mean_initializer='zeros', moving_variance_initializer='ones', beta_regularizer=None, gamma_regularizer=None, beta_constraint=None, gamma_constraint=None),\n",
    "            tf.keras.layers.Dropout(PARAMS['dropout']),\n",
    "            tf.keras.layers.Conv2D(64, kernel_size=(3,3), activation='relu'),\n",
    "            tf.keras.layers.BatchNormalization(axis=-1, momentum=0.99, epsilon=0.001, center=True, scale=True, beta_initializer='zeros', gamma_initializer='ones', moving_mean_initializer='zeros', moving_variance_initializer='ones', beta_regularizer=None, gamma_regularizer=None, beta_constraint=None, gamma_constraint=None),\n",
    "            tf.keras.layers.Flatten(),\n",
    "            tf.keras.layers.Dense(84, activation='relu'),\n",
    "            tf.keras.layers.Dropout(PARAMS['dropout']),\n",
    "            tf.keras.layers.Dense(20, activation='relu'),\n",
    "            tf.keras.layers.Dense(2, activation='softmax')\n",
    "        ])     \n",
    "        \n",
    "\n",
    "    if PARAMS['dropout']!=None and PARAMS['regularization']==True and PARAMS['batchnorm']==True and PARAMS['dilated_conv']==True:\n",
    "        model = tf.keras.models.Sequential([\n",
    "            tf.keras.layers.Conv2D(4, kernel_size=(7,7), padding='same', dilation_rate=(1,1), activation='relu', input_shape=(272,462, 3)),\n",
    "            tf.keras.layers.MaxPool2D(pool_size=(3,3)),\n",
    "            tf.keras.layers.BatchNormalization(axis=-1, momentum=0.99, epsilon=0.001, center=True, scale=True, beta_initializer='zeros', gamma_initializer='ones', moving_mean_initializer='zeros', moving_variance_initializer='ones', beta_regularizer=None, gamma_regularizer=None, beta_constraint=None, gamma_constraint=None),\n",
    "            tf.keras.layers.Dropout(PARAMS['dropout']),\n",
    "            tf.keras.layers.Conv2D(16, kernel_size=(7,7), activation='relu', dilation_rate=(1,1) ,kernel_regularizer=tf.keras.regularizers.l1(0.01),activity_regularizer=tf.keras.regularizers.l2(0.01)),\n",
    "            tf.keras.layers.MaxPool2D(pool_size=(3,3)),\n",
    "            tf.keras.layers.BatchNormalization(axis=-1, momentum=0.99, epsilon=0.001, center=True, scale=True, beta_initializer='zeros', gamma_initializer='ones', moving_mean_initializer='zeros', moving_variance_initializer='ones', beta_regularizer=None, gamma_regularizer=None, beta_constraint=None, gamma_constraint=None),\n",
    "            tf.keras.layers.Dropout(PARAMS['dropout']),\n",
    "            tf.keras.layers.Conv2D(32, kernel_size=(7,7), activation='relu',dilation_rate=(1,1) ),\n",
    "            tf.keras.layers.MaxPool2D(pool_size=(3,3)),\n",
    "            tf.keras.layers.BatchNormalization(axis=-1, momentum=0.99, epsilon=0.001, center=True, scale=True, beta_initializer='zeros', gamma_initializer='ones', moving_mean_initializer='zeros', moving_variance_initializer='ones', beta_regularizer=None, gamma_regularizer=None, beta_constraint=None, gamma_constraint=None),\n",
    "            tf.keras.layers.Dropout(PARAMS['dropout']),\n",
    "            tf.keras.layers.Conv2D(64, kernel_size=(3,3), activation='relu',dilation_rate=(1,1) ),\n",
    "            tf.keras.layers.BatchNormalization(axis=-1, momentum=0.99, epsilon=0.001, center=True, scale=True, beta_initializer='zeros', gamma_initializer='ones', moving_mean_initializer='zeros', moving_variance_initializer='ones', beta_regularizer=None, gamma_regularizer=None, beta_constraint=None, gamma_constraint=None),\n",
    "            tf.keras.layers.Flatten(),\n",
    "            tf.keras.layers.Dense(84, activation='relu'),\n",
    "            tf.keras.layers.Dropout(PARAMS['dropout']),\n",
    "            tf.keras.layers.Dense(20, activation='relu'),\n",
    "            tf.keras.layers.Dense(2, activation='softmax')\n",
    "        ])  \n"
   ]
  },
  {
   "cell_type": "code",
   "execution_count": 5,
   "metadata": {},
   "outputs": [],
   "source": [
    "\n",
    "\n",
    "\n",
    "model.compile(optimizer=PARAMS['opt'], \n",
    "              loss=keras.losses.CategoricalCrossentropy(),\n",
    "              metrics=[keras.metrics.CategoricalAccuracy()])\n"
   ]
  },
  {
   "cell_type": "code",
   "execution_count": 6,
   "metadata": {},
   "outputs": [
    {
     "data": {
      "text/plain": [
       "\"\\nrescale(data_dir+'/train/0')\\nrescale(data_dir+'/train/1')\\nrescale(data_dir+'/val/0')\\nrescale(data_dir+'/val/1')\\nrescale(data_dir+'/test/0')\\nrescale(data_dir+'/test/1')\\ncheck_rescale(data_dir+'/train/0')\\ncheck_rescale(data_dir+'/train/1')\\ncheck_rescale(data_dir+'/val/0')\\ncheck_rescale(data_dir+'/val/1')\\ncheck_rescale(data_dir+'/test/0')\\ncheck_rescale(data_dir+'/test/1')\\n\""
      ]
     },
     "execution_count": 6,
     "metadata": {},
     "output_type": "execute_result"
    }
   ],
   "source": [
    "from intelliscope import rescale, check_rescale\n",
    "\n",
    "'''\n",
    "rescale(data_dir+'/train/0')\n",
    "rescale(data_dir+'/train/1')\n",
    "rescale(data_dir+'/val/0')\n",
    "rescale(data_dir+'/val/1')\n",
    "rescale(data_dir+'/test/0')\n",
    "rescale(data_dir+'/test/1')\n",
    "check_rescale(data_dir+'/train/0')\n",
    "check_rescale(data_dir+'/train/1')\n",
    "check_rescale(data_dir+'/val/0')\n",
    "check_rescale(data_dir+'/val/1')\n",
    "check_rescale(data_dir+'/test/0')\n",
    "check_rescale(data_dir+'/test/1')\n",
    "'''\n"
   ]
  },
  {
   "cell_type": "code",
   "execution_count": 7,
   "metadata": {},
   "outputs": [
    {
     "name": "stdout",
     "output_type": "stream",
     "text": [
      "augmentation applied ...\n",
      "Found 1428 images belonging to 2 classes.\n",
      "Found 194 images belonging to 2 classes.\n"
     ]
    },
    {
     "name": "stderr",
     "output_type": "stream",
     "text": [
      "/home/ubuntu/core-env/lib/python3.6/site-packages/keras_preprocessing/image/utils.py:179: UserWarning: Using \".tiff\" files with multiple bands will cause distortion. Please verify your output.\n",
      "  warnings.warn('Using \".tiff\" files with multiple bands '\n"
     ]
    },
    {
     "name": "stdout",
     "output_type": "stream",
     "text": [
      "WARNING:tensorflow:From <ipython-input-7-ed769443ce51>:37: Model.fit_generator (from tensorflow.python.keras.engine.training) is deprecated and will be removed in a future version.\n",
      "Instructions for updating:\n",
      "Please use Model.fit, which supports generators.\n",
      "WARNING:tensorflow:sample_weight modes were coerced from\n",
      "  ...\n",
      "    to  \n",
      "  ['...']\n",
      "WARNING:tensorflow:sample_weight modes were coerced from\n",
      "  ...\n",
      "    to  \n",
      "  ['...']\n",
      "Train for 45 steps, validate for 7 steps\n",
      "Epoch 1/10\n",
      "45/45 [==============================] - 80s 2s/step - loss: 121.8005 - categorical_accuracy: 0.5679 - val_loss: 4.8430 - val_categorical_accuracy: 0.4794\n",
      "Epoch 2/10\n",
      "45/45 [==============================] - 79s 2s/step - loss: 24.7596 - categorical_accuracy: 0.6268 - val_loss: 2.2266 - val_categorical_accuracy: 0.4794\n",
      "Epoch 3/10\n",
      "45/45 [==============================] - 79s 2s/step - loss: 9.4382 - categorical_accuracy: 0.6835 - val_loss: 2.3814 - val_categorical_accuracy: 0.4794\n",
      "Epoch 4/10\n",
      "45/45 [==============================] - 78s 2s/step - loss: 3.9006 - categorical_accuracy: 0.6667 - val_loss: 2.6620 - val_categorical_accuracy: 0.4794\n",
      "Epoch 5/10\n",
      "45/45 [==============================] - 78s 2s/step - loss: 2.4505 - categorical_accuracy: 0.6464 - val_loss: 2.1909 - val_categorical_accuracy: 0.4794\n",
      "Epoch 6/10\n",
      "45/45 [==============================] - 80s 2s/step - loss: 1.9862 - categorical_accuracy: 0.6597 - val_loss: 3.8667 - val_categorical_accuracy: 0.4794\n",
      "Epoch 7/10\n",
      "45/45 [==============================] - 79s 2s/step - loss: 1.7785 - categorical_accuracy: 0.6842 - val_loss: 3.2059 - val_categorical_accuracy: 0.4794\n",
      "Epoch 8/10\n",
      "45/45 [==============================] - 81s 2s/step - loss: 1.6809 - categorical_accuracy: 0.6639 - val_loss: 5.1168 - val_categorical_accuracy: 0.4794\n",
      "Epoch 9/10\n",
      "45/45 [==============================] - 77s 2s/step - loss: 1.6154 - categorical_accuracy: 0.6758 - val_loss: 3.5529 - val_categorical_accuracy: 0.4794\n",
      "Epoch 10/10\n",
      "45/45 [==============================] - 69s 2s/step - loss: 1.5488 - categorical_accuracy: 0.7031 - val_loss: 2.7472 - val_categorical_accuracy: 0.4794\n"
     ]
    }
   ],
   "source": [
    "batch_size=PARAMS['batch_size']\n",
    "\n",
    "import numpy as np\n",
    "\n",
    "if PARAMS['augmentation']==True:\n",
    "    print('augmentation applied ...')\n",
    "    train_datagen = ImageDataGenerator(\n",
    "            rescale=1./255,\n",
    "            shear_range=0.2,\n",
    "            zoom_range=0.2,\n",
    "            horizontal_flip=True)\n",
    "else:\n",
    "    train_datagen = ImageDataGenerator(rescale=1./255)\n",
    "    \n",
    "val_datagen = ImageDataGenerator(rescale=1./255)\n",
    "\n",
    "train_generator = train_datagen.flow_from_directory(\n",
    "    data_dir+'/train',\n",
    "    target_size=(272, 462),  \n",
    "    batch_size=PARAMS['batch_size'],\n",
    "    class_mode='categorical',\n",
    "    shuffle=True,\n",
    "    seed=10)\n",
    "\n",
    "val_generator = val_datagen.flow_from_directory(\n",
    "    data_dir+'/val',\n",
    "    target_size=(272, 462),  \n",
    "    batch_size=PARAMS['batch_size'],\n",
    "    class_mode='categorical',\n",
    "    shuffle=True,\n",
    "    seed=10)\n",
    "\n",
    "\n",
    "history=model.fit_generator(\n",
    "        train_generator,\n",
    "        epochs=PARAMS['num_epochs'],\n",
    "        validation_data=val_generator)"
   ]
  },
  {
   "cell_type": "code",
   "execution_count": 8,
   "metadata": {},
   "outputs": [
    {
     "name": "stderr",
     "output_type": "stream",
     "text": [
      "WARNING: There is a new version of neptune-client 0.4.125 (installed: 0.4.124).\n",
      "NVMLError: NVML Shared Library Not Found - GPU usage metrics may not be reported.\n"
     ]
    },
    {
     "name": "stdout",
     "output_type": "stream",
     "text": [
      "https://ui.neptune.ai/intelliscope/ECG/e/ECG-13\n"
     ]
    }
   ],
   "source": [
    "#!pip install neptune-client\n",
    "import os\n",
    "import neptune\n",
    "NEPTUNE_API_TOKEN='eyJhcGlfYWRkcmVzcyI6Imh0dHBzOi8vdWkubmVwdHVuZS5haSIsImFwaV91cmwiOiJodHRwczovL3VpLm5lcHR1bmUuYWkiLCJhcGlfa2V5IjoiMzc1YTM5OGMtYTY3Ny00ZmM4LTg5ZGQtOGI2YTQ1YmZiMDkzIn0='\n",
    "os.environ['NEPTUNE_PROJECT']=\"intelliscope/ECG\"\n",
    "\n",
    "neptune.init('intelliscope/ECG',NEPTUNE_API_TOKEN)\n",
    "exp = neptune.create_experiment(name=PARAMS['name'],description=PARAMS['description'],params=PARAMS,upload_source_files=PARAMS['notebook_name'],tags=PARAMS['tags'],upload_stdout=True)\n",
    "\n",
    "model.summary(print_fn=lambda x: neptune.log_text('model_summary', x))\n",
    "model.save(f'{modelsave_dir}/{str(exp)}.h5')\n",
    "neptune.log_artifact(f'{modelsave_dir}/{str(exp)}.h5')\n",
    "\n",
    "for i in range(len(history.history['loss'])):\n",
    "    neptune.log_metric('loss',history.history['loss'][i])\n",
    "    neptune.log_metric('val loss',history.history['val_loss'][i])\n",
    "    neptune.log_metric('categorical_acc',history.history['categorical_accuracy'][i])\n",
    "    neptune.log_metric('val_categorical_acc',history.history['val_categorical_accuracy'][i])"
   ]
  },
  {
   "cell_type": "markdown",
   "metadata": {},
   "source": [
    "# Test and Log results on test data"
   ]
  },
  {
   "cell_type": "code",
   "execution_count": 9,
   "metadata": {},
   "outputs": [
    {
     "name": "stdout",
     "output_type": "stream",
     "text": [
      "Found 388 images belonging to 2 classes.\n"
     ]
    },
    {
     "name": "stderr",
     "output_type": "stream",
     "text": [
      "Invalid metric value: nan for channel negative_predictive_value. Metrics with nan or +/-inf values will not be sent to server\n"
     ]
    }
   ],
   "source": [
    "import numpy as np\n",
    "from neptunecontrib.monitoring.metrics import *\n",
    "\n",
    "test_datagen = ImageDataGenerator(rescale=1./255)\n",
    "test_generator = test_datagen.flow_from_directory(\n",
    "        data_dir+'/test',  # this is the target directory\n",
    "        target_size=(272, 462),  # all images will be resized to 150x150\n",
    "        batch_size=len(os.listdir(data_dir+'/test/1'))+len(os.listdir(data_dir+'/test/0')),\n",
    "        class_mode='categorical', seed=7)\n",
    "\n",
    "X,y = test_generator.next()\n",
    "prediction = model.predict(X)\n",
    "\n",
    "\n",
    "y_test=np.argmax(y,axis=1)\n",
    "y_pred=prediction\n",
    "\n",
    "threshold = 0.5\n",
    "\n",
    "log_confusion_matrix(y_test, y_pred[:, 1] > threshold)\n",
    "log_classification_report(y_test, y_pred[:, 1] > threshold)\n",
    "log_class_metrics(y_test, y_pred[:, 1] > threshold)\n",
    "log_class_metrics_by_threshold(y_test, y_pred[:, 1])\n",
    "log_brier_loss(y_test, y_pred[:, 1])\n",
    "log_prediction_distribution(y_test, y_pred[:, 1])\n",
    "\n",
    "log_log_loss(y_test, y_pred)\n",
    "log_roc_auc(y_test, y_pred)\n",
    "log_precision_recall_auc(y_test, y_pred)\n",
    "log_ks_statistic(y_test, y_pred)\n",
    "log_cumulative_gain(y_test, y_pred)\n",
    "log_lift_curve(y_test, y_pred)"
   ]
  },
  {
   "cell_type": "code",
   "execution_count": 10,
   "metadata": {},
   "outputs": [],
   "source": [
    "neptune.stop()"
   ]
  },
  {
   "cell_type": "code",
   "execution_count": null,
   "metadata": {},
   "outputs": [],
   "source": []
  },
  {
   "cell_type": "code",
   "execution_count": null,
   "metadata": {},
   "outputs": [],
   "source": []
  }
 ],
 "metadata": {
  "kernelspec": {
   "display_name": "Python 3",
   "language": "python",
   "name": "python3"
  },
  "language_info": {
   "codemirror_mode": {
    "name": "ipython",
    "version": 3
   },
   "file_extension": ".py",
   "mimetype": "text/x-python",
   "name": "python",
   "nbconvert_exporter": "python",
   "pygments_lexer": "ipython3",
   "version": "3.6.9"
  }
 },
 "nbformat": 4,
 "nbformat_minor": 4
}
