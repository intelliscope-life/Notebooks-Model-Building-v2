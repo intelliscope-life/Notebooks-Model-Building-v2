{
 "cells": [
  {
   "cell_type": "code",
   "execution_count": 13,
   "metadata": {},
   "outputs": [],
   "source": [
    "data_dir='/home/ubuntu/intelliscope/ecg_data/'# fill # data_dir/ecg_other_train, ecg_other_val, ... ecg_other_train_imb, ..should be there\n",
    "model_dir='/home/ubuntu/intelliscope/notebooks/physionet2017/ecg/models/'"
   ]
  },
  {
   "cell_type": "code",
   "execution_count": null,
   "metadata": {},
   "outputs": [],
   "source": []
  },
  {
   "cell_type": "code",
   "execution_count": 3,
   "metadata": {},
   "outputs": [
    {
     "name": "stdout",
     "output_type": "stream",
     "text": [
      "imb:: N:5068, A:757\n",
      "balanceed:: N:757, A:757\n"
     ]
    }
   ],
   "source": [
    "import os\n",
    "a1=len(os.listdir('/home/ubuntu/intelliscope/ecg_data/ecg_other_train_imb/0'))\n",
    "a2=len(os.listdir('/home/ubuntu/intelliscope/ecg_data/ecg_other_val_imb/0'))\n",
    "a3=len(os.listdir('/home/ubuntu/intelliscope/ecg_data/ecg_other_test_imb/0'))\n",
    "\n",
    "a4=len(os.listdir('/home/ubuntu/intelliscope/ecg_data/ecg_other_train_imb/1'))\n",
    "a5=len(os.listdir('/home/ubuntu/intelliscope/ecg_data/ecg_other_val_imb/1'))\n",
    "a6=len(os.listdir('/home/ubuntu/intelliscope/ecg_data/ecg_other_test_imb/1'))\n",
    "\n",
    "a7=len(os.listdir('/home/ubuntu/intelliscope/ecg_data/ecg_other_train/0'))\n",
    "a8=len(os.listdir('/home/ubuntu/intelliscope/ecg_data/ecg_other_val/0'))\n",
    "a9=len(os.listdir('/home/ubuntu/intelliscope/ecg_data/ecg_other_test/0'))\n",
    "\n",
    "a10=len(os.listdir('/home/ubuntu/intelliscope/ecg_data/ecg_other_train/1'))\n",
    "a11=len(os.listdir('/home/ubuntu/intelliscope/ecg_data/ecg_other_val/1'))\n",
    "a12=len(os.listdir('/home/ubuntu/intelliscope/ecg_data/ecg_other_test/1'))\n",
    "\n",
    "print(f'imb:: N:{a1+a2+a3}, A:{a4+a5+a6}')\n",
    "print(f'balanceed:: N:{a7+a8+a9}, A:{a10+a11+a12}')"
   ]
  },
  {
   "cell_type": "code",
   "execution_count": 4,
   "metadata": {},
   "outputs": [],
   "source": [
    "PARAMS = {\n",
    "          'epochs' : 15,\n",
    "         'validation_split':0.15,\n",
    "         'batch_size' : 32,\n",
    "            'model': 'complex',\n",
    "          'data_balanced':True,\n",
    "            'num_epochs':15,\n",
    "            'opt':'adam',\n",
    "            'tags': ['instance_norm added', 'dropout added'],\n",
    "         }"
   ]
  },
  {
   "cell_type": "code",
   "execution_count": 5,
   "metadata": {},
   "outputs": [
    {
     "name": "stderr",
     "output_type": "stream",
     "text": [
      "Using TensorFlow backend.\n"
     ]
    }
   ],
   "source": [
    "import os\n",
    "from tensorflow import keras\n",
    "from keras.models import Sequential\n",
    "from keras.layers import Conv2D, MaxPooling2D\n",
    "from keras.layers import Activation, Dropout, Flatten, Dense, Lambda\n",
    "from keras import backend as K\n",
    "import tensorflow_addons as tfa\n",
    "\n",
    "\n",
    "from PIL import ImageFile\n",
    "ImageFile.LOAD_TRUNCATED_IMAGES = True\n",
    "import tensorflow as tf"
   ]
  },
  {
   "cell_type": "code",
   "execution_count": 6,
   "metadata": {},
   "outputs": [],
   "source": [
    "\n",
    "\n",
    "#k1,k2=100,100\n",
    "k1,k2=272, 462\n",
    "\n",
    "model = tf.keras.models.Sequential([\n",
    "    tf.keras.layers.Conv2D(4, kernel_size=(7,7), padding='same', activation='relu', input_shape=(272,462, 3)),\n",
    "    tf.keras.layers.MaxPool2D(pool_size=(3,3)),\n",
    "    tfa.layers.InstanceNormalization(axis=3, center=True, scale=True,beta_initializer=\"random_uniform\",gamma_initializer=\"random_uniform\"),\n",
    "    tf.keras.layers.Dropout(0.2),\n",
    "    tf.keras.layers.Conv2D(16, kernel_size=(7,7), activation='relu'),\n",
    "    tf.keras.layers.MaxPool2D(pool_size=(3,3)),\n",
    "    tfa.layers.InstanceNormalization(axis=3, center=True, scale=True,beta_initializer=\"random_uniform\",gamma_initializer=\"random_uniform\"),\n",
    "    tf.keras.layers.Dropout(0.2),\n",
    "    tf.keras.layers.Conv2D(32, kernel_size=(7,7), activation='relu'),\n",
    "    tf.keras.layers.MaxPool2D(pool_size=(3,3)),\n",
    "    tfa.layers.InstanceNormalization(axis=3, center=True, scale=True,beta_initializer=\"random_uniform\",gamma_initializer=\"random_uniform\"),\n",
    "    tf.keras.layers.Dropout(0.2),\n",
    "    tf.keras.layers.Conv2D(64, kernel_size=(3,3), activation='relu'),\n",
    "    tfa.layers.InstanceNormalization(axis=3, center=True, scale=True,beta_initializer=\"random_uniform\",gamma_initializer=\"random_uniform\"),\n",
    "    tf.keras.layers.Flatten(),\n",
    "    tf.keras.layers.Dense(84, activation='relu'),\n",
    "    tf.keras.layers.Dropout(0.2),\n",
    "    tf.keras.layers.Dense(20, activation='relu'),\n",
    "    tf.keras.layers.Dense(2, activation='softmax')\n",
    "])\n",
    "\n",
    "\n",
    "\n",
    "model.compile(loss=keras.losses.CategoricalCrossentropy(),\n",
    "              optimizer=PARAMS['opt'],\n",
    "              metrics=[keras.metrics.CategoricalAccuracy(), keras.metrics.Recall(),keras.metrics.Precision()])"
   ]
  },
  {
   "cell_type": "code",
   "execution_count": 7,
   "metadata": {},
   "outputs": [
    {
     "name": "stdout",
     "output_type": "stream",
     "text": [
      "Found 1004 images belonging to 2 classes.\n",
      "Found 254 images belonging to 2 classes.\n",
      "WARNING:tensorflow:From <ipython-input-7-e8d3b8178e0f>:28: Model.fit_generator (from tensorflow.python.keras.engine.training) is deprecated and will be removed in a future version.\n",
      "Instructions for updating:\n",
      "Please use Model.fit, which supports generators.\n",
      "WARNING:tensorflow:sample_weight modes were coerced from\n",
      "  ...\n",
      "    to  \n",
      "  ['...']\n",
      "WARNING:tensorflow:sample_weight modes were coerced from\n",
      "  ...\n",
      "    to  \n",
      "  ['...']\n",
      "Train for 32 steps, validate for 8 steps\n",
      "Epoch 1/15\n",
      "32/32 [==============================] - 95s 3s/step - loss: 0.6968 - categorical_accuracy: 0.4861 - recall: 0.4861 - precision: 0.4861 - val_loss: 0.6933 - val_categorical_accuracy: 0.5000 - val_recall: 0.5000 - val_precision: 0.5000\n",
      "Epoch 2/15\n",
      "32/32 [==============================] - 105s 3s/step - loss: 0.6944 - categorical_accuracy: 0.4980 - recall: 0.4980 - precision: 0.4980 - val_loss: 0.6933 - val_categorical_accuracy: 0.5000 - val_recall: 0.5000 - val_precision: 0.5000\n",
      "Epoch 3/15\n",
      "32/32 [==============================] - 92s 3s/step - loss: 0.6938 - categorical_accuracy: 0.5000 - recall: 0.5000 - precision: 0.5000 - val_loss: 0.6926 - val_categorical_accuracy: 0.5000 - val_recall: 0.5000 - val_precision: 0.5000\n",
      "Epoch 4/15\n",
      "32/32 [==============================] - 91s 3s/step - loss: 0.6872 - categorical_accuracy: 0.5687 - recall: 0.5687 - precision: 0.5687 - val_loss: 0.6771 - val_categorical_accuracy: 0.5827 - val_recall: 0.5827 - val_precision: 0.5827\n",
      "Epoch 5/15\n",
      "32/32 [==============================] - 92s 3s/step - loss: 0.6756 - categorical_accuracy: 0.6006 - recall: 0.6006 - precision: 0.6006 - val_loss: 0.6590 - val_categorical_accuracy: 0.5984 - val_recall: 0.5984 - val_precision: 0.5984\n",
      "Epoch 6/15\n",
      "32/32 [==============================] - 91s 3s/step - loss: 0.6628 - categorical_accuracy: 0.5976 - recall: 0.5976 - precision: 0.5976 - val_loss: 0.6422 - val_categorical_accuracy: 0.6299 - val_recall: 0.6299 - val_precision: 0.6299\n",
      "Epoch 7/15\n",
      "32/32 [==============================] - 91s 3s/step - loss: 0.6290 - categorical_accuracy: 0.6574 - recall: 0.6574 - precision: 0.6574 - val_loss: 0.5733 - val_categorical_accuracy: 0.6929 - val_recall: 0.6929 - val_precision: 0.6929\n",
      "Epoch 8/15\n",
      "32/32 [==============================] - 90s 3s/step - loss: 0.6036 - categorical_accuracy: 0.6843 - recall: 0.6843 - precision: 0.6843 - val_loss: 0.5655 - val_categorical_accuracy: 0.7047 - val_recall: 0.7047 - val_precision: 0.7047\n",
      "Epoch 9/15\n",
      "32/32 [==============================] - 91s 3s/step - loss: 0.5677 - categorical_accuracy: 0.7141 - recall: 0.7141 - precision: 0.7141 - val_loss: 0.5598 - val_categorical_accuracy: 0.6969 - val_recall: 0.6969 - val_precision: 0.6969\n",
      "Epoch 10/15\n",
      "32/32 [==============================] - 91s 3s/step - loss: 0.5443 - categorical_accuracy: 0.7161 - recall: 0.7161 - precision: 0.7161 - val_loss: 0.5603 - val_categorical_accuracy: 0.7323 - val_recall: 0.7323 - val_precision: 0.7323\n",
      "Epoch 11/15\n",
      "32/32 [==============================] - 91s 3s/step - loss: 0.5175 - categorical_accuracy: 0.7251 - recall: 0.7251 - precision: 0.7251 - val_loss: 0.5512 - val_categorical_accuracy: 0.7559 - val_recall: 0.7559 - val_precision: 0.7559\n",
      "Epoch 12/15\n",
      "32/32 [==============================] - 91s 3s/step - loss: 0.5113 - categorical_accuracy: 0.7430 - recall: 0.7430 - precision: 0.7430 - val_loss: 0.5269 - val_categorical_accuracy: 0.7480 - val_recall: 0.7480 - val_precision: 0.7480\n",
      "Epoch 13/15\n",
      "32/32 [==============================] - 100s 3s/step - loss: 0.5010 - categorical_accuracy: 0.7470 - recall: 0.7470 - precision: 0.7470 - val_loss: 0.4981 - val_categorical_accuracy: 0.7520 - val_recall: 0.7520 - val_precision: 0.7520\n",
      "Epoch 14/15\n",
      "32/32 [==============================] - 93s 3s/step - loss: 0.5048 - categorical_accuracy: 0.7550 - recall: 0.7550 - precision: 0.7550 - val_loss: 0.5783 - val_categorical_accuracy: 0.7165 - val_recall: 0.7165 - val_precision: 0.7165\n",
      "Epoch 15/15\n",
      "32/32 [==============================] - 91s 3s/step - loss: 0.4999 - categorical_accuracy: 0.7510 - recall: 0.7510 - precision: 0.7510 - val_loss: 0.5397 - val_categorical_accuracy: 0.7244 - val_recall: 0.7244 - val_precision: 0.7244\n"
     ]
    }
   ],
   "source": [
    "from keras.preprocessing.image import ImageDataGenerator, array_to_img, img_to_array, load_img\n",
    "\n",
    "batch_size=PARAMS['batch_size']\n",
    "\n",
    "train_datagen = ImageDataGenerator(\n",
    "        rescale=1./255,\n",
    "        shear_range=0.2,\n",
    "        zoom_range=0.2,\n",
    "        horizontal_flip=True)\n",
    "\n",
    "val_datagen = ImageDataGenerator(rescale=1./255)\n",
    "train_generator = train_datagen.flow_from_directory(\n",
    "        data_dir+'ecg_other_train/',  # this is the target directory\n",
    "        target_size=(k1, k2),  # all images will be resized to 150x150\n",
    "        batch_size=batch_size,\n",
    "        class_mode='categorical')  # since we use binary_crossentropy loss, we need binary labels\n",
    "\n",
    "validation_generator = val_datagen.flow_from_directory(\n",
    "        data_dir+'ecg_other_val/',\n",
    "        target_size=(k1, k2),\n",
    "        batch_size=batch_size,\n",
    "        class_mode='categorical')\n",
    "\n",
    "history=model.fit_generator(\n",
    "        train_generator,\n",
    "        #steps_per_epoch=2000 // batch_size,\n",
    "        epochs=PARAMS['num_epochs'],\n",
    "        validation_data=validation_generator,\n",
    "        #validation_steps=800 // batch_size\n",
    ")\n",
    "\n"
   ]
  },
  {
   "cell_type": "code",
   "execution_count": null,
   "metadata": {},
   "outputs": [],
   "source": [
    "\n",
    "#!pip install neptune-client\n",
    "import os\n",
    "import neptune\n",
    "NEPTUNE_API_TOKEN=\"eyJhcGlfYWRkcmVzcyI6Imh0dHBzOi8vdWkubmVwdHVuZS5haSIsImFwaV91cmwiOiJodHRwczovL3VpLm5lcHR1bmUuYWkiLCJhcGlfa2V5IjoiNjBlODllY2ItMDcyZC00OGNmLThjZWYtZjM2MjE4Y2M5ZDM0In0=\"\n",
    "os.environ['NEPTUNE_PROJECT']=\"icassp/ECG\"\n",
    "#os.environ['NEPTUNE_NOTEBOOK_ID']=\"4897a223-8a9f-4f00-8cec-22eda690858d\"\n",
    "os.environ['NEPTUNE_NOTEBOOK_PATH']='ECG-complex (balanced).ipynb'\n",
    "\n",
    "neptune.init('icassp/ECG',NEPTUNE_API_TOKEN)\n",
    "exp = neptune.create_experiment(description='ECG-complex (balanced)',params=PARAMS,upload_source_files=['ECG-complex (balanced).ipynb'],tags=PARAMS['tags'],upload_stdout=True)\n",
    "\n"
   ]
  },
  {
   "cell_type": "code",
   "execution_count": 14,
   "metadata": {},
   "outputs": [],
   "source": [
    "model.save(f'{model_dir}{str(exp)}.h5')\n",
    "neptune.log_artifact(f'{model_dir}{str(exp)}.h5')"
   ]
  },
  {
   "cell_type": "code",
   "execution_count": 27,
   "metadata": {},
   "outputs": [],
   "source": [
    "no=3\n",
    "for i in range(len(history.history['loss'])):\n",
    "    neptune.log_metric('loss',history.history['loss'][i])\n",
    "    neptune.log_metric('val loss',history.history['val_loss'][i])\n",
    "    neptune.log_metric('acc',history.history['categorical_accuracy'][i])\n",
    "    neptune.log_metric('val_acc',history.history['val_categorical_accuracy'][i])\n",
    "    neptune.log_metric('precision',history.history['precision_%d'%no][i])\n",
    "    neptune.log_metric('val_precision',history.history['val_precision_%d'%no][i])\n",
    "    neptune.log_metric('recall',history.history['recall_%d'%no][i])\n",
    "    neptune.log_metric('val_recall',history.history['val_recall_%d'%no][i])"
   ]
  },
  {
   "cell_type": "code",
   "execution_count": 15,
   "metadata": {},
   "outputs": [],
   "source": [
    "for i in range(len(history.history['loss'])):\n",
    "    neptune.log_metric('loss',history.history['loss'][i])\n",
    "    neptune.log_metric('val loss',history.history['val_loss'][i])\n",
    "    neptune.log_metric('acc',history.history['categorical_accuracy'][i])\n",
    "    neptune.log_metric('val_acc',history.history['val_categorical_accuracy'][i])\n",
    "    neptune.log_metric('precision',history.history['precision'][i])\n",
    "    neptune.log_metric('val_precision',history.history['val_precision'][i])\n",
    "    neptune.log_metric('recall',history.history['recall'][i])\n",
    "    neptune.log_metric('val_recall',history.history['val_recall'][i])"
   ]
  },
  {
   "cell_type": "code",
   "execution_count": 16,
   "metadata": {},
   "outputs": [
    {
     "name": "stdout",
     "output_type": "stream",
     "text": [
      "Found 256 images belonging to 2 classes.\n"
     ]
    }
   ],
   "source": [
    "test_datagen = ImageDataGenerator(rescale=1./255)\n",
    "test_generator = test_datagen.flow_from_directory(\n",
    "        data_dir+'ecg_other_test/',  # this is the target directory\n",
    "        target_size=(k1, k2),  # all images will be resized to 150x150\n",
    "        batch_size=len(os.listdir(data_dir+'ecg_other_test/1'))+len(os.listdir(data_dir+'ecg_other_test/0')),\n",
    "        class_mode='categorical')\n",
    "\n",
    "X,y = test_generator.next()\n",
    "prediction = model.predict(X)\n",
    "\n",
    "import numpy as np\n",
    "\n",
    "y_test=np.argmax(y,axis=1)\n",
    "y_pred=prediction\n",
    "from neptunecontrib.monitoring.metrics import *\n",
    "\n",
    "threshold = 0.5\n",
    "\n",
    "log_confusion_matrix(y_test, y_pred[:, 1] > threshold)\n",
    "log_classification_report(y_test, y_pred[:, 1] > threshold)\n",
    "log_class_metrics(y_test, y_pred[:, 1] > threshold)\n",
    "log_class_metrics_by_threshold(y_test, y_pred[:, 1])\n",
    "log_roc_auc(y_test, y_pred)\n",
    "log_precision_recall_auc(y_test, y_pred)\n",
    "log_brier_loss(y_test, y_pred[:, 1])\n",
    "log_log_loss(y_test, y_pred)\n",
    "log_ks_statistic(y_test, y_pred)\n",
    "log_cumulative_gain(y_test, y_pred)\n",
    "log_lift_curve(y_test, y_pred)\n",
    "log_prediction_distribution(y_test, y_pred[:, 1])\n"
   ]
  },
  {
   "cell_type": "code",
   "execution_count": 17,
   "metadata": {},
   "outputs": [],
   "source": [
    "neptune.stop()"
   ]
  },
  {
   "cell_type": "code",
   "execution_count": null,
   "metadata": {},
   "outputs": [],
   "source": []
  }
 ],
 "metadata": {
  "kernelspec": {
   "display_name": "Python 3",
   "language": "python",
   "name": "python3"
  },
  "language_info": {
   "codemirror_mode": {
    "name": "ipython",
    "version": 3
   },
   "file_extension": ".py",
   "mimetype": "text/x-python",
   "name": "python",
   "nbconvert_exporter": "python",
   "pygments_lexer": "ipython3",
   "version": "3.6.9"
  }
 },
 "nbformat": 4,
 "nbformat_minor": 4
}
