{
 "cells": [
  {
   "cell_type": "code",
   "execution_count": 8,
   "metadata": {},
   "outputs": [],
   "source": [
    "data_dir='/home/ubuntu/intelliscope/ecg_data/'# fill # data_dir/ecg_other_train, ecg_other_val, ... ecg_other_train_imb, ..should be there\n",
    "model_dir='/home/ubuntu/intelliscope/notebooks/physionet2017/ecg/models/'"
   ]
  },
  {
   "cell_type": "code",
   "execution_count": 9,
   "metadata": {},
   "outputs": [
    {
     "name": "stdout",
     "output_type": "stream",
     "text": [
      "imb:: N:5068, A:757\n",
      "balanceed:: N:757, A:757\n"
     ]
    }
   ],
   "source": [
    "import os\n",
    "a1=len(os.listdir('/home/ubuntu/intelliscope/ecg_data/ecg_other_train_imb/0'))\n",
    "a2=len(os.listdir('/home/ubuntu/intelliscope/ecg_data/ecg_other_val_imb/0'))\n",
    "a3=len(os.listdir('/home/ubuntu/intelliscope/ecg_data/ecg_other_test_imb/0'))\n",
    "\n",
    "a4=len(os.listdir('/home/ubuntu/intelliscope/ecg_data/ecg_other_train_imb/1'))\n",
    "a5=len(os.listdir('/home/ubuntu/intelliscope/ecg_data/ecg_other_val_imb/1'))\n",
    "a6=len(os.listdir('/home/ubuntu/intelliscope/ecg_data/ecg_other_test_imb/1'))\n",
    "\n",
    "a7=len(os.listdir('/home/ubuntu/intelliscope/ecg_data/ecg_other_train/0'))\n",
    "a8=len(os.listdir('/home/ubuntu/intelliscope/ecg_data/ecg_other_val/0'))\n",
    "a9=len(os.listdir('/home/ubuntu/intelliscope/ecg_data/ecg_other_test/0'))\n",
    "\n",
    "a10=len(os.listdir('/home/ubuntu/intelliscope/ecg_data/ecg_other_train/1'))\n",
    "a11=len(os.listdir('/home/ubuntu/intelliscope/ecg_data/ecg_other_val/1'))\n",
    "a12=len(os.listdir('/home/ubuntu/intelliscope/ecg_data/ecg_other_test/1'))\n",
    "\n",
    "print(f'imb:: N:{a1+a2+a3}, A:{a4+a5+a6}')\n",
    "print(f'balanceed:: N:{a7+a8+a9}, A:{a10+a11+a12}')"
   ]
  },
  {
   "cell_type": "code",
   "execution_count": 10,
   "metadata": {},
   "outputs": [],
   "source": [
    "PARAMS = {\n",
    "          'epochs' : 15,\n",
    "         'validation_split':0.15,\n",
    "         'batch_size' : 32,\n",
    "            'model': 'simple',\n",
    "          'data_balanced':True,\n",
    "            'num_epochs':15,\n",
    "            'opt':'adam',\n",
    "            'tags': ['instance_norm added', 'dropout added'],\n",
    "         }"
   ]
  },
  {
   "cell_type": "code",
   "execution_count": 11,
   "metadata": {},
   "outputs": [],
   "source": [
    "import os\n",
    "from tensorflow import keras\n",
    "from tensorflow.keras.models import Sequential\n",
    "from tensorflow.keras.layers import Conv2D, MaxPooling2D\n",
    "from tensorflow.keras.layers import Activation, Dropout, Flatten, Dense, Lambda,BatchNormalization\n",
    "from tensorflow.keras import backend as K\n",
    "from tensorflow_addons.layers import InstanceNormalization\n",
    "\n",
    "from tensorflow.keras.layers import Activation, Dropout, Flatten, Dense, Lambda\n",
    "\n",
    "\n",
    "from PIL import ImageFile\n",
    "ImageFile.LOAD_TRUNCATED_IMAGES = True\n",
    "import tensorflow as tf"
   ]
  },
  {
   "cell_type": "code",
   "execution_count": 12,
   "metadata": {},
   "outputs": [
    {
     "name": "stdout",
     "output_type": "stream",
     "text": [
      "Model: \"sequential_5\"\n",
      "_________________________________________________________________\n",
      "Layer (type)                 Output Shape              Param #   \n",
      "=================================================================\n",
      "lambda_5 (Lambda)            (None, 38, 64, 3)         0         \n",
      "_________________________________________________________________\n",
      "conv2d_15 (Conv2D)           (None, 34, 60, 16)        1216      \n",
      "_________________________________________________________________\n",
      "instance_normalization_6 (In (None, 34, 60, 16)        32        \n",
      "_________________________________________________________________\n",
      "dropout_13 (Dropout)         (None, 34, 60, 16)        0         \n",
      "_________________________________________________________________\n",
      "conv2d_16 (Conv2D)           (None, 30, 56, 32)        12832     \n",
      "_________________________________________________________________\n",
      "max_pooling2d_10 (MaxPooling (None, 15, 28, 32)        0         \n",
      "_________________________________________________________________\n",
      "instance_normalization_7 (In (None, 15, 28, 32)        64        \n",
      "_________________________________________________________________\n",
      "dropout_14 (Dropout)         (None, 15, 28, 32)        0         \n",
      "_________________________________________________________________\n",
      "conv2d_17 (Conv2D)           (None, 13, 26, 64)        18496     \n",
      "_________________________________________________________________\n",
      "max_pooling2d_11 (MaxPooling (None, 6, 13, 64)         0         \n",
      "_________________________________________________________________\n",
      "instance_normalization_8 (In (None, 6, 13, 64)         128       \n",
      "_________________________________________________________________\n",
      "dropout_15 (Dropout)         (None, 6, 13, 64)         0         \n",
      "_________________________________________________________________\n",
      "flatten_5 (Flatten)          (None, 4992)              0         \n",
      "_________________________________________________________________\n",
      "dense_15 (Dense)             (None, 3840)              19173120  \n",
      "_________________________________________________________________\n",
      "batch_normalization_2 (Batch (None, 3840)              15360     \n",
      "_________________________________________________________________\n",
      "dropout_16 (Dropout)         (None, 3840)              0         \n",
      "_________________________________________________________________\n",
      "dense_16 (Dense)             (None, 64)                245824    \n",
      "_________________________________________________________________\n",
      "dropout_17 (Dropout)         (None, 64)                0         \n",
      "_________________________________________________________________\n",
      "dense_17 (Dense)             (None, 2)                 130       \n",
      "=================================================================\n",
      "Total params: 19,467,202\n",
      "Trainable params: 19,459,522\n",
      "Non-trainable params: 7,680\n",
      "_________________________________________________________________\n"
     ]
    }
   ],
   "source": [
    "\n",
    "\n",
    "#k1,k2=100,100\n",
    "k1,k2=272, 462\n",
    "\n",
    "model_simple1=Sequential([\n",
    "    #tf.keras.layers.experimental.preprocessing.Resizing(k1, k2, interpolation=\"bilinear\")\n",
    "    Lambda(lambda image: tf.image.resize( image, (64, 64), method = tf.image.ResizeMethod.BICUBIC, preserve_aspect_ratio = True),input_shape=(k1, k2,3)),\n",
    "    Conv2D(16, (5, 5),activation='relu'),\n",
    "    Conv2D(32, (5, 5),activation='relu'),\n",
    "    MaxPooling2D(pool_size=(2, 2)),\n",
    "    Conv2D(64, (3, 3),activation='relu'),\n",
    "    MaxPooling2D(pool_size=(2, 2)),\n",
    "    Flatten(),\n",
    "    Dense(3840, activation='relu'),\n",
    "    Dense(64,activation='relu'),\n",
    "    Dropout(0.5),\n",
    "    Dense(2,activation='softmax')])\n",
    "\n",
    "model_simple2=Sequential([\n",
    "    #tf.keras.layers.experimental.preprocessing.Resizing(k1, k2, interpolation=\"bilinear\")\n",
    "    Lambda(lambda image: tf.image.resize( image, (64, 64), method = tf.image.ResizeMethod.BICUBIC, preserve_aspect_ratio = True),input_shape=(k1, k2,3)),\n",
    "    Conv2D(16, (5, 5),activation='relu'),\n",
    "    InstanceNormalization(axis=3, center=True, scale=True,beta_initializer=\"random_uniform\",gamma_initializer=\"random_uniform\"),\n",
    "    Dropout(0.2),\n",
    "    Conv2D(32, (5, 5),activation='relu'),\n",
    "    MaxPooling2D(pool_size=(2, 2)),\n",
    "    InstanceNormalization(axis=3, center=True, scale=True,beta_initializer=\"random_uniform\",gamma_initializer=\"random_uniform\"),\n",
    "    Dropout(0.2),\n",
    "    Conv2D(64, (3, 3),activation='relu'),\n",
    "    MaxPooling2D(pool_size=(2, 2)),\n",
    "    InstanceNormalization(axis=3, center=True, scale=True,beta_initializer=\"random_uniform\",gamma_initializer=\"random_uniform\"),\n",
    "    Dropout(0.2),\n",
    "    Flatten(),\n",
    "    Dense(3840, activation='relu'),\n",
    "    BatchNormalization(),\n",
    "    Dropout(0.2),\n",
    "    Dense(64,activation='relu'),\n",
    "    Dropout(0.5),\n",
    "    Dense(2,activation='softmax')])\n",
    "\n",
    "\n",
    "model=model_simple2\n",
    "model.compile(loss=keras.losses.CategoricalCrossentropy(),\n",
    "              optimizer=PARAMS['opt'],\n",
    "              metrics=[keras.metrics.CategoricalAccuracy(), keras.metrics.Recall(),keras.metrics.Precision()])\n",
    "\n",
    "PARAMS['model']=model.summary()"
   ]
  },
  {
   "cell_type": "code",
   "execution_count": 13,
   "metadata": {},
   "outputs": [
    {
     "name": "stderr",
     "output_type": "stream",
     "text": [
      "Using TensorFlow backend.\n"
     ]
    },
    {
     "name": "stdout",
     "output_type": "stream",
     "text": [
      "Found 1004 images belonging to 2 classes.\n",
      "Found 254 images belonging to 2 classes.\n",
      "WARNING:tensorflow:From <ipython-input-13-e8d3b8178e0f>:28: Model.fit_generator (from tensorflow.python.keras.engine.training) is deprecated and will be removed in a future version.\n",
      "Instructions for updating:\n",
      "Please use Model.fit, which supports generators.\n",
      "WARNING:tensorflow:sample_weight modes were coerced from\n",
      "  ...\n",
      "    to  \n",
      "  ['...']\n",
      "WARNING:tensorflow:sample_weight modes were coerced from\n",
      "  ...\n",
      "    to  \n",
      "  ['...']\n",
      "Train for 32 steps, validate for 8 steps\n",
      "Epoch 1/15\n",
      "32/32 [==============================] - 41s 1s/step - loss: 1.0072 - categorical_accuracy: 0.5189 - recall_2: 0.5189 - precision_2: 0.5189 - val_loss: 0.6931 - val_categorical_accuracy: 0.5000 - val_recall_2: 0.5000 - val_precision_2: 0.5000\n",
      "Epoch 2/15\n",
      "32/32 [==============================] - 38s 1s/step - loss: 0.8215 - categorical_accuracy: 0.5478 - recall_2: 0.5478 - precision_2: 0.5478 - val_loss: 0.6931 - val_categorical_accuracy: 0.5000 - val_recall_2: 0.5000 - val_precision_2: 0.5000\n",
      "Epoch 3/15\n",
      "32/32 [==============================] - 38s 1s/step - loss: 0.7029 - categorical_accuracy: 0.5697 - recall_2: 0.5697 - precision_2: 0.5697 - val_loss: 0.6940 - val_categorical_accuracy: 0.5000 - val_recall_2: 0.5000 - val_precision_2: 0.5000\n",
      "Epoch 4/15\n",
      "32/32 [==============================] - 38s 1s/step - loss: 0.6908 - categorical_accuracy: 0.5767 - recall_2: 0.5767 - precision_2: 0.5767 - val_loss: 0.6923 - val_categorical_accuracy: 0.5000 - val_recall_2: 0.5000 - val_precision_2: 0.5000\n",
      "Epoch 5/15\n",
      "32/32 [==============================] - 37s 1s/step - loss: 0.6702 - categorical_accuracy: 0.5986 - recall_2: 0.5986 - precision_2: 0.5986 - val_loss: 0.6904 - val_categorical_accuracy: 0.6339 - val_recall_2: 0.6339 - val_precision_2: 0.6339\n",
      "Epoch 6/15\n",
      "32/32 [==============================] - 38s 1s/step - loss: 0.6639 - categorical_accuracy: 0.6116 - recall_2: 0.6116 - precision_2: 0.6116 - val_loss: 0.6900 - val_categorical_accuracy: 0.5591 - val_recall_2: 0.5591 - val_precision_2: 0.5591\n",
      "Epoch 7/15\n",
      "32/32 [==============================] - 37s 1s/step - loss: 0.6507 - categorical_accuracy: 0.6125 - recall_2: 0.6125 - precision_2: 0.6125 - val_loss: 0.6893 - val_categorical_accuracy: 0.5157 - val_recall_2: 0.5157 - val_precision_2: 0.5157\n",
      "Epoch 8/15\n",
      "32/32 [==============================] - 37s 1s/step - loss: 0.6497 - categorical_accuracy: 0.6145 - recall_2: 0.6145 - precision_2: 0.6145 - val_loss: 0.6850 - val_categorical_accuracy: 0.5787 - val_recall_2: 0.5787 - val_precision_2: 0.5787\n",
      "Epoch 9/15\n",
      "32/32 [==============================] - 38s 1s/step - loss: 0.6523 - categorical_accuracy: 0.6205 - recall_2: 0.6205 - precision_2: 0.6205 - val_loss: 0.6842 - val_categorical_accuracy: 0.5394 - val_recall_2: 0.5394 - val_precision_2: 0.5394\n",
      "Epoch 10/15\n",
      "32/32 [==============================] - 37s 1s/step - loss: 0.6382 - categorical_accuracy: 0.6514 - recall_2: 0.6514 - precision_2: 0.6514 - val_loss: 0.6823 - val_categorical_accuracy: 0.5472 - val_recall_2: 0.5472 - val_precision_2: 0.5472\n",
      "Epoch 11/15\n",
      "32/32 [==============================] - 39s 1s/step - loss: 0.6327 - categorical_accuracy: 0.6544 - recall_2: 0.6534 - precision_2: 0.6540 - val_loss: 0.6744 - val_categorical_accuracy: 0.5827 - val_recall_2: 0.5827 - val_precision_2: 0.5827\n",
      "Epoch 12/15\n",
      "32/32 [==============================] - 38s 1s/step - loss: 0.6096 - categorical_accuracy: 0.6783 - recall_2: 0.6783 - precision_2: 0.6783 - val_loss: 0.6641 - val_categorical_accuracy: 0.5945 - val_recall_2: 0.5945 - val_precision_2: 0.5945\n",
      "Epoch 13/15\n",
      "32/32 [==============================] - 38s 1s/step - loss: 0.5965 - categorical_accuracy: 0.6873 - recall_2: 0.6873 - precision_2: 0.6873 - val_loss: 0.6647 - val_categorical_accuracy: 0.5984 - val_recall_2: 0.5984 - val_precision_2: 0.5984\n",
      "Epoch 14/15\n",
      "32/32 [==============================] - 38s 1s/step - loss: 0.6039 - categorical_accuracy: 0.6763 - recall_2: 0.6763 - precision_2: 0.6763 - val_loss: 0.6533 - val_categorical_accuracy: 0.6811 - val_recall_2: 0.6811 - val_precision_2: 0.6811\n",
      "Epoch 15/15\n",
      "32/32 [==============================] - 38s 1s/step - loss: 0.6154 - categorical_accuracy: 0.6892 - recall_2: 0.6892 - precision_2: 0.6892 - val_loss: 0.6439 - val_categorical_accuracy: 0.6732 - val_recall_2: 0.6732 - val_precision_2: 0.6732\n"
     ]
    }
   ],
   "source": [
    "from keras.preprocessing.image import ImageDataGenerator, array_to_img, img_to_array, load_img\n",
    "\n",
    "batch_size=PARAMS['batch_size']\n",
    "\n",
    "train_datagen = ImageDataGenerator(\n",
    "        rescale=1./255,\n",
    "        shear_range=0.2,\n",
    "        zoom_range=0.2,\n",
    "        horizontal_flip=True)\n",
    "\n",
    "val_datagen = ImageDataGenerator(rescale=1./255)\n",
    "train_generator = train_datagen.flow_from_directory(\n",
    "        data_dir+'ecg_other_train/',  # this is the target directory\n",
    "        target_size=(k1, k2),  # all images will be resized to 150x150\n",
    "        batch_size=batch_size,\n",
    "        class_mode='categorical')  # since we use binary_crossentropy loss, we need binary labels\n",
    "\n",
    "validation_generator = val_datagen.flow_from_directory(\n",
    "        data_dir+'ecg_other_val/',\n",
    "        target_size=(k1, k2),\n",
    "        batch_size=batch_size,\n",
    "        class_mode='categorical')\n",
    "\n",
    "history=model.fit_generator(\n",
    "        train_generator,\n",
    "        #steps_per_epoch=2000 // batch_size,\n",
    "        epochs=PARAMS['num_epochs'],\n",
    "        validation_data=validation_generator,\n",
    "        #validation_steps=800 // batch_size\n",
    ")\n",
    "\n"
   ]
  },
  {
   "cell_type": "code",
   "execution_count": 14,
   "metadata": {},
   "outputs": [
    {
     "name": "stderr",
     "output_type": "stream",
     "text": [
      "WARNING: There is a new version of neptune-client 0.4.125 (installed: 0.4.124).\n",
      "NVMLError: NVML Shared Library Not Found - GPU usage metrics may not be reported.\n"
     ]
    },
    {
     "name": "stdout",
     "output_type": "stream",
     "text": [
      "https://ui.neptune.ai/icassp/ECG/e/ECG-26\n"
     ]
    }
   ],
   "source": [
    "\n",
    "#!pip install neptune-client\n",
    "import os\n",
    "import neptune\n",
    "NEPTUNE_API_TOKEN=\"eyJhcGlfYWRkcmVzcyI6Imh0dHBzOi8vdWkubmVwdHVuZS5haSIsImFwaV91cmwiOiJodHRwczovL3VpLm5lcHR1bmUuYWkiLCJhcGlfa2V5IjoiNjBlODllY2ItMDcyZC00OGNmLThjZWYtZjM2MjE4Y2M5ZDM0In0=\"\n",
    "os.environ['NEPTUNE_PROJECT']=\"icassp/ECG\"\n",
    "#os.environ['NEPTUNE_NOTEBOOK_ID']=\"4897a223-8a9f-4f00-8cec-22eda690858d\"\n",
    "os.environ['NEPTUNE_NOTEBOOK_PATH']='ECG-simple (balanced).ipynb'\n",
    "\n",
    "neptune.init('icassp/ECG',NEPTUNE_API_TOKEN)\n",
    "exp = neptune.create_experiment(description='ECG-simple (balanced)',params=PARAMS,upload_source_files=['ECG-simple (balanced).ipynb'],tags=PARAMS['tags'],upload_stdout=True)\n",
    "\n",
    "model.save(f'{model_dir}{str(exp)}.h5')\n",
    "neptune.log_artifact(f'{model_dir}{str(exp)}.h5')"
   ]
  },
  {
   "cell_type": "code",
   "execution_count": 15,
   "metadata": {},
   "outputs": [],
   "source": [
    "no=2\n",
    "for i in range(len(history.history['loss'])):\n",
    "    neptune.log_metric('loss',history.history['loss'][i])\n",
    "    neptune.log_metric('val loss',history.history['val_loss'][i])\n",
    "    neptune.log_metric('acc',history.history['categorical_accuracy'][i])\n",
    "    neptune.log_metric('val_acc',history.history['val_categorical_accuracy'][i])\n",
    "    neptune.log_metric('precision',history.history['precision_%d'%no][i])\n",
    "    neptune.log_metric('val_precision',history.history['val_precision_%d'%no][i])\n",
    "    neptune.log_metric('recall',history.history['recall_%d'%no][i])\n",
    "    neptune.log_metric('val_recall',history.history['val_recall_%d'%no][i])"
   ]
  },
  {
   "cell_type": "code",
   "execution_count": null,
   "metadata": {},
   "outputs": [],
   "source": [
    "for i in range(len(history.history['loss'])):\n",
    "    neptune.log_metric('loss',history.history['loss'][i])\n",
    "    neptune.log_metric('val loss',history.history['val_loss'][i])\n",
    "    neptune.log_metric('acc',history.history['categorical_accuracy'][i])\n",
    "    neptune.log_metric('val_acc',history.history['val_categorical_accuracy'][i])\n",
    "    neptune.log_metric('precision',history.history['precision'][i])\n",
    "    neptune.log_metric('val_precision',history.history['val_precision'][i])\n",
    "    neptune.log_metric('recall',history.history['recall'][i])\n",
    "    neptune.log_metric('val_recall',history.history['val_recall'][i])"
   ]
  },
  {
   "cell_type": "code",
   "execution_count": 16,
   "metadata": {},
   "outputs": [
    {
     "name": "stdout",
     "output_type": "stream",
     "text": [
      "Found 256 images belonging to 2 classes.\n"
     ]
    }
   ],
   "source": [
    "test_datagen = ImageDataGenerator(rescale=1./255)\n",
    "test_generator = test_datagen.flow_from_directory(\n",
    "        data_dir+'ecg_other_test/',  # this is the target directory\n",
    "        target_size=(k1, k2),  # all images will be resized to 150x150\n",
    "        batch_size=len(os.listdir(data_dir+'ecg_other_test/1'))+len(os.listdir(data_dir+'ecg_other_test/0')),\n",
    "        class_mode='categorical')\n",
    "\n",
    "X,y = test_generator.next()\n",
    "prediction = model.predict(X)\n",
    "\n",
    "import numpy as np\n",
    "\n",
    "y_test=np.argmax(y,axis=1)\n",
    "y_pred=prediction\n",
    "from neptunecontrib.monitoring.metrics import *\n",
    "\n",
    "threshold = 0.5\n",
    "\n",
    "log_confusion_matrix(y_test, y_pred[:, 1] > threshold)\n",
    "log_classification_report(y_test, y_pred[:, 1] > threshold)\n",
    "log_class_metrics(y_test, y_pred[:, 1] > threshold)\n",
    "log_class_metrics_by_threshold(y_test, y_pred[:, 1])\n",
    "log_roc_auc(y_test, y_pred)\n",
    "log_precision_recall_auc(y_test, y_pred)\n",
    "log_brier_loss(y_test, y_pred[:, 1])\n",
    "log_log_loss(y_test, y_pred)\n",
    "log_ks_statistic(y_test, y_pred)\n",
    "log_cumulative_gain(y_test, y_pred)\n",
    "log_lift_curve(y_test, y_pred)\n",
    "log_prediction_distribution(y_test, y_pred[:, 1])\n",
    "neptune.stop()"
   ]
  },
  {
   "cell_type": "code",
   "execution_count": null,
   "metadata": {},
   "outputs": [],
   "source": []
  }
 ],
 "metadata": {
  "kernelspec": {
   "display_name": "Python 3",
   "language": "python",
   "name": "python3"
  },
  "language_info": {
   "codemirror_mode": {
    "name": "ipython",
    "version": 3
   },
   "file_extension": ".py",
   "mimetype": "text/x-python",
   "name": "python",
   "nbconvert_exporter": "python",
   "pygments_lexer": "ipython3",
   "version": "3.6.9"
  }
 },
 "nbformat": 4,
 "nbformat_minor": 4
}
