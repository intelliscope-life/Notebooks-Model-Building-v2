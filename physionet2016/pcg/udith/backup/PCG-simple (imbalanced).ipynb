{
 "cells": [
  {
   "cell_type": "code",
   "execution_count": 1,
   "metadata": {},
   "outputs": [],
   "source": [
    "data_dir='/home/ubuntu/intelliscope/pcg_data/'\n",
    "model_dir='/home/ubuntu/intelliscope/notebooks/physionet2016/pcg/models/'"
   ]
  },
  {
   "cell_type": "code",
   "execution_count": 2,
   "metadata": {},
   "outputs": [],
   "source": [
    "PARAMS = {\n",
    "          'epochs' : 15,\n",
    "         'validation_split':0.15,\n",
    "         'batch_size' : 32,\n",
    "            'model': 'simple',\n",
    "          'data_balanced':False,\n",
    "            'num_epochs':15,\n",
    "            'opt':'adam',\n",
    "            'tags': ['instance_norm added', 'dropout added'],\n",
    "         }"
   ]
  },
  {
   "cell_type": "code",
   "execution_count": 3,
   "metadata": {},
   "outputs": [],
   "source": [
    "import os\n",
    "from tensorflow import keras\n",
    "from tensorflow.keras.models import Sequential\n",
    "from tensorflow.keras.layers import Conv2D, MaxPooling2D\n",
    "from tensorflow.keras.layers import Activation, Dropout, Flatten, Dense, Lambda,BatchNormalization\n",
    "from tensorflow.keras import backend as K\n",
    "from tensorflow_addons.layers import InstanceNormalization\n",
    "\n",
    "from tensorflow.keras.layers import Activation, Dropout, Flatten, Dense, Lambda\n",
    "\n",
    "\n",
    "from PIL import ImageFile\n",
    "ImageFile.LOAD_TRUNCATED_IMAGES = True\n",
    "import tensorflow as tf"
   ]
  },
  {
   "cell_type": "code",
   "execution_count": 4,
   "metadata": {},
   "outputs": [
    {
     "name": "stdout",
     "output_type": "stream",
     "text": [
      "Model: \"sequential_1\"\n",
      "_________________________________________________________________\n",
      "Layer (type)                 Output Shape              Param #   \n",
      "=================================================================\n",
      "lambda_1 (Lambda)            (None, 38, 64, 3)         0         \n",
      "_________________________________________________________________\n",
      "conv2d_3 (Conv2D)            (None, 34, 60, 16)        1216      \n",
      "_________________________________________________________________\n",
      "instance_normalization (Inst (None, 34, 60, 16)        32        \n",
      "_________________________________________________________________\n",
      "dropout_1 (Dropout)          (None, 34, 60, 16)        0         \n",
      "_________________________________________________________________\n",
      "conv2d_4 (Conv2D)            (None, 30, 56, 32)        12832     \n",
      "_________________________________________________________________\n",
      "max_pooling2d_2 (MaxPooling2 (None, 15, 28, 32)        0         \n",
      "_________________________________________________________________\n",
      "instance_normalization_1 (In (None, 15, 28, 32)        64        \n",
      "_________________________________________________________________\n",
      "dropout_2 (Dropout)          (None, 15, 28, 32)        0         \n",
      "_________________________________________________________________\n",
      "conv2d_5 (Conv2D)            (None, 13, 26, 64)        18496     \n",
      "_________________________________________________________________\n",
      "max_pooling2d_3 (MaxPooling2 (None, 6, 13, 64)         0         \n",
      "_________________________________________________________________\n",
      "instance_normalization_2 (In (None, 6, 13, 64)         128       \n",
      "_________________________________________________________________\n",
      "dropout_3 (Dropout)          (None, 6, 13, 64)         0         \n",
      "_________________________________________________________________\n",
      "flatten_1 (Flatten)          (None, 4992)              0         \n",
      "_________________________________________________________________\n",
      "dense_3 (Dense)              (None, 3840)              19173120  \n",
      "_________________________________________________________________\n",
      "batch_normalization (BatchNo (None, 3840)              15360     \n",
      "_________________________________________________________________\n",
      "dropout_4 (Dropout)          (None, 3840)              0         \n",
      "_________________________________________________________________\n",
      "dense_4 (Dense)              (None, 64)                245824    \n",
      "_________________________________________________________________\n",
      "dropout_5 (Dropout)          (None, 64)                0         \n",
      "_________________________________________________________________\n",
      "dense_5 (Dense)              (None, 2)                 130       \n",
      "=================================================================\n",
      "Total params: 19,467,202\n",
      "Trainable params: 19,459,522\n",
      "Non-trainable params: 7,680\n",
      "_________________________________________________________________\n"
     ]
    }
   ],
   "source": [
    "\n",
    "\n",
    "#k1,k2=100,100\n",
    "k1,k2=272, 462\n",
    "\n",
    "model_simple1=Sequential([\n",
    "    #tf.keras.layers.experimental.preprocessing.Resizing(k1, k2, interpolation=\"bilinear\")\n",
    "    Lambda(lambda image: tf.image.resize( image, (64, 64), method = tf.image.ResizeMethod.BICUBIC, preserve_aspect_ratio = True),input_shape=(k1, k2,3)),\n",
    "    Conv2D(16, (5, 5),activation='relu'),\n",
    "    Conv2D(32, (5, 5),activation='relu'),\n",
    "    MaxPooling2D(pool_size=(2, 2)),\n",
    "    Conv2D(64, (3, 3),activation='relu'),\n",
    "    MaxPooling2D(pool_size=(2, 2)),\n",
    "    Flatten(),\n",
    "    Dense(3840, activation='relu'),\n",
    "    Dense(64,activation='relu'),\n",
    "    Dropout(0.5),\n",
    "    Dense(2,activation='softmax')])\n",
    "\n",
    "model_simple2=Sequential([\n",
    "    #tf.keras.layers.experimental.preprocessing.Resizing(k1, k2, interpolation=\"bilinear\")\n",
    "    Lambda(lambda image: tf.image.resize( image, (64, 64), method = tf.image.ResizeMethod.BICUBIC, preserve_aspect_ratio = True),input_shape=(k1, k2,3)),\n",
    "    Conv2D(16, (5, 5),activation='relu'),\n",
    "    InstanceNormalization(axis=3, center=True, scale=True,beta_initializer=\"random_uniform\",gamma_initializer=\"random_uniform\"),\n",
    "    Dropout(0.2),\n",
    "    Conv2D(32, (5, 5),activation='relu'),\n",
    "    MaxPooling2D(pool_size=(2, 2)),\n",
    "    InstanceNormalization(axis=3, center=True, scale=True,beta_initializer=\"random_uniform\",gamma_initializer=\"random_uniform\"),\n",
    "    Dropout(0.2),\n",
    "    Conv2D(64, (3, 3),activation='relu'),\n",
    "    MaxPooling2D(pool_size=(2, 2)),\n",
    "    InstanceNormalization(axis=3, center=True, scale=True,beta_initializer=\"random_uniform\",gamma_initializer=\"random_uniform\"),\n",
    "    Dropout(0.2),\n",
    "    Flatten(),\n",
    "    Dense(3840, activation='relu'),\n",
    "    BatchNormalization(),\n",
    "    Dropout(0.2),\n",
    "    Dense(64,activation='relu'),\n",
    "    Dropout(0.5),\n",
    "    Dense(2,activation='softmax')])\n",
    "\n",
    "\n",
    "model=model_simple2\n",
    "model.compile(loss=keras.losses.CategoricalCrossentropy(),\n",
    "              optimizer=PARAMS['opt'],\n",
    "              metrics=[keras.metrics.CategoricalAccuracy(), keras.metrics.Recall(),keras.metrics.Precision()])\n",
    "\n",
    "PARAMS['model']=model.summary()"
   ]
  },
  {
   "cell_type": "code",
   "execution_count": 5,
   "metadata": {},
   "outputs": [
    {
     "name": "stderr",
     "output_type": "stream",
     "text": [
      "Using TensorFlow backend.\n",
      "/home/ubuntu/core-env/lib/python3.6/site-packages/keras_preprocessing/image/utils.py:179: UserWarning: Using \".tiff\" files with multiple bands will cause distortion. Please verify your output.\n",
      "  warnings.warn('Using \".tiff\" files with multiple bands '\n"
     ]
    },
    {
     "name": "stdout",
     "output_type": "stream",
     "text": [
      "Found 11359 images belonging to 2 classes.\n",
      "Found 2433 images belonging to 2 classes.\n",
      "WARNING:tensorflow:From <ipython-input-5-6b4f411724e6>:28: Model.fit_generator (from tensorflow.python.keras.engine.training) is deprecated and will be removed in a future version.\n",
      "Instructions for updating:\n",
      "Please use Model.fit, which supports generators.\n",
      "WARNING:tensorflow:sample_weight modes were coerced from\n",
      "  ...\n",
      "    to  \n",
      "  ['...']\n",
      "WARNING:tensorflow:sample_weight modes were coerced from\n",
      "  ...\n",
      "    to  \n",
      "  ['...']\n",
      "Train for 355 steps, validate for 77 steps\n",
      "Epoch 1/15\n",
      "355/355 [==============================] - 330s 929ms/step - loss: 0.3372 - categorical_accuracy: 0.8901 - recall: 0.8901 - precision: 0.8901 - val_loss: 0.7188 - val_categorical_accuracy: 0.6901 - val_recall: 0.6901 - val_precision: 0.6901\n",
      "Epoch 2/15\n",
      "355/355 [==============================] - 287s 809ms/step - loss: 0.2403 - categorical_accuracy: 0.9116 - recall: 0.9116 - precision: 0.9116 - val_loss: 1.3712 - val_categorical_accuracy: 0.6901 - val_recall: 0.6901 - val_precision: 0.6901\n",
      "Epoch 3/15\n",
      "355/355 [==============================] - 286s 805ms/step - loss: 0.2121 - categorical_accuracy: 0.9221 - recall: 0.9221 - precision: 0.9221 - val_loss: 0.6308 - val_categorical_accuracy: 0.7045 - val_recall: 0.7045 - val_precision: 0.7045\n",
      "Epoch 4/15\n",
      "355/355 [==============================] - 286s 805ms/step - loss: 0.1887 - categorical_accuracy: 0.9257 - recall: 0.9257 - precision: 0.9257 - val_loss: 1.0091 - val_categorical_accuracy: 0.6958 - val_recall: 0.6958 - val_precision: 0.6958\n",
      "Epoch 5/15\n",
      "355/355 [==============================] - 287s 810ms/step - loss: 0.1667 - categorical_accuracy: 0.9345 - recall: 0.9345 - precision: 0.9345 - val_loss: 0.9214 - val_categorical_accuracy: 0.6798 - val_recall: 0.6798 - val_precision: 0.6798\n",
      "Epoch 6/15\n",
      "355/355 [==============================] - 287s 807ms/step - loss: 0.1640 - categorical_accuracy: 0.9315 - recall: 0.9315 - precision: 0.9315 - val_loss: 1.6798 - val_categorical_accuracy: 0.6416 - val_recall: 0.6416 - val_precision: 0.6416\n",
      "Epoch 7/15\n",
      "355/355 [==============================] - 287s 808ms/step - loss: 0.1644 - categorical_accuracy: 0.9366 - recall: 0.9366 - precision: 0.9366 - val_loss: 1.3212 - val_categorical_accuracy: 0.6695 - val_recall: 0.6695 - val_precision: 0.6695\n",
      "Epoch 8/15\n",
      "355/355 [==============================] - 287s 810ms/step - loss: 0.1482 - categorical_accuracy: 0.9393 - recall: 0.9393 - precision: 0.9393 - val_loss: 1.0592 - val_categorical_accuracy: 0.7185 - val_recall: 0.7185 - val_precision: 0.7185\n",
      "Epoch 9/15\n",
      "355/355 [==============================] - 288s 811ms/step - loss: 0.1484 - categorical_accuracy: 0.9387 - recall: 0.9387 - precision: 0.9387 - val_loss: 1.0788 - val_categorical_accuracy: 0.6671 - val_recall: 0.6671 - val_precision: 0.6671\n",
      "Epoch 10/15\n",
      "355/355 [==============================] - 287s 810ms/step - loss: 0.1491 - categorical_accuracy: 0.9410 - recall: 0.9410 - precision: 0.9410 - val_loss: 1.3204 - val_categorical_accuracy: 0.6646 - val_recall: 0.6646 - val_precision: 0.6646\n",
      "Epoch 11/15\n",
      "355/355 [==============================] - 287s 810ms/step - loss: 0.1466 - categorical_accuracy: 0.9387 - recall: 0.9387 - precision: 0.9387 - val_loss: 2.4122 - val_categorical_accuracy: 0.6798 - val_recall: 0.6798 - val_precision: 0.6798\n",
      "Epoch 12/15\n",
      "355/355 [==============================] - 288s 810ms/step - loss: 0.1347 - categorical_accuracy: 0.9440 - recall: 0.9440 - precision: 0.9440 - val_loss: 1.4099 - val_categorical_accuracy: 0.7217 - val_recall: 0.7217 - val_precision: 0.7217\n",
      "Epoch 13/15\n",
      "355/355 [==============================] - 288s 812ms/step - loss: 0.1391 - categorical_accuracy: 0.9428 - recall: 0.9428 - precision: 0.9428 - val_loss: 1.3906 - val_categorical_accuracy: 0.7201 - val_recall: 0.7201 - val_precision: 0.7201\n",
      "Epoch 14/15\n",
      "355/355 [==============================] - 288s 812ms/step - loss: 0.1408 - categorical_accuracy: 0.9398 - recall: 0.9398 - precision: 0.9398 - val_loss: 0.9327 - val_categorical_accuracy: 0.7160 - val_recall: 0.7160 - val_precision: 0.7160\n",
      "Epoch 15/15\n",
      "355/355 [==============================] - 288s 811ms/step - loss: 0.1343 - categorical_accuracy: 0.9439 - recall: 0.9439 - precision: 0.9439 - val_loss: 1.3519 - val_categorical_accuracy: 0.7020 - val_recall: 0.7020 - val_precision: 0.7020\n"
     ]
    }
   ],
   "source": [
    "from keras.preprocessing.image import ImageDataGenerator, array_to_img, img_to_array, load_img\n",
    "\n",
    "batch_size=PARAMS['batch_size']\n",
    "\n",
    "train_datagen = ImageDataGenerator(\n",
    "        rescale=1./255,\n",
    "        shear_range=0.2,\n",
    "        zoom_range=0.2,\n",
    "        horizontal_flip=True)\n",
    "\n",
    "val_datagen = ImageDataGenerator(rescale=1./255)\n",
    "train_generator = train_datagen.flow_from_directory(\n",
    "        data_dir+'pcg_other_train_imb/',  # this is the target directory\n",
    "        target_size=(k1, k2),  # all images will be resized to 150x150\n",
    "        batch_size=batch_size,\n",
    "        class_mode='categorical')  # since we use binary_crossentropy loss, we need binary labels\n",
    "\n",
    "validation_generator = val_datagen.flow_from_directory(\n",
    "        data_dir+'pcg_other_val_imb/',\n",
    "        target_size=(k1, k2),\n",
    "        batch_size=batch_size,\n",
    "        class_mode='categorical')\n",
    "\n",
    "history=model.fit_generator(\n",
    "        train_generator,\n",
    "        #steps_per_epoch=2000 // batch_size,\n",
    "        epochs=PARAMS['num_epochs'],\n",
    "        validation_data=validation_generator,\n",
    "        #validation_steps=800 // batch_size\n",
    ")\n",
    "\n"
   ]
  },
  {
   "cell_type": "code",
   "execution_count": 6,
   "metadata": {},
   "outputs": [
    {
     "name": "stderr",
     "output_type": "stream",
     "text": [
      "WARNING: There is a new version of neptune-client 0.4.125 (installed: 0.4.124).\n",
      "NVMLError: NVML Shared Library Not Found - GPU usage metrics may not be reported.\n"
     ]
    },
    {
     "name": "stdout",
     "output_type": "stream",
     "text": [
      "https://ui.neptune.ai/icassp/PCG/e/PCG-54\n"
     ]
    }
   ],
   "source": [
    "\n",
    "#!pip install neptune-client\n",
    "import os\n",
    "import neptune\n",
    "NEPTUNE_API_TOKEN=\"eyJhcGlfYWRkcmVzcyI6Imh0dHBzOi8vdWkubmVwdHVuZS5haSIsImFwaV91cmwiOiJodHRwczovL3VpLm5lcHR1bmUuYWkiLCJhcGlfa2V5IjoiNjBlODllY2ItMDcyZC00OGNmLThjZWYtZjM2MjE4Y2M5ZDM0In0=\"\n",
    "os.environ['NEPTUNE_PROJECT']=\"icassp/PCG\"\n",
    "#os.environ['NEPTUNE_NOTEBOOK_ID']=\"4897a223-8a9f-4f00-8cec-22eda690858d\"\n",
    "os.environ['NEPTUNE_NOTEBOOK_PATH']='PCG-simple (imbalanced).ipynb'\n",
    "\n",
    "neptune.init('icassp/PCG',NEPTUNE_API_TOKEN)\n",
    "exp = neptune.create_experiment(description='PCG-simple (imbalanced)',params=PARAMS,upload_source_files=['PCG-simple (imbalanced).ipynb'],tags=PARAMS['tags'],upload_stdout=True)\n",
    "\n",
    "model.save(f'{model_dir}{str(exp)}.h5')\n",
    "neptune.log_artifact(f'{model_dir}{str(exp)}.h5')"
   ]
  },
  {
   "cell_type": "code",
   "execution_count": null,
   "metadata": {},
   "outputs": [],
   "source": [
    "no=2\n",
    "for i in range(len(history.history['loss'])):\n",
    "    neptune.log_metric('loss',history.history['loss'][i])\n",
    "    neptune.log_metric('val loss',history.history['val_loss'][i])\n",
    "    neptune.log_metric('acc',history.history['categorical_accuracy'][i])\n",
    "    neptune.log_metric('val_acc',history.history['val_categorical_accuracy'][i])\n",
    "    neptune.log_metric('precision',history.history['precision_%d'%no][i])\n",
    "    neptune.log_metric('val_precision',history.history['val_precision_%d'%no][i])\n",
    "    neptune.log_metric('recall',history.history['recall_%d'%no][i])\n",
    "    neptune.log_metric('val_recall',history.history['val_recall_%d'%no][i])"
   ]
  },
  {
   "cell_type": "code",
   "execution_count": 7,
   "metadata": {},
   "outputs": [],
   "source": [
    "for i in range(len(history.history['loss'])):\n",
    "    neptune.log_metric('loss',history.history['loss'][i])\n",
    "    neptune.log_metric('val loss',history.history['val_loss'][i])\n",
    "    neptune.log_metric('acc',history.history['categorical_accuracy'][i])\n",
    "    neptune.log_metric('val_acc',history.history['val_categorical_accuracy'][i])\n",
    "    neptune.log_metric('precision',history.history['precision'][i])\n",
    "    neptune.log_metric('val_precision',history.history['val_precision'][i])\n",
    "    neptune.log_metric('recall',history.history['recall'][i])\n",
    "    neptune.log_metric('val_recall',history.history['val_recall'][i])"
   ]
  },
  {
   "cell_type": "code",
   "execution_count": 8,
   "metadata": {},
   "outputs": [
    {
     "name": "stderr",
     "output_type": "stream",
     "text": [
      "/home/ubuntu/core-env/lib/python3.6/site-packages/keras_preprocessing/image/utils.py:179: UserWarning: Using \".tiff\" files with multiple bands will cause distortion. Please verify your output.\n",
      "  warnings.warn('Using \".tiff\" files with multiple bands '\n"
     ]
    },
    {
     "name": "stdout",
     "output_type": "stream",
     "text": [
      "Found 2434 images belonging to 2 classes.\n"
     ]
    }
   ],
   "source": [
    "test_datagen = ImageDataGenerator(rescale=1./255)\n",
    "test_generator = test_datagen.flow_from_directory(\n",
    "        data_dir+'pcg_other_test_imb/',  # this is the target directory\n",
    "        target_size=(k1, k2),  # all images will be resized to 150x150\n",
    "        batch_size=len(os.listdir(data_dir+'pcg_other_test_imb/1'))+len(os.listdir(data_dir+'pcg_other_test_imb/0')),\n",
    "        class_mode='categorical')\n",
    "\n",
    "X,y = test_generator.next()\n",
    "prediction = model.predict(X)\n",
    "\n",
    "import numpy as np\n",
    "\n",
    "y_test=np.argmax(y,axis=1)\n",
    "y_pred=prediction\n",
    "from neptunecontrib.monitoring.metrics import *\n",
    "\n",
    "threshold = 0.5\n",
    "\n",
    "log_confusion_matrix(y_test, y_pred[:, 1] > threshold)\n",
    "log_classification_report(y_test, y_pred[:, 1] > threshold)\n",
    "log_class_metrics(y_test, y_pred[:, 1] > threshold)\n",
    "log_class_metrics_by_threshold(y_test, y_pred[:, 1])\n",
    "log_roc_auc(y_test, y_pred)\n",
    "log_precision_recall_auc(y_test, y_pred)\n",
    "log_brier_loss(y_test, y_pred[:, 1])\n",
    "log_log_loss(y_test, y_pred)\n",
    "log_ks_statistic(y_test, y_pred)\n",
    "log_cumulative_gain(y_test, y_pred)\n",
    "log_lift_curve(y_test, y_pred)\n",
    "log_prediction_distribution(y_test, y_pred[:, 1])\n"
   ]
  },
  {
   "cell_type": "code",
   "execution_count": 9,
   "metadata": {},
   "outputs": [],
   "source": [
    "neptune.stop()"
   ]
  },
  {
   "cell_type": "code",
   "execution_count": null,
   "metadata": {},
   "outputs": [],
   "source": []
  }
 ],
 "metadata": {
  "kernelspec": {
   "display_name": "Python 3",
   "language": "python",
   "name": "python3"
  },
  "language_info": {
   "codemirror_mode": {
    "name": "ipython",
    "version": 3
   },
   "file_extension": ".py",
   "mimetype": "text/x-python",
   "name": "python",
   "nbconvert_exporter": "python",
   "pygments_lexer": "ipython3",
   "version": "3.6.9"
  }
 },
 "nbformat": 4,
 "nbformat_minor": 4
}
