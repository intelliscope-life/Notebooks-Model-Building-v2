{
 "cells": [
  {
   "cell_type": "code",
   "execution_count": null,
   "metadata": {},
   "outputs": [],
   "source": []
  },
  {
   "cell_type": "code",
   "execution_count": 2,
   "metadata": {},
   "outputs": [
    {
     "name": "stderr",
     "output_type": "stream",
     "text": [
      "Using TensorFlow backend.\n"
     ]
    }
   ],
   "source": [
    "import os\n",
    "from tensorflow import keras\n",
    "from keras.models import Sequential\n",
    "from keras.layers import Conv2D, MaxPooling2D\n",
    "from keras.layers import Activation, Dropout, Flatten, Dense, Lambda\n",
    "from keras import backend as K\n",
    "\n",
    "\n",
    "from PIL import ImageFile\n",
    "ImageFile.LOAD_TRUNCATED_IMAGES = True\n",
    "import tensorflow as tf\n",
    "import os"
   ]
  },
  {
   "cell_type": "code",
   "execution_count": 10,
   "metadata": {},
   "outputs": [],
   "source": [
    "data_dir='/home/ubuntu/intelliscope/new_split_basedon_rawpcg/pcg_a'"
   ]
  },
  {
   "cell_type": "code",
   "execution_count": null,
   "metadata": {},
   "outputs": [],
   "source": [
    "\n",
    "#!pip install neptune-client\n",
    "import os\n",
    "import neptune\n",
    "NEPTUNE_API_TOKEN=\"eyJhcGlfYWRkcmVzcyI6Imh0dHBzOi8vdWkubmVwdHVuZS5haSIsImFwaV91cmwiOiJodHRwczovL3VpLm5lcHR1bmUuYWkiLCJhcGlfa2V5IjoiNjBlODllY2ItMDcyZC00OGNmLThjZWYtZjM2MjE4Y2M5ZDM0In0=\"\n",
    "os.environ['NEPTUNE_PROJECT']=\"icassp/PCG\"\n",
    "#os.environ['NEPTUNE_NOTEBOOK_ID']=\"4897a223-8a9f-4f00-8cec-22eda690858d\"\n",
    "os.environ['NEPTUNE_NOTEBOOK_PATH']='test_on_trainA.ipynb'\n",
    "\n",
    "neptune.init('icassp/PCG',NEPTUNE_API_TOKEN)\n",
    "exp = neptune.create_experiment(description='Experiment(PCG-48).h5- trainA testing',params=PARAMS,upload_source_files=['test_on_trainA.ipynb'],tags=PARAMS['results_on_trainA'],upload_stdout=True)"
   ]
  },
  {
   "cell_type": "code",
   "execution_count": null,
   "metadata": {},
   "outputs": [],
   "source": [
    "model_dir='/home/ubuntu/intelliscope/notebooks/physionet2016/pcg/models/Experiment(PCG-48).h5'\n",
    "model=tf.keras.load_model(model_dir)\n",
    "k1,k2=272, 462\n",
    "test_datagen = ImageDataGenerator(rescale=1./255)\n",
    "test_generator = test_datagen.flow_from_directory(\n",
    "        data_dir,  # this is the target directory\n",
    "        target_size=(k1, k2),  # all images will be resized to 150x150\n",
    "        batch_size=len(os.listdir(data_dir+'/1'))+len(os.listdir(data_dir+'/0')),\n",
    "        class_mode='categorical')\n",
    "\n",
    "X,y = test_generator.next()\n",
    "prediction = model.predict(X)\n",
    "\n",
    "import numpy as np\n",
    "\n",
    "y_test=np.argmax(y,axis=1)\n",
    "y_pred=prediction\n",
    "from neptunecontrib.monitoring.metrics import *\n",
    "\n",
    "threshold = 0.5\n",
    "\n",
    "log_confusion_matrix(y_test, y_pred[:, 1] > threshold)\n",
    "log_classification_report(y_test, y_pred[:, 1] > threshold)\n",
    "log_class_metrics(y_test, y_pred[:, 1] > threshold)\n",
    "log_class_metrics_by_threshold(y_test, y_pred[:, 1])\n",
    "log_roc_auc(y_test, y_pred)\n",
    "log_precision_recall_auc(y_test, y_pred)\n",
    "log_brier_loss(y_test, y_pred[:, 1])\n",
    "log_log_loss(y_test, y_pred)\n",
    "log_ks_statistic(y_test, y_pred)\n",
    "log_cumulative_gain(y_test, y_pred)\n",
    "log_lift_curve(y_test, y_pred)\n",
    "log_prediction_distribution(y_test, y_pred[:, 1])\n",
    "neptune.stop()"
   ]
  }
 ],
 "metadata": {
  "kernelspec": {
   "display_name": "Python 3",
   "language": "python",
   "name": "python3"
  },
  "language_info": {
   "codemirror_mode": {
    "name": "ipython",
    "version": 3
   },
   "file_extension": ".py",
   "mimetype": "text/x-python",
   "name": "python",
   "nbconvert_exporter": "python",
   "pygments_lexer": "ipython3",
   "version": "3.6.9"
  }
 },
 "nbformat": 4,
 "nbformat_minor": 4
}
