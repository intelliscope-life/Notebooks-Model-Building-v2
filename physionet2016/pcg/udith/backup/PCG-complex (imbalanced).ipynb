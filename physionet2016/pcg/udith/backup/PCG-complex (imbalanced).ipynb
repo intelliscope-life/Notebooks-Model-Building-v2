{
 "cells": [
  {
   "cell_type": "code",
   "execution_count": 1,
   "metadata": {},
   "outputs": [],
   "source": [
    "data_dir='/home/ubuntu/intelliscope/pcg_data/'\n",
    "model_dir='/home/ubuntu/intelliscope/notebooks/physionet2016/pcg/models/'"
   ]
  },
  {
   "cell_type": "code",
   "execution_count": 2,
   "metadata": {},
   "outputs": [],
   "source": [
    "PARAMS = {\n",
    "          'epochs' : 15,\n",
    "         'validation_split':0.15,\n",
    "         'batch_size' : 32,\n",
    "            'model': 'complex',\n",
    "          'data_balanced':False,\n",
    "            'num_epochs':15,\n",
    "            'opt':'adam',\n",
    "            'tags': ['instance_norm added', 'dropout added'],\n",
    "         }"
   ]
  },
  {
   "cell_type": "code",
   "execution_count": 3,
   "metadata": {},
   "outputs": [
    {
     "name": "stderr",
     "output_type": "stream",
     "text": [
      "Using TensorFlow backend.\n"
     ]
    }
   ],
   "source": [
    "import os\n",
    "from tensorflow import keras\n",
    "from keras.models import Sequential\n",
    "from keras.layers import Conv2D, MaxPooling2D\n",
    "from keras.layers import Activation, Dropout, Flatten, Dense, Lambda\n",
    "from keras import backend as K\n",
    "import tensorflow_addons as tfa\n",
    "\n",
    "\n",
    "from PIL import ImageFile\n",
    "ImageFile.LOAD_TRUNCATED_IMAGES = True\n",
    "import tensorflow as tf"
   ]
  },
  {
   "cell_type": "code",
   "execution_count": 4,
   "metadata": {},
   "outputs": [],
   "source": [
    "\n",
    "\n",
    "#k1,k2=100,100\n",
    "k1,k2=272, 462\n",
    "\n",
    "model = tf.keras.models.Sequential([\n",
    "    tf.keras.layers.Conv2D(4, kernel_size=(7,7), padding='same', activation='relu', input_shape=(272,462, 3)),\n",
    "    tf.keras.layers.MaxPool2D(pool_size=(3,3)),\n",
    "    tfa.layers.InstanceNormalization(axis=3, center=True, scale=True,beta_initializer=\"random_uniform\",gamma_initializer=\"random_uniform\"),\n",
    "    tf.keras.layers.Dropout(0.2),\n",
    "    tf.keras.layers.Conv2D(16, kernel_size=(7,7), activation='relu'),\n",
    "    tf.keras.layers.MaxPool2D(pool_size=(3,3)),\n",
    "    tfa.layers.InstanceNormalization(axis=3, center=True, scale=True,beta_initializer=\"random_uniform\",gamma_initializer=\"random_uniform\"),\n",
    "    tf.keras.layers.Dropout(0.2),\n",
    "    tf.keras.layers.Conv2D(32, kernel_size=(7,7), activation='relu'),\n",
    "    tf.keras.layers.MaxPool2D(pool_size=(3,3)),\n",
    "    tfa.layers.InstanceNormalization(axis=3, center=True, scale=True,beta_initializer=\"random_uniform\",gamma_initializer=\"random_uniform\"),\n",
    "    tf.keras.layers.Dropout(0.2),\n",
    "    tf.keras.layers.Conv2D(64, kernel_size=(3,3), activation='relu'),\n",
    "    tfa.layers.InstanceNormalization(axis=3, center=True, scale=True,beta_initializer=\"random_uniform\",gamma_initializer=\"random_uniform\"),\n",
    "    tf.keras.layers.Flatten(),\n",
    "    tf.keras.layers.Dense(84, activation='relu'),\n",
    "    tf.keras.layers.Dropout(0.2),\n",
    "    tf.keras.layers.Dense(20, activation='relu'),\n",
    "    tf.keras.layers.Dense(2, activation='softmax')\n",
    "])\n",
    "\n",
    "model.compile(loss=keras.losses.CategoricalCrossentropy(),\n",
    "              optimizer=PARAMS['opt'],\n",
    "              metrics=[keras.metrics.CategoricalAccuracy(), keras.metrics.Recall(),keras.metrics.Precision()])"
   ]
  },
  {
   "cell_type": "code",
   "execution_count": 5,
   "metadata": {},
   "outputs": [
    {
     "name": "stderr",
     "output_type": "stream",
     "text": [
      "/home/ubuntu/core-env/lib/python3.6/site-packages/keras_preprocessing/image/utils.py:179: UserWarning: Using \".tiff\" files with multiple bands will cause distortion. Please verify your output.\n",
      "  warnings.warn('Using \".tiff\" files with multiple bands '\n"
     ]
    },
    {
     "name": "stdout",
     "output_type": "stream",
     "text": [
      "Found 11359 images belonging to 2 classes.\n",
      "Found 2433 images belonging to 2 classes.\n",
      "WARNING:tensorflow:From <ipython-input-5-6b4f411724e6>:28: Model.fit_generator (from tensorflow.python.keras.engine.training) is deprecated and will be removed in a future version.\n",
      "Instructions for updating:\n",
      "Please use Model.fit, which supports generators.\n",
      "WARNING:tensorflow:sample_weight modes were coerced from\n",
      "  ...\n",
      "    to  \n",
      "  ['...']\n",
      "WARNING:tensorflow:sample_weight modes were coerced from\n",
      "  ...\n",
      "    to  \n",
      "  ['...']\n",
      "Train for 355 steps, validate for 77 steps\n",
      "Epoch 1/15\n",
      "355/355 [==============================] - 702s 2s/step - loss: 0.2562 - categorical_accuracy: 0.9068 - recall: 0.9068 - precision: 0.9068 - val_loss: 0.7320 - val_categorical_accuracy: 0.7201 - val_recall: 0.7201 - val_precision: 0.7201\n",
      "Epoch 2/15\n",
      "355/355 [==============================] - 691s 2s/step - loss: 0.1384 - categorical_accuracy: 0.9439 - recall: 0.9439 - precision: 0.9439 - val_loss: 0.8420 - val_categorical_accuracy: 0.6963 - val_recall: 0.6963 - val_precision: 0.6963\n",
      "Epoch 3/15\n",
      "355/355 [==============================] - 692s 2s/step - loss: 0.1054 - categorical_accuracy: 0.9527 - recall: 0.9527 - precision: 0.9527 - val_loss: 1.2174 - val_categorical_accuracy: 0.6732 - val_recall: 0.6732 - val_precision: 0.6732\n",
      "Epoch 4/15\n",
      "355/355 [==============================] - 693s 2s/step - loss: 0.1033 - categorical_accuracy: 0.9566 - recall: 0.9566 - precision: 0.9566 - val_loss: 1.1235 - val_categorical_accuracy: 0.7148 - val_recall: 0.7148 - val_precision: 0.7148\n",
      "Epoch 5/15\n",
      "355/355 [==============================] - 700s 2s/step - loss: 0.0950 - categorical_accuracy: 0.9593 - recall: 0.9593 - precision: 0.9593 - val_loss: 1.0448 - val_categorical_accuracy: 0.7090 - val_recall: 0.7090 - val_precision: 0.7090\n",
      "Epoch 6/15\n",
      "355/355 [==============================] - 691s 2s/step - loss: 0.0917 - categorical_accuracy: 0.9595 - recall: 0.9595 - precision: 0.9595 - val_loss: 1.1097 - val_categorical_accuracy: 0.6921 - val_recall: 0.6921 - val_precision: 0.6921\n",
      "Epoch 7/15\n",
      "355/355 [==============================] - 691s 2s/step - loss: 0.0886 - categorical_accuracy: 0.9614 - recall: 0.9614 - precision: 0.9614 - val_loss: 0.6771 - val_categorical_accuracy: 0.7365 - val_recall: 0.7365 - val_precision: 0.7365\n",
      "Epoch 8/15\n",
      "355/355 [==============================] - 691s 2s/step - loss: 0.0856 - categorical_accuracy: 0.9636 - recall: 0.9636 - precision: 0.9636 - val_loss: 1.0719 - val_categorical_accuracy: 0.7263 - val_recall: 0.7263 - val_precision: 0.7263\n",
      "Epoch 9/15\n",
      "355/355 [==============================] - 690s 2s/step - loss: 0.0814 - categorical_accuracy: 0.9631 - recall: 0.9631 - precision: 0.9631 - val_loss: 1.1121 - val_categorical_accuracy: 0.7028 - val_recall: 0.7028 - val_precision: 0.7028\n",
      "Epoch 10/15\n",
      "355/355 [==============================] - 690s 2s/step - loss: 0.0749 - categorical_accuracy: 0.9657 - recall: 0.9657 - precision: 0.9657 - val_loss: 1.1195 - val_categorical_accuracy: 0.7423 - val_recall: 0.7423 - val_precision: 0.7423\n",
      "Epoch 11/15\n",
      "355/355 [==============================] - 690s 2s/step - loss: 0.0759 - categorical_accuracy: 0.9673 - recall: 0.9673 - precision: 0.9673 - val_loss: 1.0589 - val_categorical_accuracy: 0.7189 - val_recall: 0.7189 - val_precision: 0.7189\n",
      "Epoch 12/15\n",
      "355/355 [==============================] - 690s 2s/step - loss: 0.0740 - categorical_accuracy: 0.9673 - recall: 0.9673 - precision: 0.9673 - val_loss: 1.2622 - val_categorical_accuracy: 0.7094 - val_recall: 0.7094 - val_precision: 0.7094\n",
      "Epoch 13/15\n",
      "355/355 [==============================] - 691s 2s/step - loss: 0.0768 - categorical_accuracy: 0.9675 - recall: 0.9675 - precision: 0.9675 - val_loss: 1.1828 - val_categorical_accuracy: 0.7115 - val_recall: 0.7115 - val_precision: 0.7115\n",
      "Epoch 14/15\n",
      "355/355 [==============================] - 691s 2s/step - loss: 0.0718 - categorical_accuracy: 0.9683 - recall: 0.9683 - precision: 0.9683 - val_loss: 1.1675 - val_categorical_accuracy: 0.7341 - val_recall: 0.7341 - val_precision: 0.7341\n",
      "Epoch 15/15\n",
      "355/355 [==============================] - 690s 2s/step - loss: 0.0705 - categorical_accuracy: 0.9692 - recall: 0.9692 - precision: 0.9692 - val_loss: 1.1575 - val_categorical_accuracy: 0.7390 - val_recall: 0.7390 - val_precision: 0.7390\n"
     ]
    }
   ],
   "source": [
    "from keras.preprocessing.image import ImageDataGenerator, array_to_img, img_to_array, load_img\n",
    "\n",
    "batch_size=PARAMS['batch_size']\n",
    "\n",
    "train_datagen = ImageDataGenerator(\n",
    "        rescale=1./255,\n",
    "        shear_range=0.2,\n",
    "        zoom_range=0.2,\n",
    "        horizontal_flip=True)\n",
    "\n",
    "val_datagen = ImageDataGenerator(rescale=1./255)\n",
    "train_generator = train_datagen.flow_from_directory(\n",
    "        data_dir+'pcg_other_train_imb/',  # this is the target directory\n",
    "        target_size=(k1, k2),  # all images will be resized to 150x150\n",
    "        batch_size=batch_size,\n",
    "        class_mode='categorical')  # since we use binary_crossentropy loss, we need binary labels\n",
    "\n",
    "validation_generator = val_datagen.flow_from_directory(\n",
    "        data_dir+'pcg_other_val_imb/',\n",
    "        target_size=(k1, k2),\n",
    "        batch_size=batch_size,\n",
    "        class_mode='categorical')\n",
    "\n",
    "history=model.fit_generator(\n",
    "        train_generator,\n",
    "        #steps_per_epoch=2000 // batch_size,\n",
    "        epochs=PARAMS['num_epochs'],\n",
    "        validation_data=validation_generator,\n",
    "        #validation_steps=800 // batch_size\n",
    ")\n",
    "\n"
   ]
  },
  {
   "cell_type": "code",
   "execution_count": 6,
   "metadata": {},
   "outputs": [
    {
     "name": "stderr",
     "output_type": "stream",
     "text": [
      "WARNING: There is a new version of neptune-client 0.4.125 (installed: 0.4.124).\n",
      "NVMLError: NVML Shared Library Not Found - GPU usage metrics may not be reported.\n"
     ]
    },
    {
     "name": "stdout",
     "output_type": "stream",
     "text": [
      "https://ui.neptune.ai/icassp/PCG/e/PCG-55\n"
     ]
    }
   ],
   "source": [
    "\n",
    "#!pip install neptune-client\n",
    "import os\n",
    "import neptune\n",
    "NEPTUNE_API_TOKEN=\"eyJhcGlfYWRkcmVzcyI6Imh0dHBzOi8vdWkubmVwdHVuZS5haSIsImFwaV91cmwiOiJodHRwczovL3VpLm5lcHR1bmUuYWkiLCJhcGlfa2V5IjoiNjBlODllY2ItMDcyZC00OGNmLThjZWYtZjM2MjE4Y2M5ZDM0In0=\"\n",
    "os.environ['NEPTUNE_PROJECT']=\"icassp/PCG\"\n",
    "#os.environ['NEPTUNE_NOTEBOOK_ID']=\"4897a223-8a9f-4f00-8cec-22eda690858d\"\n",
    "os.environ['NEPTUNE_NOTEBOOK_PATH']='PCG-complex (imbalanced).ipynb'\n",
    "\n",
    "neptune.init('icassp/PCG',NEPTUNE_API_TOKEN)\n",
    "exp = neptune.create_experiment(description='PCG-complex (imbalanced)',params=PARAMS,upload_source_files=['PCG-complex (imbalanced).ipynb'],tags=PARAMS['tags'],upload_stdout=True)\n",
    "\n",
    "model.save(f'{model_dir}{str(exp)}.h5')\n",
    "neptune.log_artifact(f'{model_dir}{str(exp)}.h5')"
   ]
  },
  {
   "cell_type": "code",
   "execution_count": null,
   "metadata": {},
   "outputs": [],
   "source": [
    "no=1\n",
    "for i in range(len(history.history['loss'])):\n",
    "    neptune.log_metric('loss',history.history['loss'][i])\n",
    "    neptune.log_metric('val loss',history.history['val_loss'][i])\n",
    "    neptune.log_metric('acc',history.history['categorical_accuracy'][i])\n",
    "    neptune.log_metric('val_acc',history.history['val_categorical_accuracy'][i])\n",
    "    neptune.log_metric('precision',history.history['precision_%d'%no][i])\n",
    "    neptune.log_metric('val_precision',history.history['val_precision_%d'%no][i])\n",
    "    neptune.log_metric('recall',history.history['recall_%d'%no][i])\n",
    "    neptune.log_metric('val_recall',history.history['val_recall_%d'%no][i])"
   ]
  },
  {
   "cell_type": "code",
   "execution_count": 7,
   "metadata": {},
   "outputs": [],
   "source": [
    "for i in range(len(history.history['loss'])):\n",
    "    neptune.log_metric('loss',history.history['loss'][i])\n",
    "    neptune.log_metric('val loss',history.history['val_loss'][i])\n",
    "    neptune.log_metric('acc',history.history['categorical_accuracy'][i])\n",
    "    neptune.log_metric('val_acc',history.history['val_categorical_accuracy'][i])\n",
    "    neptune.log_metric('precision',history.history['precision'][i])\n",
    "    neptune.log_metric('val_precision',history.history['val_precision'][i])\n",
    "    neptune.log_metric('recall',history.history['recall'][i])\n",
    "    neptune.log_metric('val_recall',history.history['val_recall'][i])"
   ]
  },
  {
   "cell_type": "code",
   "execution_count": 8,
   "metadata": {},
   "outputs": [
    {
     "name": "stderr",
     "output_type": "stream",
     "text": [
      "/home/ubuntu/core-env/lib/python3.6/site-packages/keras_preprocessing/image/utils.py:179: UserWarning: Using \".tiff\" files with multiple bands will cause distortion. Please verify your output.\n",
      "  warnings.warn('Using \".tiff\" files with multiple bands '\n"
     ]
    },
    {
     "name": "stdout",
     "output_type": "stream",
     "text": [
      "Found 2434 images belonging to 2 classes.\n"
     ]
    }
   ],
   "source": [
    "test_datagen = ImageDataGenerator(rescale=1./255)\n",
    "test_generator = test_datagen.flow_from_directory(\n",
    "        data_dir+'pcg_other_test_imb/',  # this is the target directory\n",
    "        target_size=(k1, k2),  # all images will be resized to 150x150\n",
    "        batch_size=len(os.listdir(data_dir+'pcg_other_test_imb/1'))+len(os.listdir(data_dir+'pcg_other_test_imb/0')),\n",
    "        class_mode='categorical')\n",
    "\n",
    "X,y = test_generator.next()\n",
    "prediction = model.predict(X)\n",
    "\n",
    "import numpy as np\n",
    "\n",
    "y_test=np.argmax(y,axis=1)\n",
    "y_pred=prediction\n",
    "from neptunecontrib.monitoring.metrics import *\n",
    "\n",
    "threshold = 0.5\n",
    "\n",
    "log_confusion_matrix(y_test, y_pred[:, 1] > threshold)\n",
    "log_classification_report(y_test, y_pred[:, 1] > threshold)\n",
    "log_class_metrics(y_test, y_pred[:, 1] > threshold)\n",
    "log_class_metrics_by_threshold(y_test, y_pred[:, 1])\n",
    "log_roc_auc(y_test, y_pred)\n",
    "log_precision_recall_auc(y_test, y_pred)\n",
    "log_brier_loss(y_test, y_pred[:, 1])\n",
    "log_log_loss(y_test, y_pred)\n",
    "log_ks_statistic(y_test, y_pred)\n",
    "log_cumulative_gain(y_test, y_pred)\n",
    "log_lift_curve(y_test, y_pred)\n",
    "log_prediction_distribution(y_test, y_pred[:, 1])\n"
   ]
  },
  {
   "cell_type": "code",
   "execution_count": null,
   "metadata": {},
   "outputs": [],
   "source": []
  },
  {
   "cell_type": "code",
   "execution_count": 9,
   "metadata": {},
   "outputs": [],
   "source": [
    "neptune.stop()"
   ]
  },
  {
   "cell_type": "code",
   "execution_count": null,
   "metadata": {},
   "outputs": [],
   "source": []
  }
 ],
 "metadata": {
  "kernelspec": {
   "display_name": "Python 3",
   "language": "python",
   "name": "python3"
  },
  "language_info": {
   "codemirror_mode": {
    "name": "ipython",
    "version": 3
   },
   "file_extension": ".py",
   "mimetype": "text/x-python",
   "name": "python",
   "nbconvert_exporter": "python",
   "pygments_lexer": "ipython3",
   "version": "3.6.9"
  }
 },
 "nbformat": 4,
 "nbformat_minor": 4
}
