{
 "cells": [
  {
   "cell_type": "code",
   "execution_count": 7,
   "metadata": {},
   "outputs": [],
   "source": [
    "data_dir='/home/ubuntu/intelliscope/pcg_data/'\n",
    "model_dir='/home/ubuntu/intelliscope/notebooks/physionet2016/pcg/models/'"
   ]
  },
  {
   "cell_type": "code",
   "execution_count": 8,
   "metadata": {},
   "outputs": [],
   "source": [
    "PARAMS = {\n",
    "          'epochs' : 15,\n",
    "         'validation_split':0.15,\n",
    "         'batch_size' : 32,\n",
    "            'model': 'complex',\n",
    "          'data_balanced':True,\n",
    "            'num_epochs':15,\n",
    "            'opt':'adam',\n",
    "            'tags': ['instance_norm added', 'dropout added'],\n",
    "         }"
   ]
  },
  {
   "cell_type": "code",
   "execution_count": 9,
   "metadata": {},
   "outputs": [
    {
     "name": "stdout",
     "output_type": "stream",
     "text": [
      "imb:: N:14182, A:2044\n",
      "balanceed:: N:2044, A:2044\n"
     ]
    }
   ],
   "source": [
    "import os\n",
    "a1=len(os.listdir('/home/ubuntu/intelliscope/pcg_data/pcg_other_train_imb/0'))\n",
    "a2=len(os.listdir('/home/ubuntu/intelliscope/pcg_data/pcg_other_val_imb/0'))\n",
    "a3=len(os.listdir('/home/ubuntu/intelliscope/pcg_data/pcg_other_test_imb/0'))\n",
    "\n",
    "a4=len(os.listdir('/home/ubuntu/intelliscope/pcg_data/pcg_other_train_imb/1'))\n",
    "a5=len(os.listdir('/home/ubuntu/intelliscope/pcg_data/pcg_other_val_imb/1'))\n",
    "a6=len(os.listdir('/home/ubuntu/intelliscope/pcg_data/pcg_other_test_imb/1'))\n",
    "\n",
    "a7=len(os.listdir('/home/ubuntu/intelliscope/pcg_data/pcg_other_train/0'))\n",
    "a8=len(os.listdir('/home/ubuntu/intelliscope/pcg_data/pcg_other_val/0'))\n",
    "a9=len(os.listdir('/home/ubuntu/intelliscope/pcg_data/pcg_other_test/0'))\n",
    "\n",
    "a10=len(os.listdir('/home/ubuntu/intelliscope/pcg_data/pcg_other_train/1'))\n",
    "a11=len(os.listdir('/home/ubuntu/intelliscope/pcg_data/pcg_other_val/1'))\n",
    "a12=len(os.listdir('/home/ubuntu/intelliscope/pcg_data/pcg_other_test/1'))\n",
    "\n",
    "print(f'imb:: N:{a1+a2+a3}, A:{a4+a5+a6}')\n",
    "print(f'balanceed:: N:{a7+a8+a9}, A:{a10+a11+a12}')"
   ]
  },
  {
   "cell_type": "code",
   "execution_count": 10,
   "metadata": {},
   "outputs": [],
   "source": [
    "import os\n",
    "from tensorflow import keras\n",
    "from keras.models import Sequential\n",
    "from keras.layers import Conv2D, MaxPooling2D\n",
    "from keras.layers import Activation, Dropout, Flatten, Dense, Lambda\n",
    "from keras import backend as K\n",
    "import tensorflow_addons as tfa\n",
    "\n",
    "\n",
    "from PIL import ImageFile\n",
    "ImageFile.LOAD_TRUNCATED_IMAGES = True\n",
    "import tensorflow as tf"
   ]
  },
  {
   "cell_type": "code",
   "execution_count": 11,
   "metadata": {},
   "outputs": [],
   "source": [
    "\n",
    "\n",
    "#k1,k2=100,100\n",
    "k1,k2=272, 462\n",
    "\n",
    "model = tf.keras.models.Sequential([\n",
    "    tf.keras.layers.Conv2D(4, kernel_size=(7,7), padding='same', activation='relu', input_shape=(272,462, 3)),\n",
    "    tf.keras.layers.MaxPool2D(pool_size=(3,3)),\n",
    "    tfa.layers.InstanceNormalization(axis=3, center=True, scale=True,beta_initializer=\"random_uniform\",gamma_initializer=\"random_uniform\"),\n",
    "    tf.keras.layers.Dropout(0.2),\n",
    "    tf.keras.layers.Conv2D(16, kernel_size=(7,7), activation='relu'),\n",
    "    tf.keras.layers.MaxPool2D(pool_size=(3,3)),\n",
    "    tfa.layers.InstanceNormalization(axis=3, center=True, scale=True,beta_initializer=\"random_uniform\",gamma_initializer=\"random_uniform\"),\n",
    "    tf.keras.layers.Dropout(0.2),\n",
    "    tf.keras.layers.Conv2D(32, kernel_size=(7,7), activation='relu'),\n",
    "    tf.keras.layers.MaxPool2D(pool_size=(3,3)),\n",
    "    tfa.layers.InstanceNormalization(axis=3, center=True, scale=True,beta_initializer=\"random_uniform\",gamma_initializer=\"random_uniform\"),\n",
    "    tf.keras.layers.Dropout(0.2),\n",
    "    tf.keras.layers.Conv2D(64, kernel_size=(3,3), activation='relu'),\n",
    "    tfa.layers.InstanceNormalization(axis=3, center=True, scale=True,beta_initializer=\"random_uniform\",gamma_initializer=\"random_uniform\"),\n",
    "    tf.keras.layers.Flatten(),\n",
    "    tf.keras.layers.Dense(84, activation='relu'),\n",
    "    tf.keras.layers.Dropout(0.2),\n",
    "    tf.keras.layers.Dense(20, activation='relu'),\n",
    "    tf.keras.layers.Dense(2, activation='softmax')\n",
    "])\n",
    "\n",
    "\n",
    "\n",
    "model.compile(loss=keras.losses.CategoricalCrossentropy(),\n",
    "              optimizer=PARAMS['opt'],\n",
    "              metrics=[keras.metrics.CategoricalAccuracy(), keras.metrics.Recall(),keras.metrics.Precision()])"
   ]
  },
  {
   "cell_type": "code",
   "execution_count": 12,
   "metadata": {},
   "outputs": [
    {
     "name": "stdout",
     "output_type": "stream",
     "text": [
      "Found 2226 images belonging to 2 classes.\n",
      "Found 1508 images belonging to 2 classes.\n",
      "WARNING:tensorflow:From <ipython-input-12-b32292909e53>:28: Model.fit_generator (from tensorflow.python.keras.engine.training) is deprecated and will be removed in a future version.\n",
      "Instructions for updating:\n",
      "Please use Model.fit, which supports generators.\n"
     ]
    },
    {
     "name": "stderr",
     "output_type": "stream",
     "text": [
      "/home/ubuntu/core-env/lib/python3.6/site-packages/keras_preprocessing/image/utils.py:179: UserWarning: Using \".tiff\" files with multiple bands will cause distortion. Please verify your output.\n",
      "  warnings.warn('Using \".tiff\" files with multiple bands '\n"
     ]
    },
    {
     "name": "stdout",
     "output_type": "stream",
     "text": [
      "WARNING:tensorflow:sample_weight modes were coerced from\n",
      "  ...\n",
      "    to  \n",
      "  ['...']\n",
      "WARNING:tensorflow:sample_weight modes were coerced from\n",
      "  ...\n",
      "    to  \n",
      "  ['...']\n",
      "Train for 70 steps, validate for 48 steps\n",
      "Epoch 1/15\n",
      "70/70 [==============================] - 190s 3s/step - loss: 0.6205 - categorical_accuracy: 0.6262 - recall_1: 0.6262 - precision_1: 0.6262 - val_loss: 0.9363 - val_categorical_accuracy: 0.6101 - val_recall_1: 0.6101 - val_precision_1: 0.6101\n",
      "Epoch 2/15\n",
      "70/70 [==============================] - 211s 3s/step - loss: 0.3301 - categorical_accuracy: 0.8544 - recall_1: 0.8544 - precision_1: 0.8544 - val_loss: 0.7434 - val_categorical_accuracy: 0.6472 - val_recall_1: 0.6472 - val_precision_1: 0.6472\n",
      "Epoch 3/15\n",
      "70/70 [==============================] - 211s 3s/step - loss: 0.2616 - categorical_accuracy: 0.8922 - recall_1: 0.8922 - precision_1: 0.8922 - val_loss: 0.7311 - val_categorical_accuracy: 0.6751 - val_recall_1: 0.6751 - val_precision_1: 0.6751\n",
      "Epoch 4/15\n",
      "70/70 [==============================] - 209s 3s/step - loss: 0.2282 - categorical_accuracy: 0.9137 - recall_1: 0.9137 - precision_1: 0.9137 - val_loss: 0.8281 - val_categorical_accuracy: 0.6870 - val_recall_1: 0.6870 - val_precision_1: 0.6870\n",
      "Epoch 5/15\n",
      "70/70 [==============================] - 212s 3s/step - loss: 0.1832 - categorical_accuracy: 0.9272 - recall_1: 0.9272 - precision_1: 0.9272 - val_loss: 0.9354 - val_categorical_accuracy: 0.6844 - val_recall_1: 0.6844 - val_precision_1: 0.6844\n",
      "Epoch 6/15\n",
      "70/70 [==============================] - 221s 3s/step - loss: 0.1796 - categorical_accuracy: 0.9331 - recall_1: 0.9331 - precision_1: 0.9331 - val_loss: 0.8821 - val_categorical_accuracy: 0.6830 - val_recall_1: 0.6830 - val_precision_1: 0.6830\n",
      "Epoch 7/15\n",
      "70/70 [==============================] - 211s 3s/step - loss: 0.1693 - categorical_accuracy: 0.9313 - recall_1: 0.9313 - precision_1: 0.9313 - val_loss: 1.0410 - val_categorical_accuracy: 0.6923 - val_recall_1: 0.6923 - val_precision_1: 0.6923\n",
      "Epoch 8/15\n",
      "70/70 [==============================] - 210s 3s/step - loss: 0.1671 - categorical_accuracy: 0.9376 - recall_1: 0.9376 - precision_1: 0.9376 - val_loss: 1.1503 - val_categorical_accuracy: 0.6810 - val_recall_1: 0.6810 - val_precision_1: 0.6810\n",
      "Epoch 9/15\n",
      "70/70 [==============================] - 211s 3s/step - loss: 0.1648 - categorical_accuracy: 0.9389 - recall_1: 0.9389 - precision_1: 0.9389 - val_loss: 0.9044 - val_categorical_accuracy: 0.6870 - val_recall_1: 0.6870 - val_precision_1: 0.6870\n",
      "Epoch 10/15\n",
      "70/70 [==============================] - 215s 3s/step - loss: 0.1413 - categorical_accuracy: 0.9429 - recall_1: 0.9429 - precision_1: 0.9429 - val_loss: 1.3462 - val_categorical_accuracy: 0.6777 - val_recall_1: 0.6777 - val_precision_1: 0.6777\n",
      "Epoch 11/15\n",
      "70/70 [==============================] - 219s 3s/step - loss: 0.1615 - categorical_accuracy: 0.9389 - recall_1: 0.9389 - precision_1: 0.9389 - val_loss: 1.0965 - val_categorical_accuracy: 0.6989 - val_recall_1: 0.6989 - val_precision_1: 0.6989\n",
      "Epoch 12/15\n",
      "70/70 [==============================] - 212s 3s/step - loss: 0.1367 - categorical_accuracy: 0.9425 - recall_1: 0.9425 - precision_1: 0.9425 - val_loss: 1.0376 - val_categorical_accuracy: 0.6877 - val_recall_1: 0.6877 - val_precision_1: 0.6877\n",
      "Epoch 13/15\n",
      "70/70 [==============================] - 213s 3s/step - loss: 0.1399 - categorical_accuracy: 0.9488 - recall_1: 0.9488 - precision_1: 0.9488 - val_loss: 1.1436 - val_categorical_accuracy: 0.6830 - val_recall_1: 0.6830 - val_precision_1: 0.6830\n",
      "Epoch 14/15\n",
      "70/70 [==============================] - 211s 3s/step - loss: 0.1358 - categorical_accuracy: 0.9456 - recall_1: 0.9456 - precision_1: 0.9456 - val_loss: 1.1437 - val_categorical_accuracy: 0.6943 - val_recall_1: 0.6943 - val_precision_1: 0.6943\n",
      "Epoch 15/15\n",
      "70/70 [==============================] - 220s 3s/step - loss: 0.1267 - categorical_accuracy: 0.9470 - recall_1: 0.9470 - precision_1: 0.9470 - val_loss: 1.0144 - val_categorical_accuracy: 0.6956 - val_recall_1: 0.6956 - val_precision_1: 0.6956\n"
     ]
    }
   ],
   "source": [
    "from keras.preprocessing.image import ImageDataGenerator, array_to_img, img_to_array, load_img\n",
    "\n",
    "batch_size=PARAMS['batch_size']\n",
    "\n",
    "train_datagen = ImageDataGenerator(\n",
    "        rescale=1./255,\n",
    "        shear_range=0.2,\n",
    "        zoom_range=0.2,\n",
    "        horizontal_flip=True)\n",
    "\n",
    "val_datagen = ImageDataGenerator(rescale=1./255)\n",
    "train_generator = train_datagen.flow_from_directory(\n",
    "        data_dir+'pcg_other_train/',  # this is the target directory\n",
    "        target_size=(k1, k2),  # all images will be resized to 150x150\n",
    "        batch_size=batch_size,\n",
    "        class_mode='categorical')  # since we use binary_crossentropy loss, we need binary labels\n",
    "\n",
    "validation_generator = val_datagen.flow_from_directory(\n",
    "        data_dir+'pcg_other_val/',\n",
    "        target_size=(k1, k2),\n",
    "        batch_size=batch_size,\n",
    "        class_mode='categorical')\n",
    "\n",
    "history=model.fit_generator(\n",
    "        train_generator,\n",
    "        #steps_per_epoch=2000 // batch_size,\n",
    "        epochs=PARAMS['num_epochs'],\n",
    "        validation_data=validation_generator,\n",
    "        #validation_steps=800 // batch_size\n",
    ")\n",
    "\n"
   ]
  },
  {
   "cell_type": "code",
   "execution_count": 13,
   "metadata": {},
   "outputs": [
    {
     "name": "stderr",
     "output_type": "stream",
     "text": [
      "WARNING: There is a new version of neptune-client 0.4.125 (installed: 0.4.124).\n",
      "NVMLError: NVML Shared Library Not Found - GPU usage metrics may not be reported.\n"
     ]
    },
    {
     "name": "stdout",
     "output_type": "stream",
     "text": [
      "https://ui.neptune.ai/icassp/PCG/e/PCG-50\n"
     ]
    }
   ],
   "source": [
    "\n",
    "#!pip install neptune-client\n",
    "import os\n",
    "import neptune\n",
    "NEPTUNE_API_TOKEN=\"eyJhcGlfYWRkcmVzcyI6Imh0dHBzOi8vdWkubmVwdHVuZS5haSIsImFwaV91cmwiOiJodHRwczovL3VpLm5lcHR1bmUuYWkiLCJhcGlfa2V5IjoiNjBlODllY2ItMDcyZC00OGNmLThjZWYtZjM2MjE4Y2M5ZDM0In0=\"\n",
    "os.environ['NEPTUNE_PROJECT']=\"icassp/PCG\"\n",
    "#os.environ['NEPTUNE_NOTEBOOK_ID']=\"4897a223-8a9f-4f00-8cec-22eda690858d\"\n",
    "os.environ['NEPTUNE_NOTEBOOK_PATH']='PCG-complex (balanced).ipynb'\n",
    "\n",
    "neptune.init('icassp/PCG',NEPTUNE_API_TOKEN)\n",
    "exp = neptune.create_experiment(description='PCG-complex (balanced)',params=PARAMS,upload_source_files=['PCG-complex (balanced).ipynb'],tags=PARAMS['tags'],upload_stdout=True)\n",
    "\n",
    "model.save(f'{model_dir}{str(exp)}.h5')\n",
    "neptune.log_artifact(f'{model_dir}{str(exp)}.h5')"
   ]
  },
  {
   "cell_type": "code",
   "execution_count": 14,
   "metadata": {},
   "outputs": [],
   "source": [
    "no=1\n",
    "for i in range(len(history.history['loss'])):\n",
    "    neptune.log_metric('loss',history.history['loss'][i])\n",
    "    neptune.log_metric('val loss',history.history['val_loss'][i])\n",
    "    neptune.log_metric('acc',history.history['categorical_accuracy'][i])\n",
    "    neptune.log_metric('val_acc',history.history['val_categorical_accuracy'][i])\n",
    "    neptune.log_metric('precision',history.history['precision_%d'%no][i])\n",
    "    neptune.log_metric('val_precision',history.history['val_precision_%d'%no][i])\n",
    "    neptune.log_metric('recall',history.history['recall_%d'%no][i])\n",
    "    neptune.log_metric('val_recall',history.history['val_recall_%d'%no][i])"
   ]
  },
  {
   "cell_type": "code",
   "execution_count": null,
   "metadata": {},
   "outputs": [],
   "source": [
    "for i in range(len(history.history['loss'])):\n",
    "    neptune.log_metric('loss',history.history['loss'][i])\n",
    "    neptune.log_metric('val loss',history.history['val_loss'][i])\n",
    "    neptune.log_metric('acc',history.history['categorical_accuracy'][i])\n",
    "    neptune.log_metric('val_acc',history.history['val_categorical_accuracy'][i])\n",
    "    neptune.log_metric('precision',history.history['precision'][i])\n",
    "    neptune.log_metric('val_precision',history.history['val_precision'][i])\n",
    "    neptune.log_metric('recall',history.history['recall'][i])\n",
    "    neptune.log_metric('val_recall',history.history['val_recall'][i])"
   ]
  },
  {
   "cell_type": "code",
   "execution_count": 15,
   "metadata": {},
   "outputs": [
    {
     "name": "stderr",
     "output_type": "stream",
     "text": [
      "/home/ubuntu/core-env/lib/python3.6/site-packages/keras_preprocessing/image/utils.py:179: UserWarning: Using \".tiff\" files with multiple bands will cause distortion. Please verify your output.\n",
      "  warnings.warn('Using \".tiff\" files with multiple bands '\n"
     ]
    },
    {
     "name": "stdout",
     "output_type": "stream",
     "text": [
      "Found 354 images belonging to 2 classes.\n"
     ]
    }
   ],
   "source": [
    "test_datagen = ImageDataGenerator(rescale=1./255)\n",
    "test_generator = test_datagen.flow_from_directory(\n",
    "        data_dir+'pcg_other_test/',  # this is the target directory\n",
    "        target_size=(k1, k2),  # all images will be resized to 150x150\n",
    "        batch_size=len(os.listdir(data_dir+'pcg_other_test/1'))+len(os.listdir(data_dir+'pcg_other_test/0')),\n",
    "        class_mode='categorical')\n",
    "\n",
    "X,y = test_generator.next()\n",
    "prediction = model.predict(X)\n",
    "\n",
    "import numpy as np\n",
    "\n",
    "y_test=np.argmax(y,axis=1)\n",
    "y_pred=prediction\n",
    "from neptunecontrib.monitoring.metrics import *\n",
    "\n",
    "threshold = 0.5\n",
    "\n",
    "log_confusion_matrix(y_test, y_pred[:, 1] > threshold)\n",
    "log_classification_report(y_test, y_pred[:, 1] > threshold)\n",
    "log_class_metrics(y_test, y_pred[:, 1] > threshold)\n",
    "log_class_metrics_by_threshold(y_test, y_pred[:, 1])\n",
    "log_roc_auc(y_test, y_pred)\n",
    "log_precision_recall_auc(y_test, y_pred)\n",
    "log_brier_loss(y_test, y_pred[:, 1])\n",
    "log_log_loss(y_test, y_pred)\n",
    "log_ks_statistic(y_test, y_pred)\n",
    "log_cumulative_gain(y_test, y_pred)\n",
    "log_lift_curve(y_test, y_pred)\n",
    "log_prediction_distribution(y_test, y_pred[:, 1])\n"
   ]
  },
  {
   "cell_type": "code",
   "execution_count": 16,
   "metadata": {},
   "outputs": [],
   "source": [
    "neptune.stop()"
   ]
  },
  {
   "cell_type": "code",
   "execution_count": null,
   "metadata": {},
   "outputs": [],
   "source": []
  }
 ],
 "metadata": {
  "kernelspec": {
   "display_name": "Python 3",
   "language": "python",
   "name": "python3"
  },
  "language_info": {
   "codemirror_mode": {
    "name": "ipython",
    "version": 3
   },
   "file_extension": ".py",
   "mimetype": "text/x-python",
   "name": "python",
   "nbconvert_exporter": "python",
   "pygments_lexer": "ipython3",
   "version": "3.6.9"
  }
 },
 "nbformat": 4,
 "nbformat_minor": 4
}
