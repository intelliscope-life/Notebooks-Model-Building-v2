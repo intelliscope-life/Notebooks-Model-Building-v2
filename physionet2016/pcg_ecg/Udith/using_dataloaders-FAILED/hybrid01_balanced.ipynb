{
 "cells": [
  {
   "cell_type": "code",
   "execution_count": 1,
   "metadata": {},
   "outputs": [],
   "source": [
    "import tensorflow as tf\n",
    "\n",
    "PARAMS = {\n",
    "    'pcg_dir':'/home/ubuntu/intelliscope/for_dataloaders/waveletcomb1/dataA/pcg/balanced', \n",
    "    'ecg_dir':'/home/ubuntu/intelliscope/for_dataloaders/waveletcomb1/dataA/ecg/balanced',\n",
    "    'modelsave_dir':'/home/ubuntu/intelliscope/models',\n",
    "    'modelload_pcg_dir':'/home/ubuntu/intelliscope/models/Experiment(PCG-7).h5', #name of the models ###\n",
    "    'modelload_ecg_dir':'/home/ubuntu/intelliscope/models/Experiment(ECG-7).h5', ###\n",
    "    'num_epochs': 10,\n",
    "    'validation_split':0.1,\n",
    "    'test_split': 0.2,\n",
    "    'batch_size':32,\n",
    "    'data_balanced':True,\n",
    "    'wavelet':'comb1',\n",
    "    'dataset':'physionet2016a',\n",
    "    'pcg/ecg': 'pcg+ecg',\n",
    "    'augmentation':0,\n",
    "    'opt':tf.keras.optimizers.Adam(learning_rate=0.001, beta_1=0.9, beta_2=0.999, epsilon=1e-07),\n",
    "    'tags':['CASS'],\n",
    "    'pretrained': False, ###\n",
    "    'notebook_name':'hybrid01_balanced.ipynb', ###\n",
    "    'description':'initial model architecture from CASS paper (base model)',\n",
    "    'name':'data_a + balanced',\n",
    "    'dropout':0.2,\n",
    "    'is_features_normalized':False\n",
    "    }\n",
    "\n",
    "\n",
    "pcg_dir=PARAMS['pcg_dir']\n",
    "ecg_dir=PARAMS['ecg_dir']\n",
    "modelsave_dir=PARAMS['modelsave_dir']\n",
    "modelload_pcg_dir=PARAMS['modelload_pcg_dir']\n",
    "modelload_ecg_dir=PARAMS['modelload_ecg_dir']\n",
    "batch_size=PARAMS['batch_size']"
   ]
  },
  {
   "cell_type": "code",
   "execution_count": 2,
   "metadata": {},
   "outputs": [
    {
     "name": "stdout",
     "output_type": "stream",
     "text": [
      "check ecg vs pcg compability :: all must be True\n",
      "True\n",
      "True\n",
      "True\n",
      "True\n",
      "True\n",
      "True\n"
     ]
    }
   ],
   "source": [
    "import os\n",
    "print('check ecg vs pcg compability :: all must be True')\n",
    "print(os.listdir(PARAMS['pcg_dir']+'/train/0') == os.listdir(PARAMS['ecg_dir']+'/train/0'))\n",
    "print(os.listdir(PARAMS['pcg_dir']+'/train/1') == os.listdir(PARAMS['ecg_dir']+'/train/1'))\n",
    "print(os.listdir(PARAMS['pcg_dir']+'/val/0')   == os.listdir(PARAMS['ecg_dir']+'/val/0'))\n",
    "print(os.listdir(PARAMS['pcg_dir']+'/val/1')   == os.listdir(PARAMS['ecg_dir']+'/val/1'))\n",
    "print(os.listdir(PARAMS['pcg_dir']+'/test/0')  == os.listdir(PARAMS['ecg_dir']+'/test/0'))\n",
    "print(os.listdir(PARAMS['pcg_dir']+'/test/1')  == os.listdir(PARAMS['ecg_dir']+'/test/1'))"
   ]
  },
  {
   "cell_type": "code",
   "execution_count": 3,
   "metadata": {},
   "outputs": [],
   "source": [
    "import os\n",
    "from tensorflow import keras\n",
    "from tensorflow.keras.models import Sequential, load_model\n",
    "from tensorflow.keras.layers import Conv2D, MaxPooling2D\n",
    "from tensorflow.keras.layers import Activation, Dropout, Flatten, Dense, Lambda,BatchNormalization\n",
    "from tensorflow.keras import backend as K\n",
    "from tensorflow_addons.layers import InstanceNormalization\n",
    "\n",
    "from tensorflow.keras.layers import Activation, Dropout, Flatten, Dense, Lambda\n",
    "from tensorflow.keras.preprocessing.image import ImageDataGenerator, array_to_img, img_to_array, load_img\n",
    "\n",
    "\n",
    "from PIL import ImageFile\n",
    "ImageFile.LOAD_TRUNCATED_IMAGES = True\n",
    "\n",
    "def generate_generator_multiple(generator,dir1, dir2, batch_size):\n",
    "    genX1 = generator.flow_from_directory(dir1,\n",
    "                                          target_size=(272, 462),\n",
    "                                          class_mode = 'categorical',\n",
    "                                          batch_size = batch_size,\n",
    "                                          shuffle=False, \n",
    "                                          seed=7)\n",
    "    \n",
    "    genX2 = generator.flow_from_directory(dir2,\n",
    "                                          target_size=(272, 462),\n",
    "                                          class_mode = 'categorical',\n",
    "                                          batch_size = batch_size,\n",
    "                                          shuffle=False, \n",
    "                                          seed=7)\n",
    "    while True:\n",
    "            X1i, y1i = genX1.next()\n",
    "            X2i, y2i = genX2.next()\n",
    "                \n",
    "            yield [X1i, X2i], y1i\n",
    "    \n",
    "train_datagen = ImageDataGenerator(rescale=1./255)   \n",
    "val_datagen = ImageDataGenerator(rescale=1./255)   \n",
    "\n",
    "dual_training   = generate_generator_multiple(train_datagen,PARAMS['pcg_dir']+'/train/',PARAMS['ecg_dir']+'/train/',batch_size) #1. PCG, 2. ECG\n",
    "dual_validation = generate_generator_multiple(val_datagen,PARAMS['pcg_dir']+'/val/',PARAMS['ecg_dir']+'/val/',batch_size) #1. PCG, 2. ECG"
   ]
  },
  {
   "cell_type": "code",
   "execution_count": 4,
   "metadata": {},
   "outputs": [],
   "source": [
    "from intelliscope import get_base_model\n",
    "\n",
    "if PARAMS['pretrained']==True:\n",
    "    pcg_model=load_model(modelload_pcg_dir)\n",
    "    ecg_model=load_model(modelload_ecg_dir)\n",
    "else:\n",
    "    pcg_model=get_base_model()\n",
    "    ecg_model=get_base_model()\n",
    "    \n",
    "pcg_layer=[layer.name for layer in pcg_model.layers][-4]\n",
    "ecg_layer=[layer.name for layer in ecg_model.layers][-4]\n",
    "\n",
    "pcg_block= tf.keras.Model(inputs=pcg_model.input, outputs=pcg_model.get_layer(pcg_layer).output)\n",
    "pcg_block.trainable=True\n",
    "pcg_input = tf.keras.layers.Input(shape=(272,462,3))\n",
    "pcg_features = pcg_block(pcg_input)\n",
    "\n",
    "ecg_block= tf.keras.Model(inputs=ecg_model.input, outputs=ecg_model.get_layer(ecg_layer).output)\n",
    "ecg_block.trainable=True\n",
    "ecg_input = tf.keras.layers.Input(shape=(272,462,3))\n",
    "ecg_features = ecg_block(ecg_input)\n",
    "\n",
    "if PARAMS['is_features_normalized']==True:\n",
    "    pcg_features = tf.keras.layers.LayerNormalization()(pcg_features)\n",
    "    ecg_features = tf.keras.layers.LayerNormalization()(ecg_features)\n",
    "    \n",
    "concat     = tf.keras.layers.concatenate([pcg_features, ecg_features])\n",
    "dropout    = tf.keras.layers.Dropout(PARAMS['dropout'])(concat)\n",
    "dense      = tf.keras.layers.Dense(80, activation='relu')(dropout)\n",
    "dense_1    = tf.keras.layers.Dense(20, activation='relu')(dense)\n",
    "output = tf.keras.layers.Dense(2, activation='softmax')(dense_1)\n",
    "\n",
    "model= tf.keras.Model(inputs=[pcg_input, ecg_input], outputs=[output])\n",
    "\n",
    "\n",
    "\n",
    "model.compile(PARAMS['opt'],\n",
    "              loss=keras.losses.CategoricalCrossentropy(),\n",
    "              metrics=[keras.metrics.CategoricalAccuracy()])\n",
    "\n",
    "    "
   ]
  },
  {
   "cell_type": "code",
   "execution_count": 5,
   "metadata": {},
   "outputs": [
    {
     "name": "stdout",
     "output_type": "stream",
     "text": [
      "WARNING:tensorflow:From <ipython-input-5-a821d3e69f26>:6: Model.fit_generator (from tensorflow.python.keras.engine.training) is deprecated and will be removed in a future version.\n",
      "Instructions for updating:\n",
      "Please use Model.fit, which supports generators.\n",
      "Found 1428 images belonging to 2 classes.\n",
      "Found 1428 images belonging to 2 classes.\n"
     ]
    },
    {
     "name": "stderr",
     "output_type": "stream",
     "text": [
      "/home/ubuntu/core-env/lib/python3.6/site-packages/keras_preprocessing/image/utils.py:179: UserWarning: Using \".tiff\" files with multiple bands will cause distortion. Please verify your output.\n",
      "  warnings.warn('Using \".tiff\" files with multiple bands '\n"
     ]
    },
    {
     "name": "stdout",
     "output_type": "stream",
     "text": [
      "WARNING:tensorflow:sample_weight modes were coerced from\n",
      "  ...\n",
      "    to  \n",
      "  ['...']\n",
      "Found 194 images belonging to 2 classes.\n",
      "Found 194 images belonging to 2 classes.\n",
      "WARNING:tensorflow:sample_weight modes were coerced from\n",
      "  ...\n",
      "    to  \n",
      "  ['...']\n",
      "Train for 45 steps, validate for 7 steps\n",
      "Epoch 1/10\n",
      "45/45 [==============================] - 84s 2s/step - loss: 33.6039 - categorical_accuracy: 0.6366 - val_loss: 0.6909 - val_categorical_accuracy: 0.4794\n",
      "Epoch 2/10\n",
      "45/45 [==============================] - 83s 2s/step - loss: 0.7096 - categorical_accuracy: 0.3943 - val_loss: 0.6886 - val_categorical_accuracy: 0.4794\n",
      "Epoch 3/10\n",
      "45/45 [==============================] - 83s 2s/step - loss: 0.6465 - categorical_accuracy: 0.4335 - val_loss: 0.9968 - val_categorical_accuracy: 0.4794\n",
      "Epoch 4/10\n",
      "45/45 [==============================] - 83s 2s/step - loss: 0.8647 - categorical_accuracy: 0.4174 - val_loss: 0.6919 - val_categorical_accuracy: 0.4794\n",
      "Epoch 5/10\n",
      "45/45 [==============================] - 83s 2s/step - loss: 0.7416 - categorical_accuracy: 0.3312 - val_loss: 0.6891 - val_categorical_accuracy: 0.4794\n",
      "Epoch 6/10\n",
      "45/45 [==============================] - 83s 2s/step - loss: 0.7094 - categorical_accuracy: 0.5070 - val_loss: 0.6910 - val_categorical_accuracy: 0.4794\n",
      "Epoch 7/10\n",
      "45/45 [==============================] - 83s 2s/step - loss: 0.6975 - categorical_accuracy: 0.5070 - val_loss: 0.6909 - val_categorical_accuracy: 0.4794\n",
      "Epoch 8/10\n",
      "45/45 [==============================] - 83s 2s/step - loss: 0.6981 - categorical_accuracy: 0.5070 - val_loss: 0.6910 - val_categorical_accuracy: 0.4794\n",
      "Epoch 9/10\n",
      "45/45 [==============================] - 83s 2s/step - loss: 0.6977 - categorical_accuracy: 0.5070 - val_loss: 0.6910 - val_categorical_accuracy: 0.4794\n",
      "Epoch 10/10\n",
      "45/45 [==============================] - 83s 2s/step - loss: 0.6975 - categorical_accuracy: 0.5070 - val_loss: 0.6911 - val_categorical_accuracy: 0.4794\n"
     ]
    }
   ],
   "source": [
    "history=model.fit_generator(\n",
    "        dual_training,\n",
    "        steps_per_epoch=45,\n",
    "        epochs=PARAMS['num_epochs'],\n",
    "        validation_steps=7, \n",
    "        validation_data=dual_validation)"
   ]
  },
  {
   "cell_type": "code",
   "execution_count": 6,
   "metadata": {},
   "outputs": [
    {
     "name": "stderr",
     "output_type": "stream",
     "text": [
      "WARNING: There is a new version of neptune-client 0.4.125 (installed: 0.4.124).\n",
      "NVMLError: NVML Shared Library Not Found - GPU usage metrics may not be reported.\n"
     ]
    },
    {
     "name": "stdout",
     "output_type": "stream",
     "text": [
      "https://ui.neptune.ai/intelliscope/HYBRID/e/HYBRID-2\n"
     ]
    }
   ],
   "source": [
    "#!pip install neptune-client\n",
    "import os\n",
    "import neptune\n",
    "NEPTUNE_API_TOKEN='eyJhcGlfYWRkcmVzcyI6Imh0dHBzOi8vdWkubmVwdHVuZS5haSIsImFwaV91cmwiOiJodHRwczovL3VpLm5lcHR1bmUuYWkiLCJhcGlfa2V5IjoiMzc1YTM5OGMtYTY3Ny00ZmM4LTg5ZGQtOGI2YTQ1YmZiMDkzIn0='\n",
    "os.environ['NEPTUNE_PROJECT']=\"intelliscope/HYBRID\"\n",
    "\n",
    "neptune.init('intelliscope/HYBRID',NEPTUNE_API_TOKEN)\n",
    "exp = neptune.create_experiment(name=PARAMS['name'],description=PARAMS['description'],params=PARAMS,upload_source_files=PARAMS['notebook_name'],tags=PARAMS['tags'],upload_stdout=True)\n",
    "\n",
    "model.summary(print_fn=lambda x: neptune.log_text('model_summary', x))\n",
    "model.save(f'{modelsave_dir}/{str(exp)}.h5')\n",
    "neptune.log_artifact(f'{modelsave_dir}/{str(exp)}.h5')\n",
    "\n",
    "for i in range(len(history.history['loss'])):\n",
    "    neptune.log_metric('loss',history.history['loss'][i])\n",
    "    neptune.log_metric('val loss',history.history['val_loss'][i])\n",
    "    neptune.log_metric('categorical_acc',history.history['categorical_accuracy'][i])\n",
    "    neptune.log_metric('val_categorical_acc',history.history['val_categorical_accuracy'][i])"
   ]
  },
  {
   "cell_type": "code",
   "execution_count": 9,
   "metadata": {},
   "outputs": [
    {
     "name": "stdout",
     "output_type": "stream",
     "text": [
      "Found 388 images belonging to 2 classes.\n",
      "Found 388 images belonging to 2 classes.\n"
     ]
    },
    {
     "name": "stderr",
     "output_type": "stream",
     "text": [
      "Invalid metric value: nan for channel negative_predictive_value. Metrics with nan or +/-inf values will not be sent to server\n"
     ]
    }
   ],
   "source": [
    "import numpy as np\n",
    "from neptunecontrib.monitoring.metrics import *\n",
    "\n",
    "assert len(os.listdir(ecg_dir+'/test/1'))+len(os.listdir(ecg_dir+'/test/0'))== len(os.listdir(pcg_dir+'/test/1'))+len(os.listdir(pcg_dir+'/test/0'))\n",
    "\n",
    "test_datagen = ImageDataGenerator(rescale=1./255)\n",
    "test_len=len(os.listdir(ecg_dir+'/test/1'))+len(os.listdir(ecg_dir+'/test/0'))\n",
    "\n",
    "test_gen_pcg= test_datagen.flow_from_directory(PARAMS['pcg_dir']+'/test',\n",
    "                                          target_size=(272, 462),\n",
    "                                          class_mode = 'categorical',\n",
    "                                          batch_size = test_len,\n",
    "                                          shuffle=False, \n",
    "                                          seed=7)\n",
    "    \n",
    "test_gen_ecg = test_datagen.flow_from_directory(PARAMS['ecg_dir']+'/test',\n",
    "                                          target_size=(272, 462),\n",
    "                                          class_mode = 'categorical',\n",
    "                                          batch_size = test_len,\n",
    "                                          shuffle=False, \n",
    "                                          seed=7)\n",
    "\n",
    "\n",
    "pcg, y1=test_gen_pcg.next()\n",
    "ecg, y2=test_gen_ecg.next()\n",
    "assert (y1==y2).all()\n",
    "\n",
    "prediction = model.predict([pcg, ecg])\n",
    "\n",
    "y_test=np.argmax(y1,axis=1)\n",
    "y_pred=prediction\n",
    "\n",
    "\n",
    "threshold = 0.5\n",
    "\n",
    "log_confusion_matrix(y_test, y_pred[:, 1] > threshold)\n",
    "log_classification_report(y_test, y_pred[:, 1] > threshold)\n",
    "log_class_metrics(y_test, y_pred[:, 1] > threshold)\n",
    "log_class_metrics_by_threshold(y_test, y_pred[:, 1])\n",
    "log_brier_loss(y_test, y_pred[:, 1])\n",
    "log_prediction_distribution(y_test, y_pred[:, 1])\n",
    "\n",
    "log_log_loss(y_test, y_pred)\n",
    "log_roc_auc(y_test, y_pred)\n",
    "log_precision_recall_auc(y_test, y_pred)\n",
    "log_ks_statistic(y_test, y_pred)\n",
    "log_cumulative_gain(y_test, y_pred)\n",
    "log_lift_curve(y_test, y_pred)"
   ]
  },
  {
   "cell_type": "code",
   "execution_count": 10,
   "metadata": {},
   "outputs": [],
   "source": [
    "neptune.stop()"
   ]
  },
  {
   "cell_type": "code",
   "execution_count": null,
   "metadata": {},
   "outputs": [],
   "source": []
  }
 ],
 "metadata": {
  "kernelspec": {
   "display_name": "Python 3",
   "language": "python",
   "name": "python3"
  },
  "language_info": {
   "codemirror_mode": {
    "name": "ipython",
    "version": 3
   },
   "file_extension": ".py",
   "mimetype": "text/x-python",
   "name": "python",
   "nbconvert_exporter": "python",
   "pygments_lexer": "ipython3",
   "version": "3.6.9"
  }
 },
 "nbformat": 4,
 "nbformat_minor": 4
}
