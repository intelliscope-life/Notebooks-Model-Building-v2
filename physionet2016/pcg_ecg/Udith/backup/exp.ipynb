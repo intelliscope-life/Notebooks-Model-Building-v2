{
 "cells": [
  {
   "cell_type": "code",
   "execution_count": 2,
   "metadata": {},
   "outputs": [],
   "source": [
    "import sys\n",
    "sys.path.append('../Ramith/regular/AttemptUsingImageGenerator/')\n",
    "\n",
    "import intelliscope\n",
    "from intelliscope import SelectDataset\n",
    "from ml_utils import log_model_weights,log_epoch_data"
   ]
  },
  {
   "cell_type": "code",
   "execution_count": 3,
   "metadata": {},
   "outputs": [
    {
     "name": "stdout",
     "output_type": "stream",
     "text": [
      "2.1.0\n"
     ]
    }
   ],
   "source": [
    "import tensorflow as tf\n",
    "import matplotlib.pyplot as plt\n",
    "import numpy as np\n",
    "from tensorflow import keras\n",
    "from sklearn.utils import shuffle\n",
    "from tensorflow.keras import Sequential\n",
    "from tensorflow.keras import layers\n",
    "from tensorflow.keras.layers import Dense, Dropout, Flatten, Activation\n",
    "from tensorflow.keras.layers import Conv2D, MaxPool2D\n",
    "from sklearn.metrics import f1_score, precision_score, recall_score, confusion_matrix\n",
    "from tensorflow.keras import regularizers\n",
    "print(tf.__version__)\n",
    "import neptune\n",
    "import tensorflow_addons as tfa\n",
    "from tensorflow.keras.preprocessing.image import ImageDataGenerator, array_to_img, img_to_array, load_img"
   ]
  },
  {
   "cell_type": "code",
   "execution_count": 2,
   "metadata": {},
   "outputs": [
    {
     "data": {
      "text/plain": [
       "'/home/ubuntu/intelliscope/notebooks/physionet2016/pcg_ecg/Udith'"
      ]
     },
     "execution_count": 2,
     "metadata": {},
     "output_type": "execute_result"
    }
   ],
   "source": [
    "pwd"
   ]
  },
  {
   "cell_type": "code",
   "execution_count": 4,
   "metadata": {},
   "outputs": [],
   "source": [
    "import os\n",
    "os.environ['NEPTUNE_API_TOKEN']=\"eyJhcGlfYWRkcmVzcyI6Imh0dHBzOi8vdWkubmVwdHVuZS5haSIsImFwaV91cmwiOiJodHRwczovL3VpLm5lcHR1bmUuYWkiLCJhcGlfa2V5IjoiNjBlODllY2ItMDcyZC00OGNmLThjZWYtZjM2MjE4Y2M5ZDM0In0=\"\n",
    "os.environ['NEPTUNE_PROJECT']=\"icassp/Hybrid'\"\n",
    "#os.environ['NEPTUNE_NOTEBOOK_ID']=\"4897a223-8a9f-4f00-8cec-22eda690858d\"\n",
    "os.environ['NEPTUNE_NOTEBOOK_PATH']=\"notebooks_ramith/CNN_hybrid_transfer_learning.ipynb\""
   ]
  },
  {
   "cell_type": "code",
   "execution_count": 5,
   "metadata": {},
   "outputs": [
    {
     "name": "stdout",
     "output_type": "stream",
     "text": [
      "Loading... >  ICASSP_01\n",
      "\t=> /home/ubuntu/intelliscope/datasets/PhysioNet2016/preprocessed/training-a/original/ecg/01-cmor1.5-1.0/\n",
      "\t=> /home/ubuntu/intelliscope/datasets/PhysioNet2016/preprocessed/training-a/original/pcg/01-morl/\n"
     ]
    }
   ],
   "source": [
    "NEPTUNE_API_TOKEN=\"eyJhcGlfYWRkcmVzcyI6Imh0dHBzOi8vdWkubmVwdHVuZS5haSIsImFwaV91cmwiOiJodHRwczovL3VpLm5lcHR1bmUuYWkiLCJhcGlfa2V5IjoiNjBlODllY2ItMDcyZC00OGNmLThjZWYtZjM2MjE4Y2M5ZDM0In0=\"\n",
    "PARAMS = {'ignore_blanks' : True,\n",
    "          'epochs' : 15,\n",
    "         'validation_split':0.2,\n",
    "         'batch_size' : 20,\n",
    "         'train_test_split':0.8,\n",
    "         'dense_layers':80,\n",
    "          'dropout':0.1,\n",
    "         'dataset_path_ecg': '',\n",
    "         'dataset_path_pcg': '',\n",
    "         'image_type' : 'rgb',\n",
    "         'im_type':6,\n",
    "         'Read_Type':1,\n",
    "          'opt':'adam',\n",
    "          'data_balanced':False,\n",
    "         }\n",
    "\n",
    "PARAMS['dataset_path_pcg'],PARAMS['dataset_path_ecg'] = SelectDataset(0)\n",
    "\n",
    "m = PARAMS['Read_Type']*3 + int(PARAMS['Read_Type']==0)\n",
    "e = PARAMS['Read_Type']*6 + int(PARAMS['Read_Type']==0)*2\n"
   ]
  },
  {
   "cell_type": "code",
   "execution_count": 6,
   "metadata": {},
   "outputs": [],
   "source": [
    "train_data_dir = [PARAMS['dataset_path_pcg'][:-1]+'_train/',PARAMS['dataset_path_ecg'][:-1]+'_train/']"
   ]
  },
  {
   "cell_type": "code",
   "execution_count": 32,
   "metadata": {},
   "outputs": [
    {
     "name": "stderr",
     "output_type": "stream",
     "text": [
      "/home/ubuntu/core-env/lib/python3.6/site-packages/keras_preprocessing/image/utils.py:179: UserWarning: Using \".tiff\" files with multiple bands will cause distortion. Please verify your output.\n",
      "  warnings.warn('Using \".tiff\" files with multiple bands '\n"
     ]
    },
    {
     "name": "stdout",
     "output_type": "stream",
     "text": [
      "Found 2254 images belonging to 2 classes.\n",
      "Found 562 images belonging to 2 classes.\n",
      "Found 2254 images belonging to 2 classes.\n",
      "Found 562 images belonging to 2 classes.\n"
     ]
    }
   ],
   "source": [
    "k1,k2 = 272, 462\n",
    "s_x = 82;\n",
    "e_x = 544;\n",
    "s_y = 43;\n",
    "e_y = 315;\n",
    "\n",
    "batch_size=PARAMS['batch_size']\n",
    "train_datagen = ImageDataGenerator(rescale=1./255, validation_split=0.2) # set validation split\n",
    "\n",
    "def cropper(img):\n",
    "    # Note: image_data_format is 'channel_last'\n",
    "    assert img.shape[2] == 3\n",
    "    #print(img.shape)\n",
    "    #plt.figure()\n",
    "    #wplt.imshow(img[s_y:e_y,s_x:e_x])\n",
    "    return img[s_y:e_y,s_x:e_x]\n",
    "def generate_generator_multiple(generator,dir1, dir2, batch_size,subset):\n",
    "    #k1, k2=360, 648\n",
    "    k1, k2=272, 462\n",
    "    genX1 = generator.flow_from_directory(dir1,\n",
    "                                          target_size=(360, 648),\n",
    "                                          class_mode = 'categorical',\n",
    "                                          batch_size = batch_size,\n",
    "                                          subset=subset,\n",
    "                                          shuffle=False, \n",
    "                                          seed=7)\n",
    "    \n",
    "    genX2 = generator.flow_from_directory(dir2,\n",
    "                                          target_size=(360, 648),\n",
    "                                          class_mode = 'categorical',\n",
    "                                          batch_size = batch_size,\n",
    "                                          subset=subset,\n",
    "                                          shuffle=False, \n",
    "                                         seed=7)\n",
    "    while True:\n",
    "            X1i, y1i = genX1.next()\n",
    "            X2i, y2i = genX2.next()\n",
    "            \n",
    "            X1i_cropped = np.zeros((X1i.shape[0], k1, k2, 3))\n",
    "            X2i_cropped = np.zeros((X2i.shape[0], k1, k2, 3))\n",
    "\n",
    "            for i in range(X1i.shape[0]):      \n",
    "                X1i_cropped[i] = cropper(X1i[i])\n",
    "            for i in range(X2i.shape[0]):      \n",
    "                X2i_cropped[i] = cropper(X2i[i])\n",
    "                \n",
    "            yield [X1i_cropped, X2i_cropped], y1i  #Yield both images and their mutual label\n",
    "    \n",
    "    \n",
    "dual_training   = generate_generator_multiple(train_datagen,train_data_dir[0],train_data_dir[1],batch_size,'training')\n",
    "dual_validation = generate_generator_multiple(train_datagen,train_data_dir[0],train_data_dir[1],batch_size,'validation')\n",
    "\n",
    "pcg_training=train_datagen.flow_from_directory(train_data_dir[0],target_size=(k1,k2),class_mode = 'categorical', batch_size = batch_size, subset='training', shuffle=False,  seed=7)\n",
    "pcg_validation=train_datagen.flow_from_directory(train_data_dir[0],target_size=(k1,k2),class_mode = 'categorical', batch_size = batch_size, subset='validation', shuffle=False,  seed=7)\n",
    "\n",
    "ecg_training=train_datagen.flow_from_directory(train_data_dir[1],target_size=(k1,k2),class_mode = 'categorical', batch_size = batch_size, subset='training', shuffle=False,  seed=7)\n",
    "ecg_validation=train_datagen.flow_from_directory(train_data_dir[1],target_size=(k1,k2),class_mode = 'categorical', batch_size = batch_size, subset='validation', shuffle=False,  seed=7)\n",
    "\n",
    "neptune.init('icassp/Hybrid',NEPTUNE_API_TOKEN)\n",
    "exp = neptune.create_experiment(name='CNN_hybrid_udith_test',params=PARAMS,upload_source_files=['exp.ipynb'],tags=['HS','ECG','ICASSP', 'PCG_only'],upload_stdout=True)\n"
   ]
  },
  {
   "cell_type": "code",
   "execution_count": 34,
   "metadata": {},
   "outputs": [
    {
     "name": "stderr",
     "output_type": "stream",
     "text": [
      "WARNING:root:The given value for groups will be overwritten.\n",
      "WARNING:root:The given value for groups will be overwritten.\n",
      "WARNING:root:The given value for groups will be overwritten.\n",
      "WARNING:root:The given value for groups will be overwritten.\n",
      "WARNING:root:The given value for groups will be overwritten.\n",
      "WARNING:root:The given value for groups will be overwritten.\n",
      "WARNING:root:The given value for groups will be overwritten.\n",
      "WARNING:root:The given value for groups will be overwritten.\n"
     ]
    },
    {
     "name": "stdout",
     "output_type": "stream",
     "text": [
      "PCG\n",
      "ECG\n"
     ]
    }
   ],
   "source": [
    "model_pcg = tf.keras.models.load_model('/home/ubuntu/intelliscope/notebooks/physionet2016/pcg/models/Experiment(PCG-50).h5')\n",
    "model_ecg = tf.keras.models.load_model('/home/ubuntu/intelliscope/notebooks/physionet2017/ecg/models/Experiment(ECG-24).h5')\n",
    "\n",
    "print('PCG')\n",
    "#model_pcg.summary()\n",
    "print('ECG')\n",
    "#model_ecg.summary()\n",
    "\n",
    "# warning due to Instance Norm"
   ]
  },
  {
   "cell_type": "code",
   "execution_count": 38,
   "metadata": {},
   "outputs": [
    {
     "name": "stdout",
     "output_type": "stream",
     "text": [
      "(None, 3840)\n",
      "(None, 3840)\n"
     ]
    }
   ],
   "source": [
    "pcg_layer='flatten_1'\n",
    "ecg_layer='flatten'\n",
    "\n",
    "HS_MODEL= tf.keras.Model(inputs=model_pcg.input, outputs=model_pcg.get_layer(pcg_layer).output)\n",
    "ECG_MODEL= tf.keras.Model(inputs=model_ecg.input, outputs=model_ecg.get_layer(ecg_layer).output)\n",
    "HS_MODEL.trainable=True\n",
    "ECG_MODEL.trainable=True\n",
    "\n",
    "hs_input = tf.keras.layers.Input(shape=(272,462,m))\n",
    "ecg_input = tf.keras.layers.Input(shape=(272,462,m))\n",
    "\n",
    "hs_model = HS_MODEL(hs_input)\n",
    "ecg_model = ECG_MODEL(ecg_input)\n",
    "\n",
    "print(ecg_model.get_shape())\n",
    "print(hs_model.get_shape())\n",
    "\n",
    "hs_model_ = tf.keras.layers.LayerNormalization()(hs_model)\n",
    "ecg_model_ = tf.keras.layers.LayerNormalization()(ecg_model)\n",
    "concat     = tf.keras.layers.concatenate([hs_model_, ecg_model_])\n",
    "dropout    = tf.keras.layers.Dropout(PARAMS['dropout'])(concat)\n",
    "dense      = tf.keras.layers.Dense(PARAMS['dense_layers'], activation='relu')(dropout)\n",
    "dense_1    = tf.keras.layers.Dense(20, activation='relu')(dense)\n",
    "output = tf.keras.layers.Dense(2, activation='softmax')(dense_1)\n",
    "\n",
    "model_hybrid = tf.keras.Model(inputs=[hs_input, ecg_input], outputs=[output])"
   ]
  },
  {
   "cell_type": "code",
   "execution_count": null,
   "metadata": {},
   "outputs": [],
   "source": [
    "def reset_weights(model):\n",
    "    session = K.get_session()\n",
    "    for layer in model.layers:\n",
    "        if isinstance(layer, Dense):\n",
    "            layer.W.initializer.run(session=session)\n",
    "            layer.b.initializer.run(session=session)\n",
    "        if isinstance(layer, Conv2D):\n",
    "            layer.W.initializer.run(session=session)\n",
    "            layer.b.initializer.run(session=session)\n",
    "        else:\n",
    "            print(layer, \"not reinitialized\")"
   ]
  },
  {
   "cell_type": "code",
   "execution_count": 41,
   "metadata": {},
   "outputs": [],
   "source": [
    "model=model_pcg\n"
   ]
  },
  {
   "cell_type": "code",
   "execution_count": null,
   "metadata": {},
   "outputs": [
    {
     "name": "stdout",
     "output_type": "stream",
     "text": [
      "pcg only evaluation\n",
      "WARNING:tensorflow:sample_weight modes were coerced from\n",
      "  ...\n",
      "    to  \n",
      "  ['...']\n"
     ]
    },
    {
     "name": "stderr",
     "output_type": "stream",
     "text": [
      "WARNING:tensorflow:sample_weight modes were coerced from\n",
      "  ...\n",
      "    to  \n",
      "  ['...']\n"
     ]
    },
    {
     "name": "stdout",
     "output_type": "stream",
     "text": [
      "WARNING:tensorflow:sample_weight modes were coerced from\n",
      "  ...\n",
      "    to  \n",
      "  ['...']\n"
     ]
    },
    {
     "name": "stderr",
     "output_type": "stream",
     "text": [
      "WARNING:tensorflow:sample_weight modes were coerced from\n",
      "  ...\n",
      "    to  \n",
      "  ['...']\n"
     ]
    },
    {
     "name": "stdout",
     "output_type": "stream",
     "text": [
      "Train for 90 steps, validate for 22 steps\n",
      "Epoch 1/15\n",
      "90/90 [==============================] - 105s 1s/step - loss: 0.6705 - categorical_accuracy: 0.7280 - val_loss: 0.6136 - val_categorical_accuracy: 0.7000\n",
      "Epoch 2/15\n",
      "90/90 [==============================] - 104s 1s/step - loss: 0.6046 - categorical_accuracy: 0.7600 - val_loss: 0.5883 - val_categorical_accuracy: 0.6977\n",
      "Epoch 3/15\n",
      "90/90 [==============================] - 103s 1s/step - loss: 0.5612 - categorical_accuracy: 0.7843 - val_loss: 0.5885 - val_categorical_accuracy: 0.7023\n",
      "Epoch 4/15\n",
      "90/90 [==============================] - 103s 1s/step - loss: 0.5803 - categorical_accuracy: 0.7436 - val_loss: 0.5788 - val_categorical_accuracy: 0.7023\n",
      "Epoch 5/15\n",
      "90/90 [==============================] - 103s 1s/step - loss: 0.4879 - categorical_accuracy: 0.7876 - val_loss: 0.6601 - val_categorical_accuracy: 0.7250\n",
      "Epoch 6/15\n",
      "90/90 [==============================] - 104s 1s/step - loss: 0.5106 - categorical_accuracy: 0.7759 - val_loss: 0.5929 - val_categorical_accuracy: 0.7023\n",
      "Epoch 7/15\n",
      "90/90 [==============================] - 103s 1s/step - loss: 0.5054 - categorical_accuracy: 0.7809 - val_loss: 0.6118 - val_categorical_accuracy: 0.7023\n",
      "Epoch 8/15\n",
      "90/90 [==============================] - 104s 1s/step - loss: 0.4966 - categorical_accuracy: 0.7917 - val_loss: 0.6053 - val_categorical_accuracy: 0.7250\n",
      "Epoch 9/15\n",
      "90/90 [==============================] - 104s 1s/step - loss: 0.5166 - categorical_accuracy: 0.7611 - val_loss: 0.6034 - val_categorical_accuracy: 0.7250\n",
      "Epoch 10/15\n",
      "90/90 [==============================] - 103s 1s/step - loss: 0.5498 - categorical_accuracy: 0.7380 - val_loss: 0.5909 - val_categorical_accuracy: 0.7023\n",
      "Epoch 11/15\n",
      "90/90 [==============================] - 103s 1s/step - loss: 0.4995 - categorical_accuracy: 0.7804 - val_loss: 0.5926 - val_categorical_accuracy: 0.7023\n",
      "Epoch 12/15\n",
      "90/90 [==============================] - 103s 1s/step - loss: 0.5343 - categorical_accuracy: 0.7456 - val_loss: 0.5818 - val_categorical_accuracy: 0.7250\n",
      "Epoch 13/15\n",
      "90/90 [==============================] - 103s 1s/step - loss: 0.4832 - categorical_accuracy: 0.7837 - val_loss: 0.5949 - val_categorical_accuracy: 0.7273\n",
      "Epoch 14/15\n",
      "90/90 [==============================] - 104s 1s/step - loss: 0.4567 - categorical_accuracy: 0.7939 - val_loss: 0.5875 - val_categorical_accuracy: 0.7023\n",
      "Epoch 15/15\n",
      "26/90 [=======>......................] - ETA: 1:10 - loss: 0.5343 - categorical_accuracy: 0.7250"
     ]
    }
   ],
   "source": [
    "\n",
    "model.compile(optimizer=keras.optimizers.Adam(),  # Optimizer\n",
    "              # Loss function to minimize\n",
    "              loss=keras.losses.CategoricalCrossentropy(),\n",
    "              # List of metrics to monitor\n",
    "              metrics=[keras.metrics.CategoricalAccuracy()])\n",
    "model.summary(print_fn=lambda x: neptune.log_text('model_summary', x))\n",
    "\n",
    "\n",
    "\n",
    "if model==model_pcg:\n",
    "    print('pcg only evaluation')\n",
    "    model.fit_generator(\n",
    "        pcg_training,\n",
    "        steps_per_epoch = 1803 // batch_size,\n",
    "        validation_data = pcg_validation,\n",
    "        validation_steps = 451 // batch_size,\n",
    "        epochs =PARAMS['epochs'],\n",
    "        callbacks=[\n",
    "                    tf.keras.callbacks.LambdaCallback(on_epoch_end=lambda epoch, logs: log_epoch_data(logs, exp)),]\n",
    "    )\n",
    "    \n",
    "if model==model_ecg:\n",
    "    print('pcg only evaluation')\n",
    "    model.fit_generator(\n",
    "        ecg_training,\n",
    "        steps_per_epoch = 1803 // batch_size,\n",
    "        validation_data = ecg_validation,\n",
    "        validation_steps = 451 // batch_size,\n",
    "        epochs =PARAMS['epochs'],\n",
    "        callbacks=[\n",
    "                    tf.keras.callbacks.LambdaCallback(on_epoch_end=lambda epoch, logs: log_epoch_data(logs, exp)),]\n",
    "    )\n",
    "    \n",
    "if model==model_hybrid:\n",
    "    print('pcg only evaluation')\n",
    "    model.fit_generator(\n",
    "        dual_training,\n",
    "        steps_per_epoch = 1803 // batch_size,\n",
    "        validation_data = dual_validation,\n",
    "        validation_steps = 451 // batch_size,\n",
    "        epochs =PARAMS['epochs'],\n",
    "        callbacks=[\n",
    "                    tf.keras.callbacks.LambdaCallback(on_epoch_end=lambda epoch, logs: log_epoch_data(logs, exp)),]\n",
    "    )"
   ]
  },
  {
   "cell_type": "code",
   "execution_count": 34,
   "metadata": {},
   "outputs": [
    {
     "name": "stdout",
     "output_type": "stream",
     "text": [
      "632/632 - 5s - loss: 3.0595 - sparse_categorical_accuracy: 0.6851\n"
     ]
    },
    {
     "name": "stderr",
     "output_type": "stream",
     "text": [
      "/home/ec2-user/anaconda3/envs/tensorflow_p36/lib/python3.6/site-packages/ipykernel/__main__.py:11: DeprecationWarning: The binary mode of fromstring is deprecated, as it behaves surprisingly on unicode inputs. Use frombuffer instead\n"
     ]
    },
    {
     "name": "stdout",
     "output_type": "stream",
     "text": [
      "0.6851266\n"
     ]
    },
    {
     "data": {
      "image/png": "[encoded data removed]",
      "text/plain": [
       "<Figure size 432x288 with 1 Axes>"
      ]
     },
     "metadata": {
      "needs_background": "light"
     },
     "output_type": "display_data"
    }
   ],
   "source": [
    "fig = plt.figure()\n",
    "plt.plot(history.history['sparse_categorical_accuracy'], label='sparse_categorical_accuracy')\n",
    "plt.plot(history.history['val_sparse_categorical_accuracy'], label = 'val_sparse_categorical_accuracy')\n",
    "plt.xlabel('Epoch')\n",
    "plt.ylabel('Accuracy')\n",
    "plt.ylim([0.5, 1])\n",
    "plt.legend(loc='lower right')\n",
    "test_loss, test_acc = model.evaluate([x_test1,resized_x_test2],  y_test, verbose=2)\n",
    "\n",
    "fig.canvas.draw()\n",
    "curve = np.fromstring(fig.canvas.tostring_rgb(), dtype=np.uint8, sep='')\n",
    "curve = curve.reshape(fig.canvas.get_width_height()[::-1] + (3,))\n",
    "\n",
    "neptune.log_image('learning_curve', curve)\n",
    "neptune.log_metric('Test Accuracy',test_acc)\n",
    "neptune.log_metric('Test Loss',test_loss)\n",
    "print(test_acc)"
   ]
  },
  {
   "cell_type": "code",
   "execution_count": 35,
   "metadata": {},
   "outputs": [
    {
     "name": "stdout",
     "output_type": "stream",
     "text": [
      "632/632 - 5s - loss: 3.0595 - sparse_categorical_accuracy: 0.6851\n",
      "Restored model, accuracy: 68.51%\n"
     ]
    }
   ],
   "source": [
    "\n",
    "loss, acc = model.evaluate([x_test1,resized_x_test2],  y_test, verbose=2)\n",
    "print('Restored model, accuracy: {:5.2f}%'.format(100*acc))"
   ]
  },
  {
   "cell_type": "code",
   "execution_count": null,
   "metadata": {},
   "outputs": [],
   "source": []
  },
  {
   "cell_type": "code",
   "execution_count": 36,
   "metadata": {},
   "outputs": [],
   "source": [
    "keras_model_path = \"/home/ec2-user/SageMaker/notebooks_ramith/out/\"  + str(exp) + '.h5'  \n",
    "\n",
    "model.save(keras_model_path)  # save() should be called out of strategy scope\n",
    "\n",
    "neptune.log_artifact(keras_model_path)\n"
   ]
  },
  {
   "cell_type": "code",
   "execution_count": 37,
   "metadata": {},
   "outputs": [
    {
     "name": "stdout",
     "output_type": "stream",
     "text": [
      "632/632 [==============================] - 6s 9ms/sample\n",
      "              precision    recall  f1-score   support\n",
      "\n",
      "           0       0.42      0.15      0.23       188\n",
      "           1       0.72      0.91      0.80       444\n",
      "\n",
      "    accuracy                           0.69       632\n",
      "   macro avg       0.57      0.53      0.51       632\n",
      "weighted avg       0.63      0.69      0.63       632\n",
      "\n"
     ]
    }
   ],
   "source": [
    "from sklearn.metrics import classification_report\n",
    "\n",
    "y_pred = model.predict([x_test1,resized_x_test2], batch_size=100, verbose=1)\n",
    "y_pred_bool = np.argmax(y_pred, axis=1)\n",
    "\n",
    "z = classification_report(y_test, y_pred_bool)\n",
    "print(z)\n",
    "\n",
    "neptune.log_text('classification_report', z)"
   ]
  },
  {
   "cell_type": "code",
   "execution_count": 40,
   "metadata": {},
   "outputs": [],
   "source": [
    "#!pip install neptune-contrib"
   ]
  },
  {
   "cell_type": "code",
   "execution_count": 45,
   "metadata": {},
   "outputs": [
    {
     "name": "stdout",
     "output_type": "stream",
     "text": [
      "\u001b[33mWARNING: You are using pip version 20.0.2; however, version 20.2.4 is available.\n",
      "You should consider upgrading via the '/home/ec2-user/anaconda3/envs/tensorflow_p36/bin/python -m pip install --upgrade pip' command.\u001b[0m\n"
     ]
    }
   ],
   "source": [
    "!pip install scikit-plot -q"
   ]
  },
  {
   "cell_type": "code",
   "execution_count": 46,
   "metadata": {},
   "outputs": [],
   "source": [
    "from neptunecontrib.monitoring.metrics import *\n",
    "\n",
    "threshold = 0.5\n",
    "\n",
    "log_confusion_matrix(y_test, y_pred[:, 1] > threshold)\n",
    "log_classification_report(y_test, y_pred[:, 1] > threshold)\n",
    "log_class_metrics(y_test, y_pred[:, 1] > threshold)\n",
    "log_class_metrics_by_threshold(y_test, y_pred[:, 1])\n",
    "log_roc_auc(y_test, y_pred)\n",
    "log_precision_recall_auc(y_test, y_pred)\n",
    "log_brier_loss(y_test, y_pred[:, 1])\n",
    "log_log_loss(y_test, y_pred)\n",
    "log_ks_statistic(y_test, y_pred)\n",
    "log_cumulative_gain(y_test, y_pred)\n",
    "log_lift_curve(y_test, y_pred)\n",
    "log_prediction_distribution(y_test, y_pred[:, 1])"
   ]
  },
  {
   "cell_type": "code",
   "execution_count": 21,
   "metadata": {},
   "outputs": [],
   "source": [
    "\n",
    "neptune.stop()"
   ]
  },
  {
   "cell_type": "code",
   "execution_count": null,
   "metadata": {},
   "outputs": [],
   "source": []
  },
  {
   "cell_type": "markdown",
   "metadata": {},
   "source": [
    "#### "
   ]
  },
  {
   "cell_type": "code",
   "execution_count": null,
   "metadata": {},
   "outputs": [],
   "source": []
  },
  {
   "cell_type": "code",
   "execution_count": null,
   "metadata": {},
   "outputs": [],
   "source": [
    "\n",
    "    \n",
    "    "
   ]
  },
  {
   "cell_type": "code",
   "execution_count": null,
   "metadata": {},
   "outputs": [],
   "source": []
  },
  {
   "cell_type": "code",
   "execution_count": null,
   "metadata": {},
   "outputs": [],
   "source": []
  },
  {
   "cell_type": "code",
   "execution_count": null,
   "metadata": {},
   "outputs": [],
   "source": []
  },
  {
   "cell_type": "code",
   "execution_count": null,
   "metadata": {},
   "outputs": [],
   "source": []
  },
  {
   "cell_type": "code",
   "execution_count": null,
   "metadata": {},
   "outputs": [],
   "source": []
  },
  {
   "cell_type": "code",
   "execution_count": null,
   "metadata": {},
   "outputs": [],
   "source": []
  },
  {
   "cell_type": "code",
   "execution_count": null,
   "metadata": {},
   "outputs": [],
   "source": []
  },
  {
   "cell_type": "code",
   "execution_count": null,
   "metadata": {},
   "outputs": [],
   "source": []
  },
  {
   "cell_type": "code",
   "execution_count": null,
   "metadata": {},
   "outputs": [],
   "source": []
  }
 ],
 "metadata": {
  "kernelspec": {
   "display_name": "Python 3",
   "language": "python",
   "name": "python3"
  },
  "language_info": {
   "codemirror_mode": {
    "name": "ipython",
    "version": 3
   },
   "file_extension": ".py",
   "mimetype": "text/x-python",
   "name": "python",
   "nbconvert_exporter": "python",
   "pygments_lexer": "ipython3",
   "version": "3.6.9"
  },
  "neptune": {
   "notebookId": "8952f360-fb9e-4bfb-9709-f109ed7e2c09"
  }
 },
 "nbformat": 4,
 "nbformat_minor": 4
}
