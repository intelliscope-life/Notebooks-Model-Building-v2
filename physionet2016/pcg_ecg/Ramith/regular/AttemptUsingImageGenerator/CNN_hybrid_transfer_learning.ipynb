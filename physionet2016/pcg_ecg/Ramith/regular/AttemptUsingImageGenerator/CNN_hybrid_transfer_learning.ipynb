{
 "cells": [
  {
   "cell_type": "code",
   "execution_count": 1,
   "metadata": {},
   "outputs": [],
   "source": [
    "import intelliscope\n",
    "from intelliscope import SelectDataset"
   ]
  },
  {
   "cell_type": "code",
   "execution_count": 2,
   "metadata": {},
   "outputs": [
    {
     "name": "stdout",
     "output_type": "stream",
     "text": [
      "2.1.0\n"
     ]
    }
   ],
   "source": [
    "import tensorflow as tf\n",
    "import matplotlib.pyplot as plt\n",
    "import numpy as np\n",
    "from tensorflow import keras\n",
    "from sklearn.utils import shuffle\n",
    "from tensorflow.keras import Sequential\n",
    "from tensorflow.keras import layers\n",
    "from tensorflow.keras.layers import Dense, Dropout, Flatten, Activation\n",
    "from tensorflow.keras.layers import Conv2D, MaxPool2D\n",
    "from sklearn.metrics import f1_score, precision_score, recall_score, confusion_matrix\n",
    "from tensorflow.keras import regularizers\n",
    "print(tf.__version__)\n",
    "import neptune\n",
    "import tensorflow_addons as tfa"
   ]
  },
  {
   "cell_type": "code",
   "execution_count": 3,
   "metadata": {},
   "outputs": [],
   "source": [
    "#!pip install neptune-notebooks -q\n",
    "#!jupyter nbextension enable --py neptune-notebooks"
   ]
  },
  {
   "cell_type": "code",
   "execution_count": 4,
   "metadata": {},
   "outputs": [],
   "source": [
    "#!pip install neptune-contrib -q"
   ]
  },
  {
   "cell_type": "code",
   "execution_count": 5,
   "metadata": {},
   "outputs": [],
   "source": [
    "from tensorflow.keras.preprocessing.image import ImageDataGenerator, array_to_img, img_to_array, load_img"
   ]
  },
  {
   "cell_type": "code",
   "execution_count": 6,
   "metadata": {},
   "outputs": [],
   "source": [
    "import os\n",
    "os.environ['NEPTUNE_API_TOKEN']=\"eyJhcGlfYWRkcmVzcyI6Imh0dHBzOi8vdWkubmVwdHVuZS5haSIsImFwaV91cmwiOiJodHRwczovL3VpLm5lcHR1bmUuYWkiLCJhcGlfa2V5IjoiNjBlODllY2ItMDcyZC00OGNmLThjZWYtZjM2MjE4Y2M5ZDM0In0=\"\n",
    "os.environ['NEPTUNE_PROJECT']=\"icassp/Hybrid'\"\n",
    "#os.environ['NEPTUNE_NOTEBOOK_ID']=\"4897a223-8a9f-4f00-8cec-22eda690858d\"\n",
    "os.environ['NEPTUNE_NOTEBOOK_PATH']=\"notebooks_ramith/CNN_hybrid_transfer_learning.ipynb\""
   ]
  },
  {
   "cell_type": "code",
   "execution_count": 7,
   "metadata": {},
   "outputs": [],
   "source": [
    "!export NEPTUNE_API_TOKEN=\"eyJhcGlfYWRkcmVzcyI6Imh0dHBzOi8vdWkubmVwdHVuZS5haSIsImFwaV91cmwiOiJodHRwczovL3VpLm5lcHR1bmUuYWkiLCJhcGlfa2V5IjoiNjBlODllY2ItMDcyZC00OGNmLThjZWYtZjM2MjE4Y2M5ZDM0In0=\""
   ]
  },
  {
   "cell_type": "code",
   "execution_count": 8,
   "metadata": {},
   "outputs": [
    {
     "name": "stdout",
     "output_type": "stream",
     "text": [
      "Loading... >  ICASSP_01\n",
      "\t=> /home/ubuntu/intelliscope/datasets/PhysioNet2016/preprocessed/training-a/original/ecg/01-cmor1.5-1.0/\n",
      "\t=> /home/ubuntu/intelliscope/datasets/PhysioNet2016/preprocessed/training-a/original/pcg/01-morl/\n"
     ]
    }
   ],
   "source": [
    "NEPTUNE_API_TOKEN=\"eyJhcGlfYWRkcmVzcyI6Imh0dHBzOi8vdWkubmVwdHVuZS5haSIsImFwaV91cmwiOiJodHRwczovL3VpLm5lcHR1bmUuYWkiLCJhcGlfa2V5IjoiNjBlODllY2ItMDcyZC00OGNmLThjZWYtZjM2MjE4Y2M5ZDM0In0=\"\n",
    "PARAMS = {'ignore_blanks' : True,\n",
    "          'epochs' : 15,\n",
    "         'validation_split':0.2,\n",
    "         'batch_size' : 20,\n",
    "         'train_test_split':0.8,\n",
    "         'dense_layers':80,\n",
    "          'dropout':0.1,\n",
    "         'dataset_path_ecg': '',\n",
    "         'dataset_path_pcg': '',\n",
    "         'image_type' : 'rgb',\n",
    "         'im_type':6,\n",
    "         'Read_Type':1,\n",
    "          'opt':'adam',\n",
    "          'data_balanced':False,\n",
    "         }\n",
    "\n",
    "PARAMS['dataset_path_pcg'],PARAMS['dataset_path_ecg'] = SelectDataset(0)\n",
    "\n",
    "m = PARAMS['Read_Type']*3 + int(PARAMS['Read_Type']==0)\n",
    "e = PARAMS['Read_Type']*6 + int(PARAMS['Read_Type']==0)*2\n"
   ]
  },
  {
   "cell_type": "code",
   "execution_count": 9,
   "metadata": {},
   "outputs": [],
   "source": [
    "train_data_dir = [PARAMS['dataset_path_pcg'][:-1]+'_train/',PARAMS['dataset_path_ecg'][:-1]+'_train/']"
   ]
  },
  {
   "cell_type": "code",
   "execution_count": null,
   "metadata": {},
   "outputs": [],
   "source": []
  },
  {
   "cell_type": "code",
   "execution_count": 25,
   "metadata": {},
   "outputs": [
    {
     "name": "stderr",
     "output_type": "stream",
     "text": [
      "/home/ubuntu/core-env/lib/python3.6/site-packages/keras_preprocessing/image/utils.py:179: UserWarning: Using \".tiff\" files with multiple bands will cause distortion. Please verify your output.\n",
      "  warnings.warn('Using \".tiff\" files with multiple bands '\n"
     ]
    },
    {
     "name": "stdout",
     "output_type": "stream",
     "text": [
      "Found 2254 images belonging to 2 classes.\n",
      "Found 562 images belonging to 2 classes.\n",
      "Found 2254 images belonging to 2 classes.\n",
      "Found 562 images belonging to 2 classes.\n"
     ]
    }
   ],
   "source": [
    "k1,k2 = 272, 462\n",
    "s_x = 82;\n",
    "e_x = 544;\n",
    "s_y = 43;\n",
    "e_y = 315;\n",
    "\n",
    "batch_size=PARAMS['batch_size']\n",
    "\n",
    "train_datagen   = [0]*2\n",
    "train_generator = [0]*2\n",
    "validation_generator = [0]*2\n",
    "\n",
    "for i in range(0,2):\n",
    "    train_datagen[i] = ImageDataGenerator(rescale=1./255,\n",
    "        validation_split=0.2) # set validation split\n",
    "\n",
    "    train_generator[i] = train_datagen[i].flow_from_directory(\n",
    "        train_data_dir[i],\n",
    "        target_size=(360, 648),\n",
    "        batch_size=batch_size,\n",
    "        class_mode='binary',\n",
    "        subset='training') # set as training data\n",
    "\n",
    "    validation_generator[i] = train_datagen[i].flow_from_directory(\n",
    "        train_data_dir[i], # same directory as training data\n",
    "        target_size=(360, 648),\n",
    "        batch_size=batch_size,\n",
    "        class_mode='binary',\n",
    "        subset='validation') # set as validation data\n",
    "\n",
    "def cropper(img):\n",
    "    # Note: image_data_format is 'channel_last'\n",
    "    assert img.shape[2] == 3\n",
    "    #print(img.shape)\n",
    "    #plt.figure()\n",
    "    #plt.imshow(img[s_y:e_y,s_x:e_x])\n",
    "    return img[s_y:e_y,s_x:e_x]\n",
    "\n",
    "\n",
    "def crop_generator(batches):\n",
    "    \"\"\"Take as input a Keras ImageGen (Iterator) and generate random\n",
    "    crops from the image batches generated by the original iterator.\n",
    "    \"\"\"\n",
    "    #print(\"wejfjejo\")\n",
    "    \n",
    "    while True:\n",
    "        batch_x, batch_y = next(batches)\n",
    "        batch_crops = np.zeros((batch_x.shape[0], k1, k2, 3))\n",
    "        #print(batch_crops)\n",
    "        for i in range(batch_x.shape[0]):      \n",
    "            batch_crops[i] = cropper(batch_x[i])\n",
    "        yield (batch_crops, batch_y)\n",
    "    '''\n",
    "    '''"
   ]
  },
  {
   "cell_type": "code",
   "execution_count": null,
   "metadata": {},
   "outputs": [],
   "source": []
  },
  {
   "cell_type": "code",
   "execution_count": null,
   "metadata": {},
   "outputs": [],
   "source": []
  },
  {
   "cell_type": "code",
   "execution_count": 24,
   "metadata": {},
   "outputs": [],
   "source": [
    "train = crop_generator(inputgenerator)"
   ]
  },
  {
   "cell_type": "code",
   "execution_count": null,
   "metadata": {},
   "outputs": [],
   "source": []
  },
  {
   "cell_type": "code",
   "execution_count": null,
   "metadata": {},
   "outputs": [],
   "source": []
  },
  {
   "cell_type": "code",
   "execution_count": null,
   "metadata": {},
   "outputs": [],
   "source": []
  },
  {
   "cell_type": "code",
   "execution_count": null,
   "metadata": {},
   "outputs": [],
   "source": [
    "model.fit_generator(\n",
    "    train_pcg,\n",
    "    steps_per_epoch = train_generator[0].samples // batch_size,\n",
    "    validation_data = val_pcg, \n",
    "    validation_steps = validation_generator[0].samples // batch_size,\n",
    "    epochs =PARAMS['epochs'],\n",
    ")"
   ]
  },
  {
   "cell_type": "code",
   "execution_count": 135,
   "metadata": {},
   "outputs": [
    {
     "name": "stderr",
     "output_type": "stream",
     "text": [
      "WARNING: There is a new version of neptune-client 0.4.125 (installed: 0.4.124).\n",
      "NVMLError: NVML Shared Library Not Found - GPU usage metrics may not be reported.\n"
     ]
    },
    {
     "name": "stdout",
     "output_type": "stream",
     "text": [
      "https://ui.neptune.ai/icassp/Hybrid/e/HYBRID-80\n"
     ]
    }
   ],
   "source": [
    "\n",
    "neptune.init('icassp/Hybrid',NEPTUNE_API_TOKEN)\n",
    "exp = neptune.create_experiment(name='CNN_hybrid_transfer_learning_BestF1',description='#S2 ICASSP Fixed 252,241 confusion , normalized input , new dataset',params=PARAMS,upload_source_files=['CNN_hybrid_transfer_learning_BestF1.ipynb'],tags=['HS','ECG','ICASSP'],upload_stdout=True)\n"
   ]
  },
  {
   "cell_type": "code",
   "execution_count": null,
   "metadata": {},
   "outputs": [],
   "source": []
  },
  {
   "cell_type": "code",
   "execution_count": 8,
   "metadata": {},
   "outputs": [
    {
     "data": {
      "text/plain": [
       "20"
      ]
     },
     "execution_count": 8,
     "metadata": {},
     "output_type": "execute_result"
    }
   ],
   "source": [
    "PARAMS['batch_size']"
   ]
  },
  {
   "cell_type": "code",
   "execution_count": 9,
   "metadata": {},
   "outputs": [
    {
     "data": {
      "text/plain": [
       "Experiment(HYBRID-41)"
      ]
     },
     "execution_count": 9,
     "metadata": {},
     "output_type": "execute_result"
    }
   ],
   "source": [
    "exp"
   ]
  },
  {
   "cell_type": "code",
   "execution_count": 10,
   "metadata": {},
   "outputs": [
    {
     "name": "stdout",
     "output_type": "stream",
     "text": [
      "272 462\n"
     ]
    }
   ],
   "source": [
    "import core_modules"
   ]
  },
  {
   "cell_type": "code",
   "execution_count": 12,
   "metadata": {},
   "outputs": [
    {
     "name": "stdout",
     "output_type": "stream",
     "text": [
      " 💡 => Total images (.tiff) found  3158\n",
      " ⚡️ => After ignoring blanks loaded  3158\n",
      "0\n",
      "1000\n",
      "2000\n",
      "3000\n",
      "3158 Images loaded across 2 Categories\n"
     ]
    }
   ],
   "source": [
    "num_classes = 2 #added \n",
    "\n",
    "\n",
    "p = PARAMS['train_test_split']\n",
    "\n",
    "core_modules.set_ignore_blanks(PARAMS['ignore_blanks'])\n",
    "core_modules.set_dataset_path(PARAMS['dataset_path'],PARAMS['Read_Type'])\n",
    "\n",
    "\n",
    "n, X, Y,names = core_modules.load_hybrid_data(False)\n",
    "\n",
    "from sklearn.model_selection import train_test_split\n",
    "x_train, x_test, y_train, y_test = train_test_split(X, Y, test_size=0.20, random_state=42,shuffle=False)\n",
    "\n",
    "\n",
    "x_train =  x_train.reshape((len(y_train),272,462,PARAMS['im_type']))\n",
    "x_test  =  x_test.reshape(len(y_test),272,462,PARAMS['im_type'])\n",
    "\n",
    "class_names= []\n",
    "for i in range(0,2):\n",
    "    class_names.append(str(i))\n",
    "\n",
    "# Showing a few examples\n",
    "#show_image_examples(class_names, x_train, y_train)\n",
    "\n",
    "\n",
    "x_train, x_test = x_train / 255.0, x_test / 255.0"
   ]
  },
  {
   "cell_type": "code",
   "execution_count": 13,
   "metadata": {},
   "outputs": [],
   "source": [
    "\n",
    "x_train1 = x_train[:,:,:,0:m]\n",
    "x_train2 = x_train[:,:,:,m:e]\n",
    "\n",
    "a = x_train1[10]\n",
    "b = x_train2[10]\n",
    "\n",
    "x_train1 = x_train1.reshape((len(x_train),272,462,m))\n",
    "x_train2 = x_train2.reshape((len(x_train),272,462,m))\n",
    "\n"
   ]
  },
  {
   "cell_type": "code",
   "execution_count": 14,
   "metadata": {},
   "outputs": [
    {
     "name": "stdout",
     "output_type": "stream",
     "text": [
      "(2526, 272, 462, 3)\n"
     ]
    },
    {
     "data": {
      "image/png": "[encoded data removed]",
      "text/plain": [
       "<Figure size 432x288 with 1 Axes>"
      ]
     },
     "metadata": {
      "needs_background": "light"
     },
     "output_type": "display_data"
    },
    {
     "data": {
      "image/png": "[encoded data removed]",
      "text/plain": [
       "<Figure size 432x288 with 1 Axes>"
      ]
     },
     "metadata": {
      "needs_background": "light"
     },
     "output_type": "display_data"
    }
   ],
   "source": [
    "plt.figure()\n",
    "plt.imshow(a)\n",
    "plt.figure()\n",
    "plt.imshow(b)\n",
    "print(x_train2.shape)"
   ]
  },
  {
   "cell_type": "code",
   "execution_count": 15,
   "metadata": {},
   "outputs": [
    {
     "data": {
      "text/plain": [
       "(272, 462, 3)"
      ]
     },
     "execution_count": 15,
     "metadata": {},
     "output_type": "execute_result"
    }
   ],
   "source": [
    "a.shape"
   ]
  },
  {
   "cell_type": "code",
   "execution_count": 16,
   "metadata": {},
   "outputs": [],
   "source": [
    "resized_x_train2 = np.zeros((len(x_train),270,556,m))\n",
    "\n",
    "\n",
    "for i in range(0,len(x_train)):\n",
    "    resized_x_train2[i] = cv.resize(x_train2[i], (556,270), interpolation = cv.INTER_AREA)"
   ]
  },
  {
   "cell_type": "code",
   "execution_count": 17,
   "metadata": {},
   "outputs": [
    {
     "data": {
      "text/plain": [
       "(2526, 270, 556, 3)"
      ]
     },
     "execution_count": 17,
     "metadata": {},
     "output_type": "execute_result"
    }
   ],
   "source": [
    "resized_x_train2.shape"
   ]
  },
  {
   "cell_type": "code",
   "execution_count": 18,
   "metadata": {},
   "outputs": [
    {
     "name": "stderr",
     "output_type": "stream",
     "text": [
      "Clipping input data to the valid range for imshow with RGB data ([0..1] for floats or [0..255] for integers).\n"
     ]
    },
    {
     "data": {
      "text/plain": [
       "<matplotlib.image.AxesImage at 0x7fd9a40d0550>"
      ]
     },
     "execution_count": 18,
     "metadata": {},
     "output_type": "execute_result"
    },
    {
     "data": {
      "image/png": "[encoded data removed]",
      "text/plain": [
       "<Figure size 432x288 with 1 Axes>"
      ]
     },
     "metadata": {
      "needs_background": "light"
     },
     "output_type": "display_data"
    }
   ],
   "source": [
    "plt.imshow((resized_x_train2[10] ))"
   ]
  },
  {
   "cell_type": "code",
   "execution_count": null,
   "metadata": {},
   "outputs": [],
   "source": []
  },
  {
   "cell_type": "code",
   "execution_count": null,
   "metadata": {},
   "outputs": [],
   "source": []
  },
  {
   "cell_type": "code",
   "execution_count": null,
   "metadata": {},
   "outputs": [],
   "source": []
  },
  {
   "cell_type": "code",
   "execution_count": 12,
   "metadata": {},
   "outputs": [
    {
     "name": "stdout",
     "output_type": "stream",
     "text": [
      "Model: \"model\"\n",
      "_________________________________________________________________\n",
      "Layer (type)                 Output Shape              Param #   \n",
      "=================================================================\n",
      "conv2d_input (InputLayer)    [(None, 272, 462, 3)]     0         \n",
      "_________________________________________________________________\n",
      "conv2d (Conv2D)              (None, 272, 462, 4)       592       \n",
      "_________________________________________________________________\n",
      "max_pooling2d (MaxPooling2D) (None, 90, 154, 4)        0         \n",
      "_________________________________________________________________\n",
      "conv2d_1 (Conv2D)            (None, 84, 148, 16)       3152      \n",
      "_________________________________________________________________\n",
      "max_pooling2d_1 (MaxPooling2 (None, 28, 49, 16)        0         \n",
      "_________________________________________________________________\n",
      "conv2d_2 (Conv2D)            (None, 22, 43, 32)        25120     \n",
      "_________________________________________________________________\n",
      "max_pooling2d_2 (MaxPooling2 (None, 7, 14, 32)         0         \n",
      "_________________________________________________________________\n",
      "conv2d_3 (Conv2D)            (None, 5, 12, 64)         18496     \n",
      "_________________________________________________________________\n",
      "flatten (Flatten)            (None, 3840)              0         \n",
      "=================================================================\n",
      "Total params: 47,360\n",
      "Trainable params: 47,360\n",
      "Non-trainable params: 0\n",
      "_________________________________________________________________\n",
      "ECG\n",
      "Model: \"model_1\"\n",
      "_________________________________________________________________\n",
      "Layer (type)                 Output Shape              Param #   \n",
      "=================================================================\n",
      "conv2d_input (InputLayer)    [(None, 270, 556, 3)]     0         \n",
      "_________________________________________________________________\n",
      "conv2d (Conv2D)              (None, 270, 556, 4)       592       \n",
      "_________________________________________________________________\n",
      "max_pooling2d (MaxPooling2D) (None, 90, 185, 4)        0         \n",
      "_________________________________________________________________\n",
      "conv2d_1 (Conv2D)            (None, 84, 179, 16)       3152      \n",
      "_________________________________________________________________\n",
      "max_pooling2d_1 (MaxPooling2 (None, 28, 59, 16)        0         \n",
      "_________________________________________________________________\n",
      "conv2d_2 (Conv2D)            (None, 22, 53, 32)        25120     \n",
      "_________________________________________________________________\n",
      "max_pooling2d_2 (MaxPooling2 (None, 7, 17, 32)         0         \n",
      "_________________________________________________________________\n",
      "conv2d_3 (Conv2D)            (None, 5, 15, 64)         18496     \n",
      "_________________________________________________________________\n",
      "flatten (Flatten)            (None, 4800)              0         \n",
      "=================================================================\n",
      "Total params: 47,360\n",
      "Trainable params: 47,360\n",
      "Non-trainable params: 0\n",
      "_________________________________________________________________\n"
     ]
    }
   ],
   "source": [
    "model = tf.keras.models.load_model('EL252.h5')\n",
    "#c = model.get_layer('conv2d_3').output\n",
    "#c = tf.reshape(c, [-1,5, 15,64]) \n",
    "\n",
    "#model.summary()\n",
    "HS_MODEL= tf.keras.Model(inputs=model.input, outputs=model.get_layer('flatten').output)\n",
    "HS_MODEL.trainable=True\n",
    "HS_MODEL.summary()\n",
    "\n",
    "model2 = tf.keras.models.load_model('EL241.h5')\n",
    "\n",
    "#model.summary()\n",
    "\n",
    "ECG_MODEL= tf.keras.Model(inputs=model2.input, outputs=model2.get_layer('flatten').output)\n",
    "ECG_MODEL.trainable=True\n",
    "print(\"ECG\")\n",
    "ECG_MODEL.summary()\n",
    "\n",
    "\n",
    "\n"
   ]
  },
  {
   "cell_type": "code",
   "execution_count": 20,
   "metadata": {},
   "outputs": [
    {
     "data": {
      "text/plain": [
       "\"\\ndef create_convolution_layers(input_img):\\n    \\n    conv2d = tf.keras.layers.Conv2D(4, kernel_size=(7,7), padding='same', activation='relu', input_shape=(272,462,m))(input_img)\\n    max_pooling2d = tf.keras.layers.MaxPool2D(pool_size=(3,3))(conv2d)\\n    #model = tf.keras.layers.Conv2D(16, kernel_size=(7,7), activation='relu')(max_pooling2d)\\n    conv2d_1 = tf.keras.layers.Conv2D(16, kernel_size=(7,7), activation='relu',kernel_regularizer=regularizers.l2(0.001))(max_pooling2d)\\n    max_pooling2d_1  = tf.keras.layers.MaxPool2D(pool_size=(3,3))(conv2d_1)\\n    model =     tf.keras.layers.Conv2D(32, kernel_size=(7,7), activation='relu',kernel_regularizer=regularizers.l2(0.001))(max_pooling2d_1)\\n\\n    return model\\n    \\n\""
      ]
     },
     "execution_count": 20,
     "metadata": {},
     "output_type": "execute_result"
    }
   ],
   "source": [
    "'''\n",
    "def create_convolution_layers(input_img):\n",
    "    \n",
    "    conv2d = tf.keras.layers.Conv2D(4, kernel_size=(7,7), padding='same', activation='relu', input_shape=(272,462,m))(input_img)\n",
    "    max_pooling2d = tf.keras.layers.MaxPool2D(pool_size=(3,3))(conv2d)\n",
    "    #model = tf.keras.layers.Conv2D(16, kernel_size=(7,7), activation='relu')(max_pooling2d)\n",
    "    conv2d_1 = tf.keras.layers.Conv2D(16, kernel_size=(7,7), activation='relu',kernel_regularizer=regularizers.l2(0.001))(max_pooling2d)\n",
    "    max_pooling2d_1  = tf.keras.layers.MaxPool2D(pool_size=(3,3))(conv2d_1)\n",
    "    model =     tf.keras.layers.Conv2D(32, kernel_size=(7,7), activation='relu',kernel_regularizer=regularizers.l2(0.001))(max_pooling2d_1)\n",
    "\n",
    "    return model\n",
    "    \n",
    "'''"
   ]
  },
  {
   "cell_type": "code",
   "execution_count": null,
   "metadata": {},
   "outputs": [],
   "source": []
  },
  {
   "cell_type": "code",
   "execution_count": 14,
   "metadata": {},
   "outputs": [
    {
     "name": "stdout",
     "output_type": "stream",
     "text": [
      "WARNING:tensorflow:Model was constructed with shape Tensor(\"conv2d_input_1:0\", shape=(None, 270, 556, 3), dtype=float32) for input (None, 270, 556, 3), but it was re-called on a Tensor with incompatible shape (None, 270, 462, 3).\n",
      "(None, 3840)\n",
      "(None, 3840)\n"
     ]
    }
   ],
   "source": [
    "hs_input = tf.keras.layers.Input(shape=(272,462,m))\n",
    "hs_model = HS_MODEL(hs_input)\n",
    "ecg_input = tf.keras.layers.Input(shape=(270,462,m))\n",
    "ecg_model = ECG_MODEL(ecg_input)\n",
    "\n",
    "print(ecg_model.get_shape())\n",
    "print(hs_model.get_shape())"
   ]
  },
  {
   "cell_type": "code",
   "execution_count": null,
   "metadata": {},
   "outputs": [],
   "source": []
  },
  {
   "cell_type": "code",
   "execution_count": 15,
   "metadata": {},
   "outputs": [
    {
     "name": "stdout",
     "output_type": "stream",
     "text": [
      "Model: \"model_2\"\n",
      "__________________________________________________________________________________________________\n",
      "Layer (type)                    Output Shape         Param #     Connected to                     \n",
      "==================================================================================================\n",
      "input_3 (InputLayer)            [(None, 272, 462, 3) 0                                            \n",
      "__________________________________________________________________________________________________\n",
      "input_4 (InputLayer)            [(None, 270, 462, 3) 0                                            \n",
      "__________________________________________________________________________________________________\n",
      "model (Model)                   (None, 3840)         47360       input_3[0][0]                    \n",
      "__________________________________________________________________________________________________\n",
      "model_1 (Model)                 multiple             47360       input_4[0][0]                    \n",
      "__________________________________________________________________________________________________\n",
      "concatenate (Concatenate)       (None, 7680)         0           model[2][0]                      \n",
      "                                                                 model_1[2][0]                    \n",
      "__________________________________________________________________________________________________\n",
      "dropout (Dropout)               (None, 7680)         0           concatenate[0][0]                \n",
      "__________________________________________________________________________________________________\n",
      "dense (Dense)                   (None, 80)           614480      dropout[0][0]                    \n",
      "__________________________________________________________________________________________________\n",
      "dense_1 (Dense)                 (None, 20)           1620        dense[0][0]                      \n",
      "__________________________________________________________________________________________________\n",
      "dense_2 (Dense)                 (None, 2)            42          dense_1[0][0]                    \n",
      "==================================================================================================\n",
      "Total params: 710,862\n",
      "Trainable params: 710,862\n",
      "Non-trainable params: 0\n",
      "__________________________________________________________________________________________________\n"
     ]
    }
   ],
   "source": [
    "concat     = tf.keras.layers.concatenate([hs_model, ecg_model])\n",
    "\n",
    "\n",
    "#batchnorm  = tf.keras.layers.BatchNormalization()(concat)\n",
    "#dense      = tf.keras.layers.Dense(80, activation='relu')(batchnorm)\n",
    "\n",
    "\n",
    "dropout    = tf.keras.layers.Dropout(PARAMS['dropout'])(concat)\n",
    "dense      = tf.keras.layers.Dense(PARAMS['dense_layers'], activation='relu')(dropout)\n",
    "\n",
    "dense_1    = tf.keras.layers.Dense(20, activation='relu')(dense)\n",
    "output = tf.keras.layers.Dense(2, activation='softmax')(dense_1)\n",
    "\n",
    "model = tf.keras.Model(inputs=[hs_input, ecg_input], outputs=[output])\n",
    "\n",
    "\n",
    "model.compile(optimizer=keras.optimizers.Adam(),  # Optimizer\n",
    "              # Loss function to minimize\n",
    "              loss=keras.losses.SparseCategoricalCrossentropy(),\n",
    "              # List of metrics to monitor\n",
    "              metrics=[keras.metrics.SparseCategoricalAccuracy()])\n",
    "model.summary()"
   ]
  },
  {
   "cell_type": "code",
   "execution_count": 23,
   "metadata": {},
   "outputs": [],
   "source": [
    "\n",
    "model.summary(print_fn=lambda x: neptune.log_text('model_summary', x))"
   ]
  },
  {
   "cell_type": "code",
   "execution_count": 19,
   "metadata": {},
   "outputs": [],
   "source": [
    "def generator_two_img(X1, X2, y, batch_size):\n",
    "    genX1 = gen.flow(X1, y,  batch_size=batch_size, seed=1)\n",
    "    genX2 = gen.flow(X2, y, batch_size=batch_size, seed=1)\n",
    "    while True:\n",
    "        X1i = genX1.next()\n",
    "        X2i = genX2.next()\n",
    "        yield [X1i[0], X2i[0]], X1i[1]"
   ]
  },
  {
   "cell_type": "code",
   "execution_count": 26,
   "metadata": {},
   "outputs": [
    {
     "ename": "TypeError",
     "evalue": "generator_two_img() missing 1 required positional argument: 'batch_size'",
     "output_type": "error",
     "traceback": [
      "\u001b[0;31m---------------------------------------------------------------------------\u001b[0m",
      "\u001b[0;31mTypeError\u001b[0m                                 Traceback (most recent call last)",
      "\u001b[0;32m<ipython-input-26-3da4da3906f2>\u001b[0m in \u001b[0;36m<module>\u001b[0;34m\u001b[0m\n\u001b[1;32m      1\u001b[0m model.fit_generator(\n\u001b[0;32m----> 2\u001b[0;31m     \u001b[0mgenerator_two_img\u001b[0m\u001b[0;34m(\u001b[0m\u001b[0mtrain_pcg\u001b[0m\u001b[0;34m,\u001b[0m\u001b[0mtrain_ecg\u001b[0m\u001b[0;34m,\u001b[0m\u001b[0mbatch_size\u001b[0m\u001b[0;34m)\u001b[0m\u001b[0;34m,\u001b[0m\u001b[0;34m\u001b[0m\u001b[0;34m\u001b[0m\u001b[0m\n\u001b[0m\u001b[1;32m      3\u001b[0m     \u001b[0msteps_per_epoch\u001b[0m \u001b[0;34m=\u001b[0m \u001b[0;36m1803\u001b[0m \u001b[0;34m//\u001b[0m \u001b[0mbatch_size\u001b[0m\u001b[0;34m,\u001b[0m\u001b[0;34m\u001b[0m\u001b[0;34m\u001b[0m\u001b[0m\n\u001b[1;32m      4\u001b[0m     \u001b[0mvalidation_data\u001b[0m \u001b[0;34m=\u001b[0m \u001b[0mgenerator_two_img\u001b[0m\u001b[0;34m(\u001b[0m\u001b[0mval_pcg\u001b[0m\u001b[0;34m,\u001b[0m \u001b[0mval_ecg\u001b[0m\u001b[0;34m,\u001b[0m\u001b[0mbatch_size\u001b[0m\u001b[0;34m)\u001b[0m\u001b[0;34m,\u001b[0m\u001b[0;34m\u001b[0m\u001b[0;34m\u001b[0m\u001b[0m\n\u001b[1;32m      5\u001b[0m     \u001b[0mvalidation_steps\u001b[0m \u001b[0;34m=\u001b[0m \u001b[0;36m451\u001b[0m \u001b[0;34m//\u001b[0m \u001b[0mbatch_size\u001b[0m\u001b[0;34m,\u001b[0m\u001b[0;34m\u001b[0m\u001b[0;34m\u001b[0m\u001b[0m\n",
      "\u001b[0;31mTypeError\u001b[0m: generator_two_img() missing 1 required positional argument: 'batch_size'"
     ]
    }
   ],
   "source": [
    "model.fit_generator(\n",
    "    generator_two_img(train_pcg,train_ecg,batch_size),\n",
    "    steps_per_epoch = train_generator[0].samples // batch_size,\n",
    "    validation_data = generator_two_img(val_pcg, val_ecg,batch_size),\n",
    "    validation_steps = validation_generator[0].samples // batch_size,\n",
    "    epochs =PARAMS['epochs'],\n",
    ")"
   ]
  },
  {
   "cell_type": "code",
   "execution_count": null,
   "metadata": {},
   "outputs": [],
   "source": [
    "\n"
   ]
  },
  {
   "cell_type": "code",
   "execution_count": 24,
   "metadata": {},
   "outputs": [
    {
     "name": "stdout",
     "output_type": "stream",
     "text": [
      "Model: \"model_2\"\n",
      "__________________________________________________________________________________________________\n",
      "Layer (type)                    Output Shape         Param #     Connected to                     \n",
      "==================================================================================================\n",
      "input_1 (InputLayer)            [(None, 272, 462, 3) 0                                            \n",
      "__________________________________________________________________________________________________\n",
      "input_2 (InputLayer)            [(None, 270, 556, 3) 0                                            \n",
      "__________________________________________________________________________________________________\n",
      "model (Model)                   (None, 3840)         47360       input_1[0][0]                    \n",
      "__________________________________________________________________________________________________\n",
      "model_1 (Model)                 (None, 4800)         47360       input_2[0][0]                    \n",
      "__________________________________________________________________________________________________\n",
      "concatenate (Concatenate)       (None, 8640)         0           model[1][0]                      \n",
      "                                                                 model_1[1][0]                    \n",
      "__________________________________________________________________________________________________\n",
      "dropout (Dropout)               (None, 8640)         0           concatenate[0][0]                \n",
      "__________________________________________________________________________________________________\n",
      "dense (Dense)                   (None, 80)           691280      dropout[0][0]                    \n",
      "__________________________________________________________________________________________________\n",
      "dense_1 (Dense)                 (None, 20)           1620        dense[0][0]                      \n",
      "__________________________________________________________________________________________________\n",
      "dense_2 (Dense)                 (None, 2)            42          dense_1[0][0]                    \n",
      "==================================================================================================\n",
      "Total params: 787,662\n",
      "Trainable params: 787,662\n",
      "Non-trainable params: 0\n",
      "__________________________________________________________________________________________________\n"
     ]
    }
   ],
   "source": [
    "model.summary()"
   ]
  },
  {
   "cell_type": "code",
   "execution_count": 25,
   "metadata": {},
   "outputs": [
    {
     "data": {
      "text/plain": [
       "0.29334916864608074"
      ]
     },
     "execution_count": 25,
     "metadata": {},
     "output_type": "execute_result"
    }
   ],
   "source": [
    "len(y_train[y_train==0])/len(y_train)"
   ]
  },
  {
   "cell_type": "code",
   "execution_count": 26,
   "metadata": {},
   "outputs": [
    {
     "data": {
      "text/plain": [
       "0.7025316455696202"
      ]
     },
     "execution_count": 26,
     "metadata": {},
     "output_type": "execute_result"
    }
   ],
   "source": [
    "len(y_test[y_test==1])/len(y_test)"
   ]
  },
  {
   "cell_type": "code",
   "execution_count": 27,
   "metadata": {},
   "outputs": [
    {
     "name": "stdout",
     "output_type": "stream",
     "text": [
      "2\n"
     ]
    }
   ],
   "source": [
    "print(num_classes)"
   ]
  },
  {
   "cell_type": "code",
   "execution_count": 28,
   "metadata": {},
   "outputs": [
    {
     "data": {
      "text/plain": [
       "(2526, 272, 462, 3)"
      ]
     },
     "execution_count": 28,
     "metadata": {},
     "output_type": "execute_result"
    }
   ],
   "source": [
    "x_train1.shape"
   ]
  },
  {
   "cell_type": "code",
   "execution_count": 29,
   "metadata": {},
   "outputs": [
    {
     "data": {
      "text/plain": [
       "(2526, 270, 556, 3)"
      ]
     },
     "execution_count": 29,
     "metadata": {},
     "output_type": "execute_result"
    }
   ],
   "source": [
    "resized_x_train2.shape"
   ]
  },
  {
   "cell_type": "code",
   "execution_count": null,
   "metadata": {},
   "outputs": [],
   "source": []
  },
  {
   "cell_type": "code",
   "execution_count": 30,
   "metadata": {},
   "outputs": [
    {
     "name": "stdout",
     "output_type": "stream",
     "text": [
      "Train on 2020 samples, validate on 506 samples\n",
      "Epoch 1/15\n",
      "2020/2020 [==============================] - 48s 24ms/sample - loss: 0.6024 - sparse_categorical_accuracy: 0.7183 - val_loss: 0.7461 - val_sparse_categorical_accuracy: 0.6324\n",
      "Epoch 2/15\n",
      "2020/2020 [==============================] - 46s 23ms/sample - loss: 0.4877 - sparse_categorical_accuracy: 0.7861 - val_loss: 0.7471 - val_sparse_categorical_accuracy: 0.6423\n",
      "Epoch 3/15\n",
      "2020/2020 [==============================] - 47s 23ms/sample - loss: 0.4128 - sparse_categorical_accuracy: 0.8208 - val_loss: 0.9390 - val_sparse_categorical_accuracy: 0.6186\n",
      "Epoch 4/15\n",
      "2020/2020 [==============================] - 47s 23ms/sample - loss: 0.3390 - sparse_categorical_accuracy: 0.8564 - val_loss: 0.8643 - val_sparse_categorical_accuracy: 0.6225\n",
      "Epoch 5/15\n",
      "2020/2020 [==============================] - 47s 23ms/sample - loss: 0.2594 - sparse_categorical_accuracy: 0.8995 - val_loss: 0.8332 - val_sparse_categorical_accuracy: 0.6383\n",
      "Epoch 6/15\n",
      "2020/2020 [==============================] - 46s 23ms/sample - loss: 0.1636 - sparse_categorical_accuracy: 0.9446 - val_loss: 1.2161 - val_sparse_categorical_accuracy: 0.6285\n",
      "Epoch 7/15\n",
      "2020/2020 [==============================] - 47s 23ms/sample - loss: 0.1117 - sparse_categorical_accuracy: 0.9644 - val_loss: 1.6184 - val_sparse_categorical_accuracy: 0.6304\n",
      "Epoch 8/15\n",
      "2020/2020 [==============================] - 47s 23ms/sample - loss: 0.0809 - sparse_categorical_accuracy: 0.9797 - val_loss: 1.6068 - val_sparse_categorical_accuracy: 0.6087\n",
      "Epoch 9/15\n",
      "2020/2020 [==============================] - 46s 23ms/sample - loss: 0.0486 - sparse_categorical_accuracy: 0.9901 - val_loss: 2.5320 - val_sparse_categorical_accuracy: 0.6304\n",
      "Epoch 10/15\n",
      "2020/2020 [==============================] - 47s 23ms/sample - loss: 0.0362 - sparse_categorical_accuracy: 0.9931 - val_loss: 1.9755 - val_sparse_categorical_accuracy: 0.6403\n",
      "Epoch 11/15\n",
      "2020/2020 [==============================] - 47s 23ms/sample - loss: 0.0874 - sparse_categorical_accuracy: 0.9782 - val_loss: 1.7937 - val_sparse_categorical_accuracy: 0.6186\n",
      "Epoch 12/15\n",
      "2020/2020 [==============================] - 47s 23ms/sample - loss: 0.0926 - sparse_categorical_accuracy: 0.9713 - val_loss: 2.1010 - val_sparse_categorical_accuracy: 0.6146\n",
      "Epoch 13/15\n",
      "2020/2020 [==============================] - 47s 23ms/sample - loss: 0.0466 - sparse_categorical_accuracy: 0.9906 - val_loss: 2.5143 - val_sparse_categorical_accuracy: 0.6403\n",
      "Epoch 14/15\n",
      "2020/2020 [==============================] - 48s 24ms/sample - loss: 0.0175 - sparse_categorical_accuracy: 1.0000 - val_loss: 2.6898 - val_sparse_categorical_accuracy: 0.6364\n",
      "Epoch 15/15\n",
      "2020/2020 [==============================] - 47s 23ms/sample - loss: 0.0153 - sparse_categorical_accuracy: 1.0000 - val_loss: 2.8399 - val_sparse_categorical_accuracy: 0.6304\n"
     ]
    }
   ],
   "source": [
    "history = model.fit([x_train1,resized_x_train2], y_train,  batch_size=PARAMS['batch_size'], validation_split=PARAMS['validation_split'],epochs=PARAMS['epochs'],callbacks=[\n",
    "                tf.keras.callbacks.LambdaCallback(\n",
    "                    on_epoch_end=lambda epoch, logs: log_epoch_data(logs, exp)),\n",
    "])"
   ]
  },
  {
   "cell_type": "code",
   "execution_count": 31,
   "metadata": {},
   "outputs": [],
   "source": [
    "x_test1 = x_test[:,:,:,0:m]\n",
    "x_test2 = x_test[:,:,:,m:e]"
   ]
  },
  {
   "cell_type": "code",
   "execution_count": 32,
   "metadata": {},
   "outputs": [],
   "source": [
    "x_test1 = x_test1.reshape((len(x_test),272,462,m))\n",
    "x_test2 = x_test2.reshape((len(x_test),272,462,m))#ECGGGGG \n",
    "\n",
    "resized_x_test2 = np.zeros((len(x_test),270,556,m))\n",
    "\n",
    "\n",
    "for i in range(0,len(x_test)):\n",
    "    resized_x_test2[i] = cv.resize(x_test2[i], (556,270), interpolation = cv.INTER_AREA)\n"
   ]
  },
  {
   "cell_type": "code",
   "execution_count": 33,
   "metadata": {},
   "outputs": [
    {
     "name": "stdout",
     "output_type": "stream",
     "text": [
      "632/632 - 5s - loss: 3.0595 - sparse_categorical_accuracy: 0.6851\n",
      "Test loss: 3.059508291792266\n",
      "Test accuracy: 0.6851266\n",
      "\n",
      "History dict: {'loss': [0.602448434817909, 0.48765335859048486, 0.4127806785083053, 0.33898517459926036, 0.2594086775685301, 0.16355294372775767, 0.11174416470129302, 0.08086797207741454, 0.04864106903608778, 0.036229311774420264, 0.08735422541083086, 0.09263128187913115, 0.046632019480192424, 0.017484557160204, 0.015316404337708903], 'sparse_categorical_accuracy': [0.71831685, 0.7861386, 0.8207921, 0.85643566, 0.89950496, 0.94455445, 0.9643564, 0.97970295, 0.990099, 0.9930693, 0.97821784, 0.97128713, 0.9905941, 1.0, 1.0], 'val_loss': [0.7461322065398627, 0.7470854860049463, 0.9390049576759338, 0.8643317318009764, 0.8332380704257799, 1.2161007417520515, 1.6183742572196387, 1.6068446475997744, 2.531974446160991, 1.9755095921957446, 1.7937261549380457, 2.1009597955013923, 2.514309461880107, 2.68976758402798, 2.839933574906451], 'val_sparse_categorical_accuracy': [0.63241106, 0.6422925, 0.61857706, 0.6225296, 0.63833994, 0.6284585, 0.6304348, 0.6086956, 0.6304348, 0.6403162, 0.61857706, 0.6146245, 0.6403162, 0.6363636, 0.6304348]}\n"
     ]
    }
   ],
   "source": [
    "score = model.evaluate([x_test1,resized_x_test2],  y_test, verbose=2)\n",
    "\n",
    "print('Test loss:', score[0])\n",
    "print('Test accuracy:', score[1])\n",
    "\n",
    "\n",
    "print('\\nHistory dict:', history.history)"
   ]
  },
  {
   "cell_type": "code",
   "execution_count": 34,
   "metadata": {},
   "outputs": [
    {
     "name": "stdout",
     "output_type": "stream",
     "text": [
      "632/632 - 5s - loss: 3.0595 - sparse_categorical_accuracy: 0.6851\n"
     ]
    },
    {
     "name": "stderr",
     "output_type": "stream",
     "text": [
      "/home/ec2-user/anaconda3/envs/tensorflow_p36/lib/python3.6/site-packages/ipykernel/__main__.py:11: DeprecationWarning: The binary mode of fromstring is deprecated, as it behaves surprisingly on unicode inputs. Use frombuffer instead\n"
     ]
    },
    {
     "name": "stdout",
     "output_type": "stream",
     "text": [
      "0.6851266\n"
     ]
    },
    {
     "data": {
      "image/png": "[encoded data removed]",
      "text/plain": [
       "<Figure size 432x288 with 1 Axes>"
      ]
     },
     "metadata": {
      "needs_background": "light"
     },
     "output_type": "display_data"
    }
   ],
   "source": [
    "fig = plt.figure()\n",
    "plt.plot(history.history['sparse_categorical_accuracy'], label='sparse_categorical_accuracy')\n",
    "plt.plot(history.history['val_sparse_categorical_accuracy'], label = 'val_sparse_categorical_accuracy')\n",
    "plt.xlabel('Epoch')\n",
    "plt.ylabel('Accuracy')\n",
    "plt.ylim([0.5, 1])\n",
    "plt.legend(loc='lower right')\n",
    "test_loss, test_acc = model.evaluate([x_test1,resized_x_test2],  y_test, verbose=2)\n",
    "\n",
    "fig.canvas.draw()\n",
    "curve = np.fromstring(fig.canvas.tostring_rgb(), dtype=np.uint8, sep='')\n",
    "curve = curve.reshape(fig.canvas.get_width_height()[::-1] + (3,))\n",
    "\n",
    "neptune.log_image('learning_curve', curve)\n",
    "neptune.log_metric('Test Accuracy',test_acc)\n",
    "neptune.log_metric('Test Loss',test_loss)\n",
    "print(test_acc)"
   ]
  },
  {
   "cell_type": "code",
   "execution_count": 35,
   "metadata": {},
   "outputs": [
    {
     "name": "stdout",
     "output_type": "stream",
     "text": [
      "632/632 - 5s - loss: 3.0595 - sparse_categorical_accuracy: 0.6851\n",
      "Restored model, accuracy: 68.51%\n"
     ]
    }
   ],
   "source": [
    "\n",
    "loss, acc = model.evaluate([x_test1,resized_x_test2],  y_test, verbose=2)\n",
    "print('Restored model, accuracy: {:5.2f}%'.format(100*acc))"
   ]
  },
  {
   "cell_type": "code",
   "execution_count": null,
   "metadata": {},
   "outputs": [],
   "source": []
  },
  {
   "cell_type": "code",
   "execution_count": 36,
   "metadata": {},
   "outputs": [],
   "source": [
    "keras_model_path = \"/home/ec2-user/SageMaker/notebooks_ramith/out/\"  + str(exp) + '.h5'  \n",
    "\n",
    "model.save(keras_model_path)  # save() should be called out of strategy scope\n",
    "\n",
    "neptune.log_artifact(keras_model_path)\n"
   ]
  },
  {
   "cell_type": "code",
   "execution_count": 37,
   "metadata": {},
   "outputs": [
    {
     "name": "stdout",
     "output_type": "stream",
     "text": [
      "632/632 [==============================] - 6s 9ms/sample\n",
      "              precision    recall  f1-score   support\n",
      "\n",
      "           0       0.42      0.15      0.23       188\n",
      "           1       0.72      0.91      0.80       444\n",
      "\n",
      "    accuracy                           0.69       632\n",
      "   macro avg       0.57      0.53      0.51       632\n",
      "weighted avg       0.63      0.69      0.63       632\n",
      "\n"
     ]
    }
   ],
   "source": [
    "from sklearn.metrics import classification_report\n",
    "\n",
    "y_pred = model.predict([x_test1,resized_x_test2], batch_size=100, verbose=1)\n",
    "y_pred_bool = np.argmax(y_pred, axis=1)\n",
    "\n",
    "z = classification_report(y_test, y_pred_bool)\n",
    "print(z)\n",
    "\n",
    "neptune.log_text('classification_report', z)"
   ]
  },
  {
   "cell_type": "code",
   "execution_count": 40,
   "metadata": {},
   "outputs": [],
   "source": [
    "#!pip install neptune-contrib"
   ]
  },
  {
   "cell_type": "code",
   "execution_count": 45,
   "metadata": {},
   "outputs": [
    {
     "name": "stdout",
     "output_type": "stream",
     "text": [
      "\u001b[33mWARNING: You are using pip version 20.0.2; however, version 20.2.4 is available.\n",
      "You should consider upgrading via the '/home/ec2-user/anaconda3/envs/tensorflow_p36/bin/python -m pip install --upgrade pip' command.\u001b[0m\n"
     ]
    }
   ],
   "source": [
    "!pip install scikit-plot -q"
   ]
  },
  {
   "cell_type": "code",
   "execution_count": 46,
   "metadata": {},
   "outputs": [],
   "source": [
    "from neptunecontrib.monitoring.metrics import *\n",
    "\n",
    "threshold = 0.5\n",
    "\n",
    "log_confusion_matrix(y_test, y_pred[:, 1] > threshold)\n",
    "log_classification_report(y_test, y_pred[:, 1] > threshold)\n",
    "log_class_metrics(y_test, y_pred[:, 1] > threshold)\n",
    "log_class_metrics_by_threshold(y_test, y_pred[:, 1])\n",
    "log_roc_auc(y_test, y_pred)\n",
    "log_precision_recall_auc(y_test, y_pred)\n",
    "log_brier_loss(y_test, y_pred[:, 1])\n",
    "log_log_loss(y_test, y_pred)\n",
    "log_ks_statistic(y_test, y_pred)\n",
    "log_cumulative_gain(y_test, y_pred)\n",
    "log_lift_curve(y_test, y_pred)\n",
    "log_prediction_distribution(y_test, y_pred[:, 1])"
   ]
  },
  {
   "cell_type": "code",
   "execution_count": 47,
   "metadata": {},
   "outputs": [],
   "source": [
    "\n",
    "neptune.stop()"
   ]
  },
  {
   "cell_type": "code",
   "execution_count": null,
   "metadata": {},
   "outputs": [],
   "source": []
  },
  {
   "cell_type": "markdown",
   "metadata": {},
   "source": [
    "#### "
   ]
  },
  {
   "cell_type": "code",
   "execution_count": null,
   "metadata": {},
   "outputs": [],
   "source": []
  },
  {
   "cell_type": "code",
   "execution_count": null,
   "metadata": {},
   "outputs": [],
   "source": [
    "\n",
    "    \n",
    "    "
   ]
  },
  {
   "cell_type": "code",
   "execution_count": null,
   "metadata": {},
   "outputs": [],
   "source": []
  },
  {
   "cell_type": "code",
   "execution_count": null,
   "metadata": {},
   "outputs": [],
   "source": []
  },
  {
   "cell_type": "code",
   "execution_count": null,
   "metadata": {},
   "outputs": [],
   "source": []
  },
  {
   "cell_type": "code",
   "execution_count": null,
   "metadata": {},
   "outputs": [],
   "source": []
  },
  {
   "cell_type": "code",
   "execution_count": null,
   "metadata": {},
   "outputs": [],
   "source": []
  },
  {
   "cell_type": "code",
   "execution_count": null,
   "metadata": {},
   "outputs": [],
   "source": []
  },
  {
   "cell_type": "code",
   "execution_count": null,
   "metadata": {},
   "outputs": [],
   "source": []
  },
  {
   "cell_type": "code",
   "execution_count": null,
   "metadata": {},
   "outputs": [],
   "source": []
  },
  {
   "cell_type": "code",
   "execution_count": null,
   "metadata": {},
   "outputs": [],
   "source": []
  }
 ],
 "metadata": {
  "kernelspec": {
   "display_name": "Python 3",
   "language": "python",
   "name": "python3"
  },
  "language_info": {
   "codemirror_mode": {
    "name": "ipython",
    "version": 3
   },
   "file_extension": ".py",
   "mimetype": "text/x-python",
   "name": "python",
   "nbconvert_exporter": "python",
   "pygments_lexer": "ipython3",
   "version": "3.6.9"
  },
  "neptune": {
   "notebookId": "8952f360-fb9e-4bfb-9709-f109ed7e2c09"
  }
 },
 "nbformat": 4,
 "nbformat_minor": 4
}
