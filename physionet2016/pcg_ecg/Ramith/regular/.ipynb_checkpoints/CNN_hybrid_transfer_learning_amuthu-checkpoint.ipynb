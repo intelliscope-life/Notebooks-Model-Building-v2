{
 "cells": [
  {
   "cell_type": "code",
   "execution_count": 1,
   "metadata": {},
   "outputs": [],
   "source": [
    "#!pip install neptune-contrib -q\n",
    "#!pip install neptune-notebooks -q\n",
    "#!jupyter nbextension enable --py neptune-notebooks"
   ]
  },
  {
   "cell_type": "code",
   "execution_count": 1,
   "metadata": {},
   "outputs": [
    {
     "name": "stdout",
     "output_type": "stream",
     "text": [
      "2.1.0\n"
     ]
    }
   ],
   "source": [
    "import tensorflow as tf\n",
    "import matplotlib.pyplot as plt\n",
    "import numpy as np\n",
    "from tensorflow import keras\n",
    "from sklearn.utils import shuffle\n",
    "from tensorflow.keras import Sequential\n",
    "from tensorflow.keras import layers\n",
    "from tensorflow.keras.layers import Dense, Dropout, Flatten, Activation\n",
    "from tensorflow.keras.layers import Conv2D, MaxPool2D\n",
    "from sklearn.metrics import f1_score, precision_score, recall_score, confusion_matrix\n",
    "from tensorflow.keras import regularizers\n",
    "print(tf.__version__)\n",
    "import neptune\n",
    "import cv2 as cv"
   ]
  },
  {
   "cell_type": "code",
   "execution_count": null,
   "metadata": {},
   "outputs": [],
   "source": []
  },
  {
   "cell_type": "code",
   "execution_count": 2,
   "metadata": {},
   "outputs": [
    {
     "name": "stdout",
     "output_type": "stream",
     "text": [
      "Loading... >  ICASSP_01\n",
      "\t=> /home/ubuntu/intelliscope/datasets/PhysioNet2016/preprocessed/training-a/original/ecg/01-cmor1.5-1.0/\n",
      "\t=> /home/ubuntu/intelliscope/datasets/PhysioNet2016/preprocessed/training-a/original/pcg/01-morl/\n"
     ]
    }
   ],
   "source": [
    "import sys\n",
    "sys.path.append('/home/ubuntu/intelliscope/modules')\n",
    "\n",
    "import intelliscope\n",
    "from intelliscope import SelectDataset\n",
    "[pcg_dir,ecg_dir] = SelectDataset(0)\n"
   ]
  },
  {
   "cell_type": "code",
   "execution_count": 3,
   "metadata": {},
   "outputs": [],
   "source": [
    "from ml_utils import log_model_weights,log_epoch_data"
   ]
  },
  {
   "cell_type": "code",
   "execution_count": 4,
   "metadata": {},
   "outputs": [],
   "source": [
    "import os\n",
    "os.environ['NEPTUNE_API_TOKEN']=\"eyJhcGlfYWRkcmVzcyI6Imh0dHBzOi8vdWkubmVwdHVuZS5haSIsImFwaV91cmwiOiJodHRwczovL3VpLm5lcHR1bmUuYWkiLCJhcGlfa2V5IjoiNjBlODllY2ItMDcyZC00OGNmLThjZWYtZjM2MjE4Y2M5ZDM0In0=\"\n",
    "os.environ['NEPTUNE_PROJECT']=\"icassp/Hybrid'\"\n",
    "#os.environ['NEPTUNE_NOTEBOOK_ID']=\"4897a223-8a9f-4f00-8cec-22eda690858d\"\n",
    "os.environ['NEPTUNE_NOTEBOOK_PATH']=\"notebooks_ramith/CNN_hybrid_transfer_learning_amuthu.ipynb\""
   ]
  },
  {
   "cell_type": "code",
   "execution_count": 5,
   "metadata": {},
   "outputs": [],
   "source": [
    "!export NEPTUNE_API_TOKEN=\"eyJhcGlfYWRkcmVzcyI6Imh0dHBzOi8vdWkubmVwdHVuZS5haSIsImFwaV91cmwiOiJodHRwczovL3VpLm5lcHR1bmUuYWkiLCJhcGlfa2V5IjoiNjBlODllY2ItMDcyZC00OGNmLThjZWYtZjM2MjE4Y2M5ZDM0In0=\""
   ]
  },
  {
   "cell_type": "code",
   "execution_count": 6,
   "metadata": {},
   "outputs": [
    {
     "name": "stderr",
     "output_type": "stream",
     "text": [
      "WARNING: There is a new version of neptune-client 0.4.125 (installed: 0.4.124).\n",
      "NVMLError: NVML Shared Library Not Found - GPU usage metrics may not be reported.\n"
     ]
    },
    {
     "name": "stdout",
     "output_type": "stream",
     "text": [
      "https://ui.neptune.ai/icassp/Hybrid/e/HYBRID-82\n"
     ]
    }
   ],
   "source": [
    "NEPTUNE_API_TOKEN=\"eyJhcGlfYWRkcmVzcyI6Imh0dHBzOi8vdWkubmVwdHVuZS5haSIsImFwaV91cmwiOiJodHRwczovL3VpLm5lcHR1bmUuYWkiLCJhcGlfa2V5IjoiNjBlODllY2ItMDcyZC00OGNmLThjZWYtZjM2MjE4Y2M5ZDM0In0=\"\n",
    "PARAMS = {'ignore_blanks' : True,\n",
    "          'epochs' : 10,\n",
    "         'validation_split':0.2,\n",
    "         'batch_size' : 20,\n",
    "         'train_test_split':0.8,\n",
    "         'dense_layers':80,\n",
    "          'dropout':0.1,\n",
    "         'pcg_dataset_path':pcg_dir ,\n",
    "         'ecg_dataset_path':ecg_dir ,\n",
    "         'image_type' : 'rgb',\n",
    "         'im_type':6,\n",
    "         'Read_Type':1,\n",
    "         'data_balanced':False,\n",
    "         'leave_test':False,\n",
    "          'amuthu':0\n",
    "         }\n",
    "xx = PARAMS['amuthu']\n",
    "\n",
    "m = PARAMS['Read_Type']*3 + int(PARAMS['Read_Type']==0)\n",
    "e = PARAMS['Read_Type']*6 + int(PARAMS['Read_Type']==0)*2\n",
    "\n",
    "neptune.init('icassp/Hybrid',NEPTUNE_API_TOKEN)\n",
    "exp = neptune.create_experiment(name='CNN_hybrid_transfer_learning_BestF1 Balanced ',description='#S2 with 35.h5',params=PARAMS,upload_source_files=['CNN_hybrid_transfer_learning_amuthu.ipynb'],tags=['ICASSP','xx','shuffle train only','balanced'],upload_stdout=True)\n"
   ]
  },
  {
   "cell_type": "code",
   "execution_count": 7,
   "metadata": {},
   "outputs": [
    {
     "data": {
      "text/plain": [
       "20"
      ]
     },
     "execution_count": 7,
     "metadata": {},
     "output_type": "execute_result"
    }
   ],
   "source": [
    "PARAMS['batch_size']"
   ]
  },
  {
   "cell_type": "code",
   "execution_count": 8,
   "metadata": {},
   "outputs": [
    {
     "data": {
      "text/plain": [
       "Experiment(HYBRID-82)"
      ]
     },
     "execution_count": 8,
     "metadata": {},
     "output_type": "execute_result"
    }
   ],
   "source": [
    "exp"
   ]
  },
  {
   "cell_type": "code",
   "execution_count": 9,
   "metadata": {},
   "outputs": [
    {
     "name": "stdout",
     "output_type": "stream",
     "text": [
      "272 462\n"
     ]
    }
   ],
   "source": [
    "import core_modules"
   ]
  },
  {
   "cell_type": "code",
   "execution_count": 10,
   "metadata": {},
   "outputs": [
    {
     "name": "stdout",
     "output_type": "stream",
     "text": [
      " 💡 => Total images (.tiff) found  3496\n",
      " ⚡️ => After ignoring blanks loaded  3350\n",
      "0\n",
      "1000\n",
      "2000\n",
      "3000\n",
      "3350 Images loaded across 2 Categories\n"
     ]
    },
    {
     "ename": "MemoryError",
     "evalue": "Unable to allocate 15.1 GiB for an array with shape (2680, 272, 462, 6) and data type float64",
     "output_type": "error",
     "traceback": [
      "\u001b[0;31m---------------------------------------------------------------------------\u001b[0m",
      "\u001b[0;31mMemoryError\u001b[0m                               Traceback (most recent call last)",
      "\u001b[0;32m<ipython-input-10-a8dd7fb1bc56>\u001b[0m in \u001b[0;36m<module>\u001b[0;34m\u001b[0m\n\u001b[1;32m     27\u001b[0m \u001b[0;34m\u001b[0m\u001b[0m\n\u001b[1;32m     28\u001b[0m \u001b[0;34m\u001b[0m\u001b[0m\n\u001b[0;32m---> 29\u001b[0;31m \u001b[0mx_train\u001b[0m\u001b[0;34m,\u001b[0m \u001b[0mx_test\u001b[0m \u001b[0;34m=\u001b[0m \u001b[0mx_train\u001b[0m \u001b[0;34m/\u001b[0m \u001b[0;36m255.0\u001b[0m\u001b[0;34m,\u001b[0m \u001b[0mx_test\u001b[0m \u001b[0;34m/\u001b[0m \u001b[0;36m255.0\u001b[0m\u001b[0;34m\u001b[0m\u001b[0;34m\u001b[0m\u001b[0m\n\u001b[0m",
      "\u001b[0;31mMemoryError\u001b[0m: Unable to allocate 15.1 GiB for an array with shape (2680, 272, 462, 6) and data type float64"
     ]
    }
   ],
   "source": [
    "num_classes = 2 #added \n",
    "\n",
    "\n",
    "p = PARAMS['train_test_split']\n",
    "\n",
    "core_modules.set_ignore_blanks(PARAMS['ignore_blanks'])                    ##ignores blank scalograms\n",
    "core_modules.set_dataset_path(PARAMS['pcg_dataset_path'],PARAMS['ecg_dataset_path'],PARAMS['Read_Type'])  ##set dataset path  /home/ec2-user/SageMaker/datasets/Physionet2016_a/new_split_basedon_rawpcg/raw/pcg/\n",
    "\n",
    "\n",
    "n, X, Y, img_names = core_modules.load_hybrid_data(PARAMS['leave_test']) #Leave test = false, 50 wen karannena\n",
    "\n",
    "from sklearn.model_selection import train_test_split\n",
    "x_train, x_test, y_train, y_test = train_test_split(X, Y, test_size=1-p, random_state=42,shuffle=False)\n",
    "\n",
    "from sklearn.utils import shuffle\n",
    "x_train, y_train  = shuffle(x_train,y_train,random_state=42)\n",
    "\n",
    "x_train =  x_train.reshape((len(y_train),272,462,PARAMS['im_type']))\n",
    "x_test  =  x_test.reshape(len(y_test),272,462,PARAMS['im_type'])\n",
    "\n",
    "class_names= []\n",
    "for i in range(0,2):\n",
    "    class_names.append(str(i))\n",
    "\n",
    "# Showing a few examples\n",
    "#show_image_examples(class_names, x_train, y_train)\n",
    "\n",
    "\n",
    "x_train, x_test = x_train / 255.0, x_test / 255.0"
   ]
  },
  {
   "cell_type": "code",
   "execution_count": null,
   "metadata": {},
   "outputs": [],
   "source": [
    "\n",
    "x_train1 = x_train[:,:,:,0:m]\n",
    "x_train2 = x_train[:,:,:,m-xx:e-xx] \n",
    "\n",
    "#PCG RGB RGB\n",
    "\n",
    "\n",
    "\n",
    "x_train1 = x_train1.reshape((len(x_train),272,462,m))\n",
    "x_train2 = x_train2.reshape((len(x_train),272,462,m))\n",
    "\n"
   ]
  },
  {
   "cell_type": "code",
   "execution_count": 12,
   "metadata": {},
   "outputs": [
    {
     "name": "stdout",
     "output_type": "stream",
     "text": [
      "(2680, 272, 462, 3)\n"
     ]
    },
    {
     "data": {
      "image/png": "[encoded data removed]",
      "text/plain": [
       "<Figure size 432x288 with 1 Axes>"
      ]
     },
     "metadata": {
      "needs_background": "light"
     },
     "output_type": "display_data"
    },
    {
     "data": {
      "image/png": "[encoded data removed]",
      "text/plain": [
       "<Figure size 432x288 with 1 Axes>"
      ]
     },
     "metadata": {
      "needs_background": "light"
     },
     "output_type": "display_data"
    }
   ],
   "source": [
    "a = x_train1[0]\n",
    "b = x_train2[0]\n",
    "\n",
    "plt.figure()\n",
    "plt.imshow(a)\n",
    "plt.figure()\n",
    "plt.imshow(b)\n",
    "print(x_train2.shape)"
   ]
  },
  {
   "cell_type": "code",
   "execution_count": 13,
   "metadata": {},
   "outputs": [
    {
     "data": {
      "text/plain": [
       "(272, 462, 3)"
      ]
     },
     "execution_count": 13,
     "metadata": {},
     "output_type": "execute_result"
    }
   ],
   "source": [
    "a.shape"
   ]
  },
  {
   "cell_type": "code",
   "execution_count": 14,
   "metadata": {},
   "outputs": [],
   "source": [
    "resized_x_train2 = np.zeros((len(x_train),270,556,m))\n",
    "\n",
    "\n",
    "for i in range(0,len(x_train)):\n",
    "    resized_x_train2[i] = cv.resize(x_train2[i], (556,270), interpolation = cv.INTER_AREA)"
   ]
  },
  {
   "cell_type": "code",
   "execution_count": 15,
   "metadata": {},
   "outputs": [
    {
     "data": {
      "text/plain": [
       "(2680, 270, 556, 3)"
      ]
     },
     "execution_count": 15,
     "metadata": {},
     "output_type": "execute_result"
    }
   ],
   "source": [
    "resized_x_train2.shape"
   ]
  },
  {
   "cell_type": "code",
   "execution_count": 16,
   "metadata": {},
   "outputs": [
    {
     "name": "stderr",
     "output_type": "stream",
     "text": [
      "Clipping input data to the valid range for imshow with RGB data ([0..1] for floats or [0..255] for integers).\n"
     ]
    },
    {
     "data": {
      "text/plain": [
       "<matplotlib.image.AxesImage at 0x7fc2e84e8710>"
      ]
     },
     "execution_count": 16,
     "metadata": {},
     "output_type": "execute_result"
    },
    {
     "data": {
      "image/png": "[encoded data removed]",
      "text/plain": [
       "<Figure size 432x288 with 1 Axes>"
      ]
     },
     "metadata": {
      "needs_background": "light"
     },
     "output_type": "display_data"
    }
   ],
   "source": [
    "plt.imshow((resized_x_train2[10] ))"
   ]
  },
  {
   "cell_type": "code",
   "execution_count": null,
   "metadata": {},
   "outputs": [],
   "source": []
  },
  {
   "cell_type": "code",
   "execution_count": null,
   "metadata": {},
   "outputs": [],
   "source": []
  },
  {
   "cell_type": "code",
   "execution_count": null,
   "metadata": {},
   "outputs": [],
   "source": []
  },
  {
   "cell_type": "code",
   "execution_count": 17,
   "metadata": {},
   "outputs": [
    {
     "name": "stdout",
     "output_type": "stream",
     "text": [
      "WARNING:tensorflow:From /home/ec2-user/anaconda3/envs/tensorflow_p36/lib/python3.6/site-packages/tensorflow_core/python/ops/resource_variable_ops.py:1630: calling BaseResourceVariable.__init__ (from tensorflow.python.ops.resource_variable_ops) with constraint is deprecated and will be removed in a future version.\n",
      "Instructions for updating:\n",
      "If using Keras pass *_constraint arguments to layers.\n",
      "WARNING:tensorflow:OMP_NUM_THREADS is no longer used by the default Keras config. To configure the number of threads, use tf.config.threading APIs.\n",
      "Model: \"model\"\n",
      "_________________________________________________________________\n",
      "Layer (type)                 Output Shape              Param #   \n",
      "=================================================================\n",
      "conv2d_8_input (InputLayer)  [(None, 272, 462, 3)]     0         \n",
      "_________________________________________________________________\n",
      "conv2d_8 (Conv2D)            (None, 272, 462, 4)       592       \n",
      "_________________________________________________________________\n",
      "max_pooling2d_6 (MaxPooling2 (None, 90, 154, 4)        0         \n",
      "_________________________________________________________________\n",
      "dropout_10 (Dropout)         (None, 90, 154, 4)        0         \n",
      "_________________________________________________________________\n",
      "conv2d_9 (Conv2D)            (None, 84, 148, 16)       3152      \n",
      "_________________________________________________________________\n",
      "max_pooling2d_7 (MaxPooling2 (None, 28, 49, 16)        0         \n",
      "_________________________________________________________________\n",
      "dropout_11 (Dropout)         (None, 28, 49, 16)        0         \n",
      "_________________________________________________________________\n",
      "conv2d_10 (Conv2D)           (None, 22, 43, 32)        25120     \n",
      "_________________________________________________________________\n",
      "max_pooling2d_8 (MaxPooling2 (None, 7, 14, 32)         0         \n",
      "_________________________________________________________________\n",
      "dropout_12 (Dropout)         (None, 7, 14, 32)         0         \n",
      "_________________________________________________________________\n",
      "conv2d_11 (Conv2D)           (None, 5, 12, 64)         18496     \n",
      "_________________________________________________________________\n",
      "flatten_2 (Flatten)          (None, 3840)              0         \n",
      "=================================================================\n",
      "Total params: 47,360\n",
      "Trainable params: 47,360\n",
      "Non-trainable params: 0\n",
      "_________________________________________________________________\n",
      "WARNING:tensorflow:From /home/ec2-user/anaconda3/envs/tensorflow_p36/lib/python3.6/site-packages/tensorflow_core/python/ops/init_ops.py:97: calling GlorotUniform.__init__ (from tensorflow.python.ops.init_ops) with dtype is deprecated and will be removed in a future version.\n",
      "Instructions for updating:\n",
      "Call initializer instance with the dtype argument instead of passing it to the constructor\n",
      "WARNING:tensorflow:From /home/ec2-user/anaconda3/envs/tensorflow_p36/lib/python3.6/site-packages/tensorflow_core/python/ops/init_ops.py:97: calling Zeros.__init__ (from tensorflow.python.ops.init_ops) with dtype is deprecated and will be removed in a future version.\n",
      "Instructions for updating:\n",
      "Call initializer instance with the dtype argument instead of passing it to the constructor\n",
      "ECG\n",
      "Model: \"model_1\"\n",
      "_________________________________________________________________\n",
      "Layer (type)                 Output Shape              Param #   \n",
      "=================================================================\n",
      "conv2d_input (InputLayer)    [(None, 270, 556, 3)]     0         \n",
      "_________________________________________________________________\n",
      "conv2d (Conv2D)              (None, 270, 556, 4)       592       \n",
      "_________________________________________________________________\n",
      "max_pooling2d (MaxPooling2D) (None, 90, 185, 4)        0         \n",
      "_________________________________________________________________\n",
      "conv2d_1 (Conv2D)            (None, 84, 179, 16)       3152      \n",
      "_________________________________________________________________\n",
      "max_pooling2d_1 (MaxPooling2 (None, 28, 59, 16)        0         \n",
      "_________________________________________________________________\n",
      "conv2d_2 (Conv2D)            (None, 22, 53, 32)        25120     \n",
      "_________________________________________________________________\n",
      "max_pooling2d_2 (MaxPooling2 (None, 7, 17, 32)         0         \n",
      "_________________________________________________________________\n",
      "conv2d_3 (Conv2D)            (None, 5, 15, 64)         18496     \n",
      "_________________________________________________________________\n",
      "flatten (Flatten)            (None, 4800)              0         \n",
      "=================================================================\n",
      "Total params: 47,360\n",
      "Trainable params: 47,360\n",
      "Non-trainable params: 0\n",
      "_________________________________________________________________\n"
     ]
    }
   ],
   "source": [
    "model = tf.keras.models.load_model('/home/ec2-user/SageMaker/notebooks_ramith/udith_hs_models/35.h5')#,custom_objects={'tf': tf})\n",
    "\n",
    "#model.summary()\n",
    "HS_MODEL= tf.keras.Model(inputs=model.input, outputs=model.get_layer('flatten_2').output)\n",
    "HS_MODEL.trainable=True\n",
    "HS_MODEL.summary()\n",
    "\n",
    "model2 = tf.keras.models.load_model('/home/ec2-user/SageMaker/notebooks_ramith/EL241.h5')\n",
    "\n",
    "#model.summary()\n",
    "\n",
    "ECG_MODEL= tf.keras.Model(inputs=model2.input, outputs=model2.get_layer('flatten').output)\n",
    "ECG_MODEL.trainable=True\n",
    "print(\"ECG\")\n",
    "ECG_MODEL.summary()\n",
    "\n",
    "\n",
    "\n"
   ]
  },
  {
   "cell_type": "code",
   "execution_count": 18,
   "metadata": {},
   "outputs": [
    {
     "data": {
      "text/plain": [
       "\"\\ndef create_convolution_layers(input_img):\\n    \\n    conv2d = tf.keras.layers.Conv2D(4, kernel_size=(7,7), padding='same', activation='relu', input_shape=(272,462,m))(input_img)\\n    max_pooling2d = tf.keras.layers.MaxPool2D(pool_size=(3,3))(conv2d)\\n    #model = tf.keras.layers.Conv2D(16, kernel_size=(7,7), activation='relu')(max_pooling2d)\\n    conv2d_1 = tf.keras.layers.Conv2D(16, kernel_size=(7,7), activation='relu',kernel_regularizer=regularizers.l2(0.001))(max_pooling2d)\\n    max_pooling2d_1  = tf.keras.layers.MaxPool2D(pool_size=(3,3))(conv2d_1)\\n    model =     tf.keras.layers.Conv2D(32, kernel_size=(7,7), activation='relu',kernel_regularizer=regularizers.l2(0.001))(max_pooling2d_1)\\n\\n    return model\\n    \\n\""
      ]
     },
     "execution_count": 18,
     "metadata": {},
     "output_type": "execute_result"
    }
   ],
   "source": [
    "'''\n",
    "def create_convolution_layers(input_img):\n",
    "    \n",
    "    conv2d = tf.keras.layers.Conv2D(4, kernel_size=(7,7), padding='same', activation='relu', input_shape=(272,462,m))(input_img)\n",
    "    max_pooling2d = tf.keras.layers.MaxPool2D(pool_size=(3,3))(conv2d)\n",
    "    #model = tf.keras.layers.Conv2D(16, kernel_size=(7,7), activation='relu')(max_pooling2d)\n",
    "    conv2d_1 = tf.keras.layers.Conv2D(16, kernel_size=(7,7), activation='relu',kernel_regularizer=regularizers.l2(0.001))(max_pooling2d)\n",
    "    max_pooling2d_1  = tf.keras.layers.MaxPool2D(pool_size=(3,3))(conv2d_1)\n",
    "    model =     tf.keras.layers.Conv2D(32, kernel_size=(7,7), activation='relu',kernel_regularizer=regularizers.l2(0.001))(max_pooling2d_1)\n",
    "\n",
    "    return model\n",
    "    \n",
    "'''"
   ]
  },
  {
   "cell_type": "code",
   "execution_count": null,
   "metadata": {},
   "outputs": [],
   "source": []
  },
  {
   "cell_type": "code",
   "execution_count": 19,
   "metadata": {},
   "outputs": [
    {
     "name": "stdout",
     "output_type": "stream",
     "text": [
      "(?, 4800)\n",
      "(?, 3840)\n"
     ]
    }
   ],
   "source": [
    "hs_input = tf.keras.layers.Input(shape=(272,462,m))\n",
    "hs_model = HS_MODEL(hs_input)\n",
    "ecg_input = tf.keras.layers.Input(shape=(270,556,m))\n",
    "ecg_model = ECG_MODEL(ecg_input)\n",
    "\n",
    "print(ecg_model.get_shape())\n",
    "print(hs_model.get_shape())"
   ]
  },
  {
   "cell_type": "code",
   "execution_count": null,
   "metadata": {},
   "outputs": [],
   "source": []
  },
  {
   "cell_type": "code",
   "execution_count": 20,
   "metadata": {},
   "outputs": [
    {
     "name": "stdout",
     "output_type": "stream",
     "text": [
      "Model: \"model_2\"\n",
      "__________________________________________________________________________________________________\n",
      "Layer (type)                    Output Shape         Param #     Connected to                     \n",
      "==================================================================================================\n",
      "input_1 (InputLayer)            [(None, 272, 462, 3) 0                                            \n",
      "__________________________________________________________________________________________________\n",
      "input_2 (InputLayer)            [(None, 270, 556, 3) 0                                            \n",
      "__________________________________________________________________________________________________\n",
      "model (Model)                   (None, 3840)         47360       input_1[0][0]                    \n",
      "__________________________________________________________________________________________________\n",
      "model_1 (Model)                 (None, 4800)         47360       input_2[0][0]                    \n",
      "__________________________________________________________________________________________________\n",
      "concatenate (Concatenate)       (None, 8640)         0           model[1][0]                      \n",
      "                                                                 model_1[1][0]                    \n",
      "__________________________________________________________________________________________________\n",
      "dropout (Dropout)               (None, 8640)         0           concatenate[0][0]                \n",
      "__________________________________________________________________________________________________\n",
      "dense (Dense)                   (None, 80)           691280      dropout[0][0]                    \n",
      "__________________________________________________________________________________________________\n",
      "dense_1 (Dense)                 (None, 20)           1620        dense[0][0]                      \n",
      "__________________________________________________________________________________________________\n",
      "dense_2 (Dense)                 (None, 2)            42          dense_1[0][0]                    \n",
      "==================================================================================================\n",
      "Total params: 787,662\n",
      "Trainable params: 787,662\n",
      "Non-trainable params: 0\n",
      "__________________________________________________________________________________________________\n"
     ]
    }
   ],
   "source": [
    "concat     = tf.keras.layers.concatenate([hs_model, ecg_model])\n",
    "\n",
    "\n",
    "#batchnorm  = tf.keras.layers.BatchNormalization()(concat)\n",
    "#dense      = tf.keras.layers.Dense(80, activation='relu')(batchnorm)\n",
    "\n",
    "\n",
    "dropout    = tf.keras.layers.Dropout(PARAMS['dropout'])(concat)\n",
    "dense      = tf.keras.layers.Dense(PARAMS['dense_layers'], activation='relu')(dropout)\n",
    "\n",
    "dense_1    = tf.keras.layers.Dense(20, activation='relu')(dense)\n",
    "output = tf.keras.layers.Dense(2, activation='softmax')(dense_1)\n",
    "\n",
    "model = tf.keras.Model(inputs=[hs_input, ecg_input], outputs=[output])\n",
    "\n",
    "\n",
    "\n",
    "model.compile(optimizer=keras.optimizers.Adam(),  # Optimizer\n",
    "              # Loss function to minimize\n",
    "              loss=keras.losses.SparseCategoricalCrossentropy(),\n",
    "              # List of metrics to monitor\n",
    "              metrics=[keras.metrics.SparseCategoricalAccuracy()])\n",
    "model.summary()"
   ]
  },
  {
   "cell_type": "code",
   "execution_count": 21,
   "metadata": {},
   "outputs": [],
   "source": [
    "\n",
    "model.summary(print_fn=lambda x: neptune.log_text('model_summary', x))"
   ]
  },
  {
   "cell_type": "code",
   "execution_count": null,
   "metadata": {},
   "outputs": [],
   "source": []
  },
  {
   "cell_type": "code",
   "execution_count": null,
   "metadata": {},
   "outputs": [],
   "source": [
    "\n"
   ]
  },
  {
   "cell_type": "code",
   "execution_count": 22,
   "metadata": {},
   "outputs": [
    {
     "name": "stdout",
     "output_type": "stream",
     "text": [
      "Model: \"model_2\"\n",
      "__________________________________________________________________________________________________\n",
      "Layer (type)                    Output Shape         Param #     Connected to                     \n",
      "==================================================================================================\n",
      "input_1 (InputLayer)            [(None, 272, 462, 3) 0                                            \n",
      "__________________________________________________________________________________________________\n",
      "input_2 (InputLayer)            [(None, 270, 556, 3) 0                                            \n",
      "__________________________________________________________________________________________________\n",
      "model (Model)                   (None, 3840)         47360       input_1[0][0]                    \n",
      "__________________________________________________________________________________________________\n",
      "model_1 (Model)                 (None, 4800)         47360       input_2[0][0]                    \n",
      "__________________________________________________________________________________________________\n",
      "concatenate (Concatenate)       (None, 8640)         0           model[1][0]                      \n",
      "                                                                 model_1[1][0]                    \n",
      "__________________________________________________________________________________________________\n",
      "dropout (Dropout)               (None, 8640)         0           concatenate[0][0]                \n",
      "__________________________________________________________________________________________________\n",
      "dense (Dense)                   (None, 80)           691280      dropout[0][0]                    \n",
      "__________________________________________________________________________________________________\n",
      "dense_1 (Dense)                 (None, 20)           1620        dense[0][0]                      \n",
      "__________________________________________________________________________________________________\n",
      "dense_2 (Dense)                 (None, 2)            42          dense_1[0][0]                    \n",
      "==================================================================================================\n",
      "Total params: 787,662\n",
      "Trainable params: 787,662\n",
      "Non-trainable params: 0\n",
      "__________________________________________________________________________________________________\n"
     ]
    }
   ],
   "source": [
    "model.summary()"
   ]
  },
  {
   "cell_type": "code",
   "execution_count": 23,
   "metadata": {},
   "outputs": [
    {
     "data": {
      "text/plain": [
       "0.7194029850746269"
      ]
     },
     "execution_count": 23,
     "metadata": {},
     "output_type": "execute_result"
    }
   ],
   "source": [
    "len(y_train[y_train==1])/len(y_train)"
   ]
  },
  {
   "cell_type": "code",
   "execution_count": 24,
   "metadata": {},
   "outputs": [
    {
     "data": {
      "text/plain": [
       "0.7402985074626866"
      ]
     },
     "execution_count": 24,
     "metadata": {},
     "output_type": "execute_result"
    }
   ],
   "source": [
    "len(y_test[y_test==1])/len(y_test)"
   ]
  },
  {
   "cell_type": "code",
   "execution_count": 25,
   "metadata": {},
   "outputs": [
    {
     "name": "stdout",
     "output_type": "stream",
     "text": [
      "2\n"
     ]
    }
   ],
   "source": [
    "print(num_classes)"
   ]
  },
  {
   "cell_type": "code",
   "execution_count": 26,
   "metadata": {},
   "outputs": [
    {
     "data": {
      "text/plain": [
       "(2680, 272, 462, 3)"
      ]
     },
     "execution_count": 26,
     "metadata": {},
     "output_type": "execute_result"
    }
   ],
   "source": [
    "x_train1.shape"
   ]
  },
  {
   "cell_type": "code",
   "execution_count": 27,
   "metadata": {},
   "outputs": [
    {
     "data": {
      "text/plain": [
       "(2680, 270, 556, 3)"
      ]
     },
     "execution_count": 27,
     "metadata": {},
     "output_type": "execute_result"
    }
   ],
   "source": [
    "resized_x_train2.shape"
   ]
  },
  {
   "cell_type": "code",
   "execution_count": null,
   "metadata": {},
   "outputs": [],
   "source": []
  },
  {
   "cell_type": "code",
   "execution_count": 28,
   "metadata": {},
   "outputs": [
    {
     "name": "stdout",
     "output_type": "stream",
     "text": [
      "Train on 2144 samples, validate on 536 samples\n",
      "Epoch 1/10\n",
      "2144/2144 [==============================] - 52s 24ms/sample - loss: 0.5260 - sparse_categorical_accuracy: 0.7509 - val_loss: 0.4488 - val_sparse_categorical_accuracy: 0.8172\n",
      "Epoch 2/10\n",
      "2144/2144 [==============================] - 53s 25ms/sample - loss: 0.3753 - sparse_categorical_accuracy: 0.8391 - val_loss: 0.4170 - val_sparse_categorical_accuracy: 0.8302\n",
      "Epoch 3/10\n",
      "2144/2144 [==============================] - 53s 25ms/sample - loss: 0.2749 - sparse_categorical_accuracy: 0.8974 - val_loss: 0.4151 - val_sparse_categorical_accuracy: 0.8563\n",
      "Epoch 4/10\n",
      "2144/2144 [==============================] - 54s 25ms/sample - loss: 0.2153 - sparse_categorical_accuracy: 0.9128 - val_loss: 0.4502 - val_sparse_categorical_accuracy: 0.8321\n",
      "Epoch 5/10\n",
      "2144/2144 [==============================] - 54s 25ms/sample - loss: 0.1769 - sparse_categorical_accuracy: 0.9370 - val_loss: 0.5401 - val_sparse_categorical_accuracy: 0.8657\n",
      "Epoch 6/10\n",
      "2144/2144 [==============================] - 53s 25ms/sample - loss: 0.0995 - sparse_categorical_accuracy: 0.9664 - val_loss: 0.5486 - val_sparse_categorical_accuracy: 0.8619\n",
      "Epoch 7/10\n",
      "2144/2144 [==============================] - 53s 25ms/sample - loss: 0.1074 - sparse_categorical_accuracy: 0.9674 - val_loss: 0.4939 - val_sparse_categorical_accuracy: 0.8918\n",
      "Epoch 8/10\n",
      "2144/2144 [==============================] - 54s 25ms/sample - loss: 0.0840 - sparse_categorical_accuracy: 0.9762 - val_loss: 0.5522 - val_sparse_categorical_accuracy: 0.8881\n",
      "Epoch 9/10\n",
      "2144/2144 [==============================] - 53s 25ms/sample - loss: 0.0766 - sparse_categorical_accuracy: 0.9781 - val_loss: 0.5137 - val_sparse_categorical_accuracy: 0.8787\n",
      "Epoch 10/10\n",
      "2144/2144 [==============================] - 53s 24ms/sample - loss: 0.0519 - sparse_categorical_accuracy: 0.9869 - val_loss: 0.6120 - val_sparse_categorical_accuracy: 0.8862\n"
     ]
    }
   ],
   "source": [
    "history = model.fit([x_train1,resized_x_train2], y_train,  batch_size=PARAMS['batch_size'], validation_split=PARAMS['validation_split'],epochs=PARAMS['epochs'],callbacks=[\n",
    "                tf.keras.callbacks.LambdaCallback(\n",
    "                    on_epoch_end=lambda epoch, logs: log_epoch_data(logs, exp)),\n",
    "])"
   ]
  },
  {
   "cell_type": "code",
   "execution_count": 29,
   "metadata": {},
   "outputs": [],
   "source": [
    "x_test1 = x_test[:,:,:,0:m]\n",
    "x_test2 = x_test[:,:,:,m-xx:e-xx]"
   ]
  },
  {
   "cell_type": "code",
   "execution_count": 30,
   "metadata": {},
   "outputs": [],
   "source": [
    "x_test1 = x_test1.reshape((len(x_test),272,462,m))\n",
    "x_test2 = x_test2.reshape((len(x_test),272,462,m))#ECGGGGG \n",
    "\n",
    "resized_x_test2 = np.zeros((len(x_test),270,556,m))\n",
    "\n",
    "\n",
    "for i in range(0,len(x_test)):\n",
    "    resized_x_test2[i] = cv.resize(x_test2[i], (556,270), interpolation = cv.INTER_AREA)\n"
   ]
  },
  {
   "cell_type": "code",
   "execution_count": null,
   "metadata": {},
   "outputs": [],
   "source": []
  },
  {
   "cell_type": "code",
   "execution_count": 31,
   "metadata": {},
   "outputs": [
    {
     "name": "stdout",
     "output_type": "stream",
     "text": [
      "670/670 - 5s - loss: 1.1588 - sparse_categorical_accuracy: 0.8045\n",
      "Test loss: 1.1588448670373035\n",
      "Test accuracy: 0.80447763\n",
      "\n",
      "History dict: {'loss': [0.5259540071849947, 0.3752902244676405, 0.2749455959689039, 0.21526173365288484, 0.17690939492365318, 0.09948991802729555, 0.10736566351434744, 0.08395509903124575, 0.07664913396045232, 0.05193693161274848], 'sparse_categorical_accuracy': [0.7509328, 0.8390858, 0.89738804, 0.91277987, 0.9370336, 0.9664179, 0.9673507, 0.9762127, 0.97807837, 0.9869403], 'val_loss': [0.44876529676700705, 0.4169868230819702, 0.4151209124655866, 0.45016684677841057, 0.5401482404445979, 0.5485992516154674, 0.49391046358244634, 0.5522259233602836, 0.5137034593872837, 0.6119994785525461], 'val_sparse_categorical_accuracy': [0.8171642, 0.83022386, 0.85634327, 0.83208954, 0.86567163, 0.8619403, 0.89179105, 0.8880597, 0.87873137, 0.88619405]}\n"
     ]
    }
   ],
   "source": [
    "score = model.evaluate([x_test1,resized_x_test2],  y_test, verbose=2)\n",
    "\n",
    "print('Test loss:', score[0])\n",
    "print('Test accuracy:', score[1])\n",
    "\n",
    "\n",
    "print('\\nHistory dict:', history.history)"
   ]
  },
  {
   "cell_type": "code",
   "execution_count": 32,
   "metadata": {},
   "outputs": [
    {
     "name": "stdout",
     "output_type": "stream",
     "text": [
      "670/670 - 5s - loss: 1.1588 - sparse_categorical_accuracy: 0.8045\n"
     ]
    },
    {
     "name": "stderr",
     "output_type": "stream",
     "text": [
      "/home/ec2-user/anaconda3/envs/tensorflow_p36/lib/python3.6/site-packages/ipykernel/__main__.py:11: DeprecationWarning: The binary mode of fromstring is deprecated, as it behaves surprisingly on unicode inputs. Use frombuffer instead\n"
     ]
    },
    {
     "name": "stdout",
     "output_type": "stream",
     "text": [
      "0.80447763\n"
     ]
    },
    {
     "data": {
      "image/png": "[encoded data removed]",
      "text/plain": [
       "<Figure size 432x288 with 1 Axes>"
      ]
     },
     "metadata": {
      "needs_background": "light"
     },
     "output_type": "display_data"
    }
   ],
   "source": [
    "fig = plt.figure()\n",
    "plt.plot(history.history['sparse_categorical_accuracy'], label='sparse_categorical_accuracy')\n",
    "plt.plot(history.history['val_sparse_categorical_accuracy'], label = 'val_sparse_categorical_accuracy')\n",
    "plt.xlabel('Epoch')\n",
    "plt.ylabel('Accuracy')\n",
    "plt.ylim([0.5, 1])\n",
    "plt.legend(loc='lower right')\n",
    "test_loss, test_acc = model.evaluate([x_test1,resized_x_test2],  y_test, verbose=2)\n",
    "\n",
    "fig.canvas.draw()\n",
    "curve = np.fromstring(fig.canvas.tostring_rgb(), dtype=np.uint8, sep='')\n",
    "curve = curve.reshape(fig.canvas.get_width_height()[::-1] + (3,))\n",
    "\n",
    "neptune.log_image('learning_curve', curve)\n",
    "neptune.log_metric('Test Accuracy',test_acc)\n",
    "neptune.log_metric('Test Loss',test_loss)\n",
    "print(test_acc)"
   ]
  },
  {
   "cell_type": "code",
   "execution_count": 33,
   "metadata": {},
   "outputs": [
    {
     "name": "stdout",
     "output_type": "stream",
     "text": [
      "670/670 - 5s - loss: 1.1588 - sparse_categorical_accuracy: 0.8045\n",
      "Restored model, accuracy: 80.45%\n"
     ]
    }
   ],
   "source": [
    "\n",
    "loss, acc = model.evaluate([x_test1,resized_x_test2],  y_test, verbose=2)\n",
    "print('Restored model, accuracy: {:5.2f}%'.format(100*acc))"
   ]
  },
  {
   "cell_type": "code",
   "execution_count": null,
   "metadata": {},
   "outputs": [],
   "source": []
  },
  {
   "cell_type": "code",
   "execution_count": null,
   "metadata": {},
   "outputs": [],
   "source": [
    "keras_model_path = \"/home/ec2-user/SageMaker/notebooks_ramith/out/\"  + str(exp) + '.h5'  \n",
    "\n",
    "model.save(keras_model_path)  # save() should be called out of strategy scope\n",
    "\n",
    "neptune.log_artifact(keras_model_path)\n"
   ]
  },
  {
   "cell_type": "code",
   "execution_count": null,
   "metadata": {},
   "outputs": [],
   "source": [
    "from sklearn.metrics import classification_report\n",
    "\n",
    "y_pred = model.predict([x_test1,resized_x_test2], batch_size=100, verbose=1)\n",
    "y_pred_bool = np.argmax(y_pred, axis=1)\n",
    "\n",
    "z = classification_report(y_test, y_pred_bool)\n",
    "print(z)\n",
    "\n",
    "neptune.log_text('classification_report', z)"
   ]
  },
  {
   "cell_type": "code",
   "execution_count": null,
   "metadata": {},
   "outputs": [],
   "source": [
    "#!pip install neptune-contrib -q"
   ]
  },
  {
   "cell_type": "code",
   "execution_count": null,
   "metadata": {},
   "outputs": [],
   "source": [
    "#!pip install scikit-plot -q"
   ]
  },
  {
   "cell_type": "code",
   "execution_count": null,
   "metadata": {},
   "outputs": [],
   "source": [
    "from neptunecontrib.monitoring.metrics import *\n",
    "\n",
    "threshold = 0.5\n",
    "\n",
    "log_confusion_matrix(y_test, y_pred[:, 1] > threshold)\n",
    "log_classification_report(y_test, y_pred[:, 1] > threshold)\n",
    "log_class_metrics(y_test, y_pred[:, 1] > threshold)\n",
    "log_class_metrics_by_threshold(y_test, y_pred[:, 1])\n",
    "log_roc_auc(y_test, y_pred)\n",
    "log_precision_recall_auc(y_test, y_pred)\n",
    "log_brier_loss(y_test, y_pred[:, 1])\n",
    "log_log_loss(y_test, y_pred)\n",
    "log_ks_statistic(y_test, y_pred)\n",
    "log_cumulative_gain(y_test, y_pred)\n",
    "log_lift_curve(y_test, y_pred)\n",
    "log_prediction_distribution(y_test, y_pred[:, 1])"
   ]
  },
  {
   "cell_type": "code",
   "execution_count": null,
   "metadata": {},
   "outputs": [],
   "source": [
    "neptune.stop()\n",
    "    "
   ]
  },
  {
   "cell_type": "code",
   "execution_count": null,
   "metadata": {},
   "outputs": [],
   "source": [
    "'''\n",
    "\n",
    "core_modules.set_dataset_path(PARAMS['dataset_path'],PARAMS['Read_Type'])\n",
    "n, test_50_X, test_50_Y,test_50_names  = core_modules.load_hybrid_data(PARAMS['leave_test'],test_set='testset')\n",
    "\n",
    "'''"
   ]
  },
  {
   "cell_type": "code",
   "execution_count": null,
   "metadata": {},
   "outputs": [],
   "source": [
    "#test_50_names[0:7]"
   ]
  },
  {
   "cell_type": "code",
   "execution_count": null,
   "metadata": {},
   "outputs": [],
   "source": [
    "#test_50_X = test_50_X/255.0"
   ]
  },
  {
   "cell_type": "code",
   "execution_count": null,
   "metadata": {},
   "outputs": [],
   "source": [
    "'''\n",
    "test_50_1 = test_50_X[:,:,:,0:m]\n",
    "test_50_2 = test_50_X[:,:,:,m:e]\n",
    "\n",
    "test_50_1 = test_50_1.reshape((len(test_50_X),272,462,m))\n",
    "test_50_2 = test_50_2.reshape((len(test_50_X),272,462,m))#ECGGGGG \n",
    "\n",
    "\n",
    "resized_test_50_2 = np.zeros((len(test_50_X),270,556,m))\n",
    "\n",
    "for i in range(0,len(test_50_2)):\n",
    "    resized_test_50_2[i] = cv.resize(test_50_2[i], (556,270), interpolation = cv.INTER_AREA)\n",
    "'''"
   ]
  },
  {
   "cell_type": "code",
   "execution_count": null,
   "metadata": {},
   "outputs": [],
   "source": [
    "'''\n",
    "loss, acc = model.evaluate([test_50_1,resized_test_50_2],  test_50_Y, verbose=2)\n",
    "print('Restored model, accuracy: {:5.2f}%'.format(100*acc))\n",
    "'''"
   ]
  },
  {
   "cell_type": "code",
   "execution_count": null,
   "metadata": {},
   "outputs": [],
   "source": [
    "#records = np.array(pd.read_csv('test_records.csv'))[:,1]  \n"
   ]
  },
  {
   "cell_type": "code",
   "execution_count": null,
   "metadata": {},
   "outputs": [],
   "source": [
    "#len(records)"
   ]
  },
  {
   "cell_type": "markdown",
   "metadata": {},
   "source": [
    "#### "
   ]
  },
  {
   "cell_type": "code",
   "execution_count": null,
   "metadata": {},
   "outputs": [],
   "source": [
    "'''\n",
    "scores = {}\n",
    "\n",
    "labels = {}\n",
    "\n",
    "testkeycount  = 0 \n",
    "records = sorted(np.array(pd.read_csv('test_records.csv'))[:,1])\n",
    "\n",
    "for i in range(0,len(test_50_names)):\n",
    "    key = test_50_names[i][:5]\n",
    "    \n",
    "    \n",
    "    input1 = test_50_1[i]\n",
    "    input2 = resized_test_50_2[i]\n",
    "    \n",
    "    \n",
    "    print(test_50_names[i],test_50_Y[i])\n",
    "    plt.figure()\n",
    "    plt.imshow(input1)\n",
    "    plt.figure()\n",
    "    plt.imshow(input2)\n",
    "    \n",
    "    \n",
    "    input1 = input1.reshape(1,272,462,3)\n",
    "    input2 = input2.reshape(1,270,556,3)\n",
    "\n",
    "    y_pred = model.predict([input1,input2])\n",
    "    \n",
    "    if key not in scores.keys():\n",
    "        scores[key] = []\n",
    "        labels[key] = test_50_Y[i]\n",
    "        testkeycount +=1\n",
    "        \n",
    "    scores[key].append(y_pred[0][1])\n",
    "print(testkeycount)\n",
    "    \n",
    "'''"
   ]
  },
  {
   "cell_type": "code",
   "execution_count": null,
   "metadata": {},
   "outputs": [],
   "source": []
  },
  {
   "cell_type": "code",
   "execution_count": null,
   "metadata": {},
   "outputs": [],
   "source": [
    "'''\n",
    "avg_score = {}\n",
    "test_50_pred = []\n",
    "test_50_labels = []\n",
    "\n",
    "TP = 0\n",
    "\n",
    "for i in range(0,len(records)):\n",
    "    key = records[i]\n",
    "    \n",
    "    avg_score[key]=  [ sum(scores[key])/len(scores[key]), labels[key]]\n",
    "\n",
    "    test_50_pred.append(sum(scores[key])/len(scores[key]))\n",
    "    test_50_labels.append(labels[key])\n",
    "    \n",
    "test_50_pred   = np.array(test_50_pred)\n",
    "test_50_labels = np.array(test_50_labels)\n",
    "'''"
   ]
  },
  {
   "cell_type": "code",
   "execution_count": null,
   "metadata": {},
   "outputs": [],
   "source": [
    "#avg_score\n"
   ]
  },
  {
   "cell_type": "code",
   "execution_count": null,
   "metadata": {},
   "outputs": [],
   "source": []
  },
  {
   "cell_type": "code",
   "execution_count": null,
   "metadata": {},
   "outputs": [],
   "source": [
    "'''\n",
    "test_50_pred_bool = test_50_pred > 0.5\n",
    "z = classification_report(test_50_labels, test_50_pred_bool)\n",
    "print(z)\n",
    "'''"
   ]
  },
  {
   "cell_type": "code",
   "execution_count": null,
   "metadata": {},
   "outputs": [],
   "source": []
  },
  {
   "cell_type": "code",
   "execution_count": null,
   "metadata": {},
   "outputs": [],
   "source": [
    "\n",
    "#neptune.log_text('score_report_on_50_leftout',  str(avg_score))"
   ]
  },
  {
   "cell_type": "code",
   "execution_count": null,
   "metadata": {},
   "outputs": [],
   "source": []
  },
  {
   "cell_type": "code",
   "execution_count": null,
   "metadata": {},
   "outputs": [],
   "source": []
  },
  {
   "cell_type": "code",
   "execution_count": null,
   "metadata": {},
   "outputs": [],
   "source": []
  },
  {
   "cell_type": "code",
   "execution_count": null,
   "metadata": {},
   "outputs": [],
   "source": []
  },
  {
   "cell_type": "code",
   "execution_count": null,
   "metadata": {},
   "outputs": [],
   "source": []
  },
  {
   "cell_type": "code",
   "execution_count": null,
   "metadata": {},
   "outputs": [],
   "source": []
  },
  {
   "cell_type": "code",
   "execution_count": null,
   "metadata": {},
   "outputs": [],
   "source": []
  },
  {
   "cell_type": "code",
   "execution_count": null,
   "metadata": {},
   "outputs": [],
   "source": []
  },
  {
   "cell_type": "code",
   "execution_count": null,
   "metadata": {},
   "outputs": [],
   "source": []
  },
  {
   "cell_type": "code",
   "execution_count": null,
   "metadata": {},
   "outputs": [],
   "source": []
  },
  {
   "cell_type": "code",
   "execution_count": null,
   "metadata": {},
   "outputs": [],
   "source": []
  },
  {
   "cell_type": "code",
   "execution_count": null,
   "metadata": {},
   "outputs": [],
   "source": []
  },
  {
   "cell_type": "code",
   "execution_count": null,
   "metadata": {},
   "outputs": [],
   "source": [
    "1/60"
   ]
  },
  {
   "cell_type": "code",
   "execution_count": null,
   "metadata": {},
   "outputs": [],
   "source": []
  },
  {
   "cell_type": "code",
   "execution_count": null,
   "metadata": {},
   "outputs": [],
   "source": []
  },
  {
   "cell_type": "code",
   "execution_count": null,
   "metadata": {},
   "outputs": [],
   "source": []
  },
  {
   "cell_type": "code",
   "execution_count": null,
   "metadata": {},
   "outputs": [],
   "source": []
  },
  {
   "cell_type": "code",
   "execution_count": null,
   "metadata": {},
   "outputs": [],
   "source": []
  }
 ],
 "metadata": {
  "kernelspec": {
   "display_name": "Python 3",
   "language": "python",
   "name": "python3"
  },
  "language_info": {
   "codemirror_mode": {
    "name": "ipython",
    "version": 3
   },
   "file_extension": ".py",
   "mimetype": "text/x-python",
   "name": "python",
   "nbconvert_exporter": "python",
   "pygments_lexer": "ipython3",
   "version": "3.6.9"
  },
  "neptune": {
   "notebookId": "70300b83-ce1d-48bc-a22b-5cddf14801a0"
  }
 },
 "nbformat": 4,
 "nbformat_minor": 4
}
