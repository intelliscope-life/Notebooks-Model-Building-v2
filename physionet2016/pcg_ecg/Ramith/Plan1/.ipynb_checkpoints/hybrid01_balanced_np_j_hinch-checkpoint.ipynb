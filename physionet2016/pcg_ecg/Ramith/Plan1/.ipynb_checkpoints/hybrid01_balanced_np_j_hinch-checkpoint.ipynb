{
 "cells": [
  {
   "cell_type": "code",
   "execution_count": null,
   "metadata": {},
   "outputs": [],
   "source": [
    "import sys\n",
    "sys.path.append(\"/home/ubuntu/intelliscope/modules\") # go to parent dir"
   ]
  },
  {
   "cell_type": "code",
   "execution_count": 2,
   "metadata": {},
   "outputs": [],
   "source": [
    "import tensorflow as tf\n",
    "import os\n",
    "import matplotlib.pyplot as plt\n",
    "import cv2\n",
    "import numpy as np\n",
    "import os\n",
    "from tensorflow import keras\n",
    "from tensorflow.keras.models import Sequential, load_model\n",
    "from tensorflow.keras.layers import Conv2D, MaxPooling2D\n",
    "from tensorflow.keras.layers import Activation, Dropout, Flatten, Dense, Lambda,BatchNormalization\n",
    "from tensorflow.keras import backend as K\n",
    "from tensorflow_addons.layers import InstanceNormalization\n",
    "import tensorflow_addons as tfa\n",
    "from tensorflow.keras.layers import Activation, Dropout, Flatten, Dense, Lambda\n",
    "from tensorflow.keras.preprocessing.image import ImageDataGenerator, array_to_img, img_to_array, load_img\n",
    "\n",
    "\n",
    "from intelliscope import instead_data_loaders\n",
    "from sklearn.metrics import classification_report\n",
    "import numpy as np\n",
    "from neptunecontrib.monitoring.metrics import *\n"
   ]
  },
  {
   "cell_type": "code",
   "execution_count": 3,
   "metadata": {},
   "outputs": [],
   "source": [
    "PARAMS = {\n",
    "    'notebook_name':'hybrid01_balanced_np_j_hinch.ipynb', \n",
    "    'name':'data_a + balanced - (P7E1): Not Trainable + Normalized',\n",
    "    'description':'Base  [PCG7,ECG1] ', #[PCG7,ECG1]\n",
    "    'tags':['balanced', 'CASS','c5.12xlarge','Not Trainable'], \n",
    "\n",
    "    'data_balanced':True,    \n",
    "    \n",
    "    'pretrained': True, #\n",
    "    'modelload_pcg_dir':'/home/ubuntu/intelliscope/models/Experiment(PCG-7).h5', # \n",
    "    'modelload_ecg_dir':'/home/ubuntu/intelliscope/models/Experiment(ECG-1).h5', #\n",
    "    \n",
    "    'is_features_normalized':True, \n",
    "    'pcg_trainable':False,\n",
    "    'ecg_trainable':False,\n",
    "    \n",
    "    \n",
    "    ##########################\n",
    "    \n",
    "    'augmentation':0,\n",
    "    #'opt':tfa.optimizers.RectifiedAdam(lr=1e-3),\n",
    "    'opt': tf.keras.optimizers.Adam(learning_rate=0.001, beta_1=0.9, beta_2=0.999, epsilon=1e-07),\n",
    "    'loss':  tf.keras.losses.CategoricalCrossentropy(),#keras.losses.Hinge(),\n",
    "    'dropout':0.2,    \n",
    "    'num_epochs': 8,\n",
    "    \n",
    "    \n",
    "    'wavelet':'comb1',    \n",
    "    'batch_size':32,  \n",
    "    'validation_split':0.1,\n",
    "    'test_split': 0.2,\n",
    "    'dataset':'physionet2016a',\n",
    "    'pcg/ecg': 'pcg+ecg',\n",
    "    'pcg_dir':'/home/ubuntu/intelliscope/for_dataloaders/waveletcomb1/dataA/pcg/',  \n",
    "    'ecg_dir':'/home/ubuntu/intelliscope/for_dataloaders/waveletcomb1/dataA/ecg/', \n",
    "    'modelsave_dir':'/home/ubuntu/intelliscope/models',\n",
    "    }\n",
    "\n",
    "\n",
    "\n",
    "if PARAMS['data_balanced']==True:\n",
    "    PARAMS['pcg_dir']+='balanced'\n",
    "    PARAMS['ecg_dir']+='balanced'\n",
    "else:\n",
    "    PARAMS['pcg_dir']+='imbalanced'        \n",
    "    PARAMS['ecg_dir']+='imbalanced'        \n",
    "    \n",
    "    \n",
    "pcg_dir = PARAMS['pcg_dir']\n",
    "ecg_dir = PARAMS['ecg_dir']\n",
    "\n",
    "modelsave_dir  = PARAMS['modelsave_dir']\n",
    "batch_size     = PARAMS['batch_size']\n",
    "\n",
    "modelload_pcg_dir = PARAMS['modelload_pcg_dir']\n",
    "modelload_ecg_dir = PARAMS['modelload_ecg_dir']"
   ]
  },
  {
   "cell_type": "code",
   "execution_count": 4,
   "metadata": {},
   "outputs": [
    {
     "name": "stdout",
     "output_type": "stream",
     "text": [
      "check ecg vs pcg compability :: all must be True\n",
      "True\n",
      "True\n",
      "True\n",
      "True\n",
      "False\n",
      "True\n"
     ]
    }
   ],
   "source": [
    "print('check ecg vs pcg compability :: all must be True')\n",
    "print(os.listdir(PARAMS['pcg_dir']+'/train/0') == os.listdir(PARAMS['ecg_dir']+'/train/0'))\n",
    "print(os.listdir(PARAMS['pcg_dir']+'/train/1') == os.listdir(PARAMS['ecg_dir']+'/train/1'))\n",
    "print(os.listdir(PARAMS['pcg_dir']+'/val/0')   == os.listdir(PARAMS['ecg_dir']+'/val/0'))\n",
    "print(os.listdir(PARAMS['pcg_dir']+'/val/1')   == os.listdir(PARAMS['ecg_dir']+'/val/1'))\n",
    "print(os.listdir(PARAMS['pcg_dir']+'/test/0')  == os.listdir(PARAMS['ecg_dir']+'/test/0'))\n",
    "print(os.listdir(PARAMS['pcg_dir']+'/test/1')  == os.listdir(PARAMS['ecg_dir']+'/test/1'))"
   ]
  },
  {
   "cell_type": "code",
   "execution_count": null,
   "metadata": {},
   "outputs": [],
   "source": []
  },
  {
   "cell_type": "code",
   "execution_count": null,
   "metadata": {},
   "outputs": [],
   "source": []
  },
  {
   "cell_type": "code",
   "execution_count": null,
   "metadata": {},
   "outputs": [],
   "source": []
  },
  {
   "cell_type": "code",
   "execution_count": 5,
   "metadata": {},
   "outputs": [],
   "source": [
    "from intelliscope import get_base_model\n",
    "\n",
    "if PARAMS['pretrained']==True:\n",
    "    pcg_model=load_model(modelload_pcg_dir)\n",
    "    ecg_model=load_model(modelload_ecg_dir)\n",
    "else:\n",
    "    pcg_model=get_base_model()\n",
    "    ecg_model=get_base_model()\n",
    "    \n",
    "pcg_layer=[layer.name for layer in pcg_model.layers][-4]\n",
    "ecg_layer=[layer.name for layer in ecg_model.layers][-4]\n",
    "\n",
    "pcg_block= tf.keras.Model(inputs=pcg_model.input, outputs=pcg_model.get_layer(pcg_layer).output)\n",
    "pcg_block.trainable= PARAMS['pcg_trainable']\n",
    "pcg_input = tf.keras.layers.Input(shape=(272,462,3))\n",
    "pcg_features = pcg_block(pcg_input)\n",
    "\n",
    "ecg_block= tf.keras.Model(inputs=ecg_model.input, outputs=ecg_model.get_layer(ecg_layer).output)\n",
    "ecg_block.trainable=PARAMS['ecg_trainable']\n",
    "ecg_input = tf.keras.layers.Input(shape=(272,462,3))\n",
    "ecg_features = ecg_block(ecg_input)\n",
    "\n",
    "if PARAMS['is_features_normalized']==True:\n",
    "    pcg_features = tf.keras.layers.LayerNormalization()(pcg_features)\n",
    "    ecg_features = tf.keras.layers.LayerNormalization()(ecg_features)\n",
    "    \n",
    "concat     = tf.keras.layers.concatenate([pcg_features, ecg_features])\n",
    "dropout    = tf.keras.layers.Dropout(PARAMS['dropout'])(concat)\n",
    "dense      = tf.keras.layers.Dense(80, activation='relu')(dropout)\n",
    "dense_1    = tf.keras.layers.Dense(20, activation='relu')(dense)\n",
    "output = tf.keras.layers.Dense(2, activation='softmax')(dense_1)\n",
    "\n",
    "model= tf.keras.Model(inputs=[pcg_input, ecg_input], outputs=[output])\n",
    "\n",
    "model.compile(PARAMS['opt'],\n",
    "              loss=PARAMS['loss'],\n",
    "              metrics=[keras.metrics.CategoricalAccuracy()])\n",
    "  "
   ]
  },
  {
   "cell_type": "code",
   "execution_count": null,
   "metadata": {},
   "outputs": [
    {
     "name": "stdout",
     "output_type": "stream",
     "text": [
      "Total  1428\n",
      "704 Images loaded across 2 Categories. Ignored blanks  76\n",
      "loading,  1000\n",
      "724 Images loaded across 2 Categories. Ignored blanks  9\n",
      "1343 Total After removing blanks\n",
      "Total  194\n",
      "101 Images loaded across 2 Categories. Ignored blanks  0\n",
      "93 Images loaded across 2 Categories. Ignored blanks  0\n",
      "194 Total After removing blanks\n",
      "Train on 1343 samples, validate on 194 samples\n",
      "Epoch 1/8\n",
      "1343/1343 [==============================] - 7s 5ms/sample - loss: 0.7223 - categorical_accuracy: 0.6091 - val_loss: 0.6406 - val_categorical_accuracy: 0.6134\n",
      "Epoch 2/8\n",
      "1343/1343 [==============================] - 6s 5ms/sample - loss: 0.4685 - categorical_accuracy: 0.7811 - val_loss: 0.6490 - val_categorical_accuracy: 0.6443\n",
      "Epoch 3/8\n",
      "1343/1343 [==============================] - 6s 5ms/sample - loss: 0.3793 - categorical_accuracy: 0.8295 - val_loss: 0.6462 - val_categorical_accuracy: 0.6443\n",
      "Epoch 4/8\n",
      "1343/1343 [==============================] - 6s 5ms/sample - loss: 0.3141 - categorical_accuracy: 0.8704 - val_loss: 0.6358 - val_categorical_accuracy: 0.6598\n",
      "Epoch 5/8\n",
      "1312/1343 [============================>.] - ETA: 0s - loss: 0.2216 - categorical_accuracy: 0.9192"
     ]
    }
   ],
   "source": [
    "X_train,Y_train = instead_data_loaders(PARAMS,'train')\n",
    "X_val,Y_val = instead_data_loaders(PARAMS,'val')\n",
    "\n",
    "X_train_pcg = X_train[:,:,:,0:3]/255.0\n",
    "X_train_ecg = X_train[:,:,:,3:6]/255.0\n",
    "\n",
    "X_val_pcg = X_val[:,:,:,0:3]/255.0\n",
    "X_val_ecg = X_val[:,:,:,3:6]/255.0\n",
    "\n",
    "history = model.fit([X_train_pcg,X_train_ecg], Y_train,  batch_size=PARAMS['batch_size'], \n",
    "                    validation_data = [[X_val_pcg , X_val_ecg], Y_val], \n",
    "                    epochs = PARAMS['num_epochs'])\n",
    "\n"
   ]
  },
  {
   "cell_type": "code",
   "execution_count": null,
   "metadata": {},
   "outputs": [],
   "source": [
    "#!pip install neptune-client\n",
    "import os\n",
    "import neptune\n",
    "NEPTUNE_API_TOKEN='eyJhcGlfYWRkcmVzcyI6Imh0dHBzOi8vdWkubmVwdHVuZS5haSIsImFwaV91cmwiOiJodHRwczovL3VpLm5lcHR1bmUuYWkiLCJhcGlfa2V5IjoiMzc1YTM5OGMtYTY3Ny00ZmM4LTg5ZGQtOGI2YTQ1YmZiMDkzIn0='\n",
    "os.environ['NEPTUNE_PROJECT']=\"intelliscope/HYBRID\"\n",
    "\n",
    "neptune.init('intelliscope/HYBRID',NEPTUNE_API_TOKEN)\n",
    "exp = neptune.create_experiment(name=PARAMS['name'],description=PARAMS['description'],params=PARAMS,upload_source_files=PARAMS['notebook_name'],tags=PARAMS['tags'],upload_stdout=True)\n",
    "\n",
    "model.summary(print_fn=lambda x: neptune.log_text('model_summary', x))\n",
    "model.save(f'{modelsave_dir}/{str(exp)}.h5')\n",
    "neptune.log_artifact(f'{modelsave_dir}/{str(exp)}.h5')\n",
    "\n",
    "for i in range(len(history.history['loss'])):\n",
    "    neptune.log_metric('loss',history.history['loss'][i])\n",
    "    neptune.log_metric('val loss',history.history['val_loss'][i])\n",
    "    neptune.log_metric('categorical_acc',history.history['categorical_accuracy'][i])\n",
    "    neptune.log_metric('val_categorical_acc',history.history['val_categorical_accuracy'][i])"
   ]
  },
  {
   "cell_type": "code",
   "execution_count": null,
   "metadata": {},
   "outputs": [],
   "source": [
    "X_test,Y_test = instead_data_loaders(PARAMS,'test')\n",
    "\n",
    "X_test_pcg = X_test[:,:,:,0:3]/255.0\n",
    "X_test_ecg = X_test[:,:,:,3:6]/255.0\n",
    "\n",
    "y_pred = model.predict([X_test[:,:,:,0:3],X_test[:,:,:,3:6]], batch_size=X_test.shape[0], verbose=1)\n",
    "\n",
    "y_pred_bool = np.argmax(y_pred, axis=1)\n",
    "y_test=np.argmax(Y_test,axis=1)\n",
    "\n",
    "z = classification_report(y_test, y_pred_bool)\n",
    "neptune.log_text('classification_report', z)\n",
    "print(z)\n"
   ]
  },
  {
   "cell_type": "code",
   "execution_count": null,
   "metadata": {},
   "outputs": [],
   "source": [
    "threshold = 0.5\n",
    "\n",
    "log_confusion_matrix(y_test, y_pred[:, 1] > threshold)\n",
    "log_classification_report(y_test, y_pred[:, 1] > threshold)\n",
    "log_class_metrics(y_test, y_pred[:, 1] > threshold)\n",
    "log_class_metrics_by_threshold(y_test, y_pred[:, 1])\n",
    "log_brier_loss(y_test, y_pred[:, 1])\n",
    "log_prediction_distribution(y_test, y_pred[:, 1])\n",
    "\n",
    "log_log_loss(y_test, y_pred)\n",
    "log_roc_auc(y_test, y_pred)\n",
    "log_precision_recall_auc(y_test, y_pred)\n",
    "log_ks_statistic(y_test, y_pred)\n",
    "log_cumulative_gain(y_test, y_pred)\n",
    "log_lift_curve(y_test, y_pred)"
   ]
  },
  {
   "cell_type": "code",
   "execution_count": null,
   "metadata": {},
   "outputs": [],
   "source": [
    "neptune.stop()"
   ]
  },
  {
   "cell_type": "code",
   "execution_count": null,
   "metadata": {},
   "outputs": [],
   "source": []
  }
 ],
 "metadata": {
  "kernelspec": {
   "display_name": "Python 3",
   "language": "python",
   "name": "python3"
  },
  "language_info": {
   "codemirror_mode": {
    "name": "ipython",
    "version": 3
   },
   "file_extension": ".py",
   "mimetype": "text/x-python",
   "name": "python",
   "nbconvert_exporter": "python",
   "pygments_lexer": "ipython3",
   "version": "3.6.9"
  }
 },
 "nbformat": 4,
 "nbformat_minor": 4
}
