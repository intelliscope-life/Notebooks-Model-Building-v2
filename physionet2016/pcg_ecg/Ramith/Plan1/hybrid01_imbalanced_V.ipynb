{
 "cells": [
  {
   "cell_type": "code",
   "execution_count": 1,
   "metadata": {},
   "outputs": [],
   "source": [
    "import sys\n",
    "sys.path.append(\"/home/ubuntu/intelliscope/modules\") # go to parent dir"
   ]
  },
  {
   "cell_type": "code",
   "execution_count": 2,
   "metadata": {},
   "outputs": [],
   "source": [
    "import tensorflow as tf\n",
    "import os\n",
    "import matplotlib.pyplot as plt\n",
    "import cv2\n",
    "import numpy as np\n",
    "import os\n",
    "from tensorflow import keras\n",
    "from tensorflow.keras.models import Sequential, load_model\n",
    "from tensorflow.keras.layers import Conv2D, MaxPooling2D\n",
    "from tensorflow.keras.layers import Activation, Dropout, Flatten, Dense, Lambda,BatchNormalization\n",
    "from tensorflow.keras import backend as K\n",
    "from tensorflow_addons.layers import InstanceNormalization\n",
    "import tensorflow_addons as tfa\n",
    "from tensorflow.keras.layers import Activation, Dropout, Flatten, Dense, Lambda\n",
    "from tensorflow.keras.preprocessing.image import ImageDataGenerator, array_to_img, img_to_array, load_img\n",
    "\n",
    "\n",
    "from intelliscope import instead_data_loaders\n",
    "from sklearn.metrics import classification_report\n",
    "import numpy as np\n",
    "from neptunecontrib.monitoring.metrics import *\n"
   ]
  },
  {
   "cell_type": "code",
   "execution_count": 3,
   "metadata": {},
   "outputs": [],
   "source": [
    "PARAMS = {\n",
    "    'notebook_name':'hybrid01_imbalanced.ipynb', \n",
    "    'name':'data_a + imbalanced => Dilated-2 [P22E6]', #(P7E1) \n",
    "    'description':'Dilated Conv at first two , batch size 20, 10 epochs ', #[PCG7,ECG1]\n",
    "    'tags':['imbalanced', 'CASS','Plan 1','c5.12xlarge','Dilated Conv','transfer','RAdam'], \n",
    "\n",
    "    'data_balanced':False,    \n",
    "    \n",
    "    'pretrained': True, #\n",
    "    'modelload_pcg_dir':'/home/ubuntu/intelliscope/models/Experiment(PCG-22).h5', # 22 is a good one\n",
    "    'modelload_ecg_dir':'/home/ubuntu/intelliscope/models/Experiment(ECG-6).h5', #\n",
    "    'ecg_trainable':True,\n",
    "    'pcg_trainable':True,\n",
    "    \n",
    "    'is_features_normalized':False, \n",
    "    'Dilation_Rate':2,\n",
    "    \n",
    "    ##########################\n",
    "    \n",
    "    'augmentation':0,\n",
    "    #'opt':tfa.optimizers.RectifiedAdam(lr=1e-3),\n",
    "    'opt':tf.keras.optimizers.Adam(learning_rate=0.001, beta_1=0.9, beta_2=0.999, epsilon=1e-07),\n",
    "    'dropout':0.2,    \n",
    "    'num_epochs': 10,\n",
    "    \n",
    "    \n",
    "    'wavelet':'comb1',    \n",
    "    'batch_size':20,  \n",
    "    'validation_split':0.1,\n",
    "    'test_split': 0.2,\n",
    "    'dataset':'physionet2016a',\n",
    "    'pcg/ecg': 'pcg+ecg',\n",
    "    'pcg_dir':'/home/ubuntu/intelliscope/for_dataloaders/waveletcomb1/dataA/pcg/',  \n",
    "    'ecg_dir':'/home/ubuntu/intelliscope/for_dataloaders/waveletcomb1/dataA/ecg/', \n",
    "    'modelsave_dir':'/home/ubuntu/intelliscope/models',\n",
    "    }\n",
    "\n",
    "\n",
    "if PARAMS['data_balanced']==True:\n",
    "    PARAMS['pcg_dir']+='balanced'\n",
    "    PARAMS['ecg_dir']+='balanced'\n",
    "else:\n",
    "    PARAMS['pcg_dir']+='imbalanced'        \n",
    "    PARAMS['ecg_dir']+='imbalanced'        \n",
    "    \n",
    "    \n",
    "pcg_dir = PARAMS['pcg_dir']\n",
    "ecg_dir = PARAMS['ecg_dir']\n",
    "\n",
    "modelsave_dir  = PARAMS['modelsave_dir']\n",
    "batch_size     = PARAMS['batch_size']\n",
    "\n",
    "modelload_pcg_dir = PARAMS['modelload_pcg_dir']\n",
    "modelload_ecg_dir = PARAMS['modelload_ecg_dir']"
   ]
  },
  {
   "cell_type": "code",
   "execution_count": 4,
   "metadata": {},
   "outputs": [
    {
     "name": "stdout",
     "output_type": "stream",
     "text": [
      "check ecg vs pcg compability :: all must be True\n",
      "True\n",
      "True\n",
      "True\n",
      "True\n",
      "True\n",
      "True\n"
     ]
    }
   ],
   "source": [
    "print('check ecg vs pcg compability :: all must be True')\n",
    "print(os.listdir(PARAMS['pcg_dir']+'/train/0') == os.listdir(PARAMS['ecg_dir']+'/train/0'))\n",
    "print(os.listdir(PARAMS['pcg_dir']+'/train/1') == os.listdir(PARAMS['ecg_dir']+'/train/1'))\n",
    "print(os.listdir(PARAMS['pcg_dir']+'/val/0')   == os.listdir(PARAMS['ecg_dir']+'/val/0'))\n",
    "print(os.listdir(PARAMS['pcg_dir']+'/val/1')   == os.listdir(PARAMS['ecg_dir']+'/val/1'))\n",
    "print(os.listdir(PARAMS['pcg_dir']+'/test/0')  == os.listdir(PARAMS['ecg_dir']+'/test/0'))\n",
    "print(os.listdir(PARAMS['pcg_dir']+'/test/1')  == os.listdir(PARAMS['ecg_dir']+'/test/1'))"
   ]
  },
  {
   "cell_type": "code",
   "execution_count": null,
   "metadata": {},
   "outputs": [],
   "source": []
  },
  {
   "cell_type": "code",
   "execution_count": null,
   "metadata": {},
   "outputs": [],
   "source": []
  },
  {
   "cell_type": "code",
   "execution_count": null,
   "metadata": {},
   "outputs": [],
   "source": []
  },
  {
   "cell_type": "code",
   "execution_count": 5,
   "metadata": {},
   "outputs": [],
   "source": [
    "from intelliscope import get_base_model\n",
    "\n",
    "if PARAMS['pretrained']==True:\n",
    "    pcg_model=load_model(modelload_pcg_dir)\n",
    "    ecg_model=load_model(modelload_ecg_dir)\n",
    "else:\n",
    "    pcg_model=get_base_model(PARAMS['Dilation_Rate'])\n",
    "    ecg_model=get_base_model(PARAMS['Dilation_Rate'])\n",
    "    \n",
    "pcg_layer=[layer.name for layer in pcg_model.layers][-4]\n",
    "ecg_layer=[layer.name for layer in ecg_model.layers][-4]\n",
    "\n",
    "pcg_block= tf.keras.Model(inputs=pcg_model.input, outputs=pcg_model.get_layer(pcg_layer).output)\n",
    "pcg_block.trainable=PARAMS['ecg_trainable']\n",
    "pcg_input = tf.keras.layers.Input(shape=(272,462,3))\n",
    "pcg_features = pcg_block(pcg_input)\n",
    "\n",
    "ecg_block= tf.keras.Model(inputs=ecg_model.input, outputs=ecg_model.get_layer(ecg_layer).output)\n",
    "ecg_block.trainable=PARAMS['pcg_trainable']\n",
    "ecg_input = tf.keras.layers.Input(shape=(272,462,3))\n",
    "ecg_features = ecg_block(ecg_input)\n",
    "\n",
    "if PARAMS['is_features_normalized']==True:\n",
    "    pcg_features = tf.keras.layers.LayerNormalization()(pcg_features)\n",
    "    ecg_features = tf.keras.layers.LayerNormalization()(ecg_features)\n",
    "    \n",
    "concat     = tf.keras.layers.concatenate([pcg_features, ecg_features])\n",
    "dropout    = tf.keras.layers.Dropout(PARAMS['dropout'])(concat)\n",
    "dense      = tf.keras.layers.Dense(80, activation='relu')(dropout)\n",
    "dense_1    = tf.keras.layers.Dense(20, activation='relu')(dense)\n",
    "output = tf.keras.layers.Dense(2, activation='softmax')(dense_1)\n",
    "\n",
    "model= tf.keras.Model(inputs=[pcg_input, ecg_input], outputs=[output])\n",
    "\n",
    "model.compile(PARAMS['opt'],\n",
    "              loss=keras.losses.CategoricalCrossentropy(),\n",
    "              metrics=[keras.metrics.CategoricalAccuracy()])\n",
    "  "
   ]
  },
  {
   "cell_type": "code",
   "execution_count": 6,
   "metadata": {},
   "outputs": [
    {
     "name": "stdout",
     "output_type": "stream",
     "text": [
      "Total  2449\n",
      "706 Images loaded across 2 Categories. Ignored blanks  8\n",
      "loading,  1000\n",
      "loading,  2000\n",
      "1743 Images loaded across 2 Categories. Ignored blanks  96\n",
      "2345 Total After removing blanks\n",
      "Total  340\n",
      "97 Images loaded across 2 Categories. Ignored blanks  8\n",
      "2345/2345 [==============================] - 119s 51ms/sample - loss: 0.5713 - categorical_accuracy: 0.7369 - val_loss: 0.4859 - val_categorical_accuracy: 0.7289\n",
      "Epoch 2/10\n",
      "2345/2345 [==============================] - 119s 51ms/sample - loss: 0.4367 - categorical_accuracy: 0.8047 - val_loss: 0.4351 - val_categorical_accuracy: 0.8524\n",
      "Epoch 3/10\n",
      "2345/2345 [==============================] - 118s 50ms/sample - loss: 0.3542 - categorical_accuracy: 0.8482 - val_loss: 0.3309 - val_categorical_accuracy: 0.8584\n",
      "Epoch 4/10\n",
      "2345/2345 [==============================] - 118s 50ms/sample - loss: 0.2244 - categorical_accuracy: 0.9075 - val_loss: 0.3547 - val_categorical_accuracy: 0.8916\n",
      "Epoch 5/10\n",
      "2345/2345 [==============================] - 118s 50ms/sample - loss: 0.1618 - categorical_accuracy: 0.9446 - val_loss: 0.3517 - val_categorical_accuracy: 0.8614\n",
      "Epoch 6/10\n",
      "2345/2345 [==============================] - 118s 51ms/sample - loss: 0.1118 - categorical_accuracy: 0.9642 - val_loss: 0.3045 - val_categorical_accuracy: 0.9036\n",
      "Epoch 7/10\n",
      "2345/2345 [==============================] - 118s 50ms/sample - loss: 0.0852 - categorical_accuracy: 0.9744 - val_loss: 0.6556 - val_categorical_accuracy: 0.8705\n",
      "Epoch 8/10\n",
      "2345/2345 [==============================] - 119s 51ms/sample - loss: 0.0723 - categorical_accuracy: 0.9757 - val_loss: 0.5091 - val_categorical_accuracy: 0.8343\n",
      "Epoch 9/10\n",
      "2345/2345 [==============================] - 119s 51ms/sample - loss: 0.0725 - categorical_accuracy: 0.9804 - val_loss: 0.6344 - val_categorical_accuracy: 0.8614\n",
      "Epoch 10/10\n",
      "2345/2345 [==============================] - 119s 51ms/sample - loss: 0.0538 - categorical_accuracy: 0.9868 - val_loss: 0.6264 - val_categorical_accuracy: 0.8404\n"
     ]
    }
   ],
   "source": [
    "X_train,Y_train = instead_data_loaders(PARAMS,'train')\n",
    "X_val,Y_val = instead_data_loaders(PARAMS,'val')\n",
    "\n",
    "X_train_pcg = X_train[:,:,:,0:3]/255.0\n",
    "X_train_ecg = X_train[:,:,:,3:6]/255.0\n",
    "\n",
    "X_val_pcg = X_val[:,:,:,0:3]/255.0\n",
    "X_val_ecg = X_val[:,:,:,3:6]/255.0\n",
    "\n",
    "history = model.fit([X_train_pcg,X_train_ecg], Y_train,  batch_size=PARAMS['batch_size'], \n",
    "                    validation_data = [[X_val_pcg , X_val_ecg], Y_val], \n",
    "                    epochs = PARAMS['num_epochs'])\n",
    "\n"
   ]
  },
  {
   "cell_type": "code",
   "execution_count": 7,
   "metadata": {},
   "outputs": [
    {
     "name": "stderr",
     "output_type": "stream",
     "text": [
      "WARNING: There is a new version of neptune-client 0.4.125 (installed: 0.4.124).\n",
      "NVMLError: NVML Shared Library Not Found - GPU usage metrics may not be reported.\n"
     ]
    },
    {
     "name": "stdout",
     "output_type": "stream",
     "text": [
      "https://ui.neptune.ai/intelliscope/HYBRID-Imbalanced/e/HYBIM-15\n"
     ]
    }
   ],
   "source": [
    "#!pip install neptune-client\n",
    "import os\n",
    "import neptune\n",
    "NEPTUNE_API_TOKEN='eyJhcGlfYWRkcmVzcyI6Imh0dHBzOi8vdWkubmVwdHVuZS5haSIsImFwaV91cmwiOiJodHRwczovL3VpLm5lcHR1bmUuYWkiLCJhcGlfa2V5IjoiMzc1YTM5OGMtYTY3Ny00ZmM4LTg5ZGQtOGI2YTQ1YmZiMDkzIn0='\n",
    "os.environ['NEPTUNE_PROJECT']=\"intelliscope/HYBRID-Imbalanced\"\n",
    "\n",
    "neptune.init('intelliscope/HYBRID-Imbalanced',NEPTUNE_API_TOKEN)\n",
    "exp = neptune.create_experiment(name=PARAMS['name'],description=PARAMS['description'],params=PARAMS,upload_source_files=PARAMS['notebook_name'],tags=PARAMS['tags'],upload_stdout=True)\n",
    "\n",
    "model.summary(print_fn=lambda x: neptune.log_text('model_summary', x))\n",
    "model.save(f'{modelsave_dir}/{str(exp)}.h5')\n",
    "neptune.log_artifact(f'{modelsave_dir}/{str(exp)}.h5')\n",
    "\n",
    "for i in range(len(history.history['loss'])):\n",
    "    neptune.log_metric('loss',history.history['loss'][i])\n",
    "    neptune.log_metric('val loss',history.history['val_loss'][i])\n",
    "    neptune.log_metric('categorical_acc',history.history['categorical_accuracy'][i])\n",
    "    neptune.log_metric('val_categorical_acc',history.history['val_categorical_accuracy'][i])"
   ]
  },
  {
   "cell_type": "code",
   "execution_count": 8,
   "metadata": {},
   "outputs": [
    {
     "name": "stdout",
     "output_type": "stream",
     "text": [
      "Total  707\n",
      "199 Images loaded across 2 Categories. Ignored blanks  60\n",
      "508 Images loaded across 2 Categories. Ignored blanks  9\n",
      "638 Total After removing blanks\n",
      "638/638 [==============================] - 2s 3ms/sample\n",
      "              precision    recall  f1-score   support\n",
      "\n",
      "           0       0.60      0.54      0.57       139\n",
      "           1       0.88      0.90      0.89       499\n",
      "\n",
      "    accuracy                           0.82       638\n",
      "   macro avg       0.74      0.72      0.73       638\n",
      "weighted avg       0.82      0.82      0.82       638\n",
      "\n"
     ]
    }
   ],
   "source": [
    "X_test,Y_test = instead_data_loaders(PARAMS,'test')\n",
    "\n",
    "X_test_pcg = X_test[:,:,:,0:3]/255.0\n",
    "X_test_ecg = X_test[:,:,:,3:6]/255.0\n",
    "\n",
    "y_pred = model.predict([X_test[:,:,:,0:3],X_test[:,:,:,3:6]], batch_size=X_test.shape[0], verbose=1)\n",
    "\n",
    "y_pred_bool = np.argmax(y_pred, axis=1)\n",
    "y_test=np.argmax(Y_test,axis=1)\n",
    "\n",
    "z = classification_report(y_test, y_pred_bool)\n",
    "neptune.log_text('classification_report', z)\n",
    "print(z)\n"
   ]
  },
  {
   "cell_type": "code",
   "execution_count": 9,
   "metadata": {},
   "outputs": [],
   "source": [
    "threshold = 0.5\n",
    "\n",
    "log_confusion_matrix(y_test, y_pred[:, 1] > threshold)\n",
    "log_classification_report(y_test, y_pred[:, 1] > threshold)\n",
    "log_class_metrics(y_test, y_pred[:, 1] > threshold)\n",
    "log_class_metrics_by_threshold(y_test, y_pred[:, 1])\n",
    "log_brier_loss(y_test, y_pred[:, 1])\n",
    "log_prediction_distribution(y_test, y_pred[:, 1])\n",
    "\n",
    "log_log_loss(y_test, y_pred)\n",
    "log_roc_auc(y_test, y_pred)\n",
    "log_precision_recall_auc(y_test, y_pred)\n",
    "log_ks_statistic(y_test, y_pred)\n",
    "log_cumulative_gain(y_test, y_pred)\n",
    "log_lift_curve(y_test, y_pred)"
   ]
  },
  {
   "cell_type": "code",
   "execution_count": 10,
   "metadata": {},
   "outputs": [],
   "source": [
    "neptune.stop()"
   ]
  },
  {
   "cell_type": "code",
   "execution_count": null,
   "metadata": {},
   "outputs": [],
   "source": []
  }
 ],
 "metadata": {
  "kernelspec": {
   "display_name": "Python 3",
   "language": "python",
   "name": "python3"
  },
  "language_info": {
   "codemirror_mode": {
    "name": "ipython",
    "version": 3
   },
   "file_extension": ".py",
   "mimetype": "text/x-python",
   "name": "python",
   "nbconvert_exporter": "python",
   "pygments_lexer": "ipython3",
   "version": "3.6.9"
  }
 },
 "nbformat": 4,
 "nbformat_minor": 4
}
