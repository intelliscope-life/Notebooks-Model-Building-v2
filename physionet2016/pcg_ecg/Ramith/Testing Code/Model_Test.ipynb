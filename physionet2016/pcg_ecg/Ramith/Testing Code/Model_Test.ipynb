{
 "cells": [
  {
   "cell_type": "code",
   "execution_count": 1,
   "metadata": {},
   "outputs": [],
   "source": [
    "import sys\n",
    "sys.path.append(\"/home/ubuntu/intelliscope/modules\") # go to parent dir\n",
    "import tensorflow as tf\n",
    "import os\n",
    "import matplotlib.pyplot as plt\n",
    "import cv2\n",
    "import numpy as np\n",
    "import os\n",
    "from tensorflow import keras\n",
    "from tensorflow.keras.models import Sequential, load_model\n",
    "from tensorflow.keras.layers import Conv2D, MaxPooling2D\n",
    "from tensorflow.keras.layers import Activation, Dropout, Flatten, Dense, Lambda,BatchNormalization\n",
    "from tensorflow.keras import backend as K\n",
    "from tensorflow_addons.layers import InstanceNormalization\n",
    "import tensorflow_addons as tfa\n",
    "from tensorflow.keras.layers import Activation, Dropout, Flatten, Dense, Lambda\n",
    "from tensorflow.keras.preprocessing.image import ImageDataGenerator, array_to_img, img_to_array, load_img\n",
    "\n",
    "\n",
    "from intelliscope import instead_data_loaders\n",
    "from sklearn.metrics import classification_report\n",
    "import numpy as np\n",
    "from neptunecontrib.monitoring.metrics import *\n"
   ]
  },
  {
   "cell_type": "code",
   "execution_count": 2,
   "metadata": {},
   "outputs": [],
   "source": [
    "from tensorflow.keras.models import load_model\n",
    "\n",
    "\n",
    "basepath = '/home/ubuntu/intelliscope/models/'\n",
    "\n",
    "\n",
    "project       = 'HYBIM'\n",
    "model_number  = '24'\n",
    "path = basepath + 'Experiment(' + project + '-' + model_number + ').h5'"
   ]
  },
  {
   "cell_type": "code",
   "execution_count": 3,
   "metadata": {},
   "outputs": [
    {
     "name": "stdout",
     "output_type": "stream",
     "text": [
      "/home/ubuntu/intelliscope/models/Experiment(HYBIM-24).h5\n"
     ]
    }
   ],
   "source": [
    "print(path)"
   ]
  },
  {
   "cell_type": "code",
   "execution_count": 4,
   "metadata": {},
   "outputs": [],
   "source": [
    "PARAMS = {\n",
    "    'notebook_name':'hybrid01_imbalanced_pcg_path', \n",
    "    'name':'data_a + BALANCED => [P22]', #(P7E1) \n",
    "    'description':'PCG model retrained on Data-a', #[PCG7,ECG1]\n",
    "    'tags':[ 'CASS','p2.xlarge','transfer'],#,'RAdam'], \n",
    "\n",
    "    'data_balanced':True,    \n",
    "    \n",
    "    'pretrained': True, #\n",
    "    'modelload_pcg_dir':'/home/ubuntu/intelliscope/models/Experiment(PCG-22).h5', # 22 is a good one\n",
    "    'modelload_ecg_dir':'/home/ubuntu/intelliscope/models/Experiment(ECG-4).h5', #\n",
    "    'ecg_trainable':True,\n",
    "    'pcg_trainable':True,\n",
    "    \n",
    "    'is_features_normalized':False, \n",
    "    'Dilation_Rate':1,\n",
    "    \n",
    "    ##########################\n",
    "    \n",
    "    'augmentation':0,\n",
    "    #'opt':tfa.optimizers.RectifiedAdam(lr=1e-3),\n",
    "    'opt':tf.keras.optimizers.Adam(learning_rate=0.001, beta_1=0.9, beta_2=0.999, epsilon=1e-07),\n",
    "    'dropout':0.2,    \n",
    "    'num_epochs': 10,\n",
    "    \n",
    "    \n",
    "    'wavelet':'comb1',    \n",
    "    'batch_size':20,  \n",
    "    'validation_split':0.1,\n",
    "    'test_split': 0.2,\n",
    "    'dataset':'physionet2016a',\n",
    "    'pcg/ecg': 'pcg+ecg',\n",
    "    'pcg_dir':'/home/ubuntu/intelliscope/for_dataloaders/waveletcomb1/dataA/pcg/',  \n",
    "    'ecg_dir':'/home/ubuntu/intelliscope/for_dataloaders/waveletcomb1/dataA/ecg/', \n",
    "    'modelsave_dir':'/home/ubuntu/intelliscope/models',\n",
    "    }\n",
    "\n",
    "if PARAMS['data_balanced']==True:\n",
    "    PARAMS['pcg_dir']+='balanced'\n",
    "    PARAMS['ecg_dir']+='balanced'\n",
    "else:\n",
    "    PARAMS['pcg_dir']+='imbalanced'        \n",
    "    PARAMS['ecg_dir']+='imbalanced'        \n",
    "    "
   ]
  },
  {
   "cell_type": "code",
   "execution_count": 5,
   "metadata": {},
   "outputs": [
    {
     "name": "stdout",
     "output_type": "stream",
     "text": [
      "Model: \"model_2\"\n",
      "__________________________________________________________________________________________________\n",
      "Layer (type)                    Output Shape         Param #     Connected to                     \n",
      "==================================================================================================\n",
      "input_1 (InputLayer)            [(None, 272, 462, 3) 0                                            \n",
      "__________________________________________________________________________________________________\n",
      "input_2 (InputLayer)            [(None, 272, 462, 3) 0                                            \n",
      "__________________________________________________________________________________________________\n",
      "model (Model)                   (None, 84)           329540      input_1[0][0]                    \n",
      "__________________________________________________________________________________________________\n",
      "model_1 (Model)                 (None, 3840)         47360       input_2[0][0]                    \n",
      "__________________________________________________________________________________________________\n",
      "concatenate (Concatenate)       (None, 3924)         0           model[1][0]                      \n",
      "                                                                 model_1[1][0]                    \n",
      "__________________________________________________________________________________________________\n",
      "dropout (Dropout)               (None, 3924)         0           concatenate[0][0]                \n",
      "__________________________________________________________________________________________________\n",
      "dense (Dense)                   (None, 80)           314000      dropout[0][0]                    \n",
      "__________________________________________________________________________________________________\n",
      "dense_1 (Dense)                 (None, 20)           1620        dense[0][0]                      \n",
      "__________________________________________________________________________________________________\n",
      "dense_2 (Dense)                 (None, 2)            42          dense_1[0][0]                    \n",
      "==================================================================================================\n",
      "Total params: 692,562\n",
      "Trainable params: 692,562\n",
      "Non-trainable params: 0\n",
      "__________________________________________________________________________________________________\n"
     ]
    }
   ],
   "source": [
    "model = load_model(path)\n",
    "\n",
    "model.summary()"
   ]
  },
  {
   "cell_type": "code",
   "execution_count": 6,
   "metadata": {},
   "outputs": [
    {
     "name": "stdout",
     "output_type": "stream",
     "text": [
      "Total  388\n",
      "197 Images loaded across 2 Categories. Ignored blanks  0\n",
      "191 Images loaded across 2 Categories. Ignored blanks  16\n",
      "372 Total After removing blanks\n"
     ]
    }
   ],
   "source": [
    "X_test,Y_test = instead_data_loaders(PARAMS,'test')\n",
    "\n",
    "#X_test_pcg = X_test[:,:,:,0:3]/255.0\n",
    "#X_test_ecg = X_test[:,:,:,3:6]/255.0\n",
    "\n"
   ]
  },
  {
   "cell_type": "code",
   "execution_count": 7,
   "metadata": {},
   "outputs": [
    {
     "name": "stdout",
     "output_type": "stream",
     "text": [
      "372/372 [==============================] - 4s 10ms/sample\n",
      "              precision    recall  f1-score   support\n",
      "\n",
      "           0       0.85      0.92      0.88       197\n",
      "           1       0.90      0.82      0.86       175\n",
      "\n",
      "    accuracy                           0.87       372\n",
      "   macro avg       0.87      0.87      0.87       372\n",
      "weighted avg       0.87      0.87      0.87       372\n",
      "\n"
     ]
    }
   ],
   "source": [
    "y_pred = model.predict([X_test[:,:,:,0:3],X_test[:,:,:,3:6]], batch_size=X_test.shape[0], verbose=1)\n",
    "\n",
    "y_pred_bool = np.argmax(y_pred, axis=1)\n",
    "y_test=np.argmax(Y_test,axis=1)\n",
    "\n",
    "z = classification_report(y_test, y_pred_bool)\n",
    "print(z)"
   ]
  },
  {
   "cell_type": "code",
   "execution_count": 8,
   "metadata": {},
   "outputs": [
    {
     "name": "stdout",
     "output_type": "stream",
     "text": [
      "[[181  16]\n",
      " [ 32 143]]\n",
      "0.8562874251497006\n"
     ]
    }
   ],
   "source": [
    "from sklearn.metrics import confusion_matrix\n",
    "from sklearn.metrics import classification_report\n",
    "from sklearn.metrics import f1_score\n",
    "threshold = 0.5\n",
    "\n",
    "print(confusion_matrix(y_test, y_pred[:, 1] > threshold))\n",
    "print(f1_score(y_test, y_pred[:, 1] > threshold))\n",
    "#roc_auc_score(y_test, y_pred)\n",
    "\n"
   ]
  },
  {
   "cell_type": "code",
   "execution_count": 9,
   "metadata": {},
   "outputs": [],
   "source": [
    "import custom_metrics"
   ]
  },
  {
   "cell_type": "code",
   "execution_count": 10,
   "metadata": {},
   "outputs": [
    {
     "data": {
      "text/plain": [
       "{'accuracy': 0.8709677419354839,\n",
       " 'precision': 0.89937106918239,\n",
       " 'recall': 0.8171428571428572,\n",
       " 'f1_score': 0.8562874251497006,\n",
       " 'f2_score': 0.8323632130384169,\n",
       " 'matthews_corrcoef': 0.7425010702848471,\n",
       " 'cohen_kappa': 0.7397008659144582,\n",
       " 'true_positive_rate': 0.8171428571428572,\n",
       " 'true_negative_rate': 0.9187817258883249,\n",
       " 'positive_predictive_value': 0.89937106918239,\n",
       " 'negative_predictive_value': 0.8497652582159625,\n",
       " 'false_positive_rate': 0.08121827411167512,\n",
       " 'false_negative_rate': 0.18285714285714286,\n",
       " 'false_discovery_rate': 0.10062893081761007}"
      ]
     },
     "execution_count": 10,
     "metadata": {},
     "output_type": "execute_result"
    }
   ],
   "source": [
    "custom_metrics._class_metrics(y_test, y_pred[:, 1] > threshold)"
   ]
  },
  {
   "cell_type": "code",
   "execution_count": null,
   "metadata": {},
   "outputs": [],
   "source": []
  }
 ],
 "metadata": {
  "kernelspec": {
   "display_name": "Python 3",
   "language": "python",
   "name": "python3"
  },
  "language_info": {
   "codemirror_mode": {
    "name": "ipython",
    "version": 3
   },
   "file_extension": ".py",
   "mimetype": "text/x-python",
   "name": "python",
   "nbconvert_exporter": "python",
   "pygments_lexer": "ipython3",
   "version": "3.6.9"
  }
 },
 "nbformat": 4,
 "nbformat_minor": 4
}
