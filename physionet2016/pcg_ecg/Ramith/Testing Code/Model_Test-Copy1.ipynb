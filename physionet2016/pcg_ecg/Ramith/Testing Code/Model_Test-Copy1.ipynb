{
 "cells": [
  {
   "cell_type": "code",
   "execution_count": 1,
   "metadata": {},
   "outputs": [],
   "source": [
    "import sys\n",
    "sys.path.append(\"/home/ubuntu/intelliscope/modules\") # go to parent dir\n",
    "import tensorflow as tf\n",
    "import os\n",
    "import matplotlib.pyplot as plt\n",
    "import cv2\n",
    "import numpy as np\n",
    "import os\n",
    "from tensorflow import keras\n",
    "from tensorflow.keras.models import Sequential, load_model\n",
    "from tensorflow.keras.layers import Conv2D, MaxPooling2D\n",
    "from tensorflow.keras.layers import Activation, Dropout, Flatten, Dense, Lambda,BatchNormalization\n",
    "from tensorflow.keras import backend as K\n",
    "from tensorflow_addons.layers import InstanceNormalization\n",
    "import tensorflow_addons as tfa\n",
    "from tensorflow.keras.layers import Activation, Dropout, Flatten, Dense, Lambda\n",
    "from tensorflow.keras.preprocessing.image import ImageDataGenerator, array_to_img, img_to_array, load_img\n",
    "\n",
    "\n",
    "from intelliscope import instead_data_loaders\n",
    "from sklearn.metrics import classification_report\n",
    "import numpy as np\n",
    "from neptunecontrib.monitoring.metrics import *\n",
    "plt.style.use('seaborn')"
   ]
  },
  {
   "cell_type": "code",
   "execution_count": 2,
   "metadata": {},
   "outputs": [],
   "source": [
    "from tensorflow.keras.models import load_model\n",
    "\n",
    "\n",
    "basepath = '/home/ubuntu/intelliscope/models/'\n",
    "\n",
    "\n",
    "#Experiment(HYBIM-7).h5\n",
    "project       = 'HYBIM'\n",
    "model_number  = '7'\n",
    "path = basepath + 'Experiment(' + project + '-' + model_number + ').h5'"
   ]
  },
  {
   "cell_type": "code",
   "execution_count": 3,
   "metadata": {},
   "outputs": [
    {
     "name": "stdout",
     "output_type": "stream",
     "text": [
      "/home/ubuntu/intelliscope/models/Experiment(HYBIM-7).h5\n"
     ]
    }
   ],
   "source": [
    "print(path)"
   ]
  },
  {
   "cell_type": "code",
   "execution_count": 4,
   "metadata": {},
   "outputs": [],
   "source": [
    "PARAMS = {\n",
    "    'notebook_name':'hybrid01_imbalanced_pcg_path', \n",
    "    'name':'data_a + BALANCED => [P22]', #(P7E1) \n",
    "    'description':'PCG model retrained on Data-a', #[PCG7,ECG1]\n",
    "    'tags':[ 'CASS','p2.xlarge','transfer'],#,'RAdam'], \n",
    "\n",
    "    'data_balanced':False,    \n",
    "    \n",
    "    'pretrained': True, #\n",
    "    'modelload_pcg_dir':'/home/ubuntu/intelliscope/models/Experiment(PCG-22).h5', # 22 is a good one\n",
    "    'modelload_ecg_dir':'/home/ubuntu/intelliscope/models/Experiment(ECG-4).h5', #\n",
    "    'ecg_trainable':True,\n",
    "    'pcg_trainable':True,\n",
    "    \n",
    "    'is_features_normalized':False, \n",
    "    'Dilation_Rate':1,\n",
    "    \n",
    "    ##########################\n",
    "    \n",
    "    'augmentation':0,\n",
    "    #'opt':tfa.optimizers.RectifiedAdam(lr=1e-3),\n",
    "    'opt':tf.keras.optimizers.Adam(learning_rate=0.001, beta_1=0.9, beta_2=0.999, epsilon=1e-07),\n",
    "    'dropout':0.2,    \n",
    "    'num_epochs': 10,\n",
    "    \n",
    "    \n",
    "    'wavelet':'comb1',    \n",
    "    'batch_size':20,  \n",
    "    'validation_split':0.1,\n",
    "    'test_split': 0.2,\n",
    "    'dataset':'physionet2016a',\n",
    "    'pcg/ecg': 'pcg+ecg',\n",
    "    'pcg_dir':'/home/ubuntu/intelliscope/for_dataloaders/waveletcomb1/dataA/pcg/',  \n",
    "    'ecg_dir':'/home/ubuntu/intelliscope/for_dataloaders/waveletcomb1/dataA/ecg/', \n",
    "    'modelsave_dir':'/home/ubuntu/intelliscope/models',\n",
    "    }\n",
    "\n",
    "if PARAMS['data_balanced']==True:\n",
    "    PARAMS['pcg_dir']+='balanced'\n",
    "    PARAMS['ecg_dir']+='balanced'\n",
    "else:\n",
    "    PARAMS['pcg_dir']+='imbalanced'        \n",
    "    PARAMS['ecg_dir']+='imbalanced'        \n",
    "    "
   ]
  },
  {
   "cell_type": "code",
   "execution_count": 5,
   "metadata": {},
   "outputs": [
    {
     "name": "stdout",
     "output_type": "stream",
     "text": [
      "Model: \"model_2\"\n",
      "__________________________________________________________________________________________________\n",
      "Layer (type)                    Output Shape         Param #     Connected to                     \n",
      "==================================================================================================\n",
      "input_1 (InputLayer)            [(None, 272, 462, 3) 0                                            \n",
      "__________________________________________________________________________________________________\n",
      "input_2 (InputLayer)            [(None, 272, 462, 3) 0                                            \n",
      "__________________________________________________________________________________________________\n",
      "model (Model)                   (None, 84)           329540      input_1[0][0]                    \n",
      "__________________________________________________________________________________________________\n",
      "model_1 (Model)                 (None, 3840)         47360       input_2[0][0]                    \n",
      "__________________________________________________________________________________________________\n",
      "concatenate (Concatenate)       (None, 3924)         0           model[1][0]                      \n",
      "                                                                 model_1[1][0]                    \n",
      "__________________________________________________________________________________________________\n",
      "dropout (Dropout)               (None, 3924)         0           concatenate[0][0]                \n",
      "__________________________________________________________________________________________________\n",
      "dense (Dense)                   (None, 80)           314000      dropout[0][0]                    \n",
      "__________________________________________________________________________________________________\n",
      "dense_1 (Dense)                 (None, 20)           1620        dense[0][0]                      \n",
      "__________________________________________________________________________________________________\n",
      "dense_2 (Dense)                 (None, 2)            42          dense_1[0][0]                    \n",
      "==================================================================================================\n",
      "Total params: 692,562\n",
      "Trainable params: 692,562\n",
      "Non-trainable params: 0\n",
      "__________________________________________________________________________________________________\n"
     ]
    }
   ],
   "source": [
    "model = load_model(path)\n",
    "\n",
    "model.summary()"
   ]
  },
  {
   "cell_type": "code",
   "execution_count": 6,
   "metadata": {},
   "outputs": [
    {
     "data": {
      "text/plain": [
       "'/home/ubuntu/intelliscope/for_dataloaders/waveletcomb1/dataA/ecg/imbalanced'"
      ]
     },
     "execution_count": 6,
     "metadata": {},
     "output_type": "execute_result"
    }
   ],
   "source": [
    "PARAMS['ecg_dir']"
   ]
  },
  {
   "cell_type": "code",
   "execution_count": 7,
   "metadata": {},
   "outputs": [
    {
     "name": "stdout",
     "output_type": "stream",
     "text": [
      "Total  707\n",
      "199 Images loaded across 2 Categories. Ignored blanks  60\n",
      "508 Images loaded across 2 Categories. Ignored blanks  9\n",
      "638 Total After removing blanks\n"
     ]
    }
   ],
   "source": [
    "X_test,Y_test = instead_data_loaders(PARAMS,'test')\n",
    "\n",
    "X_test_pcg = X_test[:,:,:,0:3]/255.0\n",
    "X_test_ecg = X_test[:,:,:,3:6]/255.0\n",
    "\n"
   ]
  },
  {
   "cell_type": "code",
   "execution_count": 8,
   "metadata": {},
   "outputs": [
    {
     "name": "stdout",
     "output_type": "stream",
     "text": [
      "638/638 [==============================] - 3s 5ms/sample\n",
      "              precision    recall  f1-score   support\n",
      "\n",
      "           0       0.74      0.58      0.65       139\n",
      "           1       0.89      0.94      0.92       499\n",
      "\n",
      "    accuracy                           0.87       638\n",
      "   macro avg       0.82      0.76      0.78       638\n",
      "weighted avg       0.86      0.87      0.86       638\n",
      "\n"
     ]
    }
   ],
   "source": [
    "y_pred = model.predict([X_test_pcg,X_test_ecg], batch_size=X_test.shape[0], verbose=1)\n",
    "\n",
    "y_pred_bool = np.argmax(y_pred, axis=1)\n",
    "y_test=np.argmax(Y_test,axis=1)\n",
    "\n",
    "z = classification_report(y_test, y_pred_bool)\n",
    "print(z)"
   ]
  },
  {
   "cell_type": "code",
   "execution_count": 9,
   "metadata": {},
   "outputs": [
    {
     "name": "stdout",
     "output_type": "stream",
     "text": [
      "[[ 88  51]\n",
      " [ 33 466]]\n",
      "0.9173228346456693\n"
     ]
    }
   ],
   "source": [
    "from sklearn.metrics import confusion_matrix\n",
    "from sklearn.metrics import classification_report\n",
    "from sklearn.metrics import f1_score\n",
    "threshold = 0.666667\n",
    "\n",
    "print(confusion_matrix(y_test, y_pred[:, 1] > threshold))\n",
    "print(f1_score(y_test, y_pred[:, 1] > threshold))\n",
    "#roc_auc_score(y_test, y_pred) "
   ]
  },
  {
   "cell_type": "code",
   "execution_count": 10,
   "metadata": {},
   "outputs": [],
   "source": [
    "import custom_metrics"
   ]
  },
  {
   "cell_type": "code",
   "execution_count": 11,
   "metadata": {},
   "outputs": [
    {
     "data": {
      "text/plain": [
       "{'accuracy': 0.8683385579937304,\n",
       " 'precision': 0.9013539651837524,\n",
       " 'recall': 0.9338677354709419,\n",
       " 'f1_score': 0.9173228346456693,\n",
       " 'f2_score': 0.9271786709112616,\n",
       " 'matthews_corrcoef': 0.5969983099087193,\n",
       " 'cohen_kappa': 0.594742971219431,\n",
       " 'true_positive_rate': 0.9338677354709419,\n",
       " 'true_negative_rate': 0.6330935251798561,\n",
       " 'positive_predictive_value': 0.9013539651837524,\n",
       " 'negative_predictive_value': 0.7272727272727273,\n",
       " 'false_positive_rate': 0.3669064748201439,\n",
       " 'false_negative_rate': 0.06613226452905811,\n",
       " 'false_discovery_rate': 0.09864603481624758}"
      ]
     },
     "execution_count": 11,
     "metadata": {},
     "output_type": "execute_result"
    }
   ],
   "source": [
    "custom_metrics._class_metrics(y_test, y_pred[:, 1] > 0.666667)"
   ]
  },
  {
   "cell_type": "code",
   "execution_count": 12,
   "metadata": {},
   "outputs": [],
   "source": [
    "import numpy as np\n",
    "from sklearn.metrics import roc_curve\n",
    "from sklearn.metrics import roc_auc_score\n",
    "\n",
    "fpr, tpr, thresholds = roc_curve(y_test, y_pred[:, 1])\n",
    "\n",
    "roc_auc = roc_auc_score(y_test, y_pred[:, 1])"
   ]
  },
  {
   "cell_type": "code",
   "execution_count": 13,
   "metadata": {},
   "outputs": [
    {
     "data": {
      "text/plain": [
       "0.8893326220786897"
      ]
     },
     "execution_count": 13,
     "metadata": {},
     "output_type": "execute_result"
    }
   ],
   "source": [
    "roc_auc"
   ]
  },
  {
   "cell_type": "code",
   "execution_count": null,
   "metadata": {},
   "outputs": [],
   "source": []
  },
  {
   "cell_type": "code",
   "execution_count": 14,
   "metadata": {},
   "outputs": [
    {
     "data": {
      "text/plain": [
       "[<matplotlib.lines.Line2D at 0x7f7e900fd400>]"
      ]
     },
     "execution_count": 14,
     "metadata": {},
     "output_type": "execute_result"
    },
    {
     "data": {
      "image/png": "[encoded data removed]",
      "text/plain": [
       "<Figure size 576x396 with 1 Axes>"
      ]
     },
     "metadata": {},
     "output_type": "display_data"
    }
   ],
   "source": [
    "plt.plot(fpr,tpr)"
   ]
  },
  {
   "cell_type": "code",
   "execution_count": null,
   "metadata": {},
   "outputs": [],
   "source": []
  },
  {
   "cell_type": "code",
   "execution_count": null,
   "metadata": {},
   "outputs": [],
   "source": []
  }
 ],
 "metadata": {
  "kernelspec": {
   "display_name": "Python 3",
   "language": "python",
   "name": "python3"
  },
  "language_info": {
   "codemirror_mode": {
    "name": "ipython",
    "version": 3
   },
   "file_extension": ".py",
   "mimetype": "text/x-python",
   "name": "python",
   "nbconvert_exporter": "python",
   "pygments_lexer": "ipython3",
   "version": "3.6.9"
  }
 },
 "nbformat": 4,
 "nbformat_minor": 4
}
