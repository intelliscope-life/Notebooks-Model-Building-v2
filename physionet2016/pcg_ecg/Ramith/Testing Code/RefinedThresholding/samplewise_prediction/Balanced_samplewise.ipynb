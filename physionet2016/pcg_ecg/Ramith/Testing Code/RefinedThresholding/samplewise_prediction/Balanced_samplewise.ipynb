{
 "cells": [
  {
   "cell_type": "code",
   "execution_count": 1,
   "metadata": {},
   "outputs": [],
   "source": [
    "## some experiments gave rectifiedAdam not found error: Therefore run again if required\n",
    "PARAMS_COMMON={\n",
    "    'project_from':'HYBRID', #balanced\n",
    "    'project_to':'RefinedTreshold-Hybrid-Test',\n",
    "    'tags':['samplewise', 'balanced']\n",
    "}"
   ]
  },
  {
   "cell_type": "code",
   "execution_count": 2,
   "metadata": {},
   "outputs": [
    {
     "name": "stderr",
     "output_type": "stream",
     "text": [
      "WARNING: Instantiating Session without specifying a backend is deprecated and will be removed in future versions. For current behaviour use `neptune.init(...)` or `Session.with_default_backend(...)\n",
      "WARNING: There is a new version of neptune-client 0.4.125 (installed: 0.4.124).\n"
     ]
    }
   ],
   "source": [
    "import sys\n",
    "sys.path.append('/home/ubuntu/intelliscope/modules')\n",
    "sys.path.append('../..')\n",
    "\n",
    "\n",
    "#!pip install neptune-client\n",
    "import os\n",
    "import neptune\n",
    "\n",
    "import tensorflow as tf\n",
    "from tensorflow.keras.models import load_model\n",
    "\n",
    "import matplotlib.pyplot as plt\n",
    "import cv2\n",
    "import numpy as np\n",
    "from tensorflow import keras\n",
    "from tensorflow.keras.models import Sequential, load_model\n",
    "from tensorflow.keras.layers import Conv2D, MaxPooling2D\n",
    "from tensorflow.keras.layers import Activation, Dropout, Flatten, Dense, Lambda,BatchNormalization\n",
    "from tensorflow.keras import backend as K\n",
    "from tensorflow_addons.layers import InstanceNormalization\n",
    "import tensorflow_addons as tfa\n",
    "from tensorflow.keras.layers import Activation, Dropout, Flatten, Dense, Lambda\n",
    "from tensorflow.keras.preprocessing.image import ImageDataGenerator, array_to_img, img_to_array, load_img\n",
    "from tensorflow_addons.optimizers import RectifiedAdam\n",
    "\n",
    "\n",
    "from intelliscope import instead_data_loaders\n",
    "from sklearn.metrics import classification_report\n",
    "import numpy as np\n",
    "from neptunecontrib.monitoring.metrics import *\n",
    "from neptune.sessions import Session\n",
    "import custom_metrics\n",
    "\n",
    "\n",
    "NEPTUNE_API_TOKEN='eyJhcGlfYWRkcmVzcyI6Imh0dHBzOi8vdWkubmVwdHVuZS5haSIsImFwaV91cmwiOiJodHRwczovL3VpLm5lcHR1bmUuYWkiLCJhcGlfa2V5IjoiMzc1YTM5OGMtYTY3Ny00ZmM4LTg5ZGQtOGI2YTQ1YmZiMDkzIn0='\n",
    "session = Session(api_token=NEPTUNE_API_TOKEN)\n",
    "\n",
    "project = session.get_projects('intelliscope')['intelliscope/'+PARAMS_COMMON['project_from']]\n",
    "projects=project.get_experiments()\n",
    "\n",
    "\n",
    "\n",
    "def get_results(model=None, X_pcg=None, X_ecg=None, Y=None):    \n",
    "    y_pred = model.predict([X_pcg,X_ecg], batch_size=32, verbose=1)\n",
    "    y = np.argmax(Y,axis=1)\n",
    "    \n",
    "    return y, y_pred\n",
    "    \n",
    "\n",
    "\n",
    "def neptune_log_metrics(y_test=None, y_pred=None, threshold = 0.5):\n",
    "    log_confusion_matrix(y_test, y_pred[:, 1] > threshold)\n",
    "    log_classification_report(y_test, y_pred[:, 1] > threshold)\n",
    "    log_class_metrics(y_test, y_pred[:, 1] > threshold)\n",
    "    log_class_metrics_by_threshold(y_test, y_pred[:, 1])\n",
    "    log_brier_loss(y_test, y_pred[:, 1])\n",
    "    log_prediction_distribution(y_test, y_pred[:, 1])\n",
    "\n",
    "    log_log_loss(y_test, y_pred)\n",
    "    log_roc_auc(y_test, y_pred)\n",
    "    log_precision_recall_auc(y_test, y_pred)\n",
    "    log_ks_statistic(y_test, y_pred)\n",
    "    log_cumulative_gain(y_test, y_pred)\n",
    "    log_lift_curve(y_test, y_pred)\n",
    "    \n",
    "\n",
    "    "
   ]
  },
  {
   "cell_type": "code",
   "execution_count": 3,
   "metadata": {},
   "outputs": [
    {
     "name": "stdout",
     "output_type": "stream",
     "text": [
      "Total  194\n",
      "101 Images loaded across 2 Categories. Ignored blanks  0\n",
      "93 Images loaded across 2 Categories. Ignored blanks  0\n",
      "194 Total After removing blanks\n",
      "Total  388\n",
      "197 Images loaded across 2 Categories. Ignored blanks  0\n",
      "191 Images loaded across 2 Categories. Ignored blanks  16\n",
      "372 Total After removing blanks\n"
     ]
    }
   ],
   "source": [
    "project_name=PARAMS_COMMON['project_to']\n",
    "X_val,Y_val = instead_data_loaders(projects[0].get_parameters(),'val')\n",
    "X_test,Y_test = instead_data_loaders(projects[0].get_parameters(),'test')"
   ]
  },
  {
   "cell_type": "code",
   "execution_count": 4,
   "metadata": {},
   "outputs": [],
   "source": [
    "from sklearn.metrics import roc_curve\n",
    "from numpy import sqrt\n",
    "from numpy import argmax\n",
    "\n",
    "\n",
    "\n",
    "def get_optimal_thres(model, y_val, y_val_pred):\n",
    "    \n",
    "    y_val_pred_1=y_val_pred[:,1] \n",
    "    fpr, tpr, thresholds = roc_curve(y_val, y_val_pred_1)\n",
    "    gmeans = sqrt(tpr * (1-fpr))\n",
    "    ix = argmax(gmeans)\n",
    "    \n",
    "    print(f'\\nfpr : {fpr[ix]} , tpr : {tpr[ix]} , gmeans : {gmeans[ix]}')\n",
    "    return thresholds[ix]\n",
    "    "
   ]
  },
  {
   "cell_type": "code",
   "execution_count": 5,
   "metadata": {},
   "outputs": [
    {
     "name": "stdout",
     "output_type": "stream",
     "text": [
      "\n",
      "\n",
      " Experiment(HYBRID-1)\n",
      "194/194 [==============================] - 1s 4ms/sample\n",
      "\n",
      "fpr : 0.45544554455445546 , tpr : 0.3978494623655914 , gmeans : 0.46545751398790125\n",
      "optimal_threshold :  0.50952107 \n",
      "\n",
      "372/372 [==============================] - 1s 4ms/sample\n",
      "{'accuracy': 0.5698924731182796, 'precision': 0.5358851674641149, 'recall': 0.64, 'f1_score': 0.5833333333333334, 'f2_score': 0.6160616061606161, 'matthews_corrcoef': 0.1484955257047406, 'cohen_kappa': 0.14603001520847092, 'true_positive_rate': 0.64, 'true_negative_rate': 0.5076142131979695, 'positive_predictive_value': 0.5358851674641149, 'negative_predictive_value': 0.6134969325153374, 'false_positive_rate': 0.49238578680203043, 'false_negative_rate': 0.36, 'false_discovery_rate': 0.46411483253588515}\n"
     ]
    },
    {
     "name": "stderr",
     "output_type": "stream",
     "text": [
      "WARNING: There is a new version of neptune-client 0.4.125 (installed: 0.4.124).\n",
      "NVMLError: NVML Shared Library Not Found - GPU usage metrics may not be reported.\n"
     ]
    },
    {
     "name": "stdout",
     "output_type": "stream",
     "text": [
      "https://ui.neptune.ai/intelliscope/RefinedTreshold-Hybrid-Test/e/REF1-34\n",
      "\n",
      "\n",
      " Experiment(HYBRID-11)\n",
      "194/194 [==============================] - 1s 4ms/sample\n",
      "\n",
      "fpr : 0.25742574257425743 , tpr : 0.7526881720430108 , gmeans : 0.7476141119775483\n",
      "optimal_threshold :  0.5987696 \n",
      "\n",
      "372/372 [==============================] - 1s 4ms/sample\n",
      "{'accuracy': 0.75, 'precision': 0.75, 'recall': 0.7028571428571428, 'f1_score': 0.7256637168141593, 'f2_score': 0.7118055555555556, 'matthews_corrcoef': 0.4973606917750815, 'cohen_kappa': 0.496477848285498, 'true_positive_rate': 0.7028571428571428, 'true_negative_rate': 0.7918781725888325, 'positive_predictive_value': 0.75, 'negative_predictive_value': 0.75, 'false_positive_rate': 0.20812182741116753, 'false_negative_rate': 0.29714285714285715, 'false_discovery_rate': 0.25}\n"
     ]
    },
    {
     "name": "stderr",
     "output_type": "stream",
     "text": [
      "WARNING: There is a new version of neptune-client 0.4.125 (installed: 0.4.124).\n"
     ]
    },
    {
     "name": "stdout",
     "output_type": "stream",
     "text": [
      "https://ui.neptune.ai/intelliscope/RefinedTreshold-Hybrid-Test/e/REF1-35\n",
      "\n",
      "\n",
      " Experiment(HYBRID-12)\n",
      "194/194 [==============================] - 1s 4ms/sample\n",
      "\n",
      "fpr : 0.12871287128712872 , tpr : 0.7634408602150538 , gmeans : 0.8155833464697883\n",
      "optimal_threshold :  0.12357287 \n",
      "\n",
      "372/372 [==============================] - 1s 4ms/sample\n",
      "{'accuracy': 0.782258064516129, 'precision': 0.7582417582417582, 'recall': 0.7885714285714286, 'f1_score': 0.7731092436974789, 'f2_score': 0.782312925170068, 'matthews_corrcoef': 0.564362393045586, 'cohen_kappa': 0.5639615651771244, 'true_positive_rate': 0.7885714285714286, 'true_negative_rate': 0.7766497461928934, 'positive_predictive_value': 0.7582417582417582, 'negative_predictive_value': 0.8052631578947368, 'false_positive_rate': 0.2233502538071066, 'false_negative_rate': 0.21142857142857144, 'false_discovery_rate': 0.24175824175824176}\n"
     ]
    },
    {
     "name": "stderr",
     "output_type": "stream",
     "text": [
      "WARNING: There is a new version of neptune-client 0.4.125 (installed: 0.4.124).\n"
     ]
    },
    {
     "name": "stdout",
     "output_type": "stream",
     "text": [
      "https://ui.neptune.ai/intelliscope/RefinedTreshold-Hybrid-Test/e/REF1-36\n",
      "\n",
      "\n",
      " Experiment(HYBRID-13)\n",
      "194/194 [==============================] - 1s 4ms/sample\n",
      "\n",
      "fpr : 0.22772277227722773 , tpr : 0.8064516129032258 , gmeans : 0.7891794573514072\n",
      "optimal_threshold :  0.4914377 \n",
      "\n",
      "372/372 [==============================] - 1s 4ms/sample\n",
      "{'accuracy': 0.7365591397849462, 'precision': 0.6824644549763034, 'recall': 0.8228571428571428, 'f1_score': 0.7461139896373058, 'f2_score': 0.7903402854006586, 'matthews_corrcoef': 0.4863235606376831, 'cohen_kappa': 0.47727337902555134, 'true_positive_rate': 0.8228571428571428, 'true_negative_rate': 0.6598984771573604, 'positive_predictive_value': 0.6824644549763034, 'negative_predictive_value': 0.8074534161490683, 'false_positive_rate': 0.3401015228426396, 'false_negative_rate': 0.17714285714285713, 'false_discovery_rate': 0.3175355450236967}\n"
     ]
    },
    {
     "name": "stderr",
     "output_type": "stream",
     "text": [
      "WARNING: There is a new version of neptune-client 0.4.125 (installed: 0.4.124).\n",
      "NVMLError: NVML Shared Library Not Found - GPU usage metrics may not be reported.\n"
     ]
    },
    {
     "name": "stdout",
     "output_type": "stream",
     "text": [
      "https://ui.neptune.ai/intelliscope/RefinedTreshold-Hybrid-Test/e/REF1-37\n",
      "\n",
      "\n",
      " Experiment(HYBRID-14)\n",
      "194/194 [==============================] - 1s 4ms/sample\n",
      "\n",
      "fpr : 0.26732673267326734 , tpr : 0.7526881720430108 , gmeans : 0.7426132925614372\n",
      "optimal_threshold :  0.2607277 \n",
      "\n",
      "372/372 [==============================] - 1s 4ms/sample\n",
      "{'accuracy': 0.7688172043010753, 'precision': 0.7664670658682635, 'recall': 0.7314285714285714, 'f1_score': 0.7485380116959065, 'f2_score': 0.7381776239907728, 'matthews_corrcoef': 0.5353256350459878, 'cohen_kappa': 0.5348242068223457, 'true_positive_rate': 0.7314285714285714, 'true_negative_rate': 0.8020304568527918, 'positive_predictive_value': 0.7664670658682635, 'negative_predictive_value': 0.7707317073170732, 'false_positive_rate': 0.19796954314720813, 'false_negative_rate': 0.26857142857142857, 'false_discovery_rate': 0.23353293413173654}\n"
     ]
    },
    {
     "name": "stderr",
     "output_type": "stream",
     "text": [
      "WARNING: There is a new version of neptune-client 0.4.125 (installed: 0.4.124).\n"
     ]
    },
    {
     "name": "stdout",
     "output_type": "stream",
     "text": [
      "https://ui.neptune.ai/intelliscope/RefinedTreshold-Hybrid-Test/e/REF1-38\n",
      "\n",
      "\n",
      " Experiment(HYBRID-15)\n",
      "194/194 [==============================] - 1s 4ms/sample\n",
      "\n",
      "fpr : 0.22772277227722773 , tpr : 0.7849462365591398 , gmeans : 0.7785859640921585\n",
      "optimal_threshold :  0.78340507 \n",
      "\n",
      "372/372 [==============================] - 1s 4ms/sample\n",
      "{'accuracy': 0.728494623655914, 'precision': 0.7126436781609196, 'recall': 0.7085714285714285, 'f1_score': 0.7106017191977078, 'f2_score': 0.7093821510297482, 'matthews_corrcoef': 0.4549160959521229, 'cohen_kappa': 0.4549094707520891, 'true_positive_rate': 0.7085714285714285, 'true_negative_rate': 0.7461928934010152, 'positive_predictive_value': 0.7126436781609196, 'negative_predictive_value': 0.7424242424242424, 'false_positive_rate': 0.25380710659898476, 'false_negative_rate': 0.2914285714285714, 'false_discovery_rate': 0.28735632183908044}\n"
     ]
    },
    {
     "name": "stderr",
     "output_type": "stream",
     "text": [
      "WARNING: There is a new version of neptune-client 0.4.125 (installed: 0.4.124).\n",
      "NVMLError: NVML Shared Library Not Found - GPU usage metrics may not be reported.\n"
     ]
    },
    {
     "name": "stdout",
     "output_type": "stream",
     "text": [
      "https://ui.neptune.ai/intelliscope/RefinedTreshold-Hybrid-Test/e/REF1-39\n",
      "\n",
      "\n",
      " Experiment(HYBRID-16)\n",
      "194/194 [==============================] - 1s 4ms/sample\n",
      "\n",
      "fpr : 0.3564356435643564 , tpr : 0.7634408602150538 , gmeans : 0.70094459544316\n",
      "optimal_threshold :  0.530886 \n",
      "\n",
      "372/372 [==============================] - 1s 4ms/sample\n",
      "{'accuracy': 0.7150537634408602, 'precision': 0.6949152542372882, 'recall': 0.7028571428571428, 'f1_score': 0.6988636363636365, 'f2_score': 0.701254275940707, 'matthews_corrcoef': 0.42849695562836904, 'cohen_kappa': 0.4284720410470476, 'true_positive_rate': 0.7028571428571428, 'true_negative_rate': 0.7258883248730964, 'positive_predictive_value': 0.6949152542372882, 'negative_predictive_value': 0.7333333333333333, 'false_positive_rate': 0.27411167512690354, 'false_negative_rate': 0.29714285714285715, 'false_discovery_rate': 0.3050847457627119}\n"
     ]
    },
    {
     "name": "stderr",
     "output_type": "stream",
     "text": [
      "WARNING: There is a new version of neptune-client 0.4.125 (installed: 0.4.124).\n"
     ]
    },
    {
     "name": "stdout",
     "output_type": "stream",
     "text": [
      "https://ui.neptune.ai/intelliscope/RefinedTreshold-Hybrid-Test/e/REF1-40\n",
      "\n",
      "\n",
      " Experiment(HYBRID-17)\n",
      "194/194 [==============================] - 1s 4ms/sample\n",
      "\n",
      "fpr : 0.12871287128712872 , tpr : 0.6129032258064516 , gmeans : 0.7307630886900076\n",
      "optimal_threshold :  0.9721991 \n",
      "\n",
      "372/372 [==============================] - 1s 4ms/sample\n",
      "{'accuracy': 0.706989247311828, 'precision': 0.7291666666666666, 'recall': 0.6, 'f1_score': 0.658307210031348, 'f2_score': 0.622037914691943, 'matthews_corrcoef': 0.4119669946756786, 'cohen_kappa': 0.4060467568992794, 'true_positive_rate': 0.6, 'true_negative_rate': 0.8020304568527918, 'positive_predictive_value': 0.7291666666666666, 'negative_predictive_value': 0.6929824561403509, 'false_positive_rate': 0.19796954314720813, 'false_negative_rate': 0.4, 'false_discovery_rate': 0.2708333333333333}\n"
     ]
    },
    {
     "name": "stderr",
     "output_type": "stream",
     "text": [
      "WARNING: There is a new version of neptune-client 0.4.125 (installed: 0.4.124).\n",
      "NVMLError: NVML Shared Library Not Found - GPU usage metrics may not be reported.\n"
     ]
    },
    {
     "name": "stdout",
     "output_type": "stream",
     "text": [
      "https://ui.neptune.ai/intelliscope/RefinedTreshold-Hybrid-Test/e/REF1-41\n",
      "\n",
      "\n",
      " Experiment(HYBRID-18)\n",
      "194/194 [==============================] - 1s 4ms/sample\n",
      "\n",
      "fpr : 0.26732673267326734 , tpr : 0.8602150537634409 , gmeans : 0.7938870033225769\n",
      "optimal_threshold :  0.28701395 \n",
      "\n",
      "372/372 [==============================] - 1s 4ms/sample\n",
      "{'accuracy': 0.7204301075268817, 'precision': 0.6898395721925134, 'recall': 0.7371428571428571, 'f1_score': 0.712707182320442, 'f2_score': 0.7271702367531003, 'matthews_corrcoef': 0.44195810150084786, 'cohen_kappa': 0.4410379403010951, 'true_positive_rate': 0.7371428571428571, 'true_negative_rate': 0.7055837563451777, 'positive_predictive_value': 0.6898395721925134, 'negative_predictive_value': 0.7513513513513513, 'false_positive_rate': 0.29441624365482233, 'false_negative_rate': 0.26285714285714284, 'false_discovery_rate': 0.31016042780748665}\n"
     ]
    },
    {
     "name": "stderr",
     "output_type": "stream",
     "text": [
      "WARNING: There is a new version of neptune-client 0.4.125 (installed: 0.4.124).\n"
     ]
    },
    {
     "name": "stdout",
     "output_type": "stream",
     "text": [
      "https://ui.neptune.ai/intelliscope/RefinedTreshold-Hybrid-Test/e/REF1-42\n",
      "\n",
      "\n",
      " Experiment(HYBRID-19)\n",
      "194/194 [==============================] - 1s 4ms/sample\n",
      "\n",
      "fpr : 0.18811881188118812 , tpr : 0.7096774193548387 , gmeans : 0.7590610953058382\n",
      "optimal_threshold :  0.39492393 \n",
      "\n",
      "372/372 [==============================] - 1s 4ms/sample\n",
      "{'accuracy': 0.7419354838709677, 'precision': 0.7484276729559748, 'recall': 0.68, 'f1_score': 0.7125748502994012, 'f2_score': 0.6926658905704308, 'matthews_corrcoef': 0.4812165503406937, 'cohen_kappa': 0.4794017318289163, 'true_positive_rate': 0.68, 'true_negative_rate': 0.7969543147208121, 'positive_predictive_value': 0.7484276729559748, 'negative_predictive_value': 0.7370892018779343, 'false_positive_rate': 0.20304568527918782, 'false_negative_rate': 0.32, 'false_discovery_rate': 0.25157232704402516}\n"
     ]
    },
    {
     "name": "stderr",
     "output_type": "stream",
     "text": [
      "WARNING: There is a new version of neptune-client 0.4.125 (installed: 0.4.124).\n",
      "NVMLError: NVML Shared Library Not Found - GPU usage metrics may not be reported.\n"
     ]
    },
    {
     "name": "stdout",
     "output_type": "stream",
     "text": [
      "https://ui.neptune.ai/intelliscope/RefinedTreshold-Hybrid-Test/e/REF1-43\n",
      "\n",
      "\n",
      " Experiment(HYBRID-20)\n",
      "194/194 [==============================] - 1s 4ms/sample\n",
      "\n",
      "fpr : 0.13861386138613863 , tpr : 0.8172043010752689 , gmeans : 0.839004444184812\n",
      "optimal_threshold :  0.63557464 \n",
      "\n",
      "372/372 [==============================] - 1s 4ms/sample\n",
      "{'accuracy': 0.7419354838709677, 'precision': 0.7365269461077845, 'recall': 0.7028571428571428, 'f1_score': 0.7192982456140351, 'f2_score': 0.7093425605536332, 'matthews_corrcoef': 0.4811847138788116, 'cohen_kappa': 0.4807339983133161, 'true_positive_rate': 0.7028571428571428, 'true_negative_rate': 0.7766497461928934, 'positive_predictive_value': 0.7365269461077845, 'negative_predictive_value': 0.7463414634146341, 'false_positive_rate': 0.2233502538071066, 'false_negative_rate': 0.29714285714285715, 'false_discovery_rate': 0.2634730538922156}\n"
     ]
    },
    {
     "name": "stderr",
     "output_type": "stream",
     "text": [
      "WARNING: There is a new version of neptune-client 0.4.125 (installed: 0.4.124).\n"
     ]
    },
    {
     "name": "stdout",
     "output_type": "stream",
     "text": [
      "https://ui.neptune.ai/intelliscope/RefinedTreshold-Hybrid-Test/e/REF1-44\n",
      "\n",
      "\n",
      " Experiment(HYBRID-21)\n",
      "194/194 [==============================] - 1s 4ms/sample\n",
      "\n",
      "fpr : 0.25742574257425743 , tpr : 0.6989247311827957 , gmeans : 0.7204189845184199\n",
      "optimal_threshold :  0.7467863 \n",
      "\n",
      "372/372 [==============================] - 1s 4ms/sample\n",
      "{'accuracy': 0.7338709677419355, 'precision': 0.7533333333333333, 'recall': 0.6457142857142857, 'f1_score': 0.6953846153846154, 'f2_score': 0.6647058823529413, 'matthews_corrcoef': 0.4659055074889661, 'cohen_kappa': 0.4615789473684211, 'true_positive_rate': 0.6457142857142857, 'true_negative_rate': 0.8121827411167513, 'positive_predictive_value': 0.7533333333333333, 'negative_predictive_value': 0.7207207207207207, 'false_positive_rate': 0.18781725888324874, 'false_negative_rate': 0.35428571428571426, 'false_discovery_rate': 0.24666666666666667}\n"
     ]
    },
    {
     "name": "stderr",
     "output_type": "stream",
     "text": [
      "WARNING: There is a new version of neptune-client 0.4.125 (installed: 0.4.124).\n"
     ]
    },
    {
     "name": "stdout",
     "output_type": "stream",
     "text": [
      "https://ui.neptune.ai/intelliscope/RefinedTreshold-Hybrid-Test/e/REF1-45\n",
      "\n",
      "\n",
      " Experiment(HYBRID-22)\n",
      "194/194 [==============================] - 1s 4ms/sample\n",
      "\n",
      "fpr : 0.2079207920792079 , tpr : 0.9139784946236559 , gmeans : 0.8508486129025206\n",
      "optimal_threshold :  0.12769908 \n",
      "\n",
      "372/372 [==============================] - 1s 4ms/sample\n",
      "{'accuracy': 0.728494623655914, 'precision': 0.7010869565217391, 'recall': 0.7371428571428571, 'f1_score': 0.7186629526462396, 'f2_score': 0.7296380090497737, 'matthews_corrcoef': 0.45717991669392705, 'cohen_kappa': 0.45664372071498815, 'true_positive_rate': 0.7371428571428571, 'true_negative_rate': 0.7208121827411168, 'positive_predictive_value': 0.7010869565217391, 'negative_predictive_value': 0.7553191489361702, 'false_positive_rate': 0.27918781725888325, 'false_negative_rate': 0.26285714285714284, 'false_discovery_rate': 0.29891304347826086}\n"
     ]
    },
    {
     "name": "stderr",
     "output_type": "stream",
     "text": [
      "WARNING: There is a new version of neptune-client 0.4.125 (installed: 0.4.124).\n",
      "NVMLError: NVML Shared Library Not Found - GPU usage metrics may not be reported.\n"
     ]
    },
    {
     "name": "stdout",
     "output_type": "stream",
     "text": [
      "https://ui.neptune.ai/intelliscope/RefinedTreshold-Hybrid-Test/e/REF1-46\n",
      "\n",
      "\n",
      " Experiment(HYBRID-23)\n",
      "194/194 [==============================] - 1s 4ms/sample\n",
      "\n",
      "fpr : 0.16831683168316833 , tpr : 0.6881720430107527 , gmeans : 0.7565322895146313\n",
      "optimal_threshold :  0.6851494 \n",
      "\n",
      "372/372 [==============================] - 1s 4ms/sample\n",
      "{'accuracy': 0.6935483870967742, 'precision': 0.7019867549668874, 'recall': 0.6057142857142858, 'f1_score': 0.6503067484662577, 'f2_score': 0.6227967097532315, 'matthews_corrcoef': 0.3834779458335219, 'cohen_kappa': 0.3801993510859081, 'true_positive_rate': 0.6057142857142858, 'true_negative_rate': 0.7715736040609137, 'positive_predictive_value': 0.7019867549668874, 'negative_predictive_value': 0.6877828054298643, 'false_positive_rate': 0.22842639593908629, 'false_negative_rate': 0.3942857142857143, 'false_discovery_rate': 0.2980132450331126}\n"
     ]
    },
    {
     "name": "stderr",
     "output_type": "stream",
     "text": [
      "WARNING: There is a new version of neptune-client 0.4.125 (installed: 0.4.124).\n"
     ]
    },
    {
     "name": "stdout",
     "output_type": "stream",
     "text": [
      "https://ui.neptune.ai/intelliscope/RefinedTreshold-Hybrid-Test/e/REF1-47\n",
      "\n",
      "\n",
      " Experiment(HYBRID-24)\n",
      "194/194 [==============================] - 1s 4ms/sample\n",
      "\n",
      "fpr : 0.09900990099009901 , tpr : 0.7311827956989247 , gmeans : 0.8116578463189464\n",
      "optimal_threshold :  0.32086658 \n",
      "\n",
      "372/372 [==============================] - 1s 4ms/sample\n",
      "{'accuracy': 0.728494623655914, 'precision': 0.7681159420289855, 'recall': 0.6057142857142858, 'f1_score': 0.6773162939297125, 'f2_score': 0.6324582338902148, 'matthews_corrcoef': 0.458015932946297, 'cohen_kappa': 0.4485734413525889, 'true_positive_rate': 0.6057142857142858, 'true_negative_rate': 0.8375634517766497, 'positive_predictive_value': 0.7681159420289855, 'negative_predictive_value': 0.7051282051282052, 'false_positive_rate': 0.16243654822335024, 'false_negative_rate': 0.3942857142857143, 'false_discovery_rate': 0.2318840579710145}\n"
     ]
    },
    {
     "name": "stderr",
     "output_type": "stream",
     "text": [
      "WARNING: There is a new version of neptune-client 0.4.125 (installed: 0.4.124).\n",
      "NVMLError: NVML Shared Library Not Found - GPU usage metrics may not be reported.\n"
     ]
    },
    {
     "name": "stdout",
     "output_type": "stream",
     "text": [
      "https://ui.neptune.ai/intelliscope/RefinedTreshold-Hybrid-Test/e/REF1-48\n",
      "\n",
      "\n",
      " Experiment(HYBRID-25)\n",
      "194/194 [==============================] - 1s 5ms/sample\n",
      "\n",
      "fpr : 0.16831683168316833 , tpr : 0.7526881720430108 , gmeans : 0.7912004067739953\n",
      "optimal_threshold :  0.52665514 \n",
      "\n",
      "372/372 [==============================] - 1s 4ms/sample\n",
      "{'accuracy': 0.7446236559139785, 'precision': 0.7197802197802198, 'recall': 0.7485714285714286, 'f1_score': 0.7338935574229691, 'f2_score': 0.7426303854875284, 'matthews_corrcoef': 0.4889441609050386, 'cohen_kappa': 0.4885968974299606, 'true_positive_rate': 0.7485714285714286, 'true_negative_rate': 0.7411167512690355, 'positive_predictive_value': 0.7197802197802198, 'negative_predictive_value': 0.7684210526315789, 'false_positive_rate': 0.25888324873096447, 'false_negative_rate': 0.25142857142857145, 'false_discovery_rate': 0.2802197802197802}\n"
     ]
    },
    {
     "name": "stderr",
     "output_type": "stream",
     "text": [
      "WARNING: There is a new version of neptune-client 0.4.125 (installed: 0.4.124).\n"
     ]
    },
    {
     "name": "stdout",
     "output_type": "stream",
     "text": [
      "https://ui.neptune.ai/intelliscope/RefinedTreshold-Hybrid-Test/e/REF1-49\n",
      "\n",
      "\n",
      " Experiment(HYBRID-26)\n",
      "194/194 [==============================] - 1s 4ms/sample\n",
      "\n",
      "fpr : 0.15841584158415842 , tpr : 0.6129032258064516 , gmeans : 0.718198889918856\n",
      "optimal_threshold :  0.8065016 \n",
      "\n",
      "372/372 [==============================] - 1s 4ms/sample\n",
      "{'accuracy': 0.7446236559139785, 'precision': 0.8508771929824561, 'recall': 0.5542857142857143, 'f1_score': 0.671280276816609, 'f2_score': 0.5958230958230959, 'matthews_corrcoef': 0.5066728537722482, 'cohen_kappa': 0.47728079517216904, 'true_positive_rate': 0.5542857142857143, 'true_negative_rate': 0.9137055837563451, 'positive_predictive_value': 0.8508771929824561, 'negative_predictive_value': 0.6976744186046512, 'false_positive_rate': 0.08629441624365482, 'false_negative_rate': 0.44571428571428573, 'false_discovery_rate': 0.14912280701754385}\n"
     ]
    },
    {
     "name": "stderr",
     "output_type": "stream",
     "text": [
      "WARNING: There is a new version of neptune-client 0.4.125 (installed: 0.4.124).\n",
      "NVMLError: NVML Shared Library Not Found - GPU usage metrics may not be reported.\n"
     ]
    },
    {
     "name": "stdout",
     "output_type": "stream",
     "text": [
      "https://ui.neptune.ai/intelliscope/RefinedTreshold-Hybrid-Test/e/REF1-50\n",
      "\n",
      "\n",
      " Experiment(HYBRID-27)\n",
      "194/194 [==============================] - 1s 4ms/sample\n",
      "\n",
      "fpr : 0.1782178217821782 , tpr : 0.9247311827956989 , gmeans : 0.8717382667198866\n",
      "optimal_threshold :  0.475403 \n",
      "\n",
      "372/372 [==============================] - 1s 4ms/sample\n",
      "{'accuracy': 0.7419354838709677, 'precision': 0.7283236994219653, 'recall': 0.72, 'f1_score': 0.7241379310344828, 'f2_score': 0.7216494845360825, 'matthews_corrcoef': 0.4817568148193837, 'cohen_kappa': 0.48172873189562593, 'true_positive_rate': 0.72, 'true_negative_rate': 0.7614213197969543, 'positive_predictive_value': 0.7283236994219653, 'negative_predictive_value': 0.7537688442211056, 'false_positive_rate': 0.23857868020304568, 'false_negative_rate': 0.28, 'false_discovery_rate': 0.27167630057803466}\n"
     ]
    },
    {
     "name": "stderr",
     "output_type": "stream",
     "text": [
      "WARNING: There is a new version of neptune-client 0.4.125 (installed: 0.4.124).\n"
     ]
    },
    {
     "name": "stdout",
     "output_type": "stream",
     "text": [
      "https://ui.neptune.ai/intelliscope/RefinedTreshold-Hybrid-Test/e/REF1-51\n",
      "\n",
      "\n",
      " Experiment(HYBRID-28)\n",
      "WARNING:tensorflow:Large dropout rate: 0.6 (>0.5). In TensorFlow 2.x, dropout() uses dropout rate instead of keep_prob. Please ensure that this is intended.\n",
      "194/194 [==============================] - 1s 4ms/sample\n",
      "\n",
      "fpr : 0.13861386138613863 , tpr : 0.8709677419354839 , gmeans : 0.8661636912749463\n",
      "optimal_threshold :  0.24418606 \n",
      "\n",
      "372/372 [==============================] - 1s 4ms/sample\n",
      "{'accuracy': 0.8145161290322581, 'precision': 0.7944444444444444, 'recall': 0.8171428571428572, 'f1_score': 0.8056338028169014, 'f2_score': 0.8125, 'matthews_corrcoef': 0.6285512115763421, 'cohen_kappa': 0.6283231972198089, 'true_positive_rate': 0.8171428571428572, 'true_negative_rate': 0.8121827411167513, 'positive_predictive_value': 0.7944444444444444, 'negative_predictive_value': 0.8333333333333334, 'false_positive_rate': 0.18781725888324874, 'false_negative_rate': 0.18285714285714286, 'false_discovery_rate': 0.20555555555555555}\n"
     ]
    },
    {
     "name": "stderr",
     "output_type": "stream",
     "text": [
      "WARNING: There is a new version of neptune-client 0.4.125 (installed: 0.4.124).\n",
      "NVMLError: NVML Shared Library Not Found - GPU usage metrics may not be reported.\n"
     ]
    },
    {
     "name": "stdout",
     "output_type": "stream",
     "text": [
      "https://ui.neptune.ai/intelliscope/RefinedTreshold-Hybrid-Test/e/REF1-52\n",
      "\n",
      "\n",
      " Experiment(HYBRID-29)\n",
      "194/194 [==============================] - 1s 4ms/sample\n",
      "\n",
      "fpr : 0.19801980198019803 , tpr : 0.7741935483870968 , gmeans : 0.7879643997295418\n",
      "optimal_threshold :  0.5357406 \n",
      "\n",
      "372/372 [==============================] - 1s 4ms/sample\n",
      "{'accuracy': 0.7204301075268817, 'precision': 0.7100591715976331, 'recall': 0.6857142857142857, 'f1_score': 0.6976744186046512, 'f2_score': 0.6904487917146146, 'matthews_corrcoef': 0.43805195945502956, 'cohen_kappa': 0.4378215001889041, 'true_positive_rate': 0.6857142857142857, 'true_negative_rate': 0.751269035532995, 'positive_predictive_value': 0.7100591715976331, 'negative_predictive_value': 0.729064039408867, 'false_positive_rate': 0.24873096446700507, 'false_negative_rate': 0.3142857142857143, 'false_discovery_rate': 0.28994082840236685}\n"
     ]
    },
    {
     "name": "stderr",
     "output_type": "stream",
     "text": [
      "WARNING: There is a new version of neptune-client 0.4.125 (installed: 0.4.124).\n"
     ]
    },
    {
     "name": "stdout",
     "output_type": "stream",
     "text": [
      "https://ui.neptune.ai/intelliscope/RefinedTreshold-Hybrid-Test/e/REF1-53\n",
      "\n",
      "\n",
      " Experiment(HYBRID-30)\n",
      "194/194 [==============================] - 1s 4ms/sample\n",
      "\n",
      "fpr : 0.3069306930693069 , tpr : 0.7526881720430108 , gmeans : 0.7222638504956341\n",
      "optimal_threshold :  0.99999666 \n",
      "\n",
      "372/372 [==============================] - 1s 4ms/sample\n",
      "{'accuracy': 0.7150537634408602, 'precision': 0.7065868263473054, 'recall': 0.6742857142857143, 'f1_score': 0.6900584795321637, 'f2_score': 0.6805074971164936, 'matthews_corrcoef': 0.42704379271163545, 'cohen_kappa': 0.4266437898042865, 'true_positive_rate': 0.6742857142857143, 'true_negative_rate': 0.751269035532995, 'positive_predictive_value': 0.7065868263473054, 'negative_predictive_value': 0.7219512195121951, 'false_positive_rate': 0.24873096446700507, 'false_negative_rate': 0.32571428571428573, 'false_discovery_rate': 0.2934131736526946}\n"
     ]
    },
    {
     "name": "stderr",
     "output_type": "stream",
     "text": [
      "WARNING: There is a new version of neptune-client 0.4.125 (installed: 0.4.124).\n",
      "NVMLError: NVML Shared Library Not Found - GPU usage metrics may not be reported.\n"
     ]
    },
    {
     "name": "stdout",
     "output_type": "stream",
     "text": [
      "https://ui.neptune.ai/intelliscope/RefinedTreshold-Hybrid-Test/e/REF1-54\n",
      "\n",
      "\n",
      " Experiment(HYBRID-31)\n"
     ]
    },
    {
     "ename": "ValueError",
     "evalue": "Unknown optimizer: RectifiedAdam",
     "output_type": "error",
     "traceback": [
      "\u001b[0;31m---------------------------------------------------------------------------\u001b[0m",
      "\u001b[0;31mValueError\u001b[0m                                Traceback (most recent call last)",
      "\u001b[0;32m<ipython-input-5-19345a70352a>\u001b[0m in \u001b[0;36m<module>\u001b[0;34m\u001b[0m\n\u001b[1;32m     14\u001b[0m     \u001b[0mPARAMS\u001b[0m\u001b[0;34m[\u001b[0m\u001b[0;34m'tags'\u001b[0m\u001b[0;34m]\u001b[0m\u001b[0;34m=\u001b[0m\u001b[0mPARAMS\u001b[0m\u001b[0;34m[\u001b[0m\u001b[0;34m'tags'\u001b[0m\u001b[0;34m]\u001b[0m\u001b[0;34m[\u001b[0m\u001b[0;36m2\u001b[0m\u001b[0;34m:\u001b[0m\u001b[0;34m-\u001b[0m\u001b[0;36m2\u001b[0m\u001b[0;34m]\u001b[0m\u001b[0;34m.\u001b[0m\u001b[0mstrip\u001b[0m\u001b[0;34m(\u001b[0m\u001b[0;34m)\u001b[0m\u001b[0;34m.\u001b[0m\u001b[0msplit\u001b[0m\u001b[0;34m(\u001b[0m\u001b[0;34m\"', '\"\u001b[0m\u001b[0;34m)\u001b[0m\u001b[0;34m+\u001b[0m\u001b[0mPARAMS_COMMON\u001b[0m\u001b[0;34m[\u001b[0m\u001b[0;34m'tags'\u001b[0m\u001b[0;34m]\u001b[0m\u001b[0;34m\u001b[0m\u001b[0;34m\u001b[0m\u001b[0m\n\u001b[1;32m     15\u001b[0m \u001b[0;34m\u001b[0m\u001b[0m\n\u001b[0;32m---> 16\u001b[0;31m     \u001b[0mmodel\u001b[0m \u001b[0;34m=\u001b[0m \u001b[0mload_model\u001b[0m\u001b[0;34m(\u001b[0m\u001b[0mPARAMS\u001b[0m\u001b[0;34m[\u001b[0m\u001b[0;34m'modelsave_dir'\u001b[0m\u001b[0;34m]\u001b[0m\u001b[0;34m+\u001b[0m\u001b[0;34m'/'\u001b[0m\u001b[0;34m+\u001b[0m\u001b[0mmodel_name\u001b[0m\u001b[0;34m)\u001b[0m\u001b[0;34m\u001b[0m\u001b[0;34m\u001b[0m\u001b[0m\n\u001b[0m\u001b[1;32m     17\u001b[0m \u001b[0;34m\u001b[0m\u001b[0m\n\u001b[1;32m     18\u001b[0m     \u001b[0my_val\u001b[0m\u001b[0;34m,\u001b[0m \u001b[0my_val_pred\u001b[0m\u001b[0;34m=\u001b[0m\u001b[0mget_results\u001b[0m\u001b[0;34m(\u001b[0m\u001b[0mmodel\u001b[0m\u001b[0;34m,\u001b[0m \u001b[0mX_val_pcg\u001b[0m\u001b[0;34m,\u001b[0m \u001b[0mX_val_ecg\u001b[0m\u001b[0;34m,\u001b[0m \u001b[0mY_val\u001b[0m\u001b[0;34m)\u001b[0m\u001b[0;34m\u001b[0m\u001b[0;34m\u001b[0m\u001b[0m\n",
      "\u001b[0;32m~/core-env/lib/python3.6/site-packages/tensorflow_core/python/keras/saving/save.py\u001b[0m in \u001b[0;36mload_model\u001b[0;34m(filepath, custom_objects, compile)\u001b[0m\n\u001b[1;32m    144\u001b[0m   if (h5py is not None and (\n\u001b[1;32m    145\u001b[0m       isinstance(filepath, h5py.File) or h5py.is_hdf5(filepath))):\n\u001b[0;32m--> 146\u001b[0;31m     \u001b[0;32mreturn\u001b[0m \u001b[0mhdf5_format\u001b[0m\u001b[0;34m.\u001b[0m\u001b[0mload_model_from_hdf5\u001b[0m\u001b[0;34m(\u001b[0m\u001b[0mfilepath\u001b[0m\u001b[0;34m,\u001b[0m \u001b[0mcustom_objects\u001b[0m\u001b[0;34m,\u001b[0m \u001b[0mcompile\u001b[0m\u001b[0;34m)\u001b[0m\u001b[0;34m\u001b[0m\u001b[0;34m\u001b[0m\u001b[0m\n\u001b[0m\u001b[1;32m    147\u001b[0m \u001b[0;34m\u001b[0m\u001b[0m\n\u001b[1;32m    148\u001b[0m   \u001b[0;32mif\u001b[0m \u001b[0misinstance\u001b[0m\u001b[0;34m(\u001b[0m\u001b[0mfilepath\u001b[0m\u001b[0;34m,\u001b[0m \u001b[0msix\u001b[0m\u001b[0;34m.\u001b[0m\u001b[0mstring_types\u001b[0m\u001b[0;34m)\u001b[0m\u001b[0;34m:\u001b[0m\u001b[0;34m\u001b[0m\u001b[0;34m\u001b[0m\u001b[0m\n",
      "\u001b[0;32m~/core-env/lib/python3.6/site-packages/tensorflow_core/python/keras/saving/hdf5_format.py\u001b[0m in \u001b[0;36mload_model_from_hdf5\u001b[0;34m(filepath, custom_objects, compile)\u001b[0m\n\u001b[1;32m    182\u001b[0m       \u001b[0;31m# Compile model.\u001b[0m\u001b[0;34m\u001b[0m\u001b[0;34m\u001b[0m\u001b[0;34m\u001b[0m\u001b[0m\n\u001b[1;32m    183\u001b[0m       model.compile(**saving_utils.compile_args_from_training_config(\n\u001b[0;32m--> 184\u001b[0;31m           training_config, custom_objects))\n\u001b[0m\u001b[1;32m    185\u001b[0m \u001b[0;34m\u001b[0m\u001b[0m\n\u001b[1;32m    186\u001b[0m       \u001b[0;31m# Set optimizer weights.\u001b[0m\u001b[0;34m\u001b[0m\u001b[0;34m\u001b[0m\u001b[0;34m\u001b[0m\u001b[0m\n",
      "\u001b[0;32m~/core-env/lib/python3.6/site-packages/tensorflow_core/python/keras/saving/saving_utils.py\u001b[0m in \u001b[0;36mcompile_args_from_training_config\u001b[0;34m(training_config, custom_objects)\u001b[0m\n\u001b[1;32m    227\u001b[0m   \u001b[0moptimizer_config\u001b[0m \u001b[0;34m=\u001b[0m \u001b[0mtraining_config\u001b[0m\u001b[0;34m[\u001b[0m\u001b[0;34m'optimizer_config'\u001b[0m\u001b[0;34m]\u001b[0m\u001b[0;34m\u001b[0m\u001b[0;34m\u001b[0m\u001b[0m\n\u001b[1;32m    228\u001b[0m   optimizer = optimizers.deserialize(\n\u001b[0;32m--> 229\u001b[0;31m       optimizer_config, custom_objects=custom_objects)\n\u001b[0m\u001b[1;32m    230\u001b[0m \u001b[0;34m\u001b[0m\u001b[0m\n\u001b[1;32m    231\u001b[0m   \u001b[0;31m# Recover loss functions and metrics.\u001b[0m\u001b[0;34m\u001b[0m\u001b[0;34m\u001b[0m\u001b[0;34m\u001b[0m\u001b[0m\n",
      "\u001b[0;32m~/core-env/lib/python3.6/site-packages/tensorflow_core/python/keras/optimizers.py\u001b[0m in \u001b[0;36mdeserialize\u001b[0;34m(config, custom_objects)\u001b[0m\n\u001b[1;32m    817\u001b[0m       \u001b[0mmodule_objects\u001b[0m\u001b[0;34m=\u001b[0m\u001b[0mall_classes\u001b[0m\u001b[0;34m,\u001b[0m\u001b[0;34m\u001b[0m\u001b[0;34m\u001b[0m\u001b[0m\n\u001b[1;32m    818\u001b[0m       \u001b[0mcustom_objects\u001b[0m\u001b[0;34m=\u001b[0m\u001b[0mcustom_objects\u001b[0m\u001b[0;34m,\u001b[0m\u001b[0;34m\u001b[0m\u001b[0;34m\u001b[0m\u001b[0m\n\u001b[0;32m--> 819\u001b[0;31m       printable_module_name='optimizer')\n\u001b[0m\u001b[1;32m    820\u001b[0m \u001b[0;34m\u001b[0m\u001b[0m\n\u001b[1;32m    821\u001b[0m \u001b[0;34m\u001b[0m\u001b[0m\n",
      "\u001b[0;32m~/core-env/lib/python3.6/site-packages/tensorflow_core/python/keras/utils/generic_utils.py\u001b[0m in \u001b[0;36mdeserialize_keras_object\u001b[0;34m(identifier, module_objects, custom_objects, printable_module_name)\u001b[0m\n\u001b[1;32m    290\u001b[0m     \u001b[0mconfig\u001b[0m \u001b[0;34m=\u001b[0m \u001b[0midentifier\u001b[0m\u001b[0;34m\u001b[0m\u001b[0;34m\u001b[0m\u001b[0m\n\u001b[1;32m    291\u001b[0m     (cls, cls_config) = class_and_config_for_serialized_keras_object(\n\u001b[0;32m--> 292\u001b[0;31m         config, module_objects, custom_objects, printable_module_name)\n\u001b[0m\u001b[1;32m    293\u001b[0m \u001b[0;34m\u001b[0m\u001b[0m\n\u001b[1;32m    294\u001b[0m     \u001b[0;32mif\u001b[0m \u001b[0mhasattr\u001b[0m\u001b[0;34m(\u001b[0m\u001b[0mcls\u001b[0m\u001b[0;34m,\u001b[0m \u001b[0;34m'from_config'\u001b[0m\u001b[0;34m)\u001b[0m\u001b[0;34m:\u001b[0m\u001b[0;34m\u001b[0m\u001b[0;34m\u001b[0m\u001b[0m\n",
      "\u001b[0;32m~/core-env/lib/python3.6/site-packages/tensorflow_core/python/keras/utils/generic_utils.py\u001b[0m in \u001b[0;36mclass_and_config_for_serialized_keras_object\u001b[0;34m(config, module_objects, custom_objects, printable_module_name)\u001b[0m\n\u001b[1;32m    248\u001b[0m     \u001b[0mcls\u001b[0m \u001b[0;34m=\u001b[0m \u001b[0mmodule_objects\u001b[0m\u001b[0;34m.\u001b[0m\u001b[0mget\u001b[0m\u001b[0;34m(\u001b[0m\u001b[0mclass_name\u001b[0m\u001b[0;34m)\u001b[0m\u001b[0;34m\u001b[0m\u001b[0;34m\u001b[0m\u001b[0m\n\u001b[1;32m    249\u001b[0m     \u001b[0;32mif\u001b[0m \u001b[0mcls\u001b[0m \u001b[0;32mis\u001b[0m \u001b[0;32mNone\u001b[0m\u001b[0;34m:\u001b[0m\u001b[0;34m\u001b[0m\u001b[0;34m\u001b[0m\u001b[0m\n\u001b[0;32m--> 250\u001b[0;31m       \u001b[0;32mraise\u001b[0m \u001b[0mValueError\u001b[0m\u001b[0;34m(\u001b[0m\u001b[0;34m'Unknown '\u001b[0m \u001b[0;34m+\u001b[0m \u001b[0mprintable_module_name\u001b[0m \u001b[0;34m+\u001b[0m \u001b[0;34m': '\u001b[0m \u001b[0;34m+\u001b[0m \u001b[0mclass_name\u001b[0m\u001b[0;34m)\u001b[0m\u001b[0;34m\u001b[0m\u001b[0;34m\u001b[0m\u001b[0m\n\u001b[0m\u001b[1;32m    251\u001b[0m \u001b[0;34m\u001b[0m\u001b[0m\n\u001b[1;32m    252\u001b[0m   \u001b[0mcls_config\u001b[0m \u001b[0;34m=\u001b[0m \u001b[0mconfig\u001b[0m\u001b[0;34m[\u001b[0m\u001b[0;34m'config'\u001b[0m\u001b[0;34m]\u001b[0m\u001b[0;34m\u001b[0m\u001b[0;34m\u001b[0m\u001b[0m\n",
      "\u001b[0;31mValueError\u001b[0m: Unknown optimizer: RectifiedAdam"
     ]
    }
   ],
   "source": [
    "X_test_pcg = X_test[:,:,:,0:3]/255.0\n",
    "X_test_ecg = X_test[:,:,:,3:6]/255.0\n",
    "\n",
    "X_val_pcg = X_val[:,:,:,0:3]/255.0\n",
    "X_val_ecg = X_val[:,:,:,3:6]/255.0\n",
    "\n",
    "for i in range(len(projects)):\n",
    "        \n",
    "    project    = projects[i]\n",
    "    print('\\n\\n',str(project))\n",
    "    \n",
    "    model_name = str(project)+'.h5'\n",
    "    PARAMS     = project.get_parameters()\n",
    "    PARAMS['tags']=PARAMS['tags'][2:-2].strip().split(\"', '\")+PARAMS_COMMON['tags']\n",
    "    \n",
    "    model = load_model(PARAMS['modelsave_dir']+'/'+model_name)\n",
    "    \n",
    "    y_val, y_val_pred=get_results(model, X_val_pcg, X_val_ecg, Y_val)\n",
    "    \n",
    "    optimal_thres=get_optimal_thres(model, y_val, y_val_pred)\n",
    "    \n",
    "    print('optimal_threshold : ',  optimal_thres, '\\n')\n",
    "    y_test, y_test_pred=get_results(model, X_test_pcg, X_test_ecg, Y_test)\n",
    "    \n",
    "    \n",
    "    sk_metrics=custom_metrics._class_metrics(y_test, y_test_pred[:, 1] > optimal_thres)\n",
    "    print(sk_metrics)\n",
    "    gmean=sqrt(sk_metrics['true_negative_rate']*sk_metrics['true_positive_rate'])\n",
    "    \n",
    "    PARAMS['G-Mean']=gmean \n",
    "    PARAMS['optimal_threshold']=optimal_thres\n",
    "    \n",
    "    neptune.init('intelliscope/'+PARAMS_COMMON['project_to'],NEPTUNE_API_TOKEN)\n",
    "    exp = neptune.create_experiment(name=str(project),description=PARAMS['name'],params=PARAMS,tags=PARAMS['tags'],upload_stdout=True)\n",
    "    neptune_log_metrics(y_test, y_test_pred, optimal_thres)\n",
    "    neptune.stop()"
   ]
  },
  {
   "cell_type": "code",
   "execution_count": null,
   "metadata": {},
   "outputs": [],
   "source": []
  },
  {
   "cell_type": "code",
   "execution_count": null,
   "metadata": {},
   "outputs": [],
   "source": []
  }
 ],
 "metadata": {
  "kernelspec": {
   "display_name": "Python 3",
   "language": "python",
   "name": "python3"
  },
  "language_info": {
   "codemirror_mode": {
    "name": "ipython",
    "version": 3
   },
   "file_extension": ".py",
   "mimetype": "text/x-python",
   "name": "python",
   "nbconvert_exporter": "python",
   "pygments_lexer": "ipython3",
   "version": "3.6.9"
  }
 },
 "nbformat": 4,
 "nbformat_minor": 4
}
