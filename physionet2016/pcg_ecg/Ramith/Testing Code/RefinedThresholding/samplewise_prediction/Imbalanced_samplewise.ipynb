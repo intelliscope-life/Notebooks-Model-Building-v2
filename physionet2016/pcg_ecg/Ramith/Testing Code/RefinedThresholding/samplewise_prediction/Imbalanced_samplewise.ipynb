{
 "cells": [
  {
   "cell_type": "code",
   "execution_count": 1,
   "metadata": {},
   "outputs": [],
   "source": [
    "PARAMS_COMMON={\n",
    "    'project_from':'HYBRID-Imbalanced',\n",
    "    'project_to':'RefinedTreshold-Hybrid-Test'\n",
    "}"
   ]
  },
  {
   "cell_type": "code",
   "execution_count": 2,
   "metadata": {},
   "outputs": [
    {
     "name": "stderr",
     "output_type": "stream",
     "text": [
      "WARNING: Instantiating Session without specifying a backend is deprecated and will be removed in future versions. For current behaviour use `neptune.init(...)` or `Session.with_default_backend(...)\n",
      "WARNING: There is a new version of neptune-client 0.4.125 (installed: 0.4.124).\n"
     ]
    }
   ],
   "source": [
    "import sys\n",
    "sys.path.append('/home/ubuntu/intelliscope/modules')\n",
    "sys.path.append('../..')\n",
    "\n",
    "\n",
    "#!pip install neptune-client\n",
    "import os\n",
    "import neptune\n",
    "\n",
    "import tensorflow as tf\n",
    "from tensorflow.keras.models import load_model\n",
    "\n",
    "import matplotlib.pyplot as plt\n",
    "import cv2\n",
    "import numpy as np\n",
    "from tensorflow import keras\n",
    "from tensorflow.keras.models import Sequential, load_model\n",
    "from tensorflow.keras.layers import Conv2D, MaxPooling2D\n",
    "from tensorflow.keras.layers import Activation, Dropout, Flatten, Dense, Lambda,BatchNormalization\n",
    "from tensorflow.keras import backend as K\n",
    "from tensorflow_addons.layers import InstanceNormalization\n",
    "import tensorflow_addons as tfa\n",
    "from tensorflow.keras.layers import Activation, Dropout, Flatten, Dense, Lambda\n",
    "from tensorflow.keras.preprocessing.image import ImageDataGenerator, array_to_img, img_to_array, load_img\n",
    "\n",
    "\n",
    "from intelliscope import instead_data_loaders\n",
    "from sklearn.metrics import classification_report\n",
    "import numpy as np\n",
    "from neptunecontrib.monitoring.metrics import *\n",
    "from neptune.sessions import Session\n",
    "import custom_metrics\n",
    "\n",
    "\n",
    "NEPTUNE_API_TOKEN='eyJhcGlfYWRkcmVzcyI6Imh0dHBzOi8vdWkubmVwdHVuZS5haSIsImFwaV91cmwiOiJodHRwczovL3VpLm5lcHR1bmUuYWkiLCJhcGlfa2V5IjoiMzc1YTM5OGMtYTY3Ny00ZmM4LTg5ZGQtOGI2YTQ1YmZiMDkzIn0='\n",
    "session = Session(api_token=NEPTUNE_API_TOKEN)\n",
    "\n",
    "project = session.get_projects('intelliscope')['intelliscope/'+PARAMS_COMMON['project_from']]\n",
    "projects=project.get_experiments()\n",
    "\n",
    "\n",
    "\n",
    "def get_results(model=None, X_pcg=None, X_ecg=None, Y=None):    \n",
    "    y_pred = model.predict([X_pcg,X_ecg], batch_size=32, verbose=1)\n",
    "    y = np.argmax(Y,axis=1)\n",
    "    \n",
    "    return y, y_pred\n",
    "    \n",
    "\n",
    "\n",
    "def neptune_log_metrics(y_test=None, y_pred=None, threshold = 0.5):\n",
    "    log_confusion_matrix(y_test, y_pred[:, 1] > threshold)\n",
    "    log_classification_report(y_test, y_pred[:, 1] > threshold)\n",
    "    log_class_metrics(y_test, y_pred[:, 1] > threshold)\n",
    "    log_class_metrics_by_threshold(y_test, y_pred[:, 1])\n",
    "    log_brier_loss(y_test, y_pred[:, 1])\n",
    "    log_prediction_distribution(y_test, y_pred[:, 1])\n",
    "\n",
    "    log_log_loss(y_test, y_pred)\n",
    "    log_roc_auc(y_test, y_pred)\n",
    "    log_precision_recall_auc(y_test, y_pred)\n",
    "    log_ks_statistic(y_test, y_pred)\n",
    "    log_cumulative_gain(y_test, y_pred)\n",
    "    log_lift_curve(y_test, y_pred)\n",
    "    \n",
    "\n",
    "    "
   ]
  },
  {
   "cell_type": "code",
   "execution_count": 3,
   "metadata": {},
   "outputs": [
    {
     "name": "stdout",
     "output_type": "stream",
     "text": [
      "Total  340\n",
      "97 Images loaded across 2 Categories. Ignored blanks  8\n",
      "243 Images loaded across 2 Categories. Ignored blanks  0\n",
      "332 Total After removing blanks\n",
      "Total  707\n",
      "199 Images loaded across 2 Categories. Ignored blanks  60\n",
      "508 Images loaded across 2 Categories. Ignored blanks  9\n",
      "638 Total After removing blanks\n"
     ]
    }
   ],
   "source": [
    "project_name=PARAMS_COMMON['project_to']\n",
    "X_val,Y_val = instead_data_loaders(projects[0].get_parameters(),'val')\n",
    "X_test,Y_test = instead_data_loaders(projects[0].get_parameters(),'test')"
   ]
  },
  {
   "cell_type": "code",
   "execution_count": 4,
   "metadata": {},
   "outputs": [],
   "source": [
    "from sklearn.metrics import roc_curve\n",
    "from numpy import sqrt\n",
    "from numpy import argmax\n",
    "\n",
    "\n",
    "\n",
    "def get_optimal_thres(model, y_val, y_val_pred):\n",
    "    \n",
    "    y_val_pred_1=y_val_pred[:,1] \n",
    "    fpr, tpr, thresholds = roc_curve(y_val, y_val_pred_1)\n",
    "    gmeans = sqrt(tpr * (1-fpr))\n",
    "    ix = argmax(gmeans)\n",
    "    \n",
    "    print(f'\\nfpr : {fpr[ix]} , tpr : {tpr[ix]} , gmeans : {gmeans[ix]}')\n",
    "    return thresholds[ix]\n",
    "    "
   ]
  },
  {
   "cell_type": "code",
   "execution_count": 5,
   "metadata": {},
   "outputs": [
    {
     "name": "stdout",
     "output_type": "stream",
     "text": [
      "\n",
      "\n",
      " Experiment(HYBIM-1)\n",
      "332/332 [==============================] - 2s 7ms/sample\n",
      "\n",
      "fpr : 0.10112359550561797 , tpr : 0.8641975308641975 , gmeans : 0.8813664217090033\n",
      "optimal_threshold :  0.8902511 \n",
      "\n",
      "638/638 [==============================] - 4s 6ms/sample\n",
      "{'accuracy': 0.8322884012539185, 'precision': 0.9355555555555556, 'recall': 0.843687374749499, 'f1_score': 0.8872497365648051, 'f2_score': 0.8605887162714636, 'matthews_corrcoef': 0.5750205154051002, 'cohen_kappa': 0.5634105473196813, 'true_positive_rate': 0.843687374749499, 'true_negative_rate': 0.7913669064748201, 'positive_predictive_value': 0.9355555555555556, 'negative_predictive_value': 0.5851063829787234, 'false_positive_rate': 0.20863309352517986, 'false_negative_rate': 0.156312625250501, 'false_discovery_rate': 0.06444444444444444}\n"
     ]
    },
    {
     "name": "stderr",
     "output_type": "stream",
     "text": [
      "WARNING: There is a new version of neptune-client 0.4.125 (installed: 0.4.124).\n",
      "NVMLError: NVML Shared Library Not Found - GPU usage metrics may not be reported.\n"
     ]
    },
    {
     "name": "stdout",
     "output_type": "stream",
     "text": [
      "https://ui.neptune.ai/intelliscope/RefinedTreshold-Hybrid-Test/e/REF-1\n",
      "\n",
      "\n",
      " Experiment(HYBIM-2)\n",
      "332/332 [==============================] - 1s 4ms/sample\n",
      "\n",
      "fpr : 0.15730337078651685 , tpr : 0.8065843621399177 , gmeans : 0.8244427955605023\n",
      "optimal_threshold :  0.89555067 \n",
      "\n",
      "638/638 [==============================] - 2s 4ms/sample\n",
      "{'accuracy': 0.7288401253918495, 'precision': 0.8975609756097561, 'recall': 0.7374749498997996, 'f1_score': 0.8096809680968097, 'f2_score': 0.7647547797173732, 'matthews_corrcoef': 0.3749761328990147, 'cohen_kappa': 0.35363839730150737, 'true_positive_rate': 0.7374749498997996, 'true_negative_rate': 0.697841726618705, 'positive_predictive_value': 0.8975609756097561, 'negative_predictive_value': 0.42543859649122806, 'false_positive_rate': 0.302158273381295, 'false_negative_rate': 0.2625250501002004, 'false_discovery_rate': 0.1024390243902439}\n"
     ]
    },
    {
     "name": "stderr",
     "output_type": "stream",
     "text": [
      "WARNING: There is a new version of neptune-client 0.4.125 (installed: 0.4.124).\n"
     ]
    },
    {
     "name": "stdout",
     "output_type": "stream",
     "text": [
      "https://ui.neptune.ai/intelliscope/RefinedTreshold-Hybrid-Test/e/REF-2\n",
      "\n",
      "\n",
      " Experiment(HYBIM-3)\n",
      "332/332 [==============================] - 1s 4ms/sample\n",
      "\n",
      "fpr : 0.12359550561797752 , tpr : 0.8559670781893004 , gmeans : 0.8661255072841065\n",
      "optimal_threshold :  0.54046476 \n",
      "\n",
      "638/638 [==============================] - 2s 4ms/sample\n",
      "{'accuracy': 0.8369905956112853, 'precision': 0.9006085192697769, 'recall': 0.8897795591182365, 'f1_score': 0.8951612903225806, 'f2_score': 0.891924467657694, 'matthews_corrcoef': 0.5292196873388167, 'cohen_kappa': 0.5290242898312063, 'true_positive_rate': 0.8897795591182365, 'true_negative_rate': 0.6474820143884892, 'positive_predictive_value': 0.9006085192697769, 'negative_predictive_value': 0.6206896551724138, 'false_positive_rate': 0.35251798561151076, 'false_negative_rate': 0.11022044088176353, 'false_discovery_rate': 0.09939148073022312}\n"
     ]
    },
    {
     "name": "stderr",
     "output_type": "stream",
     "text": [
      "WARNING: There is a new version of neptune-client 0.4.125 (installed: 0.4.124).\n",
      "NVMLError: NVML Shared Library Not Found - GPU usage metrics may not be reported.\n"
     ]
    },
    {
     "name": "stdout",
     "output_type": "stream",
     "text": [
      "https://ui.neptune.ai/intelliscope/RefinedTreshold-Hybrid-Test/e/REF-3\n",
      "\n",
      "\n",
      " Experiment(HYBIM-4)\n",
      "332/332 [==============================] - 1s 4ms/sample\n",
      "\n",
      "fpr : 0.19101123595505617 , tpr : 0.8559670781893004 , gmeans : 0.8321464706693912\n",
      "optimal_threshold :  0.28657803 \n",
      "\n",
      "638/638 [==============================] - 2s 4ms/sample\n",
      "{'accuracy': 0.8432601880877743, 'precision': 0.8771266540642723, 'recall': 0.9298597194388778, 'f1_score': 0.9027237354085604, 'f2_score': 0.9188118811881187, 'matthews_corrcoef': 0.506965383779053, 'cohen_kappa': 0.5012585794468505, 'true_positive_rate': 0.9298597194388778, 'true_negative_rate': 0.5323741007194245, 'positive_predictive_value': 0.8771266540642723, 'negative_predictive_value': 0.6788990825688074, 'false_positive_rate': 0.4676258992805755, 'false_negative_rate': 0.07014028056112225, 'false_discovery_rate': 0.12287334593572778}\n"
     ]
    },
    {
     "name": "stderr",
     "output_type": "stream",
     "text": [
      "WARNING: There is a new version of neptune-client 0.4.125 (installed: 0.4.124).\n"
     ]
    },
    {
     "name": "stdout",
     "output_type": "stream",
     "text": [
      "https://ui.neptune.ai/intelliscope/RefinedTreshold-Hybrid-Test/e/REF-4\n",
      "\n",
      "\n",
      " Experiment(HYBIM-5)\n",
      "332/332 [==============================] - 1s 4ms/sample\n",
      "\n",
      "fpr : 0.0898876404494382 , tpr : 0.7942386831275721 , gmeans : 0.8502037649572988\n",
      "optimal_threshold :  0.98516 \n",
      "\n",
      "638/638 [==============================] - 2s 4ms/sample\n",
      "{'accuracy': 0.7978056426332288, 'precision': 0.9512195121951219, 'recall': 0.781563126252505, 'f1_score': 0.858085808580858, 'f2_score': 0.8104738154613467, 'matthews_corrcoef': 0.5492877511466987, 'cohen_kappa': 0.5180309436525691, 'true_positive_rate': 0.781563126252505, 'true_negative_rate': 0.8561151079136691, 'positive_predictive_value': 0.9512195121951219, 'negative_predictive_value': 0.5219298245614035, 'false_positive_rate': 0.14388489208633093, 'false_negative_rate': 0.218436873747495, 'false_discovery_rate': 0.04878048780487805}\n"
     ]
    },
    {
     "name": "stderr",
     "output_type": "stream",
     "text": [
      "WARNING: There is a new version of neptune-client 0.4.125 (installed: 0.4.124).\n",
      "NVMLError: NVML Shared Library Not Found - GPU usage metrics may not be reported.\n"
     ]
    },
    {
     "name": "stdout",
     "output_type": "stream",
     "text": [
      "https://ui.neptune.ai/intelliscope/RefinedTreshold-Hybrid-Test/e/REF-5\n",
      "\n",
      "\n",
      " Experiment(HYBIM-6)\n",
      "332/332 [==============================] - 1s 4ms/sample\n",
      "\n",
      "fpr : 0.1797752808988764 , tpr : 0.8930041152263375 , gmeans : 0.8558411357066626\n",
      "optimal_threshold :  0.5873128 \n",
      "\n",
      "638/638 [==============================] - 2s 4ms/sample\n",
      "{'accuracy': 0.8510971786833855, 'precision': 0.8976377952755905, 'recall': 0.9138276553106213, 'f1_score': 0.9056603773584905, 'f2_score': 0.9105431309904154, 'matthews_corrcoef': 0.5531312984917813, 'cohen_kappa': 0.5526342982831667, 'true_positive_rate': 0.9138276553106213, 'true_negative_rate': 0.6258992805755396, 'positive_predictive_value': 0.8976377952755905, 'negative_predictive_value': 0.6692307692307692, 'false_positive_rate': 0.37410071942446044, 'false_negative_rate': 0.08617234468937876, 'false_discovery_rate': 0.10236220472440945}\n"
     ]
    },
    {
     "name": "stderr",
     "output_type": "stream",
     "text": [
      "WARNING: There is a new version of neptune-client 0.4.125 (installed: 0.4.124).\n"
     ]
    },
    {
     "name": "stdout",
     "output_type": "stream",
     "text": [
      "https://ui.neptune.ai/intelliscope/RefinedTreshold-Hybrid-Test/e/REF-6\n",
      "\n",
      "\n",
      " Experiment(HYBIM-7)\n",
      "332/332 [==============================] - 1s 4ms/sample\n",
      "\n",
      "fpr : 0.14606741573033707 , tpr : 0.8477366255144033 , gmeans : 0.8508289648369747\n",
      "optimal_threshold :  0.9548897 \n",
      "\n",
      "638/638 [==============================] - 2s 4ms/sample\n",
      "{'accuracy': 0.8526645768025078, 'precision': 0.9227557411273486, 'recall': 0.8857715430861723, 'f1_score': 0.9038854805725971, 'f2_score': 0.8929292929292928, 'matthews_corrcoef': 0.591278235918679, 'cohen_kappa': 0.5890133084798728, 'true_positive_rate': 0.8857715430861723, 'true_negative_rate': 0.7338129496402878, 'positive_predictive_value': 0.9227557411273486, 'negative_predictive_value': 0.6415094339622641, 'false_positive_rate': 0.26618705035971224, 'false_negative_rate': 0.11422845691382766, 'false_discovery_rate': 0.07724425887265135}\n"
     ]
    },
    {
     "name": "stderr",
     "output_type": "stream",
     "text": [
      "WARNING: There is a new version of neptune-client 0.4.125 (installed: 0.4.124).\n",
      "NVMLError: NVML Shared Library Not Found - GPU usage metrics may not be reported.\n"
     ]
    },
    {
     "name": "stdout",
     "output_type": "stream",
     "text": [
      "https://ui.neptune.ai/intelliscope/RefinedTreshold-Hybrid-Test/e/REF-7\n",
      "\n",
      "\n",
      " Experiment(HYBIM-8)\n",
      "332/332 [==============================] - 1s 4ms/sample\n",
      "\n",
      "fpr : 0.14606741573033707 , tpr : 0.823045267489712 , gmeans : 0.838346689764089\n",
      "optimal_threshold :  0.7352245 \n",
      "\n",
      "638/638 [==============================] - 2s 4ms/sample\n",
      "{'accuracy': 0.786833855799373, 'precision': 0.8742268041237113, 'recall': 0.8496993987975952, 'f1_score': 0.8617886178861788, 'f2_score': 0.8544941555824265, 'matthews_corrcoef': 0.3972143088965301, 'cohen_kappa': 0.39644690530181825, 'true_positive_rate': 0.8496993987975952, 'true_negative_rate': 0.5611510791366906, 'positive_predictive_value': 0.8742268041237113, 'negative_predictive_value': 0.5098039215686274, 'false_positive_rate': 0.43884892086330934, 'false_negative_rate': 0.15030060120240482, 'false_discovery_rate': 0.12577319587628866}\n"
     ]
    },
    {
     "name": "stderr",
     "output_type": "stream",
     "text": [
      "WARNING: There is a new version of neptune-client 0.4.125 (installed: 0.4.124).\n"
     ]
    },
    {
     "name": "stdout",
     "output_type": "stream",
     "text": [
      "https://ui.neptune.ai/intelliscope/RefinedTreshold-Hybrid-Test/e/REF-8\n",
      "\n",
      "\n",
      " Experiment(HYBIM-9)\n",
      "332/332 [==============================] - 1s 4ms/sample\n",
      "\n",
      "fpr : 0.21348314606741572 , tpr : 0.7736625514403292 , gmeans : 0.7800632256197596\n",
      "optimal_threshold :  0.8515417 \n",
      "\n",
      "638/638 [==============================] - 2s 4ms/sample\n",
      "{'accuracy': 0.7664576802507836, 'precision': 0.9032258064516129, 'recall': 0.7855711422845691, 'f1_score': 0.8403001071811361, 'f2_score': 0.8065843621399176, 'matthews_corrcoef': 0.4278740343636528, 'cohen_kappa': 0.41363911128656206, 'true_positive_rate': 0.7855711422845691, 'true_negative_rate': 0.697841726618705, 'positive_predictive_value': 0.9032258064516129, 'negative_predictive_value': 0.47549019607843135, 'false_positive_rate': 0.302158273381295, 'false_negative_rate': 0.21442885771543085, 'false_discovery_rate': 0.0967741935483871}\n"
     ]
    },
    {
     "name": "stderr",
     "output_type": "stream",
     "text": [
      "WARNING: There is a new version of neptune-client 0.4.125 (installed: 0.4.124).\n",
      "NVMLError: NVML Shared Library Not Found - GPU usage metrics may not be reported.\n"
     ]
    },
    {
     "name": "stdout",
     "output_type": "stream",
     "text": [
      "https://ui.neptune.ai/intelliscope/RefinedTreshold-Hybrid-Test/e/REF-9\n",
      "\n",
      "\n",
      " Experiment(HYBIM-10)\n",
      "332/332 [==============================] - 1s 4ms/sample\n",
      "\n",
      "fpr : 0.10112359550561797 , tpr : 0.823045267489712 , gmeans : 0.860125555240204\n",
      "optimal_threshold :  0.8947566 \n",
      "\n",
      "638/638 [==============================] - 2s 4ms/sample\n",
      "{'accuracy': 0.8119122257053292, 'precision': 0.8989473684210526, 'recall': 0.8557114228456913, 'f1_score': 0.8767967145790554, 'f2_score': 0.8640226628895183, 'matthews_corrcoef': 0.4830779894366286, 'cohen_kappa': 0.4804630773197974, 'true_positive_rate': 0.8557114228456913, 'true_negative_rate': 0.6546762589928058, 'positive_predictive_value': 0.8989473684210526, 'negative_predictive_value': 0.558282208588957, 'false_positive_rate': 0.34532374100719426, 'false_negative_rate': 0.14428857715430862, 'false_discovery_rate': 0.10105263157894737}\n"
     ]
    },
    {
     "name": "stderr",
     "output_type": "stream",
     "text": [
      "WARNING: There is a new version of neptune-client 0.4.125 (installed: 0.4.124).\n"
     ]
    },
    {
     "name": "stdout",
     "output_type": "stream",
     "text": [
      "https://ui.neptune.ai/intelliscope/RefinedTreshold-Hybrid-Test/e/REF-10\n",
      "\n",
      "\n",
      " Experiment(HYBIM-11)\n",
      "332/332 [==============================] - 1s 4ms/sample\n",
      "\n",
      "fpr : 0.29213483146067415 , tpr : 0.7860082304526749 , gmeans : 0.7459141026436489\n",
      "optimal_threshold :  0.817126 \n",
      "\n",
      "638/638 [==============================] - 2s 4ms/sample\n",
      "{'accuracy': 0.7931034482758621, 'precision': 0.8946236559139785, 'recall': 0.8336673346693386, 'f1_score': 0.8630705394190873, 'f2_score': 0.8451848841934173, 'matthews_corrcoef': 0.4467741605681712, 'cohen_kappa': 0.4421377565215088, 'true_positive_rate': 0.8336673346693386, 'true_negative_rate': 0.6474820143884892, 'positive_predictive_value': 0.8946236559139785, 'negative_predictive_value': 0.5202312138728323, 'false_positive_rate': 0.35251798561151076, 'false_negative_rate': 0.16633266533066132, 'false_discovery_rate': 0.1053763440860215}\n"
     ]
    },
    {
     "name": "stderr",
     "output_type": "stream",
     "text": [
      "WARNING: There is a new version of neptune-client 0.4.125 (installed: 0.4.124).\n",
      "NVMLError: NVML Shared Library Not Found - GPU usage metrics may not be reported.\n"
     ]
    },
    {
     "name": "stdout",
     "output_type": "stream",
     "text": [
      "https://ui.neptune.ai/intelliscope/RefinedTreshold-Hybrid-Test/e/REF-11\n",
      "\n",
      "\n",
      " Experiment(HYBIM-12)\n",
      "332/332 [==============================] - 1s 4ms/sample\n",
      "\n",
      "fpr : 0.14606741573033707 , tpr : 0.8847736625514403 , gmeans : 0.869216348302473\n",
      "optimal_threshold :  0.515054 \n",
      "\n",
      "638/638 [==============================] - 2s 4ms/sample\n",
      "{'accuracy': 0.8213166144200627, 'precision': 0.8680688336520076, 'recall': 0.9098196392785571, 'f1_score': 0.8884540117416829, 'f2_score': 0.9011512504962286, 'matthews_corrcoef': 0.44396219407382764, 'cohen_kappa': 0.4408757552928153, 'true_positive_rate': 0.9098196392785571, 'true_negative_rate': 0.5035971223021583, 'positive_predictive_value': 0.8680688336520076, 'negative_predictive_value': 0.6086956521739131, 'false_positive_rate': 0.49640287769784175, 'false_negative_rate': 0.09018036072144289, 'false_discovery_rate': 0.13193116634799235}\n"
     ]
    },
    {
     "name": "stderr",
     "output_type": "stream",
     "text": [
      "WARNING: There is a new version of neptune-client 0.4.125 (installed: 0.4.124).\n"
     ]
    },
    {
     "name": "stdout",
     "output_type": "stream",
     "text": [
      "https://ui.neptune.ai/intelliscope/RefinedTreshold-Hybrid-Test/e/REF-12\n",
      "\n",
      "\n",
      " Experiment(HYBIM-13)\n",
      "332/332 [==============================] - 1s 4ms/sample\n",
      "\n",
      "fpr : 0.2247191011235955 , tpr : 0.8600823045267489 , gmeans : 0.8165815220547104\n",
      "optimal_threshold :  0.8877245 \n",
      "\n",
      "638/638 [==============================] - 2s 4ms/sample\n",
      "{'accuracy': 0.799373040752351, 'precision': 0.8824742268041237, 'recall': 0.8577154308617234, 'f1_score': 0.8699186991869918, 'f2_score': 0.8625554212011285, 'matthews_corrcoef': 0.43278615562790335, 'cohen_kappa': 0.4319500285193584, 'true_positive_rate': 0.8577154308617234, 'true_negative_rate': 0.5899280575539568, 'positive_predictive_value': 0.8824742268041237, 'negative_predictive_value': 0.5359477124183006, 'false_positive_rate': 0.41007194244604317, 'false_negative_rate': 0.14228456913827656, 'false_discovery_rate': 0.11752577319587629}\n"
     ]
    },
    {
     "name": "stderr",
     "output_type": "stream",
     "text": [
      "WARNING: There is a new version of neptune-client 0.4.125 (installed: 0.4.124).\n",
      "NVMLError: NVML Shared Library Not Found - GPU usage metrics may not be reported.\n"
     ]
    },
    {
     "name": "stdout",
     "output_type": "stream",
     "text": [
      "https://ui.neptune.ai/intelliscope/RefinedTreshold-Hybrid-Test/e/REF-13\n",
      "\n",
      "\n",
      " Experiment(HYBIM-14)\n",
      "332/332 [==============================] - 1s 4ms/sample\n",
      "\n",
      "fpr : 0.1348314606741573 , tpr : 0.823045267489712 , gmeans : 0.8438441040104041\n",
      "optimal_threshold :  0.9988024 \n",
      "\n",
      "638/638 [==============================] - 2s 4ms/sample\n",
      "{'accuracy': 0.6943573667711599, 'precision': 0.9, 'recall': 0.685370741482966, 'f1_score': 0.7781569965870307, 'f2_score': 0.7196969696969697, 'matthews_corrcoef': 0.34653101686866544, 'cohen_kappa': 0.31477952434980894, 'true_positive_rate': 0.685370741482966, 'true_negative_rate': 0.7266187050359713, 'positive_predictive_value': 0.9, 'negative_predictive_value': 0.39147286821705424, 'false_positive_rate': 0.2733812949640288, 'false_negative_rate': 0.31462925851703405, 'false_discovery_rate': 0.1}\n"
     ]
    },
    {
     "name": "stderr",
     "output_type": "stream",
     "text": [
      "WARNING: There is a new version of neptune-client 0.4.125 (installed: 0.4.124).\n"
     ]
    },
    {
     "name": "stdout",
     "output_type": "stream",
     "text": [
      "https://ui.neptune.ai/intelliscope/RefinedTreshold-Hybrid-Test/e/REF-14\n",
      "\n",
      "\n",
      " Experiment(HYBIM-15)\n",
      "332/332 [==============================] - 1s 4ms/sample\n",
      "\n",
      "fpr : 0.11235955056179775 , tpr : 0.8271604938271605 , gmeans : 0.8568670331494065\n",
      "optimal_threshold :  0.9767892 \n",
      "\n",
      "638/638 [==============================] - 2s 4ms/sample\n",
      "{'accuracy': 0.7727272727272727, 'precision': 0.8814655172413793, 'recall': 0.8196392785571143, 'f1_score': 0.8494288681204569, 'f2_score': 0.8313008130081302, 'matthews_corrcoef': 0.39295667063673756, 'cohen_kappa': 0.38865465695668844, 'true_positive_rate': 0.8196392785571143, 'true_negative_rate': 0.60431654676259, 'positive_predictive_value': 0.8814655172413793, 'negative_predictive_value': 0.4827586206896552, 'false_positive_rate': 0.39568345323741005, 'false_negative_rate': 0.18036072144288579, 'false_discovery_rate': 0.11853448275862069}\n"
     ]
    },
    {
     "name": "stderr",
     "output_type": "stream",
     "text": [
      "WARNING: There is a new version of neptune-client 0.4.125 (installed: 0.4.124).\n",
      "NVMLError: NVML Shared Library Not Found - GPU usage metrics may not be reported.\n"
     ]
    },
    {
     "name": "stdout",
     "output_type": "stream",
     "text": [
      "https://ui.neptune.ai/intelliscope/RefinedTreshold-Hybrid-Test/e/REF-15\n",
      "\n",
      "\n",
      " Experiment(HYBIM-16)\n",
      "332/332 [==============================] - 1s 4ms/sample\n",
      "\n",
      "fpr : 0.056179775280898875 , tpr : 0.7489711934156379 , gmeans : 0.8407699804807975\n",
      "optimal_threshold :  0.99087733 \n",
      "\n",
      "638/638 [==============================] - 2s 4ms/sample\n",
      "{'accuracy': 0.664576802507837, 'precision': 0.9036827195467422, 'recall': 0.6392785571142284, 'f1_score': 0.7488262910798121, 'f2_score': 0.6790123456790125, 'matthews_corrcoef': 0.32770771983586483, 'cohen_kappa': 0.2862266182913187, 'true_positive_rate': 0.6392785571142284, 'true_negative_rate': 0.7553956834532374, 'positive_predictive_value': 0.9036827195467422, 'negative_predictive_value': 0.3684210526315789, 'false_positive_rate': 0.2446043165467626, 'false_negative_rate': 0.36072144288577157, 'false_discovery_rate': 0.09631728045325778}\n"
     ]
    },
    {
     "name": "stderr",
     "output_type": "stream",
     "text": [
      "WARNING: There is a new version of neptune-client 0.4.125 (installed: 0.4.124).\n"
     ]
    },
    {
     "name": "stdout",
     "output_type": "stream",
     "text": [
      "https://ui.neptune.ai/intelliscope/RefinedTreshold-Hybrid-Test/e/REF-16\n",
      "\n",
      "\n",
      " Experiment(HYBIM-17)\n",
      "332/332 [==============================] - 1s 4ms/sample\n",
      "\n",
      "fpr : 0.12359550561797752 , tpr : 0.8271604938271605 , gmeans : 0.8514265525371972\n",
      "optimal_threshold :  0.7043008 \n",
      "\n",
      "638/638 [==============================] - 2s 4ms/sample\n",
      "{'accuracy': 0.7664576802507836, 'precision': 0.8837719298245614, 'recall': 0.8076152304609219, 'f1_score': 0.8439790575916231, 'f2_score': 0.8217781402936379, 'matthews_corrcoef': 0.38974049846062075, 'cohen_kappa': 0.3835229115056873, 'true_positive_rate': 0.8076152304609219, 'true_negative_rate': 0.6187050359712231, 'positive_predictive_value': 0.8837719298245614, 'negative_predictive_value': 0.4725274725274725, 'false_positive_rate': 0.381294964028777, 'false_negative_rate': 0.19238476953907815, 'false_discovery_rate': 0.1162280701754386}\n"
     ]
    },
    {
     "name": "stderr",
     "output_type": "stream",
     "text": [
      "WARNING: There is a new version of neptune-client 0.4.125 (installed: 0.4.124).\n",
      "NVMLError: NVML Shared Library Not Found - GPU usage metrics may not be reported.\n"
     ]
    },
    {
     "name": "stdout",
     "output_type": "stream",
     "text": [
      "https://ui.neptune.ai/intelliscope/RefinedTreshold-Hybrid-Test/e/REF-17\n",
      "\n",
      "\n",
      " Experiment(HYBIM-18)\n",
      "332/332 [==============================] - 1s 4ms/sample\n",
      "\n",
      "fpr : 0.14606741573033707 , tpr : 0.7736625514403292 , gmeans : 0.8128072723002061\n",
      "optimal_threshold :  0.5322128 \n",
      "\n",
      "638/638 [==============================] - 2s 4ms/sample\n",
      "{'accuracy': 0.7304075235109718, 'precision': 0.8811188811188811, 'recall': 0.7575150300601202, 'f1_score': 0.8146551724137931, 'f2_score': 0.7793814432989691, 'matthews_corrcoef': 0.34355607695044044, 'cohen_kappa': 0.3305596564219567, 'true_positive_rate': 0.7575150300601202, 'true_negative_rate': 0.6330935251798561, 'positive_predictive_value': 0.8811188811188811, 'negative_predictive_value': 0.42105263157894735, 'false_positive_rate': 0.3669064748201439, 'false_negative_rate': 0.24248496993987975, 'false_discovery_rate': 0.11888111888111888}\n"
     ]
    },
    {
     "name": "stderr",
     "output_type": "stream",
     "text": [
      "WARNING: There is a new version of neptune-client 0.4.125 (installed: 0.4.124).\n"
     ]
    },
    {
     "name": "stdout",
     "output_type": "stream",
     "text": [
      "https://ui.neptune.ai/intelliscope/RefinedTreshold-Hybrid-Test/e/REF-18\n",
      "\n",
      "\n",
      " Experiment(HYBIM-19)\n",
      "332/332 [==============================] - 1s 4ms/sample\n",
      "\n",
      "fpr : 0.20224719101123595 , tpr : 0.8395061728395061 , gmeans : 0.8183632491419216\n",
      "optimal_threshold :  0.8549938 \n",
      "\n",
      "638/638 [==============================] - 2s 4ms/sample\n",
      "{'accuracy': 0.7570532915360502, 'precision': 0.8675213675213675, 'recall': 0.8136272545090181, 'f1_score': 0.8397104446742503, 'f2_score': 0.8238636363636366, 'matthews_corrcoef': 0.34321557701417066, 'cohen_kappa': 0.34021430191750845, 'true_positive_rate': 0.8136272545090181, 'true_negative_rate': 0.5539568345323741, 'positive_predictive_value': 0.8675213675213675, 'negative_predictive_value': 0.45294117647058824, 'false_positive_rate': 0.4460431654676259, 'false_negative_rate': 0.18637274549098196, 'false_discovery_rate': 0.13247863247863248}\n"
     ]
    },
    {
     "name": "stderr",
     "output_type": "stream",
     "text": [
      "WARNING: There is a new version of neptune-client 0.4.125 (installed: 0.4.124).\n",
      "NVMLError: NVML Shared Library Not Found - GPU usage metrics may not be reported.\n"
     ]
    },
    {
     "name": "stdout",
     "output_type": "stream",
     "text": [
      "https://ui.neptune.ai/intelliscope/RefinedTreshold-Hybrid-Test/e/REF-19\n",
      "\n",
      "\n",
      " Experiment(HYBIM-20)\n",
      "332/332 [==============================] - 1s 4ms/sample\n",
      "\n",
      "fpr : 0.07865168539325842 , tpr : 0.8106995884773662 , gmeans : 0.8642549968012915\n",
      "optimal_threshold :  0.96151435 \n",
      "\n",
      "638/638 [==============================] - 2s 4ms/sample\n",
      "{'accuracy': 0.7711598746081505, 'precision': 0.8896247240618101, 'recall': 0.8076152304609219, 'f1_score': 0.8466386554621849, 'f2_score': 0.8227848101265823, 'matthews_corrcoef': 0.4074803582159198, 'cohen_kappa': 0.4001365258046651, 'true_positive_rate': 0.8076152304609219, 'true_negative_rate': 0.6402877697841727, 'positive_predictive_value': 0.8896247240618101, 'negative_predictive_value': 0.4810810810810811, 'false_positive_rate': 0.3597122302158273, 'false_negative_rate': 0.19238476953907815, 'false_discovery_rate': 0.11037527593818984}\n"
     ]
    },
    {
     "name": "stderr",
     "output_type": "stream",
     "text": [
      "WARNING: There is a new version of neptune-client 0.4.125 (installed: 0.4.124).\n"
     ]
    },
    {
     "name": "stdout",
     "output_type": "stream",
     "text": [
      "https://ui.neptune.ai/intelliscope/RefinedTreshold-Hybrid-Test/e/REF-20\n",
      "\n",
      "\n",
      " Experiment(HYBIM-21)\n",
      "332/332 [==============================] - 1s 4ms/sample\n",
      "\n",
      "fpr : 0.24719101123595505 , tpr : 0.7901234567901234 , gmeans : 0.7712405853590204\n",
      "optimal_threshold :  0.9852652 \n",
      "\n",
      "638/638 [==============================] - 2s 4ms/sample\n",
      "{'accuracy': 0.7382445141065831, 'precision': 0.8789954337899544, 'recall': 0.7715430861723447, 'f1_score': 0.8217716115261473, 'f2_score': 0.7908792111750206, 'matthews_corrcoef': 0.34725334812995945, 'cohen_kappa': 0.33691390448214487, 'true_positive_rate': 0.7715430861723447, 'true_negative_rate': 0.6187050359712231, 'positive_predictive_value': 0.8789954337899544, 'negative_predictive_value': 0.43, 'false_positive_rate': 0.381294964028777, 'false_negative_rate': 0.22845691382765532, 'false_discovery_rate': 0.12100456621004566}\n"
     ]
    },
    {
     "name": "stderr",
     "output_type": "stream",
     "text": [
      "WARNING: There is a new version of neptune-client 0.4.125 (installed: 0.4.124).\n",
      "NVMLError: NVML Shared Library Not Found - GPU usage metrics may not be reported.\n"
     ]
    },
    {
     "name": "stdout",
     "output_type": "stream",
     "text": [
      "https://ui.neptune.ai/intelliscope/RefinedTreshold-Hybrid-Test/e/REF-21\n",
      "\n",
      "\n",
      " Experiment(HYBIM-22)\n",
      "332/332 [==============================] - 1s 4ms/sample\n",
      "\n",
      "fpr : 0.10112359550561797 , tpr : 0.757201646090535 , gmeans : 0.8250034503655652\n",
      "optimal_threshold :  0.9980685 \n",
      "\n",
      "638/638 [==============================] - 2s 4ms/sample\n",
      "{'accuracy': 0.700626959247649, 'precision': 0.8869346733668342, 'recall': 0.7074148296593187, 'f1_score': 0.7870680044593087, 'f2_score': 0.7372598162071846, 'matthews_corrcoef': 0.3269434829975131, 'cohen_kappa': 0.30399469962646075, 'true_positive_rate': 0.7074148296593187, 'true_negative_rate': 0.6762589928057554, 'positive_predictive_value': 0.8869346733668342, 'negative_predictive_value': 0.39166666666666666, 'false_positive_rate': 0.3237410071942446, 'false_negative_rate': 0.2925851703406814, 'false_discovery_rate': 0.11306532663316583}\n"
     ]
    },
    {
     "name": "stderr",
     "output_type": "stream",
     "text": [
      "WARNING: There is a new version of neptune-client 0.4.125 (installed: 0.4.124).\n"
     ]
    },
    {
     "name": "stdout",
     "output_type": "stream",
     "text": [
      "https://ui.neptune.ai/intelliscope/RefinedTreshold-Hybrid-Test/e/REF-22\n",
      "\n",
      "\n",
      " Experiment(HYBIM-23)\n",
      "332/332 [==============================] - 1s 4ms/sample\n",
      "\n",
      "fpr : 0.11235955056179775 , tpr : 0.8024691358024691 , gmeans : 0.8439810805723014\n",
      "optimal_threshold :  0.96861726 \n",
      "\n",
      "638/638 [==============================] - 2s 4ms/sample\n",
      "{'accuracy': 0.725705329153605, 'precision': 0.8802816901408451, 'recall': 0.751503006012024, 'f1_score': 0.8108108108108109, 'f2_score': 0.7741535920726673, 'matthews_corrcoef': 0.3370468757372874, 'cohen_kappa': 0.32334153525411813, 'true_positive_rate': 0.751503006012024, 'true_negative_rate': 0.6330935251798561, 'positive_predictive_value': 0.8802816901408451, 'negative_predictive_value': 0.41509433962264153, 'false_positive_rate': 0.3669064748201439, 'false_negative_rate': 0.24849699398797595, 'false_discovery_rate': 0.11971830985915492}\n"
     ]
    },
    {
     "name": "stderr",
     "output_type": "stream",
     "text": [
      "WARNING: There is a new version of neptune-client 0.4.125 (installed: 0.4.124).\n",
      "NVMLError: NVML Shared Library Not Found - GPU usage metrics may not be reported.\n"
     ]
    },
    {
     "name": "stdout",
     "output_type": "stream",
     "text": [
      "https://ui.neptune.ai/intelliscope/RefinedTreshold-Hybrid-Test/e/REF-23\n",
      "\n",
      "\n",
      " Experiment(HYBIM-24)\n",
      "332/332 [==============================] - 1s 4ms/sample\n",
      "\n",
      "fpr : 0.10112359550561797 , tpr : 0.8847736625514403 , gmeans : 0.8917971566368466\n",
      "optimal_threshold :  0.38601255 \n",
      "\n",
      "638/638 [==============================] - 2s 4ms/sample\n",
      "{'accuracy': 0.85423197492163, 'precision': 0.8980392156862745, 'recall': 0.9178356713426854, 'f1_score': 0.9078295341922695, 'f2_score': 0.913806863527534, 'matthews_corrcoef': 0.5604732000511268, 'cohen_kappa': 0.5597126786482837, 'true_positive_rate': 0.9178356713426854, 'true_negative_rate': 0.6258992805755396, 'positive_predictive_value': 0.8980392156862745, 'negative_predictive_value': 0.6796875, 'false_positive_rate': 0.37410071942446044, 'false_negative_rate': 0.08216432865731463, 'false_discovery_rate': 0.10196078431372549}\n"
     ]
    },
    {
     "name": "stderr",
     "output_type": "stream",
     "text": [
      "WARNING: There is a new version of neptune-client 0.4.125 (installed: 0.4.124).\n"
     ]
    },
    {
     "name": "stdout",
     "output_type": "stream",
     "text": [
      "https://ui.neptune.ai/intelliscope/RefinedTreshold-Hybrid-Test/e/REF-24\n",
      "\n",
      "\n",
      " Experiment(HYBIM-25)\n",
      "332/332 [==============================] - 1s 4ms/sample\n",
      "\n",
      "fpr : 0.11235955056179775 , tpr : 0.8065843621399177 , gmeans : 0.8461423672879772\n",
      "optimal_threshold :  0.9888122 \n",
      "\n",
      "638/638 [==============================] - 2s 4ms/sample\n",
      "{'accuracy': 0.6974921630094044, 'precision': 0.9203296703296703, 'recall': 0.6713426853707415, 'f1_score': 0.776361529548088, 'f2_score': 0.7097457627118645, 'matthews_corrcoef': 0.3858692776958462, 'cohen_kappa': 0.34266129979393767, 'true_positive_rate': 0.6713426853707415, 'true_negative_rate': 0.7913669064748201, 'positive_predictive_value': 0.9203296703296703, 'negative_predictive_value': 0.40145985401459855, 'false_positive_rate': 0.20863309352517986, 'false_negative_rate': 0.3286573146292585, 'false_discovery_rate': 0.07967032967032966}\n"
     ]
    },
    {
     "name": "stderr",
     "output_type": "stream",
     "text": [
      "WARNING: There is a new version of neptune-client 0.4.125 (installed: 0.4.124).\n",
      "NVMLError: NVML Shared Library Not Found - GPU usage metrics may not be reported.\n"
     ]
    },
    {
     "name": "stdout",
     "output_type": "stream",
     "text": [
      "https://ui.neptune.ai/intelliscope/RefinedTreshold-Hybrid-Test/e/REF-25\n",
      "\n",
      "\n",
      " Experiment(HYBIM-26)\n",
      "332/332 [==============================] - 1s 4ms/sample\n",
      "\n",
      "fpr : 0.1348314606741573 , tpr : 0.8148148148148148 , gmeans : 0.8396142823668439\n",
      "optimal_threshold :  0.96699274 \n",
      "\n",
      "638/638 [==============================] - 2s 4ms/sample\n",
      "{'accuracy': 0.7492163009404389, 'precision': 0.8861047835990888, 'recall': 0.779559118236473, 'f1_score': 0.8294243070362475, 'f2_score': 0.7987679671457905, 'matthews_corrcoef': 0.3741018131426815, 'cohen_kappa': 0.3632813961901673, 'true_positive_rate': 0.779559118236473, 'true_negative_rate': 0.6402877697841727, 'positive_predictive_value': 0.8861047835990888, 'negative_predictive_value': 0.4472361809045226, 'false_positive_rate': 0.3597122302158273, 'false_negative_rate': 0.22044088176352705, 'false_discovery_rate': 0.11389521640091116}\n"
     ]
    },
    {
     "name": "stderr",
     "output_type": "stream",
     "text": [
      "WARNING: There is a new version of neptune-client 0.4.125 (installed: 0.4.124).\n"
     ]
    },
    {
     "name": "stdout",
     "output_type": "stream",
     "text": [
      "https://ui.neptune.ai/intelliscope/RefinedTreshold-Hybrid-Test/e/REF-26\n",
      "\n",
      "\n",
      " Experiment(HYBIM-27)\n",
      "332/332 [==============================] - 1s 4ms/sample\n",
      "\n",
      "fpr : 0.14606741573033707 , tpr : 0.7654320987654321 , gmeans : 0.8084722692719382\n",
      "optimal_threshold :  0.95327866 \n",
      "\n",
      "638/638 [==============================] - 2s 4ms/sample\n",
      "{'accuracy': 0.7382445141065831, 'precision': 0.9068627450980392, 'recall': 0.7414829659318637, 'f1_score': 0.8158765159867696, 'f2_score': 0.7695507487520798, 'matthews_corrcoef': 0.4024425246486832, 'cohen_kappa': 0.3786753128608251, 'true_positive_rate': 0.7414829659318637, 'true_negative_rate': 0.7266187050359713, 'positive_predictive_value': 0.9068627450980392, 'negative_predictive_value': 0.4391304347826087, 'false_positive_rate': 0.2733812949640288, 'false_negative_rate': 0.25851703406813625, 'false_discovery_rate': 0.09313725490196079}\n"
     ]
    },
    {
     "name": "stderr",
     "output_type": "stream",
     "text": [
      "WARNING: There is a new version of neptune-client 0.4.125 (installed: 0.4.124).\n",
      "NVMLError: NVML Shared Library Not Found - GPU usage metrics may not be reported.\n"
     ]
    },
    {
     "name": "stdout",
     "output_type": "stream",
     "text": [
      "https://ui.neptune.ai/intelliscope/RefinedTreshold-Hybrid-Test/e/REF-27\n",
      "\n",
      "\n",
      " Experiment(HYBIM-28)\n",
      "332/332 [==============================] - 1s 4ms/sample\n",
      "\n",
      "fpr : 0.14606741573033707 , tpr : 0.8024691358024691 , gmeans : 0.8278010285886612\n",
      "optimal_threshold :  0.9794262 \n",
      "\n",
      "638/638 [==============================] - 2s 4ms/sample\n",
      "{'accuracy': 0.8150470219435737, 'precision': 0.906183368869936, 'recall': 0.8517034068136272, 'f1_score': 0.878099173553719, 'f2_score': 0.8620689655172414, 'matthews_corrcoef': 0.5006207206336462, 'cohen_kappa': 0.4965021869691416, 'true_positive_rate': 0.8517034068136272, 'true_negative_rate': 0.6834532374100719, 'positive_predictive_value': 0.906183368869936, 'negative_predictive_value': 0.5621301775147929, 'false_positive_rate': 0.31654676258992803, 'false_negative_rate': 0.14829659318637275, 'false_discovery_rate': 0.09381663113006397}\n"
     ]
    },
    {
     "name": "stderr",
     "output_type": "stream",
     "text": [
      "WARNING: There is a new version of neptune-client 0.4.125 (installed: 0.4.124).\n"
     ]
    },
    {
     "name": "stdout",
     "output_type": "stream",
     "text": [
      "https://ui.neptune.ai/intelliscope/RefinedTreshold-Hybrid-Test/e/REF-28\n",
      "\n",
      "\n",
      " Experiment(HYBIM-29)\n",
      "332/332 [==============================] - 2s 7ms/sample\n",
      "\n",
      "fpr : 0.15730337078651685 , tpr : 0.8641975308641975 , gmeans : 0.8533793682963482\n",
      "optimal_threshold :  0.72846335 \n",
      "\n",
      "638/638 [==============================] - 4s 7ms/sample\n",
      "{'accuracy': 0.786833855799373, 'precision': 0.9172413793103448, 'recall': 0.7995991983967936, 'f1_score': 0.854389721627409, 'f2_score': 0.8206499382969973, 'matthews_corrcoef': 0.47912209868335376, 'cohen_kappa': 0.46360702760846184, 'true_positive_rate': 0.7995991983967936, 'true_negative_rate': 0.7410071942446043, 'positive_predictive_value': 0.9172413793103448, 'negative_predictive_value': 0.5073891625615764, 'false_positive_rate': 0.2589928057553957, 'false_negative_rate': 0.20040080160320642, 'false_discovery_rate': 0.08275862068965517}\n"
     ]
    },
    {
     "name": "stderr",
     "output_type": "stream",
     "text": [
      "WARNING: There is a new version of neptune-client 0.4.125 (installed: 0.4.124).\n",
      "NVMLError: NVML Shared Library Not Found - GPU usage metrics may not be reported.\n"
     ]
    },
    {
     "name": "stdout",
     "output_type": "stream",
     "text": [
      "https://ui.neptune.ai/intelliscope/RefinedTreshold-Hybrid-Test/e/REF-29\n",
      "\n",
      "\n",
      " Experiment(HYBIM-30)\n",
      "332/332 [==============================] - 1s 4ms/sample\n",
      "\n",
      "fpr : 0.0898876404494382 , tpr : 0.8353909465020576 , gmeans : 0.871951618765723\n",
      "optimal_threshold :  0.8134094 \n",
      "\n",
      "638/638 [==============================] - 2s 4ms/sample\n",
      "{'accuracy': 0.774294670846395, 'precision': 0.9006772009029346, 'recall': 0.7995991983967936, 'f1_score': 0.8471337579617835, 'f2_score': 0.817958179581796, 'matthews_corrcoef': 0.43284537414901114, 'cohen_kappa': 0.4217595448194257, 'true_positive_rate': 0.7995991983967936, 'true_negative_rate': 0.6834532374100719, 'positive_predictive_value': 0.9006772009029346, 'negative_predictive_value': 0.48717948717948717, 'false_positive_rate': 0.31654676258992803, 'false_negative_rate': 0.20040080160320642, 'false_discovery_rate': 0.09932279909706546}\n"
     ]
    },
    {
     "name": "stderr",
     "output_type": "stream",
     "text": [
      "WARNING: There is a new version of neptune-client 0.4.125 (installed: 0.4.124).\n"
     ]
    },
    {
     "name": "stdout",
     "output_type": "stream",
     "text": [
      "https://ui.neptune.ai/intelliscope/RefinedTreshold-Hybrid-Test/e/REF-30\n",
      "\n",
      "\n",
      " Experiment(HYBIM-31)\n",
      "332/332 [==============================] - 2s 7ms/sample\n",
      "\n",
      "fpr : 0.06741573033707865 , tpr : 0.7983539094650206 , gmeans : 0.8628628498150643\n",
      "optimal_threshold :  0.9452461 \n",
      "\n",
      "638/638 [==============================] - 4s 6ms/sample\n",
      "{'accuracy': 0.7727272727272727, 'precision': 0.9425, 'recall': 0.7555110220440882, 'f1_score': 0.8387096774193549, 'f2_score': 0.7867278797996661, 'matthews_corrcoef': 0.503643406582408, 'cohen_kappa': 0.46943714800243175, 'true_positive_rate': 0.7555110220440882, 'true_negative_rate': 0.8345323741007195, 'positive_predictive_value': 0.9425, 'negative_predictive_value': 0.48739495798319327, 'false_positive_rate': 0.16546762589928057, 'false_negative_rate': 0.24448897795591182, 'false_discovery_rate': 0.0575}\n"
     ]
    },
    {
     "name": "stderr",
     "output_type": "stream",
     "text": [
      "WARNING: There is a new version of neptune-client 0.4.125 (installed: 0.4.124).\n",
      "NVMLError: NVML Shared Library Not Found - GPU usage metrics may not be reported.\n"
     ]
    },
    {
     "name": "stdout",
     "output_type": "stream",
     "text": [
      "https://ui.neptune.ai/intelliscope/RefinedTreshold-Hybrid-Test/e/REF-31\n",
      "\n",
      "\n",
      " Experiment(HYBIM-32)\n",
      "332/332 [==============================] - 2s 7ms/sample\n",
      "\n",
      "fpr : 0.1797752808988764 , tpr : 0.8518518518518519 , gmeans : 0.8358887162182279\n",
      "optimal_threshold :  0.9461652 \n",
      "\n",
      "638/638 [==============================] - 4s 6ms/sample\n",
      "{'accuracy': 0.8009404388714734, 'precision': 0.8957446808510638, 'recall': 0.843687374749499, 'f1_score': 0.8689370485036121, 'f2_score': 0.8536090835360909, 'matthews_corrcoef': 0.46034708323830015, 'cohen_kappa': 0.4567919443289845, 'true_positive_rate': 0.843687374749499, 'true_negative_rate': 0.6474820143884892, 'positive_predictive_value': 0.8957446808510638, 'negative_predictive_value': 0.5357142857142857, 'false_positive_rate': 0.35251798561151076, 'false_negative_rate': 0.156312625250501, 'false_discovery_rate': 0.10425531914893617}\n"
     ]
    },
    {
     "name": "stderr",
     "output_type": "stream",
     "text": [
      "WARNING: There is a new version of neptune-client 0.4.125 (installed: 0.4.124).\n"
     ]
    },
    {
     "name": "stdout",
     "output_type": "stream",
     "text": [
      "https://ui.neptune.ai/intelliscope/RefinedTreshold-Hybrid-Test/e/REF-32\n",
      "\n",
      "\n",
      " Experiment(HYBIM-33)\n",
      "332/332 [==============================] - 2s 7ms/sample\n",
      "\n",
      "fpr : 0.07865168539325842 , tpr : 0.8641975308641975 , gmeans : 0.892315492720504\n",
      "optimal_threshold :  0.791385 \n",
      "\n",
      "638/638 [==============================] - 4s 6ms/sample\n",
      "{'accuracy': 0.8166144200626959, 'precision': 0.9098712446351931, 'recall': 0.8496993987975952, 'f1_score': 0.8787564766839377, 'f2_score': 0.861088545897644, 'matthews_corrcoef': 0.5093510847744289, 'cohen_kappa': 0.5043492118298561, 'true_positive_rate': 0.8496993987975952, 'true_negative_rate': 0.697841726618705, 'positive_predictive_value': 0.9098712446351931, 'negative_predictive_value': 0.563953488372093, 'false_positive_rate': 0.302158273381295, 'false_negative_rate': 0.15030060120240482, 'false_discovery_rate': 0.09012875536480687}\n"
     ]
    },
    {
     "name": "stderr",
     "output_type": "stream",
     "text": [
      "WARNING: There is a new version of neptune-client 0.4.125 (installed: 0.4.124).\n",
      "NVMLError: NVML Shared Library Not Found - GPU usage metrics may not be reported.\n"
     ]
    },
    {
     "name": "stdout",
     "output_type": "stream",
     "text": [
      "https://ui.neptune.ai/intelliscope/RefinedTreshold-Hybrid-Test/e/REF-33\n"
     ]
    }
   ],
   "source": [
    "X_test_pcg = X_test[:,:,:,0:3]/255.0\n",
    "X_test_ecg = X_test[:,:,:,3:6]/255.0\n",
    "\n",
    "X_val_pcg = X_val[:,:,:,0:3]/255.0\n",
    "X_val_ecg = X_val[:,:,:,3:6]/255.0\n",
    "\n",
    "for i in range(len(projects)):\n",
    "        \n",
    "    project    = projects[i]\n",
    "    print('\\n\\n',str(project))\n",
    "    \n",
    "    model_name = str(project)+'.h5'\n",
    "    PARAMS     = project.get_parameters()\n",
    "    PARAMS['tags']=PARAMS['tags'][2:-2].strip().split(\"', '\")+['samplewise']\n",
    "    \n",
    "    model = load_model(PARAMS['modelsave_dir']+'/'+model_name)\n",
    "    \n",
    "    y_val, y_val_pred=get_results(model, X_val_pcg, X_val_ecg, Y_val)\n",
    "    \n",
    "    optimal_thres=get_optimal_thres(model, y_val, y_val_pred)\n",
    "    \n",
    "    print('optimal_threshold : ',  optimal_thres, '\\n')\n",
    "    y_test, y_test_pred=get_results(model, X_test_pcg, X_test_ecg, Y_test)\n",
    "    \n",
    "    \n",
    "    sk_metrics=custom_metrics._class_metrics(y_test, y_test_pred[:, 1] > optimal_thres)\n",
    "    print(sk_metrics)\n",
    "    gmean=sqrt(sk_metrics['true_negative_rate']*sk_metrics['true_positive_rate'])\n",
    "    \n",
    "    PARAMS['G-Mean']=gmean \n",
    "    PARAMS['optimal_threshold']=optimal_thres\n",
    "    \n",
    "    neptune.init('intelliscope/'+PARAMS_COMMON['project_to'],NEPTUNE_API_TOKEN)\n",
    "    exp = neptune.create_experiment(name=str(project),description=PARAMS['name'],params=PARAMS,tags=PARAMS['tags'],upload_stdout=True)\n",
    "    neptune_log_metrics(y_test, y_test_pred, optimal_thres)\n",
    "    neptune.stop()"
   ]
  },
  {
   "cell_type": "code",
   "execution_count": null,
   "metadata": {},
   "outputs": [],
   "source": []
  },
  {
   "cell_type": "code",
   "execution_count": null,
   "metadata": {},
   "outputs": [],
   "source": []
  }
 ],
 "metadata": {
  "kernelspec": {
   "display_name": "Python 3",
   "language": "python",
   "name": "python3"
  },
  "language_info": {
   "codemirror_mode": {
    "name": "ipython",
    "version": 3
   },
   "file_extension": ".py",
   "mimetype": "text/x-python",
   "name": "python",
   "nbconvert_exporter": "python",
   "pygments_lexer": "ipython3",
   "version": "3.6.9"
  }
 },
 "nbformat": 4,
 "nbformat_minor": 4
}
