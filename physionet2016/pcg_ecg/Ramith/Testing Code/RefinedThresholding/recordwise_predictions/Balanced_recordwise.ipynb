{
 "cells": [
  {
   "cell_type": "code",
   "execution_count": 1,
   "metadata": {},
   "outputs": [],
   "source": [
    "# unknown optimizer RADAM error occured\n",
    "\n",
    "PARAMS_COMMON={\n",
    "    'project_from':'HYBRID', #balanced\n",
    "    'project_to':'RefinedTreshold-Hybrid-Test',\n",
    "    'tags':['patientwise', 'balanced']\n",
    "}"
   ]
  },
  {
   "cell_type": "code",
   "execution_count": 2,
   "metadata": {},
   "outputs": [
    {
     "name": "stderr",
     "output_type": "stream",
     "text": [
      "WARNING: Instantiating Session without specifying a backend is deprecated and will be removed in future versions. For current behaviour use `neptune.init(...)` or `Session.with_default_backend(...)\n",
      "WARNING: There is a new version of neptune-client 0.4.125 (installed: 0.4.124).\n"
     ]
    }
   ],
   "source": [
    "import sys\n",
    "sys.path.append('/home/ubuntu/intelliscope/modules')\n",
    "sys.path.append('../..')\n",
    "\n",
    "\n",
    "#!pip install neptune-client\n",
    "import os\n",
    "import neptune\n",
    "\n",
    "import tensorflow as tf\n",
    "from tensorflow.keras.models import load_model\n",
    "\n",
    "import matplotlib.pyplot as plt\n",
    "import cv2\n",
    "import numpy as np\n",
    "from tensorflow import keras\n",
    "from tensorflow.keras.models import Sequential, load_model\n",
    "from tensorflow.keras.layers import Conv2D, MaxPooling2D\n",
    "from tensorflow.keras.layers import Activation, Dropout, Flatten, Dense, Lambda,BatchNormalization\n",
    "from tensorflow.keras import backend as K\n",
    "from tensorflow_addons.layers import InstanceNormalization\n",
    "from tensorflow_addons.optimizers import RectifiedAdam\n",
    "import tensorflow_addons as tfa\n",
    "from tensorflow.keras.layers import Activation, Dropout, Flatten, Dense, Lambda\n",
    "from tensorflow.keras.preprocessing.image import ImageDataGenerator, array_to_img, img_to_array, load_img\n",
    "\n",
    "\n",
    "from intelliscope import instead_data_loaders\n",
    "from sklearn.metrics import classification_report\n",
    "import numpy as np\n",
    "from neptunecontrib.monitoring.metrics import *\n",
    "from neptune.sessions import Session\n",
    "import custom_metrics\n",
    "\n",
    "\n",
    "NEPTUNE_API_TOKEN='eyJhcGlfYWRkcmVzcyI6Imh0dHBzOi8vdWkubmVwdHVuZS5haSIsImFwaV91cmwiOiJodHRwczovL3VpLm5lcHR1bmUuYWkiLCJhcGlfa2V5IjoiMzc1YTM5OGMtYTY3Ny00ZmM4LTg5ZGQtOGI2YTQ1YmZiMDkzIn0='\n",
    "session = Session(api_token=NEPTUNE_API_TOKEN)\n",
    "\n",
    "project = session.get_projects('intelliscope')['intelliscope/'+PARAMS_COMMON['project_from']]\n",
    "projects=project.get_experiments()\n",
    "\n",
    "\n",
    "\n",
    "def get_results(model=None, X_pcg=None, X_ecg=None, Y=None):    \n",
    "    y_pred = model.predict([X_pcg,X_ecg], batch_size=32, verbose=1)\n",
    "    y = np.argmax(Y,axis=1)\n",
    "    \n",
    "    return y, y_pred\n",
    "    \n",
    "\n",
    "\n",
    "def neptune_log_metrics(y_test=None, y_pred=None, threshold = 0.5):\n",
    "    log_confusion_matrix(y_test, y_pred[:, 1] > threshold)\n",
    "    log_classification_report(y_test, y_pred[:, 1] > threshold)\n",
    "    log_class_metrics(y_test, y_pred[:, 1] > threshold)\n",
    "    log_class_metrics_by_threshold(y_test, y_pred[:, 1])\n",
    "    log_brier_loss(y_test, y_pred[:, 1])\n",
    "    log_prediction_distribution(y_test, y_pred[:, 1])\n",
    "\n",
    "    log_log_loss(y_test, y_pred)\n",
    "    log_roc_auc(y_test, y_pred)\n",
    "    log_precision_recall_auc(y_test, y_pred)\n",
    "    log_ks_statistic(y_test, y_pred)\n",
    "    log_cumulative_gain(y_test, y_pred)\n",
    "    log_lift_curve(y_test, y_pred)\n",
    "    \n",
    "\n",
    "    "
   ]
  },
  {
   "cell_type": "code",
   "execution_count": 3,
   "metadata": {},
   "outputs": [
    {
     "name": "stdout",
     "output_type": "stream",
     "text": [
      "Total  194\n",
      "101 Images loaded across 2 Categories. Ignored blanks  0\n",
      "93 Images loaded across 2 Categories. Ignored blanks  0\n",
      "194 Total After removing blanks\n",
      "Total  388\n",
      "197 Images loaded across 2 Categories. Ignored blanks  0\n",
      "191 Images loaded across 2 Categories. Ignored blanks  16\n",
      "372 Total After removing blanks\n"
     ]
    }
   ],
   "source": [
    "project_name=PARAMS_COMMON['project_to']\n",
    "X_val,Y_val, names_val = instead_data_loaders(projects[0].get_parameters(),'val',True)\n",
    "X_test,Y_test, names_test = instead_data_loaders(projects[0].get_parameters(),'test', True)"
   ]
  },
  {
   "cell_type": "code",
   "execution_count": 4,
   "metadata": {},
   "outputs": [],
   "source": [
    "from sklearn.metrics import roc_curve\n",
    "from numpy import sqrt\n",
    "from numpy import argmax\n",
    "\n",
    "\n",
    "\n",
    "def get_optimal_thres(model, y_val, y_val_pred):\n",
    "    y_val_pred_1=y_val_pred[:,1]\n",
    "    fpr, tpr, thresholds = roc_curve(y_val, y_val_pred_1)\n",
    "    gmeans = sqrt(tpr * (1-fpr))\n",
    "    ix = argmax(gmeans)\n",
    "    \n",
    "    print(f'\\nfpr : {fpr[ix]} , tpr : {tpr[ix]} , gmeans : {gmeans[ix]}')\n",
    "    return thresholds[ix]\n",
    "    \n",
    "\n",
    "\n",
    "def get_individual_metrics(y_test, y_pred, names):\n",
    "    patient_preds={}\n",
    "    for i in range(len(names)): # create dict: patient_record_name: [start_point, label, [pred0, pred1]] \n",
    "        name=names[i]\n",
    "        record_name,record_start_point,_=name.strip().split('_')\n",
    "        if record_name in patient_preds:\n",
    "            patient_preds[record_name].append([int(record_start_point),y_test[i], list(y_pred[i])])\n",
    "        else:\n",
    "            patient_preds[record_name]=[[int(record_start_point),y_test[i], list(y_pred[i])]]\n",
    "\n",
    "    y_test_bulk, y_pred_bulk=[],[]    \n",
    "    for key in patient_preds: # return :: patient-wise y_test, y_preds\n",
    "        patient_pred=patient_preds[key]\n",
    "        label, pred_label=get_single_patient_pred(patient_pred, mean)\n",
    "\n",
    "        y_test_bulk.append(label)\n",
    "        y_pred_bulk.append(pred_label)\n",
    "\n",
    "    y_test_bulk=np.array(y_test_bulk)\n",
    "    y_pred_bulk=np.array(y_pred_bulk)\n",
    "    \n",
    "    return y_test_bulk, y_pred_bulk\n",
    "\n",
    "def mean(list_):\n",
    "    metric=np.mean(list_)\n",
    "    return [1-metric,metric]\n",
    "\n",
    "def get_single_patient_pred(patient_pred, func):\n",
    "    #print(patient_pred)\n",
    "    patient_pred.sort()\n",
    "    \n",
    "    y=np.array(patient_pred)[:,1]\n",
    "    \n",
    "    assert y.sum()%(y.shape[0])==0\n",
    "    label=y[0] # label of the patient\n",
    "    \n",
    "    rows=[]\n",
    "    for row in sorted(patient_pred):\n",
    "        rows.append(list(row[2]))\n",
    "    rows=np.array(rows)\n",
    "\n",
    "    y_preds=np.argmax(rows, axis=1)\n",
    "    pred_label=func(y_preds)\n",
    "    return label, pred_label\n"
   ]
  },
  {
   "cell_type": "code",
   "execution_count": 5,
   "metadata": {},
   "outputs": [
    {
     "name": "stdout",
     "output_type": "stream",
     "text": [
      "\n",
      "\n",
      " Experiment(HYBRID-14)\n",
      "194/194 [==============================] - 1s 4ms/sample\n",
      "\n",
      "fpr : 0.16666666666666666 , tpr : 0.75 , gmeans : 0.7905694150420949\n",
      "optimal_threshold :  0.4444444444444444 \n",
      "\n",
      "372/372 [==============================] - 1s 4ms/sample\n",
      "{'accuracy': 0.75, 'precision': 0.8125, 'recall': 0.6190476190476191, 'f1_score': 0.7027027027027026, 'f2_score': 0.65, 'matthews_corrcoef': 0.5073403808614559, 'cohen_kappa': 0.4937238493723849, 'true_positive_rate': 0.6190476190476191, 'true_negative_rate': 0.8695652173913043, 'positive_predictive_value': 0.8125, 'negative_predictive_value': 0.7142857142857143, 'false_positive_rate': 0.13043478260869565, 'false_negative_rate': 0.38095238095238093, 'false_discovery_rate': 0.1875}\n"
     ]
    },
    {
     "name": "stderr",
     "output_type": "stream",
     "text": [
      "WARNING: There is a new version of neptune-client 0.4.125 (installed: 0.4.124).\n",
      "NVMLError: NVML Shared Library Not Found - GPU usage metrics may not be reported.\n"
     ]
    },
    {
     "name": "stdout",
     "output_type": "stream",
     "text": [
      "https://ui.neptune.ai/intelliscope/RefinedTreshold-Hybrid-Test/e/REF1-93\n",
      "\n",
      "\n",
      " Experiment(HYBRID-15)\n",
      "194/194 [==============================] - 1s 4ms/sample\n",
      "\n",
      "fpr : 0.08333333333333333 , tpr : 0.75 , gmeans : 0.82915619758885\n",
      "optimal_threshold :  0.8333333333333334 \n",
      "\n",
      "372/372 [==============================] - 1s 4ms/sample\n",
      "{'accuracy': 0.6818181818181818, 'precision': 0.7333333333333333, 'recall': 0.5238095238095238, 'f1_score': 0.611111111111111, 'f2_score': 0.5555555555555556, 'matthews_corrcoef': 0.3686960719996999, 'cohen_kappa': 0.3542976939203355, 'true_positive_rate': 0.5238095238095238, 'true_negative_rate': 0.8260869565217391, 'positive_predictive_value': 0.7333333333333333, 'negative_predictive_value': 0.6551724137931034, 'false_positive_rate': 0.17391304347826086, 'false_negative_rate': 0.47619047619047616, 'false_discovery_rate': 0.26666666666666666}\n"
     ]
    },
    {
     "name": "stderr",
     "output_type": "stream",
     "text": [
      "WARNING: There is a new version of neptune-client 0.4.125 (installed: 0.4.124).\n"
     ]
    },
    {
     "name": "stdout",
     "output_type": "stream",
     "text": [
      "https://ui.neptune.ai/intelliscope/RefinedTreshold-Hybrid-Test/e/REF1-94\n",
      "\n",
      "\n",
      " Experiment(HYBRID-16)\n",
      "194/194 [==============================] - 1s 5ms/sample\n",
      "\n",
      "fpr : 0.3333333333333333 , tpr : 0.9166666666666666 , gmeans : 0.7817359599705717\n",
      "optimal_threshold :  0.6666666666666666 \n",
      "\n",
      "372/372 [==============================] - 1s 4ms/sample\n",
      "{'accuracy': 0.6818181818181818, 'precision': 0.6842105263157895, 'recall': 0.6190476190476191, 'f1_score': 0.6500000000000001, 'f2_score': 0.6310679611650486, 'matthews_corrcoef': 0.36118169596516436, 'cohen_kappa': 0.35966735966735963, 'true_positive_rate': 0.6190476190476191, 'true_negative_rate': 0.7391304347826086, 'positive_predictive_value': 0.6842105263157895, 'negative_predictive_value': 0.68, 'false_positive_rate': 0.2608695652173913, 'false_negative_rate': 0.38095238095238093, 'false_discovery_rate': 0.3157894736842105}\n"
     ]
    },
    {
     "name": "stderr",
     "output_type": "stream",
     "text": [
      "WARNING: There is a new version of neptune-client 0.4.125 (installed: 0.4.124).\n"
     ]
    },
    {
     "name": "stdout",
     "output_type": "stream",
     "text": [
      "https://ui.neptune.ai/intelliscope/RefinedTreshold-Hybrid-Test/e/REF1-95\n",
      "\n",
      "\n",
      " Experiment(HYBRID-17)\n",
      "194/194 [==============================] - 1s 4ms/sample\n",
      "\n",
      "fpr : 0.08333333333333333 , tpr : 0.75 , gmeans : 0.82915619758885\n",
      "optimal_threshold :  0.7777777777777778 \n",
      "\n",
      "372/372 [==============================] - 1s 4ms/sample\n",
      "{'accuracy': 0.7272727272727273, 'precision': 0.7142857142857143, 'recall': 0.7142857142857143, 'f1_score': 0.7142857142857143, 'f2_score': 0.7142857142857143, 'matthews_corrcoef': 0.453416149068323, 'cohen_kappa': 0.45341614906832295, 'true_positive_rate': 0.7142857142857143, 'true_negative_rate': 0.7391304347826086, 'positive_predictive_value': 0.7142857142857143, 'negative_predictive_value': 0.7391304347826086, 'false_positive_rate': 0.2608695652173913, 'false_negative_rate': 0.2857142857142857, 'false_discovery_rate': 0.2857142857142857}\n"
     ]
    },
    {
     "name": "stderr",
     "output_type": "stream",
     "text": [
      "WARNING: There is a new version of neptune-client 0.4.125 (installed: 0.4.124).\n",
      "NVMLError: NVML Shared Library Not Found - GPU usage metrics may not be reported.\n"
     ]
    },
    {
     "name": "stdout",
     "output_type": "stream",
     "text": [
      "https://ui.neptune.ai/intelliscope/RefinedTreshold-Hybrid-Test/e/REF1-96\n",
      "\n",
      "\n",
      " Experiment(HYBRID-18)\n",
      "194/194 [==============================] - 1s 4ms/sample\n",
      "\n",
      "fpr : 0.0 , tpr : 0.8333333333333334 , gmeans : 0.9128709291752769\n",
      "optimal_threshold :  0.6666666666666666 \n",
      "\n",
      "372/372 [==============================] - 1s 4ms/sample\n",
      "{'accuracy': 0.75, 'precision': 0.8571428571428571, 'recall': 0.5714285714285714, 'f1_score': 0.6857142857142857, 'f2_score': 0.6122448979591836, 'matthews_corrcoef': 0.5195383931624605, 'cohen_kappa': 0.4915966386554622, 'true_positive_rate': 0.5714285714285714, 'true_negative_rate': 0.9130434782608695, 'positive_predictive_value': 0.8571428571428571, 'negative_predictive_value': 0.7, 'false_positive_rate': 0.08695652173913043, 'false_negative_rate': 0.42857142857142855, 'false_discovery_rate': 0.14285714285714285}\n"
     ]
    },
    {
     "name": "stderr",
     "output_type": "stream",
     "text": [
      "WARNING: There is a new version of neptune-client 0.4.125 (installed: 0.4.124).\n"
     ]
    },
    {
     "name": "stdout",
     "output_type": "stream",
     "text": [
      "https://ui.neptune.ai/intelliscope/RefinedTreshold-Hybrid-Test/e/REF1-97\n",
      "\n",
      "\n",
      " Experiment(HYBRID-19)\n",
      "194/194 [==============================] - 1s 4ms/sample\n",
      "\n",
      "fpr : 0.0 , tpr : 0.6666666666666666 , gmeans : 0.816496580927726\n",
      "optimal_threshold :  0.75 \n",
      "\n",
      "372/372 [==============================] - 1s 4ms/sample\n",
      "{'accuracy': 0.7272727272727273, 'precision': 0.8, 'recall': 0.5714285714285714, 'f1_score': 0.6666666666666666, 'f2_score': 0.6060606060606061, 'matthews_corrcoef': 0.46468794873334957, 'cohen_kappa': 0.44654088050314467, 'true_positive_rate': 0.5714285714285714, 'true_negative_rate': 0.8695652173913043, 'positive_predictive_value': 0.8, 'negative_predictive_value': 0.6896551724137931, 'false_positive_rate': 0.13043478260869565, 'false_negative_rate': 0.42857142857142855, 'false_discovery_rate': 0.2}\n"
     ]
    },
    {
     "name": "stderr",
     "output_type": "stream",
     "text": [
      "WARNING: There is a new version of neptune-client 0.4.125 (installed: 0.4.124).\n"
     ]
    },
    {
     "name": "stdout",
     "output_type": "stream",
     "text": [
      "https://ui.neptune.ai/intelliscope/RefinedTreshold-Hybrid-Test/e/REF1-98\n",
      "\n",
      "\n",
      " Experiment(HYBRID-20)\n",
      "194/194 [==============================] - 1s 4ms/sample\n",
      "\n",
      "fpr : 0.0 , tpr : 0.8333333333333334 , gmeans : 0.9128709291752769\n",
      "optimal_threshold :  0.7 \n",
      "\n",
      "372/372 [==============================] - 1s 4ms/sample\n",
      "{'accuracy': 0.7272727272727273, 'precision': 0.7647058823529411, 'recall': 0.6190476190476191, 'f1_score': 0.6842105263157895, 'f2_score': 0.6435643564356436, 'matthews_corrcoef': 0.45662380827322546, 'cohen_kappa': 0.44885177453027136, 'true_positive_rate': 0.6190476190476191, 'true_negative_rate': 0.8260869565217391, 'positive_predictive_value': 0.7647058823529411, 'negative_predictive_value': 0.7037037037037037, 'false_positive_rate': 0.17391304347826086, 'false_negative_rate': 0.38095238095238093, 'false_discovery_rate': 0.23529411764705882}\n"
     ]
    },
    {
     "name": "stderr",
     "output_type": "stream",
     "text": [
      "WARNING: There is a new version of neptune-client 0.4.125 (installed: 0.4.124).\n",
      "NVMLError: NVML Shared Library Not Found - GPU usage metrics may not be reported.\n"
     ]
    },
    {
     "name": "stdout",
     "output_type": "stream",
     "text": [
      "https://ui.neptune.ai/intelliscope/RefinedTreshold-Hybrid-Test/e/REF1-99\n",
      "\n",
      "\n",
      " Experiment(HYBRID-21)\n",
      "194/194 [==============================] - 1s 4ms/sample\n",
      "\n",
      "fpr : 0.25 , tpr : 0.75 , gmeans : 0.75\n",
      "optimal_threshold :  0.6666666666666666 \n",
      "\n",
      "372/372 [==============================] - 1s 4ms/sample\n",
      "{'accuracy': 0.75, 'precision': 0.8571428571428571, 'recall': 0.5714285714285714, 'f1_score': 0.6857142857142857, 'f2_score': 0.6122448979591836, 'matthews_corrcoef': 0.5195383931624605, 'cohen_kappa': 0.4915966386554622, 'true_positive_rate': 0.5714285714285714, 'true_negative_rate': 0.9130434782608695, 'positive_predictive_value': 0.8571428571428571, 'negative_predictive_value': 0.7, 'false_positive_rate': 0.08695652173913043, 'false_negative_rate': 0.42857142857142855, 'false_discovery_rate': 0.14285714285714285}\n"
     ]
    },
    {
     "name": "stderr",
     "output_type": "stream",
     "text": [
      "WARNING: There is a new version of neptune-client 0.4.125 (installed: 0.4.124).\n"
     ]
    },
    {
     "name": "stdout",
     "output_type": "stream",
     "text": [
      "https://ui.neptune.ai/intelliscope/RefinedTreshold-Hybrid-Test/e/REF1-100\n",
      "\n",
      "\n",
      " Experiment(HYBRID-22)\n",
      "194/194 [==============================] - 1s 4ms/sample\n",
      "\n",
      "fpr : 0.08333333333333333 , tpr : 0.9166666666666666 , gmeans : 0.9166666666666666\n",
      "optimal_threshold :  0.5 \n",
      "\n",
      "372/372 [==============================] - 1s 4ms/sample\n",
      "{'accuracy': 0.7045454545454546, 'precision': 0.7857142857142857, 'recall': 0.5238095238095238, 'f1_score': 0.6285714285714286, 'f2_score': 0.5612244897959184, 'matthews_corrcoef': 0.4218474132515705, 'cohen_kappa': 0.39915966386554624, 'true_positive_rate': 0.5238095238095238, 'true_negative_rate': 0.8695652173913043, 'positive_predictive_value': 0.7857142857142857, 'negative_predictive_value': 0.6666666666666666, 'false_positive_rate': 0.13043478260869565, 'false_negative_rate': 0.47619047619047616, 'false_discovery_rate': 0.21428571428571427}\n"
     ]
    },
    {
     "name": "stderr",
     "output_type": "stream",
     "text": [
      "WARNING: There is a new version of neptune-client 0.4.125 (installed: 0.4.124).\n"
     ]
    },
    {
     "name": "stdout",
     "output_type": "stream",
     "text": [
      "https://ui.neptune.ai/intelliscope/RefinedTreshold-Hybrid-Test/e/REF1-101\n",
      "\n",
      "\n",
      " Experiment(HYBRID-23)\n",
      "194/194 [==============================] - 1s 4ms/sample\n",
      "\n",
      "fpr : 0.25 , tpr : 0.9166666666666666 , gmeans : 0.82915619758885\n",
      "optimal_threshold :  0.4 \n",
      "\n",
      "372/372 [==============================] - 1s 4ms/sample\n",
      "{'accuracy': 0.6590909090909091, 'precision': 0.6363636363636364, 'recall': 0.6666666666666666, 'f1_score': 0.6511627906976744, 'f2_score': 0.660377358490566, 'matthews_corrcoef': 0.31851102863530306, 'cohen_kappa': 0.31818181818181823, 'true_positive_rate': 0.6666666666666666, 'true_negative_rate': 0.6521739130434783, 'positive_predictive_value': 0.6363636363636364, 'negative_predictive_value': 0.6818181818181818, 'false_positive_rate': 0.34782608695652173, 'false_negative_rate': 0.3333333333333333, 'false_discovery_rate': 0.36363636363636365}\n"
     ]
    },
    {
     "name": "stderr",
     "output_type": "stream",
     "text": [
      "WARNING: There is a new version of neptune-client 0.4.125 (installed: 0.4.124).\n",
      "NVMLError: NVML Shared Library Not Found - GPU usage metrics may not be reported.\n"
     ]
    },
    {
     "name": "stdout",
     "output_type": "stream",
     "text": [
      "https://ui.neptune.ai/intelliscope/RefinedTreshold-Hybrid-Test/e/REF1-102\n",
      "\n",
      "\n",
      " Experiment(HYBRID-24)\n",
      "194/194 [==============================] - 1s 4ms/sample\n",
      "\n",
      "fpr : 0.08333333333333333 , tpr : 0.8333333333333334 , gmeans : 0.8740073734751262\n",
      "optimal_threshold :  0.3333333333333333 \n",
      "\n",
      "372/372 [==============================] - 1s 4ms/sample\n",
      "{'accuracy': 0.75, 'precision': 0.8125, 'recall': 0.6190476190476191, 'f1_score': 0.7027027027027026, 'f2_score': 0.65, 'matthews_corrcoef': 0.5073403808614559, 'cohen_kappa': 0.4937238493723849, 'true_positive_rate': 0.6190476190476191, 'true_negative_rate': 0.8695652173913043, 'positive_predictive_value': 0.8125, 'negative_predictive_value': 0.7142857142857143, 'false_positive_rate': 0.13043478260869565, 'false_negative_rate': 0.38095238095238093, 'false_discovery_rate': 0.1875}\n"
     ]
    },
    {
     "name": "stderr",
     "output_type": "stream",
     "text": [
      "WARNING: There is a new version of neptune-client 0.4.125 (installed: 0.4.124).\n"
     ]
    },
    {
     "name": "stdout",
     "output_type": "stream",
     "text": [
      "https://ui.neptune.ai/intelliscope/RefinedTreshold-Hybrid-Test/e/REF1-103\n",
      "\n",
      "\n",
      " Experiment(HYBRID-25)\n",
      "194/194 [==============================] - 1s 4ms/sample\n",
      "\n",
      "fpr : 0.16666666666666666 , tpr : 1.0 , gmeans : 0.9128709291752769\n",
      "optimal_threshold :  0.3333333333333333 \n",
      "\n",
      "372/372 [==============================] - 1s 4ms/sample\n",
      "{'accuracy': 0.8181818181818182, 'precision': 0.7407407407407407, 'recall': 0.9523809523809523, 'f1_score': 0.8333333333333334, 'f2_score': 0.9009009009009007, 'matthews_corrcoef': 0.6647593115791608, 'cohen_kappa': 0.640081799591002, 'true_positive_rate': 0.9523809523809523, 'true_negative_rate': 0.6956521739130435, 'positive_predictive_value': 0.7407407407407407, 'negative_predictive_value': 0.9411764705882353, 'false_positive_rate': 0.30434782608695654, 'false_negative_rate': 0.047619047619047616, 'false_discovery_rate': 0.25925925925925924}\n"
     ]
    },
    {
     "name": "stderr",
     "output_type": "stream",
     "text": [
      "WARNING: There is a new version of neptune-client 0.4.125 (installed: 0.4.124).\n"
     ]
    },
    {
     "name": "stdout",
     "output_type": "stream",
     "text": [
      "https://ui.neptune.ai/intelliscope/RefinedTreshold-Hybrid-Test/e/REF1-104\n",
      "\n",
      "\n",
      " Experiment(HYBRID-26)\n",
      "194/194 [==============================] - 1s 4ms/sample\n",
      "\n",
      "fpr : 0.25 , tpr : 0.6666666666666666 , gmeans : 0.7071067811865476\n",
      "optimal_threshold :  0.7777777777777778 \n",
      "\n",
      "372/372 [==============================] - 1s 4ms/sample\n",
      "{'accuracy': 0.75, 'precision': 1.0, 'recall': 0.47619047619047616, 'f1_score': 0.6451612903225806, 'f2_score': 0.5319148936170213, 'matthews_corrcoef': 0.5675639625104965, 'cohen_kappa': 0.48728813559322026, 'true_positive_rate': 0.47619047619047616, 'true_negative_rate': 1.0, 'positive_predictive_value': 1.0, 'negative_predictive_value': 0.6764705882352942, 'false_positive_rate': 0.0, 'false_negative_rate': 0.5238095238095238, 'false_discovery_rate': 0.0}\n"
     ]
    },
    {
     "name": "stderr",
     "output_type": "stream",
     "text": [
      "WARNING: There is a new version of neptune-client 0.4.125 (installed: 0.4.124).\n",
      "NVMLError: NVML Shared Library Not Found - GPU usage metrics may not be reported.\n"
     ]
    },
    {
     "name": "stdout",
     "output_type": "stream",
     "text": [
      "https://ui.neptune.ai/intelliscope/RefinedTreshold-Hybrid-Test/e/REF1-105\n",
      "\n",
      "\n",
      " Experiment(HYBRID-27)\n",
      "194/194 [==============================] - 1s 4ms/sample\n",
      "\n",
      "fpr : 0.0 , tpr : 0.9166666666666666 , gmeans : 0.9574271077563381\n",
      "optimal_threshold :  0.6666666666666666 \n",
      "\n",
      "372/372 [==============================] - 1s 4ms/sample\n",
      "{'accuracy': 0.7272727272727273, 'precision': 0.8461538461538461, 'recall': 0.5238095238095238, 'f1_score': 0.6470588235294118, 'f2_score': 0.5670103092783506, 'matthews_corrcoef': 0.47825152865119364, 'cohen_kappa': 0.4442105263157895, 'true_positive_rate': 0.5238095238095238, 'true_negative_rate': 0.9130434782608695, 'positive_predictive_value': 0.8461538461538461, 'negative_predictive_value': 0.6774193548387096, 'false_positive_rate': 0.08695652173913043, 'false_negative_rate': 0.47619047619047616, 'false_discovery_rate': 0.15384615384615385}\n"
     ]
    },
    {
     "name": "stderr",
     "output_type": "stream",
     "text": [
      "WARNING: There is a new version of neptune-client 0.4.125 (installed: 0.4.124).\n"
     ]
    },
    {
     "name": "stdout",
     "output_type": "stream",
     "text": [
      "https://ui.neptune.ai/intelliscope/RefinedTreshold-Hybrid-Test/e/REF1-106\n",
      "\n",
      "\n",
      " Experiment(HYBRID-28)\n",
      "WARNING:tensorflow:Large dropout rate: 0.6 (>0.5). In TensorFlow 2.x, dropout() uses dropout rate instead of keep_prob. Please ensure that this is intended.\n",
      "194/194 [==============================] - 1s 4ms/sample\n",
      "\n",
      "fpr : 0.0 , tpr : 0.9166666666666666 , gmeans : 0.9574271077563381\n",
      "optimal_threshold :  0.4 \n",
      "\n",
      "372/372 [==============================] - 1s 4ms/sample\n",
      "{'accuracy': 0.8409090909090909, 'precision': 0.8888888888888888, 'recall': 0.7619047619047619, 'f1_score': 0.8205128205128205, 'f2_score': 0.7843137254901961, 'matthews_corrcoef': 0.6856794096113347, 'cohen_kappa': 0.6791666666666667, 'true_positive_rate': 0.7619047619047619, 'true_negative_rate': 0.9130434782608695, 'positive_predictive_value': 0.8888888888888888, 'negative_predictive_value': 0.8076923076923077, 'false_positive_rate': 0.08695652173913043, 'false_negative_rate': 0.23809523809523808, 'false_discovery_rate': 0.1111111111111111}\n"
     ]
    },
    {
     "name": "stderr",
     "output_type": "stream",
     "text": [
      "WARNING: There is a new version of neptune-client 0.4.125 (installed: 0.4.124).\n"
     ]
    },
    {
     "name": "stdout",
     "output_type": "stream",
     "text": [
      "https://ui.neptune.ai/intelliscope/RefinedTreshold-Hybrid-Test/e/REF1-107\n",
      "\n",
      "\n",
      " Experiment(HYBRID-29)\n",
      "194/194 [==============================] - 1s 4ms/sample\n",
      "\n",
      "fpr : 0.0 , tpr : 1.0 , gmeans : 1.0\n",
      "optimal_threshold :  0.6666666666666666 \n",
      "\n",
      "372/372 [==============================] - 1s 4ms/sample\n",
      "{'accuracy': 0.7045454545454546, 'precision': 0.75, 'recall': 0.5714285714285714, 'f1_score': 0.6486486486486486, 'f2_score': 0.6, 'matthews_corrcoef': 0.4127514962940658, 'cohen_kappa': 0.40167364016736395, 'true_positive_rate': 0.5714285714285714, 'true_negative_rate': 0.8260869565217391, 'positive_predictive_value': 0.75, 'negative_predictive_value': 0.6785714285714286, 'false_positive_rate': 0.17391304347826086, 'false_negative_rate': 0.42857142857142855, 'false_discovery_rate': 0.25}\n"
     ]
    },
    {
     "name": "stderr",
     "output_type": "stream",
     "text": [
      "WARNING: There is a new version of neptune-client 0.4.125 (installed: 0.4.124).\n",
      "NVMLError: NVML Shared Library Not Found - GPU usage metrics may not be reported.\n"
     ]
    },
    {
     "name": "stdout",
     "output_type": "stream",
     "text": [
      "https://ui.neptune.ai/intelliscope/RefinedTreshold-Hybrid-Test/e/REF1-108\n",
      "\n",
      "\n",
      " Experiment(HYBRID-30)\n",
      "194/194 [==============================] - 1s 4ms/sample\n",
      "\n",
      "fpr : 0.3333333333333333 , tpr : 0.5833333333333334 , gmeans : 0.6236095644623236\n",
      "optimal_threshold :  1.0 \n",
      "\n",
      "372/372 [==============================] - 1s 4ms/sample\n",
      "{'accuracy': 0.5227272727272727, 'precision': 0.0, 'recall': 0.0, 'f1_score': 0.0, 'f2_score': 0.0, 'matthews_corrcoef': 0.0, 'cohen_kappa': 0.0, 'true_positive_rate': 0.0, 'true_negative_rate': 1.0, 'positive_predictive_value': nan, 'negative_predictive_value': 0.5227272727272727, 'false_positive_rate': 0.0, 'false_negative_rate': 1.0, 'false_discovery_rate': nan}\n"
     ]
    },
    {
     "name": "stderr",
     "output_type": "stream",
     "text": [
      "WARNING: There is a new version of neptune-client 0.4.125 (installed: 0.4.124).\n"
     ]
    },
    {
     "name": "stdout",
     "output_type": "stream",
     "text": [
      "https://ui.neptune.ai/intelliscope/RefinedTreshold-Hybrid-Test/e/REF1-109\n"
     ]
    },
    {
     "name": "stderr",
     "output_type": "stream",
     "text": [
      "Invalid metric value: nan for channel positive_predictive_value. Metrics with nan or +/-inf values will not be sent to server\n",
      "Invalid metric value: nan for channel false_discovery_rate. Metrics with nan or +/-inf values will not be sent to server\n"
     ]
    },
    {
     "name": "stdout",
     "output_type": "stream",
     "text": [
      "\n",
      "\n",
      " Experiment(HYBRID-31)\n"
     ]
    },
    {
     "ename": "ValueError",
     "evalue": "Unknown optimizer: RectifiedAdam",
     "output_type": "error",
     "traceback": [
      "\u001b[0;31m---------------------------------------------------------------------------\u001b[0m",
      "\u001b[0;31mValueError\u001b[0m                                Traceback (most recent call last)",
      "\u001b[0;32m<ipython-input-5-96e338516597>\u001b[0m in \u001b[0;36m<module>\u001b[0;34m\u001b[0m\n\u001b[1;32m     14\u001b[0m     \u001b[0mPARAMS\u001b[0m\u001b[0;34m[\u001b[0m\u001b[0;34m'tags'\u001b[0m\u001b[0;34m]\u001b[0m\u001b[0;34m=\u001b[0m\u001b[0mPARAMS\u001b[0m\u001b[0;34m[\u001b[0m\u001b[0;34m'tags'\u001b[0m\u001b[0;34m]\u001b[0m\u001b[0;34m[\u001b[0m\u001b[0;36m2\u001b[0m\u001b[0;34m:\u001b[0m\u001b[0;34m-\u001b[0m\u001b[0;36m2\u001b[0m\u001b[0;34m]\u001b[0m\u001b[0;34m.\u001b[0m\u001b[0mstrip\u001b[0m\u001b[0;34m(\u001b[0m\u001b[0;34m)\u001b[0m\u001b[0;34m.\u001b[0m\u001b[0msplit\u001b[0m\u001b[0;34m(\u001b[0m\u001b[0;34m\"', '\"\u001b[0m\u001b[0;34m)\u001b[0m\u001b[0;34m+\u001b[0m \u001b[0mPARAMS_COMMON\u001b[0m\u001b[0;34m[\u001b[0m\u001b[0;34m'tags'\u001b[0m\u001b[0;34m]\u001b[0m\u001b[0;34m\u001b[0m\u001b[0;34m\u001b[0m\u001b[0m\n\u001b[1;32m     15\u001b[0m \u001b[0;34m\u001b[0m\u001b[0m\n\u001b[0;32m---> 16\u001b[0;31m     \u001b[0mmodel\u001b[0m \u001b[0;34m=\u001b[0m \u001b[0mload_model\u001b[0m\u001b[0;34m(\u001b[0m\u001b[0mPARAMS\u001b[0m\u001b[0;34m[\u001b[0m\u001b[0;34m'modelsave_dir'\u001b[0m\u001b[0;34m]\u001b[0m\u001b[0;34m+\u001b[0m\u001b[0;34m'/'\u001b[0m\u001b[0;34m+\u001b[0m\u001b[0mmodel_name\u001b[0m\u001b[0;34m)\u001b[0m\u001b[0;34m\u001b[0m\u001b[0;34m\u001b[0m\u001b[0m\n\u001b[0m\u001b[1;32m     17\u001b[0m \u001b[0;34m\u001b[0m\u001b[0m\n\u001b[1;32m     18\u001b[0m     \u001b[0my_val\u001b[0m\u001b[0;34m,\u001b[0m \u001b[0my_val_pred\u001b[0m\u001b[0;34m=\u001b[0m\u001b[0mget_results\u001b[0m\u001b[0;34m(\u001b[0m\u001b[0mmodel\u001b[0m\u001b[0;34m,\u001b[0m \u001b[0mX_val_pcg\u001b[0m\u001b[0;34m,\u001b[0m \u001b[0mX_val_ecg\u001b[0m\u001b[0;34m,\u001b[0m \u001b[0mY_val\u001b[0m\u001b[0;34m)\u001b[0m\u001b[0;34m\u001b[0m\u001b[0;34m\u001b[0m\u001b[0m\n",
      "\u001b[0;32m~/core-env/lib/python3.6/site-packages/tensorflow_core/python/keras/saving/save.py\u001b[0m in \u001b[0;36mload_model\u001b[0;34m(filepath, custom_objects, compile)\u001b[0m\n\u001b[1;32m    144\u001b[0m   if (h5py is not None and (\n\u001b[1;32m    145\u001b[0m       isinstance(filepath, h5py.File) or h5py.is_hdf5(filepath))):\n\u001b[0;32m--> 146\u001b[0;31m     \u001b[0;32mreturn\u001b[0m \u001b[0mhdf5_format\u001b[0m\u001b[0;34m.\u001b[0m\u001b[0mload_model_from_hdf5\u001b[0m\u001b[0;34m(\u001b[0m\u001b[0mfilepath\u001b[0m\u001b[0;34m,\u001b[0m \u001b[0mcustom_objects\u001b[0m\u001b[0;34m,\u001b[0m \u001b[0mcompile\u001b[0m\u001b[0;34m)\u001b[0m\u001b[0;34m\u001b[0m\u001b[0;34m\u001b[0m\u001b[0m\n\u001b[0m\u001b[1;32m    147\u001b[0m \u001b[0;34m\u001b[0m\u001b[0m\n\u001b[1;32m    148\u001b[0m   \u001b[0;32mif\u001b[0m \u001b[0misinstance\u001b[0m\u001b[0;34m(\u001b[0m\u001b[0mfilepath\u001b[0m\u001b[0;34m,\u001b[0m \u001b[0msix\u001b[0m\u001b[0;34m.\u001b[0m\u001b[0mstring_types\u001b[0m\u001b[0;34m)\u001b[0m\u001b[0;34m:\u001b[0m\u001b[0;34m\u001b[0m\u001b[0;34m\u001b[0m\u001b[0m\n",
      "\u001b[0;32m~/core-env/lib/python3.6/site-packages/tensorflow_core/python/keras/saving/hdf5_format.py\u001b[0m in \u001b[0;36mload_model_from_hdf5\u001b[0;34m(filepath, custom_objects, compile)\u001b[0m\n\u001b[1;32m    182\u001b[0m       \u001b[0;31m# Compile model.\u001b[0m\u001b[0;34m\u001b[0m\u001b[0;34m\u001b[0m\u001b[0;34m\u001b[0m\u001b[0m\n\u001b[1;32m    183\u001b[0m       model.compile(**saving_utils.compile_args_from_training_config(\n\u001b[0;32m--> 184\u001b[0;31m           training_config, custom_objects))\n\u001b[0m\u001b[1;32m    185\u001b[0m \u001b[0;34m\u001b[0m\u001b[0m\n\u001b[1;32m    186\u001b[0m       \u001b[0;31m# Set optimizer weights.\u001b[0m\u001b[0;34m\u001b[0m\u001b[0;34m\u001b[0m\u001b[0;34m\u001b[0m\u001b[0m\n",
      "\u001b[0;32m~/core-env/lib/python3.6/site-packages/tensorflow_core/python/keras/saving/saving_utils.py\u001b[0m in \u001b[0;36mcompile_args_from_training_config\u001b[0;34m(training_config, custom_objects)\u001b[0m\n\u001b[1;32m    227\u001b[0m   \u001b[0moptimizer_config\u001b[0m \u001b[0;34m=\u001b[0m \u001b[0mtraining_config\u001b[0m\u001b[0;34m[\u001b[0m\u001b[0;34m'optimizer_config'\u001b[0m\u001b[0;34m]\u001b[0m\u001b[0;34m\u001b[0m\u001b[0;34m\u001b[0m\u001b[0m\n\u001b[1;32m    228\u001b[0m   optimizer = optimizers.deserialize(\n\u001b[0;32m--> 229\u001b[0;31m       optimizer_config, custom_objects=custom_objects)\n\u001b[0m\u001b[1;32m    230\u001b[0m \u001b[0;34m\u001b[0m\u001b[0m\n\u001b[1;32m    231\u001b[0m   \u001b[0;31m# Recover loss functions and metrics.\u001b[0m\u001b[0;34m\u001b[0m\u001b[0;34m\u001b[0m\u001b[0;34m\u001b[0m\u001b[0m\n",
      "\u001b[0;32m~/core-env/lib/python3.6/site-packages/tensorflow_core/python/keras/optimizers.py\u001b[0m in \u001b[0;36mdeserialize\u001b[0;34m(config, custom_objects)\u001b[0m\n\u001b[1;32m    817\u001b[0m       \u001b[0mmodule_objects\u001b[0m\u001b[0;34m=\u001b[0m\u001b[0mall_classes\u001b[0m\u001b[0;34m,\u001b[0m\u001b[0;34m\u001b[0m\u001b[0;34m\u001b[0m\u001b[0m\n\u001b[1;32m    818\u001b[0m       \u001b[0mcustom_objects\u001b[0m\u001b[0;34m=\u001b[0m\u001b[0mcustom_objects\u001b[0m\u001b[0;34m,\u001b[0m\u001b[0;34m\u001b[0m\u001b[0;34m\u001b[0m\u001b[0m\n\u001b[0;32m--> 819\u001b[0;31m       printable_module_name='optimizer')\n\u001b[0m\u001b[1;32m    820\u001b[0m \u001b[0;34m\u001b[0m\u001b[0m\n\u001b[1;32m    821\u001b[0m \u001b[0;34m\u001b[0m\u001b[0m\n",
      "\u001b[0;32m~/core-env/lib/python3.6/site-packages/tensorflow_core/python/keras/utils/generic_utils.py\u001b[0m in \u001b[0;36mdeserialize_keras_object\u001b[0;34m(identifier, module_objects, custom_objects, printable_module_name)\u001b[0m\n\u001b[1;32m    290\u001b[0m     \u001b[0mconfig\u001b[0m \u001b[0;34m=\u001b[0m \u001b[0midentifier\u001b[0m\u001b[0;34m\u001b[0m\u001b[0;34m\u001b[0m\u001b[0m\n\u001b[1;32m    291\u001b[0m     (cls, cls_config) = class_and_config_for_serialized_keras_object(\n\u001b[0;32m--> 292\u001b[0;31m         config, module_objects, custom_objects, printable_module_name)\n\u001b[0m\u001b[1;32m    293\u001b[0m \u001b[0;34m\u001b[0m\u001b[0m\n\u001b[1;32m    294\u001b[0m     \u001b[0;32mif\u001b[0m \u001b[0mhasattr\u001b[0m\u001b[0;34m(\u001b[0m\u001b[0mcls\u001b[0m\u001b[0;34m,\u001b[0m \u001b[0;34m'from_config'\u001b[0m\u001b[0;34m)\u001b[0m\u001b[0;34m:\u001b[0m\u001b[0;34m\u001b[0m\u001b[0;34m\u001b[0m\u001b[0m\n",
      "\u001b[0;32m~/core-env/lib/python3.6/site-packages/tensorflow_core/python/keras/utils/generic_utils.py\u001b[0m in \u001b[0;36mclass_and_config_for_serialized_keras_object\u001b[0;34m(config, module_objects, custom_objects, printable_module_name)\u001b[0m\n\u001b[1;32m    248\u001b[0m     \u001b[0mcls\u001b[0m \u001b[0;34m=\u001b[0m \u001b[0mmodule_objects\u001b[0m\u001b[0;34m.\u001b[0m\u001b[0mget\u001b[0m\u001b[0;34m(\u001b[0m\u001b[0mclass_name\u001b[0m\u001b[0;34m)\u001b[0m\u001b[0;34m\u001b[0m\u001b[0;34m\u001b[0m\u001b[0m\n\u001b[1;32m    249\u001b[0m     \u001b[0;32mif\u001b[0m \u001b[0mcls\u001b[0m \u001b[0;32mis\u001b[0m \u001b[0;32mNone\u001b[0m\u001b[0;34m:\u001b[0m\u001b[0;34m\u001b[0m\u001b[0;34m\u001b[0m\u001b[0m\n\u001b[0;32m--> 250\u001b[0;31m       \u001b[0;32mraise\u001b[0m \u001b[0mValueError\u001b[0m\u001b[0;34m(\u001b[0m\u001b[0;34m'Unknown '\u001b[0m \u001b[0;34m+\u001b[0m \u001b[0mprintable_module_name\u001b[0m \u001b[0;34m+\u001b[0m \u001b[0;34m': '\u001b[0m \u001b[0;34m+\u001b[0m \u001b[0mclass_name\u001b[0m\u001b[0;34m)\u001b[0m\u001b[0;34m\u001b[0m\u001b[0;34m\u001b[0m\u001b[0m\n\u001b[0m\u001b[1;32m    251\u001b[0m \u001b[0;34m\u001b[0m\u001b[0m\n\u001b[1;32m    252\u001b[0m   \u001b[0mcls_config\u001b[0m \u001b[0;34m=\u001b[0m \u001b[0mconfig\u001b[0m\u001b[0;34m[\u001b[0m\u001b[0;34m'config'\u001b[0m\u001b[0;34m]\u001b[0m\u001b[0;34m\u001b[0m\u001b[0;34m\u001b[0m\u001b[0m\n",
      "\u001b[0;31mValueError\u001b[0m: Unknown optimizer: RectifiedAdam"
     ]
    }
   ],
   "source": [
    "X_test_pcg = X_test[:,:,:,0:3]/255.0\n",
    "X_test_ecg = X_test[:,:,:,3:6]/255.0\n",
    "\n",
    "X_val_pcg = X_val[:,:,:,0:3]/255.0\n",
    "X_val_ecg = X_val[:,:,:,3:6]/255.0\n",
    "\n",
    "for i in range(len(projects)):\n",
    "        \n",
    "    project    = projects[i]\n",
    "    print('\\n\\n',str(project))\n",
    "    \n",
    "    model_name = str(project)+'.h5'\n",
    "    PARAMS     = project.get_parameters()\n",
    "    PARAMS['tags']=PARAMS['tags'][2:-2].strip().split(\"', '\")+ PARAMS_COMMON['tags']\n",
    "    \n",
    "    model = load_model(PARAMS['modelsave_dir']+'/'+model_name)\n",
    "    \n",
    "    y_val, y_val_pred=get_results(model, X_val_pcg, X_val_ecg, Y_val)\n",
    "    y_val, y_val_pred=get_individual_metrics(y_val, y_val_pred, names_val)\n",
    "    \n",
    "    optimal_thres=get_optimal_thres(model, y_val, y_val_pred)\n",
    "    \n",
    "    print('optimal_threshold : ',  optimal_thres, '\\n')\n",
    "    y_test, y_test_pred=get_results(model, X_test_pcg, X_test_ecg, Y_test)\n",
    "    y_test, y_test_pred=get_individual_metrics(y_test, y_test_pred, names_test)\n",
    "    \n",
    "    \n",
    "    sk_metrics=custom_metrics._class_metrics(y_test, y_test_pred[:, 1] > optimal_thres)\n",
    "    print(sk_metrics)\n",
    "    gmean=sqrt(sk_metrics['true_negative_rate']*sk_metrics['true_positive_rate'])\n",
    "    PARAMS['G-Mean']=gmean\n",
    "    PARAMS['optimal_threshold']=optimal_thres\n",
    "\n",
    "    neptune.init('intelliscope/'+PARAMS_COMMON['project_to'],NEPTUNE_API_TOKEN)\n",
    "    exp = neptune.create_experiment(name=str(project),description=PARAMS['name'],params=PARAMS,tags=PARAMS['tags'],upload_stdout=True)\n",
    "    try:\n",
    "        neptune_log_metrics(y_test, y_test_pred, optimal_thres)\n",
    "    except:pass\n",
    "    neptune.stop()"
   ]
  },
  {
   "cell_type": "code",
   "execution_count": null,
   "metadata": {},
   "outputs": [],
   "source": []
  }
 ],
 "metadata": {
  "kernelspec": {
   "display_name": "Python 3",
   "language": "python",
   "name": "python3"
  },
  "language_info": {
   "codemirror_mode": {
    "name": "ipython",
    "version": 3
   },
   "file_extension": ".py",
   "mimetype": "text/x-python",
   "name": "python",
   "nbconvert_exporter": "python",
   "pygments_lexer": "ipython3",
   "version": "3.6.9"
  }
 },
 "nbformat": 4,
 "nbformat_minor": 4
}
