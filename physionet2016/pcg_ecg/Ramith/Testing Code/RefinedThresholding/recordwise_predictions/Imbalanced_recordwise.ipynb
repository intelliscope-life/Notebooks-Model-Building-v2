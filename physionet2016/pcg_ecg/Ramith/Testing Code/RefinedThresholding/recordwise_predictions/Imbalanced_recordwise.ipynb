{
 "cells": [
  {
   "cell_type": "code",
   "execution_count": 1,
   "metadata": {},
   "outputs": [],
   "source": [
    "PARAMS_COMMON={\n",
    "    'project_from':'HYBRID-Imbalanced',\n",
    "    'project_to':'RefinedTreshold-Hybrid-Test'\n",
    "}"
   ]
  },
  {
   "cell_type": "code",
   "execution_count": 2,
   "metadata": {},
   "outputs": [
    {
     "name": "stderr",
     "output_type": "stream",
     "text": [
      "WARNING: Instantiating Session without specifying a backend is deprecated and will be removed in future versions. For current behaviour use `neptune.init(...)` or `Session.with_default_backend(...)\n",
      "WARNING: There is a new version of neptune-client 0.4.125 (installed: 0.4.124).\n"
     ]
    }
   ],
   "source": [
    "import sys\n",
    "sys.path.append('/home/ubuntu/intelliscope/modules')\n",
    "sys.path.append('../..')\n",
    "\n",
    "\n",
    "#!pip install neptune-client\n",
    "import os\n",
    "import neptune\n",
    "\n",
    "import tensorflow as tf\n",
    "from tensorflow.keras.models import load_model\n",
    "\n",
    "import matplotlib.pyplot as plt\n",
    "import cv2\n",
    "import numpy as np\n",
    "from tensorflow import keras\n",
    "from tensorflow.keras.models import Sequential, load_model\n",
    "from tensorflow.keras.layers import Conv2D, MaxPooling2D\n",
    "from tensorflow.keras.layers import Activation, Dropout, Flatten, Dense, Lambda,BatchNormalization\n",
    "from tensorflow.keras import backend as K\n",
    "from tensorflow_addons.layers import InstanceNormalization\n",
    "import tensorflow_addons as tfa\n",
    "from tensorflow.keras.layers import Activation, Dropout, Flatten, Dense, Lambda\n",
    "from tensorflow.keras.preprocessing.image import ImageDataGenerator, array_to_img, img_to_array, load_img\n",
    "\n",
    "\n",
    "from intelliscope import instead_data_loaders\n",
    "from sklearn.metrics import classification_report\n",
    "import numpy as np\n",
    "from neptunecontrib.monitoring.metrics import *\n",
    "from neptune.sessions import Session\n",
    "import custom_metrics\n",
    "\n",
    "\n",
    "NEPTUNE_API_TOKEN='eyJhcGlfYWRkcmVzcyI6Imh0dHBzOi8vdWkubmVwdHVuZS5haSIsImFwaV91cmwiOiJodHRwczovL3VpLm5lcHR1bmUuYWkiLCJhcGlfa2V5IjoiMzc1YTM5OGMtYTY3Ny00ZmM4LTg5ZGQtOGI2YTQ1YmZiMDkzIn0='\n",
    "session = Session(api_token=NEPTUNE_API_TOKEN)\n",
    "\n",
    "project = session.get_projects('intelliscope')['intelliscope/'+PARAMS_COMMON['project_from']]\n",
    "projects=project.get_experiments()\n",
    "\n",
    "\n",
    "\n",
    "def get_results(model=None, X_pcg=None, X_ecg=None, Y=None):    \n",
    "    y_pred = model.predict([X_pcg,X_ecg], batch_size=32, verbose=1)\n",
    "    y = np.argmax(Y,axis=1)\n",
    "    \n",
    "    return y, y_pred\n",
    "    \n",
    "\n",
    "\n",
    "def neptune_log_metrics(y_test=None, y_pred=None, threshold = 0.5):\n",
    "    log_confusion_matrix(y_test, y_pred[:, 1] > threshold)\n",
    "    log_classification_report(y_test, y_pred[:, 1] > threshold)\n",
    "    log_class_metrics(y_test, y_pred[:, 1] > threshold)\n",
    "    log_class_metrics_by_threshold(y_test, y_pred[:, 1])\n",
    "    log_brier_loss(y_test, y_pred[:, 1])\n",
    "    log_prediction_distribution(y_test, y_pred[:, 1])\n",
    "\n",
    "    log_log_loss(y_test, y_pred)\n",
    "    log_roc_auc(y_test, y_pred)\n",
    "    log_precision_recall_auc(y_test, y_pred)\n",
    "    log_ks_statistic(y_test, y_pred)\n",
    "    log_cumulative_gain(y_test, y_pred)\n",
    "    log_lift_curve(y_test, y_pred)\n",
    "    \n",
    "\n",
    "    "
   ]
  },
  {
   "cell_type": "code",
   "execution_count": 3,
   "metadata": {},
   "outputs": [
    {
     "name": "stdout",
     "output_type": "stream",
     "text": [
      "Total  340\n",
      "97 Images loaded across 2 Categories. Ignored blanks  8\n",
      "243 Images loaded across 2 Categories. Ignored blanks  0\n",
      "332 Total After removing blanks\n",
      "Total  707\n",
      "199 Images loaded across 2 Categories. Ignored blanks  60\n",
      "508 Images loaded across 2 Categories. Ignored blanks  9\n",
      "638 Total After removing blanks\n"
     ]
    }
   ],
   "source": [
    "project_name=PARAMS_COMMON['project_to']\n",
    "X_val,Y_val, names_val = instead_data_loaders(projects[0].get_parameters(),'val',True)\n",
    "X_test,Y_test, names_test = instead_data_loaders(projects[0].get_parameters(),'test', True)"
   ]
  },
  {
   "cell_type": "code",
   "execution_count": 4,
   "metadata": {},
   "outputs": [],
   "source": [
    "from sklearn.metrics import roc_curve\n",
    "from numpy import sqrt\n",
    "from numpy import argmax\n",
    "\n",
    "\n",
    "\n",
    "def get_optimal_thres(model, y_val, y_val_pred):\n",
    "    y_val_pred_1=y_val_pred[:,1]\n",
    "    fpr, tpr, thresholds = roc_curve(y_val, y_val_pred_1)\n",
    "    gmeans = sqrt(tpr * (1-fpr))\n",
    "    ix = argmax(gmeans)\n",
    "    \n",
    "    print(f'\\nfpr : {fpr[ix]} , tpr : {tpr[ix]} , gmeans : {gmeans[ix]}')\n",
    "    return thresholds[ix]\n",
    "    \n",
    "\n",
    "\n",
    "def get_individual_metrics(y_test, y_pred, names):\n",
    "    patient_preds={}\n",
    "    for i in range(len(names)): # create dict: patient_record_name: [start_point, label, [pred0, pred1]] \n",
    "        name=names[i]\n",
    "        record_name,record_start_point,_=name.strip().split('_')\n",
    "        if record_name in patient_preds:\n",
    "            patient_preds[record_name].append([int(record_start_point),y_test[i], list(y_pred[i])])\n",
    "        else:\n",
    "            patient_preds[record_name]=[[int(record_start_point),y_test[i], list(y_pred[i])]]\n",
    "\n",
    "    y_test_bulk, y_pred_bulk=[],[]    \n",
    "    for key in patient_preds: # return :: patient-wise y_test, y_preds\n",
    "        patient_pred=patient_preds[key]\n",
    "        label, pred_label=get_single_patient_pred(patient_pred, mean)\n",
    "\n",
    "        y_test_bulk.append(label)\n",
    "        y_pred_bulk.append(pred_label)\n",
    "\n",
    "    y_test_bulk=np.array(y_test_bulk)\n",
    "    y_pred_bulk=np.array(y_pred_bulk)\n",
    "    \n",
    "    return y_test_bulk, y_pred_bulk\n",
    "\n",
    "def mean(list_):\n",
    "    metric=np.mean(list_)\n",
    "    return [1-metric,metric]\n",
    "\n",
    "def get_single_patient_pred(patient_pred, func):\n",
    "    #print(patient_pred)\n",
    "    patient_pred.sort()\n",
    "    \n",
    "    y=np.array(patient_pred)[:,1]\n",
    "    \n",
    "    assert y.sum()%(y.shape[0])==0\n",
    "    label=y[0] # label of the patient\n",
    "    \n",
    "    rows=[]\n",
    "    for row in sorted(patient_pred):\n",
    "        rows.append(list(row[2]))\n",
    "    rows=np.array(rows)\n",
    "\n",
    "    y_preds=np.argmax(rows, axis=1)\n",
    "    pred_label=func(y_preds)\n",
    "    return label, pred_label\n"
   ]
  },
  {
   "cell_type": "code",
   "execution_count": 5,
   "metadata": {},
   "outputs": [
    {
     "name": "stdout",
     "output_type": "stream",
     "text": [
      "\n",
      "\n",
      " Experiment(HYBIM-1)\n",
      "332/332 [==============================] - 3s 8ms/sample\n",
      "\n",
      "fpr : 0.0 , tpr : 0.8275862068965517 , gmeans : 0.909717652294684\n",
      "optimal_threshold :  0.9 \n",
      "\n",
      "638/638 [==============================] - 5s 7ms/sample\n",
      "{'accuracy': 0.7808219178082192, 'precision': 0.9555555555555556, 'recall': 0.7543859649122807, 'f1_score': 0.8431372549019609, 'f2_score': 0.7875457875457875, 'matthews_corrcoef': 0.5354626718124088, 'cohen_kappa': 0.49568221070811747, 'true_positive_rate': 0.7543859649122807, 'true_negative_rate': 0.875, 'positive_predictive_value': 0.9555555555555556, 'negative_predictive_value': 0.5, 'false_positive_rate': 0.125, 'false_negative_rate': 0.24561403508771928, 'false_discovery_rate': 0.044444444444444446}\n"
     ]
    },
    {
     "name": "stderr",
     "output_type": "stream",
     "text": [
      "WARNING: There is a new version of neptune-client 0.4.125 (installed: 0.4.124).\n",
      "NVMLError: NVML Shared Library Not Found - GPU usage metrics may not be reported.\n"
     ]
    },
    {
     "name": "stdout",
     "output_type": "stream",
     "text": [
      "https://ui.neptune.ai/intelliscope/RefinedTreshold-Hybrid-Test/e/REF-34\n",
      "\n",
      "\n",
      " Experiment(HYBIM-2)\n",
      "332/332 [==============================] - 1s 5ms/sample\n",
      "\n",
      "fpr : 0.0 , tpr : 0.8275862068965517 , gmeans : 0.909717652294684\n",
      "optimal_threshold :  0.7777777777777778 \n",
      "\n",
      "638/638 [==============================] - 3s 4ms/sample\n",
      "{'accuracy': 0.821917808219178, 'precision': 0.9230769230769231, 'recall': 0.8421052631578947, 'f1_score': 0.8807339449541285, 'f2_score': 0.8571428571428572, 'matthews_corrcoef': 0.541109329024367, 'cohen_kappa': 0.5322819122720552, 'true_positive_rate': 0.8421052631578947, 'true_negative_rate': 0.75, 'positive_predictive_value': 0.9230769230769231, 'negative_predictive_value': 0.5714285714285714, 'false_positive_rate': 0.25, 'false_negative_rate': 0.15789473684210525, 'false_discovery_rate': 0.07692307692307693}\n"
     ]
    },
    {
     "name": "stderr",
     "output_type": "stream",
     "text": [
      "WARNING: There is a new version of neptune-client 0.4.125 (installed: 0.4.124).\n"
     ]
    },
    {
     "name": "stdout",
     "output_type": "stream",
     "text": [
      "https://ui.neptune.ai/intelliscope/RefinedTreshold-Hybrid-Test/e/REF-35\n",
      "\n",
      "\n",
      " Experiment(HYBIM-3)\n",
      "332/332 [==============================] - 2s 5ms/sample\n",
      "\n",
      "fpr : 0.0 , tpr : 0.896551724137931 , gmeans : 0.9468641529479986\n",
      "optimal_threshold :  0.7 \n",
      "\n",
      "638/638 [==============================] - 3s 4ms/sample\n",
      "{'accuracy': 0.863013698630137, 'precision': 0.9607843137254902, 'recall': 0.8596491228070176, 'f1_score': 0.9074074074074074, 'f2_score': 0.8781362007168458, 'matthews_corrcoef': 0.6623399563056614, 'cohen_kappa': 0.6473429951690821, 'true_positive_rate': 0.8596491228070176, 'true_negative_rate': 0.875, 'positive_predictive_value': 0.9607843137254902, 'negative_predictive_value': 0.6363636363636364, 'false_positive_rate': 0.125, 'false_negative_rate': 0.14035087719298245, 'false_discovery_rate': 0.0392156862745098}\n"
     ]
    },
    {
     "name": "stderr",
     "output_type": "stream",
     "text": [
      "WARNING: There is a new version of neptune-client 0.4.125 (installed: 0.4.124).\n",
      "NVMLError: NVML Shared Library Not Found - GPU usage metrics may not be reported.\n"
     ]
    },
    {
     "name": "stdout",
     "output_type": "stream",
     "text": [
      "https://ui.neptune.ai/intelliscope/RefinedTreshold-Hybrid-Test/e/REF-36\n",
      "\n",
      "\n",
      " Experiment(HYBIM-4)\n",
      "332/332 [==============================] - 1s 4ms/sample\n",
      "\n",
      "fpr : 0.09090909090909091 , tpr : 0.896551724137931 , gmeans : 0.9027995469336334\n",
      "optimal_threshold :  0.3 \n",
      "\n",
      "638/638 [==============================] - 3s 4ms/sample\n",
      "{'accuracy': 0.863013698630137, 'precision': 0.8615384615384616, 'recall': 0.9824561403508771, 'f1_score': 0.9180327868852458, 'f2_score': 0.9556313993174064, 'matthews_corrcoef': 0.5561599136288639, 'cohen_kappa': 0.5120320855614973, 'true_positive_rate': 0.9824561403508771, 'true_negative_rate': 0.4375, 'positive_predictive_value': 0.8615384615384616, 'negative_predictive_value': 0.875, 'false_positive_rate': 0.5625, 'false_negative_rate': 0.017543859649122806, 'false_discovery_rate': 0.13846153846153847}\n"
     ]
    },
    {
     "name": "stderr",
     "output_type": "stream",
     "text": [
      "WARNING: There is a new version of neptune-client 0.4.125 (installed: 0.4.124).\n"
     ]
    },
    {
     "name": "stdout",
     "output_type": "stream",
     "text": [
      "https://ui.neptune.ai/intelliscope/RefinedTreshold-Hybrid-Test/e/REF-37\n",
      "\n",
      "\n",
      " Experiment(HYBIM-5)\n",
      "332/332 [==============================] - 1s 4ms/sample\n",
      "\n",
      "fpr : 0.18181818181818182 , tpr : 0.896551724137931 , gmeans : 0.8564708516635089\n",
      "optimal_threshold :  0.7777777777777778 \n",
      "\n",
      "638/638 [==============================] - 3s 4ms/sample\n",
      "{'accuracy': 0.863013698630137, 'precision': 0.9433962264150944, 'recall': 0.8771929824561403, 'f1_score': 0.9090909090909091, 'f2_score': 0.8896797153024911, 'matthews_corrcoef': 0.6397352680401837, 'cohen_kappa': 0.6327967806841046, 'true_positive_rate': 0.8771929824561403, 'true_negative_rate': 0.8125, 'positive_predictive_value': 0.9433962264150944, 'negative_predictive_value': 0.65, 'false_positive_rate': 0.1875, 'false_negative_rate': 0.12280701754385964, 'false_discovery_rate': 0.05660377358490566}\n"
     ]
    },
    {
     "name": "stderr",
     "output_type": "stream",
     "text": [
      "WARNING: There is a new version of neptune-client 0.4.125 (installed: 0.4.124).\n",
      "NVMLError: NVML Shared Library Not Found - GPU usage metrics may not be reported.\n"
     ]
    },
    {
     "name": "stdout",
     "output_type": "stream",
     "text": [
      "https://ui.neptune.ai/intelliscope/RefinedTreshold-Hybrid-Test/e/REF-38\n",
      "\n",
      "\n",
      " Experiment(HYBIM-6)\n",
      "332/332 [==============================] - 1s 4ms/sample\n",
      "\n",
      "fpr : 0.0 , tpr : 0.8620689655172413 , gmeans : 0.9284766908852593\n",
      "optimal_threshold :  0.8333333333333334 \n",
      "\n",
      "638/638 [==============================] - 3s 4ms/sample\n",
      "{'accuracy': 0.8767123287671232, 'precision': 0.9615384615384616, 'recall': 0.8771929824561403, 'f1_score': 0.9174311926605504, 'f2_score': 0.8928571428571428, 'matthews_corrcoef': 0.6874092587235477, 'cohen_kappa': 0.6761951700344997, 'true_positive_rate': 0.8771929824561403, 'true_negative_rate': 0.875, 'positive_predictive_value': 0.9615384615384616, 'negative_predictive_value': 0.6666666666666666, 'false_positive_rate': 0.125, 'false_negative_rate': 0.12280701754385964, 'false_discovery_rate': 0.038461538461538464}\n"
     ]
    },
    {
     "name": "stderr",
     "output_type": "stream",
     "text": [
      "WARNING: There is a new version of neptune-client 0.4.125 (installed: 0.4.124).\n"
     ]
    },
    {
     "name": "stdout",
     "output_type": "stream",
     "text": [
      "https://ui.neptune.ai/intelliscope/RefinedTreshold-Hybrid-Test/e/REF-39\n",
      "\n",
      "\n",
      " Experiment(HYBIM-7)\n",
      "332/332 [==============================] - 1s 4ms/sample\n",
      "\n",
      "fpr : 0.0 , tpr : 0.8620689655172413 , gmeans : 0.9284766908852593\n",
      "optimal_threshold :  0.8 \n",
      "\n",
      "638/638 [==============================] - 3s 4ms/sample\n",
      "{'accuracy': 0.8767123287671232, 'precision': 0.9615384615384616, 'recall': 0.8771929824561403, 'f1_score': 0.9174311926605504, 'f2_score': 0.8928571428571428, 'matthews_corrcoef': 0.6874092587235477, 'cohen_kappa': 0.6761951700344997, 'true_positive_rate': 0.8771929824561403, 'true_negative_rate': 0.875, 'positive_predictive_value': 0.9615384615384616, 'negative_predictive_value': 0.6666666666666666, 'false_positive_rate': 0.125, 'false_negative_rate': 0.12280701754385964, 'false_discovery_rate': 0.038461538461538464}\n"
     ]
    },
    {
     "name": "stderr",
     "output_type": "stream",
     "text": [
      "WARNING: There is a new version of neptune-client 0.4.125 (installed: 0.4.124).\n",
      "NVMLError: NVML Shared Library Not Found - GPU usage metrics may not be reported.\n"
     ]
    },
    {
     "name": "stdout",
     "output_type": "stream",
     "text": [
      "https://ui.neptune.ai/intelliscope/RefinedTreshold-Hybrid-Test/e/REF-40\n",
      "\n",
      "\n",
      " Experiment(HYBIM-8)\n",
      "332/332 [==============================] - 2s 5ms/sample\n",
      "\n",
      "fpr : 0.09090909090909091 , tpr : 0.8620689655172413 , gmeans : 0.8852677897456387\n",
      "optimal_threshold :  0.625 \n",
      "\n",
      "638/638 [==============================] - 3s 4ms/sample\n",
      "{'accuracy': 0.8082191780821918, 'precision': 0.864406779661017, 'recall': 0.8947368421052632, 'f1_score': 0.8793103448275862, 'f2_score': 0.8885017421602788, 'matthews_corrcoef': 0.41477737422253735, 'cohen_kappa': 0.41331802525832373, 'true_positive_rate': 0.8947368421052632, 'true_negative_rate': 0.5, 'positive_predictive_value': 0.864406779661017, 'negative_predictive_value': 0.5714285714285714, 'false_positive_rate': 0.5, 'false_negative_rate': 0.10526315789473684, 'false_discovery_rate': 0.13559322033898305}\n"
     ]
    },
    {
     "name": "stderr",
     "output_type": "stream",
     "text": [
      "WARNING: There is a new version of neptune-client 0.4.125 (installed: 0.4.124).\n"
     ]
    },
    {
     "name": "stdout",
     "output_type": "stream",
     "text": [
      "https://ui.neptune.ai/intelliscope/RefinedTreshold-Hybrid-Test/e/REF-41\n",
      "\n",
      "\n",
      " Experiment(HYBIM-9)\n",
      "332/332 [==============================] - 1s 4ms/sample\n",
      "\n",
      "fpr : 0.2727272727272727 , tpr : 0.896551724137931 , gmeans : 0.8074884627998464\n",
      "optimal_threshold :  0.6666666666666666 \n",
      "\n",
      "638/638 [==============================] - 3s 5ms/sample\n",
      "{'accuracy': 0.821917808219178, 'precision': 0.9230769230769231, 'recall': 0.8421052631578947, 'f1_score': 0.8807339449541285, 'f2_score': 0.8571428571428572, 'matthews_corrcoef': 0.541109329024367, 'cohen_kappa': 0.5322819122720552, 'true_positive_rate': 0.8421052631578947, 'true_negative_rate': 0.75, 'positive_predictive_value': 0.9230769230769231, 'negative_predictive_value': 0.5714285714285714, 'false_positive_rate': 0.25, 'false_negative_rate': 0.15789473684210525, 'false_discovery_rate': 0.07692307692307693}\n"
     ]
    },
    {
     "name": "stderr",
     "output_type": "stream",
     "text": [
      "WARNING: There is a new version of neptune-client 0.4.125 (installed: 0.4.124).\n",
      "NVMLError: NVML Shared Library Not Found - GPU usage metrics may not be reported.\n"
     ]
    },
    {
     "name": "stdout",
     "output_type": "stream",
     "text": [
      "https://ui.neptune.ai/intelliscope/RefinedTreshold-Hybrid-Test/e/REF-42\n",
      "\n",
      "\n",
      " Experiment(HYBIM-10)\n",
      "332/332 [==============================] - 1s 4ms/sample\n",
      "\n",
      "fpr : 0.18181818181818182 , tpr : 0.9310344827586207 , gmeans : 0.8727860481775684\n",
      "optimal_threshold :  0.7 \n",
      "\n",
      "638/638 [==============================] - 3s 4ms/sample\n",
      "{'accuracy': 0.8767123287671232, 'precision': 0.9137931034482759, 'recall': 0.9298245614035088, 'f1_score': 0.9217391304347825, 'f2_score': 0.9265734265734266, 'matthews_corrcoef': 0.6320498744235477, 'cohen_kappa': 0.6315199102636007, 'true_positive_rate': 0.9298245614035088, 'true_negative_rate': 0.6875, 'positive_predictive_value': 0.9137931034482759, 'negative_predictive_value': 0.7333333333333333, 'false_positive_rate': 0.3125, 'false_negative_rate': 0.07017543859649122, 'false_discovery_rate': 0.08620689655172414}\n"
     ]
    },
    {
     "name": "stderr",
     "output_type": "stream",
     "text": [
      "WARNING: There is a new version of neptune-client 0.4.125 (installed: 0.4.124).\n"
     ]
    },
    {
     "name": "stdout",
     "output_type": "stream",
     "text": [
      "https://ui.neptune.ai/intelliscope/RefinedTreshold-Hybrid-Test/e/REF-43\n",
      "\n",
      "\n",
      " Experiment(HYBIM-11)\n",
      "332/332 [==============================] - 1s 4ms/sample\n",
      "\n",
      "fpr : 0.36363636363636365 , tpr : 1.0 , gmeans : 0.7977240352174656\n",
      "optimal_threshold :  0.5 \n",
      "\n",
      "638/638 [==============================] - 3s 4ms/sample\n",
      "{'accuracy': 0.8493150684931506, 'precision': 0.859375, 'recall': 0.9649122807017544, 'f1_score': 0.9090909090909092, 'f2_score': 0.9417808219178083, 'matthews_corrcoef': 0.506357682336324, 'cohen_kappa': 0.47755367599219256, 'true_positive_rate': 0.9649122807017544, 'true_negative_rate': 0.4375, 'positive_predictive_value': 0.859375, 'negative_predictive_value': 0.7777777777777778, 'false_positive_rate': 0.5625, 'false_negative_rate': 0.03508771929824561, 'false_discovery_rate': 0.140625}\n"
     ]
    },
    {
     "name": "stderr",
     "output_type": "stream",
     "text": [
      "WARNING: There is a new version of neptune-client 0.4.125 (installed: 0.4.124).\n",
      "NVMLError: NVML Shared Library Not Found - GPU usage metrics may not be reported.\n"
     ]
    },
    {
     "name": "stdout",
     "output_type": "stream",
     "text": [
      "https://ui.neptune.ai/intelliscope/RefinedTreshold-Hybrid-Test/e/REF-44\n",
      "\n",
      "\n",
      " Experiment(HYBIM-12)\n",
      "332/332 [==============================] - 1s 4ms/sample\n",
      "\n",
      "fpr : 0.0 , tpr : 0.9310344827586207 , gmeans : 0.9649012813540153\n",
      "optimal_threshold :  0.5 \n",
      "\n",
      "638/638 [==============================] - 3s 4ms/sample\n",
      "{'accuracy': 0.8493150684931506, 'precision': 0.8709677419354839, 'recall': 0.9473684210526315, 'f1_score': 0.9075630252100839, 'f2_score': 0.9310344827586206, 'matthews_corrcoef': 0.51733344577696, 'cohen_kappa': 0.5040148239654108, 'true_positive_rate': 0.9473684210526315, 'true_negative_rate': 0.5, 'positive_predictive_value': 0.8709677419354839, 'negative_predictive_value': 0.7272727272727273, 'false_positive_rate': 0.5, 'false_negative_rate': 0.05263157894736842, 'false_discovery_rate': 0.12903225806451613}\n"
     ]
    },
    {
     "name": "stderr",
     "output_type": "stream",
     "text": [
      "WARNING: There is a new version of neptune-client 0.4.125 (installed: 0.4.124).\n"
     ]
    },
    {
     "name": "stdout",
     "output_type": "stream",
     "text": [
      "https://ui.neptune.ai/intelliscope/RefinedTreshold-Hybrid-Test/e/REF-45\n",
      "\n",
      "\n",
      " Experiment(HYBIM-13)\n",
      "332/332 [==============================] - 1s 4ms/sample\n",
      "\n",
      "fpr : 0.18181818181818182 , tpr : 0.8275862068965517 , gmeans : 0.8228705775884899\n",
      "optimal_threshold :  0.8888888888888888 \n",
      "\n",
      "638/638 [==============================] - 3s 4ms/sample\n",
      "{'accuracy': 0.8082191780821918, 'precision': 0.9574468085106383, 'recall': 0.7894736842105263, 'f1_score': 0.8653846153846154, 'f2_score': 0.8181818181818182, 'matthews_corrcoef': 0.5740366245661981, 'cohen_kappa': 0.5425246195165622, 'true_positive_rate': 0.7894736842105263, 'true_negative_rate': 0.875, 'positive_predictive_value': 0.9574468085106383, 'negative_predictive_value': 0.5384615384615384, 'false_positive_rate': 0.125, 'false_negative_rate': 0.21052631578947367, 'false_discovery_rate': 0.0425531914893617}\n"
     ]
    },
    {
     "name": "stderr",
     "output_type": "stream",
     "text": [
      "WARNING: There is a new version of neptune-client 0.4.125 (installed: 0.4.124).\n",
      "NVMLError: NVML Shared Library Not Found - GPU usage metrics may not be reported.\n"
     ]
    },
    {
     "name": "stdout",
     "output_type": "stream",
     "text": [
      "https://ui.neptune.ai/intelliscope/RefinedTreshold-Hybrid-Test/e/REF-46\n",
      "\n",
      "\n",
      " Experiment(HYBIM-14)\n",
      "332/332 [==============================] - 2s 5ms/sample\n",
      "\n",
      "fpr : 0.18181818181818182 , tpr : 0.8620689655172413 , gmeans : 0.8398387664337814\n",
      "optimal_threshold :  0.8333333333333334 \n",
      "\n",
      "638/638 [==============================] - 3s 4ms/sample\n",
      "{'accuracy': 0.863013698630137, 'precision': 0.9122807017543859, 'recall': 0.9122807017543859, 'f1_score': 0.9122807017543859, 'f2_score': 0.9122807017543858, 'matthews_corrcoef': 0.5997807017543859, 'cohen_kappa': 0.5997807017543859, 'true_positive_rate': 0.9122807017543859, 'true_negative_rate': 0.6875, 'positive_predictive_value': 0.9122807017543859, 'negative_predictive_value': 0.6875, 'false_positive_rate': 0.3125, 'false_negative_rate': 0.08771929824561403, 'false_discovery_rate': 0.08771929824561403}\n"
     ]
    },
    {
     "name": "stderr",
     "output_type": "stream",
     "text": [
      "WARNING: There is a new version of neptune-client 0.4.125 (installed: 0.4.124).\n"
     ]
    },
    {
     "name": "stdout",
     "output_type": "stream",
     "text": [
      "https://ui.neptune.ai/intelliscope/RefinedTreshold-Hybrid-Test/e/REF-47\n",
      "\n",
      "\n",
      " Experiment(HYBIM-15)\n",
      "332/332 [==============================] - 1s 4ms/sample\n",
      "\n",
      "fpr : 0.09090909090909091 , tpr : 0.9310344827586207 , gmeans : 0.9199972740861893\n",
      "optimal_threshold :  0.7 \n",
      "\n",
      "638/638 [==============================] - 3s 4ms/sample\n",
      "{'accuracy': 0.8767123287671232, 'precision': 0.875, 'recall': 0.9824561403508771, 'f1_score': 0.9256198347107438, 'f2_score': 0.9589041095890412, 'matthews_corrcoef': 0.6070773303214784, 'cohen_kappa': 0.5725439167208848, 'true_positive_rate': 0.9824561403508771, 'true_negative_rate': 0.5, 'positive_predictive_value': 0.875, 'negative_predictive_value': 0.8888888888888888, 'false_positive_rate': 0.5, 'false_negative_rate': 0.017543859649122806, 'false_discovery_rate': 0.125}\n"
     ]
    },
    {
     "name": "stderr",
     "output_type": "stream",
     "text": [
      "WARNING: There is a new version of neptune-client 0.4.125 (installed: 0.4.124).\n",
      "NVMLError: NVML Shared Library Not Found - GPU usage metrics may not be reported.\n"
     ]
    },
    {
     "name": "stdout",
     "output_type": "stream",
     "text": [
      "https://ui.neptune.ai/intelliscope/RefinedTreshold-Hybrid-Test/e/REF-48\n",
      "\n",
      "\n",
      " Experiment(HYBIM-16)\n",
      "332/332 [==============================] - 2s 5ms/sample\n",
      "\n",
      "fpr : 0.18181818181818182 , tpr : 0.9655172413793104 , gmeans : 0.8888018069500183\n",
      "optimal_threshold :  0.6 \n",
      "\n",
      "638/638 [==============================] - 3s 4ms/sample\n",
      "{'accuracy': 0.8904109589041096, 'precision': 0.8769230769230769, 'recall': 1.0, 'f1_score': 0.9344262295081968, 'f2_score': 0.9726962457337885, 'matthews_corrcoef': 0.6621642835894567, 'cohen_kappa': 0.6096256684491979, 'true_positive_rate': 1.0, 'true_negative_rate': 0.5, 'positive_predictive_value': 0.8769230769230769, 'negative_predictive_value': 1.0, 'false_positive_rate': 0.5, 'false_negative_rate': 0.0, 'false_discovery_rate': 0.12307692307692308}\n"
     ]
    },
    {
     "name": "stderr",
     "output_type": "stream",
     "text": [
      "WARNING: There is a new version of neptune-client 0.4.125 (installed: 0.4.124).\n"
     ]
    },
    {
     "name": "stdout",
     "output_type": "stream",
     "text": [
      "https://ui.neptune.ai/intelliscope/RefinedTreshold-Hybrid-Test/e/REF-49\n",
      "\n",
      "\n",
      " Experiment(HYBIM-17)\n",
      "332/332 [==============================] - 2s 5ms/sample\n",
      "\n",
      "fpr : 0.09090909090909091 , tpr : 0.896551724137931 , gmeans : 0.9027995469336334\n",
      "optimal_threshold :  0.5714285714285714 \n",
      "\n",
      "638/638 [==============================] - 3s 4ms/sample\n",
      "{'accuracy': 0.863013698630137, 'precision': 0.9272727272727272, 'recall': 0.8947368421052632, 'f1_score': 0.9107142857142856, 'f2_score': 0.9010600706713783, 'matthews_corrcoef': 0.618817104846334, 'cohen_kappa': 0.6169989506820567, 'true_positive_rate': 0.8947368421052632, 'true_negative_rate': 0.75, 'positive_predictive_value': 0.9272727272727272, 'negative_predictive_value': 0.6666666666666666, 'false_positive_rate': 0.25, 'false_negative_rate': 0.10526315789473684, 'false_discovery_rate': 0.07272727272727272}\n"
     ]
    },
    {
     "name": "stderr",
     "output_type": "stream",
     "text": [
      "WARNING: There is a new version of neptune-client 0.4.125 (installed: 0.4.124).\n",
      "NVMLError: NVML Shared Library Not Found - GPU usage metrics may not be reported.\n"
     ]
    },
    {
     "name": "stdout",
     "output_type": "stream",
     "text": [
      "https://ui.neptune.ai/intelliscope/RefinedTreshold-Hybrid-Test/e/REF-50\n",
      "\n",
      "\n",
      " Experiment(HYBIM-18)\n",
      "332/332 [==============================] - 2s 5ms/sample\n",
      "\n",
      "fpr : 0.09090909090909091 , tpr : 0.8620689655172413 , gmeans : 0.8852677897456387\n",
      "optimal_threshold :  0.42857142857142855 \n",
      "\n",
      "638/638 [==============================] - 3s 4ms/sample\n",
      "{'accuracy': 0.7397260273972602, 'precision': 0.8653846153846154, 'recall': 0.7894736842105263, 'f1_score': 0.8256880733944955, 'f2_score': 0.8035714285714285, 'matthews_corrcoef': 0.321659434475596, 'cohen_kappa': 0.3164120256283883, 'true_positive_rate': 0.7894736842105263, 'true_negative_rate': 0.5625, 'positive_predictive_value': 0.8653846153846154, 'negative_predictive_value': 0.42857142857142855, 'false_positive_rate': 0.4375, 'false_negative_rate': 0.21052631578947367, 'false_discovery_rate': 0.1346153846153846}\n"
     ]
    },
    {
     "name": "stderr",
     "output_type": "stream",
     "text": [
      "WARNING: There is a new version of neptune-client 0.4.125 (installed: 0.4.124).\n"
     ]
    },
    {
     "name": "stdout",
     "output_type": "stream",
     "text": [
      "https://ui.neptune.ai/intelliscope/RefinedTreshold-Hybrid-Test/e/REF-51\n",
      "\n",
      "\n",
      " Experiment(HYBIM-19)\n",
      "332/332 [==============================] - 2s 5ms/sample\n",
      "\n",
      "fpr : 0.0 , tpr : 0.896551724137931 , gmeans : 0.9468641529479986\n",
      "optimal_threshold :  0.5555555555555556 \n",
      "\n",
      "638/638 [==============================] - 3s 4ms/sample\n",
      "{'accuracy': 0.8767123287671232, 'precision': 0.875, 'recall': 0.9824561403508771, 'f1_score': 0.9256198347107438, 'f2_score': 0.9589041095890412, 'matthews_corrcoef': 0.6070773303214784, 'cohen_kappa': 0.5725439167208848, 'true_positive_rate': 0.9824561403508771, 'true_negative_rate': 0.5, 'positive_predictive_value': 0.875, 'negative_predictive_value': 0.8888888888888888, 'false_positive_rate': 0.5, 'false_negative_rate': 0.017543859649122806, 'false_discovery_rate': 0.125}\n"
     ]
    },
    {
     "name": "stderr",
     "output_type": "stream",
     "text": [
      "WARNING: There is a new version of neptune-client 0.4.125 (installed: 0.4.124).\n",
      "NVMLError: NVML Shared Library Not Found - GPU usage metrics may not be reported.\n"
     ]
    },
    {
     "name": "stdout",
     "output_type": "stream",
     "text": [
      "https://ui.neptune.ai/intelliscope/RefinedTreshold-Hybrid-Test/e/REF-52\n",
      "\n",
      "\n",
      " Experiment(HYBIM-20)\n",
      "332/332 [==============================] - 2s 5ms/sample\n",
      "\n",
      "fpr : 0.0 , tpr : 0.8620689655172413 , gmeans : 0.9284766908852593\n",
      "optimal_threshold :  0.7142857142857143 \n",
      "\n",
      "638/638 [==============================] - 3s 4ms/sample\n",
      "{'accuracy': 0.8356164383561644, 'precision': 0.8813559322033898, 'recall': 0.9122807017543859, 'f1_score': 0.8965517241379309, 'f2_score': 0.9059233449477352, 'matthews_corrcoef': 0.4988850084398852, 'cohen_kappa': 0.4971297359357061, 'true_positive_rate': 0.9122807017543859, 'true_negative_rate': 0.5625, 'positive_predictive_value': 0.8813559322033898, 'negative_predictive_value': 0.6428571428571429, 'false_positive_rate': 0.4375, 'false_negative_rate': 0.08771929824561403, 'false_discovery_rate': 0.11864406779661017}\n"
     ]
    },
    {
     "name": "stderr",
     "output_type": "stream",
     "text": [
      "WARNING: There is a new version of neptune-client 0.4.125 (installed: 0.4.124).\n"
     ]
    },
    {
     "name": "stdout",
     "output_type": "stream",
     "text": [
      "https://ui.neptune.ai/intelliscope/RefinedTreshold-Hybrid-Test/e/REF-53\n",
      "\n",
      "\n",
      " Experiment(HYBIM-21)\n",
      "332/332 [==============================] - 1s 4ms/sample\n",
      "\n",
      "fpr : 0.18181818181818182 , tpr : 0.8275862068965517 , gmeans : 0.8228705775884899\n",
      "optimal_threshold :  0.8333333333333334 \n",
      "\n",
      "638/638 [==============================] - 3s 5ms/sample\n",
      "{'accuracy': 0.863013698630137, 'precision': 0.8852459016393442, 'recall': 0.9473684210526315, 'f1_score': 0.9152542372881356, 'f2_score': 0.9342560553633218, 'matthews_corrcoef': 0.5691149487133577, 'cohen_kappa': 0.5602409638554218, 'true_positive_rate': 0.9473684210526315, 'true_negative_rate': 0.5625, 'positive_predictive_value': 0.8852459016393442, 'negative_predictive_value': 0.75, 'false_positive_rate': 0.4375, 'false_negative_rate': 0.05263157894736842, 'false_discovery_rate': 0.11475409836065574}\n"
     ]
    },
    {
     "name": "stderr",
     "output_type": "stream",
     "text": [
      "WARNING: There is a new version of neptune-client 0.4.125 (installed: 0.4.124).\n",
      "NVMLError: NVML Shared Library Not Found - GPU usage metrics may not be reported.\n"
     ]
    },
    {
     "name": "stdout",
     "output_type": "stream",
     "text": [
      "https://ui.neptune.ai/intelliscope/RefinedTreshold-Hybrid-Test/e/REF-54\n",
      "\n",
      "\n",
      " Experiment(HYBIM-22)\n",
      "332/332 [==============================] - 2s 5ms/sample\n",
      "\n",
      "fpr : 0.09090909090909091 , tpr : 0.9310344827586207 , gmeans : 0.9199972740861893\n",
      "optimal_threshold :  0.7777777777777778 \n",
      "\n",
      "638/638 [==============================] - 3s 4ms/sample\n",
      "{'accuracy': 0.863013698630137, 'precision': 0.9122807017543859, 'recall': 0.9122807017543859, 'f1_score': 0.9122807017543859, 'f2_score': 0.9122807017543858, 'matthews_corrcoef': 0.5997807017543859, 'cohen_kappa': 0.5997807017543859, 'true_positive_rate': 0.9122807017543859, 'true_negative_rate': 0.6875, 'positive_predictive_value': 0.9122807017543859, 'negative_predictive_value': 0.6875, 'false_positive_rate': 0.3125, 'false_negative_rate': 0.08771929824561403, 'false_discovery_rate': 0.08771929824561403}\n"
     ]
    },
    {
     "name": "stderr",
     "output_type": "stream",
     "text": [
      "WARNING: There is a new version of neptune-client 0.4.125 (installed: 0.4.124).\n"
     ]
    },
    {
     "name": "stdout",
     "output_type": "stream",
     "text": [
      "https://ui.neptune.ai/intelliscope/RefinedTreshold-Hybrid-Test/e/REF-55\n",
      "\n",
      "\n",
      " Experiment(HYBIM-23)\n",
      "332/332 [==============================] - 1s 4ms/sample\n",
      "\n",
      "fpr : 0.0 , tpr : 0.896551724137931 , gmeans : 0.9468641529479986\n",
      "optimal_threshold :  0.8571428571428571 \n",
      "\n",
      "638/638 [==============================] - 3s 4ms/sample\n",
      "{'accuracy': 0.8082191780821918, 'precision': 0.9056603773584906, 'recall': 0.8421052631578947, 'f1_score': 0.8727272727272727, 'f2_score': 0.8540925266903914, 'matthews_corrcoef': 0.491243457016548, 'cohen_kappa': 0.4859154929577465, 'true_positive_rate': 0.8421052631578947, 'true_negative_rate': 0.6875, 'positive_predictive_value': 0.9056603773584906, 'negative_predictive_value': 0.55, 'false_positive_rate': 0.3125, 'false_negative_rate': 0.15789473684210525, 'false_discovery_rate': 0.09433962264150944}\n"
     ]
    },
    {
     "name": "stderr",
     "output_type": "stream",
     "text": [
      "WARNING: There is a new version of neptune-client 0.4.125 (installed: 0.4.124).\n",
      "NVMLError: NVML Shared Library Not Found - GPU usage metrics may not be reported.\n"
     ]
    },
    {
     "name": "stdout",
     "output_type": "stream",
     "text": [
      "https://ui.neptune.ai/intelliscope/RefinedTreshold-Hybrid-Test/e/REF-56\n",
      "\n",
      "\n",
      " Experiment(HYBIM-24)\n",
      "332/332 [==============================] - 1s 4ms/sample\n",
      "\n",
      "fpr : 0.0 , tpr : 0.8620689655172413 , gmeans : 0.9284766908852593\n",
      "optimal_threshold :  0.8 \n",
      "\n",
      "638/638 [==============================] - 3s 4ms/sample\n",
      "{'accuracy': 0.7945205479452054, 'precision': 0.9375, 'recall': 0.7894736842105263, 'f1_score': 0.8571428571428572, 'f2_score': 0.8152173913043478, 'matthews_corrcoef': 0.52478849122891, 'cohen_kappa': 0.5006839945280437, 'true_positive_rate': 0.7894736842105263, 'true_negative_rate': 0.8125, 'positive_predictive_value': 0.9375, 'negative_predictive_value': 0.52, 'false_positive_rate': 0.1875, 'false_negative_rate': 0.21052631578947367, 'false_discovery_rate': 0.0625}\n"
     ]
    },
    {
     "name": "stderr",
     "output_type": "stream",
     "text": [
      "WARNING: There is a new version of neptune-client 0.4.125 (installed: 0.4.124).\n"
     ]
    },
    {
     "name": "stdout",
     "output_type": "stream",
     "text": [
      "https://ui.neptune.ai/intelliscope/RefinedTreshold-Hybrid-Test/e/REF-57\n",
      "\n",
      "\n",
      " Experiment(HYBIM-25)\n",
      "332/332 [==============================] - 1s 4ms/sample\n",
      "\n",
      "fpr : 0.09090909090909091 , tpr : 0.9655172413793104 , gmeans : 0.9368793661451105\n",
      "optimal_threshold :  0.7 \n",
      "\n",
      "638/638 [==============================] - 3s 4ms/sample\n",
      "{'accuracy': 0.863013698630137, 'precision': 0.8983050847457628, 'recall': 0.9298245614035088, 'f1_score': 0.9137931034482759, 'f2_score': 0.9233449477351916, 'matthews_corrcoef': 0.582992642657233, 'cohen_kappa': 0.5809414466130884, 'true_positive_rate': 0.9298245614035088, 'true_negative_rate': 0.625, 'positive_predictive_value': 0.8983050847457628, 'negative_predictive_value': 0.7142857142857143, 'false_positive_rate': 0.375, 'false_negative_rate': 0.07017543859649122, 'false_discovery_rate': 0.1016949152542373}\n"
     ]
    },
    {
     "name": "stderr",
     "output_type": "stream",
     "text": [
      "WARNING: There is a new version of neptune-client 0.4.125 (installed: 0.4.124).\n",
      "NVMLError: NVML Shared Library Not Found - GPU usage metrics may not be reported.\n"
     ]
    },
    {
     "name": "stdout",
     "output_type": "stream",
     "text": [
      "https://ui.neptune.ai/intelliscope/RefinedTreshold-Hybrid-Test/e/REF-58\n",
      "\n",
      "\n",
      " Experiment(HYBIM-26)\n",
      "332/332 [==============================] - 2s 5ms/sample\n",
      "\n",
      "fpr : 0.09090909090909091 , tpr : 0.896551724137931 , gmeans : 0.9027995469336334\n",
      "optimal_threshold :  0.7777777777777778 \n",
      "\n",
      "638/638 [==============================] - 3s 4ms/sample\n",
      "{'accuracy': 0.863013698630137, 'precision': 0.9122807017543859, 'recall': 0.9122807017543859, 'f1_score': 0.9122807017543859, 'f2_score': 0.9122807017543858, 'matthews_corrcoef': 0.5997807017543859, 'cohen_kappa': 0.5997807017543859, 'true_positive_rate': 0.9122807017543859, 'true_negative_rate': 0.6875, 'positive_predictive_value': 0.9122807017543859, 'negative_predictive_value': 0.6875, 'false_positive_rate': 0.3125, 'false_negative_rate': 0.08771929824561403, 'false_discovery_rate': 0.08771929824561403}\n"
     ]
    },
    {
     "name": "stderr",
     "output_type": "stream",
     "text": [
      "WARNING: There is a new version of neptune-client 0.4.125 (installed: 0.4.124).\n"
     ]
    },
    {
     "name": "stdout",
     "output_type": "stream",
     "text": [
      "https://ui.neptune.ai/intelliscope/RefinedTreshold-Hybrid-Test/e/REF-59\n",
      "\n",
      "\n",
      " Experiment(HYBIM-27)\n",
      "332/332 [==============================] - 1s 4ms/sample\n",
      "\n",
      "fpr : 0.2727272727272727 , tpr : 0.896551724137931 , gmeans : 0.8074884627998464\n",
      "optimal_threshold :  0.7 \n",
      "\n",
      "638/638 [==============================] - 3s 4ms/sample\n",
      "{'accuracy': 0.863013698630137, 'precision': 0.9122807017543859, 'recall': 0.9122807017543859, 'f1_score': 0.9122807017543859, 'f2_score': 0.9122807017543858, 'matthews_corrcoef': 0.5997807017543859, 'cohen_kappa': 0.5997807017543859, 'true_positive_rate': 0.9122807017543859, 'true_negative_rate': 0.6875, 'positive_predictive_value': 0.9122807017543859, 'negative_predictive_value': 0.6875, 'false_positive_rate': 0.3125, 'false_negative_rate': 0.08771929824561403, 'false_discovery_rate': 0.08771929824561403}\n"
     ]
    },
    {
     "name": "stderr",
     "output_type": "stream",
     "text": [
      "WARNING: There is a new version of neptune-client 0.4.125 (installed: 0.4.124).\n",
      "NVMLError: NVML Shared Library Not Found - GPU usage metrics may not be reported.\n"
     ]
    },
    {
     "name": "stdout",
     "output_type": "stream",
     "text": [
      "https://ui.neptune.ai/intelliscope/RefinedTreshold-Hybrid-Test/e/REF-60\n",
      "\n",
      "\n",
      " Experiment(HYBIM-28)\n",
      "332/332 [==============================] - 1s 4ms/sample\n",
      "\n",
      "fpr : 0.18181818181818182 , tpr : 0.9655172413793104 , gmeans : 0.8888018069500183\n",
      "optimal_threshold :  0.7 \n",
      "\n",
      "638/638 [==============================] - 3s 4ms/sample\n",
      "{'accuracy': 0.8904109589041096, 'precision': 0.9152542372881356, 'recall': 0.9473684210526315, 'f1_score': 0.9310344827586206, 'f2_score': 0.9407665505226481, 'matthews_corrcoef': 0.6671002768745808, 'cohen_kappa': 0.6647531572904708, 'true_positive_rate': 0.9473684210526315, 'true_negative_rate': 0.6875, 'positive_predictive_value': 0.9152542372881356, 'negative_predictive_value': 0.7857142857142857, 'false_positive_rate': 0.3125, 'false_negative_rate': 0.05263157894736842, 'false_discovery_rate': 0.0847457627118644}\n"
     ]
    },
    {
     "name": "stderr",
     "output_type": "stream",
     "text": [
      "WARNING: There is a new version of neptune-client 0.4.125 (installed: 0.4.124).\n"
     ]
    },
    {
     "name": "stdout",
     "output_type": "stream",
     "text": [
      "https://ui.neptune.ai/intelliscope/RefinedTreshold-Hybrid-Test/e/REF-61\n",
      "\n",
      "\n",
      " Experiment(HYBIM-29)\n",
      "332/332 [==============================] - 3s 8ms/sample\n",
      "\n",
      "fpr : 0.09090909090909091 , tpr : 0.896551724137931 , gmeans : 0.9027995469336334\n",
      "optimal_threshold :  0.7777777777777778 \n",
      "\n",
      "638/638 [==============================] - 5s 7ms/sample\n",
      "{'accuracy': 0.7808219178082192, 'precision': 0.9767441860465116, 'recall': 0.7368421052631579, 'f1_score': 0.8399999999999999, 'f2_score': 0.7749077490774908, 'matthews_corrcoef': 0.566999716129184, 'cohen_kappa': 0.5129274395329441, 'true_positive_rate': 0.7368421052631579, 'true_negative_rate': 0.9375, 'positive_predictive_value': 0.9767441860465116, 'negative_predictive_value': 0.5, 'false_positive_rate': 0.0625, 'false_negative_rate': 0.2631578947368421, 'false_discovery_rate': 0.023255813953488372}\n"
     ]
    },
    {
     "name": "stderr",
     "output_type": "stream",
     "text": [
      "WARNING: There is a new version of neptune-client 0.4.125 (installed: 0.4.124).\n",
      "NVMLError: NVML Shared Library Not Found - GPU usage metrics may not be reported.\n"
     ]
    },
    {
     "name": "stdout",
     "output_type": "stream",
     "text": [
      "https://ui.neptune.ai/intelliscope/RefinedTreshold-Hybrid-Test/e/REF-62\n",
      "\n",
      "\n",
      " Experiment(HYBIM-30)\n",
      "332/332 [==============================] - 1s 4ms/sample\n",
      "\n",
      "fpr : 0.09090909090909091 , tpr : 0.9655172413793104 , gmeans : 0.9368793661451105\n",
      "optimal_threshold :  0.2 \n",
      "\n",
      "638/638 [==============================] - 3s 4ms/sample\n",
      "{'accuracy': 0.863013698630137, 'precision': 0.8615384615384616, 'recall': 0.9824561403508771, 'f1_score': 0.9180327868852458, 'f2_score': 0.9556313993174064, 'matthews_corrcoef': 0.5561599136288639, 'cohen_kappa': 0.5120320855614973, 'true_positive_rate': 0.9824561403508771, 'true_negative_rate': 0.4375, 'positive_predictive_value': 0.8615384615384616, 'negative_predictive_value': 0.875, 'false_positive_rate': 0.5625, 'false_negative_rate': 0.017543859649122806, 'false_discovery_rate': 0.13846153846153847}\n"
     ]
    },
    {
     "name": "stderr",
     "output_type": "stream",
     "text": [
      "WARNING: There is a new version of neptune-client 0.4.125 (installed: 0.4.124).\n"
     ]
    },
    {
     "name": "stdout",
     "output_type": "stream",
     "text": [
      "https://ui.neptune.ai/intelliscope/RefinedTreshold-Hybrid-Test/e/REF-63\n",
      "\n",
      "\n",
      " Experiment(HYBIM-31)\n",
      "332/332 [==============================] - 3s 8ms/sample\n",
      "\n",
      "fpr : 0.09090909090909091 , tpr : 0.9310344827586207 , gmeans : 0.9199972740861893\n",
      "optimal_threshold :  0.6666666666666666 \n",
      "\n",
      "638/638 [==============================] - 5s 7ms/sample\n",
      "{'accuracy': 0.9041095890410958, 'precision': 0.9310344827586207, 'recall': 0.9473684210526315, 'f1_score': 0.9391304347826087, 'f2_score': 0.944055944055944, 'matthews_corrcoef': 0.7140030552990698, 'cohen_kappa': 0.7134043746494672, 'true_positive_rate': 0.9473684210526315, 'true_negative_rate': 0.75, 'positive_predictive_value': 0.9310344827586207, 'negative_predictive_value': 0.8, 'false_positive_rate': 0.25, 'false_negative_rate': 0.05263157894736842, 'false_discovery_rate': 0.06896551724137931}\n"
     ]
    },
    {
     "name": "stderr",
     "output_type": "stream",
     "text": [
      "WARNING: There is a new version of neptune-client 0.4.125 (installed: 0.4.124).\n",
      "NVMLError: NVML Shared Library Not Found - GPU usage metrics may not be reported.\n"
     ]
    },
    {
     "name": "stdout",
     "output_type": "stream",
     "text": [
      "https://ui.neptune.ai/intelliscope/RefinedTreshold-Hybrid-Test/e/REF-64\n",
      "\n",
      "\n",
      " Experiment(HYBIM-32)\n",
      "332/332 [==============================] - 3s 8ms/sample\n",
      "\n",
      "fpr : 0.09090909090909091 , tpr : 0.7931034482758621 , gmeans : 0.8491190345271022\n",
      "optimal_threshold :  1.0 \n",
      "\n",
      "638/638 [==============================] - 5s 7ms/sample\n",
      "{'accuracy': 0.2191780821917808, 'precision': 0.0, 'recall': 0.0, 'f1_score': 0.0, 'f2_score': 0.0, 'matthews_corrcoef': 0.0, 'cohen_kappa': 0.0, 'true_positive_rate': 0.0, 'true_negative_rate': 1.0, 'positive_predictive_value': nan, 'negative_predictive_value': 0.2191780821917808, 'false_positive_rate': 0.0, 'false_negative_rate': 1.0, 'false_discovery_rate': nan}\n"
     ]
    },
    {
     "name": "stderr",
     "output_type": "stream",
     "text": [
      "WARNING: There is a new version of neptune-client 0.4.125 (installed: 0.4.124).\n"
     ]
    },
    {
     "name": "stdout",
     "output_type": "stream",
     "text": [
      "https://ui.neptune.ai/intelliscope/RefinedTreshold-Hybrid-Test/e/REF-65\n"
     ]
    },
    {
     "name": "stderr",
     "output_type": "stream",
     "text": [
      "Invalid metric value: nan for channel positive_predictive_value. Metrics with nan or +/-inf values will not be sent to server\n",
      "Invalid metric value: nan for channel false_discovery_rate. Metrics with nan or +/-inf values will not be sent to server\n"
     ]
    },
    {
     "name": "stdout",
     "output_type": "stream",
     "text": [
      "\n",
      "\n",
      " Experiment(HYBIM-33)\n",
      "332/332 [==============================] - 3s 8ms/sample\n",
      "\n",
      "fpr : 0.0 , tpr : 0.8275862068965517 , gmeans : 0.909717652294684\n",
      "optimal_threshold :  0.7777777777777778 \n",
      "\n",
      "638/638 [==============================] - 5s 7ms/sample\n",
      "{'accuracy': 0.8082191780821918, 'precision': 0.9387755102040817, 'recall': 0.8070175438596491, 'f1_score': 0.8679245283018868, 'f2_score': 0.8303249097472923, 'matthews_corrcoef': 0.5455660889219097, 'cohen_kappa': 0.525092936802974, 'true_positive_rate': 0.8070175438596491, 'true_negative_rate': 0.8125, 'positive_predictive_value': 0.9387755102040817, 'negative_predictive_value': 0.5416666666666666, 'false_positive_rate': 0.1875, 'false_negative_rate': 0.19298245614035087, 'false_discovery_rate': 0.061224489795918366}\n"
     ]
    },
    {
     "name": "stderr",
     "output_type": "stream",
     "text": [
      "WARNING: There is a new version of neptune-client 0.4.125 (installed: 0.4.124).\n",
      "NVMLError: NVML Shared Library Not Found - GPU usage metrics may not be reported.\n"
     ]
    },
    {
     "name": "stdout",
     "output_type": "stream",
     "text": [
      "https://ui.neptune.ai/intelliscope/RefinedTreshold-Hybrid-Test/e/REF-66\n"
     ]
    }
   ],
   "source": [
    "X_test_pcg = X_test[:,:,:,0:3]/255.0\n",
    "X_test_ecg = X_test[:,:,:,3:6]/255.0\n",
    "\n",
    "X_val_pcg = X_val[:,:,:,0:3]/255.0\n",
    "X_val_ecg = X_val[:,:,:,3:6]/255.0\n",
    "\n",
    "for i in range(len(projects)):\n",
    "        \n",
    "    project    = projects[i]\n",
    "    print('\\n\\n',str(project))\n",
    "    \n",
    "    model_name = str(project)+'.h5'\n",
    "    PARAMS     = project.get_parameters()\n",
    "    PARAMS['tags']=PARAMS['tags'][2:-2].strip().split(\"', '\")+ ['patientwise']\n",
    "    \n",
    "    model = load_model(PARAMS['modelsave_dir']+'/'+model_name)\n",
    "    \n",
    "    y_val, y_val_pred=get_results(model, X_val_pcg, X_val_ecg, Y_val)\n",
    "    y_val, y_val_pred=get_individual_metrics(y_val, y_val_pred, names_val)\n",
    "    \n",
    "    optimal_thres=get_optimal_thres(model, y_val, y_val_pred)\n",
    "    \n",
    "    print('optimal_threshold : ',  optimal_thres, '\\n')\n",
    "    y_test, y_test_pred=get_results(model, X_test_pcg, X_test_ecg, Y_test)\n",
    "    y_test, y_test_pred=get_individual_metrics(y_test, y_test_pred, names_test)\n",
    "    \n",
    "    \n",
    "    sk_metrics=custom_metrics._class_metrics(y_test, y_test_pred[:, 1] > optimal_thres)\n",
    "    print(sk_metrics)\n",
    "    gmean=sqrt(sk_metrics['true_negative_rate']*sk_metrics['true_positive_rate'])\n",
    "    PARAMS['G-Mean']=gmean\n",
    "    PARAMS['optimal_threshold']=optimal_thres\n",
    "\n",
    "    neptune.init('intelliscope/'+PARAMS_COMMON['project_to'],NEPTUNE_API_TOKEN)\n",
    "    exp = neptune.create_experiment(name=str(project),description=PARAMS['name'],params=PARAMS,tags=PARAMS['tags'],upload_stdout=True)\n",
    "    neptune_log_metrics(y_test, y_test_pred, optimal_thres)\n",
    "    neptune.stop()"
   ]
  },
  {
   "cell_type": "code",
   "execution_count": null,
   "metadata": {},
   "outputs": [],
   "source": []
  },
  {
   "cell_type": "code",
   "execution_count": null,
   "metadata": {},
   "outputs": [],
   "source": []
  },
  {
   "cell_type": "code",
   "execution_count": null,
   "metadata": {},
   "outputs": [],
   "source": []
  }
 ],
 "metadata": {
  "kernelspec": {
   "display_name": "Python 3",
   "language": "python",
   "name": "python3"
  },
  "language_info": {
   "codemirror_mode": {
    "name": "ipython",
    "version": 3
   },
   "file_extension": ".py",
   "mimetype": "text/x-python",
   "name": "python",
   "nbconvert_exporter": "python",
   "pygments_lexer": "ipython3",
   "version": "3.6.9"
  }
 },
 "nbformat": 4,
 "nbformat_minor": 4
}
