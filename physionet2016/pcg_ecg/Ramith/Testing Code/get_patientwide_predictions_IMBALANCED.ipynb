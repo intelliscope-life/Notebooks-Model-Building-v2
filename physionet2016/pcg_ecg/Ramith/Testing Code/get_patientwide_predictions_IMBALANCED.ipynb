{
 "cells": [
  {
   "cell_type": "code",
   "execution_count": 3,
   "metadata": {},
   "outputs": [
    {
     "name": "stderr",
     "output_type": "stream",
     "text": [
      "WARNING: Instantiating Session without specifying a backend is deprecated and will be removed in future versions. For current behaviour use `neptune.init(...)` or `Session.with_default_backend(...)\n",
      "WARNING: There is a new version of neptune-client 0.4.125 (installed: 0.4.124).\n"
     ]
    },
    {
     "name": "stdout",
     "output_type": "stream",
     "text": [
      "Total  707\n",
      "199 Images loaded across 2 Categories. Ignored blanks  60\n",
      "508 Images loaded across 2 Categories. Ignored blanks  9\n",
      "638 Total After removing blanks\n"
     ]
    }
   ],
   "source": [
    "import sys\n",
    "sys.path.append('/home/ubuntu/intelliscope/modules')\n",
    "\n",
    "#!pip install neptune-client\n",
    "import os\n",
    "import neptune\n",
    "\n",
    "import tensorflow as tf\n",
    "from tensorflow.keras.models import load_model\n",
    "\n",
    "import matplotlib.pyplot as plt\n",
    "import cv2\n",
    "import numpy as np\n",
    "from tensorflow import keras\n",
    "from tensorflow.keras.models import Sequential, load_model\n",
    "from tensorflow.keras.layers import Conv2D, MaxPooling2D\n",
    "from tensorflow.keras.layers import Activation, Dropout, Flatten, Dense, Lambda,BatchNormalization\n",
    "from tensorflow.keras import backend as K\n",
    "from tensorflow_addons.layers import InstanceNormalization\n",
    "import tensorflow_addons as tfa\n",
    "from tensorflow.keras.layers import Activation, Dropout, Flatten, Dense, Lambda\n",
    "from tensorflow.keras.preprocessing.image import ImageDataGenerator, array_to_img, img_to_array, load_img\n",
    "\n",
    "\n",
    "from intelliscope import instead_data_loaders\n",
    "from sklearn.metrics import classification_report\n",
    "import numpy as np\n",
    "from neptunecontrib.monitoring.metrics import *\n",
    "from neptune.sessions import Session\n",
    "import custom_metrics\n",
    "\n",
    "\n",
    "################################################################################################################\n",
    "#project_name='Patientwise-Test-HYBRID-balanced'\n",
    "project_name='Kunu'\n",
    "prev_project_name='HYBRID-Imbalanced'\n",
    "TrainTestVal='test'\n",
    "thres=0.7\n",
    "################################################################################################################\n",
    "\n",
    "\n",
    "NEPTUNE_API_TOKEN='eyJhcGlfYWRkcmVzcyI6Imh0dHBzOi8vdWkubmVwdHVuZS5haSIsImFwaV91cmwiOiJodHRwczovL3VpLm5lcHR1bmUuYWkiLCJhcGlfa2V5IjoiMzc1YTM5OGMtYTY3Ny00ZmM4LTg5ZGQtOGI2YTQ1YmZiMDkzIn0='\n",
    "session = Session(api_token=NEPTUNE_API_TOKEN)\n",
    "\n",
    "project = session.get_projects('intelliscope')['intelliscope/'+prev_project_name]\n",
    "experiments=project.get_experiments()\n",
    "X_test,Y_test,names = instead_data_loaders(experiments[0].get_parameters(),TrainTestVal, True) # because we have separate projects for balanced, imbalanced datasets\n",
    "\n",
    "\n",
    "def get_results(model=None, X_test_pcg=None, X_test_ecg=None, Y_test=None, threshold = thres):    \n",
    "    y_pred = model.predict([X_test_pcg,X_test_ecg], batch_size=32, verbose=1)\n",
    "    y_test = np.argmax(Y_test,axis=1)\n",
    "    \n",
    "    print(custom_metrics._class_metrics(y_test, y_pred[:, 1] > threshold))\n",
    "    return y_test, y_pred\n",
    "\n",
    "\n",
    "def get_individual_metrics(y_test, y_pred, names):\n",
    "    patient_preds={}\n",
    "    for i in range(len(names)): # create dict: patient_record_name: [start_point, label, [pred0, pred1]] \n",
    "        name=names[i]\n",
    "        record_name,record_start_point,_=name.strip().split('_')\n",
    "        if record_name in patient_preds:\n",
    "            patient_preds[record_name].append([int(record_start_point),y_test[i], list(y_pred[i])])\n",
    "        else:\n",
    "            patient_preds[record_name]=[[int(record_start_point),y_test[i], list(y_pred[i])]]\n",
    "\n",
    "    y_test_bulk, y_pred_bulk=[],[]    \n",
    "    for key in patient_preds: # return :: patient-wise y_test, y_preds\n",
    "        patient_pred=patient_preds[key]\n",
    "        label, pred_label=get_single_patient_pred(patient_pred, mean)\n",
    "\n",
    "        y_test_bulk.append(label)\n",
    "        y_pred_bulk.append(pred_label)\n",
    "\n",
    "    y_test_bulk=np.array(y_test_bulk)\n",
    "    y_pred_bulk=np.array(y_pred_bulk)\n",
    "    print(custom_metrics._class_metrics(y_test_bulk, y_pred_bulk[:, 1] > thres))\n",
    "    \n",
    "    return y_test_bulk, y_pred_bulk\n",
    "\n",
    "def mean(list_):\n",
    "    metric=np.mean(list_)\n",
    "    return [1-metric,metric]\n",
    "\n",
    "def get_single_patient_pred(patient_pred, func):\n",
    "    #print(patient_pred)\n",
    "    patient_pred.sort()\n",
    "    \n",
    "    y=np.array(patient_pred)[:,1]\n",
    "    \n",
    "    assert y.sum()%(y.shape[0])==0\n",
    "    label=y[0] # label of the patient\n",
    "    \n",
    "    rows=[]\n",
    "    for row in sorted(patient_pred):\n",
    "        rows.append(list(row[2]))\n",
    "    rows=np.array(rows)\n",
    "\n",
    "    y_preds=np.argmax(rows, axis=1)\n",
    "    pred_label=func(y_preds)\n",
    "    return label, pred_label\n",
    "\n",
    "def neptune_log_metrics(y_test=None, y_pred=None, threshold = thres):\n",
    "    log_confusion_matrix(y_test, y_pred[:, 1] > threshold)\n",
    "    log_classification_report(y_test, y_pred[:, 1] > threshold)\n",
    "    log_class_metrics(y_test, y_pred[:, 1] > threshold)\n",
    "    log_class_metrics_by_threshold(y_test, y_pred[:, 1])\n",
    "    log_brier_loss(y_test, y_pred[:, 1])\n",
    "    log_prediction_distribution(y_test, y_pred[:, 1])\n",
    "\n",
    "    log_log_loss(y_test, y_pred)\n",
    "    log_roc_auc(y_test, y_pred)\n",
    "    log_precision_recall_auc(y_test, y_pred)\n",
    "    log_ks_statistic(y_test, y_pred)\n",
    "    log_cumulative_gain(y_test, y_pred)\n",
    "    log_lift_curve(y_test, y_pred)\n"
   ]
  },
  {
   "cell_type": "code",
   "execution_count": 4,
   "metadata": {},
   "outputs": [
    {
     "name": "stdout",
     "output_type": "stream",
     "text": [
      "638/638 [==============================] - 3s 4ms/sample\n",
      "{'accuracy': 0.7931034482758621, 'precision': 0.8895966029723992, 'recall': 0.8396793587174348, 'f1_score': 0.8639175257731959, 'f2_score': 0.8492095662748277, 'matthews_corrcoef': 0.4372018897922349, 'cohen_kappa': 0.4340398650555771, 'true_positive_rate': 0.8396793587174348, 'true_negative_rate': 0.6258992805755396, 'positive_predictive_value': 0.8895966029723992, 'negative_predictive_value': 0.5209580838323353, 'false_positive_rate': 0.37410071942446044, 'false_negative_rate': 0.16032064128256512, 'false_discovery_rate': 0.11040339702760085}\n",
      "{'accuracy': 0.863013698630137, 'precision': 0.9272727272727272, 'recall': 0.8947368421052632, 'f1_score': 0.9107142857142856, 'f2_score': 0.9010600706713783, 'matthews_corrcoef': 0.618817104846334, 'cohen_kappa': 0.6169989506820567, 'true_positive_rate': 0.8947368421052632, 'true_negative_rate': 0.75, 'positive_predictive_value': 0.9272727272727272, 'negative_predictive_value': 0.6666666666666666, 'false_positive_rate': 0.25, 'false_negative_rate': 0.10526315789473684, 'false_discovery_rate': 0.07272727272727272}\n"
     ]
    },
    {
     "name": "stderr",
     "output_type": "stream",
     "text": [
      "WARNING: There is a new version of neptune-client 0.4.125 (installed: 0.4.124).\n",
      "NVMLError: NVML Shared Library Not Found - GPU usage metrics may not be reported.\n"
     ]
    },
    {
     "name": "stdout",
     "output_type": "stream",
     "text": [
      "https://ui.neptune.ai/intelliscope/Kunu/e/KUN-85\n",
      "638/638 [==============================] - 2s 4ms/sample\n",
      "{'accuracy': 0.822884012539185, 'precision': 0.9071729957805907, 'recall': 0.8617234468937875, 'f1_score': 0.8838643371017472, 'f2_score': 0.8704453441295547, 'matthews_corrcoef': 0.5149722795967155, 'cohen_kappa': 0.5119616577083983, 'true_positive_rate': 0.8617234468937875, 'true_negative_rate': 0.6834532374100719, 'positive_predictive_value': 0.9071729957805907, 'negative_predictive_value': 0.5792682926829268, 'false_positive_rate': 0.31654676258992803, 'false_negative_rate': 0.13827655310621242, 'false_discovery_rate': 0.09282700421940929}\n",
      "{'accuracy': 0.863013698630137, 'precision': 0.9607843137254902, 'recall': 0.8596491228070176, 'f1_score': 0.9074074074074074, 'f2_score': 0.8781362007168458, 'matthews_corrcoef': 0.6623399563056614, 'cohen_kappa': 0.6473429951690821, 'true_positive_rate': 0.8596491228070176, 'true_negative_rate': 0.875, 'positive_predictive_value': 0.9607843137254902, 'negative_predictive_value': 0.6363636363636364, 'false_positive_rate': 0.125, 'false_negative_rate': 0.14035087719298245, 'false_discovery_rate': 0.0392156862745098}\n"
     ]
    },
    {
     "name": "stderr",
     "output_type": "stream",
     "text": [
      "WARNING: There is a new version of neptune-client 0.4.125 (installed: 0.4.124).\n"
     ]
    },
    {
     "name": "stdout",
     "output_type": "stream",
     "text": [
      "https://ui.neptune.ai/intelliscope/Kunu/e/KUN-86\n",
      "638/638 [==============================] - 2s 4ms/sample\n",
      "{'accuracy': 0.8150470219435737, 'precision': 0.8895705521472392, 'recall': 0.8717434869739479, 'f1_score': 0.8805668016194331, 'f2_score': 0.8752515090543259, 'matthews_corrcoef': 0.47150447265738965, 'cohen_kappa': 0.4710304801787496, 'true_positive_rate': 0.8717434869739479, 'true_negative_rate': 0.6115107913669064, 'positive_predictive_value': 0.8895705521472392, 'negative_predictive_value': 0.5704697986577181, 'false_positive_rate': 0.38848920863309355, 'false_negative_rate': 0.1282565130260521, 'false_discovery_rate': 0.11042944785276074}\n",
      "{'accuracy': 0.8082191780821918, 'precision': 0.8909090909090909, 'recall': 0.8596491228070176, 'f1_score': 0.875, 'f2_score': 0.8657243816254415, 'matthews_corrcoef': 0.46516523867700615, 'cohen_kappa': 0.46379853095487933, 'true_positive_rate': 0.8596491228070176, 'true_negative_rate': 0.625, 'positive_predictive_value': 0.8909090909090909, 'negative_predictive_value': 0.5555555555555556, 'false_positive_rate': 0.375, 'false_negative_rate': 0.14035087719298245, 'false_discovery_rate': 0.10909090909090909}\n"
     ]
    },
    {
     "name": "stderr",
     "output_type": "stream",
     "text": [
      "WARNING: There is a new version of neptune-client 0.4.125 (installed: 0.4.124).\n",
      "NVMLError: NVML Shared Library Not Found - GPU usage metrics may not be reported.\n"
     ]
    },
    {
     "name": "stdout",
     "output_type": "stream",
     "text": [
      "https://ui.neptune.ai/intelliscope/Kunu/e/KUN-87\n",
      "638/638 [==============================] - 2s 4ms/sample\n",
      "{'accuracy': 0.8338557993730408, 'precision': 0.8937875751503006, 'recall': 0.8937875751503006, 'f1_score': 0.8937875751503006, 'f2_score': 0.8937875751503006, 'matthews_corrcoef': 0.5124926111215237, 'cohen_kappa': 0.5124926111215236, 'true_positive_rate': 0.8937875751503006, 'true_negative_rate': 0.6187050359712231, 'positive_predictive_value': 0.8937875751503006, 'negative_predictive_value': 0.6187050359712231, 'false_positive_rate': 0.381294964028777, 'false_negative_rate': 0.1062124248496994, 'false_discovery_rate': 0.1062124248496994}\n",
      "{'accuracy': 0.8493150684931506, 'precision': 0.9107142857142857, 'recall': 0.8947368421052632, 'f1_score': 0.9026548672566371, 'f2_score': 0.8978873239436621, 'matthews_corrcoef': 0.5698737173596308, 'cohen_kappa': 0.5694369973190349, 'true_positive_rate': 0.8947368421052632, 'true_negative_rate': 0.6875, 'positive_predictive_value': 0.9107142857142857, 'negative_predictive_value': 0.6470588235294118, 'false_positive_rate': 0.3125, 'false_negative_rate': 0.10526315789473684, 'false_discovery_rate': 0.08928571428571429}\n"
     ]
    },
    {
     "name": "stderr",
     "output_type": "stream",
     "text": [
      "WARNING: There is a new version of neptune-client 0.4.125 (installed: 0.4.124).\n"
     ]
    },
    {
     "name": "stdout",
     "output_type": "stream",
     "text": [
      "https://ui.neptune.ai/intelliscope/Kunu/e/KUN-88\n",
      "638/638 [==============================] - 2s 4ms/sample\n",
      "{'accuracy': 0.841692789968652, 'precision': 0.9012096774193549, 'recall': 0.8957915831663327, 'f1_score': 0.8984924623115578, 'f2_score': 0.8968699839486356, 'matthews_corrcoef': 0.5391272229505942, 'cohen_kappa': 0.5390766941817714, 'true_positive_rate': 0.8957915831663327, 'true_negative_rate': 0.6474820143884892, 'positive_predictive_value': 0.9012096774193549, 'negative_predictive_value': 0.6338028169014085, 'false_positive_rate': 0.35251798561151076, 'false_negative_rate': 0.10420841683366733, 'false_discovery_rate': 0.09879032258064516}\n",
      "{'accuracy': 0.8904109589041096, 'precision': 0.9454545454545454, 'recall': 0.9122807017543859, 'f1_score': 0.9285714285714285, 'f2_score': 0.9187279151943464, 'matthews_corrcoef': 0.6956430379309979, 'cohen_kappa': 0.6935991605456453, 'true_positive_rate': 0.9122807017543859, 'true_negative_rate': 0.8125, 'positive_predictive_value': 0.9454545454545454, 'negative_predictive_value': 0.7222222222222222, 'false_positive_rate': 0.1875, 'false_negative_rate': 0.08771929824561403, 'false_discovery_rate': 0.05454545454545454}\n"
     ]
    },
    {
     "name": "stderr",
     "output_type": "stream",
     "text": [
      "WARNING: There is a new version of neptune-client 0.4.125 (installed: 0.4.124).\n",
      "NVMLError: NVML Shared Library Not Found - GPU usage metrics may not be reported.\n"
     ]
    },
    {
     "name": "stdout",
     "output_type": "stream",
     "text": [
      "https://ui.neptune.ai/intelliscope/Kunu/e/KUN-89\n",
      "638/638 [==============================] - 2s 4ms/sample\n",
      "{'accuracy': 0.8652037617554859, 'precision': 0.9025341130604289, 'recall': 0.9278557114228457, 'f1_score': 0.9150197628458498, 'f2_score': 0.9226783579115185, 'matthews_corrcoef': 0.590883702867679, 'cohen_kappa': 0.5895632919914424, 'true_positive_rate': 0.9278557114228457, 'true_negative_rate': 0.6402877697841727, 'positive_predictive_value': 0.9025341130604289, 'negative_predictive_value': 0.712, 'false_positive_rate': 0.3597122302158273, 'false_negative_rate': 0.07214428857715431, 'false_discovery_rate': 0.09746588693957114}\n",
      "{'accuracy': 0.9041095890410958, 'precision': 0.9166666666666666, 'recall': 0.9649122807017544, 'f1_score': 0.9401709401709402, 'f2_score': 0.9548611111111109, 'matthews_corrcoef': 0.7054597582678354, 'cohen_kappa': 0.6995884773662551, 'true_positive_rate': 0.9649122807017544, 'true_negative_rate': 0.6875, 'positive_predictive_value': 0.9166666666666666, 'negative_predictive_value': 0.8461538461538461, 'false_positive_rate': 0.3125, 'false_negative_rate': 0.03508771929824561, 'false_discovery_rate': 0.08333333333333333}\n"
     ]
    },
    {
     "name": "stderr",
     "output_type": "stream",
     "text": [
      "WARNING: There is a new version of neptune-client 0.4.125 (installed: 0.4.124).\n"
     ]
    },
    {
     "name": "stdout",
     "output_type": "stream",
     "text": [
      "https://ui.neptune.ai/intelliscope/Kunu/e/KUN-90\n",
      "638/638 [==============================] - 2s 4ms/sample\n",
      "{'accuracy': 0.7915360501567398, 'precision': 0.8719512195121951, 'recall': 0.8597194388777555, 'f1_score': 0.8657921291624622, 'f2_score': 0.8621382636655949, 'matthews_corrcoef': 0.399429414013324, 'cohen_kappa': 0.3992296908851475, 'true_positive_rate': 0.8597194388777555, 'true_negative_rate': 0.5467625899280576, 'positive_predictive_value': 0.8719512195121951, 'negative_predictive_value': 0.5205479452054794, 'false_positive_rate': 0.45323741007194246, 'false_negative_rate': 0.1402805611222445, 'false_discovery_rate': 0.12804878048780488}\n",
      "{'accuracy': 0.7945205479452054, 'precision': 0.875, 'recall': 0.8596491228070176, 'f1_score': 0.8672566371681416, 'f2_score': 0.8626760563380282, 'matthews_corrcoef': 0.41318527529841403, 'cohen_kappa': 0.41286863270777474, 'true_positive_rate': 0.8596491228070176, 'true_negative_rate': 0.5625, 'positive_predictive_value': 0.875, 'negative_predictive_value': 0.5294117647058824, 'false_positive_rate': 0.4375, 'false_negative_rate': 0.14035087719298245, 'false_discovery_rate': 0.125}\n"
     ]
    },
    {
     "name": "stderr",
     "output_type": "stream",
     "text": [
      "WARNING: There is a new version of neptune-client 0.4.125 (installed: 0.4.124).\n",
      "NVMLError: NVML Shared Library Not Found - GPU usage metrics may not be reported.\n"
     ]
    },
    {
     "name": "stdout",
     "output_type": "stream",
     "text": [
      "https://ui.neptune.ai/intelliscope/Kunu/e/KUN-91\n",
      "638/638 [==============================] - 2s 4ms/sample\n",
      "{'accuracy': 0.7946708463949843, 'precision': 0.8849372384937239, 'recall': 0.8476953907815631, 'f1_score': 0.8659160696008189, 'f2_score': 0.8548908649959579, 'matthews_corrcoef': 0.43046082916224526, 'cohen_kappa': 0.4286515087297138, 'true_positive_rate': 0.8476953907815631, 'true_negative_rate': 0.60431654676259, 'positive_predictive_value': 0.8849372384937239, 'negative_predictive_value': 0.525, 'false_positive_rate': 0.39568345323741005, 'false_negative_rate': 0.1523046092184369, 'false_discovery_rate': 0.11506276150627615}\n",
      "{'accuracy': 0.8082191780821918, 'precision': 0.9215686274509803, 'recall': 0.8245614035087719, 'f1_score': 0.8703703703703703, 'f2_score': 0.8422939068100358, 'matthews_corrcoef': 0.518009159856965, 'cohen_kappa': 0.5062801932367149, 'true_positive_rate': 0.8245614035087719, 'true_negative_rate': 0.75, 'positive_predictive_value': 0.9215686274509803, 'negative_predictive_value': 0.5454545454545454, 'false_positive_rate': 0.25, 'false_negative_rate': 0.17543859649122806, 'false_discovery_rate': 0.0784313725490196}\n"
     ]
    },
    {
     "name": "stderr",
     "output_type": "stream",
     "text": [
      "WARNING: There is a new version of neptune-client 0.4.125 (installed: 0.4.124).\n"
     ]
    },
    {
     "name": "stdout",
     "output_type": "stream",
     "text": [
      "https://ui.neptune.ai/intelliscope/Kunu/e/KUN-92\n",
      "638/638 [==============================] - 2s 4ms/sample\n",
      "{'accuracy': 0.841692789968652, 'precision': 0.8917322834645669, 'recall': 0.9078156312625251, 'f1_score': 0.8997020854021848, 'f2_score': 0.904552715654952, 'matthews_corrcoef': 0.5248512123363889, 'cohen_kappa': 0.5243796223852615, 'true_positive_rate': 0.9078156312625251, 'true_negative_rate': 0.60431654676259, 'positive_predictive_value': 0.8917322834645669, 'negative_predictive_value': 0.6461538461538462, 'false_positive_rate': 0.39568345323741005, 'false_negative_rate': 0.09218436873747494, 'false_discovery_rate': 0.10826771653543307}\n",
      "{'accuracy': 0.8767123287671232, 'precision': 0.9137931034482759, 'recall': 0.9298245614035088, 'f1_score': 0.9217391304347825, 'f2_score': 0.9265734265734266, 'matthews_corrcoef': 0.6320498744235477, 'cohen_kappa': 0.6315199102636007, 'true_positive_rate': 0.9298245614035088, 'true_negative_rate': 0.6875, 'positive_predictive_value': 0.9137931034482759, 'negative_predictive_value': 0.7333333333333333, 'false_positive_rate': 0.3125, 'false_negative_rate': 0.07017543859649122, 'false_discovery_rate': 0.08620689655172414}\n"
     ]
    },
    {
     "name": "stderr",
     "output_type": "stream",
     "text": [
      "WARNING: There is a new version of neptune-client 0.4.125 (installed: 0.4.124).\n",
      "NVMLError: NVML Shared Library Not Found - GPU usage metrics may not be reported.\n"
     ]
    },
    {
     "name": "stdout",
     "output_type": "stream",
     "text": [
      "https://ui.neptune.ai/intelliscope/Kunu/e/KUN-93\n",
      "638/638 [==============================] - 2s 4ms/sample\n",
      "{'accuracy': 0.8103448275862069, 'precision': 0.8735177865612648, 'recall': 0.8857715430861723, 'f1_score': 0.8796019900497511, 'f2_score': 0.8832933653077538, 'matthews_corrcoef': 0.4334425689663231, 'cohen_kappa': 0.4332094976578905, 'true_positive_rate': 0.8857715430861723, 'true_negative_rate': 0.539568345323741, 'positive_predictive_value': 0.8735177865612648, 'negative_predictive_value': 0.5681818181818182, 'false_positive_rate': 0.460431654676259, 'false_negative_rate': 0.11422845691382766, 'false_discovery_rate': 0.12648221343873517}\n",
      "{'accuracy': 0.821917808219178, 'precision': 0.8666666666666667, 'recall': 0.9122807017543859, 'f1_score': 0.8888888888888888, 'f2_score': 0.9027777777777778, 'matthews_corrcoef': 0.4458031413591699, 'cohen_kappa': 0.4420928865373309, 'true_positive_rate': 0.9122807017543859, 'true_negative_rate': 0.5, 'positive_predictive_value': 0.8666666666666667, 'negative_predictive_value': 0.6153846153846154, 'false_positive_rate': 0.5, 'false_negative_rate': 0.08771929824561403, 'false_discovery_rate': 0.13333333333333333}\n"
     ]
    },
    {
     "name": "stderr",
     "output_type": "stream",
     "text": [
      "WARNING: There is a new version of neptune-client 0.4.125 (installed: 0.4.124).\n"
     ]
    },
    {
     "name": "stdout",
     "output_type": "stream",
     "text": [
      "https://ui.neptune.ai/intelliscope/Kunu/e/KUN-94\n",
      "638/638 [==============================] - 2s 4ms/sample\n",
      "{'accuracy': 0.8134796238244514, 'precision': 0.8877551020408163, 'recall': 0.8717434869739479, 'f1_score': 0.8796764408493427, 'f2_score': 0.8748994368463394, 'matthews_corrcoef': 0.46557590729630516, 'cohen_kappa': 0.46519491131429536, 'true_positive_rate': 0.8717434869739479, 'true_negative_rate': 0.60431654676259, 'positive_predictive_value': 0.8877551020408163, 'negative_predictive_value': 0.5675675675675675, 'false_positive_rate': 0.39568345323741005, 'false_negative_rate': 0.1282565130260521, 'false_discovery_rate': 0.11224489795918367}\n",
      "{'accuracy': 0.8356164383561644, 'precision': 0.9090909090909091, 'recall': 0.8771929824561403, 'f1_score': 0.8928571428571428, 'f2_score': 0.8833922261484098, 'matthews_corrcoef': 0.5419911717616701, 'cohen_kappa': 0.5403987408184681, 'true_positive_rate': 0.8771929824561403, 'true_negative_rate': 0.6875, 'positive_predictive_value': 0.9090909090909091, 'negative_predictive_value': 0.6111111111111112, 'false_positive_rate': 0.3125, 'false_negative_rate': 0.12280701754385964, 'false_discovery_rate': 0.09090909090909091}\n"
     ]
    },
    {
     "name": "stderr",
     "output_type": "stream",
     "text": [
      "WARNING: There is a new version of neptune-client 0.4.125 (installed: 0.4.124).\n",
      "NVMLError: NVML Shared Library Not Found - GPU usage metrics may not be reported.\n"
     ]
    },
    {
     "name": "stdout",
     "output_type": "stream",
     "text": [
      "https://ui.neptune.ai/intelliscope/Kunu/e/KUN-95\n",
      "638/638 [==============================] - 2s 4ms/sample\n",
      "{'accuracy': 0.829153605015674, 'precision': 0.8735632183908046, 'recall': 0.9138276553106213, 'f1_score': 0.8932419196865818, 'f2_score': 0.9054805401111994, 'matthews_corrcoef': 0.46985665000114113, 'cohen_kappa': 0.46687416629613165, 'true_positive_rate': 0.9138276553106213, 'true_negative_rate': 0.5251798561151079, 'positive_predictive_value': 0.8735632183908046, 'negative_predictive_value': 0.6293103448275862, 'false_positive_rate': 0.4748201438848921, 'false_negative_rate': 0.08617234468937876, 'false_discovery_rate': 0.12643678160919541}\n",
      "{'accuracy': 0.863013698630137, 'precision': 0.8983050847457628, 'recall': 0.9298245614035088, 'f1_score': 0.9137931034482759, 'f2_score': 0.9233449477351916, 'matthews_corrcoef': 0.582992642657233, 'cohen_kappa': 0.5809414466130884, 'true_positive_rate': 0.9298245614035088, 'true_negative_rate': 0.625, 'positive_predictive_value': 0.8983050847457628, 'negative_predictive_value': 0.7142857142857143, 'false_positive_rate': 0.375, 'false_negative_rate': 0.07017543859649122, 'false_discovery_rate': 0.1016949152542373}\n"
     ]
    },
    {
     "name": "stderr",
     "output_type": "stream",
     "text": [
      "WARNING: There is a new version of neptune-client 0.4.125 (installed: 0.4.124).\n"
     ]
    },
    {
     "name": "stdout",
     "output_type": "stream",
     "text": [
      "https://ui.neptune.ai/intelliscope/Kunu/e/KUN-96\n",
      "638/638 [==============================] - 2s 4ms/sample\n",
      "{'accuracy': 0.8448275862068966, 'precision': 0.8663003663003663, 'recall': 0.9478957915831663, 'f1_score': 0.9052631578947369, 'f2_score': 0.9303697875688435, 'matthews_corrcoef': 0.49672504525437866, 'cohen_kappa': 0.48143708641894223, 'true_positive_rate': 0.9478957915831663, 'true_negative_rate': 0.4748201438848921, 'positive_predictive_value': 0.8663003663003663, 'negative_predictive_value': 0.717391304347826, 'false_positive_rate': 0.5251798561151079, 'false_negative_rate': 0.052104208416833664, 'false_discovery_rate': 0.1336996336996337}\n",
      "{'accuracy': 0.9041095890410958, 'precision': 0.9032258064516129, 'recall': 0.9824561403508771, 'f1_score': 0.9411764705882352, 'f2_score': 0.9655172413793102, 'matthews_corrcoef': 0.7024576690206762, 'cohen_kappa': 0.6843730697961705, 'true_positive_rate': 0.9824561403508771, 'true_negative_rate': 0.625, 'positive_predictive_value': 0.9032258064516129, 'negative_predictive_value': 0.9090909090909091, 'false_positive_rate': 0.375, 'false_negative_rate': 0.017543859649122806, 'false_discovery_rate': 0.0967741935483871}\n"
     ]
    },
    {
     "name": "stderr",
     "output_type": "stream",
     "text": [
      "WARNING: There is a new version of neptune-client 0.4.125 (installed: 0.4.124).\n",
      "NVMLError: NVML Shared Library Not Found - GPU usage metrics may not be reported.\n"
     ]
    },
    {
     "name": "stdout",
     "output_type": "stream",
     "text": [
      "https://ui.neptune.ai/intelliscope/Kunu/e/KUN-97\n",
      "638/638 [==============================] - 2s 4ms/sample\n",
      "{'accuracy': 0.841692789968652, 'precision': 0.8698884758364313, 'recall': 0.9378757515030061, 'f1_score': 0.9026036644165863, 'f2_score': 0.9234411996842938, 'matthews_corrcoef': 0.49309998964874996, 'cohen_kappa': 0.483181213005887, 'true_positive_rate': 0.9378757515030061, 'true_negative_rate': 0.49640287769784175, 'positive_predictive_value': 0.8698884758364313, 'negative_predictive_value': 0.69, 'false_positive_rate': 0.5035971223021583, 'false_negative_rate': 0.06212424849699399, 'false_discovery_rate': 0.13011152416356878}\n",
      "{'accuracy': 0.8767123287671232, 'precision': 0.875, 'recall': 0.9824561403508771, 'f1_score': 0.9256198347107438, 'f2_score': 0.9589041095890412, 'matthews_corrcoef': 0.6070773303214784, 'cohen_kappa': 0.5725439167208848, 'true_positive_rate': 0.9824561403508771, 'true_negative_rate': 0.5, 'positive_predictive_value': 0.875, 'negative_predictive_value': 0.8888888888888888, 'false_positive_rate': 0.5, 'false_negative_rate': 0.017543859649122806, 'false_discovery_rate': 0.125}\n"
     ]
    },
    {
     "name": "stderr",
     "output_type": "stream",
     "text": [
      "WARNING: There is a new version of neptune-client 0.4.125 (installed: 0.4.124).\n"
     ]
    },
    {
     "name": "stdout",
     "output_type": "stream",
     "text": [
      "https://ui.neptune.ai/intelliscope/Kunu/e/KUN-98\n",
      "638/638 [==============================] - 2s 4ms/sample\n",
      "{'accuracy': 0.8338557993730408, 'precision': 0.8771593090211133, 'recall': 0.9158316633266533, 'f1_score': 0.8960784313725491, 'f2_score': 0.9078267779102105, 'matthews_corrcoef': 0.4857791995688947, 'cohen_kappa': 0.48297426644852526, 'true_positive_rate': 0.9158316633266533, 'true_negative_rate': 0.539568345323741, 'positive_predictive_value': 0.8771593090211133, 'negative_predictive_value': 0.6410256410256411, 'false_positive_rate': 0.460431654676259, 'false_negative_rate': 0.0841683366733467, 'false_discovery_rate': 0.12284069097888675}\n",
      "{'accuracy': 0.9178082191780822, 'precision': 0.9180327868852459, 'recall': 0.9824561403508771, 'f1_score': 0.9491525423728813, 'f2_score': 0.9688581314878891, 'matthews_corrcoef': 0.7478048035781969, 'cohen_kappa': 0.736144578313253, 'true_positive_rate': 0.9824561403508771, 'true_negative_rate': 0.6875, 'positive_predictive_value': 0.9180327868852459, 'negative_predictive_value': 0.9166666666666666, 'false_positive_rate': 0.3125, 'false_negative_rate': 0.017543859649122806, 'false_discovery_rate': 0.08196721311475409}\n"
     ]
    },
    {
     "name": "stderr",
     "output_type": "stream",
     "text": [
      "WARNING: There is a new version of neptune-client 0.4.125 (installed: 0.4.124).\n",
      "NVMLError: NVML Shared Library Not Found - GPU usage metrics may not be reported.\n"
     ]
    },
    {
     "name": "stdout",
     "output_type": "stream",
     "text": [
      "https://ui.neptune.ai/intelliscope/Kunu/e/KUN-99\n",
      "638/638 [==============================] - 2s 4ms/sample\n",
      "{'accuracy': 0.7648902821316614, 'precision': 0.8818380743982495, 'recall': 0.8076152304609219, 'f1_score': 0.8430962343096234, 'f2_score': 0.8214431308601713, 'matthews_corrcoef': 0.38379994725570676, 'cohen_kappa': 0.3779332041965132, 'true_positive_rate': 0.8076152304609219, 'true_negative_rate': 0.6115107913669064, 'positive_predictive_value': 0.8818380743982495, 'negative_predictive_value': 0.4696132596685083, 'false_positive_rate': 0.38848920863309355, 'false_negative_rate': 0.19238476953907815, 'false_discovery_rate': 0.11816192560175055}\n",
      "{'accuracy': 0.726027397260274, 'precision': 0.9111111111111111, 'recall': 0.7192982456140351, 'f1_score': 0.803921568627451, 'f2_score': 0.7509157509157508, 'matthews_corrcoef': 0.3992648493653501, 'cohen_kappa': 0.36960276338514686, 'true_positive_rate': 0.7192982456140351, 'true_negative_rate': 0.75, 'positive_predictive_value': 0.9111111111111111, 'negative_predictive_value': 0.42857142857142855, 'false_positive_rate': 0.25, 'false_negative_rate': 0.2807017543859649, 'false_discovery_rate': 0.08888888888888889}\n"
     ]
    },
    {
     "name": "stderr",
     "output_type": "stream",
     "text": [
      "WARNING: There is a new version of neptune-client 0.4.125 (installed: 0.4.124).\n"
     ]
    },
    {
     "name": "stdout",
     "output_type": "stream",
     "text": [
      "https://ui.neptune.ai/intelliscope/Kunu/e/KUN-100\n",
      "638/638 [==============================] - 2s 4ms/sample\n",
      "{'accuracy': 0.7021943573667712, 'precision': 0.8951406649616368, 'recall': 0.7014028056112225, 'f1_score': 0.7865168539325842, 'f2_score': 0.7331378299120236, 'matthews_corrcoef': 0.3444418818384663, 'cohen_kappa': 0.31746264118647305, 'true_positive_rate': 0.7014028056112225, 'true_negative_rate': 0.7050359712230215, 'positive_predictive_value': 0.8951406649616368, 'negative_predictive_value': 0.3967611336032389, 'false_positive_rate': 0.2949640287769784, 'false_negative_rate': 0.2985971943887776, 'false_discovery_rate': 0.10485933503836317}\n",
      "{'accuracy': 0.7397260273972602, 'precision': 0.9523809523809523, 'recall': 0.7017543859649122, 'f1_score': 0.8080808080808081, 'f2_score': 0.7407407407407408, 'matthews_corrcoef': 0.48270615090764446, 'cohen_kappa': 0.4313243132431325, 'true_positive_rate': 0.7017543859649122, 'true_negative_rate': 0.875, 'positive_predictive_value': 0.9523809523809523, 'negative_predictive_value': 0.45161290322580644, 'false_positive_rate': 0.125, 'false_negative_rate': 0.2982456140350877, 'false_discovery_rate': 0.047619047619047616}\n"
     ]
    },
    {
     "name": "stderr",
     "output_type": "stream",
     "text": [
      "WARNING: There is a new version of neptune-client 0.4.125 (installed: 0.4.124).\n",
      "NVMLError: NVML Shared Library Not Found - GPU usage metrics may not be reported.\n"
     ]
    },
    {
     "name": "stdout",
     "output_type": "stream",
     "text": [
      "https://ui.neptune.ai/intelliscope/Kunu/e/KUN-101\n",
      "638/638 [==============================] - 2s 4ms/sample\n",
      "{'accuracy': 0.7821316614420063, 'precision': 0.8629032258064516, 'recall': 0.8577154308617234, 'f1_score': 0.8603015075376884, 'f2_score': 0.8587479935794542, 'matthews_corrcoef': 0.3656942789293877, 'cohen_kappa': 0.36566000486402206, 'true_positive_rate': 0.8577154308617234, 'true_negative_rate': 0.5107913669064749, 'positive_predictive_value': 0.8629032258064516, 'negative_predictive_value': 0.5, 'false_positive_rate': 0.4892086330935252, 'false_negative_rate': 0.14228456913827656, 'false_discovery_rate': 0.13709677419354838}\n",
      "{'accuracy': 0.821917808219178, 'precision': 0.8793103448275862, 'recall': 0.8947368421052632, 'f1_score': 0.8869565217391304, 'f2_score': 0.8916083916083916, 'matthews_corrcoef': 0.4681435126725033, 'cohen_kappa': 0.46775098149186756, 'true_positive_rate': 0.8947368421052632, 'true_negative_rate': 0.5625, 'positive_predictive_value': 0.8793103448275862, 'negative_predictive_value': 0.6, 'false_positive_rate': 0.4375, 'false_negative_rate': 0.10526315789473684, 'false_discovery_rate': 0.1206896551724138}\n"
     ]
    },
    {
     "name": "stderr",
     "output_type": "stream",
     "text": [
      "WARNING: There is a new version of neptune-client 0.4.125 (installed: 0.4.124).\n"
     ]
    },
    {
     "name": "stdout",
     "output_type": "stream",
     "text": [
      "https://ui.neptune.ai/intelliscope/Kunu/e/KUN-102\n",
      "638/638 [==============================] - 2s 4ms/sample\n",
      "{'accuracy': 0.8119122257053292, 'precision': 0.8651252408477842, 'recall': 0.8997995991983968, 'f1_score': 0.8821218074656187, 'f2_score': 0.8926441351888666, 'matthews_corrcoef': 0.41987275965624116, 'cohen_kappa': 0.41789206368516296, 'true_positive_rate': 0.8997995991983968, 'true_negative_rate': 0.49640287769784175, 'positive_predictive_value': 0.8651252408477842, 'negative_predictive_value': 0.5798319327731093, 'false_positive_rate': 0.5035971223021583, 'false_negative_rate': 0.10020040080160321, 'false_discovery_rate': 0.1348747591522158}\n",
      "{'accuracy': 0.8356164383561644, 'precision': 0.8813559322033898, 'recall': 0.9122807017543859, 'f1_score': 0.8965517241379309, 'f2_score': 0.9059233449477352, 'matthews_corrcoef': 0.4988850084398852, 'cohen_kappa': 0.4971297359357061, 'true_positive_rate': 0.9122807017543859, 'true_negative_rate': 0.5625, 'positive_predictive_value': 0.8813559322033898, 'negative_predictive_value': 0.6428571428571429, 'false_positive_rate': 0.4375, 'false_negative_rate': 0.08771929824561403, 'false_discovery_rate': 0.11864406779661017}\n"
     ]
    },
    {
     "name": "stderr",
     "output_type": "stream",
     "text": [
      "WARNING: There is a new version of neptune-client 0.4.125 (installed: 0.4.124).\n",
      "NVMLError: NVML Shared Library Not Found - GPU usage metrics may not be reported.\n"
     ]
    },
    {
     "name": "stdout",
     "output_type": "stream",
     "text": [
      "https://ui.neptune.ai/intelliscope/Kunu/e/KUN-103\n",
      "638/638 [==============================] - 2s 4ms/sample\n",
      "{'accuracy': 0.8197492163009404, 'precision': 0.8440860215053764, 'recall': 0.9438877755511023, 'f1_score': 0.89120151371807, 'f2_score': 0.9220830070477684, 'matthews_corrcoef': 0.3963756682327487, 'cohen_kappa': 0.3754787967518428, 'true_positive_rate': 0.9438877755511023, 'true_negative_rate': 0.37410071942446044, 'positive_predictive_value': 0.8440860215053764, 'negative_predictive_value': 0.65, 'false_positive_rate': 0.6258992805755396, 'false_negative_rate': 0.056112224448897796, 'false_discovery_rate': 0.15591397849462366}\n",
      "{'accuracy': 0.8767123287671232, 'precision': 0.8636363636363636, 'recall': 1.0, 'f1_score': 0.9268292682926829, 'f2_score': 0.9693877551020408, 'matthews_corrcoef': 0.6146876516499327, 'cohen_kappa': 0.5484536082474226, 'true_positive_rate': 1.0, 'true_negative_rate': 0.4375, 'positive_predictive_value': 0.8636363636363636, 'negative_predictive_value': 1.0, 'false_positive_rate': 0.5625, 'false_negative_rate': 0.0, 'false_discovery_rate': 0.13636363636363635}\n"
     ]
    },
    {
     "name": "stderr",
     "output_type": "stream",
     "text": [
      "WARNING: There is a new version of neptune-client 0.4.125 (installed: 0.4.124).\n"
     ]
    },
    {
     "name": "stdout",
     "output_type": "stream",
     "text": [
      "https://ui.neptune.ai/intelliscope/Kunu/e/KUN-104\n",
      "638/638 [==============================] - 2s 4ms/sample\n",
      "{'accuracy': 0.822884012539185, 'precision': 0.865530303030303, 'recall': 0.9158316633266533, 'f1_score': 0.8899707887049659, 'f2_score': 0.9053090332805072, 'matthews_corrcoef': 0.44263178936650144, 'cohen_kappa': 0.4380037729377465, 'true_positive_rate': 0.9158316633266533, 'true_negative_rate': 0.4892086330935252, 'positive_predictive_value': 0.865530303030303, 'negative_predictive_value': 0.6181818181818182, 'false_positive_rate': 0.5107913669064749, 'false_negative_rate': 0.0841683366733467, 'false_discovery_rate': 0.13446969696969696}\n",
      "{'accuracy': 0.863013698630137, 'precision': 0.8852459016393442, 'recall': 0.9473684210526315, 'f1_score': 0.9152542372881356, 'f2_score': 0.9342560553633218, 'matthews_corrcoef': 0.5691149487133577, 'cohen_kappa': 0.5602409638554218, 'true_positive_rate': 0.9473684210526315, 'true_negative_rate': 0.5625, 'positive_predictive_value': 0.8852459016393442, 'negative_predictive_value': 0.75, 'false_positive_rate': 0.4375, 'false_negative_rate': 0.05263157894736842, 'false_discovery_rate': 0.11475409836065574}\n"
     ]
    },
    {
     "name": "stderr",
     "output_type": "stream",
     "text": [
      "WARNING: There is a new version of neptune-client 0.4.125 (installed: 0.4.124).\n",
      "NVMLError: NVML Shared Library Not Found - GPU usage metrics may not be reported.\n"
     ]
    },
    {
     "name": "stdout",
     "output_type": "stream",
     "text": [
      "https://ui.neptune.ai/intelliscope/Kunu/e/KUN-105\n",
      "638/638 [==============================] - 2s 4ms/sample\n",
      "{'accuracy': 0.822884012539185, 'precision': 0.8711538461538462, 'recall': 0.9078156312625251, 'f1_score': 0.889106967615309, 'f2_score': 0.9002384737678856, 'matthews_corrcoef': 0.4527119121026459, 'cohen_kappa': 0.4503438495905826, 'true_positive_rate': 0.9078156312625251, 'true_negative_rate': 0.5179856115107914, 'positive_predictive_value': 0.8711538461538462, 'negative_predictive_value': 0.6101694915254238, 'false_positive_rate': 0.48201438848920863, 'false_negative_rate': 0.09218436873747494, 'false_discovery_rate': 0.12884615384615383}\n",
      "{'accuracy': 0.863013698630137, 'precision': 0.8983050847457628, 'recall': 0.9298245614035088, 'f1_score': 0.9137931034482759, 'f2_score': 0.9233449477351916, 'matthews_corrcoef': 0.582992642657233, 'cohen_kappa': 0.5809414466130884, 'true_positive_rate': 0.9298245614035088, 'true_negative_rate': 0.625, 'positive_predictive_value': 0.8983050847457628, 'negative_predictive_value': 0.7142857142857143, 'false_positive_rate': 0.375, 'false_negative_rate': 0.07017543859649122, 'false_discovery_rate': 0.1016949152542373}\n"
     ]
    },
    {
     "name": "stderr",
     "output_type": "stream",
     "text": [
      "WARNING: There is a new version of neptune-client 0.4.125 (installed: 0.4.124).\n"
     ]
    },
    {
     "name": "stdout",
     "output_type": "stream",
     "text": [
      "https://ui.neptune.ai/intelliscope/Kunu/e/KUN-106\n",
      "638/638 [==============================] - 2s 4ms/sample\n",
      "{'accuracy': 0.8322884012539185, 'precision': 0.9100418410041841, 'recall': 0.8717434869739479, 'f1_score': 0.8904810644831116, 'f2_score': 0.8791430881164105, 'matthews_corrcoef': 0.5355771888224312, 'cohen_kappa': 0.533326041481522, 'true_positive_rate': 0.8717434869739479, 'true_negative_rate': 0.6906474820143885, 'positive_predictive_value': 0.9100418410041841, 'negative_predictive_value': 0.6, 'false_positive_rate': 0.30935251798561153, 'false_negative_rate': 0.1282565130260521, 'false_discovery_rate': 0.0899581589958159}\n",
      "{'accuracy': 0.8082191780821918, 'precision': 0.9056603773584906, 'recall': 0.8421052631578947, 'f1_score': 0.8727272727272727, 'f2_score': 0.8540925266903914, 'matthews_corrcoef': 0.491243457016548, 'cohen_kappa': 0.4859154929577465, 'true_positive_rate': 0.8421052631578947, 'true_negative_rate': 0.6875, 'positive_predictive_value': 0.9056603773584906, 'negative_predictive_value': 0.55, 'false_positive_rate': 0.3125, 'false_negative_rate': 0.15789473684210525, 'false_discovery_rate': 0.09433962264150944}\n"
     ]
    },
    {
     "name": "stderr",
     "output_type": "stream",
     "text": [
      "WARNING: There is a new version of neptune-client 0.4.125 (installed: 0.4.124).\n",
      "NVMLError: NVML Shared Library Not Found - GPU usage metrics may not be reported.\n"
     ]
    },
    {
     "name": "stdout",
     "output_type": "stream",
     "text": [
      "https://ui.neptune.ai/intelliscope/Kunu/e/KUN-107\n",
      "638/638 [==============================] - 2s 4ms/sample\n",
      "{'accuracy': 0.835423197492163, 'precision': 0.8803088803088803, 'recall': 0.9138276553106213, 'f1_score': 0.896755162241888, 'f2_score': 0.9069212410501193, 'matthews_corrcoef': 0.4941376983720982, 'cohen_kappa': 0.4920459198374304, 'true_positive_rate': 0.9138276553106213, 'true_negative_rate': 0.5539568345323741, 'positive_predictive_value': 0.8803088803088803, 'negative_predictive_value': 0.6416666666666667, 'false_positive_rate': 0.4460431654676259, 'false_negative_rate': 0.08617234468937876, 'false_discovery_rate': 0.11969111969111969}\n",
      "{'accuracy': 0.863013698630137, 'precision': 0.8983050847457628, 'recall': 0.9298245614035088, 'f1_score': 0.9137931034482759, 'f2_score': 0.9233449477351916, 'matthews_corrcoef': 0.582992642657233, 'cohen_kappa': 0.5809414466130884, 'true_positive_rate': 0.9298245614035088, 'true_negative_rate': 0.625, 'positive_predictive_value': 0.8983050847457628, 'negative_predictive_value': 0.7142857142857143, 'false_positive_rate': 0.375, 'false_negative_rate': 0.07017543859649122, 'false_discovery_rate': 0.1016949152542373}\n"
     ]
    },
    {
     "name": "stderr",
     "output_type": "stream",
     "text": [
      "WARNING: There is a new version of neptune-client 0.4.125 (installed: 0.4.124).\n"
     ]
    },
    {
     "name": "stdout",
     "output_type": "stream",
     "text": [
      "https://ui.neptune.ai/intelliscope/Kunu/e/KUN-108\n",
      "638/638 [==============================] - 2s 4ms/sample\n",
      "{'accuracy': 0.8072100313479624, 'precision': 0.873015873015873, 'recall': 0.8817635270541082, 'f1_score': 0.8773678963110668, 'f2_score': 0.8800000000000001, 'matthews_corrcoef': 0.42698667173453353, 'cohen_kappa': 0.4268707731409124, 'true_positive_rate': 0.8817635270541082, 'true_negative_rate': 0.539568345323741, 'positive_predictive_value': 0.873015873015873, 'negative_predictive_value': 0.5597014925373134, 'false_positive_rate': 0.460431654676259, 'false_negative_rate': 0.11823647294589178, 'false_discovery_rate': 0.12698412698412698}\n",
      "{'accuracy': 0.8356164383561644, 'precision': 0.8813559322033898, 'recall': 0.9122807017543859, 'f1_score': 0.8965517241379309, 'f2_score': 0.9059233449477352, 'matthews_corrcoef': 0.4988850084398852, 'cohen_kappa': 0.4971297359357061, 'true_positive_rate': 0.9122807017543859, 'true_negative_rate': 0.5625, 'positive_predictive_value': 0.8813559322033898, 'negative_predictive_value': 0.6428571428571429, 'false_positive_rate': 0.4375, 'false_negative_rate': 0.08771929824561403, 'false_discovery_rate': 0.11864406779661017}\n"
     ]
    },
    {
     "name": "stderr",
     "output_type": "stream",
     "text": [
      "WARNING: There is a new version of neptune-client 0.4.125 (installed: 0.4.124).\n",
      "NVMLError: NVML Shared Library Not Found - GPU usage metrics may not be reported.\n"
     ]
    },
    {
     "name": "stdout",
     "output_type": "stream",
     "text": [
      "https://ui.neptune.ai/intelliscope/Kunu/e/KUN-109\n",
      "638/638 [==============================] - 2s 4ms/sample\n",
      "{'accuracy': 0.8213166144200627, 'precision': 0.8857715430861723, 'recall': 0.8857715430861723, 'f1_score': 0.8857715430861723, 'f2_score': 0.8857715430861723, 'matthews_corrcoef': 0.47569960064012917, 'cohen_kappa': 0.47569960064012917, 'true_positive_rate': 0.8857715430861723, 'true_negative_rate': 0.5899280575539568, 'positive_predictive_value': 0.8857715430861723, 'negative_predictive_value': 0.5899280575539568, 'false_positive_rate': 0.41007194244604317, 'false_negative_rate': 0.11422845691382766, 'false_discovery_rate': 0.11422845691382766}\n",
      "{'accuracy': 0.863013698630137, 'precision': 0.9122807017543859, 'recall': 0.9122807017543859, 'f1_score': 0.9122807017543859, 'f2_score': 0.9122807017543858, 'matthews_corrcoef': 0.5997807017543859, 'cohen_kappa': 0.5997807017543859, 'true_positive_rate': 0.9122807017543859, 'true_negative_rate': 0.6875, 'positive_predictive_value': 0.9122807017543859, 'negative_predictive_value': 0.6875, 'false_positive_rate': 0.3125, 'false_negative_rate': 0.08771929824561403, 'false_discovery_rate': 0.08771929824561403}\n"
     ]
    },
    {
     "name": "stderr",
     "output_type": "stream",
     "text": [
      "WARNING: There is a new version of neptune-client 0.4.125 (installed: 0.4.124).\n"
     ]
    },
    {
     "name": "stdout",
     "output_type": "stream",
     "text": [
      "https://ui.neptune.ai/intelliscope/Kunu/e/KUN-110\n",
      "638/638 [==============================] - 2s 4ms/sample\n",
      "{'accuracy': 0.8495297805642633, 'precision': 0.8710865561694291, 'recall': 0.9478957915831663, 'f1_score': 0.9078694817658349, 'f2_score': 0.9314690823158723, 'matthews_corrcoef': 0.5151942033782873, 'cohen_kappa': 0.5015706124574796, 'true_positive_rate': 0.9478957915831663, 'true_negative_rate': 0.49640287769784175, 'positive_predictive_value': 0.8710865561694291, 'negative_predictive_value': 0.7263157894736842, 'false_positive_rate': 0.5035971223021583, 'false_negative_rate': 0.052104208416833664, 'false_discovery_rate': 0.1289134438305709}\n",
      "{'accuracy': 0.8904109589041096, 'precision': 0.9152542372881356, 'recall': 0.9473684210526315, 'f1_score': 0.9310344827586206, 'f2_score': 0.9407665505226481, 'matthews_corrcoef': 0.6671002768745808, 'cohen_kappa': 0.6647531572904708, 'true_positive_rate': 0.9473684210526315, 'true_negative_rate': 0.6875, 'positive_predictive_value': 0.9152542372881356, 'negative_predictive_value': 0.7857142857142857, 'false_positive_rate': 0.3125, 'false_negative_rate': 0.05263157894736842, 'false_discovery_rate': 0.0847457627118644}\n"
     ]
    },
    {
     "name": "stderr",
     "output_type": "stream",
     "text": [
      "WARNING: There is a new version of neptune-client 0.4.125 (installed: 0.4.124).\n",
      "NVMLError: NVML Shared Library Not Found - GPU usage metrics may not be reported.\n"
     ]
    },
    {
     "name": "stdout",
     "output_type": "stream",
     "text": [
      "https://ui.neptune.ai/intelliscope/Kunu/e/KUN-111\n"
     ]
    }
   ],
   "source": [
    "\n",
    "X_test_pcg = X_test[:,:,:,0:3]/255.0\n",
    "X_test_ecg = X_test[:,:,:,3:6]/255.0\n",
    "\n",
    "for i in range(len(experiments)):\n",
    "    if i==0:continue\n",
    "    experiment    = experiments[i]\n",
    "    model_name = str(experiment)+'.h5'\n",
    "    PARAMS     = experiment.get_parameters()\n",
    "    PARAMS['tags']=PARAMS['tags'][2:-2].strip().split(\"', '\")\n",
    "    \n",
    "    model = load_model(PARAMS['modelsave_dir']+'/'+model_name)\n",
    "    y_test, y_pred=get_results(model, X_test_pcg, X_test_ecg, Y_test)\n",
    "    \n",
    "    y_test_patientwise, y_pred_patientwise=get_individual_metrics(y_test, y_pred, names)\n",
    "\n",
    "    \n",
    "    neptune.init('intelliscope/'+project_name,NEPTUNE_API_TOKEN)\n",
    "    exp = neptune.create_experiment(name=str(experiment),description=PARAMS['name'],params=PARAMS,tags=PARAMS['tags'],upload_stdout=True)\n",
    "    neptune_log_metrics(y_test_patientwise, y_pred_patientwise)\n",
    "    neptune.stop()"
   ]
  },
  {
   "cell_type": "code",
   "execution_count": null,
   "metadata": {},
   "outputs": [],
   "source": []
  }
 ],
 "metadata": {
  "kernelspec": {
   "display_name": "Python 3",
   "language": "python",
   "name": "python3"
  },
  "language_info": {
   "codemirror_mode": {
    "name": "ipython",
    "version": 3
   },
   "file_extension": ".py",
   "mimetype": "text/x-python",
   "name": "python",
   "nbconvert_exporter": "python",
   "pygments_lexer": "ipython3",
   "version": "3.6.9"
  }
 },
 "nbformat": 4,
 "nbformat_minor": 4
}
