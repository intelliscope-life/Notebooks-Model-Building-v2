{
 "cells": [
  {
   "cell_type": "code",
   "execution_count": 4,
   "metadata": {},
   "outputs": [
    {
     "name": "stderr",
     "output_type": "stream",
     "text": [
      "WARNING: Instantiating Session without specifying a backend is deprecated and will be removed in future versions. For current behaviour use `neptune.init(...)` or `Session.with_default_backend(...)\n",
      "WARNING: There is a new version of neptune-client 0.4.125 (installed: 0.4.124).\n"
     ]
    },
    {
     "name": "stdout",
     "output_type": "stream",
     "text": [
      "Total  388\n",
      "197 Images loaded across 2 Categories. Ignored blanks  0\n",
      "191 Images loaded across 2 Categories. Ignored blanks  16\n",
      "372 Total After removing blanks\n"
     ]
    }
   ],
   "source": [
    "import sys\n",
    "sys.path.append('/home/ubuntu/intelliscope/modules')\n",
    "\n",
    "#!pip install neptune-client\n",
    "import os\n",
    "import neptune\n",
    "\n",
    "import tensorflow as tf\n",
    "from tensorflow.keras.models import load_model\n",
    "\n",
    "import matplotlib.pyplot as plt\n",
    "import cv2\n",
    "import numpy as np\n",
    "from tensorflow import keras\n",
    "from tensorflow.keras.models import Sequential, load_model\n",
    "from tensorflow.keras.layers import Conv2D, MaxPooling2D\n",
    "from tensorflow.keras.layers import Activation, Dropout, Flatten, Dense, Lambda,BatchNormalization\n",
    "from tensorflow.keras import backend as K\n",
    "from tensorflow_addons.layers import InstanceNormalization\n",
    "import tensorflow_addons as tfa\n",
    "from tensorflow.keras.layers import Activation, Dropout, Flatten, Dense, Lambda\n",
    "from tensorflow.keras.preprocessing.image import ImageDataGenerator, array_to_img, img_to_array, load_img\n",
    "\n",
    "\n",
    "from intelliscope import instead_data_loaders\n",
    "from sklearn.metrics import classification_report\n",
    "import numpy as np\n",
    "from neptunecontrib.monitoring.metrics import *\n",
    "from neptune.sessions import Session\n",
    "import custom_metrics\n",
    "\n",
    "\n",
    "################################################################################################################\n",
    "#project_name='Patientwise-Test-HYBRID-balanced'\n",
    "project_name='Kunu'\n",
    "prev_project_name='HYBRID-Imbalanced'\n",
    "TrainTestVal='test'\n",
    "thres=0.8\n",
    "################################################################################################################\n",
    "\n",
    "\n",
    "NEPTUNE_API_TOKEN='eyJhcGlfYWRkcmVzcyI6Imh0dHBzOi8vdWkubmVwdHVuZS5haSIsImFwaV91cmwiOiJodHRwczovL3VpLm5lcHR1bmUuYWkiLCJhcGlfa2V5IjoiMzc1YTM5OGMtYTY3Ny00ZmM4LTg5ZGQtOGI2YTQ1YmZiMDkzIn0='\n",
    "session = Session(api_token=NEPTUNE_API_TOKEN)\n",
    "\n",
    "project = session.get_projects('intelliscope')['intelliscope/'+prev_project_name]\n",
    "experiments=project.get_experiments()\n",
    "X_test,Y_test,names = instead_data_loaders(experiments[0].get_parameters(),TrainTestVal, True) # because we have separate projects for balanced, imbalanced datasets\n",
    "\n",
    "\n",
    "def get_results(model=None, X_test_pcg=None, X_test_ecg=None, Y_test=None, threshold = thres):    \n",
    "    y_pred = model.predict([X_test_pcg,X_test_ecg], batch_size=32, verbose=1)\n",
    "    y_test = np.argmax(Y_test,axis=1)\n",
    "    \n",
    "    print(custom_metrics._class_metrics(y_test, y_pred[:, 1] > threshold))\n",
    "    return y_test, y_pred\n",
    "\n",
    "\n",
    "def get_individual_metrics(y_test, y_pred, names):\n",
    "    patient_preds={}\n",
    "    for i in range(len(names)): # create dict: patient_record_name: [start_point, label, [pred0, pred1]] \n",
    "        name=names[i]\n",
    "        record_name,record_start_point,_=name.strip().split('_')\n",
    "        if record_name in patient_preds:\n",
    "            patient_preds[record_name].append([int(record_start_point),y_test[i], list(y_pred[i])])\n",
    "        else:\n",
    "            patient_preds[record_name]=[[int(record_start_point),y_test[i], list(y_pred[i])]]\n",
    "\n",
    "    y_test_bulk, y_pred_bulk=[],[]    \n",
    "    for key in patient_preds: # return :: patient-wise y_test, y_preds\n",
    "        patient_pred=patient_preds[key]\n",
    "        label, pred_label=get_single_patient_pred(patient_pred, mean)\n",
    "\n",
    "        y_test_bulk.append(label)\n",
    "        y_pred_bulk.append(pred_label)\n",
    "\n",
    "    y_test_bulk=np.array(y_test_bulk)\n",
    "    y_pred_bulk=np.array(y_pred_bulk)\n",
    "    print(custom_metrics._class_metrics(y_test_bulk, y_pred_bulk[:, 1] > thres))\n",
    "    \n",
    "    return y_test_bulk, y_pred_bulk\n",
    "\n",
    "def mean(list_):\n",
    "    metric=np.mean(list_)\n",
    "    return [1-metric,metric]\n",
    "\n",
    "def get_single_patient_pred(patient_pred, func):\n",
    "    #print(patient_pred)\n",
    "    patient_pred.sort()\n",
    "    \n",
    "    y=np.array(patient_pred)[:,1]\n",
    "    \n",
    "    assert y.sum()%(y.shape[0])==0\n",
    "    label=y[0] # label of the patient\n",
    "    \n",
    "    rows=[]\n",
    "    for row in sorted(patient_pred):\n",
    "        rows.append(list(row[2]))\n",
    "    rows=np.array(rows)\n",
    "\n",
    "    y_preds=np.argmax(rows, axis=1)\n",
    "    pred_label=func(y_preds)\n",
    "    return label, pred_label\n",
    "\n",
    "def neptune_log_metrics(y_test=None, y_pred=None, threshold = thres):\n",
    "    log_confusion_matrix(y_test, y_pred[:, 1] > threshold)\n",
    "    log_classification_report(y_test, y_pred[:, 1] > threshold)\n",
    "    log_class_metrics(y_test, y_pred[:, 1] > threshold)\n",
    "    log_class_metrics_by_threshold(y_test, y_pred[:, 1])\n",
    "    log_brier_loss(y_test, y_pred[:, 1])\n",
    "    log_prediction_distribution(y_test, y_pred[:, 1])\n",
    "\n",
    "    log_log_loss(y_test, y_pred)\n",
    "    log_roc_auc(y_test, y_pred)\n",
    "    log_precision_recall_auc(y_test, y_pred)\n",
    "    log_ks_statistic(y_test, y_pred)\n",
    "    log_cumulative_gain(y_test, y_pred)\n",
    "    log_lift_curve(y_test, y_pred)\n"
   ]
  },
  {
   "cell_type": "code",
   "execution_count": null,
   "metadata": {},
   "outputs": [
    {
     "name": "stdout",
     "output_type": "stream",
     "text": [
      "372/372 [==============================] - 1s 4ms/sample\n",
      "{'accuracy': 0.7419354838709677, 'precision': 0.7135135135135136, 'recall': 0.7542857142857143, 'f1_score': 0.7333333333333335, 'f2_score': 0.7457627118644068, 'matthews_corrcoef': 0.48440785428865124, 'cohen_kappa': 0.48370680931039467, 'true_positive_rate': 0.7542857142857143, 'true_negative_rate': 0.7309644670050761, 'positive_predictive_value': 0.7135135135135136, 'negative_predictive_value': 0.7700534759358288, 'false_positive_rate': 0.26903553299492383, 'false_negative_rate': 0.24571428571428572, 'false_discovery_rate': 0.2864864864864865}\n",
      "{'accuracy': 0.75, 'precision': 0.75, 'recall': 0.7142857142857143, 'f1_score': 0.7317073170731706, 'f2_score': 0.7211538461538461, 'matthews_corrcoef': 0.4984447862792268, 'cohen_kappa': 0.4979253112033195, 'true_positive_rate': 0.7142857142857143, 'true_negative_rate': 0.782608695652174, 'positive_predictive_value': 0.75, 'negative_predictive_value': 0.75, 'false_positive_rate': 0.21739130434782608, 'false_negative_rate': 0.2857142857142857, 'false_discovery_rate': 0.25}\n"
     ]
    },
    {
     "name": "stderr",
     "output_type": "stream",
     "text": [
      "WARNING: There is a new version of neptune-client 0.4.125 (installed: 0.4.124).\n",
      "NVMLError: NVML Shared Library Not Found - GPU usage metrics may not be reported.\n"
     ]
    },
    {
     "name": "stdout",
     "output_type": "stream",
     "text": [
      "https://ui.neptune.ai/intelliscope/Patientwise-Test-HYBRID-Balanced/e/PWTESTBAL-1\n",
      "372/372 [==============================] - 1s 4ms/sample\n",
      "{'accuracy': 0.7473118279569892, 'precision': 0.7612903225806451, 'recall': 0.6742857142857143, 'f1_score': 0.7151515151515151, 'f2_score': 0.6900584795321637, 'matthews_corrcoef': 0.4925055234879241, 'cohen_kappa': 0.4895927601809954, 'true_positive_rate': 0.6742857142857143, 'true_negative_rate': 0.8121827411167513, 'positive_predictive_value': 0.7612903225806451, 'negative_predictive_value': 0.7373271889400922, 'false_positive_rate': 0.18781725888324874, 'false_negative_rate': 0.32571428571428573, 'false_discovery_rate': 0.23870967741935484}\n",
      "{'accuracy': 0.75, 'precision': 0.8125, 'recall': 0.6190476190476191, 'f1_score': 0.7027027027027026, 'f2_score': 0.65, 'matthews_corrcoef': 0.5073403808614559, 'cohen_kappa': 0.4937238493723849, 'true_positive_rate': 0.6190476190476191, 'true_negative_rate': 0.8695652173913043, 'positive_predictive_value': 0.8125, 'negative_predictive_value': 0.7142857142857143, 'false_positive_rate': 0.13043478260869565, 'false_negative_rate': 0.38095238095238093, 'false_discovery_rate': 0.1875}\n"
     ]
    },
    {
     "name": "stderr",
     "output_type": "stream",
     "text": [
      "WARNING: There is a new version of neptune-client 0.4.125 (installed: 0.4.124).\n"
     ]
    },
    {
     "name": "stdout",
     "output_type": "stream",
     "text": [
      "https://ui.neptune.ai/intelliscope/Patientwise-Test-HYBRID-Balanced/e/PWTESTBAL-2\n",
      "372/372 [==============================] - 1s 4ms/sample\n",
      "{'accuracy': 0.7419354838709677, 'precision': 0.6908212560386473, 'recall': 0.8171428571428572, 'f1_score': 0.7486910994764397, 'f2_score': 0.7883131201764058, 'matthews_corrcoef': 0.4945704351756786, 'cohen_kappa': 0.48729434059781207, 'true_positive_rate': 0.8171428571428572, 'true_negative_rate': 0.6751269035532995, 'positive_predictive_value': 0.6908212560386473, 'negative_predictive_value': 0.806060606060606, 'false_positive_rate': 0.3248730964467005, 'false_negative_rate': 0.18285714285714286, 'false_discovery_rate': 0.30917874396135264}\n",
      "{'accuracy': 0.7954545454545454, 'precision': 0.7727272727272727, 'recall': 0.8095238095238095, 'f1_score': 0.7906976744186046, 'f2_score': 0.8018867924528302, 'matthews_corrcoef': 0.5915204817512771, 'cohen_kappa': 0.5909090909090908, 'true_positive_rate': 0.8095238095238095, 'true_negative_rate': 0.782608695652174, 'positive_predictive_value': 0.7727272727272727, 'negative_predictive_value': 0.8181818181818182, 'false_positive_rate': 0.21739130434782608, 'false_negative_rate': 0.19047619047619047, 'false_discovery_rate': 0.22727272727272727}\n"
     ]
    },
    {
     "name": "stderr",
     "output_type": "stream",
     "text": [
      "WARNING: There is a new version of neptune-client 0.4.125 (installed: 0.4.124).\n"
     ]
    },
    {
     "name": "stdout",
     "output_type": "stream",
     "text": [
      "https://ui.neptune.ai/intelliscope/Patientwise-Test-HYBRID-Balanced/e/PWTESTBAL-3\n",
      "372/372 [==============================] - 1s 4ms/sample\n",
      "{'accuracy': 0.7688172043010753, 'precision': 0.7947019867549668, 'recall': 0.6857142857142857, 'f1_score': 0.7361963190184049, 'f2_score': 0.7050528789659225, 'matthews_corrcoef': 0.5370224327944646, 'cohen_kappa': 0.532431089415685, 'true_positive_rate': 0.6857142857142857, 'true_negative_rate': 0.8426395939086294, 'positive_predictive_value': 0.7947019867549668, 'negative_predictive_value': 0.751131221719457, 'false_positive_rate': 0.15736040609137056, 'false_negative_rate': 0.3142857142857143, 'false_discovery_rate': 0.2052980132450331}\n",
      "{'accuracy': 0.75, 'precision': 0.8125, 'recall': 0.6190476190476191, 'f1_score': 0.7027027027027026, 'f2_score': 0.65, 'matthews_corrcoef': 0.5073403808614559, 'cohen_kappa': 0.4937238493723849, 'true_positive_rate': 0.6190476190476191, 'true_negative_rate': 0.8695652173913043, 'positive_predictive_value': 0.8125, 'negative_predictive_value': 0.7142857142857143, 'false_positive_rate': 0.13043478260869565, 'false_negative_rate': 0.38095238095238093, 'false_discovery_rate': 0.1875}\n"
     ]
    },
    {
     "name": "stderr",
     "output_type": "stream",
     "text": [
      "WARNING: There is a new version of neptune-client 0.4.125 (installed: 0.4.124).\n",
      "NVMLError: NVML Shared Library Not Found - GPU usage metrics may not be reported.\n"
     ]
    },
    {
     "name": "stdout",
     "output_type": "stream",
     "text": [
      "https://ui.neptune.ai/intelliscope/Patientwise-Test-HYBRID-Balanced/e/PWTESTBAL-4\n",
      "372/372 [==============================] - 1s 4ms/sample\n",
      "{'accuracy': 0.7311827956989247, 'precision': 0.694300518134715, 'recall': 0.7657142857142857, 'f1_score': 0.7282608695652173, 'f2_score': 0.7502799552071668, 'matthews_corrcoef': 0.46573581597020436, 'cohen_kappa': 0.46355954200674876, 'true_positive_rate': 0.7657142857142857, 'true_negative_rate': 0.700507614213198, 'positive_predictive_value': 0.694300518134715, 'negative_predictive_value': 0.770949720670391, 'false_positive_rate': 0.29949238578680204, 'false_negative_rate': 0.2342857142857143, 'false_discovery_rate': 0.30569948186528495}\n",
      "{'accuracy': 0.75, 'precision': 0.75, 'recall': 0.7142857142857143, 'f1_score': 0.7317073170731706, 'f2_score': 0.7211538461538461, 'matthews_corrcoef': 0.4984447862792268, 'cohen_kappa': 0.4979253112033195, 'true_positive_rate': 0.7142857142857143, 'true_negative_rate': 0.782608695652174, 'positive_predictive_value': 0.75, 'negative_predictive_value': 0.75, 'false_positive_rate': 0.21739130434782608, 'false_negative_rate': 0.2857142857142857, 'false_discovery_rate': 0.25}\n"
     ]
    },
    {
     "name": "stderr",
     "output_type": "stream",
     "text": [
      "WARNING: There is a new version of neptune-client 0.4.125 (installed: 0.4.124).\n"
     ]
    },
    {
     "name": "stdout",
     "output_type": "stream",
     "text": [
      "https://ui.neptune.ai/intelliscope/Patientwise-Test-HYBRID-Balanced/e/PWTESTBAL-5\n",
      "372/372 [==============================] - 1s 4ms/sample\n",
      "{'accuracy': 0.717741935483871, 'precision': 0.6944444444444444, 'recall': 0.7142857142857143, 'f1_score': 0.7042253521126761, 'f2_score': 0.7102272727272727, 'matthews_corrcoef': 0.4345625080035551, 'cohen_kappa': 0.43440486533449174, 'true_positive_rate': 0.7142857142857143, 'true_negative_rate': 0.7208121827411168, 'positive_predictive_value': 0.6944444444444444, 'negative_predictive_value': 0.7395833333333334, 'false_positive_rate': 0.27918781725888325, 'false_negative_rate': 0.2857142857142857, 'false_discovery_rate': 0.3055555555555556}\n",
      "{'accuracy': 0.6818181818181818, 'precision': 0.6842105263157895, 'recall': 0.6190476190476191, 'f1_score': 0.6500000000000001, 'f2_score': 0.6310679611650486, 'matthews_corrcoef': 0.36118169596516436, 'cohen_kappa': 0.35966735966735963, 'true_positive_rate': 0.6190476190476191, 'true_negative_rate': 0.7391304347826086, 'positive_predictive_value': 0.6842105263157895, 'negative_predictive_value': 0.68, 'false_positive_rate': 0.2608695652173913, 'false_negative_rate': 0.38095238095238093, 'false_discovery_rate': 0.3157894736842105}\n"
     ]
    },
    {
     "name": "stderr",
     "output_type": "stream",
     "text": [
      "WARNING: There is a new version of neptune-client 0.4.125 (installed: 0.4.124).\n"
     ]
    },
    {
     "name": "stdout",
     "output_type": "stream",
     "text": [
      "https://ui.neptune.ai/intelliscope/Patientwise-Test-HYBRID-Balanced/e/PWTESTBAL-6\n",
      "372/372 [==============================] - 1s 4ms/sample\n",
      "{'accuracy': 0.7043010752688172, 'precision': 0.6431718061674009, 'recall': 0.8342857142857143, 'f1_score': 0.7263681592039801, 'f2_score': 0.7874865156418556, 'matthews_corrcoef': 0.433028933933193, 'cohen_kappa': 0.4162125146232203, 'true_positive_rate': 0.8342857142857143, 'true_negative_rate': 0.5888324873096447, 'positive_predictive_value': 0.6431718061674009, 'negative_predictive_value': 0.8, 'false_positive_rate': 0.41116751269035534, 'false_negative_rate': 0.1657142857142857, 'false_discovery_rate': 0.3568281938325991}\n",
      "{'accuracy': 0.75, 'precision': 0.6785714285714286, 'recall': 0.9047619047619048, 'f1_score': 0.7755102040816326, 'f2_score': 0.8482142857142859, 'matthews_corrcoef': 0.533137349379835, 'cohen_kappa': 0.5061224489795919, 'true_positive_rate': 0.9047619047619048, 'true_negative_rate': 0.6086956521739131, 'positive_predictive_value': 0.6785714285714286, 'negative_predictive_value': 0.875, 'false_positive_rate': 0.391304347826087, 'false_negative_rate': 0.09523809523809523, 'false_discovery_rate': 0.32142857142857145}\n"
     ]
    },
    {
     "name": "stderr",
     "output_type": "stream",
     "text": [
      "WARNING: There is a new version of neptune-client 0.4.125 (installed: 0.4.124).\n",
      "NVMLError: NVML Shared Library Not Found - GPU usage metrics may not be reported.\n"
     ]
    },
    {
     "name": "stdout",
     "output_type": "stream",
     "text": [
      "https://ui.neptune.ai/intelliscope/Patientwise-Test-HYBRID-Balanced/e/PWTESTBAL-7\n",
      "372/372 [==============================] - 1s 4ms/sample\n",
      "{'accuracy': 0.728494623655914, 'precision': 0.7126436781609196, 'recall': 0.7085714285714285, 'f1_score': 0.7106017191977078, 'f2_score': 0.7093821510297482, 'matthews_corrcoef': 0.4549160959521229, 'cohen_kappa': 0.4549094707520891, 'true_positive_rate': 0.7085714285714285, 'true_negative_rate': 0.7461928934010152, 'positive_predictive_value': 0.7126436781609196, 'negative_predictive_value': 0.7424242424242424, 'false_positive_rate': 0.25380710659898476, 'false_negative_rate': 0.2914285714285714, 'false_discovery_rate': 0.28735632183908044}\n",
      "{'accuracy': 0.6818181818181818, 'precision': 0.6842105263157895, 'recall': 0.6190476190476191, 'f1_score': 0.6500000000000001, 'f2_score': 0.6310679611650486, 'matthews_corrcoef': 0.36118169596516436, 'cohen_kappa': 0.35966735966735963, 'true_positive_rate': 0.6190476190476191, 'true_negative_rate': 0.7391304347826086, 'positive_predictive_value': 0.6842105263157895, 'negative_predictive_value': 0.68, 'false_positive_rate': 0.2608695652173913, 'false_negative_rate': 0.38095238095238093, 'false_discovery_rate': 0.3157894736842105}\n"
     ]
    },
    {
     "name": "stderr",
     "output_type": "stream",
     "text": [
      "WARNING: There is a new version of neptune-client 0.4.125 (installed: 0.4.124).\n"
     ]
    },
    {
     "name": "stdout",
     "output_type": "stream",
     "text": [
      "https://ui.neptune.ai/intelliscope/Patientwise-Test-HYBRID-Balanced/e/PWTESTBAL-8\n",
      "372/372 [==============================] - 1s 4ms/sample\n",
      "{'accuracy': 0.7365591397849462, 'precision': 0.7483870967741936, 'recall': 0.6628571428571428, 'f1_score': 0.703030303030303, 'f2_score': 0.6783625730994152, 'matthews_corrcoef': 0.4706568496178498, 'cohen_kappa': 0.4678733031674208, 'true_positive_rate': 0.6628571428571428, 'true_negative_rate': 0.8020304568527918, 'positive_predictive_value': 0.7483870967741936, 'negative_predictive_value': 0.728110599078341, 'false_positive_rate': 0.19796954314720813, 'false_negative_rate': 0.33714285714285713, 'false_discovery_rate': 0.25161290322580643}\n",
      "{'accuracy': 0.75, 'precision': 0.8125, 'recall': 0.6190476190476191, 'f1_score': 0.7027027027027026, 'f2_score': 0.65, 'matthews_corrcoef': 0.5073403808614559, 'cohen_kappa': 0.4937238493723849, 'true_positive_rate': 0.6190476190476191, 'true_negative_rate': 0.8695652173913043, 'positive_predictive_value': 0.8125, 'negative_predictive_value': 0.7142857142857143, 'false_positive_rate': 0.13043478260869565, 'false_negative_rate': 0.38095238095238093, 'false_discovery_rate': 0.1875}\n"
     ]
    },
    {
     "name": "stderr",
     "output_type": "stream",
     "text": [
      "WARNING: There is a new version of neptune-client 0.4.125 (installed: 0.4.124).\n"
     ]
    },
    {
     "name": "stdout",
     "output_type": "stream",
     "text": [
      "https://ui.neptune.ai/intelliscope/Patientwise-Test-HYBRID-Balanced/e/PWTESTBAL-9\n",
      "372/372 [==============================] - 1s 4ms/sample\n",
      "{'accuracy': 0.7580645161290323, 'precision': 0.7348066298342542, 'recall': 0.76, 'f1_score': 0.7471910112359551, 'f2_score': 0.7548240635641317, 'matthews_corrcoef': 0.5156277613770863, 'cohen_kappa': 0.5153585593931849, 'true_positive_rate': 0.76, 'true_negative_rate': 0.7563451776649747, 'positive_predictive_value': 0.7348066298342542, 'negative_predictive_value': 0.7801047120418848, 'false_positive_rate': 0.2436548223350254, 'false_negative_rate': 0.24, 'false_discovery_rate': 0.26519337016574585}\n",
      "{'accuracy': 0.8409090909090909, 'precision': 0.8181818181818182, 'recall': 0.8571428571428571, 'f1_score': 0.8372093023255814, 'f2_score': 0.8490566037735847, 'matthews_corrcoef': 0.6825236327899351, 'cohen_kappa': 0.6818181818181819, 'true_positive_rate': 0.8571428571428571, 'true_negative_rate': 0.8260869565217391, 'positive_predictive_value': 0.8181818181818182, 'negative_predictive_value': 0.8636363636363636, 'false_positive_rate': 0.17391304347826086, 'false_negative_rate': 0.14285714285714285, 'false_discovery_rate': 0.18181818181818182}\n"
     ]
    },
    {
     "name": "stderr",
     "output_type": "stream",
     "text": [
      "WARNING: There is a new version of neptune-client 0.4.125 (installed: 0.4.124).\n",
      "NVMLError: NVML Shared Library Not Found - GPU usage metrics may not be reported.\n"
     ]
    },
    {
     "name": "stdout",
     "output_type": "stream",
     "text": [
      "https://ui.neptune.ai/intelliscope/Patientwise-Test-HYBRID-Balanced/e/PWTESTBAL-10\n",
      "372/372 [==============================] - 1s 4ms/sample\n",
      "{'accuracy': 0.7473118279569892, 'precision': 0.7368421052631579, 'recall': 0.72, 'f1_score': 0.7283236994219653, 'f2_score': 0.7233065442020665, 'matthews_corrcoef': 0.4923167456722466, 'cohen_kappa': 0.4922017948941362, 'true_positive_rate': 0.72, 'true_negative_rate': 0.7715736040609137, 'positive_predictive_value': 0.7368421052631579, 'negative_predictive_value': 0.7562189054726368, 'false_positive_rate': 0.22842639593908629, 'false_negative_rate': 0.28, 'false_discovery_rate': 0.2631578947368421}\n",
      "{'accuracy': 0.8409090909090909, 'precision': 0.8181818181818182, 'recall': 0.8571428571428571, 'f1_score': 0.8372093023255814, 'f2_score': 0.8490566037735847, 'matthews_corrcoef': 0.6825236327899351, 'cohen_kappa': 0.6818181818181819, 'true_positive_rate': 0.8571428571428571, 'true_negative_rate': 0.8260869565217391, 'positive_predictive_value': 0.8181818181818182, 'negative_predictive_value': 0.8636363636363636, 'false_positive_rate': 0.17391304347826086, 'false_negative_rate': 0.14285714285714285, 'false_discovery_rate': 0.18181818181818182}\n"
     ]
    },
    {
     "name": "stderr",
     "output_type": "stream",
     "text": [
      "WARNING: There is a new version of neptune-client 0.4.125 (installed: 0.4.124).\n"
     ]
    },
    {
     "name": "stdout",
     "output_type": "stream",
     "text": [
      "https://ui.neptune.ai/intelliscope/Patientwise-Test-HYBRID-Balanced/e/PWTESTBAL-11\n",
      "372/372 [==============================] - 1s 4ms/sample\n",
      "{'accuracy': 0.7258064516129032, 'precision': 0.7417218543046358, 'recall': 0.64, 'f1_score': 0.6871165644171779, 'f2_score': 0.6580493537015276, 'matthews_corrcoef': 0.4492827259596402, 'cohen_kappa': 0.44544152465581244, 'true_positive_rate': 0.64, 'true_negative_rate': 0.8020304568527918, 'positive_predictive_value': 0.7417218543046358, 'negative_predictive_value': 0.7149321266968326, 'false_positive_rate': 0.19796954314720813, 'false_negative_rate': 0.36, 'false_discovery_rate': 0.2582781456953642}\n",
      "{'accuracy': 0.7045454545454546, 'precision': 0.7857142857142857, 'recall': 0.5238095238095238, 'f1_score': 0.6285714285714286, 'f2_score': 0.5612244897959184, 'matthews_corrcoef': 0.4218474132515705, 'cohen_kappa': 0.39915966386554624, 'true_positive_rate': 0.5238095238095238, 'true_negative_rate': 0.8695652173913043, 'positive_predictive_value': 0.7857142857142857, 'negative_predictive_value': 0.6666666666666666, 'false_positive_rate': 0.13043478260869565, 'false_negative_rate': 0.47619047619047616, 'false_discovery_rate': 0.21428571428571427}\n"
     ]
    },
    {
     "name": "stderr",
     "output_type": "stream",
     "text": [
      "WARNING: There is a new version of neptune-client 0.4.125 (installed: 0.4.124).\n"
     ]
    },
    {
     "name": "stdout",
     "output_type": "stream",
     "text": [
      "https://ui.neptune.ai/intelliscope/Patientwise-Test-HYBRID-Balanced/e/PWTESTBAL-12\n",
      "372/372 [==============================] - 1s 4ms/sample\n",
      "{'accuracy': 0.6935483870967742, 'precision': 0.6848484848484848, 'recall': 0.6457142857142857, 'f1_score': 0.6647058823529411, 'f2_score': 0.6531791907514449, 'matthews_corrcoef': 0.3835390664867778, 'cohen_kappa': 0.382976865997381, 'true_positive_rate': 0.6457142857142857, 'true_negative_rate': 0.7360406091370558, 'positive_predictive_value': 0.6848484848484848, 'negative_predictive_value': 0.7004830917874396, 'false_positive_rate': 0.2639593908629442, 'false_negative_rate': 0.35428571428571426, 'false_discovery_rate': 0.3151515151515151}\n",
      "{'accuracy': 0.7045454545454546, 'precision': 0.7, 'recall': 0.6666666666666666, 'f1_score': 0.6829268292682926, 'f2_score': 0.673076923076923, 'matthews_corrcoef': 0.4070632421280352, 'cohen_kappa': 0.4066390041493776, 'true_positive_rate': 0.6666666666666666, 'true_negative_rate': 0.7391304347826086, 'positive_predictive_value': 0.7, 'negative_predictive_value': 0.7083333333333334, 'false_positive_rate': 0.2608695652173913, 'false_negative_rate': 0.3333333333333333, 'false_discovery_rate': 0.3}\n"
     ]
    },
    {
     "name": "stderr",
     "output_type": "stream",
     "text": [
      "WARNING: There is a new version of neptune-client 0.4.125 (installed: 0.4.124).\n",
      "NVMLError: NVML Shared Library Not Found - GPU usage metrics may not be reported.\n"
     ]
    },
    {
     "name": "stdout",
     "output_type": "stream",
     "text": [
      "https://ui.neptune.ai/intelliscope/Patientwise-Test-HYBRID-Balanced/e/PWTESTBAL-13\n",
      "372/372 [==============================] - 1s 4ms/sample\n",
      "{'accuracy': 0.728494623655914, 'precision': 0.7846153846153846, 'recall': 0.5828571428571429, 'f1_score': 0.6688524590163935, 'f2_score': 0.6144578313253012, 'matthews_corrcoef': 0.4613607299188152, 'cohen_kappa': 0.4471453796350795, 'true_positive_rate': 0.5828571428571429, 'true_negative_rate': 0.8578680203045685, 'positive_predictive_value': 0.7846153846153846, 'negative_predictive_value': 0.6983471074380165, 'false_positive_rate': 0.14213197969543148, 'false_negative_rate': 0.41714285714285715, 'false_discovery_rate': 0.2153846153846154}\n",
      "{'accuracy': 0.75, 'precision': 0.8571428571428571, 'recall': 0.5714285714285714, 'f1_score': 0.6857142857142857, 'f2_score': 0.6122448979591836, 'matthews_corrcoef': 0.5195383931624605, 'cohen_kappa': 0.4915966386554622, 'true_positive_rate': 0.5714285714285714, 'true_negative_rate': 0.9130434782608695, 'positive_predictive_value': 0.8571428571428571, 'negative_predictive_value': 0.7, 'false_positive_rate': 0.08695652173913043, 'false_negative_rate': 0.42857142857142855, 'false_discovery_rate': 0.14285714285714285}\n"
     ]
    },
    {
     "name": "stderr",
     "output_type": "stream",
     "text": [
      "WARNING: There is a new version of neptune-client 0.4.125 (installed: 0.4.124).\n"
     ]
    },
    {
     "name": "stdout",
     "output_type": "stream",
     "text": [
      "https://ui.neptune.ai/intelliscope/Patientwise-Test-HYBRID-Balanced/e/PWTESTBAL-14\n",
      "372/372 [==============================] - 1s 4ms/sample\n",
      "{'accuracy': 0.739247311827957, 'precision': 0.7119565217391305, 'recall': 0.7485714285714286, 'f1_score': 0.7298050139275766, 'f2_score': 0.7409502262443438, 'matthews_corrcoef': 0.4787242451725362, 'cohen_kappa': 0.4781627812807312, 'true_positive_rate': 0.7485714285714286, 'true_negative_rate': 0.7309644670050761, 'positive_predictive_value': 0.7119565217391305, 'negative_predictive_value': 0.7659574468085106, 'false_positive_rate': 0.26903553299492383, 'false_negative_rate': 0.25142857142857145, 'false_discovery_rate': 0.28804347826086957}\n",
      "{'accuracy': 0.7727272727272727, 'precision': 0.7619047619047619, 'recall': 0.7619047619047619, 'f1_score': 0.7619047619047619, 'f2_score': 0.7619047619047619, 'matthews_corrcoef': 0.5445134575569358, 'cohen_kappa': 0.5445134575569358, 'true_positive_rate': 0.7619047619047619, 'true_negative_rate': 0.782608695652174, 'positive_predictive_value': 0.7619047619047619, 'negative_predictive_value': 0.782608695652174, 'false_positive_rate': 0.21739130434782608, 'false_negative_rate': 0.23809523809523808, 'false_discovery_rate': 0.23809523809523808}\n"
     ]
    },
    {
     "name": "stderr",
     "output_type": "stream",
     "text": [
      "WARNING: There is a new version of neptune-client 0.4.125 (installed: 0.4.124).\n"
     ]
    },
    {
     "name": "stdout",
     "output_type": "stream",
     "text": [
      "https://ui.neptune.ai/intelliscope/Patientwise-Test-HYBRID-Balanced/e/PWTESTBAL-15\n",
      "372/372 [==============================] - 1s 4ms/sample\n",
      "{'accuracy': 0.7661290322580645, 'precision': 0.7682926829268293, 'recall': 0.72, 'f1_score': 0.743362831858407, 'f2_score': 0.7291666666666667, 'matthews_corrcoef': 0.529903757676875, 'cohen_kappa': 0.528963148396111, 'true_positive_rate': 0.72, 'true_negative_rate': 0.8071065989847716, 'positive_predictive_value': 0.7682926829268293, 'negative_predictive_value': 0.7644230769230769, 'false_positive_rate': 0.19289340101522842, 'false_negative_rate': 0.28, 'false_discovery_rate': 0.23170731707317074}\n",
      "{'accuracy': 0.8181818181818182, 'precision': 0.8421052631578947, 'recall': 0.7619047619047619, 'f1_score': 0.8, 'f2_score': 0.7766990291262136, 'matthews_corrcoef': 0.6367654177420528, 'cohen_kappa': 0.6340956340956341, 'true_positive_rate': 0.7619047619047619, 'true_negative_rate': 0.8695652173913043, 'positive_predictive_value': 0.8421052631578947, 'negative_predictive_value': 0.8, 'false_positive_rate': 0.13043478260869565, 'false_negative_rate': 0.23809523809523808, 'false_discovery_rate': 0.15789473684210525}\n"
     ]
    },
    {
     "name": "stderr",
     "output_type": "stream",
     "text": [
      "WARNING: There is a new version of neptune-client 0.4.125 (installed: 0.4.124).\n",
      "NVMLError: NVML Shared Library Not Found - GPU usage metrics may not be reported.\n"
     ]
    },
    {
     "name": "stdout",
     "output_type": "stream",
     "text": [
      "https://ui.neptune.ai/intelliscope/Patientwise-Test-HYBRID-Balanced/e/PWTESTBAL-16\n",
      "372/372 [==============================] - 1s 4ms/sample\n",
      "{'accuracy': 0.7365591397849462, 'precision': 0.7251461988304093, 'recall': 0.7085714285714285, 'f1_score': 0.7167630057803468, 'f2_score': 0.711825487944891, 'matthews_corrcoef': 0.4707032648921586, 'cohen_kappa': 0.4705933606343121, 'true_positive_rate': 0.7085714285714285, 'true_negative_rate': 0.7614213197969543, 'positive_predictive_value': 0.7251461988304093, 'negative_predictive_value': 0.746268656716418, 'false_positive_rate': 0.23857868020304568, 'false_negative_rate': 0.2914285714285714, 'false_discovery_rate': 0.27485380116959063}\n",
      "{'accuracy': 0.8181818181818182, 'precision': 0.8421052631578947, 'recall': 0.7619047619047619, 'f1_score': 0.8, 'f2_score': 0.7766990291262136, 'matthews_corrcoef': 0.6367654177420528, 'cohen_kappa': 0.6340956340956341, 'true_positive_rate': 0.7619047619047619, 'true_negative_rate': 0.8695652173913043, 'positive_predictive_value': 0.8421052631578947, 'negative_predictive_value': 0.8, 'false_positive_rate': 0.13043478260869565, 'false_negative_rate': 0.23809523809523808, 'false_discovery_rate': 0.15789473684210525}\n"
     ]
    },
    {
     "name": "stderr",
     "output_type": "stream",
     "text": [
      "WARNING: There is a new version of neptune-client 0.4.125 (installed: 0.4.124).\n"
     ]
    },
    {
     "name": "stdout",
     "output_type": "stream",
     "text": [
      "https://ui.neptune.ai/intelliscope/Patientwise-Test-HYBRID-Balanced/e/PWTESTBAL-17\n",
      "WARNING:tensorflow:Large dropout rate: 0.6 (>0.5). In TensorFlow 2.x, dropout() uses dropout rate instead of keep_prob. Please ensure that this is intended.\n",
      "372/372 [==============================] - 1s 4ms/sample\n",
      "{'accuracy': 0.7741935483870968, 'precision': 0.8137931034482758, 'recall': 0.6742857142857143, 'f1_score': 0.7374999999999999, 'f2_score': 0.6982248520710058, 'matthews_corrcoef': 0.5498134561854163, 'cohen_kappa': 0.5424220237223605, 'true_positive_rate': 0.6742857142857143, 'true_negative_rate': 0.8629441624365483, 'positive_predictive_value': 0.8137931034482758, 'negative_predictive_value': 0.748898678414097, 'false_positive_rate': 0.13705583756345177, 'false_negative_rate': 0.32571428571428573, 'false_discovery_rate': 0.18620689655172415}\n",
      "{'accuracy': 0.7727272727272727, 'precision': 0.8666666666666667, 'recall': 0.6190476190476191, 'f1_score': 0.7222222222222222, 'f2_score': 0.6565656565656567, 'matthews_corrcoef': 0.5606798254669992, 'cohen_kappa': 0.5387840670859538, 'true_positive_rate': 0.6190476190476191, 'true_negative_rate': 0.9130434782608695, 'positive_predictive_value': 0.8666666666666667, 'negative_predictive_value': 0.7241379310344828, 'false_positive_rate': 0.08695652173913043, 'false_negative_rate': 0.38095238095238093, 'false_discovery_rate': 0.13333333333333333}\n"
     ]
    },
    {
     "name": "stderr",
     "output_type": "stream",
     "text": [
      "WARNING: There is a new version of neptune-client 0.4.125 (installed: 0.4.124).\n",
      "NVMLError: NVML Shared Library Not Found - GPU usage metrics may not be reported.\n"
     ]
    },
    {
     "name": "stdout",
     "output_type": "stream",
     "text": [
      "https://ui.neptune.ai/intelliscope/Patientwise-Test-HYBRID-Balanced/e/PWTESTBAL-18\n"
     ]
    }
   ],
   "source": [
    "\n",
    "X_test_pcg = X_test[:,:,:,0:3]/255.0\n",
    "X_test_ecg = X_test[:,:,:,3:6]/255.0\n",
    "\n",
    "for i in range(len(experiments)):\n",
    "    if i==0:continue\n",
    "    experiment    = experiments[i]\n",
    "    model_name = str(experiment)+'.h5'\n",
    "    PARAMS     = experiment.get_parameters()\n",
    "    PARAMS['tags']=PARAMS['tags'][2:-2].strip().split(\"', '\")\n",
    "    \n",
    "    model = load_model(PARAMS['modelsave_dir']+'/'+model_name)\n",
    "    y_test, y_pred=get_results(model, X_test_pcg, X_test_ecg, Y_test)\n",
    "    \n",
    "    y_test_patientwise, y_pred_patientwise=get_individual_metrics(y_test, y_pred, names)\n",
    "\n",
    "    \n",
    "    neptune.init('intelliscope/'+project_name,NEPTUNE_API_TOKEN)\n",
    "    exp = neptune.create_experiment(name=str(experiment),description=PARAMS['name'],params=PARAMS,tags=PARAMS['tags'],upload_stdout=True)\n",
    "    neptune_log_metrics(y_test_patientwise, y_pred_patientwise)\n",
    "    neptune.stop() "
   ]
  },
  {
   "cell_type": "code",
   "execution_count": null,
   "metadata": {},
   "outputs": [],
   "source": []
  }
 ],
 "metadata": {
  "kernelspec": {
   "display_name": "Python 3",
   "language": "python",
   "name": "python3"
  },
  "language_info": {
   "codemirror_mode": {
    "name": "ipython",
    "version": 3
   },
   "file_extension": ".py",
   "mimetype": "text/x-python",
   "name": "python",
   "nbconvert_exporter": "python",
   "pygments_lexer": "ipython3",
   "version": "3.6.9"
  }
 },
 "nbformat": 4,
 "nbformat_minor": 4
}
