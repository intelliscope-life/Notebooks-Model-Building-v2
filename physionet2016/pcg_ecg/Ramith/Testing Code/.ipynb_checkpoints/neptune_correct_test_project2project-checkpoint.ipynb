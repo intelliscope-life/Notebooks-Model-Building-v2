{
 "cells": [
  {
   "cell_type": "code",
   "execution_count": 1,
   "metadata": {},
   "outputs": [
    {
     "name": "stderr",
     "output_type": "stream",
     "text": [
      "WARNING: Instantiating Session without specifying a backend is deprecated and will be removed in future versions. For current behaviour use `neptune.init(...)` or `Session.with_default_backend(...)\n",
      "WARNING: There is a new version of neptune-client 0.4.125 (installed: 0.4.124).\n"
     ]
    }
   ],
   "source": [
    "import sys\n",
    "sys.path.append('/home/ubuntu/intelliscope/modules')\n",
    "\n",
    "#!pip install neptune-client\n",
    "import os\n",
    "import neptune\n",
    "\n",
    "import tensorflow as tf\n",
    "from tensorflow.keras.models import load_model\n",
    "\n",
    "import matplotlib.pyplot as plt\n",
    "import cv2\n",
    "import numpy as np\n",
    "from tensorflow import keras\n",
    "from tensorflow.keras.models import Sequential, load_model\n",
    "from tensorflow.keras.layers import Conv2D, MaxPooling2D\n",
    "from tensorflow.keras.layers import Activation, Dropout, Flatten, Dense, Lambda,BatchNormalization\n",
    "from tensorflow.keras import backend as K\n",
    "from tensorflow_addons.layers import InstanceNormalization\n",
    "import tensorflow_addons as tfa\n",
    "from tensorflow.keras.layers import Activation, Dropout, Flatten, Dense, Lambda\n",
    "from tensorflow.keras.preprocessing.image import ImageDataGenerator, array_to_img, img_to_array, load_img\n",
    "\n",
    "\n",
    "from intelliscope import instead_data_loaders\n",
    "from sklearn.metrics import classification_report\n",
    "import numpy as np\n",
    "from neptunecontrib.monitoring.metrics import *\n",
    "from neptune.sessions import Session\n",
    "import custom_metrics\n",
    "\n",
    "\n",
    "NEPTUNE_API_TOKEN='eyJhcGlfYWRkcmVzcyI6Imh0dHBzOi8vdWkubmVwdHVuZS5haSIsImFwaV91cmwiOiJodHRwczovL3VpLm5lcHR1bmUuYWkiLCJhcGlfa2V5IjoiMzc1YTM5OGMtYTY3Ny00ZmM4LTg5ZGQtOGI2YTQ1YmZiMDkzIn0='\n",
    "session = Session(api_token=NEPTUNE_API_TOKEN)\n",
    "\n",
    "project = session.get_projects('intelliscope')['intelliscope/HYBRID']\n",
    "projects=project.get_experiments()\n",
    "\n",
    "\n",
    "\n",
    "def get_results(model=None, X_test_pcg=None, X_test_ecg=None, threshold = 0.5):    \n",
    "    y_pred = model.predict([X_test_pcg,X_test_ecg], batch_size=32, verbose=1)\n",
    "    y_test = np.argmax(Y_test,axis=1)\n",
    "    \n",
    "    print(custom_metrics._class_metrics(y_test, y_pred[:, 1] > threshold))\n",
    "    return y_test, y_pred\n",
    "    \n",
    "\n",
    "\n",
    "def neptune_log_metrics(y_test=None, y_pred=None, threshold = 0.5):\n",
    "    log_confusion_matrix(y_test, y_pred[:, 1] > threshold)\n",
    "    log_classification_report(y_test, y_pred[:, 1] > threshold)\n",
    "    log_class_metrics(y_test, y_pred[:, 1] > threshold)\n",
    "    log_class_metrics_by_threshold(y_test, y_pred[:, 1])\n",
    "    log_brier_loss(y_test, y_pred[:, 1])\n",
    "    log_prediction_distribution(y_test, y_pred[:, 1])\n",
    "\n",
    "    log_log_loss(y_test, y_pred)\n",
    "    log_roc_auc(y_test, y_pred)\n",
    "    log_precision_recall_auc(y_test, y_pred)\n",
    "    log_ks_statistic(y_test, y_pred)\n",
    "    log_cumulative_gain(y_test, y_pred)\n",
    "    log_lift_curve(y_test, y_pred)\n",
    "    \n",
    "\n",
    "    "
   ]
  },
  {
   "cell_type": "code",
   "execution_count": 4,
   "metadata": {},
   "outputs": [
    {
     "name": "stdout",
     "output_type": "stream",
     "text": [
      "Total  388\n",
      "197 Images loaded across 2 Categories. Ignored blanks  0\n",
      "191 Images loaded across 2 Categories. Ignored blanks  16\n",
      "372 Total After removing blanks\n",
      "372/372 [==============================] - 1s 4ms/sample\n",
      "{'accuracy': 0.47043010752688175, 'precision': 0.47043010752688175, 'recall': 1.0, 'f1_score': 0.6398537477148081, 'f2_score': 0.8162313432835822, 'matthews_corrcoef': 0.0, 'cohen_kappa': 0.0, 'true_positive_rate': 1.0, 'true_negative_rate': 0.0, 'positive_predictive_value': 0.47043010752688175, 'negative_predictive_value': nan, 'false_positive_rate': 1.0, 'false_negative_rate': 0.0, 'false_discovery_rate': 0.5295698924731183}\n"
     ]
    },
    {
     "name": "stderr",
     "output_type": "stream",
     "text": [
      "WARNING: There is a new version of neptune-client 0.4.125 (installed: 0.4.124).\n",
      "NVMLError: NVML Shared Library Not Found - GPU usage metrics may not be reported.\n"
     ]
    },
    {
     "name": "stdout",
     "output_type": "stream",
     "text": [
      "https://ui.neptune.ai/intelliscope/Test-HYBRID-Balanced/e/TEHYBRID-1\n"
     ]
    },
    {
     "name": "stderr",
     "output_type": "stream",
     "text": [
      "Invalid metric value: nan for channel negative_predictive_value. Metrics with nan or +/-inf values will not be sent to server\n"
     ]
    },
    {
     "name": "stdout",
     "output_type": "stream",
     "text": [
      "372/372 [==============================] - 1s 4ms/sample\n",
      "{'accuracy': 0.7419354838709677, 'precision': 0.7135135135135136, 'recall': 0.7542857142857143, 'f1_score': 0.7333333333333335, 'f2_score': 0.7457627118644068, 'matthews_corrcoef': 0.48440785428865124, 'cohen_kappa': 0.48370680931039467, 'true_positive_rate': 0.7542857142857143, 'true_negative_rate': 0.7309644670050761, 'positive_predictive_value': 0.7135135135135136, 'negative_predictive_value': 0.7700534759358288, 'false_positive_rate': 0.26903553299492383, 'false_negative_rate': 0.24571428571428572, 'false_discovery_rate': 0.2864864864864865}\n"
     ]
    },
    {
     "name": "stderr",
     "output_type": "stream",
     "text": [
      "WARNING: There is a new version of neptune-client 0.4.125 (installed: 0.4.124).\n"
     ]
    },
    {
     "name": "stdout",
     "output_type": "stream",
     "text": [
      "https://ui.neptune.ai/intelliscope/Test-HYBRID-Balanced/e/TEHYBRID-2\n",
      "372/372 [==============================] - 1s 4ms/sample\n",
      "{'accuracy': 0.7473118279569892, 'precision': 0.7612903225806451, 'recall': 0.6742857142857143, 'f1_score': 0.7151515151515151, 'f2_score': 0.6900584795321637, 'matthews_corrcoef': 0.4925055234879241, 'cohen_kappa': 0.4895927601809954, 'true_positive_rate': 0.6742857142857143, 'true_negative_rate': 0.8121827411167513, 'positive_predictive_value': 0.7612903225806451, 'negative_predictive_value': 0.7373271889400922, 'false_positive_rate': 0.18781725888324874, 'false_negative_rate': 0.32571428571428573, 'false_discovery_rate': 0.23870967741935484}\n"
     ]
    },
    {
     "name": "stderr",
     "output_type": "stream",
     "text": [
      "WARNING: There is a new version of neptune-client 0.4.125 (installed: 0.4.124).\n"
     ]
    },
    {
     "name": "stdout",
     "output_type": "stream",
     "text": [
      "https://ui.neptune.ai/intelliscope/Test-HYBRID-Balanced/e/TEHYBRID-3\n",
      "372/372 [==============================] - 1s 4ms/sample\n",
      "{'accuracy': 0.7419354838709677, 'precision': 0.6908212560386473, 'recall': 0.8171428571428572, 'f1_score': 0.7486910994764397, 'f2_score': 0.7883131201764058, 'matthews_corrcoef': 0.4945704351756786, 'cohen_kappa': 0.48729434059781207, 'true_positive_rate': 0.8171428571428572, 'true_negative_rate': 0.6751269035532995, 'positive_predictive_value': 0.6908212560386473, 'negative_predictive_value': 0.806060606060606, 'false_positive_rate': 0.3248730964467005, 'false_negative_rate': 0.18285714285714286, 'false_discovery_rate': 0.30917874396135264}\n"
     ]
    },
    {
     "name": "stderr",
     "output_type": "stream",
     "text": [
      "WARNING: There is a new version of neptune-client 0.4.125 (installed: 0.4.124).\n",
      "NVMLError: NVML Shared Library Not Found - GPU usage metrics may not be reported.\n"
     ]
    },
    {
     "name": "stdout",
     "output_type": "stream",
     "text": [
      "https://ui.neptune.ai/intelliscope/Test-HYBRID-Balanced/e/TEHYBRID-4\n",
      "372/372 [==============================] - 1s 4ms/sample\n",
      "{'accuracy': 0.7688172043010753, 'precision': 0.7947019867549668, 'recall': 0.6857142857142857, 'f1_score': 0.7361963190184049, 'f2_score': 0.7050528789659225, 'matthews_corrcoef': 0.5370224327944646, 'cohen_kappa': 0.532431089415685, 'true_positive_rate': 0.6857142857142857, 'true_negative_rate': 0.8426395939086294, 'positive_predictive_value': 0.7947019867549668, 'negative_predictive_value': 0.751131221719457, 'false_positive_rate': 0.15736040609137056, 'false_negative_rate': 0.3142857142857143, 'false_discovery_rate': 0.2052980132450331}\n"
     ]
    },
    {
     "name": "stderr",
     "output_type": "stream",
     "text": [
      "WARNING: There is a new version of neptune-client 0.4.125 (installed: 0.4.124).\n"
     ]
    },
    {
     "name": "stdout",
     "output_type": "stream",
     "text": [
      "https://ui.neptune.ai/intelliscope/Test-HYBRID-Balanced/e/TEHYBRID-5\n",
      "372/372 [==============================] - 1s 4ms/sample\n",
      "{'accuracy': 0.7311827956989247, 'precision': 0.694300518134715, 'recall': 0.7657142857142857, 'f1_score': 0.7282608695652173, 'f2_score': 0.7502799552071668, 'matthews_corrcoef': 0.46573581597020436, 'cohen_kappa': 0.46355954200674876, 'true_positive_rate': 0.7657142857142857, 'true_negative_rate': 0.700507614213198, 'positive_predictive_value': 0.694300518134715, 'negative_predictive_value': 0.770949720670391, 'false_positive_rate': 0.29949238578680204, 'false_negative_rate': 0.2342857142857143, 'false_discovery_rate': 0.30569948186528495}\n"
     ]
    },
    {
     "name": "stderr",
     "output_type": "stream",
     "text": [
      "WARNING: There is a new version of neptune-client 0.4.125 (installed: 0.4.124).\n",
      "NVMLError: NVML Shared Library Not Found - GPU usage metrics may not be reported.\n"
     ]
    },
    {
     "name": "stdout",
     "output_type": "stream",
     "text": [
      "https://ui.neptune.ai/intelliscope/Test-HYBRID-Balanced/e/TEHYBRID-6\n",
      "372/372 [==============================] - 2s 4ms/sample\n",
      "{'accuracy': 0.717741935483871, 'precision': 0.6944444444444444, 'recall': 0.7142857142857143, 'f1_score': 0.7042253521126761, 'f2_score': 0.7102272727272727, 'matthews_corrcoef': 0.4345625080035551, 'cohen_kappa': 0.43440486533449174, 'true_positive_rate': 0.7142857142857143, 'true_negative_rate': 0.7208121827411168, 'positive_predictive_value': 0.6944444444444444, 'negative_predictive_value': 0.7395833333333334, 'false_positive_rate': 0.27918781725888325, 'false_negative_rate': 0.2857142857142857, 'false_discovery_rate': 0.3055555555555556}\n"
     ]
    },
    {
     "name": "stderr",
     "output_type": "stream",
     "text": [
      "WARNING: There is a new version of neptune-client 0.4.125 (installed: 0.4.124).\n"
     ]
    },
    {
     "name": "stdout",
     "output_type": "stream",
     "text": [
      "https://ui.neptune.ai/intelliscope/Test-HYBRID-Balanced/e/TEHYBRID-7\n",
      "372/372 [==============================] - 1s 4ms/sample\n",
      "{'accuracy': 0.7043010752688172, 'precision': 0.6431718061674009, 'recall': 0.8342857142857143, 'f1_score': 0.7263681592039801, 'f2_score': 0.7874865156418556, 'matthews_corrcoef': 0.433028933933193, 'cohen_kappa': 0.4162125146232203, 'true_positive_rate': 0.8342857142857143, 'true_negative_rate': 0.5888324873096447, 'positive_predictive_value': 0.6431718061674009, 'negative_predictive_value': 0.8, 'false_positive_rate': 0.41116751269035534, 'false_negative_rate': 0.1657142857142857, 'false_discovery_rate': 0.3568281938325991}\n"
     ]
    },
    {
     "name": "stderr",
     "output_type": "stream",
     "text": [
      "WARNING: There is a new version of neptune-client 0.4.125 (installed: 0.4.124).\n",
      "NVMLError: NVML Shared Library Not Found - GPU usage metrics may not be reported.\n"
     ]
    },
    {
     "name": "stdout",
     "output_type": "stream",
     "text": [
      "https://ui.neptune.ai/intelliscope/Test-HYBRID-Balanced/e/TEHYBRID-8\n",
      "372/372 [==============================] - 1s 4ms/sample\n",
      "{'accuracy': 0.728494623655914, 'precision': 0.7126436781609196, 'recall': 0.7085714285714285, 'f1_score': 0.7106017191977078, 'f2_score': 0.7093821510297482, 'matthews_corrcoef': 0.4549160959521229, 'cohen_kappa': 0.4549094707520891, 'true_positive_rate': 0.7085714285714285, 'true_negative_rate': 0.7461928934010152, 'positive_predictive_value': 0.7126436781609196, 'negative_predictive_value': 0.7424242424242424, 'false_positive_rate': 0.25380710659898476, 'false_negative_rate': 0.2914285714285714, 'false_discovery_rate': 0.28735632183908044}\n"
     ]
    },
    {
     "name": "stderr",
     "output_type": "stream",
     "text": [
      "WARNING: There is a new version of neptune-client 0.4.125 (installed: 0.4.124).\n"
     ]
    },
    {
     "name": "stdout",
     "output_type": "stream",
     "text": [
      "https://ui.neptune.ai/intelliscope/Test-HYBRID-Balanced/e/TEHYBRID-9\n",
      "372/372 [==============================] - 1s 4ms/sample\n",
      "{'accuracy': 0.7365591397849462, 'precision': 0.7483870967741936, 'recall': 0.6628571428571428, 'f1_score': 0.703030303030303, 'f2_score': 0.6783625730994152, 'matthews_corrcoef': 0.4706568496178498, 'cohen_kappa': 0.4678733031674208, 'true_positive_rate': 0.6628571428571428, 'true_negative_rate': 0.8020304568527918, 'positive_predictive_value': 0.7483870967741936, 'negative_predictive_value': 0.728110599078341, 'false_positive_rate': 0.19796954314720813, 'false_negative_rate': 0.33714285714285713, 'false_discovery_rate': 0.25161290322580643}\n"
     ]
    },
    {
     "name": "stderr",
     "output_type": "stream",
     "text": [
      "WARNING: There is a new version of neptune-client 0.4.125 (installed: 0.4.124).\n",
      "NVMLError: NVML Shared Library Not Found - GPU usage metrics may not be reported.\n"
     ]
    },
    {
     "name": "stdout",
     "output_type": "stream",
     "text": [
      "https://ui.neptune.ai/intelliscope/Test-HYBRID-Balanced/e/TEHYBRID-10\n",
      "372/372 [==============================] - 1s 4ms/sample\n",
      "{'accuracy': 0.7580645161290323, 'precision': 0.7348066298342542, 'recall': 0.76, 'f1_score': 0.7471910112359551, 'f2_score': 0.7548240635641317, 'matthews_corrcoef': 0.5156277613770863, 'cohen_kappa': 0.5153585593931849, 'true_positive_rate': 0.76, 'true_negative_rate': 0.7563451776649747, 'positive_predictive_value': 0.7348066298342542, 'negative_predictive_value': 0.7801047120418848, 'false_positive_rate': 0.2436548223350254, 'false_negative_rate': 0.24, 'false_discovery_rate': 0.26519337016574585}\n"
     ]
    },
    {
     "name": "stderr",
     "output_type": "stream",
     "text": [
      "WARNING: There is a new version of neptune-client 0.4.125 (installed: 0.4.124).\n"
     ]
    },
    {
     "name": "stdout",
     "output_type": "stream",
     "text": [
      "https://ui.neptune.ai/intelliscope/Test-HYBRID-Balanced/e/TEHYBRID-11\n",
      "372/372 [==============================] - 1s 4ms/sample\n",
      "{'accuracy': 0.7473118279569892, 'precision': 0.7368421052631579, 'recall': 0.72, 'f1_score': 0.7283236994219653, 'f2_score': 0.7233065442020665, 'matthews_corrcoef': 0.4923167456722466, 'cohen_kappa': 0.4922017948941362, 'true_positive_rate': 0.72, 'true_negative_rate': 0.7715736040609137, 'positive_predictive_value': 0.7368421052631579, 'negative_predictive_value': 0.7562189054726368, 'false_positive_rate': 0.22842639593908629, 'false_negative_rate': 0.28, 'false_discovery_rate': 0.2631578947368421}\n"
     ]
    },
    {
     "name": "stderr",
     "output_type": "stream",
     "text": [
      "WARNING: There is a new version of neptune-client 0.4.125 (installed: 0.4.124).\n",
      "NVMLError: NVML Shared Library Not Found - GPU usage metrics may not be reported.\n"
     ]
    },
    {
     "name": "stdout",
     "output_type": "stream",
     "text": [
      "https://ui.neptune.ai/intelliscope/Test-HYBRID-Balanced/e/TEHYBRID-12\n",
      "372/372 [==============================] - 1s 4ms/sample\n",
      "{'accuracy': 0.7258064516129032, 'precision': 0.7417218543046358, 'recall': 0.64, 'f1_score': 0.6871165644171779, 'f2_score': 0.6580493537015276, 'matthews_corrcoef': 0.4492827259596402, 'cohen_kappa': 0.44544152465581244, 'true_positive_rate': 0.64, 'true_negative_rate': 0.8020304568527918, 'positive_predictive_value': 0.7417218543046358, 'negative_predictive_value': 0.7149321266968326, 'false_positive_rate': 0.19796954314720813, 'false_negative_rate': 0.36, 'false_discovery_rate': 0.2582781456953642}\n"
     ]
    },
    {
     "name": "stderr",
     "output_type": "stream",
     "text": [
      "WARNING: There is a new version of neptune-client 0.4.125 (installed: 0.4.124).\n"
     ]
    },
    {
     "name": "stdout",
     "output_type": "stream",
     "text": [
      "https://ui.neptune.ai/intelliscope/Test-HYBRID-Balanced/e/TEHYBRID-13\n",
      "372/372 [==============================] - 1s 4ms/sample\n",
      "{'accuracy': 0.6935483870967742, 'precision': 0.6848484848484848, 'recall': 0.6457142857142857, 'f1_score': 0.6647058823529411, 'f2_score': 0.6531791907514449, 'matthews_corrcoef': 0.3835390664867778, 'cohen_kappa': 0.382976865997381, 'true_positive_rate': 0.6457142857142857, 'true_negative_rate': 0.7360406091370558, 'positive_predictive_value': 0.6848484848484848, 'negative_predictive_value': 0.7004830917874396, 'false_positive_rate': 0.2639593908629442, 'false_negative_rate': 0.35428571428571426, 'false_discovery_rate': 0.3151515151515151}\n"
     ]
    },
    {
     "name": "stderr",
     "output_type": "stream",
     "text": [
      "WARNING: There is a new version of neptune-client 0.4.125 (installed: 0.4.124).\n",
      "NVMLError: NVML Shared Library Not Found - GPU usage metrics may not be reported.\n"
     ]
    },
    {
     "name": "stdout",
     "output_type": "stream",
     "text": [
      "https://ui.neptune.ai/intelliscope/Test-HYBRID-Balanced/e/TEHYBRID-14\n",
      "372/372 [==============================] - 1s 4ms/sample\n",
      "{'accuracy': 0.728494623655914, 'precision': 0.7846153846153846, 'recall': 0.5828571428571429, 'f1_score': 0.6688524590163935, 'f2_score': 0.6144578313253012, 'matthews_corrcoef': 0.4613607299188152, 'cohen_kappa': 0.4471453796350795, 'true_positive_rate': 0.5828571428571429, 'true_negative_rate': 0.8578680203045685, 'positive_predictive_value': 0.7846153846153846, 'negative_predictive_value': 0.6983471074380165, 'false_positive_rate': 0.14213197969543148, 'false_negative_rate': 0.41714285714285715, 'false_discovery_rate': 0.2153846153846154}\n"
     ]
    },
    {
     "name": "stderr",
     "output_type": "stream",
     "text": [
      "WARNING: There is a new version of neptune-client 0.4.125 (installed: 0.4.124).\n"
     ]
    },
    {
     "name": "stdout",
     "output_type": "stream",
     "text": [
      "https://ui.neptune.ai/intelliscope/Test-HYBRID-Balanced/e/TEHYBRID-15\n",
      "372/372 [==============================] - 1s 4ms/sample\n",
      "{'accuracy': 0.739247311827957, 'precision': 0.7119565217391305, 'recall': 0.7485714285714286, 'f1_score': 0.7298050139275766, 'f2_score': 0.7409502262443438, 'matthews_corrcoef': 0.4787242451725362, 'cohen_kappa': 0.4781627812807312, 'true_positive_rate': 0.7485714285714286, 'true_negative_rate': 0.7309644670050761, 'positive_predictive_value': 0.7119565217391305, 'negative_predictive_value': 0.7659574468085106, 'false_positive_rate': 0.26903553299492383, 'false_negative_rate': 0.25142857142857145, 'false_discovery_rate': 0.28804347826086957}\n"
     ]
    },
    {
     "name": "stderr",
     "output_type": "stream",
     "text": [
      "WARNING: There is a new version of neptune-client 0.4.125 (installed: 0.4.124).\n",
      "NVMLError: NVML Shared Library Not Found - GPU usage metrics may not be reported.\n"
     ]
    },
    {
     "name": "stdout",
     "output_type": "stream",
     "text": [
      "https://ui.neptune.ai/intelliscope/Test-HYBRID-Balanced/e/TEHYBRID-16\n",
      "372/372 [==============================] - 1s 4ms/sample\n",
      "{'accuracy': 0.7661290322580645, 'precision': 0.7682926829268293, 'recall': 0.72, 'f1_score': 0.743362831858407, 'f2_score': 0.7291666666666667, 'matthews_corrcoef': 0.529903757676875, 'cohen_kappa': 0.528963148396111, 'true_positive_rate': 0.72, 'true_negative_rate': 0.8071065989847716, 'positive_predictive_value': 0.7682926829268293, 'negative_predictive_value': 0.7644230769230769, 'false_positive_rate': 0.19289340101522842, 'false_negative_rate': 0.28, 'false_discovery_rate': 0.23170731707317074}\n"
     ]
    },
    {
     "name": "stderr",
     "output_type": "stream",
     "text": [
      "WARNING: There is a new version of neptune-client 0.4.125 (installed: 0.4.124).\n"
     ]
    },
    {
     "name": "stdout",
     "output_type": "stream",
     "text": [
      "https://ui.neptune.ai/intelliscope/Test-HYBRID-Balanced/e/TEHYBRID-17\n",
      "372/372 [==============================] - 1s 4ms/sample\n",
      "{'accuracy': 0.7365591397849462, 'precision': 0.7251461988304093, 'recall': 0.7085714285714285, 'f1_score': 0.7167630057803468, 'f2_score': 0.711825487944891, 'matthews_corrcoef': 0.4707032648921586, 'cohen_kappa': 0.4705933606343121, 'true_positive_rate': 0.7085714285714285, 'true_negative_rate': 0.7614213197969543, 'positive_predictive_value': 0.7251461988304093, 'negative_predictive_value': 0.746268656716418, 'false_positive_rate': 0.23857868020304568, 'false_negative_rate': 0.2914285714285714, 'false_discovery_rate': 0.27485380116959063}\n"
     ]
    },
    {
     "name": "stderr",
     "output_type": "stream",
     "text": [
      "WARNING: There is a new version of neptune-client 0.4.125 (installed: 0.4.124).\n",
      "NVMLError: NVML Shared Library Not Found - GPU usage metrics may not be reported.\n"
     ]
    },
    {
     "name": "stdout",
     "output_type": "stream",
     "text": [
      "https://ui.neptune.ai/intelliscope/Test-HYBRID-Balanced/e/TEHYBRID-18\n",
      "WARNING:tensorflow:Large dropout rate: 0.6 (>0.5). In TensorFlow 2.x, dropout() uses dropout rate instead of keep_prob. Please ensure that this is intended.\n",
      "372/372 [==============================] - 1s 4ms/sample\n",
      "{'accuracy': 0.7741935483870968, 'precision': 0.8137931034482758, 'recall': 0.6742857142857143, 'f1_score': 0.7374999999999999, 'f2_score': 0.6982248520710058, 'matthews_corrcoef': 0.5498134561854163, 'cohen_kappa': 0.5424220237223605, 'true_positive_rate': 0.6742857142857143, 'true_negative_rate': 0.8629441624365483, 'positive_predictive_value': 0.8137931034482758, 'negative_predictive_value': 0.748898678414097, 'false_positive_rate': 0.13705583756345177, 'false_negative_rate': 0.32571428571428573, 'false_discovery_rate': 0.18620689655172415}\n"
     ]
    },
    {
     "name": "stderr",
     "output_type": "stream",
     "text": [
      "WARNING: There is a new version of neptune-client 0.4.125 (installed: 0.4.124).\n"
     ]
    },
    {
     "name": "stdout",
     "output_type": "stream",
     "text": [
      "https://ui.neptune.ai/intelliscope/Test-HYBRID-Balanced/e/TEHYBRID-19\n",
      "372/372 [==============================] - 1s 4ms/sample\n",
      "{'accuracy': 0.7258064516129032, 'precision': 0.7134502923976608, 'recall': 0.6971428571428572, 'f1_score': 0.7052023121387283, 'f2_score': 0.7003444316877153, 'matthews_corrcoef': 0.44908978411207057, 'cohen_kappa': 0.44898492637448817, 'true_positive_rate': 0.6971428571428572, 'true_negative_rate': 0.751269035532995, 'positive_predictive_value': 0.7134502923976608, 'negative_predictive_value': 0.736318407960199, 'false_positive_rate': 0.24873096446700507, 'false_negative_rate': 0.3028571428571429, 'false_discovery_rate': 0.28654970760233917}\n"
     ]
    },
    {
     "name": "stderr",
     "output_type": "stream",
     "text": [
      "WARNING: There is a new version of neptune-client 0.4.125 (installed: 0.4.124).\n",
      "NVMLError: NVML Shared Library Not Found - GPU usage metrics may not be reported.\n"
     ]
    },
    {
     "name": "stdout",
     "output_type": "stream",
     "text": [
      "https://ui.neptune.ai/intelliscope/Test-HYBRID-Balanced/e/TEHYBRID-20\n",
      "372/372 [==============================] - 1s 4ms/sample\n",
      "{'accuracy': 0.7204301075268817, 'precision': 0.678391959798995, 'recall': 0.7714285714285715, 'f1_score': 0.7219251336898397, 'f2_score': 0.7508342602892103, 'matthews_corrcoef': 0.44686667253988144, 'cohen_kappa': 0.4431618641872248, 'true_positive_rate': 0.7714285714285715, 'true_negative_rate': 0.6751269035532995, 'positive_predictive_value': 0.678391959798995, 'negative_predictive_value': 0.7687861271676301, 'false_positive_rate': 0.3248730964467005, 'false_negative_rate': 0.22857142857142856, 'false_discovery_rate': 0.32160804020100503}\n"
     ]
    },
    {
     "name": "stderr",
     "output_type": "stream",
     "text": [
      "WARNING: There is a new version of neptune-client 0.4.125 (installed: 0.4.124).\n"
     ]
    },
    {
     "name": "stdout",
     "output_type": "stream",
     "text": [
      "https://ui.neptune.ai/intelliscope/Test-HYBRID-Balanced/e/TEHYBRID-21\n"
     ]
    },
    {
     "ename": "ValueError",
     "evalue": "Unknown optimizer: RectifiedAdam",
     "output_type": "error",
     "traceback": [
      "\u001b[0;31m---------------------------------------------------------------------------\u001b[0m",
      "\u001b[0;31mValueError\u001b[0m                                Traceback (most recent call last)",
      "\u001b[0;32m<ipython-input-4-c552192a0820>\u001b[0m in \u001b[0;36m<module>\u001b[0;34m\u001b[0m\n\u001b[1;32m     13\u001b[0m     \u001b[0mPARAMS\u001b[0m\u001b[0;34m[\u001b[0m\u001b[0;34m'tags'\u001b[0m\u001b[0;34m]\u001b[0m\u001b[0;34m=\u001b[0m\u001b[0mPARAMS\u001b[0m\u001b[0;34m[\u001b[0m\u001b[0;34m'tags'\u001b[0m\u001b[0;34m]\u001b[0m\u001b[0;34m[\u001b[0m\u001b[0;36m2\u001b[0m\u001b[0;34m:\u001b[0m\u001b[0;34m-\u001b[0m\u001b[0;36m2\u001b[0m\u001b[0;34m]\u001b[0m\u001b[0;34m.\u001b[0m\u001b[0mstrip\u001b[0m\u001b[0;34m(\u001b[0m\u001b[0;34m)\u001b[0m\u001b[0;34m.\u001b[0m\u001b[0msplit\u001b[0m\u001b[0;34m(\u001b[0m\u001b[0;34m\"', '\"\u001b[0m\u001b[0;34m)\u001b[0m\u001b[0;34m\u001b[0m\u001b[0;34m\u001b[0m\u001b[0m\n\u001b[1;32m     14\u001b[0m \u001b[0;34m\u001b[0m\u001b[0m\n\u001b[0;32m---> 15\u001b[0;31m     \u001b[0mmodel\u001b[0m \u001b[0;34m=\u001b[0m \u001b[0mload_model\u001b[0m\u001b[0;34m(\u001b[0m\u001b[0mPARAMS\u001b[0m\u001b[0;34m[\u001b[0m\u001b[0;34m'modelsave_dir'\u001b[0m\u001b[0;34m]\u001b[0m\u001b[0;34m+\u001b[0m\u001b[0;34m'/'\u001b[0m\u001b[0;34m+\u001b[0m\u001b[0mmodel_name\u001b[0m\u001b[0;34m)\u001b[0m\u001b[0;34m\u001b[0m\u001b[0;34m\u001b[0m\u001b[0m\n\u001b[0m\u001b[1;32m     16\u001b[0m \u001b[0;34m\u001b[0m\u001b[0m\n\u001b[1;32m     17\u001b[0m     \u001b[0my_test\u001b[0m\u001b[0;34m,\u001b[0m \u001b[0my_pred\u001b[0m\u001b[0;34m=\u001b[0m\u001b[0mget_results\u001b[0m\u001b[0;34m(\u001b[0m\u001b[0mmodel\u001b[0m\u001b[0;34m,\u001b[0m \u001b[0mX_test_pcg\u001b[0m\u001b[0;34m,\u001b[0m \u001b[0mX_test_ecg\u001b[0m\u001b[0;34m)\u001b[0m\u001b[0;34m\u001b[0m\u001b[0;34m\u001b[0m\u001b[0m\n",
      "\u001b[0;32m~/core-env/lib/python3.6/site-packages/tensorflow_core/python/keras/saving/save.py\u001b[0m in \u001b[0;36mload_model\u001b[0;34m(filepath, custom_objects, compile)\u001b[0m\n\u001b[1;32m    144\u001b[0m   if (h5py is not None and (\n\u001b[1;32m    145\u001b[0m       isinstance(filepath, h5py.File) or h5py.is_hdf5(filepath))):\n\u001b[0;32m--> 146\u001b[0;31m     \u001b[0;32mreturn\u001b[0m \u001b[0mhdf5_format\u001b[0m\u001b[0;34m.\u001b[0m\u001b[0mload_model_from_hdf5\u001b[0m\u001b[0;34m(\u001b[0m\u001b[0mfilepath\u001b[0m\u001b[0;34m,\u001b[0m \u001b[0mcustom_objects\u001b[0m\u001b[0;34m,\u001b[0m \u001b[0mcompile\u001b[0m\u001b[0;34m)\u001b[0m\u001b[0;34m\u001b[0m\u001b[0;34m\u001b[0m\u001b[0m\n\u001b[0m\u001b[1;32m    147\u001b[0m \u001b[0;34m\u001b[0m\u001b[0m\n\u001b[1;32m    148\u001b[0m   \u001b[0;32mif\u001b[0m \u001b[0misinstance\u001b[0m\u001b[0;34m(\u001b[0m\u001b[0mfilepath\u001b[0m\u001b[0;34m,\u001b[0m \u001b[0msix\u001b[0m\u001b[0;34m.\u001b[0m\u001b[0mstring_types\u001b[0m\u001b[0;34m)\u001b[0m\u001b[0;34m:\u001b[0m\u001b[0;34m\u001b[0m\u001b[0;34m\u001b[0m\u001b[0m\n",
      "\u001b[0;32m~/core-env/lib/python3.6/site-packages/tensorflow_core/python/keras/saving/hdf5_format.py\u001b[0m in \u001b[0;36mload_model_from_hdf5\u001b[0;34m(filepath, custom_objects, compile)\u001b[0m\n\u001b[1;32m    182\u001b[0m       \u001b[0;31m# Compile model.\u001b[0m\u001b[0;34m\u001b[0m\u001b[0;34m\u001b[0m\u001b[0;34m\u001b[0m\u001b[0m\n\u001b[1;32m    183\u001b[0m       model.compile(**saving_utils.compile_args_from_training_config(\n\u001b[0;32m--> 184\u001b[0;31m           training_config, custom_objects))\n\u001b[0m\u001b[1;32m    185\u001b[0m \u001b[0;34m\u001b[0m\u001b[0m\n\u001b[1;32m    186\u001b[0m       \u001b[0;31m# Set optimizer weights.\u001b[0m\u001b[0;34m\u001b[0m\u001b[0;34m\u001b[0m\u001b[0;34m\u001b[0m\u001b[0m\n",
      "\u001b[0;32m~/core-env/lib/python3.6/site-packages/tensorflow_core/python/keras/saving/saving_utils.py\u001b[0m in \u001b[0;36mcompile_args_from_training_config\u001b[0;34m(training_config, custom_objects)\u001b[0m\n\u001b[1;32m    227\u001b[0m   \u001b[0moptimizer_config\u001b[0m \u001b[0;34m=\u001b[0m \u001b[0mtraining_config\u001b[0m\u001b[0;34m[\u001b[0m\u001b[0;34m'optimizer_config'\u001b[0m\u001b[0;34m]\u001b[0m\u001b[0;34m\u001b[0m\u001b[0;34m\u001b[0m\u001b[0m\n\u001b[1;32m    228\u001b[0m   optimizer = optimizers.deserialize(\n\u001b[0;32m--> 229\u001b[0;31m       optimizer_config, custom_objects=custom_objects)\n\u001b[0m\u001b[1;32m    230\u001b[0m \u001b[0;34m\u001b[0m\u001b[0m\n\u001b[1;32m    231\u001b[0m   \u001b[0;31m# Recover loss functions and metrics.\u001b[0m\u001b[0;34m\u001b[0m\u001b[0;34m\u001b[0m\u001b[0;34m\u001b[0m\u001b[0m\n",
      "\u001b[0;32m~/core-env/lib/python3.6/site-packages/tensorflow_core/python/keras/optimizers.py\u001b[0m in \u001b[0;36mdeserialize\u001b[0;34m(config, custom_objects)\u001b[0m\n\u001b[1;32m    817\u001b[0m       \u001b[0mmodule_objects\u001b[0m\u001b[0;34m=\u001b[0m\u001b[0mall_classes\u001b[0m\u001b[0;34m,\u001b[0m\u001b[0;34m\u001b[0m\u001b[0;34m\u001b[0m\u001b[0m\n\u001b[1;32m    818\u001b[0m       \u001b[0mcustom_objects\u001b[0m\u001b[0;34m=\u001b[0m\u001b[0mcustom_objects\u001b[0m\u001b[0;34m,\u001b[0m\u001b[0;34m\u001b[0m\u001b[0;34m\u001b[0m\u001b[0m\n\u001b[0;32m--> 819\u001b[0;31m       printable_module_name='optimizer')\n\u001b[0m\u001b[1;32m    820\u001b[0m \u001b[0;34m\u001b[0m\u001b[0m\n\u001b[1;32m    821\u001b[0m \u001b[0;34m\u001b[0m\u001b[0m\n",
      "\u001b[0;32m~/core-env/lib/python3.6/site-packages/tensorflow_core/python/keras/utils/generic_utils.py\u001b[0m in \u001b[0;36mdeserialize_keras_object\u001b[0;34m(identifier, module_objects, custom_objects, printable_module_name)\u001b[0m\n\u001b[1;32m    290\u001b[0m     \u001b[0mconfig\u001b[0m \u001b[0;34m=\u001b[0m \u001b[0midentifier\u001b[0m\u001b[0;34m\u001b[0m\u001b[0;34m\u001b[0m\u001b[0m\n\u001b[1;32m    291\u001b[0m     (cls, cls_config) = class_and_config_for_serialized_keras_object(\n\u001b[0;32m--> 292\u001b[0;31m         config, module_objects, custom_objects, printable_module_name)\n\u001b[0m\u001b[1;32m    293\u001b[0m \u001b[0;34m\u001b[0m\u001b[0m\n\u001b[1;32m    294\u001b[0m     \u001b[0;32mif\u001b[0m \u001b[0mhasattr\u001b[0m\u001b[0;34m(\u001b[0m\u001b[0mcls\u001b[0m\u001b[0;34m,\u001b[0m \u001b[0;34m'from_config'\u001b[0m\u001b[0;34m)\u001b[0m\u001b[0;34m:\u001b[0m\u001b[0;34m\u001b[0m\u001b[0;34m\u001b[0m\u001b[0m\n",
      "\u001b[0;32m~/core-env/lib/python3.6/site-packages/tensorflow_core/python/keras/utils/generic_utils.py\u001b[0m in \u001b[0;36mclass_and_config_for_serialized_keras_object\u001b[0;34m(config, module_objects, custom_objects, printable_module_name)\u001b[0m\n\u001b[1;32m    248\u001b[0m     \u001b[0mcls\u001b[0m \u001b[0;34m=\u001b[0m \u001b[0mmodule_objects\u001b[0m\u001b[0;34m.\u001b[0m\u001b[0mget\u001b[0m\u001b[0;34m(\u001b[0m\u001b[0mclass_name\u001b[0m\u001b[0;34m)\u001b[0m\u001b[0;34m\u001b[0m\u001b[0;34m\u001b[0m\u001b[0m\n\u001b[1;32m    249\u001b[0m     \u001b[0;32mif\u001b[0m \u001b[0mcls\u001b[0m \u001b[0;32mis\u001b[0m \u001b[0;32mNone\u001b[0m\u001b[0;34m:\u001b[0m\u001b[0;34m\u001b[0m\u001b[0;34m\u001b[0m\u001b[0m\n\u001b[0;32m--> 250\u001b[0;31m       \u001b[0;32mraise\u001b[0m \u001b[0mValueError\u001b[0m\u001b[0;34m(\u001b[0m\u001b[0;34m'Unknown '\u001b[0m \u001b[0;34m+\u001b[0m \u001b[0mprintable_module_name\u001b[0m \u001b[0;34m+\u001b[0m \u001b[0;34m': '\u001b[0m \u001b[0;34m+\u001b[0m \u001b[0mclass_name\u001b[0m\u001b[0;34m)\u001b[0m\u001b[0;34m\u001b[0m\u001b[0;34m\u001b[0m\u001b[0m\n\u001b[0m\u001b[1;32m    251\u001b[0m \u001b[0;34m\u001b[0m\u001b[0m\n\u001b[1;32m    252\u001b[0m   \u001b[0mcls_config\u001b[0m \u001b[0;34m=\u001b[0m \u001b[0mconfig\u001b[0m\u001b[0;34m[\u001b[0m\u001b[0;34m'config'\u001b[0m\u001b[0;34m]\u001b[0m\u001b[0;34m\u001b[0m\u001b[0;34m\u001b[0m\u001b[0m\n",
      "\u001b[0;31mValueError\u001b[0m: Unknown optimizer: RectifiedAdam"
     ]
    }
   ],
   "source": [
    "project_name='Test-HYBRID-balanced'\n",
    "X_test,Y_test = instead_data_loaders(projects[0].get_parameters(),'test')\n",
    "\n",
    "X_test_pcg = X_test[:,:,:,0:3]/255.0\n",
    "X_test_ecg = X_test[:,:,:,3:6]/255.0\n",
    "\n",
    "for i in range(len(projects)):\n",
    "    #if i<=5:continue\n",
    "        \n",
    "    project    = projects[i]\n",
    "    model_name = str(project)+'.h5'\n",
    "    PARAMS     = project.get_parameters()\n",
    "    PARAMS['tags']=PARAMS['tags'][2:-2].strip().split(\"', '\")\n",
    "    \n",
    "    model = load_model(PARAMS['modelsave_dir']+'/'+model_name)\n",
    "    \n",
    "    y_test, y_pred=get_results(model, X_test_pcg, X_test_ecg)\n",
    "    \n",
    "    neptune.init('intelliscope/'+project_name,NEPTUNE_API_TOKEN)\n",
    "    exp = neptune.create_experiment(name=str(project),description=PARAMS['name'],params=PARAMS,tags=PARAMS['tags'],upload_stdout=True)\n",
    "    neptune_log_metrics(y_test, y_pred)\n",
    "    neptune.stop()"
   ]
  },
  {
   "cell_type": "code",
   "execution_count": null,
   "metadata": {},
   "outputs": [],
   "source": []
  }
 ],
 "metadata": {
  "kernelspec": {
   "display_name": "Python 3",
   "language": "python",
   "name": "python3"
  },
  "language_info": {
   "codemirror_mode": {
    "name": "ipython",
    "version": 3
   },
   "file_extension": ".py",
   "mimetype": "text/x-python",
   "name": "python",
   "nbconvert_exporter": "python",
   "pygments_lexer": "ipython3",
   "version": "3.6.9"
  }
 },
 "nbformat": 4,
 "nbformat_minor": 4
}
