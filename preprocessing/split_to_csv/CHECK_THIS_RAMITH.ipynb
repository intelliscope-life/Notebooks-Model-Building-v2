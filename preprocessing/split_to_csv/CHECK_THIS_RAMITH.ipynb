{
 "cells": [
  {
   "cell_type": "code",
   "execution_count": 1,
   "metadata": {},
   "outputs": [],
   "source": [
    "from get_test import get_csv_names"
   ]
  },
  {
   "cell_type": "code",
   "execution_count": 2,
   "metadata": {},
   "outputs": [],
   "source": [
    "ecg_dir='/home/ec2-user/SageMaker/datasets/Physionet2016_a/new_split_basedon_rawpcg/raw/ecg/'\n",
    "pcg_dir='/home/ec2-user/SageMaker/datasets/Physionet2016_a/new_split_basedon_rawpcg/raw/pcg/'\n",
    "\n",
    "\n",
    "a=get_csv_names('other_records.csv', ecg_dir, pcg_dir) # 'other_records.csv/ test_records.csv'\n",
    "b=get_csv_names('test_records.csv', ecg_dir, pcg_dir) # 'other_records.csv/ test_records.csv'"
   ]
  },
  {
   "cell_type": "code",
   "execution_count": 3,
   "metadata": {},
   "outputs": [
    {
     "name": "stdout",
     "output_type": "stream",
     "text": [
      "['a0001_1550_A.tiff', 'a0001_17462_A.tiff', 'a0001_25037_A.tiff', 'a0001_32256_A.tiff', 'a0001_40080_A.tiff']\n",
      "['a0126_15998_A.tiff', 'a0126_23079_A.tiff', 'a0126_273_A.tiff', 'a0126_30108_A.tiff', 'a0126_37175_A.tiff']\n"
     ]
    }
   ],
   "source": [
    "print(a[:5])\n",
    "print(b[:5])"
   ]
  },
  {
   "cell_type": "code",
   "execution_count": 5,
   "metadata": {},
   "outputs": [
    {
     "data": {
      "text/plain": [
       "3067"
      ]
     },
     "execution_count": 5,
     "metadata": {},
     "output_type": "execute_result"
    }
   ],
   "source": [
    "len(a)"
   ]
  },
  {
   "cell_type": "code",
   "execution_count": null,
   "metadata": {},
   "outputs": [],
   "source": []
  },
  {
   "cell_type": "code",
   "execution_count": 1,
   "metadata": {},
   "outputs": [],
   "source": [
    "import cv2 as cv\n",
    "import matplotlib.pyplot as plt\n",
    "import os\n",
    "import numpy as np\n",
    "import pandas as pd\n",
    "import random\n",
    "from get_test import get_csv_names\n",
    "\n"
   ]
  },
  {
   "cell_type": "code",
   "execution_count": 10,
   "metadata": {},
   "outputs": [
    {
     "name": "stdout",
     "output_type": "stream",
     "text": [
      "272 462\n"
     ]
    }
   ],
   "source": [
    "\n",
    "#Default Settings\n",
    "Dataset_path = ''\n",
    "Ignore_Blanks = True\n",
    "Read_Type = 0 \n",
    "\n",
    "\n",
    "images = []\n",
    "\n",
    "#Default Picture Crop Points\n",
    "s_x = 82;\n",
    "e_x = 544;\n",
    "s_y = 43;\n",
    "e_y = 315;\n",
    "\n",
    "size_x = e_x - s_x ;\n",
    "size_y = e_y - s_y;\n",
    "\n",
    "n = 0 \n",
    "n_cat = 3;\n",
    "\n",
    "print(size_y,size_x)\n",
    "\n",
    "def is_blank(x):\n",
    "    img = cv.imread(Dataset_path + x, 0)\n",
    "    \n",
    "    if np.sum(img[150:200,350:400])==637500:\n",
    "        return True\n",
    "    else:\n",
    "        return False\n",
    "\n",
    "def set_ignore_blanks(x):\n",
    "    global Ignore_Blanks\n",
    "    Ignore_Blanks = x\n",
    "\n",
    "def set_dataset_path(path,readtype,ignore_folder=None):\n",
    "    global Read_Type\n",
    "    Read_Type = readtype\n",
    "    \n",
    "    global Dataset_path\n",
    "    Dataset_path = path\n",
    "    \n",
    "    global images\n",
    "    form = '.tiff'\n",
    "    images = sorted(os.listdir(Dataset_path))\n",
    "    images = [image for image in images if form in image]\n",
    "    print(\" 💡 => Total images (\"+ form +\") found \",len(images))\n",
    "    \n",
    "    if(ignore_folder!=None):\n",
    "        images = [image for image in images if ignore_folder not in image]\n",
    "        print(\" ⚡️ => After ignoring folder loaded \",len(images))\n",
    "    \n",
    "    if(Ignore_Blanks):\n",
    "        images = [image for image in images if is_blank(image)==0]\n",
    "        print(\" ⚡️ => After ignoring blanks loaded \",len(images))\n",
    "\n",
    "    global n\n",
    "    n = len(images)\n",
    "    \n",
    "    cat_2_count = 0\n",
    "    \n",
    "    for i in range(0,n):\n",
    "        if images[i][-6]=='N':\n",
    "            cat_2_count = cat_2_count + 1\n",
    "        elif images[i][-6]=='A' or images[i][-6]=='O': #other or Abnormal\n",
    "            cat_2_count = cat_2_count + 1\n",
    "            \n",
    "    n = cat_2_count\n",
    "    \n",
    "    return True\n",
    "\n",
    "def show_i(x):\n",
    "    img = cv.imread(Dataset_path + images[x], 0)\n",
    "    plt.figure(figsize=(10,8), dpi=100)\n",
    "    \n",
    "    plt.imshow(img[s_y:e_y,s_x:e_x])\n",
    "    plt.xticks([])\n",
    "    plt.yticks([])\n",
    "    plt.box(False)\n",
    "    plt.show()\n",
    "    \n",
    "def show_img(x):\n",
    "    plt.figure(figsize=(10,8), dpi=100)\n",
    "    \n",
    "    plt.imshow(x)\n",
    "    plt.xticks([])\n",
    "    plt.yticks([])\n",
    "    plt.box(False)\n",
    "    plt.show()\n",
    "    \n",
    "X = None\n",
    "Y = None\n",
    "Y = None\n",
    "\n"
   ]
  },
  {
   "cell_type": "code",
   "execution_count": 52,
   "metadata": {},
   "outputs": [],
   "source": [
    "\n",
    "\n",
    "def load_hybrid_data(high_res,leave_test= False , test_set=None):\n",
    "    global s_x\n",
    "    global e_x\n",
    "    global s_y\n",
    "    global e_y\n",
    "\n",
    "    height = e_y - s_y;\n",
    "    width  = e_x - s_x\n",
    "    \n",
    "    ecg_path  = Dataset_path[:-4] + 'ecg/'\n",
    "    ecg_files = os.listdir(ecg_path)\n",
    "    \n",
    "    test_records =get_csv_names('test_records.csv', ecg_dir, Dataset_path) # 'other_records.csv/ test_records.csv'\n",
    "\n",
    "    global images\n",
    "    images = [image for image in images if image in ecg_files]\n",
    "    \n",
    "    \n",
    "    if test_set=='testset':\n",
    "        images = [image for image in images if image in test_records]\n",
    "    else:\n",
    "        images = [image for image in images if image not in test_records]\n",
    "    \n",
    "    return images\n",
    "    \n",
    "    '''\n",
    "    global n\n",
    "    n = len(images)\n",
    "    \n",
    "    m = Read_Type*3 + int(Read_Type==0)\n",
    "    e = Read_Type*6 + int(Read_Type==0)*2\n",
    "    \n",
    "    X = np.zeros(shape=(n,height,width,e),dtype=np.uint8)\n",
    "    Y = np.zeros(shape=(n))\n",
    "    Y = Y.astype('int8') \n",
    "    \n",
    "    for i in range(0,n):\n",
    "        \n",
    "        im1 = cv.imread(Dataset_path + images[i], Read_Type)\n",
    "        im2 = cv.imread(ecg_path     + images[i], Read_Type)\n",
    "        \n",
    "        im1 = im1[s_y:e_y,s_x:e_x]\n",
    "        im2 = im2[s_y:e_y,s_x:e_x]\n",
    "        \n",
    "        im1 = im1.reshape((height,width,m))\n",
    "        im2 = im2.reshape((height,width,m))\n",
    "        \n",
    "        X[i,:,:,0:m] = im1\n",
    "        X[i,:,:,m:e] = im2\n",
    "\n",
    "        if images[i][-6]=='N':\n",
    "            Y[i] = 0\n",
    "        else:\n",
    "            Y[i] = 1\n",
    "\n",
    "        if(i%1000==0):\n",
    "            print(i)       \n",
    "\n",
    "    print(str(n)+ \" Images loaded across \" + '2' + \" Categories\")  \n",
    "    \n",
    "    return n,X,Y\n",
    "    '''\n",
    "\n",
    "\n",
    "def load_data(train_percentage):\n",
    "    X = None\n",
    "    Y = None\n",
    "    \n",
    "    if(Read_Type==1):\n",
    "        X = np.zeros(shape=(n,272,462,3),dtype=np.uint8)\n",
    "        Y = np.zeros(shape=(n))\n",
    "        Y = Y.astype('int8') \n",
    "    elif(Read_Type==0):\n",
    "        X = np.zeros(shape=(n,272,462),dtype=np.uint8)\n",
    "        Y = np.zeros(shape=(n))\n",
    "        Y = Y.astype('int8')\n",
    "            \n",
    "    if(len(Dataset_path)==0):\n",
    "        print(\"Dataset path not set\")\n",
    "        return \n",
    "    \n",
    "    for i in range(0,n):\n",
    "        img = cv.imread(Dataset_path + images[i], Read_Type)\n",
    "        \n",
    "        \n",
    "        X[i]= img[s_y:e_y,s_x:e_x]\n",
    "        \n",
    "        \n",
    "        \n",
    "\n",
    "        if images[i][-6]=='N':\n",
    "            Y[i] = 0\n",
    "        else:\n",
    "            Y[i] = 1\n",
    "\n",
    "        if(i%1000==0):\n",
    "            print(i)\n",
    "\n",
    "    print(str(n)+ \" Images loaded across \" + '2' + \" Categories\")  \n",
    "    \n",
    "    return n,X,Y"
   ]
  },
  {
   "cell_type": "code",
   "execution_count": 53,
   "metadata": {},
   "outputs": [],
   "source": [
    "NEPTUNE_API_TOKEN=\"eyJhcGlfYWRkcmVzcyI6Imh0dHBzOi8vdWkubmVwdHVuZS5haSIsImFwaV91cmwiOiJodHRwczovL3VpLm5lcHR1bmUuYWkiLCJhcGlfa2V5IjoiNjBlODllY2ItMDcyZC00OGNmLThjZWYtZjM2MjE4Y2M5ZDM0In0=\"\n",
    "PARAMS = {'ignore_blanks' : True,\n",
    "          'epochs' : 8,\n",
    "         'validation_split':0.2,\n",
    "         'batch_size' : 20,\n",
    "         'train_test_split':0.8,\n",
    "         'dense_layers':80,\n",
    "          'dropout':0.1,\n",
    "         'dataset_path': '/home/ec2-user/SageMaker/datasets/Physionet2016_a/new_split_basedon_rawpcg/raw/pcg/',\n",
    "         'image_type' : 'rgb',\n",
    "         'im_type':6,\n",
    "         'Read_Type':1,\n",
    "          'data_balanced':False,\n",
    "         }"
   ]
  },
  {
   "cell_type": "code",
   "execution_count": 58,
   "metadata": {},
   "outputs": [
    {
     "name": "stdout",
     "output_type": "stream",
     "text": [
      " 💡 => Total images (.tiff) found  3496\n",
      " ⚡️ => After ignoring blanks loaded  3350\n"
     ]
    }
   ],
   "source": [
    "p = 0.8\n",
    "set_ignore_blanks(True)\n",
    "set_dataset_path(PARAMS['dataset_path'],PARAMS['Read_Type'])\n",
    "\n",
    "\n",
    "names = load_hybrid_data(False ,leave_test= True)\n",
    "\n"
   ]
  },
  {
   "cell_type": "code",
   "execution_count": 59,
   "metadata": {},
   "outputs": [
    {
     "data": {
      "text/plain": [
       "False"
      ]
     },
     "execution_count": 59,
     "metadata": {},
     "output_type": "execute_result"
    }
   ],
   "source": [
    "names ==sorted(b)\n"
   ]
  },
  {
   "cell_type": "code",
   "execution_count": 63,
   "metadata": {},
   "outputs": [],
   "source": [
    "xx = [aa for aa in a if aa not in names]"
   ]
  },
  {
   "cell_type": "code",
   "execution_count": 64,
   "metadata": {},
   "outputs": [
    {
     "data": {
      "text/plain": [
       "146"
      ]
     },
     "execution_count": 64,
     "metadata": {},
     "output_type": "execute_result"
    }
   ],
   "source": [
    "len(xx)"
   ]
  },
  {
   "cell_type": "code",
   "execution_count": null,
   "metadata": {},
   "outputs": [],
   "source": []
  },
  {
   "cell_type": "code",
   "execution_count": 49,
   "metadata": {},
   "outputs": [
    {
     "data": {
      "text/plain": [
       "True"
      ]
     },
     "execution_count": 49,
     "metadata": {},
     "output_type": "execute_result"
    }
   ],
   "source": [
    "sorted(b)==names"
   ]
  },
  {
   "cell_type": "code",
   "execution_count": 7,
   "metadata": {},
   "outputs": [],
   "source": []
  },
  {
   "cell_type": "code",
   "execution_count": 9,
   "metadata": {},
   "outputs": [],
   "source": []
  },
  {
   "cell_type": "code",
   "execution_count": 152,
   "metadata": {},
   "outputs": [],
   "source": [
    "def select_records(x):\n",
    "    records = np.array(pd.read_csv('REFERENCE.csv'))[:,]  \n",
    "\n",
    "    abnormal_records = []\n",
    "    normal_records   = []\n",
    "\n",
    "    for i in range(0,len(records)):\n",
    "        if(records[i][1]==-1):\n",
    "            normal_records.append(records[i][0])\n",
    "        else:\n",
    "            abnormal_records.append(records[i][0])\n",
    "\n",
    "    random.seed(x)\n",
    "    abnormal_records_selected = random.sample(abnormal_records, k=len(normal_records))\n",
    "    \n",
    "    return normal_records,abnormal_records_selected\n",
    "\n"
   ]
  },
  {
   "cell_type": "code",
   "execution_count": 153,
   "metadata": {},
   "outputs": [],
   "source": [
    "n_r,a_r = select_records(120)"
   ]
  },
  {
   "cell_type": "code",
   "execution_count": 154,
   "metadata": {},
   "outputs": [],
   "source": [
    "images = sorted(os.listdir('/home/ec2-user/SageMaker/datasets/Physionet2016_a/new_split_basedon_rawpcg/raw/pcg/'))\n",
    "images = [image for image in images if 'tiff' in image]"
   ]
  },
  {
   "cell_type": "code",
   "execution_count": null,
   "metadata": {},
   "outputs": [],
   "source": []
  },
  {
   "cell_type": "code",
   "execution_count": 155,
   "metadata": {},
   "outputs": [
    {
     "data": {
      "text/plain": [
       "2001"
      ]
     },
     "execution_count": 155,
     "metadata": {},
     "output_type": "execute_result"
    }
   ],
   "source": [
    "len(c_images)"
   ]
  },
  {
   "cell_type": "code",
   "execution_count": 156,
   "metadata": {},
   "outputs": [
    {
     "data": {
      "text/plain": [
       "3496"
      ]
     },
     "execution_count": 156,
     "metadata": {},
     "output_type": "execute_result"
    }
   ],
   "source": [
    "len(images)"
   ]
  },
  {
   "cell_type": "code",
   "execution_count": 157,
   "metadata": {},
   "outputs": [
    {
     "name": "stdout",
     "output_type": "stream",
     "text": [
      "1495\n",
      "2001\n"
     ]
    }
   ],
   "source": [
    "count = 0 \n",
    "\n",
    "\n",
    "\n",
    "c_images = images[:]\n",
    "\n",
    "for i in range(0,len(images)):\n",
    "    rec = images[i][0:5]\n",
    "    if(not(rec in n_r or rec in a_r)):\n",
    "        c_images.remove(images[i])\n",
    "        count = count + 1\n",
    "    \n",
    "        \n",
    "print(count)\n",
    "print(len(c_images))"
   ]
  },
  {
   "cell_type": "code",
   "execution_count": 114,
   "metadata": {},
   "outputs": [
    {
     "data": {
      "text/plain": [
       "117"
      ]
     },
     "execution_count": 114,
     "metadata": {},
     "output_type": "execute_result"
    }
   ],
   "source": [
    "len(abnormal_records_selected)"
   ]
  },
  {
   "cell_type": "code",
   "execution_count": 115,
   "metadata": {},
   "outputs": [
    {
     "data": {
      "text/plain": [
       "117"
      ]
     },
     "execution_count": 115,
     "metadata": {},
     "output_type": "execute_result"
    }
   ],
   "source": [
    "len(set(abnormal_records_selected))"
   ]
  },
  {
   "cell_type": "code",
   "execution_count": 116,
   "metadata": {},
   "outputs": [
    {
     "data": {
      "text/plain": [
       "['a0002',\n",
       " 'a0003',\n",
       " 'a0010',\n",
       " 'a0018',\n",
       " 'a0021',\n",
       " 'a0022',\n",
       " 'a0031',\n",
       " 'a0033',\n",
       " 'a0039',\n",
       " 'a0041',\n",
       " 'a0048',\n",
       " 'a0051',\n",
       " 'a0052',\n",
       " 'a0056',\n",
       " 'a0057',\n",
       " 'a0062',\n",
       " 'a0064',\n",
       " 'a0066',\n",
       " 'a0072',\n",
       " 'a0075',\n",
       " 'a0076',\n",
       " 'a0077',\n",
       " 'a0078',\n",
       " 'a0083',\n",
       " 'a0084',\n",
       " 'a0090',\n",
       " 'a0095',\n",
       " 'a0096',\n",
       " 'a0100',\n",
       " 'a0101',\n",
       " 'a0107',\n",
       " 'a0110',\n",
       " 'a0117',\n",
       " 'a0119',\n",
       " 'a0120',\n",
       " 'a0121',\n",
       " 'a0122',\n",
       " 'a0126',\n",
       " 'a0128',\n",
       " 'a0130',\n",
       " 'a0132',\n",
       " 'a0135',\n",
       " 'a0137',\n",
       " 'a0138',\n",
       " 'a0143',\n",
       " 'a0145',\n",
       " 'a0149',\n",
       " 'a0150',\n",
       " 'a0152',\n",
       " 'a0157',\n",
       " 'a0160',\n",
       " 'a0167',\n",
       " 'a0170',\n",
       " 'a0172',\n",
       " 'a0175',\n",
       " 'a0177',\n",
       " 'a0180',\n",
       " 'a0188',\n",
       " 'a0190',\n",
       " 'a0194',\n",
       " 'a0197',\n",
       " 'a0198',\n",
       " 'a0200',\n",
       " 'a0203',\n",
       " 'a0206',\n",
       " 'a0207',\n",
       " 'a0213',\n",
       " 'a0215',\n",
       " 'a0216',\n",
       " 'a0217',\n",
       " 'a0218',\n",
       " 'a0219',\n",
       " 'a0225',\n",
       " 'a0226',\n",
       " 'a0230',\n",
       " 'a0232',\n",
       " 'a0239',\n",
       " 'a0247',\n",
       " 'a0252',\n",
       " 'a0255',\n",
       " 'a0258',\n",
       " 'a0260',\n",
       " 'a0263',\n",
       " 'a0265',\n",
       " 'a0269',\n",
       " 'a0273',\n",
       " 'a0276',\n",
       " 'a0277',\n",
       " 'a0280',\n",
       " 'a0284',\n",
       " 'a0292',\n",
       " 'a0303',\n",
       " 'a0306',\n",
       " 'a0307',\n",
       " 'a0308',\n",
       " 'a0312',\n",
       " 'a0315',\n",
       " 'a0316',\n",
       " 'a0322',\n",
       " 'a0326',\n",
       " 'a0327',\n",
       " 'a0336',\n",
       " 'a0348',\n",
       " 'a0362',\n",
       " 'a0363',\n",
       " 'a0366',\n",
       " 'a0368',\n",
       " 'a0369',\n",
       " 'a0372',\n",
       " 'a0375',\n",
       " 'a0378',\n",
       " 'a0380',\n",
       " 'a0391',\n",
       " 'a0394',\n",
       " 'a0395',\n",
       " 'a0397',\n",
       " 'a0400']"
      ]
     },
     "execution_count": 116,
     "metadata": {},
     "output_type": "execute_result"
    }
   ],
   "source": [
    "sorted(abnormal_records_selected)"
   ]
  },
  {
   "cell_type": "code",
   "execution_count": null,
   "metadata": {},
   "outputs": [],
   "source": []
  }
 ],
 "metadata": {
  "kernelspec": {
   "display_name": "conda_pytorch_p36",
   "language": "python",
   "name": "conda_pytorch_p36"
  },
  "language_info": {
   "codemirror_mode": {
    "name": "ipython",
    "version": 3
   },
   "file_extension": ".py",
   "mimetype": "text/x-python",
   "name": "python",
   "nbconvert_exporter": "python",
   "pygments_lexer": "ipython3",
   "version": "3.6.10"
  }
 },
 "nbformat": 4,
 "nbformat_minor": 4
}
