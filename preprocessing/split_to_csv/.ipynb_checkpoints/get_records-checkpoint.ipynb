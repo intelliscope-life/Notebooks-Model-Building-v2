{
 "cells": [
  {
   "cell_type": "code",
   "execution_count": 1,
   "metadata": {},
   "outputs": [],
   "source": [
    "\n",
    "import sys\n",
    "import numpy as np\n",
    "import os\n",
    "import pandas as pd\n",
    "from shutil import copyfile,copy\n",
    "import random\n",
    "\n",
    "sys.path.append('/home/ubuntu/intelliscope/modules')\n",
    "\n",
    "import intelliscope\n",
    "from intelliscope import SelectDataset\n",
    "\n",
    "\n",
    "#!rm -rf /home/ubuntu/intelliscope/for_dataloaders/waveletcomb1\n",
    "\n",
    "#for file in os.listdir('/home/ubuntu/intelliscope/notebooks/physionet2016/pcg_ecg/preprocessing/split_to_csv'):\n",
    "#    if file[-3:]=='csv':\n",
    "#        os.remove('/home/ubuntu/intelliscope/notebooks/physionet2016/pcg_ecg/preprocessing/split_to_csv/'+file)\n"
   ]
  },
  {
   "cell_type": "code",
   "execution_count": 2,
   "metadata": {},
   "outputs": [],
   "source": [
    "PARAMS={\n",
    "    'dataset_no':2, #0,1,2\n",
    "    'balanced':True, #True, False\n",
    "}"
   ]
  },
  {
   "cell_type": "markdown",
   "metadata": {},
   "source": [
    "## Get records"
   ]
  },
  {
   "cell_type": "code",
   "execution_count": 3,
   "metadata": {},
   "outputs": [],
   "source": [
    "if PARAMS['dataset_no']==0 or PARAMS['dataset_no']==1:\n",
    "    PARAMS['file_extention']='.tiff'\n",
    "elif PARAMS['dataset_no']==2:\n",
    "    PARAMS['file_extention']='.png'"
   ]
  },
  {
   "cell_type": "code",
   "execution_count": null,
   "metadata": {},
   "outputs": [],
   "source": [
    "[dir1,dir2] = SelectDataset(PARAMS['dataset_no'])\n",
    "balanced=PARAMS['balanced']\n",
    "\n",
    "\n",
    "\n",
    "all_names = intelliscope.GetImageNames(dir1, dir2,PARAMS['file_extention'])\n",
    "print(len(all_names))\n",
    "records = {}\n",
    "\n",
    "printed = False\n",
    "\n",
    "for name in all_names:\n",
    "    type_ = name[-(len(PARAMS['file_extention'])+1)]\n",
    "    if(type_!='A' and type_!='N'): #and type_!='O' and type_!='~'): #checking if the type is one of these\n",
    "        #print(\"ignoring\",name)\n",
    "        continue\n",
    "    \n",
    "    \n",
    "    rec_name = \"\"\n",
    "    if(name[0]=='e' or name[0]=='A'):\n",
    "        rec_name = name[:6]\n",
    "        if(not(printed)):\n",
    "            print(rec_name)\n",
    "            printed = True\n",
    "    else: \n",
    "        rec_name = name[:5]    \n",
    "\n",
    "    \n",
    "    label    = int(type_=='A')# or type_=='O' or type_=='~')\n",
    "    \n",
    "    records[rec_name] = label"
   ]
  },
  {
   "cell_type": "markdown",
   "metadata": {},
   "source": [
    "## Split records"
   ]
  },
  {
   "cell_type": "code",
   "execution_count": 5,
   "metadata": {},
   "outputs": [
    {
     "name": "stdout",
     "output_type": "stream",
     "text": [
      "757 5068\n",
      "757 757\n"
     ]
    }
   ],
   "source": [
    "random.seed(10)\n",
    "\n",
    "records_A = np.array(sorted([[key,1] for key in records if records[key]==1]))\n",
    "records_N = np.array(sorted([[key,0] for key in records if records[key]==0]))\n",
    "\n",
    "min_=min(len(list(records_A)),len(list(records_N)))\n",
    "print(len(records_A), len(records_N))\n",
    "#print(np.sort(records_A, axis=0)[:10],'\\n\\n',np.sort(records_N, axis=0)[:10])\n",
    "\n",
    "if balanced==True:\n",
    "    records_A = records_A[np.random.choice(len(records_A), min_, replace=False)]\n",
    "    records_N = records_N[np.random.choice(len(records_N), min_, replace=False)]\n",
    "print(len(records_A), len(records_N))\n",
    "#print('\\n\\n\\n',np.sort(records_A, axis=0)[:10],'\\n\\n', np.sort(records_N, axis=0)[:10])\n",
    "\n",
    "\n",
    "from random import shuffle\n",
    "\n",
    "idsA = list(range(0, len(records_A)))\n",
    "shuffle(idsA)\n",
    "lenA = len(idsA)\n",
    "records_test_A  = records_A[idsA[:int(lenA*0.2)]]\n",
    "records_val_A   = records_A[idsA[int(lenA*0.2):int(lenA*0.3)]]\n",
    "records_train_A = records_A[idsA[int(lenA*0.3):]]\n",
    "\n",
    "idsN = list(range(0, len(records_N)))\n",
    "shuffle(idsN)\n",
    "lenN = len(idsN)\n",
    "records_test_N  = records_N[idsN[:int(lenN*0.2)]]\n",
    "records_val_N   = records_N[idsN[int(lenN*0.2):int(lenN*0.3)]]\n",
    "records_train_N = records_N[idsN[int(lenN*0.3):]]\n",
    "\n",
    "records_val     =  sorted(np.concatenate([records_val_A,records_val_N]),key=lambda a_entry: a_entry[0])\n",
    "records_test    =  sorted(np.concatenate([records_test_A,records_test_N]),key=lambda a_entry: a_entry[0])\n",
    "records_train   =  sorted(np.concatenate([records_train_A,records_train_N]),key=lambda a_entry: a_entry[0])\n"
   ]
  },
  {
   "cell_type": "markdown",
   "metadata": {},
   "source": [
    "## Save split records"
   ]
  },
  {
   "cell_type": "code",
   "execution_count": 6,
   "metadata": {},
   "outputs": [
    {
     "name": "stdout",
     "output_type": "stream",
     "text": [
      "=> in test  302\n",
      "=> in val  152\n",
      "=> in train  1060\n",
      "saving... : records-dataNotA-ecg-balanced-train.csv\n",
      "saving... : records-dataNotA-ecg-balanced-val.csv\n",
      "saving... : records-dataNotA-ecg-balanced-test.csv\n"
     ]
    }
   ],
   "source": [
    "\n",
    "print(\"=> in test \",len(records_test))\n",
    "print(\"=> in val \",len(records_val))\n",
    "print(\"=> in train \",len(records_train))\n",
    "\n",
    "record_test_pd  = pd.DataFrame(records_test)\n",
    "record_val_pd   = pd.DataFrame(records_val)\n",
    "record_train_pd = pd.DataFrame(records_train)\n",
    "\n",
    "ids = PARAMS['dataset_no']\n",
    "\n",
    "def get_dataset_name(ids):\n",
    "    if ids==0:return 'dataA-pcg-ecg'\n",
    "    if ids==1:return 'dataNotA-pcg'\n",
    "    if ids==2:return 'dataNotA-ecg'\n",
    "is_balanced=['imbalanced', 'balanced']\n",
    "\n",
    "print(f'saving... : records-{get_dataset_name(ids)}-{is_balanced[balanced]}-train.csv')\n",
    "print(f'saving... : records-{get_dataset_name(ids)}-{is_balanced[balanced]}-val.csv')\n",
    "print(f'saving... : records-{get_dataset_name(ids)}-{is_balanced[balanced]}-test.csv')\n",
    "\n",
    "record_train_pd.to_csv(f'records-{get_dataset_name(ids)}-{is_balanced[balanced]}-train.csv')\n",
    "record_val_pd.to_csv(f'records-{get_dataset_name(ids)}-{is_balanced[balanced]}-val.csv')\n",
    "record_test_pd.to_csv(f'records-{get_dataset_name(ids)}-{is_balanced[balanced]}-test.csv')\n"
   ]
  },
  {
   "cell_type": "code",
   "execution_count": 7,
   "metadata": {},
   "outputs": [],
   "source": [
    "datasets=[dir1, dir2]\n",
    "#datasets=[dir1, None]\n",
    "\n",
    "datasettype=['dataA', 'dataNotA']\n",
    "balanced_arr=['imbalanced', 'balanced']\n",
    "\n",
    "paths=[]\n",
    "base = '/home/ubuntu/intelliscope/'\n",
    "\n",
    "c = 0\n",
    "for dir_ in datasets:\n",
    "    if dir_==\"\" or dir_==None:\n",
    "        break\n",
    "    dir_items=dir_.strip().split('/')\n",
    "    wavelet=dir_items[-2]\n",
    "    pcgecg=dir_items[-3]\n",
    "    datasetAorNot= datasettype[int('training-a'!=dir_items[-5])]\n",
    "    balanced=PARAMS['balanced']\n",
    "    \n",
    "    files = os.listdir(dir_)\n",
    "    \n",
    "    #\n",
    "    path=f'for_dataloaders/waveletcomb1/{datasetAorNot}/{pcgecg}/{balanced_arr[balanced]}/'\n",
    "    \n",
    "    record_list=[records_train_A,records_train_N,records_val_A,records_val_N,records_test_A,records_test_N]\n",
    "    k = 0;\n",
    "    for type_ in ['train', 'val', 'test']:\n",
    "        for i in range(1,-1,-1):\n",
    "            #print(k)\n",
    "            paths.append(path+type_+'/'+str(i))\n",
    "            \n",
    "            \n",
    "            for file in files:\n",
    "                src = dir_ + file\n",
    "                \n",
    "                if(file[0]=='e' or file[0]=='A'):\n",
    "                    if(file[:6] in record_list[k]):\n",
    "                        dst = base+path+type_+'/'+str(i)+'/'\n",
    "                        os.makedirs(os.path.dirname(dst), exist_ok=True)\n",
    "                        copy(src,dst)\n",
    "                        c+=1\n",
    "                else:\n",
    "                    if(file[:5] in record_list[k]):\n",
    "                        dst = base+path+type_+'/'+str(i)+'/'\n",
    "                        os.makedirs(os.path.dirname(dst), exist_ok=True)\n",
    "                        copy(src,dst)\n",
    "                        c+=1\n",
    "                \n",
    "            #print(paths[-1])\n",
    "            k+=1"
   ]
  },
  {
   "cell_type": "code",
   "execution_count": 8,
   "metadata": {},
   "outputs": [
    {
     "data": {
      "text/plain": [
       "\"\\nfor i in range(6):\\n    for \\n    \\n    \\n\\nfor file in base_path:\\n    src = ecg_dir + file\\n    if(file[:5] in records_test_A):\\n        copy(src,'/home/ubuntu/intelliscope/datasets/PhysioNet2016/preprocessed/training-a/original/ecg/01-cmor1.5-1.0_test/1/')\\n        c+=1\\n    if(file[:5] in records_test_N):\\n        copy(src,'/home/ubuntu/intelliscope/datasets/PhysioNet2016/preprocessed/training-a/original/ecg/01-cmor1.5-1.0_test/0/')\\n        c+=1\\n    if(file[:5] in records_train_A):\\n        copy(src,'/home/ubuntu/intelliscope/datasets/PhysioNet2016/preprocessed/training-a/original/ecg/01-cmor1.5-1.0_train/1/')\\n        c+=1\\n    if(file[:5] in records_train_N):\\n        copy(src,'/home/ubuntu/intelliscope/datasets/PhysioNet2016/preprocessed/training-a/original/ecg/01-cmor1.5-1.0_train/0/')\\n        c+=1\\n\""
      ]
     },
     "execution_count": 8,
     "metadata": {},
     "output_type": "execute_result"
    }
   ],
   "source": [
    "'''\n",
    "AorN=[1,0,1,0,1,0]\n",
    "record_list=[records_train_A,records_train_N,records_val_A,records_val_N,records_test_A,records_test_N]\n",
    "traintestval=['train', 'train','val', 'val', 'test', 'test']\n",
    "\n",
    "\n",
    "k = 0\n",
    "files = os.listdir(dir1)\n",
    "\n",
    "\n",
    "for i in range(0,len(paths)):\n",
    "    if(i%3==0):\n",
    "        k=0\n",
    "    for j in range(0,2):\n",
    "        \n",
    "        for file in files:\n",
    "            if file[:5] in record_list[k]:\n",
    "                #copy\n",
    "                path = paths[i] + '/' + AorK[k] + '/'\n",
    "        #print(i,k)\n",
    "        print(paths[i],AorN[k])\n",
    "        k +=1\n",
    "        \n",
    "'''  \n",
    "    \n",
    "'''\n",
    "for i in range(6):\n",
    "    for \n",
    "    \n",
    "    \n",
    "\n",
    "for file in base_path:\n",
    "    src = ecg_dir + file\n",
    "    if(file[:5] in records_test_A):\n",
    "        copy(src,'/home/ubuntu/intelliscope/datasets/PhysioNet2016/preprocessed/training-a/original/ecg/01-cmor1.5-1.0_test/1/')\n",
    "        c+=1\n",
    "    if(file[:5] in records_test_N):\n",
    "        copy(src,'/home/ubuntu/intelliscope/datasets/PhysioNet2016/preprocessed/training-a/original/ecg/01-cmor1.5-1.0_test/0/')\n",
    "        c+=1\n",
    "    if(file[:5] in records_train_A):\n",
    "        copy(src,'/home/ubuntu/intelliscope/datasets/PhysioNet2016/preprocessed/training-a/original/ecg/01-cmor1.5-1.0_train/1/')\n",
    "        c+=1\n",
    "    if(file[:5] in records_train_N):\n",
    "        copy(src,'/home/ubuntu/intelliscope/datasets/PhysioNet2016/preprocessed/training-a/original/ecg/01-cmor1.5-1.0_train/0/')\n",
    "        c+=1\n",
    "'''"
   ]
  },
  {
   "cell_type": "code",
   "execution_count": null,
   "metadata": {},
   "outputs": [],
   "source": []
  },
  {
   "cell_type": "code",
   "execution_count": null,
   "metadata": {},
   "outputs": [],
   "source": []
  },
  {
   "cell_type": "code",
   "execution_count": 9,
   "metadata": {},
   "outputs": [
    {
     "data": {
      "text/plain": [
       "\"\\nbase_path = os.listdir(ecg_dir)\\n\\nos.mkdir('/home/ubuntu/intelliscope/datasets/PhysioNet2016/preprocessed/training-a/original/ecg/01-cmor1.5-1.0_test/1/')\\nos.mkdir('/home/ubuntu/intelliscope/datasets/PhysioNet2016/preprocessed/training-a/original/ecg/01-cmor1.5-1.0_test/0/')\\nos.mkdir('/home/ubuntu/intelliscope/datasets/PhysioNet2016/preprocessed/training-a/original/ecg/01-cmor1.5-1.0_train/1/')\\nos.mkdir('/home/ubuntu/intelliscope/datasets/PhysioNet2016/preprocessed/training-a/original/ecg/01-cmor1.5-1.0_train/0/')\\n                              \\n\\nfor file in base_path:\\n    src = ecg_dir + file\\n    if(file[:5] in records_test_A):\\n        copy(src,'/home/ubuntu/intelliscope/datasets/PhysioNet2016/preprocessed/training-a/original/ecg/01-cmor1.5-1.0_test/1/')\\n        c+=1\\n    if(file[:5] in records_test_N):\\n        copy(src,'/home/ubuntu/intelliscope/datasets/PhysioNet2016/preprocessed/training-a/original/ecg/01-cmor1.5-1.0_test/0/')\\n        c+=1\\n    if(file[:5] in records_train_A):\\n        copy(src,'/home/ubuntu/intelliscope/datasets/PhysioNet2016/preprocessed/training-a/original/ecg/01-cmor1.5-1.0_train/1/')\\n        c+=1\\n    if(file[:5] in records_train_N):\\n        copy(src,'/home/ubuntu/intelliscope/datasets/PhysioNet2016/preprocessed/training-a/original/ecg/01-cmor1.5-1.0_train/0/')\\n        c+=1\\n        \\n\""
      ]
     },
     "execution_count": 9,
     "metadata": {},
     "output_type": "execute_result"
    }
   ],
   "source": [
    "#c = 0 \n",
    "\n",
    "'''\n",
    "base_path = os.listdir(ecg_dir)\n",
    "\n",
    "os.mkdir('/home/ubuntu/intelliscope/datasets/PhysioNet2016/preprocessed/training-a/original/ecg/01-cmor1.5-1.0_test/1/')\n",
    "os.mkdir('/home/ubuntu/intelliscope/datasets/PhysioNet2016/preprocessed/training-a/original/ecg/01-cmor1.5-1.0_test/0/')\n",
    "os.mkdir('/home/ubuntu/intelliscope/datasets/PhysioNet2016/preprocessed/training-a/original/ecg/01-cmor1.5-1.0_train/1/')\n",
    "os.mkdir('/home/ubuntu/intelliscope/datasets/PhysioNet2016/preprocessed/training-a/original/ecg/01-cmor1.5-1.0_train/0/')\n",
    "                              \n",
    "\n",
    "for file in base_path:\n",
    "    src = ecg_dir + file\n",
    "    if(file[:5] in records_test_A):\n",
    "        copy(src,'/home/ubuntu/intelliscope/datasets/PhysioNet2016/preprocessed/training-a/original/ecg/01-cmor1.5-1.0_test/1/')\n",
    "        c+=1\n",
    "    if(file[:5] in records_test_N):\n",
    "        copy(src,'/home/ubuntu/intelliscope/datasets/PhysioNet2016/preprocessed/training-a/original/ecg/01-cmor1.5-1.0_test/0/')\n",
    "        c+=1\n",
    "    if(file[:5] in records_train_A):\n",
    "        copy(src,'/home/ubuntu/intelliscope/datasets/PhysioNet2016/preprocessed/training-a/original/ecg/01-cmor1.5-1.0_train/1/')\n",
    "        c+=1\n",
    "    if(file[:5] in records_train_N):\n",
    "        copy(src,'/home/ubuntu/intelliscope/datasets/PhysioNet2016/preprocessed/training-a/original/ecg/01-cmor1.5-1.0_train/0/')\n",
    "        c+=1\n",
    "        \n",
    "'''"
   ]
  },
  {
   "cell_type": "code",
   "execution_count": null,
   "metadata": {},
   "outputs": [],
   "source": []
  },
  {
   "cell_type": "code",
   "execution_count": null,
   "metadata": {},
   "outputs": [],
   "source": []
  }
 ],
 "metadata": {
  "kernelspec": {
   "display_name": "Python 3",
   "language": "python",
   "name": "python3"
  },
  "language_info": {
   "codemirror_mode": {
    "name": "ipython",
    "version": 3
   },
   "file_extension": ".py",
   "mimetype": "text/x-python",
   "name": "python",
   "nbconvert_exporter": "python",
   "pygments_lexer": "ipython3",
   "version": "3.6.9"
  }
 },
 "nbformat": 4,
 "nbformat_minor": 4
}
